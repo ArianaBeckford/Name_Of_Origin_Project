{
 "cells": [
  {
   "cell_type": "markdown",
   "metadata": {},
   "source": [
    "## Cleaning"
   ]
  },
  {
   "cell_type": "code",
   "execution_count": 95,
   "metadata": {},
   "outputs": [
    {
     "data": {
      "text/html": [
       "<div>\n",
       "<style scoped>\n",
       "    .dataframe tbody tr th:only-of-type {\n",
       "        vertical-align: middle;\n",
       "    }\n",
       "\n",
       "    .dataframe tbody tr th {\n",
       "        vertical-align: top;\n",
       "    }\n",
       "\n",
       "    .dataframe thead th {\n",
       "        text-align: right;\n",
       "    }\n",
       "</style>\n",
       "<table border=\"1\" class=\"dataframe\">\n",
       "  <thead>\n",
       "    <tr style=\"text-align: right;\">\n",
       "      <th></th>\n",
       "      <th>name</th>\n",
       "      <th>class</th>\n",
       "      <th>lang</th>\n",
       "    </tr>\n",
       "  </thead>\n",
       "  <tbody>\n",
       "    <tr>\n",
       "      <th>0</th>\n",
       "      <td>The Canal of the Angels</td>\n",
       "      <td>0</td>\n",
       "      <td>en</td>\n",
       "    </tr>\n",
       "    <tr>\n",
       "      <th>1</th>\n",
       "      <td>Rescue Renovation</td>\n",
       "      <td>0</td>\n",
       "      <td>en</td>\n",
       "    </tr>\n",
       "    <tr>\n",
       "      <th>2</th>\n",
       "      <td>Agatha Christie: The ABC Murders</td>\n",
       "      <td>0</td>\n",
       "      <td>en</td>\n",
       "    </tr>\n",
       "    <tr>\n",
       "      <th>3</th>\n",
       "      <td>Siti Akbari</td>\n",
       "      <td>0</td>\n",
       "      <td>ar</td>\n",
       "    </tr>\n",
       "    <tr>\n",
       "      <th>4</th>\n",
       "      <td>Stany</td>\n",
       "      <td>0</td>\n",
       "      <td>pl</td>\n",
       "    </tr>\n",
       "    <tr>\n",
       "      <th>...</th>\n",
       "      <td>...</td>\n",
       "      <td>...</td>\n",
       "      <td>...</td>\n",
       "    </tr>\n",
       "    <tr>\n",
       "      <th>199995</th>\n",
       "      <td>Robber's Bridge</td>\n",
       "      <td>0</td>\n",
       "      <td>en</td>\n",
       "    </tr>\n",
       "    <tr>\n",
       "      <th>199996</th>\n",
       "      <td>Johan Renck</td>\n",
       "      <td>0</td>\n",
       "      <td>en</td>\n",
       "    </tr>\n",
       "    <tr>\n",
       "      <th>199997</th>\n",
       "      <td>Lyle Stewart</td>\n",
       "      <td>1</td>\n",
       "      <td>en</td>\n",
       "    </tr>\n",
       "    <tr>\n",
       "      <th>199998</th>\n",
       "      <td>Thomas Colclough Watson</td>\n",
       "      <td>1</td>\n",
       "      <td>en</td>\n",
       "    </tr>\n",
       "    <tr>\n",
       "      <th>199999</th>\n",
       "      <td>Gavà</td>\n",
       "      <td>0</td>\n",
       "      <td>ca</td>\n",
       "    </tr>\n",
       "  </tbody>\n",
       "</table>\n",
       "<p>200000 rows × 3 columns</p>\n",
       "</div>"
      ],
      "text/plain": [
       "                                    name  class lang\n",
       "0                The Canal of the Angels      0   en\n",
       "1                      Rescue Renovation      0   en\n",
       "2       Agatha Christie: The ABC Murders      0   en\n",
       "3                            Siti Akbari      0   ar\n",
       "4                                  Stany      0   pl\n",
       "...                                  ...    ...  ...\n",
       "199995                   Robber's Bridge      0   en\n",
       "199996                       Johan Renck      0   en\n",
       "199997                      Lyle Stewart      1   en\n",
       "199998           Thomas Colclough Watson      1   en\n",
       "199999                              Gavà      0   ca\n",
       "\n",
       "[200000 rows x 3 columns]"
      ]
     },
     "execution_count": 95,
     "metadata": {},
     "output_type": "execute_result"
    }
   ],
   "source": [
    "import pandas as pd\n",
    "df = pd.read_csv(\"company_person_name_dataset.csv\")\n",
    "df"
   ]
  },
  {
   "cell_type": "code",
   "execution_count": 96,
   "metadata": {},
   "outputs": [],
   "source": [
    "df = df[df[\"class\"]==1]\n",
    "#look into smote for imbalance"
   ]
  },
  {
   "cell_type": "code",
   "execution_count": 97,
   "metadata": {},
   "outputs": [],
   "source": [
    "import numpy as np"
   ]
  },
  {
   "cell_type": "code",
   "execution_count": 98,
   "metadata": {},
   "outputs": [
    {
     "name": "stdout",
     "output_type": "stream",
     "text": [
      "True\n",
      "False\n",
      "False\n"
     ]
    }
   ],
   "source": [
    "print(np.any(df[\"name\"].isnull()))\n",
    "print(np.any(df[\"class\"].isnull()))\n",
    "print(np.any(df[\"lang\"].isnull()))"
   ]
  },
  {
   "cell_type": "code",
   "execution_count": 99,
   "metadata": {},
   "outputs": [
    {
     "name": "stdout",
     "output_type": "stream",
     "text": [
      "48190\n"
     ]
    }
   ],
   "source": [
    "print(len(df.isnull()))"
   ]
  },
  {
   "cell_type": "code",
   "execution_count": 100,
   "metadata": {},
   "outputs": [],
   "source": [
    "df = df.dropna()"
   ]
  },
  {
   "cell_type": "code",
   "execution_count": 101,
   "metadata": {},
   "outputs": [
    {
     "data": {
      "text/html": [
       "<div>\n",
       "<style scoped>\n",
       "    .dataframe tbody tr th:only-of-type {\n",
       "        vertical-align: middle;\n",
       "    }\n",
       "\n",
       "    .dataframe tbody tr th {\n",
       "        vertical-align: top;\n",
       "    }\n",
       "\n",
       "    .dataframe thead th {\n",
       "        text-align: right;\n",
       "    }\n",
       "</style>\n",
       "<table border=\"1\" class=\"dataframe\">\n",
       "  <thead>\n",
       "    <tr style=\"text-align: right;\">\n",
       "      <th></th>\n",
       "      <th>name</th>\n",
       "      <th>class</th>\n",
       "      <th>lang</th>\n",
       "    </tr>\n",
       "  </thead>\n",
       "  <tbody>\n",
       "    <tr>\n",
       "      <th>11</th>\n",
       "      <td>Raha Etemadi</td>\n",
       "      <td>1</td>\n",
       "      <td>et</td>\n",
       "    </tr>\n",
       "    <tr>\n",
       "      <th>12</th>\n",
       "      <td>Leena Peltonen-Palotie</td>\n",
       "      <td>1</td>\n",
       "      <td>fi</td>\n",
       "    </tr>\n",
       "    <tr>\n",
       "      <th>16</th>\n",
       "      <td>Luma Grothe</td>\n",
       "      <td>1</td>\n",
       "      <td>en</td>\n",
       "    </tr>\n",
       "    <tr>\n",
       "      <th>20</th>\n",
       "      <td>Takuya Kakine</td>\n",
       "      <td>1</td>\n",
       "      <td>ja</td>\n",
       "    </tr>\n",
       "    <tr>\n",
       "      <th>21</th>\n",
       "      <td>Ōuyáng Zhènhuá</td>\n",
       "      <td>1</td>\n",
       "      <td>mi</td>\n",
       "    </tr>\n",
       "    <tr>\n",
       "      <th>...</th>\n",
       "      <td>...</td>\n",
       "      <td>...</td>\n",
       "      <td>...</td>\n",
       "    </tr>\n",
       "    <tr>\n",
       "      <th>199976</th>\n",
       "      <td>Clyde Donaldson</td>\n",
       "      <td>1</td>\n",
       "      <td>en</td>\n",
       "    </tr>\n",
       "    <tr>\n",
       "      <th>199980</th>\n",
       "      <td>Terry Alexander</td>\n",
       "      <td>1</td>\n",
       "      <td>en</td>\n",
       "    </tr>\n",
       "    <tr>\n",
       "      <th>199989</th>\n",
       "      <td>Neil Roebuck</td>\n",
       "      <td>1</td>\n",
       "      <td>en</td>\n",
       "    </tr>\n",
       "    <tr>\n",
       "      <th>199997</th>\n",
       "      <td>Lyle Stewart</td>\n",
       "      <td>1</td>\n",
       "      <td>en</td>\n",
       "    </tr>\n",
       "    <tr>\n",
       "      <th>199998</th>\n",
       "      <td>Thomas Colclough Watson</td>\n",
       "      <td>1</td>\n",
       "      <td>en</td>\n",
       "    </tr>\n",
       "  </tbody>\n",
       "</table>\n",
       "<p>47759 rows × 3 columns</p>\n",
       "</div>"
      ],
      "text/plain": [
       "                           name  class lang\n",
       "11                 Raha Etemadi      1   et\n",
       "12       Leena Peltonen-Palotie      1   fi\n",
       "16                  Luma Grothe      1   en\n",
       "20                Takuya Kakine      1   ja\n",
       "21               Ōuyáng Zhènhuá      1   mi\n",
       "...                         ...    ...  ...\n",
       "199976          Clyde Donaldson      1   en\n",
       "199980          Terry Alexander      1   en\n",
       "199989             Neil Roebuck      1   en\n",
       "199997             Lyle Stewart      1   en\n",
       "199998  Thomas Colclough Watson      1   en\n",
       "\n",
       "[47759 rows x 3 columns]"
      ]
     },
     "execution_count": 101,
     "metadata": {},
     "output_type": "execute_result"
    }
   ],
   "source": [
    "df.drop_duplicates()"
   ]
  },
  {
   "cell_type": "code",
   "execution_count": 102,
   "metadata": {},
   "outputs": [],
   "source": [
    "language_counts = df[\"lang\"].value_counts"
   ]
  },
  {
   "cell_type": "code",
   "execution_count": 103,
   "metadata": {},
   "outputs": [
    {
     "name": "stdout",
     "output_type": "stream",
     "text": [
      "Language distribution:\n",
      "<bound method IndexOpsMixin.value_counts of 11        et\n",
      "12        fi\n",
      "16        en\n",
      "20        ja\n",
      "21        mi\n",
      "          ..\n",
      "199976    en\n",
      "199980    en\n",
      "199989    en\n",
      "199997    en\n",
      "199998    en\n",
      "Name: lang, Length: 48188, dtype: object>\n"
     ]
    }
   ],
   "source": [
    "print(\"Language distribution:\")\n",
    "print(language_counts)"
   ]
  },
  {
   "cell_type": "code",
   "execution_count": 104,
   "metadata": {},
   "outputs": [
    {
     "name": "stdout",
     "output_type": "stream",
     "text": [
      "False\n",
      "False\n",
      "False\n",
      "True\n"
     ]
    }
   ],
   "source": [
    "print(np.any(df[\"name\"].isnull()))\n",
    "print(np.any(df[\"class\"].isnull()))\n",
    "print(np.any(df[\"lang\"].isnull()))\n",
    "print(np.any(df.duplicated()))"
   ]
  },
  {
   "cell_type": "code",
   "execution_count": 105,
   "metadata": {},
   "outputs": [],
   "source": [
    "df = df.drop_duplicates()"
   ]
  },
  {
   "cell_type": "code",
   "execution_count": 106,
   "metadata": {},
   "outputs": [
    {
     "name": "stdout",
     "output_type": "stream",
     "text": [
      "False\n"
     ]
    }
   ],
   "source": [
    "print(np.any(df.duplicated()))"
   ]
  },
  {
   "cell_type": "code",
   "execution_count": 107,
   "metadata": {},
   "outputs": [
    {
     "name": "stdout",
     "output_type": "stream",
     "text": [
      "Language distribution:\n",
      "<bound method IndexOpsMixin.value_counts of 11        et\n",
      "12        fi\n",
      "16        en\n",
      "20        ja\n",
      "21        mi\n",
      "          ..\n",
      "199976    en\n",
      "199980    en\n",
      "199989    en\n",
      "199997    en\n",
      "199998    en\n",
      "Name: lang, Length: 48188, dtype: object>\n"
     ]
    }
   ],
   "source": [
    "print(\"Language distribution:\")\n",
    "print(language_counts)"
   ]
  },
  {
   "cell_type": "code",
   "execution_count": 108,
   "metadata": {},
   "outputs": [
    {
     "name": "stdout",
     "output_type": "stream",
     "text": [
      "Language distribution:\n",
      "lang\n",
      "en    23352\n",
      "es     2532\n",
      "it     1224\n",
      "fr     1181\n",
      "ja     1155\n",
      "      ...  \n",
      "my        1\n",
      "sd        1\n",
      "kk        1\n",
      "pa        1\n",
      "si        1\n",
      "Name: count, Length: 103, dtype: int64\n"
     ]
    }
   ],
   "source": [
    "df[\"lang\"] = df[\"lang\"].str.strip()\n",
    "language_counts = df[\"lang\"].value_counts()\n",
    "print(\"Language distribution:\")\n",
    "print(language_counts)"
   ]
  },
  {
   "cell_type": "markdown",
   "metadata": {},
   "source": [
    "## Additional Cleaning to Drop Names with Special Characters"
   ]
  },
  {
   "cell_type": "markdown",
   "metadata": {},
   "source": [
    "Reset df index starting from 0"
   ]
  },
  {
   "cell_type": "code",
   "execution_count": 109,
   "metadata": {},
   "outputs": [
    {
     "name": "stdout",
     "output_type": "stream",
     "text": [
      "                          name  class lang\n",
      "0                 Raha Etemadi      1   et\n",
      "1       Leena Peltonen-Palotie      1   fi\n",
      "2                  Luma Grothe      1   en\n",
      "3                Takuya Kakine      1   ja\n",
      "4               Ōuyáng Zhènhuá      1   mi\n",
      "...                        ...    ...  ...\n",
      "47754          Clyde Donaldson      1   en\n",
      "47755          Terry Alexander      1   en\n",
      "47756             Neil Roebuck      1   en\n",
      "47757             Lyle Stewart      1   en\n",
      "47758  Thomas Colclough Watson      1   en\n",
      "\n",
      "[47759 rows x 3 columns]\n"
     ]
    }
   ],
   "source": [
    "df.reset_index(drop=True, inplace=True)\n",
    "print(df)"
   ]
  },
  {
   "cell_type": "markdown",
   "metadata": {},
   "source": [
    "Create langname to find the alphabet name of the first character in the first word of a given name"
   ]
  },
  {
   "cell_type": "code",
   "execution_count": 110,
   "metadata": {},
   "outputs": [
    {
     "data": {
      "text/plain": [
       "'LATIN'"
      ]
     },
     "execution_count": 110,
     "metadata": {},
     "output_type": "execute_result"
    }
   ],
   "source": [
    "import unicodedata\n",
    "langname = lambda x : unicodedata.name(x[0]).split(' ')[0]\n",
    "langname('Raha Etemadi')"
   ]
  },
  {
   "cell_type": "markdown",
   "metadata": {},
   "source": [
    "Using langname to find the alphabet of the first character in the first word of each name in df"
   ]
  },
  {
   "cell_type": "code",
   "execution_count": 111,
   "metadata": {},
   "outputs": [
    {
     "name": "stdout",
     "output_type": "stream",
     "text": [
      "{'EQUALS', 'DIGIT', 'HANGUL', 'SINHALA', 'HEBREW', 'CYRILLIC', 'CJK', 'SYRIAC', 'HYPHEN-MINUS', 'KANNADA', 'THAI', 'TELUGU', 'TAMIL', 'MYANMAR', 'GURMUKHI', 'RIGHT', 'APOSTROPHE', 'ETHIOPIC', 'LATIN', 'ARABIC', 'LESS-THAN', 'GREEK', 'ASTERISK', 'QUOTATION', 'LEFT', 'ARMENIAN', 'BENGALI', 'KATAKANA', 'DEVANAGARI'}\n",
      "29\n"
     ]
    }
   ],
   "source": [
    "alphabet = []\n",
    "for i in df['name']:\n",
    "    alphabet.append(langname(i))\n",
    "\n",
    "print(set(alphabet))\n",
    "print(len(set(alphabet)))\n",
    "\n",
    "df['alphabet'] = alphabet"
   ]
  },
  {
   "cell_type": "markdown",
   "metadata": {},
   "source": [
    "Getting a count of names that use each alphabet in df"
   ]
  },
  {
   "cell_type": "code",
   "execution_count": 112,
   "metadata": {},
   "outputs": [
    {
     "name": "stdout",
     "output_type": "stream",
     "text": [
      "1 EQUALS\n",
      "14 DIGIT\n",
      "3 HANGUL\n",
      "1 SINHALA\n",
      "10 HEBREW\n",
      "43 CYRILLIC\n",
      "146 CJK\n",
      "1 SYRIAC\n",
      "3 HYPHEN-MINUS\n",
      "2 KANNADA\n",
      "1 THAI\n",
      "1 TELUGU\n",
      "2 TAMIL\n",
      "1 MYANMAR\n",
      "1 GURMUKHI\n",
      "1 RIGHT\n",
      "2 APOSTROPHE\n",
      "1 ETHIOPIC\n",
      "47317 LATIN\n",
      "55 ARABIC\n",
      "1 LESS-THAN\n",
      "10 GREEK\n",
      "1 ASTERISK\n",
      "8 QUOTATION\n",
      "109 LEFT\n",
      "3 ARMENIAN\n",
      "5 BENGALI\n",
      "1 KATAKANA\n",
      "15 DEVANAGARI\n"
     ]
    }
   ],
   "source": [
    "for i in set(alphabet):\n",
    "    count = 0\n",
    "    for x,y in enumerate(df['alphabet']):\n",
    "        if str(i) in y:\n",
    "            count += 1\n",
    "            #print(df['name'][x])\n",
    "    print(count, i)"
   ]
  },
  {
   "cell_type": "markdown",
   "metadata": {},
   "source": [
    "Finding names that have special characters and preparing to drop them"
   ]
  },
  {
   "cell_type": "code",
   "execution_count": 113,
   "metadata": {},
   "outputs": [
    {
     "name": "stdout",
     "output_type": "stream",
     "text": [
      "['Leena Peltonen-Palotie', 'R. M. Dharmadasa Banda', 'Vicente de Valverde y Alvarez de Toledo, O.P.', 'Ute Kircheis-Wessel', 'David John (Dave) Shannon', 'Dr. Joan W. Miller', 'Donald M. Davis', 'Akseli Gallen-Kallela', 'Gerald S. McGowan', 'Jung Chul-Woon', '(Armen Lubin)', 'Peter R. Orszag', 'William D. Port', 'Harry H. Peterson', 'Lim You-Hwan', \"Lawrence O'Brien\", 'St. Jutta of Kulmsee, T.O.S.F.', 'José M. Hernández', 'Im Jae-Sun', 'Charles A. Cummings', 'Francis \"Frank\" Forshew', 'Sir William Jardine, 7th Baronet', 'C.W. (Bill) Hutchins', 'Evelyn \"Champagne\" King', 'Feng Ming-chu', 'Isaac Campbell Kidd Jr.', 'Ernesto \"Boy\" F. Herrera', \"William G. T'Vault\", 'Laura J. Burns', 'Gordon S. Holder', 'David E. Rutledge', 'Richard Tsoi Yiu-cheong', 'William A. Cugno', 'Fahad Barakah Al-Marwani Al-Johani', 'Jan O. Karlsson', 'P.B. Premachandra', 'Anne-Pia Nygård', 'Wu Chi-wai', 'Yoon Jun-sung', 'Koshinaka Makoto (越中睦士)', 'Lize-Mari Retief', 'V. C. Andrews', 'Giancarlo Cornaggia-Medici', 'Neil L. Rudenstine', 'Maggie Aderin-Pocock', 'D. S. Ó Buachalla', 'Ric Manrique, Jr.', 'Graeme \"Shirley\" Strachan', 'A. Bartlett Giamatti', 'Oakley C. Collins', 'Saint Teresa of Calcutta,MC', 'Joseph M. Scruggs', 'Agapito A. Aquino', \"John O'Donoghue\", 'Sen. Karen Mayne', 'Josip Seissel (Jo Klek)', 'Augustine \"Willie\" Dominguez', 'John NobiliS.J.', 'Homer E. Woodling', 'Y. Pierre Gobin, MD', \"Brendan O'Brien\", 'P.S. Krøyer', 'Louis VII, Duke of Bavaria', 'John B. Holman', 'Darryl J. Poole', 'Sayf al-Dawla', 'Charles A. W. Aylen', \"Breon O'Casey\", 'Kang Seung-Jo', 'Adina-Ioana Vălean', 'Kim Yong-sik', 'Ancestral name: Jiang (姜)', 'Mohamed H. Gherab', 'Brian \"Goldbelt\" Maxine', 'Mohammed El-leissy', 'Lau Yee-cheung', 'Cha Dong-Hoon', 'Awidhah Al-Aamri', 'Frank J. O’Connell', 'William C. Oates', 'Ronen Har-Zvi', 'Per Martin-Löf', 'Joyce \"Fenderella\" Irby', 'Hans-Bernd Schäfer', 'Pacita Madrigal-Warns', \"Detta O'Cathain\", 'Farley \"Jackmaster\" Funk', 'Margaret Elisabeth of Leiningen-Westerburg', '(최영일)', \"Junior Sa'u\", 'Myron H. Ranney', 'B.A.S.K.O.', 'L. Frank', 'Samuel D. Pagdilao, Jr.', 'Hermann-Friedrich Joppien', 'Blessed Agnes of Jesus, O.P.', 'H. William DeWeese', 'Richard Stanton-Jones', 'Auriane Mallo in 2013', 'St. Gerard of Csanád, O.S.B.', 'George W. Emery', 'Antoine-Marie-Auguste Frézouls', 'C. M. Newton', 'Stephan W. Koch', 'James M. Birney', 'Marcela Krinke-Susmelj', 'Lee Jung-su', 'Lon L. Fuller', 'Mel F. Whedbee', 'Frankie hi-nrg mc', 'Sabri al-Asali', 'Jimmy Ng Wing-ka', 'B. F. Shelton', 'Mark A. Krasnow', 'Robert F. Spetzler', \"Ak'ak'i Meipariani\", 'Thomas Wharton, Jr.', 'William C. Chasey', 'Ilu-šūma', 'Kyle Alexander Fraser-Allen', 'T. Rasalingam', 'Allan W. H. Bé', 'Park Choong-Kyun', \"Gary De'Roux\", 'Luther S. Olsen', 'Jean-Pierre Fourcade', 'M. Amin Arnaout', 'D.C. Minner', 'Heidi B. Hammel', 'Sigrid Fry-Revere', 'James M. Scribner', 'Simon IV, Lord of Lippe', 'Tung Hsiang-lung', 'Andrew E. Strominger', '(Henry Roger) Justin Lewis', 'Joseph A. Unanue', 'Chang Chi-yun', \"Patrick O'Sullivan\", 'Walter D. Druen, Jr.', 'Tung Kuo-yu', 'Macon C. Overton', 'John R. Roth', 'Saint Rose Venerini, M.P.V.', 'Douglas B. Hegdahl III', 'M. K. Eelaventhan', 'Nicholas G. J. Ballanta', 'Isabelle Boéri-Bégard', 'William A. Earle', \"Sameh El-Saharty''\", 'Sean M. Carroll', 'Steven C. Hackett', 'J-min', 'George W. Hall', 'Raynard S. Kington', 'Carl-Erik Sandberg', 'Mayra Santos-Febres', 'John C. Roach', 'Park Chang-hyun', 'Naif Al-Harthi', 'Edward Allman-Smith', 'Edgar \"Ted\" Codd', 'Roger M. Blough', 'Hubert Duck, Deuteronomy Duck and Louis Duck (Quack Pack)', 'Harry A. Cole', 'Park Hyeong-soon', 'Charles D. “Chuck” McAtee', 'G. Terry Madonna', 'David A. Tirrell', 'Sandra Farmer-Patrick', 'Lewis Burwell \"Chesty\" Puller', 'E. J. Dionne', '(GOSEComCComCS)', 'James M. Holmes', 'Hussein Rashid Mohammed al-Tikriti', 'Harry Aikines-Aryeetey', 'Robert J. Cleary', 'Fay Ajzenberg-Selove', 'Sk. Mastan Vali', 'James H. Stock', 'P. J. Sudhakar', 'Radwan Al-Sheikh Hassan', 'Ziva Ben-Porat', 'Karl-Heinz Dorner', \"Harriet Osborne O'Hagan\", 'Mark J. Bennett', 'Thomas J. Bergersen', 'S.Ramu', 'Maslama ibn Abd al-Malik', 'Dominique Jean-Zéphirin', 'Junsei Terasawa (寺沢潤世)', 'Dr. Anand Jacob Verghese', 'Wilmot E. Fleming', 'Samuel H. Beckwith', 'Joyce W. Cairns', 'Theodore F. MacManus', 'William B. Caldwell IV', 'P. I. Belliappa', 'David R. Leitch', 'Julius H. Baggett', 'Longineu W. Parsons III', 'राणा उदय सिहं', 'Sir Vincent Meredith, Bt', 'Abdel-Aziz Mehelba', 'The Baroness Llewelyn-Davies of Hastoe', 'Charles H. T. Collis', \"Cinders O'Brien\", 'Kim Young-hee', 'Herbert H. Woodrow', \"George 'Jocka' Todd\", 'Michael E. Fossum', 'Kim Song-Gi', 'Violetta Oblinger-Peters', 'Eckhard I, Count of Scheyern', 'Pearl I. Young', 'A.G. Kripal Singh', 'Henri S. Rauschenbach', 'Sir Robert Rich, Bt', 'Marcia G. Cooke', '()', 'Edmundo Paz-Soldán', 'Pavel (Pavlo) Gintov', 'Edward W. Hathaway', 'Nader Salem Al-Muwallad', 'Christiane Nüsslein-Volhard', 'Son Jeong-Ryun', 'Edward Francis Mickolus, Jr.', 'Chen-Yuan Lee,', 'Charles Louis, Count of Nassau-Saarbrücken', 'Deborah Henson-Conant', 'Linda L. Kelly', 'Horace F. Bartine', '(Τίνα Μπιρμπίλη)', 'William F. Renwick', 'Alice Verne-Bredt', 'Saint Jeanne de Lestonnac,O.D.N.', 'Blessed John Finch (martyr)', 'A. B. Swindell', \"Rod O'Connor\", 'David Hirst (arachnologist)', 'Liu Tsz-Ling', 'Hormisdas Etienne Djibri (Estefan Jabri)', 'Baldwin (II) Rátót', 'Coi4 Si1 Bui4', 'A. M. M. Naushad', 'Borris L. Miles', 'Ivan Maček \"Matija\"', 'El-Teneen', \"Luke O'Connor\", 'Abdullah Al-Owaishir', 'Pierre-Georges LeClercq', 'Kim Tae-Jin (김태진)', '(Serdar-ı Ekrem Ömer Paşa)', 'Moses Norris Jr.', 'D. G. Smalling', 'Lee Jae-Min', 'Karl-Wilhelm von Schlieben', 'Władysław Dominik ks. Zasławski h. Ostrogski', 'Michael L. Coats', 'Archie J. Old, Jr.', 'Kim Moon-Soo', 'Charles W. Gates', 'A. N. M. Hamidullah', \"Mononc' Serge\", 'Ahmed Mohieddine Al-Sghaier', 'Jabez W. White', 'Aisha Abd al-Rahman', 'Sir Archibald Alison, Bt', 'Sophie of Mecklenburg-Güstrow', 'T.J. Berry', 'Charles B. Blackmar', 'Qusay Muneer Abboodi Al-Hussein', 'Choi Eun-suk', \"(Dato')\", 'Lok6 Dai3', 'K.T. Sankaran', 'Adham Al-Sqour', 'John A. Davidson', 'thumb|right|Spitfire Mk IIa P7350 of the BBMF is the only existing airworthy Spitfire that fought in the Battle of Britain.', 'Ellen Heber-Katz, PhD', 'A. G. Mathews', 'Baden-Powell Annand', 'Solomon Oliver Jr.', 'William R. Smedberg III', \"Aodh Ó'Raghallaigh\", 'Thomas H. Forsyth', 'Allastair McReady-Diarmid', 'Dr. Joseph W. Cullen', 'J. L. King', 'Cari M. Dominguez', 'David L. MacFarlane', 'Mahmoud Mohammed S. Al Humayd', 'Ckay1', 'Claire Kirby (Claire Debrois)', 'Matthew T. Sherman', 'William A. MacLeod', 'Annette Huber-Klawitter', 'Denmark Groover, Jr.', \"Abdullah Sallum al-Samarra'i\", \"Abdillahi Suldaan Mohammed 'Timacade'\", 'Saint Honoratus (Honorius) of Amiens', 'James C. Shannon', 'Clarence F. Manbeck', 'Kim Yong-nam', 'Paul-Pierre Roux', 'Billy \"Harp\" Hamilton', 'Eddie Ng Hak-kim', 'John W. Gofman', 'Anthony J. Melio', 'Charles N. Gardner', 'Mian Mehmood-ur-Rasheed', 'T. Patrick Carrabré', 'Sarah-Jane Varley', 'Her Jong-chau', 'George \"Chappie\" Johnson Jr.', \"Graba'\", 'Joni J. Young', 'Richard M. Mullane', 'H. H. Maharajadhiraj Raj Rajeshwar Sawai Shrimant Yashwant Rao Holkar', 'Milo Gunderson (body)', 'Missy Schwen-Ryan', 'H. H. Swofford', 'Edward J. Imwinkelried', \"Steve O'Neill\", 'Ronald E. Miller', 'Friedrich Wilhelm von Lindeiner-Wildau', 'Henry IV, Count of Bar', 'Lee Meng-chian', 'George W. Conable', 'Kevin T. Campbell', 'Carmelita Vigil-Schimmenti', 'J. T. Medcalf', '\"Professor\" Irwin Corey', 'Thomas B. Hooker', 'George W. McIver', 'Adele S. Simmons', 'Kevin S. Smardz', 'Thomas A. Schwartz', 'Frederick Landis, Jr.', \"Eleni Koiosi'\", 'Mario Santos, Jr.', 'Henry Cosgrove, DD', 'Sarita V. Adve', 'J. Campbell', 'Otto J. M. Smith', 'करतार सिंह भड़ाना', 'John W. Huffman', 'Alfredo \"El Salsero\" Escalera', 'Timothy D. Clark', 'Edwin J. Burke', 'James M. McCoy', 'John A. Pease', 'James W. Stephenson', 'Charles M. Engel', 'Peter Ulysses \"Sturgis\" Turner', 'Scott D. McCoy', 'Na-Ga', 'Nicolas-Marie Songis des Courbons', 'Jean-Paul Adam', 'James W. Hubbard', 'Michael Sharvell-Martin', 'Elbert N. Carvel', 'Charles H. Graves', 'Rodolfo Severino, Jr.', 'Kim Kyok-sik', 'Stanley J. Hovdebo', 'Anna Alojza ks. Ostrogska h. własnego', 'German:  Josef Franz Leopold', 'Kellie-Ann Leyland', 'Sultan Al-Ghamdi', 'Ray B. Sitton', '26th Clan Chief', 'Frederick W. Farnham', 'Hugo B. Margáin', 'John J. Kennedy', 'Alexander (Oleksandr) Khvostenko-Khvostov', 'Akram Hassan A. Y. Afif', 'Carl Groos Jockusch, Jr.', 'Eugene P. Gross', 'Franklin P. Backus', 'Mohammed Al-Beshri', 'Mark Edmund \"Duke\" Bainum', 'Yi-Hao Lin', 'Robert E. Huyser', 'Virgil L. Orr', 'Bruce I. Yamashita', 'Henry S. Caulfield', 'F. John Monahan', 'Loren L. Coleman', 'Marja-Liisa Kirvesniemi', 'John K. Stewart', 'Saleh Ali al-Sammad', \"Brittany O'Connell\", 'Son Heung-min', 'Arthur Lenroot, Jr.', 'Kenneth D. Cheuvront', 'Frank G. Carpenter', 'Paul F. Jones', 'Zulkifeli Mohd. Zin', 'Gloria D. Brown', 'शंखलाल माझी', 'Károly Khuen-Héderváry', 'George W. Gage', 'Peter S. Julian', 'Frederick A. Schroeder', 'Julie Byerley, MD, MPH', 'Francis J. MacKiernan', 'R. Krishnasamy Naidu', 'Amalia of Solms-Braunfels', 'Earl F. Hilliard', \"Willem 's Gravesande\", 'Manuel H. Johnson', 'Craig D. Idso', 'Thomas F. Bayard', 'Martine Lignières-Cassou', 'Ada L. Smith', 'Walter C. Quintard', 'Hugo J. Bellen', 'Kanysh Satpayev (Kanysh Satbaev)', 'Joker P. Arroyo', 'German: Henriette Maria Norberta', 'Robert E. Glennen', 'St. Adolf of Osnabrück, O.Cist.', 'Richard M. Blatchford', 'Sir Edward Malet, 4th Bt', \"Paul O'Grady\", 'Juan G. Roederer', 'Kirk Williams, Jr.', 'Dominique-Joseph Garat', \"Mark O'Brien\", 'K. Velayudam', \"Anne d'Alençon\", 'Mohammad Boroujerdi (محمد بروجردی)', 'Isaac C. Naylor', 'O.P.', 'Kenneth C. Binks', 'Frans-Andries Durlet', 'Jean-Michel Chevotet', \"Harvey O'Brien\", 'Samuel F. Patterson', 'Örüg Temür Khan (Gulichi)', 'Ransom A. Myers', 'Samuel Robles (Panamanian Musician)', 'Isaac & Miria', 'frameless|center', 'S. P. Balasubrahmanyam', 'Duncan C. Ross', \"Summer O'Brien\", \"Martin Patrick O'Connell\", 'Dr. Mark B. Rosenberg', 'Benjamin Beit-Hallahmi, Ph.D.', 'P. J. Gillic', 'Choi Ki-Ho', 'Stephane Vehrle-Smith', 'Jeannie Haddaway-Riccio', \"F'Murr\", 'Chun Je-Hun', 'Geri D. Huser', 'Robert V. Richardson', 'Edward Whalley-Tooker', 'George A. Kennedy', \"Molly O'Day\", \"Bryant O'Dare Hammett, Jr.\", 'Erich-Heinrich Clößner', 'Im Dong-Hyun', 'Stan Bowsher (footballer)', 'Frank W. Hunt', 'Bishop Dr. Wilfred Lai', 'Cindy Levinson-Tolhurst', 'D-Ray 3000', 'Ahn Young-Gyu', 'Rafiq al-Tamimi', 'John D. Ceretto', 'Edward N. Eisenberg', 'Martin L.C. Feldman', 'B. Mitchell Simpson', 'H.H. Chesterman', 'John H. Owen', 'John F. Carr', 'Gerald Oriol, Jr.', 'Peter T. Wolczanski', 'R. H. Ives Gammell', 'St. Peregrine', 'Connell Miles Fort, Sr.', 'George H. W. Bush', 'Donald K. Schwab', 'Ioannis A. Tsoukalas', 'Dr. Vasudev Vishnu Mirashi', \"Ann O'Connell\", 'Liu Yuh-san', 'Clive Stuart-Smith', 'Robert de Holland, 1st Baron Holand', 'Yaseen Anas Al-Bakhit', \"सुर्नेद्र झा 'सुमन '\", \"Conor Cruise O'Brien\", 'Ina-Yoko Teutenberg', \"Joseph Leonard O'Brien\", 'P. Whitman Knapp', 'Chen Tsu-Li (陳 祖烈)', 'Frederick Charles (Karl), Duke of Württemberg-Winnental', 'P. T. Deutermann', 'Kadašman-Turgu', 'Merrell Q. Sharpe', 'Count Henri de Baillet-Latour', 'Donal T. Manahan', 'Deborah A. Batts', 'Thomas E. Hill, Jr.', 'Hon. Marlene Jennings', \"John O'Neill\", 'Christine Ben-Ameh', \"Anil Kumar Eravathri '''\", 'Nabil Omran Abdul-Rahim', 'Joseph-Alphonse-Anaclet Habel', 'William S. Cronan', 'The Right Rev. Benjamin Joseph Keiley', 'I. Clinton Kline', 'Robert W. \"Bob\" Straub', 'Avrahm (Abraham) Yarmolinsky', 'Terhi Uusi-Luomalahti', 'James \"J.T.\" Taylor', 'Jamal Al-Atassi', 'Jacques Raige-Delorme', 'George G. Sumner', '(The Right Honourable)', 'M. Shawn Crahan', 'Peter J. Taub', 'D. Vinayachandran', 'David F. Case', 'Miriam J.Ramírez MD', 'Stephen J. Markman', 'Dominador I. Mangubat', 'Susan Goldin-Meadow', 'Kim Yun-hee', 'Harry B. Blevins', 'Jeane (Jean) Manson', 'John J. McVeigh', 'Vernon Erskine-Crum', 'Kevin E. Trenberth', 'Ardeshir (or in higher Persian: Ardashir) Kamkar', 'V. A. Kandiah', 'Henry I. Hodes', 'Gerald T. Bartlett', 'David L. Gilmore', 'B.J. Mendelson', 'John H. Cook', '(Italian Name) Giuseppe Stefano Chiaffredo Marello (English) Joseph Stephen Jeffrey Marello', 'Wigstan (Wystan, Wistan)', 'Anthony R. Fiorillo', 'Torcuato Fernández-Miranda', 'Jean-Pierre Duport', 'The Most Rev. Christopher Joseph Weldon', 'James C. Christensen', 'Arthur \"Andy\" B. VanGundy Jr.', 'Luz M. Santiago González', 'R. T. Guinn', '(김규환)', 'Admiral Jeremy M. Boorda', 'Ming C. Lowe', '(Dionysius the Humble)', 'Shih Chin-tien', \"Joe O'Toole\", 'William H. Ilgenfritz', 'Elmer J. Holland', 'Józef Dowbor-Muśnicki', 'John W. Hennessey, Jr.', 'Arthur-Joseph Lapointe', 'Brown, Joseph Epes', 'Delfín J. Jaranilla', 'John C. Taylor', 'Paul E. Kanjorski', 'Martin N. Johnson', 'Abdulamlek Al-Shammeri', 'Bernard M. Oliver', 'David L. \"Dave\" Pearce', 'Dr. Kenneth Ouriel', 'C. S. Reuter', 'Aaron E. Waite', 'Edwin R. Chess', 'Shin Sung-mo', 'Jean-Charles Cistacq', 'Princess Anne-Élisabeth', 'Pierre-André Schürmann', 'Emery N. Brown', 'Steven L. Jordan', 'Dr. Chapatín', 'George H. Mead', 'Saint John Macias, O.P.', 'Charles B. Stone III', '(강태식)', 'Robert J. Dieter', 'C. Mammutty', 'Archduchess Maria Theresa of Austria-Este', 'Sebastiano Martinelli,', 'David A. Green', \"Stephen James O'Donnell\", 'Joon-Sik', 'Nathan M. Newmark', 'Yu-Foo Yee Shoon', 'C. R. Mohite', 'Ben J. Winer', 'Matthew Cianciulli, Jr.', 'Hsu Jui-te', 'Charles R. Mabey', 'Tony Gwynn Jr.', 'F. R. David', \"Ed O'Bannon\", 'Robert M. Stillman', 'The Hon. Mr Justice Teare', 'Nils-Åke Sandell', 'F. R. Ellis', 'Lily Munster/ OTS name: Phoebe Munster', 'Peggy R. Cook', 'E. Yale Dawson', 'C. K. Stead', 'Ryang Yong-gi', 'Paul W. Smith', 'Chirapat Jao-Javanil', 'Charles W. Shea', 'Guion S. Bluford, Jr.', 'Kim Ju-Hyoung', 'Garner E. Shriver', 'Leo C. Byrne', 'Robert Keith,', 'Ricky J. Sethi', 'Ricardo Cabanas-Rey', 'Luis Alberto Luna Tobar, O.C.D.', 'Jan-Olof Grahn', 'William Ellis (Bill) Newton', \"Walter 'Dobie' Moore\", 'Robert C. Wallace', 'Kim Min-Chul', 'Matthew J. Mossburg', 'C. Adam Bittinger', 'Ralph S. Phillips', 'Adalbert I, Duke of Teck', 'Richard G. Klein', 'A. Hari Reddi', 'John D. Gardner', 'John C. Slater', 'C. David Baker', 'Zubdat-un-Nisa', 'Kim Jin-su', 'Hon.Eugene Fallah Kparkar', 'Suk Young-Jin', 'Edward W. Gray', 'Emma-Kate Dewhurst', 'James H. Henry', 'Howard Brookins Jr.', 'F.T.B. Young', 'Charles O. Porter', 'Gene C. Howard', \"Cassy O'Connor\", 'George W. Della, Jr.', 'Frederick C. Casselman', 'Rashed Ali Al-Sowaidi', 'Yok Mu-ming', 'Judith L. Pipher', 'William \"Bill\" L. Mack', \"J. J. O'Brien\", 'James Younger, 5th Viscount Younger of Leckie', 'Hermann Schulte-Heuthaus', 'Frank H. Mayfield, Jr.', 'León Ávalos y Vez*', 'David Saint-Jacques', 'William C. Schmeisser', 'J.M. Lyngdoh', 'Arthur L. Willard', 'Friedrich VII, Count of Zollern', 'Li Jing (Regine Wu)', 'Hon. William Caryl Ely', 'W. Craig Jelinek', 'Leo O. Meigs', 'Jesse R. Langley', 'ಡಾ. ನೀರಜ್ ಪಾಟೀಲ್', 'Shams ad-Din ibn Muhammad', 'Mahdi al-Arabi', 'John Richard \"Jack\" Williams', 'Joseph-Nicolas Delisle', 'Andrew Jackson Lummus, Jr.', 'Rudolph B. Welch', 'J. Todd Rutherford', 'Gene St. Leon', 'Wui Hye-deok', 'K. Balakrishnan', \"Chak Tok Ich'aak II\", 'T. L. Latson', 'Hogg, Tracy', 'Velmer A. Fassel', 'William Bankhead Courtney Jr.', 'Ronald Dean \"Ron\" Givens', 'Joseph-Couillard Lislois', 'Emad Badr El-Din Mahmoud Abu Ghazy', 'Donald Owen Neely, MNZM, MBE', 'John C. Knapp', 'Margaret M. Weir', 'José M. Dávila Monsanto', 'Sataporn Kantasa-ard', 'Park Jae-Hyun', 'Dr. Jyoti Mirdha', 'Karl-Heinz Brunner', 'Jean-François de Galaup, comte de Lapérouse', \"Bill O'Brien\", 'Tugstumur khan (Uskhal)', 'Donald J. Hoffman', \"Chak Tok Ich'aak I\", \"Leonello d'Este\", \"Fawzi Abdel A'al\", 'Jan-Cor van der Greef', 'Shamcey Supsup-Lee', '(The Right Reverend)', \"Tenema N'Diaye\", 'D. Devaraj Urs', 'Lewis Leslie McAllister, Jr.', 'Robert D. Carmichael', 'Philipp zu Hohenfelden †', \"April O'Neil\", 'Carl Dobkins, Jr.', 'Ben A. Barres', 'Professor Sisir MitraMBE,FRS', 'Jim Paxson Sr.', \"Tim O'Brien\", '(Сүхбаатарын Янжмаа)', 'Genta H. Holmes', \"Joseph O'Neill\", 'Thaddeus Maxim Eugene (Ted) Dikty', 'Flórián Albert, Jr.', 'Gerald C. Thomas', 'Faisal bin Hussein bin Ali al-Hashimi', 'John H. Tilelli Jr.', \"Ta'Shia Phillips\", 'রফিক আজম', 'Perri Shakes-Drayton', 'Linda Thomas-Greenfield', '(אבי סטרול)', 'File:Hollidaycamo.jpg', 'G. David Gearhart', '(محمد افضل بنګش)', 'Charles N. Daniels', 'Victor G. Guillory', 'Cyril Connell Jr.', 'H. K. \"Kenneth\" Cassidy', 'Christian August, Duke of Schleswig-Holstein-Sonderburg-Augustenburg', 'Robert F. Ruth', 'Ian G. Simmons', 'Bernard J. McKenna', 'Saint Bernard of Corleone, O.F.M. Cap.', 'Blackwulf I (Pelops), Blackwulf II (Lucian)', 'George W. Thompson', 'Robert F. R. Lewis', 'Sophie B. Hawkins', 'Ninurta-kudurrῑ-uṣur II', 'Eddie Lucio Jr.', 'Paula Baracho / Paula Ribeiro', 'El-Munsif Ben Youssef', 'Henry I, Count of Nassau-Beilstein', 'Chris (Simpsons artist)', '\"Şeker\" Ahmed Pasha', 'T.H. Tse', 'Danny D. White', 'Vasile Cerescu (Ciorăscu)', 'Kyoko Inoue#5', 'Jacques-Alain Bénisti', 'Anton Freiherr von Doblhoff-Dier', 'Sophie Kieffert-Porte', 'Thomas Cavalier-Smith', 'Ker Chien-ming', \"Junior M'Pia Mapuku\", 'Hussain Abdul-Hussain', 'Richard B. Wilson', 'P. Sreeramakrishnan', 'Lee Jung-Joon', 'Rex J. Walheim', 'Dr. Robert C. Fritz', 'Steven E. Day', 'James H. Morgan', \"Saia Fainga'a\", 'Dr. Kirsty Duncan', 'Ann J. Land', \"George O'Hehir\", 'Donald MacLean Kerr, Jr.', 'Michel M.J. Shore', 'B. Douglas Bernheim', 'Sultan Quli Qutb-ul-Mulk', 'Vladimir Hurban Jr.', \"Brian O'Neill Afanador Pérez\", 'G. G. Ponnambalam', 'John Lynch-Staunton', 'David H. Ohle', 'Chung Yong-Hwan', 'Ralph W. Norman', \"Michael O'Brien\", 'H. L. \"Matty\" Matthews', 'Sam Day Jr.', 'Baden Baden-Powell', 'Antti-Jussi Karnio', 'Jay F. Chen', 'Saint Gorazd,Bishop of Prague', 'P. T. Narasimhachar (Pu Ti Na)', 'Shin Sun-Ho', 'Yun Hyon-hi', 'David A. McIntee', '(غلامرضا مصباحی مقدم)', \"Katherine 'Kat' Farrell\", \"Hedy d'Ancona\", 'Samsam al-Dawla', 'Charles A. Gramlich', 'Panpayak_Jitmuangnon', 'Daniel E. Atha', 'Yeo Myung-Yong', 'Melissa St. Vil', 'Abigail \"Abby\" Sciuto', 'Marianne Kaufmann-Abderhalden', 'Michael D. Unes', 'Leonard P. Wishart III', 'Charles E. Barber', 'Frederick R. Lehlbach', 'James A. Goodman', 'T. T. McConnell', '(S.H.A.D.E.)', 'Dām-FunK', 'James D. McGinnis', 'Rajendra Choudhary / राजेन्द्रा चौधरी', 'James W. Watts', 'T. R. Kashyappan', 'Fyodor Osipovich (Franz Albert) Schechtel', '(Михайло Петрович Драгоманов)', 'Chen Chun-hui', 'Kim Eun-jung', 'Hoffman Lee \"Hop\" Fuller', 'Benjamin F. Flanders', 'Daniel G. Taylor', 'Jonathan Kreiss-Tomkins', 'Andrew J. McGonnigle', 'Jean-Ambroise Baston, Comte de Lariboisière', 'George G. Seibels, Jr.', 'Antonio Riboldi, I.C.', 'Didier Faivre-Pierret', 'C. Adam Harris', 'Lorraine E. Schwartz', 'Christopher \"Chris\" A. Brown', 'Karl E. H. Seigfried', 'Alfred V. Kidder', 'Park Chung-hwi', 'John D. Hopper Jr.', 'C. P. Radhakrishnan', \"Gabriel d'Hédouville\", 'Margaret V. Gillespie', 'John P. Bushemi', 'G-Eazy', 'Albert E. Rees', 'René-Louis Baire', 'James A. Watson', 'John S. Tanner', 'Francisco J. Ayala', 'Fred F. Kaftan', 'Bruce L. Benson', 'Ian Storey-Moore', 'Habern W. Freeman', 'Adolf Heinrich von Arnim-Boitzenburg', 'David A. Bowers', 'Haakon Bruun-Hanssen', \"Roberta D'Adda\", 'F. Gordon A. Stone', 'Louis-Michel-Antoine Sahuc', 'Eleonore Dorothea of Anhalt-Dessau', 'Nathaniel S. Hardy, Jr.', 'The Lord Granville-West', 'John M. Zwach, Sr.', 'Pyon Kwang-sun', 'Raymond E. A. C. Paley', '(Vice Admiral)', 'John G. Lorber', 'Alonzo T. Washington', 'Nicholas Cheong Jin-suk', 'Lester D. Volk', 'Emory Wendell Clark, II', 'James Blackmon Sr.', 'Jean-Marc Mwema', 'Gerhard I, Count of Holstein-Itzehoe', 'Jean-Baptiste Jodoin', 'A. A. Bondy', 'William H. Strayer', 'L. J. Seneviratne', 'Arthur S. Nowick', 'Lee Dong-Won (이동원)', 'Anthony G. Amsterdam', 'Abdul-Latif Salifu', 'Mabel Pakenham-Walsh', 'Benoît Pierre David Assou-Ekotto', 'Eun Seong-soo', 'Ekkehard Kylling-Schmidt', 'Fahad Al-Yami', 'Bernard J. Ray', 'Lion-Heart', 'Isabelo de los Reyes Sr. y Florentino', '(عمرو حمزاوى )', 'Joseph E. King', 'Adam J. Glossbrenner', \"Tomas 'Elof' Elofsson\", 'Robert V. Jackson', 'Albert II, Count of Namur', 'Florante Condes, Jr.', \"Kitty O'Neil\", 'Alain E. Kaloyeros', 'Donald Ray Massengale, Sr.', \"Dennis D'Arcy\", 'Elisabeth of Brandenburg, Duchess of Brunswick-Calenberg-Göttingen', 'Ronald E. Black', 'Donald Howard \"Don\" Yarborough', 'T. R. Subba Rao (Ta Ra Su)', 'Marion M. Bradford', 'H. C. Marston Morse', 'Mohannad Al-Zaabi', 'Mikhail P. Batura', 'Back Young-chul', 'Ravinder Nath (Tiny) Maini', 'Earl Edwards Jr.', 'Randal B. Hopper', 'Daniela Yaniv-Richter', 'Ben Perkins Jr.', 'Victoria-Kayen Woo', 'Francis X. McInerney', 'Park Sang-ha', 'Yang Sheng-Hsiung', 'John C. Donnelly', 'Ali-Naqi Vaziri', 'Ri Yong-chol', 'Léon-Lévy Brunswick', 'A. Habibi', 'Younes el-Sayed Hamed', 'Melville J. Herskovits', 'Thomas R. Hawkins', 'Thomas A. Hill', 'Frédéric Salat-Baroux', 'Winfield Irving Parks Jr.', 'Victorino M. Mapa', 'Elton-Ofoi Acolatse', 'St. Magdalene of Canossa, F.D.C.C.', 'Allan L. Higdon', \"James Peter O'Dowd\", 'Lee Joseph \"Jody\" Amedee, III', 'Sainjargalyn Nyam-Ochir', 'Saint Felix of Cantalice, O.F.M. Cap.', 'Michael G. CampbellOSA', \"Pierre M'Pelé\", 'Victor-Maurice, Comte de Broglie', 'Park Sam-gyu', 'Clifford K. Berryman', \"Daniel J. O'Donnell\", 'Jürgen W. Falter', '(정재권)', \"Brian O'Connor\", 'Vic Coppersmith-Heaven', '(Erin)', 'Wèi Píng-ào', 'Adolph of Nassau-Saarbrücken', 'R. Borden Reams', 'Sir Frederick Hew George Dalrymple-Hamilton', 'Edward S. Klima', 'Victor-Stanislas Chartrand', 'T. Rama Rao', 'Thomas E. Franklin', 'Adama van Scheltema, Carel Steven', 'T-Minus', 'Katherine \"Kathy\" Webb-Kane', 'Sir Iain Mackay-Dick', 'Frank \"Monkey\" Foreman', 'Jean-François Gosselin', \"David D'Apuzzo\", 'Horatio C. Burchard', 'Jacob \"Kobi\" Baladev', 'Madeleine M. Joullié', \"Jim O'Rourke\", 'Ian R. Stevenson', 'Brian A. Young', 'Dr. Luke', 'Mateusz Rutkowski20px', 'José Guillermo del Solar Alvarez-Calderón', 'Günther XLIII, Prince of Schwarzburg-Sondershausen', 'John Michael Dorian, M.D.', 'C. H. Mohammed Koya', 'Ryu Eun-hee', 'Claude Bonin-Pissarro', 'Robert Llewellyn Sumwalt, III', 'Cynthia Harrod-Eagles', 'Jean-Sébastien Roy', 'Max (Mordechai) Farbmann', 'J. Burrwood Daly', 'Clément-Serveau', 'Preston A. Daniels', 'Ebe W. Tunnell', '(אסי בלדוט)', 'Agnieszka Bednarek-Kasza', 'The Hon. Mr Justice Knowles', 'H.R.', 'John J. Boyle', 'Anthony E. Cosey', 'Sir Lawrence Alma-Tadema', 'Don E. Detmer', 'Kaššu-nādin-aḫi', 'Eugene P. Gillespie', 'Akagündüz (Aka Gündüz) Kutbay', 'Hamilton P. MacCarthy', 'Charles W. Adams', 'Frederick I, Count of Vaudémont', 'Jo Hyun-joo', 'Park Sang-wook', 'Charles William Previté-Orton', 'Hwang Mu-kyu', 'Edward E. Beidleman', 'Ivor Phillip Scharrer Warne-Smith', 'Ham Chan-Mi', 'William H. Jackson', 'J. H. Frappier', 'Dan \"The Dude\" Mowrey', 'Charles Gustav of Baden-Durlach', 'Reuben D. Jones', 'Yaser Al-Gabr', 'Charles \"Charley\" Kohlhase', 'G. E. Lowman', 'Catherine Doléans-Dade', 'David S. Creamer', 'Dr. Anton Benning', 'Robert L. Fish', '(Илья Сергеевич Глазунов)', 'Raymond J. Reeves', 'Marc W. Butler', 'Ha Jun-im', 'Chandre Dharma-wardana', 'Joyce M. Cusack', 'Bilo, William C.', 'James P. Eisenstein', 'Alessandro D’Errico', 'Forrest S. McCartney', '梅若実(初世)', 'Ahmad Abdel-Halim', 'Dmitry Svyatopolk-Mirsky', \"Sean C. O'Keefe\", 'Tara Vaitiére Hoyos-Martinez', 'William T. Martin', 'Jeremiah \"Jerry\" Alvin Jones', 'James G. Clark', 'Clifton R. \"Cliff\" Ammons', 'François-Jean-Hyacinthe Feutrier', 'Abdullah Al-Salam', 'Kim Seon-il', 'Jean-Paul Ndjoumeck Ndeki', 'Barbara D. Underwood', 'St. Maria Crescentia Höss, T.O.R.', 'Henry S. Whitehead', 'Maggie Cheung Ho-yee', 'J. Math', \"William O'Brien\", 'R. Sands', \"Charlie O'Connor\", 'Frank W. Wozencraft', \"Michael O'Connor\", 'Ernest J. Allmendinger', 'Thomas G. Miller', 'John W. Kittredge', '(권순태)', 'Jean-Paul Olinger', 'Vonnie (Thompson) DeLong', 'Pentagón Jr.', 'Tyler N. Hague', '(최윤겸)', 'M. Pokora', 'John A. Shaud', \"Leo O'Halloran\", 'Judith C. Russell', 'Mansur ad-Din', 'M. J. Akbar', 'George Anderson Low, Jr.', 'Dominique-France Loeb Picard', 'Ruwaida al-Mahrouqi', 'Cynthia Hedge- Morrell', 'Mother Mary Alphonsa, OP', 'Lee Seung-hee', 'Silvano \"Chori\" Shueg', 'Richard J. Haldeman', 'B. B. Patil', 'Joseph-Hughes Fortier', 'Joseph P. Allen IV', 'Wu Tao-yan', \"Pat O'Connor\", \"Paul John O'Reilly\", 'John J. Muccio', 'Amanda Porter/Emily Thorne', 'Bae Yoo-na', 'Joshua Cain (Mr. Jingle Jangles)', 'E. Ann McGee', 'Benjamin T. Biggs', 'Majid Takht-Ravanchi', 'Don \"Mr. Nice Guy\" Hamilton', 'Hugh (III)', 'Robert Earl Keen, Jr.', 'Viktoria Dmitrievna Tchaplina-Rusakova', 'Abdullah al-Thani', 'Derek M. Wells', 'Florin T. Hilbay', 'George S. Baker', 'Milton C. Garber', 'Michał Rola-Żymierski', \"Fouad M'Roudjaé\", 'Sim Chang-min', 'Willie \"Big Eyes\" Smith', 'M. S. Udayamurthy', 'Anna-Maria Everi', 'Elinor \"Ellie\" Walker', \"Thomas O'Regan\", 'Mustafa Abdul-Hamid', 'William H. Yohn Jr.', 'Ernest C. Brace', 'Keith A. Thomas', 'Isaac D. Seyburn', 'Dr. H.T. Sangliana', 'Joseph-François Armand', 'Domingo Siazon Jr.', 'Daniel \"Erfan\" Olerum', 'Stuart J. Byrne', 'Walter M. Schirra, Jr.', 'James M. Cummings', 'Dudley Anthony \"Butch\" Gautreaux', 'Jacques-Nompar de Caumont', 'J.P. Pennington', 'Yr. Robert Lalkovits - Axone', 'Bob McCaslin Sr.', 'Claudius E. Watts III', 'Anwar ul-Haq Ahady', 'Al-Taftazani', 'George P. Tebbetts', \"Michael 'Mike' Flynn\", 'Bassim Abbas Gatea Al-Ogaili', 'Z. W. (Bill) Birnbaum', 'Anne C. Cools', 'Jere L. Strittmatter', 'Gary Russell Jr.', 'Samuel Pam, Jr.', '(मुनि लाल)', 'Robert P. Madden', 'Ryu Hyun-woo', 'Clarence \"Skip\" Ellis', 'R. P. Baffour', 'C.S. Seshadri', 'Bertil H. van Boer', 'Charlotte M. Blake', 'Kim Jae-shin', 'N. Balakrishnan Nair', 'S’manga Khumalo', 'William G. Everson', 'William C. Davis', 'Henry Beauchamp St. John', 'Howard H. Rosenbrock', 'Sir Frederick Edward-Collins', 'Cyrus P. Walbridge', 'Hugh B. Cave', 'Mohammad Jalal Abbasi-Shavazi', 'W. H. Lyon', 'Blessed John of Vercellli, O.P.', 'Wayne Shear, Jr.', 'J. R. Weinman', 'C. Kumar N. Patel', 'Abigael Kipkemboi-Tarus', 'A. C. Innayya', 'Murrell Smith Jr.', 'J.C. Heard', 'Biga*Ranx', 'Dave E. Boyd', 'Jay R. Vargas', 'Arlyn E. Danker', 'Jan-Are Larsen', 'F. William Lawvere', 'Mark F. Burns', 'Jean-Marie Clairet', \"Dara O'Hagan\", '\"Lightning\"', 'Thomas F. Schweigert', 'Lee-Anne Pace', 'Roger B. Porter', 'Nesty \"La Mente Maestra\"', 'Richard M. Myers', 'Eduardo Teus López-Navarro', 'Cho Chung-Yun', 'W.W.E.Clancy Fernando', 'Park Sang-Cheol', \"Francis D'Oyly\", 'James P. Leddy', 'आचार्य सारंगधर', 'Marvin M. Dickinson', 'Max Hirsch, economist', 'Owen M. Fiss', 'Abdulaziz Al-Hamidi', 'Howard M. Gore', 'Reggie Sahali-Generale', 'F. A. Nettelbeck', 'Luis \"Rolan\" Maldonado', 'David F. Bice', 'J. B. Cox', 'Pamela M. Snyder', 'David Baird Jr.', 'Christiane Koschier-Bitante', 'James F. C. Hyde', '(Олександр Дубовой)', 'John R. Farr', 'Caesar Lucius Aurelius Commodus Antoninus Augustus (180);', 'Daniel S. Hirschberg', 'Can4 Jin4-hei1', 'Archibald \"Archie\" Masters', 'Anne-Marie Baiynd/Presnell/Buttrick/Band', 'A. R. Manu', 'James B. McGovern Jr.', 'Charles B. McLaughlin', 'Owen Summers Jr.', 'Cho Jae-Jin', 'The Chain Gang of 1974', 'Harry A. Dame', 'Park Jin-soo', 'Park Eun-sun', '(محمد قنيري افرح)', 'Kim Un-Jong', 'Stephen L. Adler', 'Robert J. Dunne', 'James L. Oblinger', 'Robert E. Hall', 'Tamara Elizabeth \"Tammy\" Jernigan', \"Robert O'Connor\", \"Jason O'Brien\", 'Francis J. Finn', 'Reece Anthony Clive Hall-Johnson', 'Lord George Fox-Selwyn', 'Erin C. Conaton', 'H. R.(Bill)Percy', 'Dr. Kevin Hardwick', 'James H. Bennett', \"Doug O'Neill\", 'Nora-Eugenie Gomringer', '(გიორგი თარგამაძე)', 'Miguel Ángel Martínez-González', 'Donald J. Farish', 'Ali ibn al-Madini', 'Kwak Tae-Hwi', 'Stevie \"Top Gun\" McKeag', 'Henry A. Smythe', '(Владимир Антонов-Овсеенко)', 'William Pakenham, 4th Earl of Longford', 'Eric G. John', 'Jean-Georges Garneau', 'John Pridgeon Jr.', 'Michael L. Brodman, M.D.', 'Harmon S. Graves', 'Lemuel B. Shirley', 'J.H. Binford Peay III', 'Patrick Lau Sau-shing', 'Caesar A. Rodney', 'N. M. Singhi', 'Robert M. Blair', 'Joshua M. Pearce', 'Balthasar, Count of Nassau-Wiesbaden-Idstein', 'Walter C. Sweeney, Jr.', 'Charles S. Reinhart', 'George P. Demas', 'Hugues-Wilfried Dah', 'Hamdi Hobais Sher Jandal Al-Sharjandal', 'Shariff ul-Hashim', 'Carl T. Langford', 'Prof. B.D. Yadav', 'Andrew J. May', 'The Beast, Count Spatula, Lightning Cat', '(Его́р  Лигачёв)', 'David W. Atkinson', 'The Trooper.', 'Kinoole-o-Liliha', 'Lee-Anne Hunter', 'Kenneth Tse (謝德驥)', 'Jamaan Al-Dossari', 'Radford \"Graham\" Snelding VII', 'Lee Hyun-Min (이현민)', 'John W. Vogt', 'Princess Marie-Caroline', 'Gonçalo da Silveira, S.J.', 'Ahmed Al-Fahmi', 'Jean-Pierre Danguillaume', 'N. V. M. Gonzáles', 'Abdul Baset Al-Sarout', 'Tommy Yeo-Thomas', 'Kim Sang-Sik', \"Maarten 't Hart\", 'Charles B. Henderson', 'Orvin B. Fjare', 'Lee Se-Yeol', 'Colin M. Simpson', \"William O'Neal\", 'Lim Gi-Han', 'Roosevelt I. Polite', 'Giulio Gatti-Casazza', '(MBE)', 'Song Hui-chae', '(Charles Chalmont)', 'G. Van Den Burgh', \"Cameron O'Shea\", 'Edwin Y. Webb', 'صادق قطب\\u200cزاده', \"Pat O' Driscoll\", 'James M. Adams Jr.', 'Andrew J. McGraw', 'Peter Askjær-Friis', \"Morrough Parker O'Brien\", \"Br'er Fox and Br'er Bear\", 'Nils-Paul Skåra', 'George M. Harmon', 'Kenneth A. Ross', 'Stephen Naidoo, C.Ss.R.', 'Clarence George Jeffries or (Jeffreys)', 'P. H. B. Lyon', 'Craig T. James', 'Guy II, Marquis of Namur', 'Park Chung-hee', 'Richard M. Edwards', 'John W. Millar', \"Oskar D'Amico\", 'R.J. Rizada', 'Molly Zuckerman-Hartung', 'David N. Senty', 'Wallace Humphrey White Jr.', 'Denis L. Rousseau', 'Saint François-Isidore Gagelin', 'Hans-Georg von Charpentier', '(조긍연)', 'MUTHARAIYAR SINGAM MAAVERAN A.VENKATACHALAM MLA.', 'Szilveszter E. Vizi', 'Peter J. Bentley', \"Marco d'Aviano\", 'Jean-Robert Toussaint Jr', 'Daniel R. Chamberlain', 'James \"Boogaloo\" Bolden', 'Garfield Mark \"Gar\" Logan', 'Charles R. Jackson', 'Yao Chi-Ling', 'George D. Buffett', 'Tsai Sen-tien', 'Anna-Greta Leijon', 'John P. Milliron', \"Robert O'Leary\", 'Gottfried Weilenmann, Jr.', 'Burke G. Hanford', 'Richard \"Dickie\" Burnell', 'J. Albert Richardson', 'Abdul-Monem Al-Mashat', 'Jo-Yu Chen', 'Yohai Ben-Nun', 'Jessica-Jane Applegate', 'Pierre-Antoine Gillet', 'formerly Twat, née Pearson', 'Naum Natanovich (Nokhim Sanalevich) Meiman', 'Ephraim Kirby-Smith', 'John III, Marquess of Montferrat', 'William J. Sparks', \"Ina'am As'ad Kaddoura Al-Mufti\", 'J. Kenneth Gowers', 'Michael R. Arietti', 'Amr Al-Sulaya', 'Mian Tansen (Tansen)', 'Frederick J. Daly', 'John H. Garvey', 'Florian Pilkington-Miksa', \"Steven D'Amico\", 'George Douglas, 1st Earl of Dumbarton', 'G.B. Grayson', 'Clinton W. Davies', 'Jan H. Evans-Freeman', 'Alfred J. Whittle Jr.', 'Peter C. Ordeshook', 'Sir Martin Moore-Bick', \"Christy O'Connor Jnr\", 'Cho Ji-hun', 'José M. Cabanillas', '( )', \"Jim 'Link' Walsh\", 'Alfred H. Conrad', 'Park Hyoung-su', \"Ch'p of H'lven\", 'Olive Mudie-Cooke', '9ice', 'Arthur Pelham-Clinton', \"Stéphan L'Enflé\", 'Mathilde-Amivi Petitjean', 'S. B. Wilson', 'Willie Chu (聲漪 朱)', '(CBEFSA)', \"Des O'Dwyer\", 'Friedrich \"Fritz\" Warnecke', 'Park Won-jae', 'Oscar E. Peck', 'A. Joe Fish', '(Paul-Tijs Goldschmidt)', 'Carl-Michael Eide', 'Ralph de Stafford(Dokeseye)', 'L. T. Walker', 'Moritz Wilhelm, Duke of Saxe-Zeitz', 'Saad Al-Abdullah Al-Salem Al-Sabah', 'Jean-Baptiste Manhès', 'Roland E. Arnall', 'David Baird Sr.', '21 Savage', 'Ahmed Al-Jizani', 'Douglas A. Blackmon', 'Edward \"Eddie\" Whit', 'Yousuf Shaaban Al-Busaidi', 'Saint Didacus of Alcalá, O.F.M.', 'Gary D. Hanson', 'Park Sang-in', 'Kenneth G. Ross', 'Jefferson P. Kidder', 'Lee Ki-ho', 'Sherif Abdel-Fadil', 'Crow T. Robot', \"Iuri Osip'ovi\", 'Issac N. Evans', 'Carmen E. Arroyo', 'K. N. Ananthapadmanabhan', 'Neil Tevin Michael Benjamin Jr.', 'Lee Kyung-Ryul', 'Park Hyun-bin', 'Chuang Wei-lun', 'Arthur J. Krener', 'Stevan Nedić–Ćela', \"Nicholas O'Shea\", 'Josif Kazanxhi-Xuxi', 'Francis Dawson-Paul', '\"Dark Faby\"', 'Thomas Francis Darden, Jr.', 'John D. Spellman', \"Matthew O'Brien\", 'George H. Pritchard', 'Frank H. Richards', '(Yamato Maeda)', 'Jean Price-Mars', 'Kathleen A. Marchione', 'K. T. Oslin', 'Sinéad O’Connor', 'Susan Y. Illston', 'Nathan Crook Twining Jr.', 'Dr. Arturo \"Arthur\" J. Angara', 'Kharkhüügiin Enkh-Amar', 'Jean-Baptiste Morel', 'Jacob Franklin \"Frank\" Mentzer III', 'Charles J. Pilliod Jr.', 'Veronika Sramatythumb|Veronika Sramaty making of The Top Ten', 'Emanuel V. Soriano', 'Richard H. Immerman', 'Ryan St. Onge', 'Kim Chang-Hoon', 'Maurice H. Rindskopf', '\"Shoeless\" Joe Jackson', 'John M. Bilock', 'A. Paul Kitchin', 'Yaw Osafo-Maafo', 'Frank M. Byrne', 'Hans-Günter Neues', 'Eddie Collins, Jr.', 'Robert J. Hamilton', 'Bjørn Helland-Hansen', 'John M. S. Williams', 'Michael D. Prusi', 'David C. Bury', 'Yoon Jung-soo', 'Essam Heggy, PhD', 'György Berencsi 3rd', 'Bander Al-Bishi', 'Nick Fenton-Wells', 'Lieutenant Colonel George Braund, VD', 'R. C. Williams', 'Paul \"Ginger\" Fraser', 'Fred C. Norton', 'Park Chul-Hyung (박철형)', \"Joe O'Reilly\", 'Robert T. Lackey', 'Frank A. Haskell', 'Farid Aslani (Persian : فرید اصلانی)', 'J. L. Carr', 'Soce, the elemental wizard', 'Gerald W. VandeWalle', 'Michael S. Turner', 'Justus F. Krumbein', 'Mirko Petrović-Njegoš', 'Kenneth H. Walker', \"Desmond O'Donnell\", 'Liu Shyh-fang', 'Douglas A. Dench', 'Antonio F. Weiss', 'Aram J. Pothier', 'Han Sun-Soo', 'Magdalena Joanna Śliwa (nee Szryniawska)', 'Nathan Matthews Jr.', 'Herbert H. McMillan', 'Paul F. Nichols', 'P. Eline Slagboom', 'Reginald Brooks-King', 'Hiroya (弘也)', 'George Michael Ward Jr.', \"Maeve O'Donovan\", 'Dr. George Joseph', 'D. Elmer Hawbaker', 'Ștefan Gușă (Gușe)', 'Ithobaal I (’Ittoba‘l, Ethbaal)', 'Benjamin \"Ben\" Reilly', 'Stephen R. Smith', 'Joseph St. Denis', 'William H. Face', 'Kim Tae-kyun', 'Anood Al-Samerai', 'Ernst-August Roth', '(J. Leonard Blussé van Oud-Alblas)', 'Ophélie-Cyrielle Étienne', 'Atta-Ur-Rahman', 'Richard S. Boardman', 'John Noah Reese Jr.', 'Clarence W. W. Mayhew', 'Saint Albert Chmielowski, C.F.A.P.U.', 'Líu Hóngdù (劉弘度) / Líu Bīn (劉玢)', 'Dr. Stephen T. Colbert', 'Alfred Edward \"Ted\" Ringwood', 'Jean-Paul Bacquet', 'Wilhelm-Francis Ochsner', 'Pat O’Kelly', 'Alin Alexuc-Ciurariu', 'George N. Leighton', \"O'Bryan\", 'Bożena Sikora-Giżyńska', 'William Q. MacLean, Jr.', 'J57', 'K.J. Kindler', 'Samuel B. Hill', 'Leonard H. Bolick', 'Mavis Maclean,CBE,FRSA', \"ג'ורג' בורבה\", 'Sir Lance Adams-Schneider', 'Tanae Davis-Cain', 'Wolrad I, Count of Waldeck', 'Hamchétou Maïga-Ba', 'Hussein Yasser El-Mohammadi Abdulrahman', \"Sultan Abu'l Fath Nasir - ud - Din Mahmud Shah I\", 'Bl. Francisco Palau y Quer,O.C.D.', 'Hon. Richard FitzPatrick', 'Eileen Filler-Corn', 'Josephat T. Benoit', 'Joseph E. Brandle', 'Mark (I) Csák', 'Walter J. Boverini', 'William O. Steele', 'Steve H. Murdock', 'Dmitry (Dima) Kroyter', 'Moon Kwang-eun', 'Kim Jung-hyun', 'Lisa-Marie Vizaniari', 'Alan \"Blues\" T. Baker', 'Alec Brook-Krasny', 'Murray D. Martin', 'Augustus William, Duke of Brunswick-Lüneburg', 'Dr. Jonathan Earle', 'Robert A. Scholtz', 'John S. Barry', 'Orlando Méndez-Valdez', 'Shinmen Takezō; Miyamoto Bennosuke; Niten Dōraku; Shinmen Musashi no Kami Fujiwara no Genshin', 'Pig-Pen', 'Bourke B. Hickenlooper', '1316-Sv.4', 'Edwin P. Smith', 'Moonga K.', \"Yedidya Ya'ari\", 'Sir Charles Hastings, 1st Baronet', 'Samuel B. Griffith II', 'William D. Denney', 'Norman A. Erbe', \"Abu Yaqub Yusuf ibn Abd al-Mu'min\", 'Don B. Colton', 'Al-Saadi Muammar Gaddafi', 'Sung Yu-hsieh', 'Daniel C. Burbank', \"Moshe Ya'alon\", 'Michael A. Rice', 'Charlie Comyn-Platt', 'Rojkind, Michel', 'Jeon Hyeon-Chul', 'Jeremy K. Nicholson', 'V.Vaithilingam', 'Gerd-Volker Schock', 'Henry George \"Harry\" Spencer', 'James Robb, Jr.', 'A. F. J. Klijn', 'Choi Dong-Won', 'John A. Green', 'Danica Joelle Wu,', 'Charles M. Brunner', 'Doo-Ri Chung', 'Pierre-Dominique Bazaine', 'John W. Carter', 'Vassilis Skourtis-Shkurtaj', 'Raphaël Milliès-Lacroix', 'George C. Williams', 'Jong Jin-sim', 'Gwon Han-Na', 'William L. Hadden', 'Richard J. Sullivan', 'Charles M. Lefferts', 'Gu2 Geoi6-gei1', 'H.D. Harvey-Kelly', 'Lin Tzu-hui', 'William Hew Clark-Kennedy', 'Charles \"Buck\" Wharton', 'Kaihō, Yūshō Shōeki', 'Dr. George A. Burridge', \"Patrice Derigobert Ollo N'Doumba\", 'Ali Abbas Al-Hilfi', 'Ellen R. Sandor', \"Tautai Agikimu'a Kaitu'u\", 'Mike Saint-Jules', 'O. A. Hankner', 'Siegfried H. Linkwitz', 'John P. Koehler', 'E. J. Rowland', 'Ethel M. McGary', 'Venkata Subba Rao, Pydimarri', 'Dik6 Lung4', 'J. Quigg Newton', 'Jack P. Sullivan', 'Sadie G. Koninsky', 'Hsiung Mei-Chien', 'Robert L. Stephens', 'David Turquand-Young', 'Robert Lettis Hooper, Jr', 'Anișoara Cușmir-Stanciu', 'Ralph H. Young', \"Alafoti Fa'osiliva\", 'James M. Prichett', 'Grace Gill-McGrath', 'Michael F. Flaherty', 'Mike Campbell-Lamerton', 'Daniel H. Pink', 'Lee Sang-Yong', 'Jean-Louis Gampert', 'Han Dae-hwa', 'J. Roderick McKenzie', \"Karel D'Haene\", 'Vasily V. Dokuchaev', 'Мико́ла Миха́йлович Люби́нський', 'Alcide M. Lanoue', 'J. Patten', 'Kim In-ho', 'Franz W. Seidler', 'Zeenat-un-Nissa', 'Katherine Webb-McCarron', 'George E. McKinley', 'Huang Te-Feng', 'Herbert Fuller-Clark', 'Shin Soo-Jin (신수진)', 'கிள்ளி வளவன்', 'Kim Hyo-Jun', 'Dr. Kamala Sankrityayan', 'Pattom A. Thanu Pillai', 'G. A. Moore', 'John W. Snyder', 'Rowena Webster (Rowie)', 'M. B. Rajesh', 'Francis Yuan-hao Tien', \"Cathal O'Connell\", 'Roberto Ruiz Esparza Jr.', 'Walter M. Gibson', \"Sarah-Jane D'Arcy\", \"Anna Maria Luisa de' Medici\", 'Kevin J. Anderson', 'Jan W. Jaworowski', 'Jean-Gardy Ady', 'Albert Kai-Wing Ng', 'Luise of Brunswick-Wolfenbüttel', 'Eli Y. Adashi', '(Baroness Eccles of Moulton)', 'John F. Wiley', 'Stoyan N. Karastoyanoff', 'Gordon S. Cowan', 'Donald H. Oliver', ')', 'Y.S. Jaganmohan Reddy', 'Atallah Al-Anazi', 'Aaron Jean-Marie Lustiger', 'Neville Bowes Elliott-Cooper', 'Paul-Arthur Séguin', 'Jeffrey R. Cellars', 'Mr. J. Medeiros', 'Sterling J. Nesbitt', '(Зоран Димитријевић)', 'Bernard Joseph McLaughlin, Jr.', \"Logovi'i Mulipola\", 'Robert Russell Burton Jr.', 'K. S. Narayanaswamy', 'Jean-Baptiste Biot', 'John K. Tsotsos', 'Gang Gyeong-hyo', 'Roy C. Booth', 'George Champlin Mason, Jr.', 'Gavin E. Crooks', 'Willem \"Willebeer\" de Beer', 'Yeom Ki-Hun', 'Thomas W. Riggs Jr.', 'William B. Clagett', 'Fraser L. Adams', 'Charles Bowle-Evans', 'A. R. VanCleave', 'Sayf al-Din Muhammad', 'Wang Jing-li', 'Scott C. Cook', 'A1', 'Thomas J. Scrimenti', 'William P. Biddle', 'Lee Gwang-hyuk', 'Harriet C. Babbitt', 'Son Seung-yeon', 'สุวรรณี สุคนธา', 'A. M. Klein', \"Fat'hi Abu Taleb\", 'Robert A. Nardolillo', 'G. Raymond Chang', 'Tomer Shem-Tov', 'Ana-Maria Crnogorčević', 'John W. Fishburne', 'Anthony J. Cimini', 'Hwang Jae-hun', 'Kim Min-jung', 'Šagarakti-Šuriaš', \"Georges N'Doum\", 'Robert J. Spane', 'Sir George White, 1st Baronet', 'Benjamin F. Newhall', 'Sir John Hanbury-Williams', 'Jade Soune-Seyne', 'Élie-Hercule Bisson', 'A. S. Dalal', 'Evelle J. Younger', 'Junius Ho Kwan-yiu', 'Stefan S. Tripković', 'Shing-Tung Yau', \"Dick D'Agostin\", 'Joseph H. Eberly', 'Albert C. Eisenberg', 'Richard S. Madaleno', 'W. Scott Corbett', 'John A. Rogers', 'Park Nam-gyu', 'Enrique Maximiliano Meza Salinas Jr.', 'Sander S. Florman, M.D.', 'Gwendolyn T. Britt', 'Harry Kent - Architect', 'Saints Denise, Dativa, Leontia, Tertius, Emilianus, Boniface, Majoricus, and Servus', \"Cahir O'Doherty\", 'R.I. Moore', 'Sidney Sanabria-Robles', 'wai6 laan4', '1978', '(محمد یعقوب علی)', 'Floyd T. Christian', \"Louis-Joseph d'Herbomez\", 'Fadel Ahmed Abdullah al-Hiyali', 'Alexander Hood, 1st Viscount Bridport', 'John R. McGann', 'Khalifa Ayil Salim Al-Noufali', 'Sigurður T. Jónsson', 'R. Charlie Brett', 'Genowefa Migas-Stawarz', 'Fred V. Archer', 'M.L.R. Karthikeyan', 'Shakeel-ur-Rehman', 'David S. Kris', 'Cathy-Lynn Song', 'Ibrahim Al-Ghanim', 'N. P. Pradeep', 'Ted Alvarez, Jr.', \"Colin O'Brien\", 'Sheila E. Hixson', 'Patrick W. Bell', 'Su Li-wen', 'Rich T. Buckler', 'Juan A. LaFonta', 'Alexander Williams Jr.', 'Keith C. St. John', 'Mit’hat Frashëri', 'David L. Gregg', 'The Crazy Cuban, Roli', 'Rudolf Szepessy-Sokoll Freiherr von Negyes et Reno', 'Katharina of Hanau, Countess of Wied', 'Stuart E. Barstad', 'George J. Zimmermann', \"Tom O'Brien\", 'Professor Dr. Yasmeen Rashid', 'Dipl.-Ing Karl Freiherr von Lersner', 'O.H.', 'Archibald H. Gillespie', 'Yeom Dong-Kyon', 'Eeyore (Disney version)', 'Dr. Spencer Reid', \"Tim O'Neil\", \"Komand'r\", 'Douglas A. Geiss', 'Zhang Na (volleyball)', 'Jose L. Linares', 'Peter A. Freeman', 'Maurice Le Blanc-Smith', 'Robert M. A. Hawk', 'Jaime St. James', 'William V. Knott', 'St. Josephine Margaret Bakhita,F.D.C.C.', 'Jean-Philippe Saïko', 'Suresh H. Moolgavkar M.D., Ph.D.', 'D. Kent Frizzell', 'James H. McKinley', 'Abdurrahim El-Keib', 'Ray McCallum, Jr.', 'M. Susan Montgomery', \"Right Rev. William O'Hara\", 'J. W. S. Cassels', 'Edwin J. Chilgren', 'Lord Michael Fitzalan-Howard', 'Nancy B. Jackson', \"Alan O'Brien\", 'Albert S. Berry', \"Mark O'Hara\", 'E. A. Bourque', 'Sir Daniel Macaulay Stevenson, Bt', 'Nikolay Muravyov-Amursky', 'Michael W. Traugott', 'N. Srikantha', 'Allen R. Steen', 'Family name: Hóu (侯)', 'Clarence D. Rappleyea Jr.', 'Dick King-Smith', 'Henry M. Fuller', 'Abraham Shek Lai-him', 'Francis T. Ryan', 'The Lord Browne-Wilkinson', 'Clark V. Poling', 'Marilyn B. Evans-Jones', 'Charles W. Ballard', 'Zhou Huaizheng (周懷政)', 'George H. Bell', 'Ira L. Reiss', 'Albert G. Simms', 'சிவராசா ராசையா', 'Jerzy Waldorff–Preyss', 'Barbara J. Pariente', 'L. O. (Buck) Olsen', 'Joseph C. Strasser', 'H. Douglas Keith', 'Timothy P. Green', 'Jean-Paul Marchand', 'Edgar C. Erickson', 'James R.W. Purves', 'Nora Coton-Pélagie', 'Max-Peter Ratzel', 'Raymond S. Whitford', 'Cherise Taylor-Stander', 'Harlan J. Brothers', 'Kim Young-Kwang', 'J. W. Gage', 'A-Plus', 'Dipl.-Ing. Heinrich Burchard', 'Walter I. Hayes', 'Victor H. Espinoza', 'Michael C. B. Ashley', 'William L. Frierson', 'Florante F. Matan', 'George F. Walker', 'Caesar A. Saloma', 'Heoi2 Gun3git6', \"Audrey O'Brien\", 'Nick Farr-Jones AM', 'Go-Daigo', 'Genri Nikolaevich Koptev-Gomolov', 'Charles L. Lewis', 'Ernie K-Doe', 'Jennifer J. Isler', 'Kim Hyo-sub', 'Damayanthi Dharsha-Kobalavithanage', 'Abdulrahman Al-Ghamdi', 'Lewis D. Thill', 'G. Dep', \"Lanae' Hale\", 'H. John Stahl, Jr.', 'David P. Granger', 'Yu Guan-lin', 'Janet Finch-Saunders', 'John Charles Watts-Russell', 'Egon-Reiner Freiherr von Schlippenbach', 'John A. McNally IV', 'Meinhard II of Gorizia–Tyrol', 'St. John Ellis', 'The Hon. Ms Justice Laing, QC, DBE', 'Alton W. Knappenberger', 'Maury Maverick, Jr.', 'Kwong Chun-yu', 'पवन कुमार शर्मा', 'Bert T. Sperling', 'Jean-Michel Richeux', \"Bob O'Neill\", 'Michel Roux-Spitz', 'al-Ḥasan ibn ʻAlī al-Barbahārī', 'Betty Viana-Adkins', 'Dr. Augustin Cabanès', \"Hal O'Hagan\", 'P.J. Pacifico', 'Carol A. Barnes', 'Go-Reizei', 'Franklin E. Roach', 'C. D. Howe', 'A. K. Shiva Kumar', 'Pieter-Jan De Smet', '(Nguam Indapañño)', 'Jean-Claude Boulanger', 'Helene of Mecklenburg-Schwerin', 'Hermann-Bernhard Ramcke', 'Sir Fitzroy Maclean, Bt', 'Victor J. Westerberg', 'Candice Carr-Archer', 'José Pedro Aguiar-Branco', 'Kao Hao-chieh', 'Paul Alo-Emile', 'Dutch: Gabriël Boudewijn Karel Maria', 'Ae-Ri Noort', 'Arthur \"Art\" George Bragg', 'Billy(William) Best', 'Gordon Harold \"Gertie\" Sawley', 'P.S. Ayyaswamy', 'Ernst-Georg Philipp', 'Beauty☆Takaco', 'Hugh G. Harrison', 'Joseph-Benoît Suvée', 'Alan Leong Kah-kit', 'Jimmy L. Love, Sr.', 'Seo Dong-hyeon', 'Robert D. Beckel', 'Kuo Tai-yuan', 'Jérôme Napoleon Bonaparte, II', 'Thomas G. Morris', 'Bryan P. Glass', 'Pat C. Trusio', 'Eric S. Roberts', 'Daniel-Jérémie Décarie', 'Silvius I Nimrod, Duke of Württemberg-Oels', 'Mario Díaz-Balart', 'St. Alberto Hurtado, S.J.', 'Chen Kuang-fu', 'L-Tido', 'Paul E. Olsen', 'Richard A. Falk', 'Louis-Anne-Jean Brocq', \"Michael Sydney Anthony O'Hara Jr.\", 'Allan Perry-Keene', 'Frederick Charles Ferdinand, Duke of Brunswick-Lüneburg', 'James F. Hughes', 'Ronnie Mabra, Jr.', 'Girma Wolde-Giorgis', 'George D. B. Pepper', 'Wells S. Jones', 'William V. Chappell Jr.', 'Otto-Pekka Jurvainen', 'C. B. C. Warrier', 'Lee Chang-keun', 'Dolk (Dolk Lundgren)', 'George R. Edwards', 'Regina D. Thomas', 'Walter C. Caudill', 'Stan C. Booth', 'Prospero \"Butch\" A. Pichay Jr.', 'Idriss Ech-Chergui', 'Peter Murray-Rust', 'Paull H. Shin', 'A. Y. S. Parisutha Nadar', 'John H. Ware 3rd', 'Chester E. Norris', 'C. L. Furtado', 'Fred B. Schneider', 'Jean-Claude Brizard', 'Yan Hong-sen', 'Martina Topley-Bird', 'Bastien Lecouffe-Deharme', 'Mariano \"Pugo\" Contreras', 'Chui Chi-kin', 'Jean-Hippolyte Marchand', 'Edward H. Levi', \"'''William Ross MacBrien\", 'A. J. Ramos', 'Jeffrey H. Shapiro', 'S. Quinton Johnson', 'Henry D. Foster', '(額爾德特·文繡)', 'Pierre David Édouard de Colbert-Chabanais', 'Catherine of Pomerania-Wolgast', 'P. N. Vinayachandran', 'Berrie H. Jarrett', 'Karl G. Kessler', 'Arthur W. Overmyer', 'Burton S. Blumert', 'Sarah W. Whitman', 'J. Kim Sessums', 'Ulla-Karin Rönnlund', 'John Bachop \"J.B.\" Gilfillan', 'Francis W. Rockwell', 'Ernest, Duke of Opava', 'Joseph-Ludger Fillion', 'Archibald C. Godwin', \"Ofa Fainga'anuku\", 'Yu Bin (喻彬)', 'Joseph Jean-Baptiste Laurent Arban', 'William F. Garrison', 'Ivan Samylovskii (Samylovsky) Иван Самыловский', 'Anthony J. Griffin', 'Raymond F. Chandler III', 'Louise Firouz (née Laylin)', 'Saints Theodore, Philippa, Dioscorus, Socrates, and Dionysius', 'M. Rajasekara Murthy', 'H. Lee Moffitt', 'Franz-Josef Wolfframm', 'K. Parasaran', 'Leon B. Poullada', 'Najat Vallaud-Belkacem', 'M. N. Subbamma', 'Gabrielle “Goldie” Nowee', 'Peter J. Huber', 'George P. Fisher', 'Waleran I, Lord of Ligny', 'Robert \"Bob\" Vickman', 'J. A. R. Moroney', \"Norbert D'Souza\", 'Lee Jin-Ho', 'Mamadou M. Diallo', 'Lee Ho-Joon', 'Squier, Michael J.', 'Ha Su-gyeong', '(Дми́трий Я́зов)', \"Lance O'Sullivan\", 'David G. McAfee', '(이상헌)', 'Rev. Clarence Larkin', 'Park Jin-Yi', 'Jade Annmarie Lorton-Radburn', 'General Frédéric-Georges Herr', 'Edward Hanlon, Jr.', 'K.H. van Brederode', 'D.O. (Defy the Odds)', 'Hur Do-Hwan', 'Charles T. Tozier', 'Jean-François Kornetzky', 'Adolf von Batocki-Friebe', 'April \"Boy\" Regino', 'Dutch: Albert Leopold Clemens Maria Meinrad', 'Jesse J. Taylor', 'Jean-Louis Pons', 'David O’Callaghan', 'Posey G. Lester', 'Frederick A. Cuthbert', 'Kevin A. McCarthy', 'H. Ward Page', 'W. P. Kinsella', \"Cha. Fra. D'Costa\", 'J. Moss', 'Joyce Nonde-Simukoko', 'Zoilos I Dikaios (\"The Just\")', '(伊沢利光)', 'Digvijay Singh (Bihar)', 'Adolfo S. Azcuna', 'William H. F. Payne', 'Eric M. Plakun', 'Eugene J. Gerber', 'Brackin Karauria-Henry', 'James F. Price', 'Deborah L. Berry', 'K.C. Cole', 'Betty E. King', 'Johanes Maliza, Jr.', 'Roswell K. Colcord', 'Christopher I. Moore', 'Mohammad-Ali Hosseinzadeh', 'Sir Charles Lloyd Birkin, Bt', 'Badr Mansor Al-Sulaitin', 'Hans-Jörg Criens', 'Isabella \"Bunny\" Bennett', 'Mohsen Salem Al-Garni', 'Mustafa A.G. Abushagur', 'Abu Bakr al-Baghdadi', 'Richard C. L. Moncure', 'Alexander Hamilton Rice Jr.', 'Richard J. Gage', 'Frank Kingston Smith, Sr.', \"The People's Champ\", 'D. J. Kennedy', \"John O'Connell\", 'Han Jae-Woong', 'C. J. F. Williams', 'Lorraine Clifford-Lee', '(Gerhard) Louis De Geer', 'Edward N. Whittier', 'Paul-Henri Spaak', 'William Joseph Fleniken, Sr.', 'E.J. Feihl', 'O. J. Mayo', 'Shin Se-Gye', 'Wint Winter, Sr.', 'Ling4 Bo1', 'Lisa M. Dugan', 'Thomas J. Geraghty', 'Leonidas H. Inscho', 'Chin-Chih Huang', 'LeRoy J. Louden', 'Sydney, Lady Morgan', 'Abdulkareem Aiedh Al-Qahtani', 'Augustus E. Willson', 'Bice Sechi-Zorn', 'Vincent Darius, O.P.', 'Smedberg-Dalence', 'John W. McDonald', 'Chen Shu-li', 'Walter \"Clift\" Chandler', 'Wayne A. Fuller', 'Anthony Johnstone-Burt', 'Benjamin Lo-Pinto', 'David C. Rubinsztein', 'Nader El-Sayed', '(中嶋常幸)', 'Yang Ha-eun', \"Chico's Angels\", 'Prof. Dr. Hannah Monyer', 'F. Sionil José', 'David A. Clarke, Jr.', 'Lucien E. Blackwell', 'Joseph T. Doyle', \"John O'Sullivan\", 'J.J. Lyons', 'Bjørn G. Andersen', 'Dr. Ernst Bruno Victor Ziehm', 'Yang Sui-sheng', 'A.T. George', 'Thomas E. Flaherty', 'Charles \"Chub\" Reynolds', 'Lee Tae-young', 'Hwang Tong-gyu', 'Rubic Ghasemi-Nobakht', 'William H. MacInnis', 'Jean-Marie Defrance', 'Mohammed Al-Habsi', 'Goran Radosavljević \"Guri\"', 'Jane Naana Opoku-Agyemang', 'Ur-Nammu', 'Ha Hyun-Yong', 'Brian K. McHale', 'John H. Devlin', 'A.F.P. Hulsewé', 'Felix Ravaisson-Mollien', 'Edward L. Beach Sr.', '(龔怡萍)', 'Faisal Al-Dakhil', 'Sajid AliUrdu:ساجد  علی', 'Carol M. Highsmith', 'Jean-Baptiste Donatien de Vimeur de Rochambeau', 'Elavarasan a/l Elangowan', 'Charles O. Andrews', 'LI, On-kwok, Victor', 'Hans-Hartwig Trojer', 'Yoon Kye-sang', 'Michael D. Getchell', 'Chang Wen-ing', 'Robert F. Coverdale', \"Paquito D'Rivera\", 'Duke Montana, MC Duke, Il Generale', 'Laura García-Caro', 'Herbert S. Gutowsky', 'John de Mowbray, 4th Baron Mowbray', 'Van Hipp, Jr.', 'Michael J. Lenox', 'Dr. Vincent Aleven', 'Yoon Bit-garam', 'Robert P. Letcher', 'Saint Peter Fourier, C.R.S.A.', 'Christopher Hyde-Smith', 'Charles D. Sutherland', 'Richard Arden, 3rd Baron Alvanley', 'Park Hong-keun', '(송진형)', '(Abu Issa)', 'John W. Caldwell', 'Wei Chun-Heng', 'Andrew S. Moscrip', 'Frederick Bushnell \"Jack\" Ryder', 'সুবীর রাহা', 'Herbert J. McGlinchey', 'Gladys Kalema-Zikusoka', 'Byron C. Preiss', 'C. Daniel Mote, Jr.', 'Vito J. Lopez', '(박건하)', 'Gus G.', 'Haywood Shepherd Hansell, Jr.', 'Andrew Osei-Bonsu', 'Ira C. Owens', 'Drew Alan Springer Jr.', 'Sir James Stewart, Bt', 'Given name: Unknown', 'Bashkir (Башкир)', 'Ralph C. Johnson', 'Christian Ernst, Margrave of Brandenburg-Bayreuth', 'Alfred E. Reid', 'Walter Bertram \"Bert\" Hatten', 'Charles A. Ott, Jr.', 'H. Sebastian Seung', 'Arno J. Mayer', 'Robert C. Patterson', 'Gay Stanhope Falcon/Gay Laurence/Tom Laurence/Michael \"Mike\" Waring', 'Pedro Ferreira-Mendes', \"Timmy O'Dowdthumb|Timmy Dowd in Dowdies December 2011\", 'Jacqui Frazier-Lyde', 'Pirkko Ruohonen-Lerner', 'Karl-Heinz Heddergott', \"Charlie O'Rourke\", 'Robin J. Cauthron', 'Emily H. Vokes', 'James H. D. Henderson', 'Hardin Charles Cox, Jr.', 'John A. K. Donovan', 'James H. Burnley IV', 'Stephen G. Simpson', 'Jean-Marc Bosman', 'Yu Byeong-heon', 'Frederick E. Vollrath', 'Clarence M. Dunnaville Jr.', 'H. Dean Brown', 'I. C. Rapoport', \"Heath L'Estrange\", 'David J. Johnson', 'Baxter B. Stiles', 'Thomas G. Nelson', 'Gabriel Montiel Gutiérrez (werevertumorro )', 'Mr. Dibbs', 'Frank C. Matthews', 'Boyd H. Jarvis', 'अटल बिहारी वाजपेयी', 'Steven P. Schook', 'Elisha B. Maynard', 'S. N. D. North', 'Kim Hyun-su', 'Fakhruddin G. Ebrahim', 'B. F. \"Chris\" Christiaens', 'Lee Jung-iI', 'John K. Watts', 'गेंदा लाल  चौधरी', 'Richard W. Guy', 'Eleonore Charlotte of Württemberg-Montbéliard', 'Gaura Pant (Shivani)', 'J. E. Platt', 'Herman W. Nickel', 'U-Jean', 'William F. Boyland, Jr.', 'Willard S. Curtin', \"The People's Warrior\", 'Tom & Olly', 'Fletcher L. Hartsell, Jr.', 'Barry D. Besanko', \"K'inich K'an Joy Chitam II\", 'Tsai Jen-chien', 'Mr. Perfect', 'Charles S. Dewey', 'Maureen L. Storey', 'Princess Alexandrine-Louise', 'Dr. Octagon', 'Alfred Ter-Mkrtychyan', 'Manson K. Brown', 'Thomas Platts-Mills', 'John W. Killinger', 'R.J.D. Jamshedji', 'Joseph H. Rodriguez', 'James \"Jim\" Ottley', 'Zang-Hee Cho', 'Philipp Moritz, Count of Hanau-Münzenberg', 'Herbert B. Maw', 'Trevor J. Rees', \"Stan O'Neill\", 'Mai Chia-je', 'Mack A. Breazeale', 'Marthanda Varma മാർത്താണ്ഡ വർമ്മ', 'Hun-Toh', \"Brendan Michael O'Brien\", 'Alacrana Plata #2', 'Tan Sri (Dr) Francis Yeoh Sock Ping', 'Morris L. Radoff', 'Charlotte Birch-Pfeiffer', 'Alexander B. Trowbridge', 'Patrick B. Gillespie', 'Dr. Sukhda Pritam', \"Mattar M'Boge\", 'Philip, Count of Nassau-Idstein', 'Seo Hyuk-Su', 'Christian Floriano Pasilan Jr.', 'Michael E. Haynes', 'Mario J. Cariello', 'Daniel E. Gorenstein', 'Donald W. Sweeting', 'Louis-Désiré Maigret', 'G. Lestrade', 'Steven E. Landsburg', 'Klaus R. Dittrich', 'David St. John', 'Christoph-Michael Zeisner', 'Hubert Saint-Macary', 'John J. Young, Jr.', 'Vanessa S.', 'No Yeon-bin', 'Riah Hanna Abu El-Assal', 'Robert J. Gordon', \"Ron O'Dwyer\", 'Mathew John Mitchel-King', 'Christy Opara-Thompson', 'Julius \"Papa Cairo\" Lamperez', \"Christopher d'Amboise\", \"Soane Tonga'uiha\", 'Dr. Abdellatif Filali', \"Joel Leone Taufa'ao\", 'Jason V. Brock', 'Harold R. Collier', 'Brian E. Mueller', 'Samuel W. Johnson', 'William D. Gordon', 'Sean C. Mackey', \"Bill O'Connor\", 'René Ricolfi-Doria', 'J. McAdam', 'Helmut Hölzer ()', 'Ahn Sang-soo', '- Tem', '(Александр Аполлонович Шавлохов)', \"Rory O'Brien\", 'The Hon. Mr Justice Langstaff', 'Alton E. Cianchette', 'Carsten Bo Eriksen / MBD73', 'Wilhelmina Kennedy-Erskine', 'Robert H. Brink', 'D. Afonso Henriques', 'Crystal D. Peoples-Stokes', 'Jan Jagmin-Sadowski', 'Dr Stephen Myers OBE, FREng', 'Johann Philipp Freiherr von Wessenberg-Ampringen', \"Percy d'Aguilar Banks\", 'Dennis A. Wicker', 'Maher El-Beheiry', 'Ronaldo \"Ronnie\" Puno', 'Frederick P. Dinkelberg', 'Dorothy W. Glisson', 'William M. Steele', 'Richard C. Lord', 'Hong-Chih Kuo', 'Pierre-François Casgrain', 'Donato Bramante (Spongebob Squarepants)', 'Richard A. Tapia', \"Muhammad Husayn Tabataba'i\", \"Ali Ri'ayat Syah I\", 'Lim Seong-Taek', '(김영광)', 'Sir Basil Samuel Hill-Wood, 2nd Baronet', 'James P. Wisecup', 'Frank R. Baker', 'Ms. Blue', 'Woodrow M. Kroll', 'M. Nadarajah', 'Gennady Leonid-ipa Gagulia', 'François-Didier Gregh', 'Qoussai Emad el-Khawalda', \"Donat O'Gallagher\", 'Han F. de Wit', 'Christian August of Holstein-Gottorp, Prince of Eutin', 'Charles A. Barnard', 'William C. Bouck', 'Andrew W. Saul', \"Graham O'Connell\", 'Rafael Rodríguez-Ponga y Salamanca', 'Donald N. Levine', 'Charles J. Fletcher', \"Jack William O'Connell\", 'S-Tone Inc.', 'Robert H. Morris', 'Claude Cattermole Potter-Pirbright', 'Frank R. Davis', 'Klaus-Degenhard Schmidt', 'Ashley Love-Mills', 'Frano Getaldić-Gundulić', 'Elisabeth of Nassau-Dillenburg', 'Jung Yoon-sung', 'Jon S. Cardin', \"Nathan O'Keefe\", 'Eberhard I, Count of Württemberg', 'Robert H. Socolow', 'Richard \"Mack\" Machowicz', 'Guy-Roger Nzeng', 'G. Patrick Riley', 'Nicholas Gordon (Nick) Martin', 'Frank M. Patterson', 'Daniel E. Noble', 'James Finley Bell, Jr.', 'D. S. C. B. Jansze', 'Judy Mosley-McAfee', 'Kim Ji-Soo', 'John B. Rice', 'A. Cole', '(Arabic:عبد العزيز بديع صالح السليمي)', 'Jean-Michel Wilmotte', \"Kristine O'Brien\", 'Panya Singprayool-Dinmuong', 'Kamila Gasiuk-Pihowicz', 'Lee \"Scratch\" Perry', 'Keaoua Kekua-o-kalani', 'Euell F. Montgomery', 'Franciscus J. M. Wiertz', 'Edward G. Connolly', 'Cecilia Payne-Gaposchkin', 'Kim Ji-Hun', 'Matthew Centrowitz Sr.', 'John E. King', 'Pasquale \"Pat\" Abbruzzi', 'Regis R. Malady', 'Sir A. P. Herbert', 'Koffi Stephane Kouadio-Tobey', 'P. T. Barnum', 'Norman W. Stott', '(Анта Симеоновић)', 'Victor Durbal 03408.JPG', '=Giovanni Agostino Marliani', 'Bernard II, Margrave of Baden', 'Finn Lützow-Holm', 'John Reed Sr.', 'Kwong, Kenneth', 'M. M. Keeravani', 'George C. Oliver', 'Sulaiman Al-Shukaili', 'William W. Moehle', 'Otto I, Count of Scheyern', 'James L. Straight', 'Donn B. Parker', 'Lori L. Pollock', 'Muriel M. Seyfert', 'Arthur Alvin A. Aguilar', '-John Falsworth', \"Leslie O'Brien Fleetwood-Smith\", 'W. Ian Lipkin', \"Stephen O'Brien\", 'Arun K. Pati', 'Raymond F. Clevenger', 'Timothy P. Villagomez', 'Philip C. Sorensen', 'Hans-Peter Schulze', 'Lee Sun-Koo', 'Donald F. Parsons, Jr.', 'Robert-Falcon Ouellette', 'NC.A', 'Harry Warren Cutting, III', 'Ernest T. Attwell', 'A.F. Holste', 'B. Gopalakrishnan', 'Quick, Kid Lion', 'Louis-Philippe-Antoine Bélanger', 'José M. Serrano', 'Kelsey A. Begaye', 'Michael H. Decker', 'Mike Conley Jr.', 'Seth W. Brown', \"O. Timothy O'Meara\", 'William J. Murchison Jr.', 'B. Platt Carpenter', 'James D. Conley', 'Sir Denis Crowley-Milling', 'Iain D. Thomson', 'William E. Hurley', 'Markus Sebastian \"Mark\" Grayson', 'P. Surya Prakash', 'Jeon Sang-guk', 'Dr. James C. Hawthorne', 'Richard St.Ofle', 'Bonnie McElveen-Hunter', 'M.D. Banda', 'Kurt A. Thoroughman', 'John I, Count of Holstein-Kiel', 'Thomas K. Duane', 'Stephen J. Flesch', 'Jose Y. Feria', 'Karolina Kudłacz-Gloc', 'Patrick F. McManus', 'Yaakov \"Yankele\" Rotblit', 'J. Howard Miller', 'Saints Hor, Besoy, & Daydara', \"J'den Cox\", 'Herbert Sri Nissanka,KC', 'Donald H. Turner', 'Yanic-Sonny Carlo Wildschut', \"Charles J. O'Byrne\", 'Meera Chandrasekhar (ಮೀರಾ ಚಂದ್ರಶೇಖರ್)', 'Richard B. Wright', 'C.J. Grisham', 'Alexander Gordon-Lennox', 'John F. Tomlinson', 'George William \"Bill\" Webber', 'Robert Arthur Jr.', 'Mauro-Antonio Santaromita', 'Leon H. Gavin', 'Michael P. Leavitt', 'Park Jung-Soo', 'Carlo M. Cipolla', 'William G. Conley', 'Hayes C. McClerkin', 'Mark F. Green', 'Dr. D. Sudhaker Rao', 'Poghos Bek-Pirumyan', 'Flavius Julius Constantius Augustus (as Augustus)', 'HRH Prince Turki Bin Mohammed Bin Nasser Bin Abdulaziz Al-Saud', 'D. J. MacHale', 'Brendyn \"Tyce\" Carlson', 'L-FRESH The LION', 'Guy B. Gardner', 'Choi Jong-Bum', 'Dale Begg-Smith', \"Daniel O'Shaughnessy\", 'Arron Spiessberger-Parker', 'Sir Michael Montgomerie Alston-Roberts-West', '(Бошко Ѓуровски)', \"Lawrence W. I'Anson\", 'Steve Fatupua-Lecaill', 'David J. Williams', \"Lil' Wil\", 'Mukhtar Qul-Mukhammed', 'So Chau Yim-ping', 'Ri Kyong-Hui', 'Sir Man-kam Lo', 'M. K. Shivajilingam', 'Jean-Pierre Jamieson', 'James B. Kelly III', 'Samuel Perez, Jr.', \"Prosper L'Orange\", 'The Duke of Kingston-upon-Hull', 'Sir Richard King, Bt', 'Roberto Caldeyro-Barcia', 'V. Abdurahiman', 'James W. Broad', 'Alvin T. Smith', 'André Saint-Mleux', 'Tvrtko Kale (changed to Dreshler Kale)', \"Joseph O'Donnell\", '*Tomko', 'Saib-Dahbia Rigaud', 'Quentin P. Smith', 'William F. Schreiber', 'James J. Hines', 'Estia J. Eichten', \"Ken O'Dea\", '(Никола́й Вознесе́нский)', \"Vincent O'Rourke\", 'Mauro Ezequiel Carabajal-Lopez', 'John-Ross Edwards', 'C. S. Lakshmi', 'William W. Evans, Jr.', 'Nimr al-Nimr', 'Gerardo Cortes, Jr.', 'F. Van Wyck Mason', 'James S. Cunningham', 'Melinda Széky-Sztrémi', 'S. P. Kodandapani', 'Pierre-Henri Raphanel', 'R. P. Singh', 'Robert R. Wright', 'B. N. Suresh', 'Isca Greenfield-Sanders', 'Ronald J. Kurth', 'The Hon. Charles Stewart', 'Huang Teng-hui (黃騰輝)', 'Kim In-Sik', 'W. T. McLain', 'Ronnie W. Cromer', 'Graeme J. Hatcher', 'Jolanta Bebel-Rzymowska', 'Howell M. Estes III', 'Walter F. Boron', 'David Greig Browning, Jr.', 'Na Byung-Yul', 'Huang Chen-ya', 'Carlos D. Casartelli Torregrosa', 'Cho Chi-hyo', 'Caitlín R. Kiernan', 'Chinese: Duàn Sīpíng (段思平)', 'Elisha D. Cullen', 'Ri Sang-chol', 'Louis-Joseph Forget', 'Ar-Rashid', 'Abdullah Jaroudi Sr.', 'Peter Hulme-Cross', 'Dr. Mark Greene', 'Paul-Loup Chatin', 'Given name: Dao 導', 'Charles R. Johnson', \"Da'Love Woods\", 'Pierre St. Jean', 'Constantine Mavrocordatos (Κωνσταντίνος Μαυροκορδάτος)', \"Pir Syed Mohammad Yaqoob Shah''' پیر سید محمد یقوب شاہ\", 'Jean-Baptiste Riché', 'Khaled Jamal Al-Brijawi', 'Boniface S. Emerengwa', 'James C. Brown', 'Tai Hsiao-Chun', 'Chang Li-sheng', 'Anthony O’Sullivan', 'Howard S. Becker', 'Clarence \"Pops\" Coleman', \"Timothy O'Neill\", 'C. B. Ratnayake', '(عبدالرزاق محمد)', 'Milka T. Bliznakov', 'Marcus St. James', 'Clarence N. Hickman', 'E. T. Parker', \"Kyle O'Reilly\", 'Alfred Adolph Oerter, Jr.', 'John Kerr, Jr.', 'Edwin M. Truman', 'Émile-René Lemonnier', 'Arthur Thomas \"Tom\" Colten', 'Rudolf E. Havenstein', 'Solomon R. Dresser', 'Bronisława Rychter-Janowska', 'Hassan El-Said', 'Sidney \"Sid\" Kramer', 'R. Bindu', 'Amanda Jayne Maslin-Barr', 'William F. Sullivan', 'Robert W. Heath Jr.', 'Dr. Forrest Bird', 'Roy C. Start', 'Emilio Albert De La Garza, Jr.', 'Tammy Sutton-Brown', 'Jean B. Cryor', 'Robert E. Bellomini', 'Walter F. Buckley', 'Huang Yi-hua', \"Mohammad Sa'ed\", 'Shen Yilun (沈義倫)', '1317-P.80', 'Philipp I, Count of Hanau-Münzenberg', 'Olaus J. Murie', 'विजय सिंह', 'P. K. Sreemathy', 'Donald L. McFaul', 'Donald A. Larson', 'J.P. Morgan', \"Vladimir Dal'\", 'Galila Ron-Feder Amit', 'Richard C. Leone', 'ዕምሩ፡ኃይለ፡ሥላሴ', 'William Willoughby, 5th Baron Willoughby de Eresby', 'F. Clarence Buck', 'Mark B. Madsen', 'Mark G. Inghram', 'Robert P. Aitken', 'Iceal E. Hambleton', 'Sviatopolk Iziaslavovich (Mikhail)', 'L. du Garde Peach', 'Abdulaziz Al-Qosair', 'Victor E. Anderson', 'Orville B. Fitch, II', 'Juan M. Escobar', 'Klaus-Peter Kerkemeier', 'Wang Jung-Hyun', 'Laurel G. Bellows', 'Charles C. Smith', 'G. Sankara Pillai', 'John C. Tkazyik', 'Harvey R. Abraham', 'Sido L. Ridolfi', 'William \"Bill\" Huntington', 'Abū Tāhir al-Jannābī', 'J. Michael Ruane', 'Fred Kornet, Jr.', 'John M. Laval', 'H. Truman Chafin', 'Marta Pihan-Kulesza', 'Z. Mason', 'Eliakim P. Scammon', 'O.S.A.', 'James E. Dalton', 'Yang Chao-hsun', 'Muhammad Tahir-ul-Qadri', 'Gordon E. Cole', 'A. L. Philpott', 'Steven D. Waldman, M.D., J.D', 'James P. Woods', 'Eldon P. Wyman', 'Abu Yaqub Yusuf an-Nasr', 'Man Sai-cheong', 'Paul A. Bell', 'Chun Mi-kyung', 'Elsbeth van Rooy-Vink', 'Jeanette C. Takamura', 'Charles M. Gurganus', 'Lazo M. Kostić', 'Aaron Joshua Amadi-Holloway', 'Cha Du-Ri', 'Mathieu Assou-Ekotto', 'Richard, Count of Coudenhove-Kalergi', 'Hamza (Pakistani politician)', 'Satya N. Atluri', 'Park Seong-tae', 'Trevor Keelor, VrC', 'Alfred \"Dandy\" Lowth', 'Sourou-Migan Marcellin Joseph Apithy', 'Jean-Pierre Blackburn', 'Ferdinand-Joseph Robidoux', \"Paudie O'Sullivan\", 'Hans-Jörg Butt', 'Robert N. Duxbury', \"Charlie O'Brien\", 'H. Lee Swanson', 'Nathan Mitchell Coulter-Nile', 'T. V. Santhosh', 'Pyun Hye-young', \"Mike 'Stevo' Stephenson\", 'Professor A Jamil Khan S.I', 'B. Frank Heintzleman', 'Marius Sudol, PhD', 'Louis-Joseph-Arthur Melanson', 'Kang Ho-sun', 'David P. Szatmary', \"J. Patrick O'Neill\", \"Jun'ichi Hamada\", \"Mike O'Brien\", 'Maria Hamer-Jensen', 'Charles A. Pannell Jr.', 'William F. Knox', 'A. James Gregor', 'Aimé-Romarin Billong', 'Manuel G. Araullo', 'Wilbur Teal \"Brandy\" McCain, Sr.', 'C. H. Sisson', 'Harpreet Sachdeva (Harry)', 'Rudolf of Mecklenburg-Stargard', 'Charles G. Palmer-Buckle', 'Harriet Windsor-Clive', 'John L. Koethe', 'Ola-Dele Kuku', 'James W. Robison', 'Phil P. Leventis', 'Robert K. Byrd', 'Wilfred P. Moore', 'Edith, Eadgyth', 'Given name: Zhoupu (州蒲)', '(허기태)', 'Pierre-Joseph Habert', 'Charles W. Dorman', 'Karl-Theodor zu Guttenberg', 'Makhdoom Khusro Bakhtyar (Seraiki:مخدوم  کسر  بختٻد)', '(Валенти́на Матвие́нко)', 'Laqab: Qutb ad-Din (shortly)', 'Roy V. Baker', \"Kelley Maureen O'Hara\", 'Charles Manners-Sutton', 'Marvin Thomas \"Tommy\" Davis', '(Александар Карађорђевић)', 'The Hon. Mike Cleary AO', \"Pape N'Daw\", 'S. Nadesan', 'Spanish: María Luisa de Borbón y Sajonia', 'K. Frederick Paradesi Babu', 'Rodolpho S. Martinez', 'Tseng Cheng-hua', 'Émile-Gustave Cavallo-Péduzzi', 'John W. Terborgh', 'John E. Barley', 'Denis, son of Ampud', 'Tina Sani (singer)', 'Herbert B. Enderton', 'Nagi Abdalla El-Tomi', 'Dr. Kucho!', 'Dr. Kevin Trench', 'Orlando Spencer-Smith', 'Mary Gonzaga Barry, I.B.V.M.', 'Kim Young-ho', \"Admiral(Retired)Tan Sri Dato' Seri\", 'Ivan G. Petrov', 'Bishop Petru (Musteață)', '(cult suppressed)', 'David J. Lipman', 'Arturo B. Ortiz', 'Dorsey W.M. McConnell', 'Bennett Friedman (age 67)', 'Brent St. Denis', 'John J. McMahon', 'Madeline \"Maddie\" Warner', 'Hugh H. Smythe', \"François Boissy d'Anglas\", 'Pete \"El Conde\" Rodríguez', 'Lawrence M. Schoen', 'Rose-Adélaïde Ducreux', 'Dr. Thorndyke', 'Donald Lines Jacobus,FASG', 'William A. Rawls', 'Joseph Louis Gay-Lussac', 'Lim Shen-Yan Freida', 'James Asheton Bayard, Sr.', 'John N. Williamson', 'T.P. Kailasam', 'Mohammed al-Dairi', 'Ann-Sophie Qvarnström', 'Amadeus VI, Count of Savoy', 'Goodrich R. Fenner', 'Park Tae-Gyu', \"Luke O'Dwyer\", 'Liu Guosong (Liu Kuo-sung)', \"Edmund O'Toole\", \"D'Arcy Niland\", \"Ch'ae Man-Sik\", 'Ortrie D. Smith', 'John S. Grinalds', 'Vicki L. Hanson', 'Henry J. McGlew', 'Thomas Alan \"Tom\" Greene', 'Donald W. Merricks', 'Joan O’Flynn, Siobhán Ní Fhloinn', 'James Lowry Jr.', 'Alfred M. \"Long\" Jones', 'Saint Plechelm, O.S.B.', 'Iván DeJesús Jr.', 'Ion I. Câmpineanu', 'Glen W. Martin', 'St. Edmund Gennings', 'Wylie W. Vale, Jr.', 'Karl-Hans Kern', 'C.E. Murphy', 'Graham M. Robbins', 'Jean-Paul de Jong', 'Stephen G. Weber', 'Thomas T. Matteson', 'Edward B. Davis', 'Margaret of Brunswick-Lüneburg', 'परेश रावल', 'T. Wilson', 'Ilija Jovanović-Pčinjski', 'Henry VI, Count of Waldeck', 'Lee Soung-Yong', 'Michael J. Howlett, Sr.', 'Colin Priestner (Coe-in)', \"Luke O'Donnell\", 'Kenneth C. Laudon', \"Deborah O'Neill\", 'Heikki Savolainen (gymnast)', 'Suzanne R. Day', 'Harry D. Wilson', 'Robert Douglas George (Bob) Stanbury', 'Bestia 666', 'A. J. Quartermaine', 'Amet-Khan Sultan', 'Jerry L.Buchmeyer', 'Lele; Ezequiel', 'William H. Fleece', 'John \"Cornbread\" Anderson', 'William Park Jr.', 'George W. Bryant', 'Gary R. Roberts', 'G. Chandler', 'Raymond J. Bowman', 'Jean-Pierre Kotze', 'Dr. Gangrene', 'Rev. Thomas Dick', 'M. C. Muthanna', 'Sir Mordaunt Martin, 4th Baronet', 'Avalon-Chanel Weyzig', 'Ting Mao-shih', 'Frank \"Bunch\" Davis', 'Elinor Bellingham-Smith', 'M. Mukundan', 'Leung Kwok-hung', 'Sebastian Ridley-Thomas', 'Maurizio Rocha-Villarroel', 'Ildikó Újlaky-Rejtő', 'Assaf al-Khalifa', 'Joseph C. Pollet', 'Lem T. Jones, Jr.', 'Bishop Gilbert E. Patterson', 'Rayan Khaled Al-Boqami', 'Kwesi Ahoomey-Zunu', 'Francis (Archie) Archibald', 'Carmen R. Velasquez', 'Lindy Nelson-Carr', 'Phetpanumrung Mor.Rattanabundit', 'Robert B. Hall', 'Seaneen Molloy-Vaughan', 'Sir Francis Samuel Drake, 1st Baronet', 'Brian K. Hall', 'Samuel F. Sears, Jr.', 'Marc A. Cote', 'Ismael Blas Rolón Silvero, S.D.B.', 'Ryad Assani-Razaki', 'Nicholas K. Lindheim', 'Thomas W. Bennett', 'Czesław Ryll-Nardzewski', \"Samah Mar'ab\", 'Louis-Bernard Guyton de Morveau', 'Tseng Ming-chung', 'Ko Min-hyuk', 'J. L. Austin', 'Jean-Baptiste Rey', 'John Ellett Jackson, Sr.', 'Lee Bo-eun', 'Ebenezer W. Peirce', 'Maganti Murali Mohan ( Born : Maganti Raja Babu )', 'Scott D. Davis', 'Tsend- Ochir Tsogtbaatar', 'Hsin Shih-chang', 'Imam-ul-Haq', 'Charles Magnus of Baden-Durlach', 'V. Muraleedharan', 'L.A. Lopez', 'Lee Ji-hyun', 'J. Hugh Nichols', 'I. J. Good', 'Blessed Maria Teresa of St. Joseph', \"Antónia d'Astónaco\", 'Keith W. Dayton', 'Lee Jae-jin', 'Taqi ad-Din', '(Пётр Михайлович Латышев)', 'Yacine Ait-Sahalia', 'فيليبس الجميّل', 'K. V. Chowdary', 'The Baroness Hussein-Ece', 'Henry Frazier, III', 'V. S. Naipaul', 'Dr. Edward Leo Cochran Jr.', 'Emma P. Carr', 'Ni Chia-Ping', 'Kenneth M. Slater', 'Emil du Bois-Reymond', 'Irwin G. Priest', 'Anne S. Young', 'DJ U-Neek', 'Louis \"Dicta\" Johnson', \"Kent O'Connor\", 'Dr. Franco J. Vaccarino', \"Dr Satendra Pratap Nandan'''\", 'John Neville, 4th Baron Latimer', 'Lee Kyu-seong', 'Ilias P. Kasidiaris', \"José Guillermo 'Pantalones' Santiago\", 'Francis C. Heitmeier', 'Tjitske Nienke (Cisca) Wijmenga', 'Sir C. V. Raman (Chandrasekhara Venkata Raman)', 'Yun Chi-young', 'G. Love', 'Mark R. Showalter', 'Cecil Day-Lewis', 'James Shepherd Freeman, Sr.', 'Philip N. Cohen', \"Ruh al-'Alam\", 'Andrew Cave-Brown', 'Glenn Edward Moses, Jr.', 'John M. Broughton', 'H. Richardson', 'Kent A. Kramer', 'Charlotte of Schaumburg-Lippe', 'Louis E. Willett', 'Elbernita \"Twinkie\" Clark', 'Prince Nugzar Bagration-Gruzinsky', '(Драган Којадиновић)', \"Damien O'Kane\", 'Lee Young-wook', 'Panichgul, Thakoon', 'Julius C. Burrows', 'J.Trill', 'Edward F. Arn', 'Capt. Charles Saalmann', 'William Brooke, 10th Baron Cobham', 'Jozef-Ernest van Roey', 'J. F. Powers', 'Reynaldo Anzaldua Jr.', \"James O'Halloran\", '(홍명보)', 'Louis P. Fuhrmann', 'Lee Hak-min', 'John, Count of Angoulême', 'Shmuel (Rubashkin) Eyal', 'Mary L. Wiseman', 'Frederick H. Michaelis', 'Dipl.-Ing. Gerhard Conrad', 'Roderick R. McLennan', 'Foxhall A. Parker, Jr.', 'Elenito R. Galido,', 'Saint Frances of Rome, Obl.S.B.', 'Thomas V. Chema', 'Samy-Oyame Mawene', 'Dominic Nathaniel Calvert-Lewin', 'Bill Wayne \"Billy\" Clayton', 'K. D. Cannon', 'James Edwin Bolin, Sr.', 'James W. Rutherford', 'Alan J. Gerson', 'J. T. Bruett', 'Air Marshal (retd) Enamul Bari', '(CMRN)', 'Daniel Huston, Jr.', 'Chin Hsiao-hui', 'William Lawson Little, Jr.', '(Hoàng Văn Xiêm)', 'Marcy Levy/Marcella Detroit', 'John de Mowbray, 1st Earl of Nottingham', 'Romuald-Charlemagne Laurier', 'Charles W. Harlow', '1314-P.39', 'John C. Brodhead', 'Kathryn S. Holloway', 'A. B. Rajendra', 'Brian M. Morris', 'John J. Conroy', 'David W. Mack', 'John C. Wright', \"Edward O'Grady\", 'Calaum Jahraldo-Martin', 'Stéphane \"Ippo\" Susperregui', 'Samuel Kofi Date-Bah', 'Samuel W. (Wat) Arnold', 'R. Norval Garrett', 'Ko Cha-Won', 'UHLÍKOVÁ-VOŠTOVÁ Ilona', 'Lee Sang-Ha', 'Robert A. Swanson', 'Artie C. Rennie', 'Chang Fu-hsing', \"Gerard O'Brien\", 'F. M. Hardacre', 'David G. Kabiller', 'Mikhail Shervashidze/Chachba', 'Woo Pak-chuen', 'Richard Greville Arthur Wellington Stapleton-Cotton', 'Edward T. Foote II', 'E. Baumeister', 'Yeh Yung-chieh', 'Elmer F. Jacobs', 'Mirza Nasir ud-din Baig Muhammad Khan Humayun', 'Yun Song-mi', 'David H. Shinn', 'David C. Bradley', 'N. Surendran', 'Rose Hudson-Wilkin', 'Mrs. Lovett', \"Matthew D'Aquino\", 'Robert M. Bell', '(Charles) David White', 'Lyuben Lyubenov Dilov Jr.', 'Steven A. Hawley', 'Roujet D. Marshall', 'Marina Pettersson-Engström', 'Kim Jong-Seong', 'Maria Rosaria \"Rosy\" Bindi', \"Kathleen Murray O'Sullivan\", \"Joseph Henry O'Neil\", 'Stephan P. Mickle', 'K.P.Kulothungan', 'Boleslaus I, Duke of Bohemia', 'Louis William Valentine Dubourg, S.S.', 'Karl M. Guðmundsson', 'Richard L. Weldon', 'Bruce Douglas-Mann', 'Blessed Luchesius of Poggibonsi, T.O.S.F.', 'Blessed Miriam Teresa Demjanovich,S.C.', 'Jean-Yves Lechevallier', 'Albert H. Humes', 'Thomas G. Power', 'Jung Sung-Ho', 'John VI, Duke of Mecklenburg', 'Susanna M. Salter', 'Jean-Paul Beaubier', 'Adolphus P. Nelson', 'Major GeneralK.A.D. Amal KarunasekaraRSP,VSV,USP,ndu,psc,MSc', '\"Ice Cold\", \"Ukraine Freight Train\", \"North Weapon\"', 'Hans-Dieter Betz', 'Matthew A. Hunter', 'The Rev. James Lloyd Breck', 'Honest, The Hurricane', 'Frank H. Farley', \"Junior Randal Oto'o Zué\", 'Kim Sa-nee', 'Paulus Tarcisius Maria \"Paul\" Litjens', 'E. A. Wallis Budge', 'James Rowland Scarlett-Streatfeild', 'P. J. Molloy', \"Paul Joseph O'Shaughnessy\", 'Peter I P Kalmus, OBE', 'Qahtan Muhammad al-Shaabi', 'David W. Oxtoby', 'Iqbal Ahmad Khan, \"Suhail\"', 'P. J. Kavanagh', 'Ramiro Sánchez, Lord of Monzón', 'Rana Ali Imran (علی عمران)', 'Cheryl C. Kagan', 'Violet Douglas-Pennant', 'Jean-Charles-Léon Danjoy', 'Lee Jeong-hyeop', 'Richard G. Stilwell', 'Donald H. Tuck', 'Camillo M. Gonsalves', 'Chang Tong-rong', 'D.J. Mac an Ghaill', 'Arthur St. Norman', 'J. Michael Bishop', 'Arthur \"Chip\" Engelland', 'Devan (R. Mahadevan)', \"Yang Mulia Raja Ahmad Nazim Azlan Shah Ibni Raja Dato'seri Seri Ashman Shah (as birth)\", 'Hussain Al-Showaish', 'S. U. Ethirmanasingham', 'James A. McDonald', 'Louis César de Bourbon, Légitimé de France', 'Joseph Stephenson-Jellie', 'Nicolas Isimat-Mirin', 'Luther F. Carter', 'William B. Franke', 'György-Miklós Jakubínyi', \"Joseph Stephen O'Leary\", 'Foster F. Diebold', 'Alan P. Merriam', 'Elwood L. Thomas', 'Grace T. Hallock', 'Gene E. Robinson', 'Richard E. Bellman', 'Robert W. Camac', 'Dr.Hamsalekha', 'Louise O’Hara', 'Jim-Patrick Müller', 'Ilaisa Futa-i-Haangana Helu', 'R. C. Slocum', 'Julien Dupré (Dupre)', 'John Heathcoat-Amory', 'Rajiv L. Gupta', 'Cecilia Hae-Jin Lee', 'Hans-Dieter Mirnegg', 'Most Rev. John Timon, C.M.', 'John W. Gilmore', \"Al-Mu'tamid\", 'Sangeet-Siddharth Haldipur', 'Rev. H. H. Nolan', 'V. Krishnaprasad', 'Désiré M´Bonabucya', 'José Mª. Cabral Bermúdez', \"K'an I\", 'Carmen M. Amedori', 'Jonah Parzen-Johnson', 'Benny N. Napoleon', '- Lucas Ludlow-Dalt', 'Mark J. Millan', 'Shirley M. Tilghman', 'Sir John Gathorne-Hardy', 'Arman-Marshall Silla', 'A. Randolph Lusby', 'Edward M. Burke', 'J. Hugo Aronson', 'Edwin P. Wilson', 'Ray Darryl Tarver, D.D.S..', 'César-Jean Ruminski', 'William H. Phelps Jr.', 'Emerson C. Harrington', 'James F. Collins', 'Peter G.O. Freund', 'Ruth M. Kirk', 'C. J. Bruton', 'L. Mendel Rivers', 'Christian A. Herter, Jr.', '(Варвара Зеленская)', 'A. C. Green', 'Emily CoBabe-Ammann', 'Traditional Chinese:韓世忠', 'Son Hyung-sun', 'Emmanuel Agyemang-Badu', 'The Rev. John McClintock', 'George J. Musgrove', 'Steven N. Olson', 'Johnny \"Guitar\" Watson', 'M. H. A. Haleem', 'James L. Herdt', 'Drucki-Lubecki', 'G. W. Temple', 'George S.  Latimer', '漢人 陽子\\u3000(Kando Yōko)', 'Arthur Percival Foley Rhys-Davids', 'Kao Chih-kang', 'Jacques Miller (ACFRSFAA)', 'Paul C. Shomshor, Jr.', 'David W. Marsden', 'Sir Auguste-Réal Angers', 'Matthew F. Hale', 'Ignacio Tinoco, Jr.', 'George H. King', \"Alaa' Matalqa\", 'Syaiful A.A. Lewenussa', 'Mary J. P. (Maura) Scannell', 'James B. Longley', 'Ted F. Schroeder', 'Elias C. Aifantis', 'Frank B. Archer', 'David W. Ballard', 'William F. Sharpe', 'Robert C. Buell', \"Eamon O'Neill\", 'James C. Kirby', 'Percy Hattersley-Smith', 'William Vernon Crawford-Compton', 'Vratko Nemanjić - Jug Bogdan', 'David Siderovski, PhD', 'William John Charles Kennedy-Cochran-Patrick', 'Daniel B. Allyn', 'पुरुशोत्तम काशीनाथ केळकर', 'Ludwik Konarzewski (junior)', 'Yun Ju-tae', 'Robert A. Rescorla', 'Thomas M. Montgomery', 'Frederick A. Lyon', \"D'Urban Victor Armstrong\", 'Robert B. Dorigo Jones', 'Dominick J. Ruggerio', 'Yoo Soo-Hyun', 'Edward D. Shames', 'Kurt S. Browning', 'A. M. Rajah', 'Caroline D. Krass', 'Anne-Louis Girodet', 'Adyar K. Lakshman', 'Christine L. Donohue', 'José-Hipolito Roncancio', 'Neal C. Wilson', 'Wu Kuo-Chen', 'Philip Hammond/Hamman, Sr.', 'Jürgen L. Müller', 'Anne-Katrin Schott', 'Kim Myong-Won', 'Edward J. Thye', 'Chiou I-jen', 'Lorenzo G. Villanueva', 'Lise-Marie Henzelin', 'Elam Sparks \"E. S.\" Dortch', 'Sylvester Jr.', 'Jennifer L. Mann', 'William M. Bodiford', '(Saint Damien of Molokai)', 'Charles A. MacLellan', 'Charles J. Colgan', 'Harald W. Krenn', 'A. R. A. M. Abubucker', 'István Závodi-Zavadsky', 'Joshua \"Josh\" Holiday', 'Sophie Audouin-Mamikonian', 'William H. Mosby', 'William Knightley-Smith', 'Jeffery Batters Home-Hay', 'Jean-Claude-Léonard Baveux', 'T.R. Ramadas', \"Martin O'Malley\", 'John D. Cherry', 'Jonathan (Dana) Wilson', 'Jean-Paul Laurens', 'David J. Malan', \"Gay Jacobsen D'Asaro\", 'Charles P. (Chuck) Thacker', 'Robert J. Hermann', 'Verena Huber-Dyson', 'Jacques-Olivier Bureau', \"Terry O'Connor\", 'Sir Josias Rowley, Bt', 'Hermann-Albert Schrader', 'Mohammed Al-Sharif', 'ಗೌರೀಶ ಕಾಯ್ಕಿಣಿ', 'Charles H. Zimmerman', 'Thomas H. Bagley', 'Stafford L. Warren', '2Mex', 'Janele Hyer-Spencer', 'Shannon R. Valentine', 'Amory T. \"Slats\" Gill', 'William Burch Lee, Sr.', 'José María Gil-Robles', 'Justin Sane (In professional wrestling)', 'Chang Yi-ning', 'Diamond, The Irish Assassin', 'Ching-Ming Wang', \"Henry Fa'arodo jr.\", 'Kadašman-Ḫarbe I', 'Anton-Rudolf Piffer', 'Karl-Hermann Millahn', \"Richard d'Evreux\", 'फ़ौज़िया  तहसीन ख़ान', '(ლევან ყენია)', \"Chris O'Brien\", 'Andrew E. Busch', 'GATIEN Jean-Philippe', 'Jane W. Robinson', 'Erwin S. Hochmair', 'Marry A. Somby', 'George Leon Nattin, Sr.', '(Cardinalof theCatholic Church)', 'Nigel Paul C. Villarete', 'Song Ui-young', 'B. Howard', 'Edwin O. Smith', 'Wilfred Austin “Wilf” Curtis', 'Kazuo “Shin Sen” Hamasaki', 'Ellis H. Roberts', 'James C. Kirunda', 'V. K. Ebrahimkunju', 'AK-69', 'Joseph-Alfred Dion', 'Thais Soa-Escolar', 'Kim Sun-Kyu', 'Marie-Sophie Nadeau', 'Laura Cha-Yu Liu', 'George Edgar \"Buddy\" West', 'Abd al-Muhsin Al-Saadoon', 'L.P. Grant', 'Lee Yong-Seung', 'Earl M. Hardy', 'Julius C. Gunter', 'Lafayette F. Mosher', 'Thomas G. Carpenter', 'John \"Barney\" Hines', 'James S. Brown', 'Edward J. Early, Jr.', 'Malise mac Gilleain, 2nd Chief', 'Joseph-Philippe Guay', 'Frederick W. Rodgers', 'Satish K. Tripathi', 'Dai-Kang Yang', 'Tupac A. Hunter', 'Edward J. Bebb', 'William \"Bill\" Daniel', 'P. Mohan', 'K.D. Prasad Gaur', 'Sherman E. Burroughs, Jr.', 'Alan J. Perlis', 'Gunning Bedford Sr.', 'W. M. Nicholson', 'S. Sivanesan', 'Walter J. Schoenherr', 'John J. DeGioia', 'Tony Rand (Anthony Eden \"Tony\" Rand)', 'Friedrich-Georg Eberhardt', 'C. Achutha Menon', 'G. V. Punchinilame', 'Edward W. Hinks', 'Abu Yusuf al-Mansur', 'Jean-Robert Argand', 'Forman S. Acton', 'Michael J. D. White', 'Michael B. Diven', 'Joseph P. Riley Jr.', 'Liu Cheng-ying', 'Anne-Marie Trevelyan', 'Roditi, David', '(Юмжаагийн Цэдэнбал)', 'Hwang Hun-Hee', 'Jean-Claude Bastos de Morais', 'H. G. Hadden', 'Charles W. Moorman IV', 'Guillaume-Henri Dufour', '12th Planet', 'Andrea Purner-Koschier', 'Jean-Louis Arcand', \"Bill O'Connell\", 'John T. Rich', 'T. H. Breen', 'Venerable Maria del Carmen González-Valerio', 'William W. Landsberg', 'William C. Fitzgerald', 'Kemp P. Battle', 'Ammiel J. Willard', 'Dan-e-o', 'Hanun-Dagan', 'Daniel O. Hastings', 'Meleana \"Mana\" Shim', 'Robert A. Hastey', 'Tim Bowman, Jr.', 'Charles H. Tweed', 'Craig Braham-Barrett', 'Yehia El-Gamal', 'रवीन्द्र प्रभात', 'O.S.M.', 'John R. Tunheim', \"Jerome X. O'Donovan\", 'Kenneth Ofori-Atta', 'Stuart St. Clair', 'Sir John McMahon, Bt', 'Małgorzata Kidawa-Błońska', 'Nicholas A. Christakis', 'María Josefa Pimentel, Duchess of Osuna', 'Charles Q. Williams', 'Michael P. Murphy', 'Joseph W. Oxley', 'R.C.Prakash', 'Anthony M. Young', 'Floyd Adams Jr.', 'James Hamilton Jr.', '(Ευστάθιος Ταυλαρίδης)', 'C-3PO', 'Johannes N. Hoffmann', 'José-Manuel Fuente', 'David A. Ure', 'সৈয়দ রশীদ আহমদ জৌনপুরি', 'Charles II of Hesse-Philippsthal', 'Mary Prokofis asuli Eristavi-Shervashidze', 'H. T. Summersgill', 'Karl-Gustav Sauberzweig', 'Timothy J. Kask', 'Benjamin Raymond Marsh, Jr.', 'Thomas Baker Knight Jr.', 'Robert B. Wood', 'A. J. DeMedio', 'Song Tae-Lim', 'Derek E. Miller', 'S. Andrew Swann', 'Klaus F. Müller', 'William M. Ruthrauff', 'Tony F. Mack, Sr.', 'Nicholaus R. Kipke', 'Joseph-Édouard-Émile Léonard', 'Joseph (Osip Ivanovich) Bové', 'Jean-Marc Germain', '1315 (1899)P.-2', 'Shekhar Dutt (SM)', 'Paladine H. Roye (Pon-Cee-Cee)', 'D.R.A.M.', 'Chan Kam-chuen', 'Frank R. Mayo', 'Bertille-Mallorie Ali', 'Michael O;Shea', 'Charles-Félix Cazeau', 'Alfred Baxter-Cox', 'S. Subramani', 'George C. Cox', 'Elza T. Renfro', 'John Stanhope Collings-Wells', 'Arafa El-Sayed', 'Saint Ursicinus of Saint-Ursanne', 'Abdallah Al-Jazi', 'Louis V, Elector Palatine', 'Park Kyung-hwa', 'John Thomson Mason, Jr.', '(CBE)', 'Steven W. Cantrell', 'Raleigh \"Biz\" Mackey', 'Willem Eduard Bok, Jr.', 'Brig Gen. (Ret.) Gary Pendleton', 'Richard D. Kisling', \"John D'Emilio\", 'Jerónimo de Loayza y González, O.P.', 'Jean-Christophe', 'Dr. Herward Braunegg', 'D.M. Cornish', 'Peter N. Silvestri', 'Michele S. Jones', 'William A. Martin', 'Won-G Bruny', 'L.A. Smooth', 'Jean-Marc Adjovi-Bocco', 'William M. Clayton', 'Jean-Marc Nattier', 'Ephraim P. Holmes', 'W. Wood', 'Frank S. Pepper', 'Lewis J. Powers', 'Given name: Dawud', 'Laurie S. Fulton', 'James Q. Wilson', 'Prof. Dr. Craig L. Hill', 'J. Walker', 'Stanley J. Jarolin', 'David S. Mao', 'Sherrill W. Ward', 'Lee Hyung-doo', 'A. P. de Candolle', 'Chern Jenn-chuan', 'John Cromwell Bell Jr.', 'Eric G. Fright', 'Marcario (Macario) García', 'Elizabeth S. Russell', 'Hal Bruce Jennings, Jr.', 'George C. Tichenor', 'Douglas N. Jackson', 'Michael J. Bronson', 'Bandar Auddah Al-Enezi', 'Franklin B. Ware', 'N. M. Mohan', 'Bernard L. Austin', 'Sir William Cusack Smith, 2nd Baronet', '(خلیل الرحمان رمدے)', 'Tomas V. Apacible', 'John W. Firor', 'Lisa-Marie Utland', 'William M. McVey', 'Thomas Bennett Jr.', 'Reinhard I, Lord of Hanau', \"Maleye N'Doye\", \"Calvin's parents\", 'Micheline Calmy-Rey', 'Kenneth R. Shadrick', 'Misia Ff (Furtak)', 'St. Rafael Arnaiz Barón', '(عبد الرحمن حسن عزام)', 'John P. Campo', 'Gerardo \"Jerry\" Velez', 'Courtney Alexandra Sweetman-Kirk', 'Catherine Hermary-Vieille', 'Bob Davies-Jones', 'Elmer D. Mitchell', 'Hassan Abdel-Fattah', 'Kodandera C. Cariappa', 'W. Scott Bales', 'Phil Horrocks-Taylor', 'Thomas H. Jonasson', 'The Lord Hore-Belisha', 'Elinor Brent-Dyer', 'James A. Michener', 'Friedrich-Wilhelm Thorwest', 'Harold C. Smith Jr.', 'Myron P. Lotto', 'Elpidio Barzaga, Jr.', 'Kenneth J. Veenstra', 'Dr. Horton Hobbs', 'John V. McCarthy', 'Jorge de Melo, o Lagio', 'Chien-Ying Chang', 'Renzo Tjon-A-Joe', 'Jules Bastien-Lepage', 'Matthew Aylmer, 1st Baron Aylmer', 'Marcelo C. Blando', 'Henry J. Althoff', 'Mohammed Salim Khalfan Al-Mashari', 'Thomas Newton Jr.', 'Hans-Jürgen Stumpff', 'Albert, duc de Broglie', 'Emily Blackwell, M.D.', 'Kim Guy-hyun', 'မင်းလှညက်', 'John S. Robinson', '1312-Sv.6', 'E-40', 'Gustav A. Maass Jr.', 'Bennie G. Adkins', \"Josh O'Keefe\", \"Mobulu M'Futi\", 'Joseph M. Lyons', 'Samuel Woodroffe Hollis (née Moore)', \"David Papys M'Bodji\", 'Pierre-Hugues Boisvenu', 'George C. Casella', 'Ko Jung-sun', 'Joni L. Jenkins', 'Connie G. Maine', 'Roh Hoe-chan', 'Henry III, Count of Gorizia', 'Tracy I. Storer', 'George A. Ricaurte', 'Jock Hamilton-Baillie', 'Joseph-Alcide Savoie', 'Eric W. Benken', 'S. M. Sabry', 'Mehdi Hassan Khan (singer)', 'Sarvajña ಸರ್ವಜ್ಞ', 'దువ్వూరి సుబ్బారావు', 'Sir Arthur John Dorman, Bt', \"Nuun Ujol K'inich\", 'Daniel B. Moore', 'Dorothea of Schleswig-Holstein-Sonderburg-Beck', 'Ty Dolla $ign', 'William H. F. Fiedler', 'Wen Ning-Meng', 'Charles H. Johnston', 'Rodney E. White', 'Paul A. Dixon', 'Lee Mi-ja', 'Isagani A. Cruz', 'Audley Gillespie-Jones', 'P. C. Thomas', 'Dr. Alfred O. Adams', 'A. Thiagarajah', 'Peter J. Fos', 'Roger D. McKellips', 'Kim Geun-Chul', \"Na'ama Cohen\", 'P. Wayne Sexton Sr.', 'Jon M. Gibson', 'Ron Robertson-Swann', 'Reid Moore, Jr.', 'John Minshull-Ford', 'Edmond T. Parkin', 'কবীর চৌধুরী', 'Ralte L. Thanmawia', 'William A. Griswold', 'Noel W. Campbell', 'Saint Antoninus, O.P.', 'Frederic R. Harris', 'St. Joan Elizabeth Bichier des Ages,F.C.', 'Peter Ofori-Quaye', 'Alfred W. Debo', 'W. J. Sutton', 'Lee Soo-Gil', 'Yang Hyeon-Jong', 'H.G. Nicolson', 'Masked Burning #2', 'James M. Kelly', 'Harry M. Comins', 'Robert G. Bartle', 'Joseph A. Langone, Jr.', 'Jo-Jo Morrissey', 'J. Smith', 'Charles E. Winter', 'नाहिद हसन', 'Georges St-Pierre', 'Hamad Khalifa Hamed Al-Azani', \"G'Kar\", 'Robert A. Loftus', 'Jeannot Ahoussou-Kouadio', 'Karl Zinsman Jr.', 'Li Mao (李瑁)', 'Steven K. D&#39;Arcy', 'Robert Claude Simpson-Anderson', 'Saints Alphius, Philadelphus and Cyrinus (Alfio, Filadelfo and Cirino)', \"Denise O'Connor\", 'Kittipong Loon-jak', 'Michael Mekelburg, Jr.', 'Dennis A. Dougherty', \"Edward Cornelius O'Leary\", 'Walter Seelmann-Eggebert', 'Lawrence (Larry) B. Schook', 'Joseph W. Tobin,C.Ss.R.', 'Ghillean T. Prance', 'Israel \"Iz\" Kamakawiwoʻole', 'George A. Howe', 'Հասմիկ Կարապետյան (Քիրմիզեան)', 'Monte M. Katterjohn', 'Khaled Al-Hazaa', 'Su-Shu Huang', 'Abdul Razzaq as-Sawsa', 'J.M. Staniforth', 'Matthew G. Carter', 'Alan L. Eggers', 'D. C. (Deese) Thompson', 'Alvin C. Bush', 'Gary J. Young', 'Stephen A. Swails', 'Rogvolod-Boris Vseslavich', 'Clarence A. Barnes', \"Cormac Murphy-O'Connor\", 'George F. Elliott', 'Alan B. Williams', 'Mtutura A. Mtutura', 'No Jin-hyuk', 'Joe Stell, Jr.', 'Artak L. Aleksanyan', 'Terry W. Virts, Jr.', 'Maria Höfl-Riesch', 'Karl-Heinz Körbel', 'Vincent Domanski Jr.', 'T. Kurukularajah', 'Jean-Claude Lebaube', \"Jean-Paul 'Bluey' Maunick\", 'Sir Robert Eden, Bt', 'Charles F. McMillan', 'Wang Kwo-tsai', 'Yves Makabu-Makalambay', 'Dina Asher-Smith', 'J.H. Soeder', 'David C. Landers', \"Matteo D'Alessandro\", 'Park Yong-Ji', 'Park Se-ryong', 'John II, Marquis of Namur', 'Hussam El-Badrawi', 'Alexander Friedrich-Wilhelm Georg Konrad-Ernst-Maximilian', 'Robert C. Lieberman', 'Mcbess(Matthieu Bessudo)', 'Charles L. Thomas', 'A. J. Meek', 'Robert (I.)', 'Günther \"Hans\" von Kluge', 'Richard S. Heyser', '(M.Q.R.)', 'Stefan Hula Jr.', 'John N. Irwin', '(روح الله خالقي)', 'Jean-Pierre Papin', 'Andrew A. Serafini', 'Karl-August Fagerholm', 'Sidney L. Jones', 'David E. Miller', 'Edgerton W. Day', '(ايمان الاسدي)', 'Douglas Ray \"Doug\" Miller, I', 'Rudolf Stöger-Steiner von Steinstätten', 'Charles H. Ham', 'Sir Harry Smith, Bt', 'Lin Cheng-sheng', 'Robert Edward Osborne-Smith', 'Rose-May Poirier', 'Erwin Ding-Schuler', 'S. B. Nawinne', 'James Harrell \"Jim\" Herring, Sr.', 'Maryna Gąsienica-Daniel', 'C. S. Jayaraman', 'Dickens St. Vil', 'Bantz J. Craddock', 'Michael J. McCann', 'Erika Seltenreich-Hodgson', 'Mustafa Mahdi Al-Bassas', 'Saint Joseph Freinademetz, S.V.D.', 'Lewis Malone Ayer, Jr.', 'Leroy M. Garcia, Jr.', 'Michael M. Crow', 'William J. Green, III', 'Lionel W. McKenzie', 'Heath Wallace Miller Esq.', 'Benjamin F. Deming', 'Chen Jiunn-ming', \"M. Francois D'Eliscu\", 'Neil R. Grabois', 'Mr. Desmond Tiny', '(Nicoletta Grisoni)', 'Mend-Ooyo Gombojav', 'Widner Saint-Cyr', 'Michaela \"Mickey\" Shiloh', 'R. L. Sullivan', 'Sir John Laforey, 1st Baronet', 'Hans-Peter Lehnhoff', \"Richard O'Connor\", 'Heather Simmons-Carrasco', 'Sir Somerset Gough-Calthorpe', 'Khalid Al-Jaber', 'William \"Billy\" Tucci', 'Thomas Louis Tolles, Jr.', 'Thomas R. Turner II', 'William G. Martin', 'M. F. S. Pulle', 'Ferdinande Henriette, Countess of Stolberg-Gedern', 'Berta E. Baker', 'John S. Wilson', 'Luis Raymund Villafuerte, Jr.', 'David A. Whiteley', 'Brigitte Gapais-Dumont', 'Ronald J. Garan Jr.', 'Ann C. Whitman', 'R.C. Bannon', \"Andy O'Brien\", 'Gilbert J. DiNello', 'Saint Candida Maria of Jesus, F.I.', 'C. K. Williams', 'J. Wells', 'Patrick Gerry-Anthony Alcala Reichelt', 'John A. Nerud', 'Susan M. Johnson', 'R. Bouillet', 'Frederick II, Count of Celje', 'Vanja Milinković-Savić', 'Anthony C. McAuliffe', 'Ch. Prem Singh', 'John A. Giannetti, Jr.', \"Oscar D'Agostino\", 'Taha Hussein (', 'Ri Yong-jik', \"James O'Donnell\", 'অসীমা চট্টোপাধ্যায়', 'Marcus M. Merritt', 'William D. Smith', 'Bosco Pérez-Pla Alvear', 'Karl-Gottfried Prasse', 'W. P. “Buck” Astle', 'Jyu4 Sing4-wai6', 'Edwin M. Price', 'Jean-Claude Lemoult', 'Ray W. Jones', 'Chester B. Bowen', 'Nu:Tone', 'Karl-Erich Berg', 'Jamal al-Jamal', 'François \"Frank\" Blais', 'Florence Carter-Wood', 'Carmelo Domênico Recchia, O. Cist', \"Juan'ya Green\", \"John O'Donnell\", \"Claud O'Donnell\", 'T. Brooke Benjamin', 'Hamid Al-Shaeri', 'Jean-Pierre Stirbois', 'Zaheer-ul-Daulah Artuk Beg', 'Meribeth E. Cameron', \"Ya'akov Berihon\", 'R. Owen Williams', 'Sidney (Sid) Labe Buckwold', \"Daudet N'Dongala\", \"Adam D'Apuzzo\", 'Jon B.', \"Brian O'Meara\", 'Robert LeBreton \"Bret\" Allain, II', 'Engelbert III, Count of Gorizia', 'Karin Kock-Lindberg', 'Lee In-jae', '(宮里 藍)', 'J. Caleb Boggs', 'Aloysius MasnataS.J.', 'Lyall {Malcolm} Watson', 'Mokhtar Al-Shanqiti', 'Lee Jong-Hyun', 'Shin Bo-Me', 'Raymond D. Bowman', 'The 4th Baron Ashton of Hyde', 'John G. K. Ayers', 'Ralph H. Demmler', 'Judson L. Transue', 'J.R. Writer', 'Douglas J. Feith', 'Lt. Col. Arthur Noble', 'Gary P. Weeden', 'B. K. Sadashiva', 'Raymond Faitala-Mariner', 'D. Vincent Williams', 'Peter R. McCullough', 'Clinton Leonard Jones, Jr.', 'Kim Jong-hyun', \"Erin O'Connor\", 'Ambrose Powell Hill, Jr.', 'Thomas Bennet-Clark', \"Jack O'Hara\", 'Nelson Story, Jr.', 'Hans-Dieter von Basse', '(at birth)', 'William G. Austin', 'Harry Gregson-Williams', 'Marc A.J. Laberte', 'Herman IV, Landgrave of Hesse-Rotenburg', \"Michael James O'Rourke\", 'Karl Habsburg-Lothringen', 'Ilie-Constantin Ciotoiu', 'Yasser Al-Qahtani', 'T. C. Brister', 'Kim Hyang-Suk', '(Микола Гурович Куліш)', 'Daniel B. Lloyd', 'Wikolia Kamehamalu Keawenui Kaahumanu-a-Kekūanaōʻa, Victoria Kamāmalu Kaahumanu IV', 'C. P. Newton', 'James A. Cody', 'Josef-Georg Mulzer', 'John I, Duke of Brunswick-Grubenhagen', 'Chera-Lyn Cook', 'Heo Kyung-hwan', 'Philipp Ludwig III, Count of Hanau-Münzenberg', 'B. J. Hill', 'Cathy Ubels-Veen', 'Witold Gintowt-Dziewałtowski', 'James H. Fagan', 'Dr. Jazep Sažyč', 'St. Agnes of Montepulciano, O.P.', 'Carl W. McIntosh', 'Theodoor (Theo) van der Horst', 'Rudolf II, Margrave of Baden-Baden', \"Va'aiga TuigamalaMNZM\", 'James M. Stevens', 'Rodney H. Weston', 'Robert L. Helmly', 'Antoinette of Brunswick-Wolfenbüttel', \"Basil Salvadore D'Souza\", 'G. Ernest Fairweather', 'Delos R. Ashley', 'Stephen E. Cross', 'Chen Po-liang', 'R. Henry Fowler', 'George H. Harrison', 'Richard J. Ball', 'Kristin Phillips-Hill', 'Suzanne \"Crazy Eyes\" Warren', 'Daniel R. Foley', 'Freddie N. Webb', 'William C. Hammond', 'Wayne L. Marston', 'Jodi Tod-Elliott', 'Han Ji-ho', 'Milagros \"Mili\" Urién', 'Nguyen Anh 9', 'James Gunnar Nixon #1', 'J. M. G. Le Clézio', 'Κωνσταντῖνος Ι΄ Δούκας', 'Li Dong-Woon', 'William \"Scot\" McCauley', 'Seán Marty Lockhart (born Seán Martin Lockhart)', 'R. C. Johnson', 'Wang Chin-Fang', 'James A. D. Richards', 'Bishnu S. Atal', 'Jean-Baptiste Delille', \"John O'Brien\", 'Antonio Ordoñez-Plaja', \"Steven O'Donnell\", \"Robert Wanless O'Gowan\", 'Brian J. Mistler', 'Charles B. Lawlor', 'Ferdowsi()', 'John Hennessy, DD', '(Sarabhoji Raja Bhonsle)', 'Gene W. Glenn', 'Spence M. Armstrong', \"Luca D'Angelo\", 'A. W. Kjellstrand', 'James W. Christy', 'Dean V. Kruse', 'Kim Chang-hee', 'E. Frank Sperry', 'Rudolf \"Rudi\" Schmidt', 'Lanfranchi & Farina', 'John J. Gill', 'Thomas C. Humphrey', 'Frederick William, Prince of Solms-Braunfels', 'Stephen E. Fienberg', 'John \"Snooks\" Kelley', 'Karl G. C. von Staudt', 'Evergreen Mak Cheung-ching', 'C. N. Jayadevan', 'William G. Durden', 'Janet H. Adkins', 'Amend, Bernard G.', '(Михаил Яснов)', 'Compton I. White, Sr.', 'Yannick Anister Sagbo-Latte', 'Natasha Kaiser-Brown', 'Mohammed II al-Mahdi', 'Justice S. Ashok Kumar', \"Marouane M'rabet\", 'Jean-Louis Lagadec', \"James O'Loghlin\", 'Elmer D. Morse', 'Eugène (Eugeniusz) Minkowski', 'M. K. Indira', 'Leslie P. Kaelbling', 'Mark Z. Danielewski', 'Laurence Lanfumey-Mongredien', 'Dante O. Tiñga', 'William \"Will\" Horn', 'Abram Piatt Andrew Jr.', 'Hawley Bennett-Awad', 'Michael T. Good', 'James Stirling (1800–1876)', 'Darna; Princess Vara; Olga', 'Ali ibn Sabr ad-Din', 'Mr. Magoo', 'Ahmed Al-Sarori', \"Ibn 'Arabi\", 'Roy Jones Jr.', 'Milton O. Thompson', 'Léon-François-Antoine Aurifeuille', 'Neville D. Frankel', 'Joseph \"Joe\" Borg', 'Mitchell Mayo (comics version)', 'Cal Ripken Sr.', 'John Paul Jr.', 'T. Marsden', 'S. Shritharan', 'André-Dieudonné Kolingba', 'John D. Mayer', 'Nelson B. Hatch', \"Paul O'Dea\", 'M.E. Julianna Cox', 'Thomas Charles \"Tommy\" Merritt', 'John W. Leedy', 'Jim F. Law', 'Richard E. Miller', \"Jacques Anderson Yoboue N'da\", 'Susan H. Rodger', 'George P. Monaghan', \"Domenico de' Marini\", 'Dr. Huda al-Baan (also spelled al-Ban)', 'Liu Chih-kung', '(Јожеф Каса)', 'Jasper A. Vrugt', 'Albert A Bühlmann, M.D.', 'Jesse O’Hara', 'DeLancey Floyd-Jones', 'Maj. General Paolo Gerometta', 'Howard Sant-Roos', 'James L. Harris', 'Wendell O. Erickson', 'William R. Cotter', 'Greek, Tenshinhan, The Tulip', 'Dale L. Orem', 'A. J. Mills', 'Norman Wylie, Lord Wylie', 'Saheb Al-Abdullah', 'Floyd Mayweather Sr.', 'Chun Myung-hoon', 'Kerry-Lynne Findlay', '(藤木 三郎)', 'Aisin-Gioro Dorgon', 'Walter Joseph Marm Jr.', 'Jean-François Bedenik', 'James W. Houck', 'Carlos G. Camacho', 'George James Jr.', 'Al Shamisi, Mohamed Juma', 'Khaled Al-Awadhi', \"Gaston d'Orléans\", 'Bill McChesney, Jr', \"Cosimo di Giovanni de' Medici\", '2Tap', 'DJcable[U.K.]', 'P. S. Veeraraghavan', 'al-Adil', 'Harold A. Richman', 'Colleen L. McGuire', 'Stephen E. Thorsett', 'Henry II \"the Good\"', 'Herbert William Christenberry, Sr.', 'Elizabeth F. Churchill', 'Mahmood Al-Sadi', 'Alfred B. Miles', 'Ju Se-jong', 'Roger Beauchamp, 1st Baron Beauchamp', 'Mohamed Obaid Al-Zahiri', 'Mahmoud al-Subaihi', 'Ingwer (Jens) Matzen', 'Jeffrey D. Lee', 'Richard Harmon Drew Jr.', 'Gordon J. McCann', 'M. Patricia Smith', 'Daniel C. Miller', 'William Garnet \"Bing\" Coughlin', \"Ippolito II d'Este\", \"Ahmadu Adamu Mu'azu\", 'ओम प्रकाश वर्मा', '(מהראן אבו ריא)', 'Ko Byung-wook', 'W. Jones', 'Miles W. Casteel', 'Sylvia Mason-James', 'J. Fernand Fafard', 'W. Ben Hunt', 'Ri Kyong-ok', 'William B. Swann', \"d'Eon\", \"Sabrina D'Angelo\", 'William C. Wantland', 'Thomas Christian Marth, Jr.', 'Gilbert R. Cook', 'Thomas J. Perrelli', 'Norbert Müller-Everling', 'Melissa Harris-Perry', 'Arnold E. Resnicoff', 'William F. Russell', 'Edwin M. Yamauchi', 'Pedro C. Sanchez', 'Jeremy Opoku-Karikari', 'Silverio A. Vega', 'Ronald S. Coleman', 'Jalal al-Digheily', 'John \"Pugwash\" Weathers', 'Ann K. Schmalzried', 'John H. Murphy', 'J. C. W. Beckham', '(Српски патријарх Гаврило I)', 'Zaida R. Hernández Torres', '(鈴木規夫)', 'Morris Albert Lottinger Sr.', 'William H. Hay', 'Roger E. Combs', 'Louis G. F. Ratisbonne', 'Alfred Papapreye Diete-Spiff', 'Sandra J. Feuerstein', 'John Mills-Cockell', 'Douglas C. McDougal', 'Kim Chan-Young', \"John C. D'Amico\", 'Gu Gyo-dong', 'T. Visvanatha Pillai Kamalaswamy', 'August W. Flamme', 'Jean-Paul Diamond', '(Marquis of Ensenada)', \"Terry O'Dea\", 'Marc-Yvan Côté', 'Richmond Conrad \"R. C.\" Hathorn, Sr.', 'Beam - Kawee Tanjararak', 'R. R. Kadam', \"Aloysius O'Donoghue\", 'John E. Marriott', 'James E. Tierney', 'Fred M. Hechinger', 'Frederic S. Durbin', 'German: Wilhelm Friedrich Karl Ernst Joachim Albrecht', 'D. Ralph Morgan', 'William P. Crowell', 'Richard D. Smith', 'George S. Messersmith', 'Ivan-John du Preez', \"Tye'sha Fluker\", 'Summers M. Jack', 'James F. Jones (Prophet Jones)', 'B.A.,M.A.', 'John Carpenter,', 'Richard A. Young', 'K. G. Kenye', 'Hryhoriy (Haranyan) Sakhnyuk', 'F. Paul Wilson', 'Ma Chul-Jun', 'Screwball \"Screwy\" Squirrel', \"Ivan O'Konnel-Bronin\", 'Roland E. Murphy', 'Seelig Bartel \"Bushie\" Wise', 'Philip St. George Cooke', 'E.J. Khaile', 'Krystyna M. Kuperberg', 'Lee Geum-min', 'Theobald III, Count of Blois', 'Albert A. Brown', 'George William E. Gladwin', 'Anna-Lisa Frykman', 'John O. Marsh Jr.', 'William Henry Seward, Jr.', 'Quinton B. Hoover', 'Ernest K. Bramblett', 'Ollie E. Brown', 'Donn F. Porter', 'Jean-Pierre Kuhn', 'Domingo Lucenario Jr.', 'H. D. Ackerman', 'Jean-François Lisée', 'Daniel \"DC\" Cormier', 'V. James Bamford', 'James E. Smith', 'Gayleatha B. Brown', 'John Gope-Fenepej', 'Benjamin F. Hallett', 'Seo Myeong-Won', 'Samuel L. Myers Sr.', 'Dale A. Kimball', \"Sinead O'Connor\", 'W. A. Hayden Schilling', 'Family name:Sima(司馬)', 'R. D. \"Dewey\" Halford', 'C.H. Fernando', \"Simon O'Connor\", 'Park Jun-gyeong', 'Jan-Philipp Kalla', 'L. Adaikalaraj', 'Diaa al-Din Dawoud', 'Michael A. Hiltzik', '(이춘석)', 'Arnold L. Kirkpatrick', 'Wanda \"Baby\" McCullough', 'Douglas W. Currie', 'Harold R. Vague', 'J. A. Pierce', 'Jo-Ann Episkenew (née Thom)', 'Raymond L. Murray', 'Otto Kerner Jr.', 'Majid Al-Ali', \"Pat O'Donnell\", 'Fuad Issa al-Jouni', 'Abū al-Ḥassan ʿAlī ibn ʿUthmān al-Marīni', 'Jean-Louis Fabiani', 'John I, Count of Rietberg', 'James W. Cannon', 'Joanne M. Holden', 'Pega-Leve', 'Avery Robert Dulles, S.J.', 'George M. Mitchell', 'George F. Rebmann', 'J. J. Johnson', 'James M. Buchanan', 'James N. Goodier', 'Frank G. Paci', \"Da'Sean Butler\", 'Abd-al-Masih', 'Zabel Asadour (Sibil)', 'E. Allen Smith', 'Richard G. Desautels', '(The Honourable)', 'Hollie-Jay Bowes', 'James Price McLane, Jr.', 'Saeed Faraj Al-Obaidan', 'Christian Albert, Duke of Holstein-Gottorp', 'Alfred C. Clapp', 'Jeffrey S. Guice', 'Thaddeus M. Buczko', 'Francis E. Gleeson, Jr.', 'Alberto Heredia Ceballos-Zúñiga', 'Madurai T. N. Seshagopalan', 'Heinz-Martin Ewert', 'Horacio Morales, Jr.', \"Omar M'Dahoma\", 'J. J. Hoover', 'Wilfried Karl Strik-Strikfeldt', 'Alan R. Bishop', 'Joseph V. McKee', 'Umdat ul-Umara', 'Choi Jae-bong', 'Muhammad bin Nasir al-Ghafiri', 'William Henry Abendroth, Jr.', 'T. A. Dwight Jones', 'Shin Hye-sung', 'Thérèse Lavoie-Roux', 'Juliet Clutton-Brock', 'John G. Barnard', 'Boli Bolingoli-Mbombo', 'Abd al-Wahid II', 'Pehin Datu Indera Setia Major General (Rtd.) Dato Paduka Seri Haji Awang Sulaiman Bin Haji Awang Damit', 'Jerahmiel S. Grafstein', 'James R. Otteson', 'James Paul \"Jim\" Hendren', 'Donald R. Herriott', 'Woodson T. Slater', 'Franco Mondini-Ruiz', 'Choi Hyun-seok', 'Kim E-Z', \"Barkin' Bill Smith\", 'Yang Wei-fuu', \"Stéphane N'Guéma\", 'Edward J. McDermott', 'Robert F. Furchgott', 'A. R. Rahman', 'Joe R. Baldonado', 'Pawan K. Shrivastava', 'Seth M. Gates', 'Thomas M. Dame', 'Joseph-Nicolas Robert-Fleury', 'Eric R. Dinallo', 'Richard E. Myers', 'Frederick II the One-Eyed', \"Brian O'Keefe\", 'Matthieu Louis-Jean', 'Huntly D. Millar', 'Thomas Madsen-Mygdal', 'Joseph-Octave Plessis', 'Verne R. Anderson', 'Yu Seung-yeop', 'Juan Pérez-Giménez', \"Richard Mapuata N'Kiambi Esola\", 'Rola Saad - رولا سعد', 'Dr. Lilith Sternin', 'Kenneth P. Morse', 'K. Ravindran', 'William M. Hoge', 'Marguerite, Countess of Blessington', 'Enrique M. Fernando', 'Kim Bi-o', 'Sir Hector Maclean, 5th Baronet', 'E. B. White', \"Sione Tu'ipulotu\", 'Winfield S. Featherston', 'Charles William \"Charlie\" Pierce', 'Sir Reginald Yorke Tyrwhitt, Bt', 'John Charles, Count Palatine of Birkenfeld at Gelnhausen', 'Alexander M. Cameron', 'Kim Chang-hwan', 'Martha A. Whiteley', 'Allan G. Johnson', 'Jean-Pierre Dogliani', 'Stephen E. Merrill', 'Park Yoo-chun', 'Otto Beatty Jr.', 'Hugh James Campbell-Ferguson', 'Given name: unknown', 'Arthur E. Summerfield', 'Jeffrey A. Bader', \"Eddie O'Hara\", 'Walter \"Wolfman\" Washington', 'Archie B. Smith', 'Henry C. Gooding', 'Jose R. Velasco', 'El Ancho, Hercules Argentino', 'John William Hely-Hutchinson', 'Henry Ernest of Stolberg-Wernigerode', 'Francis Willoughby, 5th Baron Willoughby of Parham', 'William Neff \"Bill\" Patman', 'Ismail Pasha al-Azm', 'Helle Thorning-Schmidt', 'F. William Rane', 'Crato, Count of Nassau-Saarbrücken', 'Cameron S. Brown', 'Jean-Charles-Pierre Lenoir', 'Tayyiba Mumtaz Haneef-Park', \"Jarrad Rogers, 'Mstr Rogers'\", 'Louis-Félix Pinault', 'Amir-Hossein Aslanian', 'Howard L. Lasher', 'Paul J. Yahner', 'Lauren Groves-Campbell', 'Hwang In-beom', 'Yau Wai-ching', 'Eric P. Webster', 'Edward R. Foreman', 'Christopher D. Broadwater', \"Pádraig 'Podsie' O'Mahony\", 'Julian Edwin Bailes Sr.', 'Charles H. Swannack Jr.', 'Kim Jae-Ho', 'Leroy F. Greene', 'Otto-Hermann Adolf Brücker', 'Montgomery Cunningham Meigs, Sr.', 'Fathullah Imad-ul-mulk', 'El-Sayed Lashin', 'Saint John (Jean) of Saint-Denis', 'Mary Buckland, née Morland', 'Edward L. Morse', 'Hong Gein-Sub (홍진섭)', 'Gregory H. Johnson', 'Dr. J. P. Garnett Nelson', 'Benjamin B. Tucker', '\"Khan Bahadur\" Kowasji Jamshedji Petigara', 'Hung-Wen Chen', 'S.N. Roy', 'Alfred W. Ellet', 'Marcy H. Randall', 'Sin Jin-Ho', 'Vladimir A. Teplyakov', 'Denise Kramer-Scholer', 'FM-2030', 'Ji-min', 'William Joseph \"Billy\" Guste Jr.', \"Jerome O'Shea\", 'Michael L. Lampton', 'Hans-Georg von Seidel', 'Prinzen Ludwig Ferdinand Paul Franz Stanislaus Ulrich Otto Ludolf zu Sayn-Wittgenstein-Berleburg', 'Khaled Al-Faraj', 'Kenneth W. Dam', 'Hu Chen-pu', 'Nina Toussaint-White', 'David K. Muradian, Jr.', 'Alfredo E. Pascual', 'George R. Davis', 'Charles H. Fasnacht', 'Allen H. Bagg', 'Yan Wing-shean', 'Zach G. Kingsley', 'Dr. Eugen Hirschfeld', 'Russell L. Mixter', 'Ilan H. Meyer, Ph.D', 'Charles A. Hawley', 'S. R. Balasubramoniyan', 'Hon. Meshech Weare', 'Francisco Torrent-Guasp', 'Craig R. Fry', 'Emmanuel G. Bwacha', 'Brooks A. Keel', 'Chang Yoon-hee', 'Pavla (Habartová) Kalná', 'Richard E. Kim', 'Giovanni S. Capriglione', 'Gideon W. Thompson', 'Chen Houei-Kuen', 'Jordan Alan Moore-Taylor', \"Charles David 'Bo' Ginn\", 'Leon W. Johnson', 'Andrew H. Reeder', 'E. Miller', 'Michael J. Zalewski', 'Jean-Michel Basquiat', 'Ronald M. Kanter', 'Donna-Michelle St. Bernard', 'Marie-Hélène Lefaucheux', 'MAP1970s', 'Richard Wilson-Smith', 'Choi Yun-chil', 'Howard G. Swafford', 'B-Legit', 'Hampton S. Thomas', 'Dr. Abdul Karim Sandeelo PhD', 'Thomas E. Murray', 'John R. Richards', 'Bernadeta Aldona Różańska-Majchrzak', 'Cho Sang-Hyun', \"Garry Lawrence John O'Connor\", 'Alfred T. Renfro', 'Matthew J. Tow', 'George H. Heilmeier', 'William Jonas Ely, Jr.', 'William D. Burns', 'Sir Philip Christison, 4th Baronet', 'Rabbi Philip R. Alstat', 'Michael R. Gardiner', 'Bruno P. Maddox', 'George B. Greene, Jr.', 'Lim Choong-sil', 'Margarete of Brunswick-Wolfenbüttel', 'Given name: Xuanyuan (Hsuan-yuan; 軒轅)', 'Joseph H. Alexander', 'E. G. “Pat” Patterson', 'Md. Ruman Shana', 'Alfred C. Cerullo, III', 'Lowell Christopher \"Chris\" Hazel', 'Mary L. Tabor', 'Adel Moahammed Al-Hosani', 'Anthony R. Cucci', 'Joan Costa-i-Font', 'Nanthakumar a/l Kaliappan', 'Albert K. Ando', 'David L. Donoho', 'Kim Yu-mi', 'ਨਰਿੰਦਰ ਸਿੰਘ ਕਪੂਰ', 'K. Ramasamy', 'Patricia A. Davidson', 'Jeong Dong-yun', 'Jean-Marie Goasmat', 'Jean-Matthieu Descamps', 'The American Psycho, Robocop', 'David R. Hogg', 'Leroy \"Roy\" Roberts', 'Axel L. Sundquist', 'Otto II, Count of Scheyern', 'D.Sajin', 'Aisin-Gioro Yunzhi', 'Robert J. McFarlin', 'Per-Ingvar Brånemark', 'Danyon Joseph Loader, ONZM', 'A. Leonard Allen', 'Arnold H. Kegel', 'A. N. Ray', 'Nathaniel B. Shurtleff', 'Martin M. Lawrence', 'Robert S. Jaworski', 'Julian P. Alexander', 'William H. Barnes', 'K. A. Mathiazhagan', 'Allison A. Campbell', 'A. Hutton', 'Thomas T. Dahl', 'Frank Aguon, Jr.', 'Leszek Lubicz-Nycz', 'Peter Bevan-Baker', 'John W. Meldrum', 'John R. McBride', 'Byun Hye-young', 'Suzan Bushnaq (سوزان بوشناق)', 'Jeremiah J. Murphy', 'C. Sue Carter', 'James T. Patterson', 'William D. Staples', 'Alan R. Rogers', 'Charles J. Dunlap, Jr.', 'Bernard Rollen Williams, III', 'Ku Hyun-jun', 'Salia Jusu-Sheriff', 'John Darling Jr.', 'Sigurd Akre-Aas', 'Karon O. Bowdre', 'Janice E. Voss', 'Hugo Tristram Engelhardt, Jr.', 'Thomas Prence （or，Thomas Prince）', 'Herman IV, Duke of Swabia and Margrave of Turin', 'Given name: Défāng ()', 'Thomas Dacre, 6th Baron Dacre', \"Joe O'Rourke\", 'M. Delmar Ritchie', 'Cynthia Susan (Kessler) Miller', \"Heather O'Reilly Werry\", 'C. Pat Taylor', 'Abdulrahman al-Ansary', 'Robert D. Moser', 'John P. Gillis', 'As-Siddig al-Mutassir', 'Hendrik-Jan Christiaan Mol', 'Lee Jong-Min', 'T.B.A. Clarke', 'Paul J. Evanko', 'Chung Doo-un', 'Jeoun Eun-ha', 'William E. Troutt', 'Sir William Brabazon, K.B.', 'Arnold I, Lord of Egmond', 'Catherine G. Wolf', 'Sophia Frederica of Mecklenburg-Schwerin', 'Thomas \"Tom\" Williams', 'Györgyi Marvalics-Székely', 'Lorenzo D. Harvey', 'John D. Payne', 'Charles E. Taylor', 'Fielding H. Yost', 'L. S. Stepanyan', 'William E. Kretschmar', 'Kai-Tai Fang', 'David Rhys-Jones', 'John C. Davis', 'Frederick II, Duke of Brunswick-Lüneburg', 'Michael J. Totten', 'Dr. Chaiyong Satjipanon', '(Српски патријарх Варнава I)', 'Glenn M. Hughes', 'Prof. (Dr.) G S Bajpai', 'Françoise de Lorraine-Mercœur', 'Antje Möldner-Schmidt', 'Gaspard-Gustave de Coriolis', 'Louis-Joseph Papineau', '(Дамбын Чагдаржав)', 'Stéphanie Mugneret-Béghé', \"Mir Sa'id Muhammad Khan\", 'George S. Tolley', 'Theodore H. Epp', 'Christopher A. Sims', 'Catherine-Dominique de Pérignon', 'Robert E. Sweeney', 'Michael H. Posner', \"Sally Brice-O'Hara\", 'Lewis R. Hall', \"Kerin O'Keefe\", 'Dennis J. Kearney', 'Samuel \"Sam\" Blakeslee', 'Dame Louise Lake-Tack', 'Andrew C. Brock', 'B.J. Walker', 'Yoon Sung-Hwan', 'James \"Jim\" Schoppert', 'Richard W. DeWitt', 'Jody Wilson-Raybould', 'Marcus Aurelius Numerius Numerianus (from birth to elevation to Caesar);', 'William \"Billy\" Kaplan', 'Yang Tzu-pao', 'Frank Edward McKinney, Jr.', 'David B. Bakker', 'Rhys W. Duch', 'Frank L. Howley', \"GI-K'awiil of Cancuén\", 'John V. Cox', 'William, Duke of Opava', 'Charles S. Witkowski', 'Shah Nyalchand S.', 'Karl-Heinz Henrichs', 'Joseph J. Kowalski', 'Charlotte Johanna of Waldeck-Wildungen', 'Cesar V. Purisima', 'Um Min-ji', 'T.S.Ramaswami Pillai', 'J. J. Redick', 'John Kerr (physicist)', 'Walton T. Roth', 'Hugh F. Odgers', 'Constantine (Kitsos) Botsaris', 'A. Richard Newton', 'Blessed Marie-Céline of the Presentation', '<span', 'Edward R. Bowman', 'Roscoe Robinson, Jr.', 'Patrick William \"Pat\" Donahue', \"Fred D'Aguiar\", 'Cheon un-yeong', 'Carl R. Ajello', 'James L. Edwards', 'James E. Moore', 'Stephen J. Buoniconti', 'George Marion Jr.', 'Konrad K. Solberg', 'Lee Hsueh-Lin (李學林)', 'Michael Connelly, a.k.a. John Mack', '(FBAFAcSS)', \"L'Empereur\", 'Nick Bradley-Qalilawa', \"Lisiate Richard Fa'aoso\", 'Ulysses Owens Jr.', 'Benjamin M. Golder', 'Marie-Nicolas-Antoine Daveluy', 'Samvel Ter-Sahakyan', 'J. Gregory Pavlovich', 'John B. Eckstorm', 'Michael A. Sheehan', 'Kim Dong-jin', 'N. D. Krishna Rao', 'Edwin Oswald Ware, Sr.', 'Jeong Keun-Woo', 'Francisco (\"Paquito\") Montaner García', 'Donald T. Campbell', 'Sir Frederick Ouseley, Bt', 'Fadhil Jalil al-Barwari', \"Boris Deugoué N'Gagoué\", 'Cecil Boyd-Rochfort', 'Flavius Honorius (from birth to accession);', 'Cho Jung-hyun', 'W. Arthur Porter', 'Saint Gabriel, Confessor and Fool for Christ', 'B.C. Unseld', 'Erik D. Demaine', 'Saîf-Eddine Khaoui', 'Mr. B.', 'Jean-Baptiste-Camille Corot', 'Jacob M. Appel', 'John P. S. Gobin', 'Mark S. Wrighton', 'William IV, Duke of Brunswick-Lüneburg', 'Cary G. Peterson', 'Joseph Russell (Bud) Boyce', 'The Titan, Roid Daddy, Juice Ape, The Human Growth Hormone Experiment', 'Dolores \"Lola\" Cueto', 'Mark S. Weprin', 'Sidney McNeill \"Sid\" Gutierrez', \"Roy O'Brien\", 'Earl A. Davis', 'Ralph G. Foster', 'ඉරාන් වික්රමරත්න මහතා', 'Yuri S. Kivshar', 'R. A. Lafferty', 'Nawal M. Nour', 'Frederic H. Smith, Jr.', 'Elena Margarit-Mărgărit (-Dobrovolschi, -Fodor)', 'Sir Tom Ince Webb-Bowen', 'G. Harold Wagner', 'Sir William Parker, Bt', \"Seán Patrick O'Malley\", 'Rick J. Jordan', 'John W. Crutcher', 'Jun Jung-Lin', 'Kim Gwi-hyeon', 'Henry A. Coffeen', 'Violeta Riaubiškytė-Tarasovienė', 'Hans-Jürgen Baake', \"Dudley O'Shaughnessy\", 'Family name: Dou 竇', 'Stanley Marsh 3', 'Fahd Jassem al-Freij', 'Jerry R. Birdwell', 'Kül-chor', 'Hong 10', 'Gerard M. Verschuuren', 'Michael J. Wilkins', 'Jay P. Williams', 'Melville, Marquis of Ruvigny and Raineval', 'Samuel Bernard Nunez Jr.', 'M.A. Mendes de Leon', 'S. D. Crawford', 'Chester William Nimitz Jr.', 'Jean-Luc Arribart', 'Maruja Isabella Sevilla (Spanish Era), Nina Concepcion/Cristy (Reincarnation)', 'William J. White', 'Robert A. Whitney', 'F. A. \"Pappy\" Little Jr.', 'Marquis St. Evrémonde', 'George C. Howard', 'Micah S. Neal', 'Charles-Louis-Étienne Nuitter', 'Ronald \"Ron\" Joseph Tesolin', 'Mary Susan Makobatjatji Malahlela-Xakana', 'William H. Gray', \"Empress Dowager Ci'an\", 'Haytham ibn Khalid ibn Yazid ibn Mazyad al-Shaybani', 'Giovanni Bonati (gymnast)', \"Peadar Toner Mac Fhionnlaoich (''P.T. McGinley)\", '(Hetman)', 'Liu Cheng-hung', 'Charles R. Knight', 'Blessed Humbert of Romans, O.P.', \"'''E. A. Richardson\", 'Tulia Ackson Mwansasu.', 'Abdullah Al-Garni', \"Mo'men Soliman\", \"Mohaisen Al-Jam'an\", 'Moataz Yaseen Mahjoub Al-Fityani', 'Prof. Martha P. Haynes', 'Sir Thomas Brisbane, 1st Bt', 'George W. Edmonds', 'Alfred S. Bennett', \"מרק דבורז'צקי\", 'Frederick of Solms-Rödelheim', '(Cамбадондогийн Цэрэндорж)', 'Emicho I, Count of Nassau-Hadamar', 'Mark de Clive-Lowe', 'B.P. Loughridge', 'Ibrahim Al-Zawahreh', 'Wilbur \"Biggs\" Wehde', \"James Wallace O'Connor\", 'Jed S. Rakoff', 'Frederick J. Martone', 'Alois-Konstantin', 'C. Allin Cornell', 'David R. Brinkley', 'William Ralph \"Bill\" Keffer', 'Wolf-Dietrich Wilcke', \"Patrick O'Donovan\", 'Mark L. Booth', 'William Richard Sharpe Jr.', 'Alina Lisi Garciamendez-Rowold', 'Guy-Roland Kpene', 'Charles F. Smith', 'Choe Un-gyong', 'G.S. Amur', 'John III, Count of Ligny', 'Frederik P. Agterberg (Frits)', 'Corine Cécile Franco (néePetit)', 'Charles W. Phifer', 'Hamad Al-Sagoor', 'Teresa Chikaba,O.P.', 'James E. DeGrange Sr.', 'J.T. Williams', 'Wadjkare Aramatle-qo', 'R. B. \"Speck\" Searcy', 'Mongol script(right):', \"Étienne N'tsunda Mvumbi\", 'Meredith P. Snyder', 'Abdulaziz Al-Jebreen', 'Dr. Narreddy Tulasi Reddy', 'Ann-Cathrin Giegerich', 'Ri Un-hyang', '1321-P.44', 'Ha Jae-Hoon', 'Michel-Joseph Maunoury', 'Han Hsiang-ning', 'Jean-Philippe Ruggia', 'Harold Joseph \"Happy\" Hogan', 'Jacques Berthieu, SJ', 'Chen Po-chih', 'Scott R. Sehon', 'Lawrence J. Quirk', 'John J. Moses', 'William I, Marquis of Namur', 'Tseng Wen-hui', 'Kam-Biu Luk', 'Victor a/l Andrag', 'Tom Anderson, Jr.', 'Maria Buynosova-Rostovskaya', 'D. Leo Daley', 'James C. Russell', 'Yu Chi-hwan', 'T. Tex Edwards', 'Scoobert \"Scooby\" Doo', 'Jean-François Copé', 'Alfred Radcliffe-Brown', \"Barry O'Grady\", 'Joel W. Martin', 'B. J. P. Mendis', 'Lawrence W. Jennings', 'Douglas C. Ravenel', 'Paul-Émile Côté', 'Geert-Maarten Mol', 'Darnell Bailey-King', 'E. Arnold', '(198 to 211);', 'Charles I. Halt', 'Connie Price-Smith', 'Christopher Cheung Wah-fung', 'Cecilia Álvarez-Correa Glen', '(ประวิตร วงษ์สุวรรณ)', \"Johnny O'Keefe\", \"Henry O'Brien\", 'St. Ada', 'Amer Said Al-Shatri', \"Keni'chiro Arai\", 'James H. Peck', 'TheServant of God,', '(Sra Leandro Dupré)', 'Kumble R. Subbaswamy', 'Stig H. Johansson', 'Constantine J. Erdman', 'Xie (燮)', 'George St. John', 'Arnold L. Punaro', 'Adrianus T. de Hoop', 'Claiborne Washington \"Clay\" Smothers, I', 'Karma-Ann Swanepoel', \"Raja Dato' Seri Yong Sofia Binti Almarhum Sultan Azlan Muhibbuddin Shah Al-Maghfurlah\", 'Ghorbanali Dorri-Najafabadi', 'John L. Throckmorton', 'William Wood-Sims', 'Abdul Karim al-Kabariti', 'Barry B. White', 'Pedro R. Tinoco, Jr.', 'Karl-Richard Koßmann', 'Muhammad Anwar el-Sadat', 'Christine R. Savage', 'Greely Stevenson Curtis, Sr.', 'Charles Samuel McDowell, Jr.', 'Tobias \"Toby\" Ragg', 'Raymond L. Acosta', 'Kim Jang-mi', 'Fritiof S. Sjöstrand', 'A. K. Selvaraj', 'Jerry L. Mitchell', 'Saint Francis Xavier, SJ', 'The Hon. Mr Justice Wood', 'Tea Vikstedt-Nyman', 'William F. Hamberger', 'Nikola Mirkov Petrović-Njegoš', 'Dr. Peyman Faratin', 'Yang Lien-sheng', 'C. W. E. Jennings', 'Kwon Young-Min', 'K. A. Sengottaiyan', 'Sir George Forestier-Walker', 'Kari-Pekka Laaksonen', 'William M. Folger', '1318-Ağ. Top1', \"Paul O'Brien\", 'James T. Hill', 'Richard Robert Wright Sr.', 'Lester E. Carpenter', 'Feodor Vasilievich Gladkov (Фёдор Васильевич Гладков)', 'Robert Radcliffe, 1st Earl of Sussex', \"Daniel O'Brien\", 'Glenn F. Walther', 'Jules-Fredric Nyongha', 'Loree K. Sutton', 'Abdul-Fatai Alashe', 'Kim Cheong-yong', 'Allen T. Brinsmade', 'Samuel Perry \"Sam\" Little', 'John Kennedy Jr.', 'George J. Hall', 'B.B. King', 'Donald B. Beary', 'Nicholas H. Heck', 'Susan J. Kelley, Ph.D.', '(Лосолын Лааган)', 'James A. Hirshfield', 'Stig H:son Ericson', 'Clyde Osmer DeLand (or Deland, De Land)', 'Sir William Hope, 14th Baronet', 'M. S. Bennett', 'William F. Clayton', 'Leroy R. Hassell Sr.', 'Thomas A. Michlovic', 'Jorge Fernández-Valdés', '\"Big\" Al Downing', 'John D. Hoblitzell Jr.', 'Emile Deleau, Jr.', \"Raffaele D'Aquino\", 'E. J. Stewart', 'Pierre-Clovis Beauchesne', 'Raymond D. Telford', 'Mustafa Al-Sayyad', \"Edward 'E. B.' McClain\", 'Gerald F. McMonagle', 'Cary D. Langhorne', 'Peter B. Dervan', 'Raymond J. Broderick', 'Jean-Pierre Lecocq', 'Mark J. Seitz', \"Fiddlin' Doc Roberts\", 'Jeffrey A. Brent', 'Rembert C. Dennis', '(愛新覺羅·胤禟)', 'Psyco-M', 'Kelly-Anne Billingy', 'Song Yo-chan', 'Harold H. Velde', 'Koliakode N. Krishnan Nair']\n",
      "4841\n",
      "{'GREEK', 'HEBREW', 'CYRILLIC', 'HANGUL', 'CJK', 'SYRIAC', 'ARMENIAN', 'LATIN', 'KATAKANA', 'ARABIC'}\n",
      "10\n"
     ]
    }
   ],
   "source": [
    "alphabet1 = []\n",
    "notalpha = []\n",
    "for i in df['name']:\n",
    "    tempword = i.split()\n",
    "    if (all(word.isalpha() == True for word in tempword)):\n",
    "        alphabet1.append(langname(i))\n",
    "    else: \n",
    "        notalpha.append(i)\n",
    "    \n",
    "print(notalpha)\n",
    "print(len(notalpha))\n",
    "print(set(alphabet1))\n",
    "print(len(set(alphabet1)))"
   ]
  },
  {
   "cell_type": "markdown",
   "metadata": {},
   "source": [
    "Created a new dataframe 'df2' with dropped names"
   ]
  },
  {
   "cell_type": "code",
   "execution_count": 114,
   "metadata": {},
   "outputs": [],
   "source": [
    "droprows = []\n",
    "for i, name in enumerate(df['name']):\n",
    "    if name in notalpha:\n",
    "        droprows.append(i)\n",
    "#df2 = df.drop(droprows) df2 is created"
   ]
  },
  {
   "cell_type": "markdown",
   "metadata": {},
   "source": [
    "Reset df2 index starting from 0"
   ]
  },
  {
   "cell_type": "code",
   "execution_count": 115,
   "metadata": {},
   "outputs": [
    {
     "name": "stdout",
     "output_type": "stream",
     "text": [
      "                          name  class lang alphabet\n",
      "0                 Raha Etemadi      1   et    LATIN\n",
      "1                  Luma Grothe      1   en    LATIN\n",
      "2                Takuya Kakine      1   ja    LATIN\n",
      "3               Ōuyáng Zhènhuá      1   mi    LATIN\n",
      "4         Jordan Gideon Archer      1   en    LATIN\n",
      "...                        ...    ...  ...      ...\n",
      "42913          Clyde Donaldson      1   en    LATIN\n",
      "42914          Terry Alexander      1   en    LATIN\n",
      "42915             Neil Roebuck      1   en    LATIN\n",
      "42916             Lyle Stewart      1   en    LATIN\n",
      "42917  Thomas Colclough Watson      1   en    LATIN\n",
      "\n",
      "[42918 rows x 4 columns]\n"
     ]
    }
   ],
   "source": [
    "df2.reset_index(drop=True, inplace=True)\n",
    "print(df2)"
   ]
  },
  {
   "cell_type": "markdown",
   "metadata": {},
   "source": [
    "Counting number of names that use each alphabet"
   ]
  },
  {
   "cell_type": "code",
   "execution_count": 116,
   "metadata": {},
   "outputs": [
    {
     "name": "stdout",
     "output_type": "stream",
     "text": [
      "{'GREEK', 'HEBREW', 'CYRILLIC', 'HANGUL', 'CJK', 'SYRIAC', 'ARMENIAN', 'LATIN', 'KATAKANA', 'ARABIC'}\n",
      "10\n",
      "9 GREEK\n",
      "8 HEBREW\n",
      "42 CYRILLIC\n",
      "3 HANGUL\n",
      "144 CJK\n",
      "1 SYRIAC\n",
      "2 ARMENIAN\n",
      "42655 LATIN\n",
      "1 KATAKANA\n",
      "53 ARABIC\n"
     ]
    }
   ],
   "source": [
    "alphabet2 = []\n",
    "for i in df2['name']:\n",
    "    alphabet2.append(langname(i))\n",
    "\n",
    "print(set(alphabet2))\n",
    "print(len(set(alphabet2)))\n",
    "\n",
    "df2['alphabet'] = alphabet2\n",
    "\n",
    "for i in set(alphabet2):\n",
    "    count = 0\n",
    "    for x,y in enumerate(df2['alphabet']):\n",
    "        if str(i) in y:\n",
    "            count += 1\n",
    "    print(count, i)"
   ]
  },
  {
   "cell_type": "markdown",
   "metadata": {},
   "source": [
    "Checking original names in DEVANAGARI"
   ]
  },
  {
   "cell_type": "code",
   "execution_count": 117,
   "metadata": {},
   "outputs": [
    {
     "data": {
      "text/plain": [
       "'LATIN'"
      ]
     },
     "execution_count": 117,
     "metadata": {},
     "output_type": "execute_result"
    }
   ],
   "source": [
    "df['alphabet'][0]"
   ]
  },
  {
   "cell_type": "code",
   "execution_count": 128,
   "metadata": {},
   "outputs": [
    {
     "name": "stdout",
     "output_type": "stream",
     "text": [
      "राणा उदय सिहं\n",
      "False\n",
      "करतार सिंह भड़ाना\n",
      "False\n",
      "शंखलाल माझी\n",
      "False\n",
      "सुर्नेद्र झा 'सुमन '\n",
      "False\n",
      "आचार्य सारंगधर\n",
      "False\n",
      "पवन कुमार शर्मा\n",
      "False\n",
      "अटल बिहारी वाजपेयी\n",
      "False\n",
      "गेंदा लाल  चौधरी\n",
      "False\n",
      "विजय सिंह\n",
      "False\n",
      "परेश रावल\n",
      "False\n",
      "पुरुशोत्तम काशीनाथ केळकर\n",
      "False\n",
      "फ़ौज़िया  तहसीन ख़ान\n",
      "False\n",
      "रवीन्द्र प्रभात\n",
      "False\n",
      "नाहिद हसन\n",
      "False\n",
      "ओम प्रकाश वर्मा\n",
      "False\n"
     ]
    }
   ],
   "source": [
    "for i, x in enumerate(df['name']):\n",
    "    if df['alphabet'][i] == 'DEVANAGARI':\n",
    "        print(df['name'][i])\n",
    "        print(df['name'][i].isalpha())"
   ]
  },
  {
   "cell_type": "markdown",
   "metadata": {},
   "source": [
    "## Feature Creation"
   ]
  },
  {
   "cell_type": "markdown",
   "metadata": {},
   "source": [
    "### accents (incomplete)"
   ]
  },
  {
   "cell_type": "code",
   "execution_count": 119,
   "metadata": {},
   "outputs": [
    {
     "name": "stdout",
     "output_type": "stream",
     "text": [
      "Leters with accents\n"
     ]
    }
   ],
   "source": [
    "from unidecode import unidecode\n",
    "import unicodedata\n",
    "\n",
    "text_with_accents = \"Létérs wïth âccénts\"\n",
    "normalized_text = unidecode(text_with_accents)\n",
    "print(normalized_text)"
   ]
  },
  {
   "cell_type": "code",
   "execution_count": 120,
   "metadata": {},
   "outputs": [],
   "source": [
    "import unicodedata\n",
    "langname = lambda x : unicodedata.name(x[0]).split(' ')[0]"
   ]
  },
  {
   "cell_type": "code",
   "execution_count": 121,
   "metadata": {},
   "outputs": [
    {
     "name": "stdout",
     "output_type": "stream",
     "text": [
      "{'춘', '수', 'ć', 'ế', 'ೇ', '신', 'Ș', 'ķ', 'ṣ', 'ো', 'ô', 'ừ', 'ọ', 'ì', 'ă', 'ń', 'ò', '동', '일', 'ί', 'ώ', 'Ü', '태', 'أ', 'å', 'č', 'ț', 'ű', 'ễ', 'Ž', 'ņ', 'ż', 'ặ', 'ё', '랑', 'ū', '정', 'ļ', 'Ż', 'Ö', 'ú', '헌', 'ą', 'ǔ', 'Ä', 'Å', 'ž', 'ạ', '현', 'ň', 'Â', 'ṭ', '김', 'ũ', 'ÿ', '겸', 'ù', 'ố', 'ţ', 'Ľ', '보', 'ǎ', 'ģ', 'š', 'ǫ', 'ό', 'ê', '민', 'ź', 'Ş', 'ά', 'ụ', 'ؤ', 'í', '규', 'Ō', 'Í', 'ầ', 'ǒ', 'ů', 'ē', 'ś', 'ơ', 'ῑ', '순', 'İ', 'й', 'ắ', 'ǚ', '송', 'Ḥ', '건', 'έ', '원', 'ę', 'ě', 'Ī', 'Ț', 'ứ', '허', '기', 'ç', 'ý', 'î', 'â', '식', 'è', '권', 'ৌ', 'ã', '진', 'إ', 'Ř', 'õ', 'ĩ', 'ớ', 'Š', 'ő', 'ằ', '윤', 'ペ', '섭', 'ữ', '녕', 'ờ', 'ồ', 'ï', 'Ś', 'ệ', 'ī', '환', '상', 'ó', 'Ó', 'Ć', 'É', 'ä', 'ủ', '조', '이', '철', '박', 'à', 'Ú', 'ೀ', '최', 'ύ', 'û', 'ḫ', 'ė', '재', '명', 'ǐ', 'Ṭ', '대', 'ř', 'ỹ', 'é', 'ş', 'Ç', 'Ѓ', '연', 'ë', 'ợ', 'Ḫ', '홍', '긍', 'ō', 'á', '형', 'ș', 'ị', '광', 'ề', '강', 'ď', '석', '하', 'ド', 'ü', 'Č', 'ľ', 'ї', 'ả', '노', 'ö', 'Á', 'ā', 'ấ', 'ñ', 'ῖ', '영', 'ư', 'ŭ', 'ğ'}\n",
      "195\n"
     ]
    }
   ],
   "source": [
    "def identify_accents(text):\n",
    "    accents = []\n",
    "    for char in text:\n",
    "        if unicodedata.normalize('NFD', char) != char:\n",
    "            accents.append(char)\n",
    "    return accents\n",
    "allaccents= set()\n",
    "for i in df['name']:\n",
    "    allaccents.update(identify_accents(i))\n",
    "print(allaccents)\n",
    "print(len(allaccents))"
   ]
  },
  {
   "cell_type": "code",
   "execution_count": 122,
   "metadata": {},
   "outputs": [
    {
     "name": "stdout",
     "output_type": "stream",
     "text": [
      "ć\n",
      "ế\n",
      "ೇ\n",
      "Ș\n",
      "ķ\n",
      "ṣ\n",
      "ো\n",
      "ô\n",
      "ừ\n",
      "ọ\n",
      "ì\n",
      "ă\n",
      "ń\n",
      "ò\n",
      "ί\n",
      "ώ\n",
      "Ü\n",
      "أ\n",
      "å\n",
      "č\n",
      "ț\n",
      "ű\n",
      "ễ\n",
      "Ž\n",
      "ņ\n",
      "ż\n",
      "ặ\n",
      "ё\n",
      "ū\n",
      "ļ\n",
      "Ż\n",
      "Ö\n",
      "ú\n",
      "ą\n",
      "ǔ\n",
      "Ä\n",
      "Å\n",
      "ž\n",
      "ạ\n",
      "ň\n",
      "Â\n",
      "ṭ\n",
      "ũ\n",
      "ÿ\n",
      "ù\n",
      "ố\n",
      "ţ\n",
      "Ľ\n",
      "ǎ\n",
      "ģ\n",
      "š\n",
      "ǫ\n",
      "ό\n",
      "ê\n",
      "ź\n",
      "Ş\n",
      "ά\n",
      "ụ\n",
      "ؤ\n",
      "í\n",
      "Ō\n",
      "Í\n",
      "ầ\n",
      "ǒ\n",
      "ů\n",
      "ē\n",
      "ś\n",
      "ơ\n",
      "ῑ\n",
      "İ\n",
      "й\n",
      "ắ\n",
      "ǚ\n",
      "Ḥ\n",
      "έ\n",
      "ę\n",
      "ě\n",
      "Ī\n",
      "Ț\n",
      "ứ\n",
      "ç\n",
      "ý\n",
      "î\n",
      "â\n",
      "è\n",
      "ৌ\n",
      "ã\n",
      "إ\n",
      "Ř\n",
      "õ\n",
      "ĩ\n",
      "ớ\n",
      "Š\n",
      "ő\n",
      "ằ\n",
      "ペ\n",
      "ữ\n",
      "ờ\n",
      "ồ\n",
      "ï\n",
      "Ś\n",
      "ệ\n",
      "ī\n",
      "ó\n",
      "Ó\n",
      "Ć\n",
      "É\n",
      "ä\n",
      "ủ\n",
      "à\n",
      "Ú\n",
      "ೀ\n",
      "ύ\n",
      "û\n",
      "ḫ\n",
      "ė\n",
      "ǐ\n",
      "Ṭ\n",
      "ř\n",
      "ỹ\n",
      "é\n",
      "ş\n",
      "Ç\n",
      "Ѓ\n",
      "ë\n",
      "ợ\n",
      "Ḫ\n",
      "ō\n",
      "á\n",
      "ș\n",
      "ị\n",
      "ề\n",
      "ď\n",
      "ド\n",
      "ü\n",
      "Č\n",
      "ľ\n",
      "ї\n",
      "ả\n",
      "ö\n",
      "Á\n",
      "ā\n",
      "ấ\n",
      "ñ\n",
      "ῖ\n",
      "ư\n",
      "ŭ\n",
      "ğ\n",
      "['ć', 'ế', 'ೇ', 'Ș', 'ķ', 'ṣ', 'ো', 'ô', 'ừ', 'ọ', 'ì', 'ă', 'ń', 'ò', 'ί', 'ώ', 'Ü', 'أ', 'å', 'č', 'ț', 'ű', 'ễ', 'Ž', 'ņ', 'ż', 'ặ', 'ё', 'ū', 'ļ', 'Ż', 'Ö', 'ú', 'ą', 'ǔ', 'Ä', 'Å', 'ž', 'ạ', 'ň', 'Â', 'ṭ', 'ũ', 'ÿ', 'ù', 'ố', 'ţ', 'Ľ', 'ǎ', 'ģ', 'š', 'ǫ', 'ό', 'ê', 'ź', 'Ş', 'ά', 'ụ', 'ؤ', 'í', 'Ō', 'Í', 'ầ', 'ǒ', 'ů', 'ē', 'ś', 'ơ', 'ῑ', 'İ', 'й', 'ắ', 'ǚ', 'Ḥ', 'έ', 'ę', 'ě', 'Ī', 'Ț', 'ứ', 'ç', 'ý', 'î', 'â', 'è', 'ৌ', 'ã', 'إ', 'Ř', 'õ', 'ĩ', 'ớ', 'Š', 'ő', 'ằ', 'ペ', 'ữ', 'ờ', 'ồ', 'ï', 'Ś', 'ệ', 'ī', 'ó', 'Ó', 'Ć', 'É', 'ä', 'ủ', 'à', 'Ú', 'ೀ', 'ύ', 'û', 'ḫ', 'ė', 'ǐ', 'Ṭ', 'ř', 'ỹ', 'é', 'ş', 'Ç', 'Ѓ', 'ë', 'ợ', 'Ḫ', 'ō', 'á', 'ș', 'ị', 'ề', 'ď', 'ド', 'ü', 'Č', 'ľ', 'ї', 'ả', 'ö', 'Á', 'ā', 'ấ', 'ñ', 'ῖ', 'ư', 'ŭ', 'ğ']\n",
      "148\n"
     ]
    }
   ],
   "source": [
    "allaccents1 = []\n",
    "for i in allaccents:\n",
    "    if langname(str(i)) != 'HANGUL':\n",
    "        print(i)\n",
    "        allaccents1.append(i)\n",
    "print(allaccents1)\n",
    "print(len(allaccents1))\n"
   ]
  },
  {
   "cell_type": "code",
   "execution_count": 123,
   "metadata": {},
   "outputs": [
    {
     "data": {
      "text/plain": [
       "False"
      ]
     },
     "execution_count": 123,
     "metadata": {},
     "output_type": "execute_result"
    }
   ],
   "source": [
    "unicodedata.normalize('NFD', '안녕하세요') == '안녕하세요'"
   ]
  },
  {
   "cell_type": "code",
   "execution_count": 124,
   "metadata": {},
   "outputs": [
    {
     "data": {
      "text/plain": [
       "True"
      ]
     },
     "execution_count": 124,
     "metadata": {},
     "output_type": "execute_result"
    }
   ],
   "source": [
    "'안녕하세요' == '안녕하세요'"
   ]
  },
  {
   "cell_type": "markdown",
   "metadata": {},
   "source": [
    "### alphabet"
   ]
  },
  {
   "cell_type": "markdown",
   "metadata": {},
   "source": [
    "Creating langname2 as another option to find the alphabet name for each character in a name instead of just the first letter"
   ]
  },
  {
   "cell_type": "code",
   "execution_count": 125,
   "metadata": {},
   "outputs": [
    {
     "data": {
      "text/plain": [
       "[['LATIN', 'CAPITAL', 'LETTER', 'R'],\n",
       " ['LATIN', 'SMALL', 'LETTER', 'A'],\n",
       " ['LATIN', 'SMALL', 'LETTER', 'H'],\n",
       " ['LATIN', 'SMALL', 'LETTER', 'A'],\n",
       " ['SPACE'],\n",
       " ['LATIN', 'CAPITAL', 'LETTER', 'E'],\n",
       " ['LATIN', 'SMALL', 'LETTER', 'T'],\n",
       " ['LATIN', 'SMALL', 'LETTER', 'E'],\n",
       " ['LATIN', 'SMALL', 'LETTER', 'M'],\n",
       " ['LATIN', 'SMALL', 'LETTER', 'A'],\n",
       " ['LATIN', 'SMALL', 'LETTER', 'D'],\n",
       " ['LATIN', 'SMALL', 'LETTER', 'I']]"
      ]
     },
     "execution_count": 125,
     "metadata": {},
     "output_type": "execute_result"
    }
   ],
   "source": [
    "langname2 = lambda x: [unicodedata.name(char).split(' ') for char in x]\n",
    "langname2('Raha Etemadi')"
   ]
  },
  {
   "cell_type": "markdown",
   "metadata": {},
   "source": [
    "Checking for non alphabet characters in each names"
   ]
  },
  {
   "cell_type": "code",
   "execution_count": 126,
   "metadata": {},
   "outputs": [
    {
     "name": "stdout",
     "output_type": "stream",
     "text": [
      "['Leena Peltonen-Palotie', 'R. M. Dharmadasa Banda', 'Vicente de Valverde y Alvarez de Toledo, O.P.', 'Ute Kircheis-Wessel', 'David John (Dave) Shannon', 'Dr. Joan W. Miller', 'Donald M. Davis', 'Akseli Gallen-Kallela', 'Gerald S. McGowan', 'Jung Chul-Woon', '(Armen Lubin)', 'Peter R. Orszag', 'William D. Port', 'Harry H. Peterson', 'Lim You-Hwan', \"Lawrence O'Brien\", 'St. Jutta of Kulmsee, T.O.S.F.', 'José M. Hernández', 'Im Jae-Sun', 'Charles A. Cummings', 'Francis \"Frank\" Forshew', 'Sir William Jardine, 7th Baronet', 'C.W. (Bill) Hutchins', 'Evelyn \"Champagne\" King', 'Feng Ming-chu', 'Isaac Campbell Kidd Jr.', 'Ernesto \"Boy\" F. Herrera', \"William G. T'Vault\", 'Laura J. Burns', 'Gordon S. Holder', 'David E. Rutledge', 'Richard Tsoi Yiu-cheong', 'William A. Cugno', 'Fahad Barakah Al-Marwani Al-Johani', 'Jan O. Karlsson', 'P.B. Premachandra', 'Anne-Pia Nygård', 'Wu Chi-wai', 'Yoon Jun-sung', 'Koshinaka Makoto (越中睦士)', 'Lize-Mari Retief', 'V. C. Andrews', 'Giancarlo Cornaggia-Medici', 'Neil L. Rudenstine', 'Maggie Aderin-Pocock', 'D. S. Ó Buachalla', 'Ric Manrique, Jr.', 'Graeme \"Shirley\" Strachan', 'A. Bartlett Giamatti', 'Oakley C. Collins', 'Saint Teresa of Calcutta,MC', 'Joseph M. Scruggs', 'Agapito A. Aquino', \"John O'Donoghue\", 'Sen. Karen Mayne', 'Josip Seissel (Jo Klek)', 'Augustine \"Willie\" Dominguez', 'John NobiliS.J.', 'Homer E. Woodling', 'Y. Pierre Gobin, MD', \"Brendan O'Brien\", 'P.S. Krøyer', 'Louis VII, Duke of Bavaria', 'John B. Holman', 'Darryl J. Poole', 'Sayf al-Dawla', 'Charles A. W. Aylen', \"Breon O'Casey\", 'Kang Seung-Jo', 'Adina-Ioana Vălean', 'Kim Yong-sik', 'Ancestral name: Jiang (姜)', 'Mohamed H. Gherab', 'Brian \"Goldbelt\" Maxine', 'Mohammed El-leissy', 'Lau Yee-cheung', 'Cha Dong-Hoon', 'Awidhah Al-Aamri', 'Frank J. O’Connell', 'William C. Oates', 'Ronen Har-Zvi', 'Per Martin-Löf', 'Joyce \"Fenderella\" Irby', 'Hans-Bernd Schäfer', 'Pacita Madrigal-Warns', \"Detta O'Cathain\", 'Farley \"Jackmaster\" Funk', 'Margaret Elisabeth of Leiningen-Westerburg', '(최영일)', \"Junior Sa'u\", 'Myron H. Ranney', 'B.A.S.K.O.', 'L. Frank', 'Samuel D. Pagdilao, Jr.', 'Hermann-Friedrich Joppien', 'Blessed Agnes of Jesus, O.P.', 'H. William DeWeese', 'Richard Stanton-Jones', 'Auriane Mallo in 2013', 'St. Gerard of Csanád, O.S.B.', 'George W. Emery', 'Antoine-Marie-Auguste Frézouls', 'C. M. Newton', 'Stephan W. Koch', 'James M. Birney', 'Marcela Krinke-Susmelj', 'Lee Jung-su', 'Lon L. Fuller', 'Mel F. Whedbee', 'Frankie hi-nrg mc', 'Sabri al-Asali', 'Jimmy Ng Wing-ka', 'B. F. Shelton', 'Mark A. Krasnow', 'Robert F. Spetzler', \"Ak'ak'i Meipariani\", 'Thomas Wharton, Jr.', 'William C. Chasey', 'Ilu-šūma', 'Kyle Alexander Fraser-Allen', 'T. Rasalingam', 'Allan W. H. Bé', 'Park Choong-Kyun', \"Gary De'Roux\", 'Luther S. Olsen', 'Jean-Pierre Fourcade', 'M. Amin Arnaout', 'D.C. Minner', 'Heidi B. Hammel', 'Sigrid Fry-Revere', 'James M. Scribner', 'Simon IV, Lord of Lippe', 'Tung Hsiang-lung', 'Andrew E. Strominger', '(Henry Roger) Justin Lewis', 'Joseph A. Unanue', 'Chang Chi-yun', \"Patrick O'Sullivan\", 'Walter D. Druen, Jr.', 'Tung Kuo-yu', 'Macon C. Overton', 'John R. Roth', 'Saint Rose Venerini, M.P.V.', 'Douglas B. Hegdahl III', 'M. K. Eelaventhan', 'Nicholas G. J. Ballanta', 'Isabelle Boéri-Bégard', 'William A. Earle', \"Sameh El-Saharty''\", 'Sean M. Carroll', 'Steven C. Hackett', 'J-min', 'George W. Hall', 'Raynard S. Kington', 'Carl-Erik Sandberg', 'Mayra Santos-Febres', 'John C. Roach', 'Park Chang-hyun', 'Naif Al-Harthi', 'Edward Allman-Smith', 'Edgar \"Ted\" Codd', 'Roger M. Blough', 'Hubert Duck, Deuteronomy Duck and Louis Duck (Quack Pack)', 'Harry A. Cole', 'Park Hyeong-soon', 'Charles D. “Chuck” McAtee', 'G. Terry Madonna', 'David A. Tirrell', 'Sandra Farmer-Patrick', 'Lewis Burwell \"Chesty\" Puller', 'E. J. Dionne', '(GOSEComCComCS)', 'James M. Holmes', 'Hussein Rashid Mohammed al-Tikriti', 'Harry Aikines-Aryeetey', 'Robert J. Cleary', 'Fay Ajzenberg-Selove', 'Sk. Mastan Vali', 'James H. Stock', 'P. J. Sudhakar', 'Radwan Al-Sheikh Hassan', 'Ziva Ben-Porat', 'Karl-Heinz Dorner', \"Harriet Osborne O'Hagan\", 'Mark J. Bennett', 'Thomas J. Bergersen', 'S.Ramu', 'Maslama ibn Abd al-Malik', 'Dominique Jean-Zéphirin', 'Junsei Terasawa (寺沢潤世)', 'Dr. Anand Jacob Verghese', 'Wilmot E. Fleming', 'Samuel H. Beckwith', 'Joyce W. Cairns', 'Theodore F. MacManus', 'William B. Caldwell IV', 'P. I. Belliappa', 'David R. Leitch', 'Julius H. Baggett', 'Longineu W. Parsons III', 'राणा उदय सिहं', 'Sir Vincent Meredith, Bt', 'Abdel-Aziz Mehelba', 'The Baroness Llewelyn-Davies of Hastoe', 'Charles H. T. Collis', \"Cinders O'Brien\", 'Kim Young-hee', 'Herbert H. Woodrow', \"George 'Jocka' Todd\", 'Michael E. Fossum', 'Kim Song-Gi', 'Violetta Oblinger-Peters', 'Eckhard I, Count of Scheyern', 'Pearl I. Young', 'A.G. Kripal Singh', 'Henri S. Rauschenbach', 'Sir Robert Rich, Bt', 'Marcia G. Cooke', '()', 'Edmundo Paz-Soldán', 'Pavel (Pavlo) Gintov', 'Edward W. Hathaway', 'Nader Salem Al-Muwallad', 'Christiane Nüsslein-Volhard', 'Son Jeong-Ryun', 'Edward Francis Mickolus, Jr.', 'Chen-Yuan Lee,', 'Charles Louis, Count of Nassau-Saarbrücken', 'Deborah Henson-Conant', 'Linda L. Kelly', 'Horace F. Bartine', '(Τίνα Μπιρμπίλη)', 'William F. Renwick', 'Alice Verne-Bredt', 'Saint Jeanne de Lestonnac,O.D.N.', 'Blessed John Finch (martyr)', 'A. B. Swindell', \"Rod O'Connor\", 'David Hirst (arachnologist)', 'Liu Tsz-Ling', 'Hormisdas Etienne Djibri (Estefan Jabri)', 'Baldwin (II) Rátót', 'Coi4 Si1 Bui4', 'A. M. M. Naushad', 'Borris L. Miles', 'Ivan Maček \"Matija\"', 'El-Teneen', \"Luke O'Connor\", 'Abdullah Al-Owaishir', 'Pierre-Georges LeClercq', 'Kim Tae-Jin (김태진)', '(Serdar-ı Ekrem Ömer Paşa)', 'Moses Norris Jr.', 'D. G. Smalling', 'Lee Jae-Min', 'Karl-Wilhelm von Schlieben', 'Władysław Dominik ks. Zasławski h. Ostrogski', 'Michael L. Coats', 'Archie J. Old, Jr.', 'Kim Moon-Soo', 'Charles W. Gates', 'A. N. M. Hamidullah', \"Mononc' Serge\", 'Ahmed Mohieddine Al-Sghaier', 'Jabez W. White', 'Aisha Abd al-Rahman', 'Sir Archibald Alison, Bt', 'Sophie of Mecklenburg-Güstrow', 'T.J. Berry', 'Charles B. Blackmar', 'Qusay Muneer Abboodi Al-Hussein', 'Choi Eun-suk', \"(Dato')\", 'Lok6 Dai3', 'K.T. Sankaran', 'Adham Al-Sqour', 'John A. Davidson', 'thumb|right|Spitfire Mk IIa P7350 of the BBMF is the only existing airworthy Spitfire that fought in the Battle of Britain.', 'Ellen Heber-Katz, PhD', 'A. G. Mathews', 'Baden-Powell Annand', 'Solomon Oliver Jr.', 'William R. Smedberg III', \"Aodh Ó'Raghallaigh\", 'Thomas H. Forsyth', 'Allastair McReady-Diarmid', 'Dr. Joseph W. Cullen', 'J. L. King', 'Cari M. Dominguez', 'David L. MacFarlane', 'Mahmoud Mohammed S. Al Humayd', 'Ckay1', 'Claire Kirby (Claire Debrois)', 'Matthew T. Sherman', 'William A. MacLeod', 'Annette Huber-Klawitter', 'Denmark Groover, Jr.', \"Abdullah Sallum al-Samarra'i\", \"Abdillahi Suldaan Mohammed 'Timacade'\", 'Saint Honoratus (Honorius) of Amiens', 'James C. Shannon', 'Clarence F. Manbeck', 'Kim Yong-nam', 'Paul-Pierre Roux', 'Billy \"Harp\" Hamilton', 'Eddie Ng Hak-kim', 'John W. Gofman', 'Anthony J. Melio', 'Charles N. Gardner', 'Mian Mehmood-ur-Rasheed', 'T. Patrick Carrabré', 'Sarah-Jane Varley', 'Her Jong-chau', 'George \"Chappie\" Johnson Jr.', \"Graba'\", 'Joni J. Young', 'Richard M. Mullane', 'H. H. Maharajadhiraj Raj Rajeshwar Sawai Shrimant Yashwant Rao Holkar', 'Milo Gunderson (body)', 'Missy Schwen-Ryan', 'H. H. Swofford', 'Edward J. Imwinkelried', \"Steve O'Neill\", 'Ronald E. Miller', 'Friedrich Wilhelm von Lindeiner-Wildau', 'Henry IV, Count of Bar', 'Lee Meng-chian', 'George W. Conable', 'Kevin T. Campbell', 'Carmelita Vigil-Schimmenti', 'J. T. Medcalf', '\"Professor\" Irwin Corey', 'Thomas B. Hooker', 'George W. McIver', 'Adele S. Simmons', 'Kevin S. Smardz', 'Thomas A. Schwartz', 'Frederick Landis, Jr.', \"Eleni Koiosi'\", 'Mario Santos, Jr.', 'Henry Cosgrove, DD', 'Sarita V. Adve', 'J. Campbell', 'Otto J. M. Smith', 'करतार सिंह भड़ाना', 'John W. Huffman', 'Alfredo \"El Salsero\" Escalera', 'Timothy D. Clark', 'Edwin J. Burke', 'James M. McCoy', 'John A. Pease', 'James W. Stephenson', 'Charles M. Engel', 'Peter Ulysses \"Sturgis\" Turner', 'Scott D. McCoy', 'Na-Ga', 'Nicolas-Marie Songis des Courbons', 'Jean-Paul Adam', 'James W. Hubbard', 'Michael Sharvell-Martin', 'Elbert N. Carvel', 'Charles H. Graves', 'Rodolfo Severino, Jr.', 'Kim Kyok-sik', 'Stanley J. Hovdebo', 'Anna Alojza ks. Ostrogska h. własnego', 'German:  Josef Franz Leopold', 'Kellie-Ann Leyland', 'Sultan Al-Ghamdi', 'Ray B. Sitton', '26th Clan Chief', 'Frederick W. Farnham', 'Hugo B. Margáin', 'John J. Kennedy', 'Alexander (Oleksandr) Khvostenko-Khvostov', 'Akram Hassan A. Y. Afif', 'Carl Groos Jockusch, Jr.', 'Eugene P. Gross', 'Franklin P. Backus', 'Mohammed Al-Beshri', 'Mark Edmund \"Duke\" Bainum', 'Yi-Hao Lin', 'Robert E. Huyser', 'Virgil L. Orr', 'Bruce I. Yamashita', 'Henry S. Caulfield', 'F. John Monahan', 'Loren L. Coleman', 'Marja-Liisa Kirvesniemi', 'John K. Stewart', 'Saleh Ali al-Sammad', \"Brittany O'Connell\", 'Son Heung-min', 'Arthur Lenroot, Jr.', 'Kenneth D. Cheuvront', 'Frank G. Carpenter', 'Paul F. Jones', 'Zulkifeli Mohd. Zin', 'Gloria D. Brown', 'शंखलाल माझी', 'Károly Khuen-Héderváry', 'George W. Gage', 'Peter S. Julian', 'Frederick A. Schroeder', 'Julie Byerley, MD, MPH', 'Francis J. MacKiernan', 'R. Krishnasamy Naidu', 'Amalia of Solms-Braunfels', 'Earl F. Hilliard', \"Willem 's Gravesande\", 'Manuel H. Johnson', 'Craig D. Idso', 'Thomas F. Bayard', 'Martine Lignières-Cassou', 'Ada L. Smith', 'Walter C. Quintard', 'Hugo J. Bellen', 'Kanysh Satpayev (Kanysh Satbaev)', 'Joker P. Arroyo', 'German: Henriette Maria Norberta', 'Robert E. Glennen', 'St. Adolf of Osnabrück, O.Cist.', 'Richard M. Blatchford', 'Sir Edward Malet, 4th Bt', \"Paul O'Grady\", 'Juan G. Roederer', 'Kirk Williams, Jr.', 'Dominique-Joseph Garat', \"Mark O'Brien\", 'K. Velayudam', \"Anne d'Alençon\", 'Mohammad Boroujerdi (محمد بروجردی)', 'Isaac C. Naylor', 'O.P.', 'Kenneth C. Binks', 'Frans-Andries Durlet', 'Jean-Michel Chevotet', \"Harvey O'Brien\", 'Samuel F. Patterson', 'Örüg Temür Khan (Gulichi)', 'Ransom A. Myers', 'Samuel Robles (Panamanian Musician)', 'Isaac & Miria', 'frameless|center', 'S. P. Balasubrahmanyam', 'Duncan C. Ross', \"Summer O'Brien\", \"Martin Patrick O'Connell\", 'Dr. Mark B. Rosenberg', 'Benjamin Beit-Hallahmi, Ph.D.', 'P. J. Gillic', 'Choi Ki-Ho', 'Stephane Vehrle-Smith', 'Jeannie Haddaway-Riccio', \"F'Murr\", 'Chun Je-Hun', 'Geri D. Huser', 'Robert V. Richardson', 'Edward Whalley-Tooker', 'George A. Kennedy', \"Molly O'Day\", \"Bryant O'Dare Hammett, Jr.\", 'Erich-Heinrich Clößner', 'Im Dong-Hyun', 'Stan Bowsher (footballer)', 'Frank W. Hunt', 'Bishop Dr. Wilfred Lai', 'Cindy Levinson-Tolhurst', 'D-Ray 3000', 'Ahn Young-Gyu', 'Rafiq al-Tamimi', 'John D. Ceretto', 'Edward N. Eisenberg', 'Martin L.C. Feldman', 'B. Mitchell Simpson', 'H.H. Chesterman', 'John H. Owen', 'John F. Carr', 'Gerald Oriol, Jr.', 'Peter T. Wolczanski', 'R. H. Ives Gammell', 'St. Peregrine', 'Connell Miles Fort, Sr.', 'George H. W. Bush', 'Donald K. Schwab', 'Ioannis A. Tsoukalas', 'Dr. Vasudev Vishnu Mirashi', \"Ann O'Connell\", 'Liu Yuh-san', 'Clive Stuart-Smith', 'Robert de Holland, 1st Baron Holand', 'Yaseen Anas Al-Bakhit', \"सुर्नेद्र झा 'सुमन '\", \"Conor Cruise O'Brien\", 'Ina-Yoko Teutenberg', \"Joseph Leonard O'Brien\", 'P. Whitman Knapp', 'Chen Tsu-Li (陳 祖烈)', 'Frederick Charles (Karl), Duke of Württemberg-Winnental', 'P. T. Deutermann', 'Kadašman-Turgu', 'Merrell Q. Sharpe', 'Count Henri de Baillet-Latour', 'Donal T. Manahan', 'Deborah A. Batts', 'Thomas E. Hill, Jr.', 'Hon. Marlene Jennings', \"John O'Neill\", 'Christine Ben-Ameh', \"Anil Kumar Eravathri '''\", 'Nabil Omran Abdul-Rahim', 'Joseph-Alphonse-Anaclet Habel', 'William S. Cronan', 'The Right Rev. Benjamin Joseph Keiley', 'I. Clinton Kline', 'Robert W. \"Bob\" Straub', 'Avrahm (Abraham) Yarmolinsky', 'Terhi Uusi-Luomalahti', 'James \"J.T.\" Taylor', 'Jamal Al-Atassi', 'Jacques Raige-Delorme', 'George G. Sumner', '(The Right Honourable)', 'M. Shawn Crahan', 'Peter J. Taub', 'D. Vinayachandran', 'David F. Case', 'Miriam J.Ramírez MD', 'Stephen J. Markman', 'Dominador I. Mangubat', 'Susan Goldin-Meadow', 'Kim Yun-hee', 'Harry B. Blevins', 'Jeane (Jean) Manson', 'John J. McVeigh', 'Vernon Erskine-Crum', 'Kevin E. Trenberth', 'Ardeshir (or in higher Persian: Ardashir) Kamkar', 'V. A. Kandiah', 'Henry I. Hodes', 'Gerald T. Bartlett', 'David L. Gilmore', 'B.J. Mendelson', 'John H. Cook', '(Italian Name) Giuseppe Stefano Chiaffredo Marello (English) Joseph Stephen Jeffrey Marello', 'Wigstan (Wystan, Wistan)', 'Anthony R. Fiorillo', 'Torcuato Fernández-Miranda', 'Jean-Pierre Duport', 'The Most Rev. Christopher Joseph Weldon', 'James C. Christensen', 'Arthur \"Andy\" B. VanGundy Jr.', 'Luz M. Santiago González', 'R. T. Guinn', '(김규환)', 'Admiral Jeremy M. Boorda', 'Ming C. Lowe', '(Dionysius the Humble)', 'Shih Chin-tien', \"Joe O'Toole\", 'William H. Ilgenfritz', 'Elmer J. Holland', 'Józef Dowbor-Muśnicki', 'John W. Hennessey, Jr.', 'Arthur-Joseph Lapointe', 'Brown, Joseph Epes', 'Delfín J. Jaranilla', 'John C. Taylor', 'Paul E. Kanjorski', 'Martin N. Johnson', 'Abdulamlek Al-Shammeri', 'Bernard M. Oliver', 'David L. \"Dave\" Pearce', 'Dr. Kenneth Ouriel', 'C. S. Reuter', 'Aaron E. Waite', 'Edwin R. Chess', 'Shin Sung-mo', 'Jean-Charles Cistacq', 'Princess Anne-Élisabeth', 'Pierre-André Schürmann', 'Emery N. Brown', 'Steven L. Jordan', 'Dr. Chapatín', 'George H. Mead', 'Saint John Macias, O.P.', 'Charles B. Stone III', '(강태식)', 'Robert J. Dieter', 'C. Mammutty', 'Archduchess Maria Theresa of Austria-Este', 'Sebastiano Martinelli,', 'David A. Green', \"Stephen James O'Donnell\", 'Joon-Sik', 'Nathan M. Newmark', 'Yu-Foo Yee Shoon', 'C. R. Mohite', 'Ben J. Winer', 'Matthew Cianciulli, Jr.', 'Hsu Jui-te', 'Charles R. Mabey', 'Tony Gwynn Jr.', 'F. R. David', \"Ed O'Bannon\", 'Robert M. Stillman', 'The Hon. Mr Justice Teare', 'Nils-Åke Sandell', 'F. R. Ellis', 'Lily Munster/ OTS name: Phoebe Munster', 'Peggy R. Cook', 'E. Yale Dawson', 'C. K. Stead', 'Ryang Yong-gi', 'Paul W. Smith', 'Chirapat Jao-Javanil', 'Charles W. Shea', 'Guion S. Bluford, Jr.', 'Kim Ju-Hyoung', 'Garner E. Shriver', 'Leo C. Byrne', 'Robert Keith,', 'Ricky J. Sethi', 'Ricardo Cabanas-Rey', 'Luis Alberto Luna Tobar, O.C.D.', 'Jan-Olof Grahn', 'William Ellis (Bill) Newton', \"Walter 'Dobie' Moore\", 'Robert C. Wallace', 'Kim Min-Chul', 'Matthew J. Mossburg', 'C. Adam Bittinger', 'Ralph S. Phillips', 'Adalbert I, Duke of Teck', 'Richard G. Klein', 'A. Hari Reddi', 'John D. Gardner', 'John C. Slater', 'C. David Baker', 'Zubdat-un-Nisa', 'Kim Jin-su', 'Hon.Eugene Fallah Kparkar', 'Suk Young-Jin', 'Edward W. Gray', 'Emma-Kate Dewhurst', 'James H. Henry', 'Howard Brookins Jr.', 'F.T.B. Young', 'Charles O. Porter', 'Gene C. Howard', \"Cassy O'Connor\", 'George W. Della, Jr.', 'Frederick C. Casselman', 'Rashed Ali Al-Sowaidi', 'Yok Mu-ming', 'Judith L. Pipher', 'William \"Bill\" L. Mack', \"J. J. O'Brien\", 'James Younger, 5th Viscount Younger of Leckie', 'Hermann Schulte-Heuthaus', 'Frank H. Mayfield, Jr.', 'León Ávalos y Vez*', 'David Saint-Jacques', 'William C. Schmeisser', 'J.M. Lyngdoh', 'Arthur L. Willard', 'Friedrich VII, Count of Zollern', 'Li Jing (Regine Wu)', 'Hon. William Caryl Ely', 'W. Craig Jelinek', 'Leo O. Meigs', 'Jesse R. Langley', 'ಡಾ. ನೀರಜ್ ಪಾಟೀಲ್', 'Shams ad-Din ibn Muhammad', 'Mahdi al-Arabi', 'John Richard \"Jack\" Williams', 'Joseph-Nicolas Delisle', 'Andrew Jackson Lummus, Jr.', 'Rudolph B. Welch', 'J. Todd Rutherford', 'Gene St. Leon', 'Wui Hye-deok', 'K. Balakrishnan', \"Chak Tok Ich'aak II\", 'T. L. Latson', 'Hogg, Tracy', 'Velmer A. Fassel', 'William Bankhead Courtney Jr.', 'Ronald Dean \"Ron\" Givens', 'Joseph-Couillard Lislois', 'Emad Badr El-Din Mahmoud Abu Ghazy', 'Donald Owen Neely, MNZM, MBE', 'John C. Knapp', 'Margaret M. Weir', 'José M. Dávila Monsanto', 'Sataporn Kantasa-ard', 'Park Jae-Hyun', 'Dr. Jyoti Mirdha', 'Karl-Heinz Brunner', 'Jean-François de Galaup, comte de Lapérouse', \"Bill O'Brien\", 'Tugstumur khan (Uskhal)', 'Donald J. Hoffman', \"Chak Tok Ich'aak I\", \"Leonello d'Este\", \"Fawzi Abdel A'al\", 'Jan-Cor van der Greef', 'Shamcey Supsup-Lee', '(The Right Reverend)', \"Tenema N'Diaye\", 'D. Devaraj Urs', 'Lewis Leslie McAllister, Jr.', 'Robert D. Carmichael', 'Philipp zu Hohenfelden †', \"April O'Neil\", 'Carl Dobkins, Jr.', 'Ben A. Barres', 'Professor Sisir MitraMBE,FRS', 'Jim Paxson Sr.', \"Tim O'Brien\", '(Сүхбаатарын Янжмаа)', 'Genta H. Holmes', \"Joseph O'Neill\", 'Thaddeus Maxim Eugene (Ted) Dikty', 'Flórián Albert, Jr.', 'Gerald C. Thomas', 'Faisal bin Hussein bin Ali al-Hashimi', 'John H. Tilelli Jr.', \"Ta'Shia Phillips\", 'রফিক আজম', 'Perri Shakes-Drayton', 'Linda Thomas-Greenfield', '(אבי סטרול)', 'File:Hollidaycamo.jpg', 'G. David Gearhart', '(محمد افضل بنګش)', 'Charles N. Daniels', 'Victor G. Guillory', 'Cyril Connell Jr.', 'H. K. \"Kenneth\" Cassidy', 'Christian August, Duke of Schleswig-Holstein-Sonderburg-Augustenburg', 'Robert F. Ruth', 'Ian G. Simmons', 'Bernard J. McKenna', 'Saint Bernard of Corleone, O.F.M. Cap.', 'Blackwulf I (Pelops), Blackwulf II (Lucian)', 'George W. Thompson', 'Robert F. R. Lewis', 'Sophie B. Hawkins', 'Ninurta-kudurrῑ-uṣur II', 'Eddie Lucio Jr.', 'Paula Baracho / Paula Ribeiro', 'El-Munsif Ben Youssef', 'Henry I, Count of Nassau-Beilstein', 'Chris (Simpsons artist)', '\"Şeker\" Ahmed Pasha', 'T.H. Tse', 'Danny D. White', 'Vasile Cerescu (Ciorăscu)', 'Kyoko Inoue#5', 'Jacques-Alain Bénisti', 'Anton Freiherr von Doblhoff-Dier', 'Sophie Kieffert-Porte', 'Thomas Cavalier-Smith', 'Ker Chien-ming', \"Junior M'Pia Mapuku\", 'Hussain Abdul-Hussain', 'Richard B. Wilson', 'P. Sreeramakrishnan', 'Lee Jung-Joon', 'Rex J. Walheim', 'Dr. Robert C. Fritz', 'Steven E. Day', 'James H. Morgan', \"Saia Fainga'a\", 'Dr. Kirsty Duncan', 'Ann J. Land', \"George O'Hehir\", 'Donald MacLean Kerr, Jr.', 'Michel M.J. Shore', 'B. Douglas Bernheim', 'Sultan Quli Qutb-ul-Mulk', 'Vladimir Hurban Jr.', \"Brian O'Neill Afanador Pérez\", 'G. G. Ponnambalam', 'John Lynch-Staunton', 'David H. Ohle', 'Chung Yong-Hwan', 'Ralph W. Norman', \"Michael O'Brien\", 'H. L. \"Matty\" Matthews', 'Sam Day Jr.', 'Baden Baden-Powell', 'Antti-Jussi Karnio', 'Jay F. Chen', 'Saint Gorazd,Bishop of Prague', 'P. T. Narasimhachar (Pu Ti Na)', 'Shin Sun-Ho', 'Yun Hyon-hi', 'David A. McIntee', '(غلامرضا مصباحی مقدم)', \"Katherine 'Kat' Farrell\", \"Hedy d'Ancona\", 'Samsam al-Dawla', 'Charles A. Gramlich', 'Panpayak_Jitmuangnon', 'Daniel E. Atha', 'Yeo Myung-Yong', 'Melissa St. Vil', 'Abigail \"Abby\" Sciuto', 'Marianne Kaufmann-Abderhalden', 'Michael D. Unes', 'Leonard P. Wishart III', 'Charles E. Barber', 'Frederick R. Lehlbach', 'James A. Goodman', 'T. T. McConnell', '(S.H.A.D.E.)', 'Dām-FunK', 'James D. McGinnis', 'Rajendra Choudhary / राजेन्द्रा चौधरी', 'James W. Watts', 'T. R. Kashyappan', 'Fyodor Osipovich (Franz Albert) Schechtel', '(Михайло Петрович Драгоманов)', 'Chen Chun-hui', 'Kim Eun-jung', 'Hoffman Lee \"Hop\" Fuller', 'Benjamin F. Flanders', 'Daniel G. Taylor', 'Jonathan Kreiss-Tomkins', 'Andrew J. McGonnigle', 'Jean-Ambroise Baston, Comte de Lariboisière', 'George G. Seibels, Jr.', 'Antonio Riboldi, I.C.', 'Didier Faivre-Pierret', 'C. Adam Harris', 'Lorraine E. Schwartz', 'Christopher \"Chris\" A. Brown', 'Karl E. H. Seigfried', 'Alfred V. Kidder', 'Park Chung-hwi', 'John D. Hopper Jr.', 'C. P. Radhakrishnan', \"Gabriel d'Hédouville\", 'Margaret V. Gillespie', 'John P. Bushemi', 'G-Eazy', 'Albert E. Rees', 'René-Louis Baire', 'James A. Watson', 'John S. Tanner', 'Francisco J. Ayala', 'Fred F. Kaftan', 'Bruce L. Benson', 'Ian Storey-Moore', 'Habern W. Freeman', 'Adolf Heinrich von Arnim-Boitzenburg', 'David A. Bowers', 'Haakon Bruun-Hanssen', \"Roberta D'Adda\", 'F. Gordon A. Stone', 'Louis-Michel-Antoine Sahuc', 'Eleonore Dorothea of Anhalt-Dessau', 'Nathaniel S. Hardy, Jr.', 'The Lord Granville-West', 'John M. Zwach, Sr.', 'Pyon Kwang-sun', 'Raymond E. A. C. Paley', '(Vice Admiral)', 'John G. Lorber', 'Alonzo T. Washington', 'Nicholas Cheong Jin-suk', 'Lester D. Volk', 'Emory Wendell Clark, II', 'James Blackmon Sr.', 'Jean-Marc Mwema', 'Gerhard I, Count of Holstein-Itzehoe', 'Jean-Baptiste Jodoin', 'A. A. Bondy', 'William H. Strayer', 'L. J. Seneviratne', 'Arthur S. Nowick', 'Lee Dong-Won (이동원)', 'Anthony G. Amsterdam', 'Abdul-Latif Salifu', 'Mabel Pakenham-Walsh', 'Benoît Pierre David Assou-Ekotto', 'Eun Seong-soo', 'Ekkehard Kylling-Schmidt', 'Fahad Al-Yami', 'Bernard J. Ray', 'Lion-Heart', 'Isabelo de los Reyes Sr. y Florentino', '(عمرو حمزاوى )', 'Joseph E. King', 'Adam J. Glossbrenner', \"Tomas 'Elof' Elofsson\", 'Robert V. Jackson', 'Albert II, Count of Namur', 'Florante Condes, Jr.', \"Kitty O'Neil\", 'Alain E. Kaloyeros', 'Donald Ray Massengale, Sr.', \"Dennis D'Arcy\", 'Elisabeth of Brandenburg, Duchess of Brunswick-Calenberg-Göttingen', 'Ronald E. Black', 'Donald Howard \"Don\" Yarborough', 'T. R. Subba Rao (Ta Ra Su)', 'Marion M. Bradford', 'H. C. Marston Morse', 'Mohannad Al-Zaabi', 'Mikhail P. Batura', 'Back Young-chul', 'Ravinder Nath (Tiny) Maini', 'Earl Edwards Jr.', 'Randal B. Hopper', 'Daniela Yaniv-Richter', 'Ben Perkins Jr.', 'Victoria-Kayen Woo', 'Francis X. McInerney', 'Park Sang-ha', 'Yang Sheng-Hsiung', 'John C. Donnelly', 'Ali-Naqi Vaziri', 'Ri Yong-chol', 'Léon-Lévy Brunswick', 'A. Habibi', 'Younes el-Sayed Hamed', 'Melville J. Herskovits', 'Thomas R. Hawkins', 'Thomas A. Hill', 'Frédéric Salat-Baroux', 'Winfield Irving Parks Jr.', 'Victorino M. Mapa', 'Elton-Ofoi Acolatse', 'St. Magdalene of Canossa, F.D.C.C.', 'Allan L. Higdon', \"James Peter O'Dowd\", 'Lee Joseph \"Jody\" Amedee, III', 'Sainjargalyn Nyam-Ochir', 'Saint Felix of Cantalice, O.F.M. Cap.', 'Michael G. CampbellOSA', \"Pierre M'Pelé\", 'Victor-Maurice, Comte de Broglie', 'Park Sam-gyu', 'Clifford K. Berryman', \"Daniel J. O'Donnell\", 'Jürgen W. Falter', '(정재권)', \"Brian O'Connor\", 'Vic Coppersmith-Heaven', '(Erin)', 'Wèi Píng-ào', 'Adolph of Nassau-Saarbrücken', 'R. Borden Reams', 'Sir Frederick Hew George Dalrymple-Hamilton', 'Edward S. Klima', 'Victor-Stanislas Chartrand', 'T. Rama Rao', 'Thomas E. Franklin', 'Adama van Scheltema, Carel Steven', 'T-Minus', 'Katherine \"Kathy\" Webb-Kane', 'Sir Iain Mackay-Dick', 'Frank \"Monkey\" Foreman', 'Jean-François Gosselin', \"David D'Apuzzo\", 'Horatio C. Burchard', 'Jacob \"Kobi\" Baladev', 'Madeleine M. Joullié', \"Jim O'Rourke\", 'Ian R. Stevenson', 'Brian A. Young', 'Dr. Luke', 'Mateusz Rutkowski20px', 'José Guillermo del Solar Alvarez-Calderón', 'Günther XLIII, Prince of Schwarzburg-Sondershausen', 'John Michael Dorian, M.D.', 'C. H. Mohammed Koya', 'Ryu Eun-hee', 'Claude Bonin-Pissarro', 'Robert Llewellyn Sumwalt, III', 'Cynthia Harrod-Eagles', 'Jean-Sébastien Roy', 'Max (Mordechai) Farbmann', 'J. Burrwood Daly', 'Clément-Serveau', 'Preston A. Daniels', 'Ebe W. Tunnell', '(אסי בלדוט)', 'Agnieszka Bednarek-Kasza', 'The Hon. Mr Justice Knowles', 'H.R.', 'John J. Boyle', 'Anthony E. Cosey', 'Sir Lawrence Alma-Tadema', 'Don E. Detmer', 'Kaššu-nādin-aḫi', 'Eugene P. Gillespie', 'Akagündüz (Aka Gündüz) Kutbay', 'Hamilton P. MacCarthy', 'Charles W. Adams', 'Frederick I, Count of Vaudémont', 'Jo Hyun-joo', 'Park Sang-wook', 'Charles William Previté-Orton', 'Hwang Mu-kyu', 'Edward E. Beidleman', 'Ivor Phillip Scharrer Warne-Smith', 'Ham Chan-Mi', 'William H. Jackson', 'J. H. Frappier', 'Dan \"The Dude\" Mowrey', 'Charles Gustav of Baden-Durlach', 'Reuben D. Jones', 'Yaser Al-Gabr', 'Charles \"Charley\" Kohlhase', 'G. E. Lowman', 'Catherine Doléans-Dade', 'David S. Creamer', 'Dr. Anton Benning', 'Robert L. Fish', '(Илья Сергеевич Глазунов)', 'Raymond J. Reeves', 'Marc W. Butler', 'Ha Jun-im', 'Chandre Dharma-wardana', 'Joyce M. Cusack', 'Bilo, William C.', 'James P. Eisenstein', 'Alessandro D’Errico', 'Forrest S. McCartney', '梅若実(初世)', 'Ahmad Abdel-Halim', 'Dmitry Svyatopolk-Mirsky', \"Sean C. O'Keefe\", 'Tara Vaitiére Hoyos-Martinez', 'William T. Martin', 'Jeremiah \"Jerry\" Alvin Jones', 'James G. Clark', 'Clifton R. \"Cliff\" Ammons', 'François-Jean-Hyacinthe Feutrier', 'Abdullah Al-Salam', 'Kim Seon-il', 'Jean-Paul Ndjoumeck Ndeki', 'Barbara D. Underwood', 'St. Maria Crescentia Höss, T.O.R.', 'Henry S. Whitehead', 'Maggie Cheung Ho-yee', 'J. Math', \"William O'Brien\", 'R. Sands', \"Charlie O'Connor\", 'Frank W. Wozencraft', \"Michael O'Connor\", 'Ernest J. Allmendinger', 'Thomas G. Miller', 'John W. Kittredge', '(권순태)', 'Jean-Paul Olinger', 'Vonnie (Thompson) DeLong', 'Pentagón Jr.', 'Tyler N. Hague', '(최윤겸)', 'M. Pokora', 'John A. Shaud', \"Leo O'Halloran\", 'Judith C. Russell', 'Mansur ad-Din', 'M. J. Akbar', 'George Anderson Low, Jr.', 'Dominique-France Loeb Picard', 'Ruwaida al-Mahrouqi', 'Cynthia Hedge- Morrell', 'Mother Mary Alphonsa, OP', 'Lee Seung-hee', 'Silvano \"Chori\" Shueg', 'Richard J. Haldeman', 'B. B. Patil', 'Joseph-Hughes Fortier', 'Joseph P. Allen IV', 'Wu Tao-yan', \"Pat O'Connor\", \"Paul John O'Reilly\", 'John J. Muccio', 'Amanda Porter/Emily Thorne', 'Bae Yoo-na', 'Joshua Cain (Mr. Jingle Jangles)', 'E. Ann McGee', 'Benjamin T. Biggs', 'Majid Takht-Ravanchi', 'Don \"Mr. Nice Guy\" Hamilton', 'Hugh (III)', 'Robert Earl Keen, Jr.', 'Viktoria Dmitrievna Tchaplina-Rusakova', 'Abdullah al-Thani', 'Derek M. Wells', 'Florin T. Hilbay', 'George S. Baker', 'Milton C. Garber', 'Michał Rola-Żymierski', \"Fouad M'Roudjaé\", 'Sim Chang-min', 'Willie \"Big Eyes\" Smith', 'M. S. Udayamurthy', 'Anna-Maria Everi', 'Elinor \"Ellie\" Walker', \"Thomas O'Regan\", 'Mustafa Abdul-Hamid', 'William H. Yohn Jr.', 'Ernest C. Brace', 'Keith A. Thomas', 'Isaac D. Seyburn', 'Dr. H.T. Sangliana', 'Joseph-François Armand', 'Domingo Siazon Jr.', 'Daniel \"Erfan\" Olerum', 'Stuart J. Byrne', 'Walter M. Schirra, Jr.', 'James M. Cummings', 'Dudley Anthony \"Butch\" Gautreaux', 'Jacques-Nompar de Caumont', 'J.P. Pennington', 'Yr. Robert Lalkovits - Axone', 'Bob McCaslin Sr.', 'Claudius E. Watts III', 'Anwar ul-Haq Ahady', 'Al-Taftazani', 'George P. Tebbetts', \"Michael 'Mike' Flynn\", 'Bassim Abbas Gatea Al-Ogaili', 'Z. W. (Bill) Birnbaum', 'Anne C. Cools', 'Jere L. Strittmatter', 'Gary Russell Jr.', 'Samuel Pam, Jr.', '(मुनि लाल)', 'Robert P. Madden', 'Ryu Hyun-woo', 'Clarence \"Skip\" Ellis', 'R. P. Baffour', 'C.S. Seshadri', 'Bertil H. van Boer', 'Charlotte M. Blake', 'Kim Jae-shin', 'N. Balakrishnan Nair', 'S’manga Khumalo', 'William G. Everson', 'William C. Davis', 'Henry Beauchamp St. John', 'Howard H. Rosenbrock', 'Sir Frederick Edward-Collins', 'Cyrus P. Walbridge', 'Hugh B. Cave', 'Mohammad Jalal Abbasi-Shavazi', 'W. H. Lyon', 'Blessed John of Vercellli, O.P.', 'Wayne Shear, Jr.', 'J. R. Weinman', 'C. Kumar N. Patel', 'Abigael Kipkemboi-Tarus', 'A. C. Innayya', 'Murrell Smith Jr.', 'J.C. Heard', 'Biga*Ranx', 'Dave E. Boyd', 'Jay R. Vargas', 'Arlyn E. Danker', 'Jan-Are Larsen', 'F. William Lawvere', 'Mark F. Burns', 'Jean-Marie Clairet', \"Dara O'Hagan\", '\"Lightning\"', 'Thomas F. Schweigert', 'Lee-Anne Pace', 'Roger B. Porter', 'Nesty \"La Mente Maestra\"', 'Richard M. Myers', 'Eduardo Teus López-Navarro', 'Cho Chung-Yun', 'W.W.E.Clancy Fernando', 'Park Sang-Cheol', \"Francis D'Oyly\", 'James P. Leddy', 'आचार्य सारंगधर', 'Marvin M. Dickinson', 'Max Hirsch, economist', 'Owen M. Fiss', 'Abdulaziz Al-Hamidi', 'Howard M. Gore', 'Reggie Sahali-Generale', 'F. A. Nettelbeck', 'Luis \"Rolan\" Maldonado', 'David F. Bice', 'J. B. Cox', 'Pamela M. Snyder', 'David Baird Jr.', 'Christiane Koschier-Bitante', 'James F. C. Hyde', '(Олександр Дубовой)', 'John R. Farr', 'Caesar Lucius Aurelius Commodus Antoninus Augustus (180);', 'Daniel S. Hirschberg', 'Can4 Jin4-hei1', 'Archibald \"Archie\" Masters', 'Anne-Marie Baiynd/Presnell/Buttrick/Band', 'A. R. Manu', 'James B. McGovern Jr.', 'Charles B. McLaughlin', 'Owen Summers Jr.', 'Cho Jae-Jin', 'The Chain Gang of 1974', 'Harry A. Dame', 'Park Jin-soo', 'Park Eun-sun', '(محمد قنيري افرح)', 'Kim Un-Jong', 'Stephen L. Adler', 'Robert J. Dunne', 'James L. Oblinger', 'Robert E. Hall', 'Tamara Elizabeth \"Tammy\" Jernigan', \"Robert O'Connor\", \"Jason O'Brien\", 'Francis J. Finn', 'Reece Anthony Clive Hall-Johnson', 'Lord George Fox-Selwyn', 'Erin C. Conaton', 'H. R.(Bill)Percy', 'Dr. Kevin Hardwick', 'James H. Bennett', \"Doug O'Neill\", 'Nora-Eugenie Gomringer', '(გიორგი თარგამაძე)', 'Miguel Ángel Martínez-González', 'Donald J. Farish', 'Ali ibn al-Madini', 'Kwak Tae-Hwi', 'Stevie \"Top Gun\" McKeag', 'Henry A. Smythe', '(Владимир Антонов-Овсеенко)', 'William Pakenham, 4th Earl of Longford', 'Eric G. John', 'Jean-Georges Garneau', 'John Pridgeon Jr.', 'Michael L. Brodman, M.D.', 'Harmon S. Graves', 'Lemuel B. Shirley', 'J.H. Binford Peay III', 'Patrick Lau Sau-shing', 'Caesar A. Rodney', 'N. M. Singhi', 'Robert M. Blair', 'Joshua M. Pearce', 'Balthasar, Count of Nassau-Wiesbaden-Idstein', 'Walter C. Sweeney, Jr.', 'Charles S. Reinhart', 'George P. Demas', 'Hugues-Wilfried Dah', 'Hamdi Hobais Sher Jandal Al-Sharjandal', 'Shariff ul-Hashim', 'Carl T. Langford', 'Prof. B.D. Yadav', 'Andrew J. May', 'The Beast, Count Spatula, Lightning Cat', '(Его́р  Лигачёв)', 'David W. Atkinson', 'The Trooper.', 'Kinoole-o-Liliha', 'Lee-Anne Hunter', 'Kenneth Tse (謝德驥)', 'Jamaan Al-Dossari', 'Radford \"Graham\" Snelding VII', 'Lee Hyun-Min (이현민)', 'John W. Vogt', 'Princess Marie-Caroline', 'Gonçalo da Silveira, S.J.', 'Ahmed Al-Fahmi', 'Jean-Pierre Danguillaume', 'N. V. M. Gonzáles', 'Abdul Baset Al-Sarout', 'Tommy Yeo-Thomas', 'Kim Sang-Sik', \"Maarten 't Hart\", 'Charles B. Henderson', 'Orvin B. Fjare', 'Lee Se-Yeol', 'Colin M. Simpson', \"William O'Neal\", 'Lim Gi-Han', 'Roosevelt I. Polite', 'Giulio Gatti-Casazza', '(MBE)', 'Song Hui-chae', '(Charles Chalmont)', 'G. Van Den Burgh', \"Cameron O'Shea\", 'Edwin Y. Webb', 'صادق قطب\\u200cزاده', \"Pat O' Driscoll\", 'James M. Adams Jr.', 'Andrew J. McGraw', 'Peter Askjær-Friis', \"Morrough Parker O'Brien\", \"Br'er Fox and Br'er Bear\", 'Nils-Paul Skåra', 'George M. Harmon', 'Kenneth A. Ross', 'Stephen Naidoo, C.Ss.R.', 'Clarence George Jeffries or (Jeffreys)', 'P. H. B. Lyon', 'Craig T. James', 'Guy II, Marquis of Namur', 'Park Chung-hee', 'Richard M. Edwards', 'John W. Millar', \"Oskar D'Amico\", 'R.J. Rizada', 'Molly Zuckerman-Hartung', 'David N. Senty', 'Wallace Humphrey White Jr.', 'Denis L. Rousseau', 'Saint François-Isidore Gagelin', 'Hans-Georg von Charpentier', '(조긍연)', 'MUTHARAIYAR SINGAM MAAVERAN A.VENKATACHALAM MLA.', 'Szilveszter E. Vizi', 'Peter J. Bentley', \"Marco d'Aviano\", 'Jean-Robert Toussaint Jr', 'Daniel R. Chamberlain', 'James \"Boogaloo\" Bolden', 'Garfield Mark \"Gar\" Logan', 'Charles R. Jackson', 'Yao Chi-Ling', 'George D. Buffett', 'Tsai Sen-tien', 'Anna-Greta Leijon', 'John P. Milliron', \"Robert O'Leary\", 'Gottfried Weilenmann, Jr.', 'Burke G. Hanford', 'Richard \"Dickie\" Burnell', 'J. Albert Richardson', 'Abdul-Monem Al-Mashat', 'Jo-Yu Chen', 'Yohai Ben-Nun', 'Jessica-Jane Applegate', 'Pierre-Antoine Gillet', 'formerly Twat, née Pearson', 'Naum Natanovich (Nokhim Sanalevich) Meiman', 'Ephraim Kirby-Smith', 'John III, Marquess of Montferrat', 'William J. Sparks', \"Ina'am As'ad Kaddoura Al-Mufti\", 'J. Kenneth Gowers', 'Michael R. Arietti', 'Amr Al-Sulaya', 'Mian Tansen (Tansen)', 'Frederick J. Daly', 'John H. Garvey', 'Florian Pilkington-Miksa', \"Steven D'Amico\", 'George Douglas, 1st Earl of Dumbarton', 'G.B. Grayson', 'Clinton W. Davies', 'Jan H. Evans-Freeman', 'Alfred J. Whittle Jr.', 'Peter C. Ordeshook', 'Sir Martin Moore-Bick', \"Christy O'Connor Jnr\", 'Cho Ji-hun', 'José M. Cabanillas', '( )', \"Jim 'Link' Walsh\", 'Alfred H. Conrad', 'Park Hyoung-su', \"Ch'p of H'lven\", 'Olive Mudie-Cooke', '9ice', 'Arthur Pelham-Clinton', \"Stéphan L'Enflé\", 'Mathilde-Amivi Petitjean', 'S. B. Wilson', 'Willie Chu (聲漪 朱)', '(CBEFSA)', \"Des O'Dwyer\", 'Friedrich \"Fritz\" Warnecke', 'Park Won-jae', 'Oscar E. Peck', 'A. Joe Fish', '(Paul-Tijs Goldschmidt)', 'Carl-Michael Eide', 'Ralph de Stafford(Dokeseye)', 'L. T. Walker', 'Moritz Wilhelm, Duke of Saxe-Zeitz', 'Saad Al-Abdullah Al-Salem Al-Sabah', 'Jean-Baptiste Manhès', 'Roland E. Arnall', 'David Baird Sr.', '21 Savage', 'Ahmed Al-Jizani', 'Douglas A. Blackmon', 'Edward \"Eddie\" Whit', 'Yousuf Shaaban Al-Busaidi', 'Saint Didacus of Alcalá, O.F.M.', 'Gary D. Hanson', 'Park Sang-in', 'Kenneth G. Ross', 'Jefferson P. Kidder', 'Lee Ki-ho', 'Sherif Abdel-Fadil', 'Crow T. Robot', \"Iuri Osip'ovi\", 'Issac N. Evans', 'Carmen E. Arroyo', 'K. N. Ananthapadmanabhan', 'Neil Tevin Michael Benjamin Jr.', 'Lee Kyung-Ryul', 'Park Hyun-bin', 'Chuang Wei-lun', 'Arthur J. Krener', 'Stevan Nedić–Ćela', \"Nicholas O'Shea\", 'Josif Kazanxhi-Xuxi', 'Francis Dawson-Paul', '\"Dark Faby\"', 'Thomas Francis Darden, Jr.', 'John D. Spellman', \"Matthew O'Brien\", 'George H. Pritchard', 'Frank H. Richards', '(Yamato Maeda)', 'Jean Price-Mars', 'Kathleen A. Marchione', 'K. T. Oslin', 'Sinéad O’Connor', 'Susan Y. Illston', 'Nathan Crook Twining Jr.', 'Dr. Arturo \"Arthur\" J. Angara', 'Kharkhüügiin Enkh-Amar', 'Jean-Baptiste Morel', 'Jacob Franklin \"Frank\" Mentzer III', 'Charles J. Pilliod Jr.', 'Veronika Sramatythumb|Veronika Sramaty making of The Top Ten', 'Emanuel V. Soriano', 'Richard H. Immerman', 'Ryan St. Onge', 'Kim Chang-Hoon', 'Maurice H. Rindskopf', '\"Shoeless\" Joe Jackson', 'John M. Bilock', 'A. Paul Kitchin', 'Yaw Osafo-Maafo', 'Frank M. Byrne', 'Hans-Günter Neues', 'Eddie Collins, Jr.', 'Robert J. Hamilton', 'Bjørn Helland-Hansen', 'John M. S. Williams', 'Michael D. Prusi', 'David C. Bury', 'Yoon Jung-soo', 'Essam Heggy, PhD', 'György Berencsi 3rd', 'Bander Al-Bishi', 'Nick Fenton-Wells', 'Lieutenant Colonel George Braund, VD', 'R. C. Williams', 'Paul \"Ginger\" Fraser', 'Fred C. Norton', 'Park Chul-Hyung (박철형)', \"Joe O'Reilly\", 'Robert T. Lackey', 'Frank A. Haskell', 'Farid Aslani (Persian : فرید اصلانی)', 'J. L. Carr', 'Soce, the elemental wizard', 'Gerald W. VandeWalle', 'Michael S. Turner', 'Justus F. Krumbein', 'Mirko Petrović-Njegoš', 'Kenneth H. Walker', \"Desmond O'Donnell\", 'Liu Shyh-fang', 'Douglas A. Dench', 'Antonio F. Weiss', 'Aram J. Pothier', 'Han Sun-Soo', 'Magdalena Joanna Śliwa (nee Szryniawska)', 'Nathan Matthews Jr.', 'Herbert H. McMillan', 'Paul F. Nichols', 'P. Eline Slagboom', 'Reginald Brooks-King', 'Hiroya (弘也)', 'George Michael Ward Jr.', \"Maeve O'Donovan\", 'Dr. George Joseph', 'D. Elmer Hawbaker', 'Ștefan Gușă (Gușe)', 'Ithobaal I (’Ittoba‘l, Ethbaal)', 'Benjamin \"Ben\" Reilly', 'Stephen R. Smith', 'Joseph St. Denis', 'William H. Face', 'Kim Tae-kyun', 'Anood Al-Samerai', 'Ernst-August Roth', '(J. Leonard Blussé van Oud-Alblas)', 'Ophélie-Cyrielle Étienne', 'Atta-Ur-Rahman', 'Richard S. Boardman', 'John Noah Reese Jr.', 'Clarence W. W. Mayhew', 'Saint Albert Chmielowski, C.F.A.P.U.', 'Líu Hóngdù (劉弘度) / Líu Bīn (劉玢)', 'Dr. Stephen T. Colbert', 'Alfred Edward \"Ted\" Ringwood', 'Jean-Paul Bacquet', 'Wilhelm-Francis Ochsner', 'Pat O’Kelly', 'Alin Alexuc-Ciurariu', 'George N. Leighton', \"O'Bryan\", 'Bożena Sikora-Giżyńska', 'William Q. MacLean, Jr.', 'J57', 'K.J. Kindler', 'Samuel B. Hill', 'Leonard H. Bolick', 'Mavis Maclean,CBE,FRSA', \"ג'ורג' בורבה\", 'Sir Lance Adams-Schneider', 'Tanae Davis-Cain', 'Wolrad I, Count of Waldeck', 'Hamchétou Maïga-Ba', 'Hussein Yasser El-Mohammadi Abdulrahman', \"Sultan Abu'l Fath Nasir - ud - Din Mahmud Shah I\", 'Bl. Francisco Palau y Quer,O.C.D.', 'Hon. Richard FitzPatrick', 'Eileen Filler-Corn', 'Josephat T. Benoit', 'Joseph E. Brandle', 'Mark (I) Csák', 'Walter J. Boverini', 'William O. Steele', 'Steve H. Murdock', 'Dmitry (Dima) Kroyter', 'Moon Kwang-eun', 'Kim Jung-hyun', 'Lisa-Marie Vizaniari', 'Alan \"Blues\" T. Baker', 'Alec Brook-Krasny', 'Murray D. Martin', 'Augustus William, Duke of Brunswick-Lüneburg', 'Dr. Jonathan Earle', 'Robert A. Scholtz', 'John S. Barry', 'Orlando Méndez-Valdez', 'Shinmen Takezō; Miyamoto Bennosuke; Niten Dōraku; Shinmen Musashi no Kami Fujiwara no Genshin', 'Pig-Pen', 'Bourke B. Hickenlooper', '1316-Sv.4', 'Edwin P. Smith', 'Moonga K.', \"Yedidya Ya'ari\", 'Sir Charles Hastings, 1st Baronet', 'Samuel B. Griffith II', 'William D. Denney', 'Norman A. Erbe', \"Abu Yaqub Yusuf ibn Abd al-Mu'min\", 'Don B. Colton', 'Al-Saadi Muammar Gaddafi', 'Sung Yu-hsieh', 'Daniel C. Burbank', \"Moshe Ya'alon\", 'Michael A. Rice', 'Charlie Comyn-Platt', 'Rojkind, Michel', 'Jeon Hyeon-Chul', 'Jeremy K. Nicholson', 'V.Vaithilingam', 'Gerd-Volker Schock', 'Henry George \"Harry\" Spencer', 'James Robb, Jr.', 'A. F. J. Klijn', 'Choi Dong-Won', 'John A. Green', 'Danica Joelle Wu,', 'Charles M. Brunner', 'Doo-Ri Chung', 'Pierre-Dominique Bazaine', 'John W. Carter', 'Vassilis Skourtis-Shkurtaj', 'Raphaël Milliès-Lacroix', 'George C. Williams', 'Jong Jin-sim', 'Gwon Han-Na', 'William L. Hadden', 'Richard J. Sullivan', 'Charles M. Lefferts', 'Gu2 Geoi6-gei1', 'H.D. Harvey-Kelly', 'Lin Tzu-hui', 'William Hew Clark-Kennedy', 'Charles \"Buck\" Wharton', 'Kaihō, Yūshō Shōeki', 'Dr. George A. Burridge', \"Patrice Derigobert Ollo N'Doumba\", 'Ali Abbas Al-Hilfi', 'Ellen R. Sandor', \"Tautai Agikimu'a Kaitu'u\", 'Mike Saint-Jules', 'O. A. Hankner', 'Siegfried H. Linkwitz', 'John P. Koehler', 'E. J. Rowland', 'Ethel M. McGary', 'Venkata Subba Rao, Pydimarri', 'Dik6 Lung4', 'J. Quigg Newton', 'Jack P. Sullivan', 'Sadie G. Koninsky', 'Hsiung Mei-Chien', 'Robert L. Stephens', 'David Turquand-Young', 'Robert Lettis Hooper, Jr', 'Anișoara Cușmir-Stanciu', 'Ralph H. Young', \"Alafoti Fa'osiliva\", 'James M. Prichett', 'Grace Gill-McGrath', 'Michael F. Flaherty', 'Mike Campbell-Lamerton', 'Daniel H. Pink', 'Lee Sang-Yong', 'Jean-Louis Gampert', 'Han Dae-hwa', 'J. Roderick McKenzie', \"Karel D'Haene\", 'Vasily V. Dokuchaev', 'Мико́ла Миха́йлович Люби́нський', 'Alcide M. Lanoue', 'J. Patten', 'Kim In-ho', 'Franz W. Seidler', 'Zeenat-un-Nissa', 'Katherine Webb-McCarron', 'George E. McKinley', 'Huang Te-Feng', 'Herbert Fuller-Clark', 'Shin Soo-Jin (신수진)', 'கிள்ளி வளவன்', 'Kim Hyo-Jun', 'Dr. Kamala Sankrityayan', 'Pattom A. Thanu Pillai', 'G. A. Moore', 'John W. Snyder', 'Rowena Webster (Rowie)', 'M. B. Rajesh', 'Francis Yuan-hao Tien', \"Cathal O'Connell\", 'Roberto Ruiz Esparza Jr.', 'Walter M. Gibson', \"Sarah-Jane D'Arcy\", \"Anna Maria Luisa de' Medici\", 'Kevin J. Anderson', 'Jan W. Jaworowski', 'Jean-Gardy Ady', 'Albert Kai-Wing Ng', 'Luise of Brunswick-Wolfenbüttel', 'Eli Y. Adashi', '(Baroness Eccles of Moulton)', 'John F. Wiley', 'Stoyan N. Karastoyanoff', 'Gordon S. Cowan', 'Donald H. Oliver', ')', 'Y.S. Jaganmohan Reddy', 'Atallah Al-Anazi', 'Aaron Jean-Marie Lustiger', 'Neville Bowes Elliott-Cooper', 'Paul-Arthur Séguin', 'Jeffrey R. Cellars', 'Mr. J. Medeiros', 'Sterling J. Nesbitt', '(Зоран Димитријевић)', 'Bernard Joseph McLaughlin, Jr.', \"Logovi'i Mulipola\", 'Robert Russell Burton Jr.', 'K. S. Narayanaswamy', 'Jean-Baptiste Biot', 'John K. Tsotsos', 'Gang Gyeong-hyo', 'Roy C. Booth', 'George Champlin Mason, Jr.', 'Gavin E. Crooks', 'Willem \"Willebeer\" de Beer', 'Yeom Ki-Hun', 'Thomas W. Riggs Jr.', 'William B. Clagett', 'Fraser L. Adams', 'Charles Bowle-Evans', 'A. R. VanCleave', 'Sayf al-Din Muhammad', 'Wang Jing-li', 'Scott C. Cook', 'A1', 'Thomas J. Scrimenti', 'William P. Biddle', 'Lee Gwang-hyuk', 'Harriet C. Babbitt', 'Son Seung-yeon', 'สุวรรณี สุคนธา', 'A. M. Klein', \"Fat'hi Abu Taleb\", 'Robert A. Nardolillo', 'G. Raymond Chang', 'Tomer Shem-Tov', 'Ana-Maria Crnogorčević', 'John W. Fishburne', 'Anthony J. Cimini', 'Hwang Jae-hun', 'Kim Min-jung', 'Šagarakti-Šuriaš', \"Georges N'Doum\", 'Robert J. Spane', 'Sir George White, 1st Baronet', 'Benjamin F. Newhall', 'Sir John Hanbury-Williams', 'Jade Soune-Seyne', 'Élie-Hercule Bisson', 'A. S. Dalal', 'Evelle J. Younger', 'Junius Ho Kwan-yiu', 'Stefan S. Tripković', 'Shing-Tung Yau', \"Dick D'Agostin\", 'Joseph H. Eberly', 'Albert C. Eisenberg', 'Richard S. Madaleno', 'W. Scott Corbett', 'John A. Rogers', 'Park Nam-gyu', 'Enrique Maximiliano Meza Salinas Jr.', 'Sander S. Florman, M.D.', 'Gwendolyn T. Britt', 'Harry Kent - Architect', 'Saints Denise, Dativa, Leontia, Tertius, Emilianus, Boniface, Majoricus, and Servus', \"Cahir O'Doherty\", 'R.I. Moore', 'Sidney Sanabria-Robles', 'wai6 laan4', '1978', '(محمد یعقوب علی)', 'Floyd T. Christian', \"Louis-Joseph d'Herbomez\", 'Fadel Ahmed Abdullah al-Hiyali', 'Alexander Hood, 1st Viscount Bridport', 'John R. McGann', 'Khalifa Ayil Salim Al-Noufali', 'Sigurður T. Jónsson', 'R. Charlie Brett', 'Genowefa Migas-Stawarz', 'Fred V. Archer', 'M.L.R. Karthikeyan', 'Shakeel-ur-Rehman', 'David S. Kris', 'Cathy-Lynn Song', 'Ibrahim Al-Ghanim', 'N. P. Pradeep', 'Ted Alvarez, Jr.', \"Colin O'Brien\", 'Sheila E. Hixson', 'Patrick W. Bell', 'Su Li-wen', 'Rich T. Buckler', 'Juan A. LaFonta', 'Alexander Williams Jr.', 'Keith C. St. John', 'Mit’hat Frashëri', 'David L. Gregg', 'The Crazy Cuban, Roli', 'Rudolf Szepessy-Sokoll Freiherr von Negyes et Reno', 'Katharina of Hanau, Countess of Wied', 'Stuart E. Barstad', 'George J. Zimmermann', \"Tom O'Brien\", 'Professor Dr. Yasmeen Rashid', 'Dipl.-Ing Karl Freiherr von Lersner', 'O.H.', 'Archibald H. Gillespie', 'Yeom Dong-Kyon', 'Eeyore (Disney version)', 'Dr. Spencer Reid', \"Tim O'Neil\", \"Komand'r\", 'Douglas A. Geiss', 'Zhang Na (volleyball)', 'Jose L. Linares', 'Peter A. Freeman', 'Maurice Le Blanc-Smith', 'Robert M. A. Hawk', 'Jaime St. James', 'William V. Knott', 'St. Josephine Margaret Bakhita,F.D.C.C.', 'Jean-Philippe Saïko', 'Suresh H. Moolgavkar M.D., Ph.D.', 'D. Kent Frizzell', 'James H. McKinley', 'Abdurrahim El-Keib', 'Ray McCallum, Jr.', 'M. Susan Montgomery', \"Right Rev. William O'Hara\", 'J. W. S. Cassels', 'Edwin J. Chilgren', 'Lord Michael Fitzalan-Howard', 'Nancy B. Jackson', \"Alan O'Brien\", 'Albert S. Berry', \"Mark O'Hara\", 'E. A. Bourque', 'Sir Daniel Macaulay Stevenson, Bt', 'Nikolay Muravyov-Amursky', 'Michael W. Traugott', 'N. Srikantha', 'Allen R. Steen', 'Family name: Hóu (侯)', 'Clarence D. Rappleyea Jr.', 'Dick King-Smith', 'Henry M. Fuller', 'Abraham Shek Lai-him', 'Francis T. Ryan', 'The Lord Browne-Wilkinson', 'Clark V. Poling', 'Marilyn B. Evans-Jones', 'Charles W. Ballard', 'Zhou Huaizheng (周懷政)', 'George H. Bell', 'Ira L. Reiss', 'Albert G. Simms', 'சிவராசா ராசையா', 'Jerzy Waldorff–Preyss', 'Barbara J. Pariente', 'L. O. (Buck) Olsen', 'Joseph C. Strasser', 'H. Douglas Keith', 'Timothy P. Green', 'Jean-Paul Marchand', 'Edgar C. Erickson', 'James R.W. Purves', 'Nora Coton-Pélagie', 'Max-Peter Ratzel', 'Raymond S. Whitford', 'Cherise Taylor-Stander', 'Harlan J. Brothers', 'Kim Young-Kwang', 'J. W. Gage', 'A-Plus', 'Dipl.-Ing. Heinrich Burchard', 'Walter I. Hayes', 'Victor H. Espinoza', 'Michael C. B. Ashley', 'William L. Frierson', 'Florante F. Matan', 'George F. Walker', 'Caesar A. Saloma', 'Heoi2 Gun3git6', \"Audrey O'Brien\", 'Nick Farr-Jones AM', 'Go-Daigo', 'Genri Nikolaevich Koptev-Gomolov', 'Charles L. Lewis', 'Ernie K-Doe', 'Jennifer J. Isler', 'Kim Hyo-sub', 'Damayanthi Dharsha-Kobalavithanage', 'Abdulrahman Al-Ghamdi', 'Lewis D. Thill', 'G. Dep', \"Lanae' Hale\", 'H. John Stahl, Jr.', 'David P. Granger', 'Yu Guan-lin', 'Janet Finch-Saunders', 'John Charles Watts-Russell', 'Egon-Reiner Freiherr von Schlippenbach', 'John A. McNally IV', 'Meinhard II of Gorizia–Tyrol', 'St. John Ellis', 'The Hon. Ms Justice Laing, QC, DBE', 'Alton W. Knappenberger', 'Maury Maverick, Jr.', 'Kwong Chun-yu', 'पवन कुमार शर्मा', 'Bert T. Sperling', 'Jean-Michel Richeux', \"Bob O'Neill\", 'Michel Roux-Spitz', 'al-Ḥasan ibn ʻAlī al-Barbahārī', 'Betty Viana-Adkins', 'Dr. Augustin Cabanès', \"Hal O'Hagan\", 'P.J. Pacifico', 'Carol A. Barnes', 'Go-Reizei', 'Franklin E. Roach', 'C. D. Howe', 'A. K. Shiva Kumar', 'Pieter-Jan De Smet', '(Nguam Indapañño)', 'Jean-Claude Boulanger', 'Helene of Mecklenburg-Schwerin', 'Hermann-Bernhard Ramcke', 'Sir Fitzroy Maclean, Bt', 'Victor J. Westerberg', 'Candice Carr-Archer', 'José Pedro Aguiar-Branco', 'Kao Hao-chieh', 'Paul Alo-Emile', 'Dutch: Gabriël Boudewijn Karel Maria', 'Ae-Ri Noort', 'Arthur \"Art\" George Bragg', 'Billy(William) Best', 'Gordon Harold \"Gertie\" Sawley', 'P.S. Ayyaswamy', 'Ernst-Georg Philipp', 'Beauty☆Takaco', 'Hugh G. Harrison', 'Joseph-Benoît Suvée', 'Alan Leong Kah-kit', 'Jimmy L. Love, Sr.', 'Seo Dong-hyeon', 'Robert D. Beckel', 'Kuo Tai-yuan', 'Jérôme Napoleon Bonaparte, II', 'Thomas G. Morris', 'Bryan P. Glass', 'Pat C. Trusio', 'Eric S. Roberts', 'Daniel-Jérémie Décarie', 'Silvius I Nimrod, Duke of Württemberg-Oels', 'Mario Díaz-Balart', 'St. Alberto Hurtado, S.J.', 'Chen Kuang-fu', 'L-Tido', 'Paul E. Olsen', 'Richard A. Falk', 'Louis-Anne-Jean Brocq', \"Michael Sydney Anthony O'Hara Jr.\", 'Allan Perry-Keene', 'Frederick Charles Ferdinand, Duke of Brunswick-Lüneburg', 'James F. Hughes', 'Ronnie Mabra, Jr.', 'Girma Wolde-Giorgis', 'George D. B. Pepper', 'Wells S. Jones', 'William V. Chappell Jr.', 'Otto-Pekka Jurvainen', 'C. B. C. Warrier', 'Lee Chang-keun', 'Dolk (Dolk Lundgren)', 'George R. Edwards', 'Regina D. Thomas', 'Walter C. Caudill', 'Stan C. Booth', 'Prospero \"Butch\" A. Pichay Jr.', 'Idriss Ech-Chergui', 'Peter Murray-Rust', 'Paull H. Shin', 'A. Y. S. Parisutha Nadar', 'John H. Ware 3rd', 'Chester E. Norris', 'C. L. Furtado', 'Fred B. Schneider', 'Jean-Claude Brizard', 'Yan Hong-sen', 'Martina Topley-Bird', 'Bastien Lecouffe-Deharme', 'Mariano \"Pugo\" Contreras', 'Chui Chi-kin', 'Jean-Hippolyte Marchand', 'Edward H. Levi', \"'''William Ross MacBrien\", 'A. J. Ramos', 'Jeffrey H. Shapiro', 'S. Quinton Johnson', 'Henry D. Foster', '(額爾德特·文繡)', 'Pierre David Édouard de Colbert-Chabanais', 'Catherine of Pomerania-Wolgast', 'P. N. Vinayachandran', 'Berrie H. Jarrett', 'Karl G. Kessler', 'Arthur W. Overmyer', 'Burton S. Blumert', 'Sarah W. Whitman', 'J. Kim Sessums', 'Ulla-Karin Rönnlund', 'John Bachop \"J.B.\" Gilfillan', 'Francis W. Rockwell', 'Ernest, Duke of Opava', 'Joseph-Ludger Fillion', 'Archibald C. Godwin', \"Ofa Fainga'anuku\", 'Yu Bin (喻彬)', 'Joseph Jean-Baptiste Laurent Arban', 'William F. Garrison', 'Ivan Samylovskii (Samylovsky) Иван Самыловский', 'Anthony J. Griffin', 'Raymond F. Chandler III', 'Louise Firouz (née Laylin)', 'Saints Theodore, Philippa, Dioscorus, Socrates, and Dionysius', 'M. Rajasekara Murthy', 'H. Lee Moffitt', 'Franz-Josef Wolfframm', 'K. Parasaran', 'Leon B. Poullada', 'Najat Vallaud-Belkacem', 'M. N. Subbamma', 'Gabrielle “Goldie” Nowee', 'Peter J. Huber', 'George P. Fisher', 'Waleran I, Lord of Ligny', 'Robert \"Bob\" Vickman', 'J. A. R. Moroney', \"Norbert D'Souza\", 'Lee Jin-Ho', 'Mamadou M. Diallo', 'Lee Ho-Joon', 'Squier, Michael J.', 'Ha Su-gyeong', '(Дми́трий Я́зов)', \"Lance O'Sullivan\", 'David G. McAfee', '(이상헌)', 'Rev. Clarence Larkin', 'Park Jin-Yi', 'Jade Annmarie Lorton-Radburn', 'General Frédéric-Georges Herr', 'Edward Hanlon, Jr.', 'K.H. van Brederode', 'D.O. (Defy the Odds)', 'Hur Do-Hwan', 'Charles T. Tozier', 'Jean-François Kornetzky', 'Adolf von Batocki-Friebe', 'April \"Boy\" Regino', 'Dutch: Albert Leopold Clemens Maria Meinrad', 'Jesse J. Taylor', 'Jean-Louis Pons', 'David O’Callaghan', 'Posey G. Lester', 'Frederick A. Cuthbert', 'Kevin A. McCarthy', 'H. Ward Page', 'W. P. Kinsella', \"Cha. Fra. D'Costa\", 'J. Moss', 'Joyce Nonde-Simukoko', 'Zoilos I Dikaios (\"The Just\")', '(伊沢利光)', 'Digvijay Singh (Bihar)', 'Adolfo S. Azcuna', 'William H. F. Payne', 'Eric M. Plakun', 'Eugene J. Gerber', 'Brackin Karauria-Henry', 'James F. Price', 'Deborah L. Berry', 'K.C. Cole', 'Betty E. King', 'Johanes Maliza, Jr.', 'Roswell K. Colcord', 'Christopher I. Moore', 'Mohammad-Ali Hosseinzadeh', 'Sir Charles Lloyd Birkin, Bt', 'Badr Mansor Al-Sulaitin', 'Hans-Jörg Criens', 'Isabella \"Bunny\" Bennett', 'Mohsen Salem Al-Garni', 'Mustafa A.G. Abushagur', 'Abu Bakr al-Baghdadi', 'Richard C. L. Moncure', 'Alexander Hamilton Rice Jr.', 'Richard J. Gage', 'Frank Kingston Smith, Sr.', \"The People's Champ\", 'D. J. Kennedy', \"John O'Connell\", 'Han Jae-Woong', 'C. J. F. Williams', 'Lorraine Clifford-Lee', '(Gerhard) Louis De Geer', 'Edward N. Whittier', 'Paul-Henri Spaak', 'William Joseph Fleniken, Sr.', 'E.J. Feihl', 'O. J. Mayo', 'Shin Se-Gye', 'Wint Winter, Sr.', 'Ling4 Bo1', 'Lisa M. Dugan', 'Thomas J. Geraghty', 'Leonidas H. Inscho', 'Chin-Chih Huang', 'LeRoy J. Louden', 'Sydney, Lady Morgan', 'Abdulkareem Aiedh Al-Qahtani', 'Augustus E. Willson', 'Bice Sechi-Zorn', 'Vincent Darius, O.P.', 'Smedberg-Dalence', 'John W. McDonald', 'Chen Shu-li', 'Walter \"Clift\" Chandler', 'Wayne A. Fuller', 'Anthony Johnstone-Burt', 'Benjamin Lo-Pinto', 'David C. Rubinsztein', 'Nader El-Sayed', '(中嶋常幸)', 'Yang Ha-eun', \"Chico's Angels\", 'Prof. Dr. Hannah Monyer', 'F. Sionil José', 'David A. Clarke, Jr.', 'Lucien E. Blackwell', 'Joseph T. Doyle', \"John O'Sullivan\", 'J.J. Lyons', 'Bjørn G. Andersen', 'Dr. Ernst Bruno Victor Ziehm', 'Yang Sui-sheng', 'A.T. George', 'Thomas E. Flaherty', 'Charles \"Chub\" Reynolds', 'Lee Tae-young', 'Hwang Tong-gyu', 'Rubic Ghasemi-Nobakht', 'William H. MacInnis', 'Jean-Marie Defrance', 'Mohammed Al-Habsi', 'Goran Radosavljević \"Guri\"', 'Jane Naana Opoku-Agyemang', 'Ur-Nammu', 'Ha Hyun-Yong', 'Brian K. McHale', 'John H. Devlin', 'A.F.P. Hulsewé', 'Felix Ravaisson-Mollien', 'Edward L. Beach Sr.', '(龔怡萍)', 'Faisal Al-Dakhil', 'Sajid AliUrdu:ساجد  علی', 'Carol M. Highsmith', 'Jean-Baptiste Donatien de Vimeur de Rochambeau', 'Elavarasan a/l Elangowan', 'Charles O. Andrews', 'LI, On-kwok, Victor', 'Hans-Hartwig Trojer', 'Yoon Kye-sang', 'Michael D. Getchell', 'Chang Wen-ing', 'Robert F. Coverdale', \"Paquito D'Rivera\", 'Duke Montana, MC Duke, Il Generale', 'Laura García-Caro', 'Herbert S. Gutowsky', 'John de Mowbray, 4th Baron Mowbray', 'Van Hipp, Jr.', 'Michael J. Lenox', 'Dr. Vincent Aleven', 'Yoon Bit-garam', 'Robert P. Letcher', 'Saint Peter Fourier, C.R.S.A.', 'Christopher Hyde-Smith', 'Charles D. Sutherland', 'Richard Arden, 3rd Baron Alvanley', 'Park Hong-keun', '(송진형)', '(Abu Issa)', 'John W. Caldwell', 'Wei Chun-Heng', 'Andrew S. Moscrip', 'Frederick Bushnell \"Jack\" Ryder', 'সুবীর রাহা', 'Herbert J. McGlinchey', 'Gladys Kalema-Zikusoka', 'Byron C. Preiss', 'C. Daniel Mote, Jr.', 'Vito J. Lopez', '(박건하)', 'Gus G.', 'Haywood Shepherd Hansell, Jr.', 'Andrew Osei-Bonsu', 'Ira C. Owens', 'Drew Alan Springer Jr.', 'Sir James Stewart, Bt', 'Given name: Unknown', 'Bashkir (Башкир)', 'Ralph C. Johnson', 'Christian Ernst, Margrave of Brandenburg-Bayreuth', 'Alfred E. Reid', 'Walter Bertram \"Bert\" Hatten', 'Charles A. Ott, Jr.', 'H. Sebastian Seung', 'Arno J. Mayer', 'Robert C. Patterson', 'Gay Stanhope Falcon/Gay Laurence/Tom Laurence/Michael \"Mike\" Waring', 'Pedro Ferreira-Mendes', \"Timmy O'Dowdthumb|Timmy Dowd in Dowdies December 2011\", 'Jacqui Frazier-Lyde', 'Pirkko Ruohonen-Lerner', 'Karl-Heinz Heddergott', \"Charlie O'Rourke\", 'Robin J. Cauthron', 'Emily H. Vokes', 'James H. D. Henderson', 'Hardin Charles Cox, Jr.', 'John A. K. Donovan', 'James H. Burnley IV', 'Stephen G. Simpson', 'Jean-Marc Bosman', 'Yu Byeong-heon', 'Frederick E. Vollrath', 'Clarence M. Dunnaville Jr.', 'H. Dean Brown', 'I. C. Rapoport', \"Heath L'Estrange\", 'David J. Johnson', 'Baxter B. Stiles', 'Thomas G. Nelson', 'Gabriel Montiel Gutiérrez (werevertumorro )', 'Mr. Dibbs', 'Frank C. Matthews', 'Boyd H. Jarvis', 'अटल बिहारी वाजपेयी', 'Steven P. Schook', 'Elisha B. Maynard', 'S. N. D. North', 'Kim Hyun-su', 'Fakhruddin G. Ebrahim', 'B. F. \"Chris\" Christiaens', 'Lee Jung-iI', 'John K. Watts', 'गेंदा लाल  चौधरी', 'Richard W. Guy', 'Eleonore Charlotte of Württemberg-Montbéliard', 'Gaura Pant (Shivani)', 'J. E. Platt', 'Herman W. Nickel', 'U-Jean', 'William F. Boyland, Jr.', 'Willard S. Curtin', \"The People's Warrior\", 'Tom & Olly', 'Fletcher L. Hartsell, Jr.', 'Barry D. Besanko', \"K'inich K'an Joy Chitam II\", 'Tsai Jen-chien', 'Mr. Perfect', 'Charles S. Dewey', 'Maureen L. Storey', 'Princess Alexandrine-Louise', 'Dr. Octagon', 'Alfred Ter-Mkrtychyan', 'Manson K. Brown', 'Thomas Platts-Mills', 'John W. Killinger', 'R.J.D. Jamshedji', 'Joseph H. Rodriguez', 'James \"Jim\" Ottley', 'Zang-Hee Cho', 'Philipp Moritz, Count of Hanau-Münzenberg', 'Herbert B. Maw', 'Trevor J. Rees', \"Stan O'Neill\", 'Mai Chia-je', 'Mack A. Breazeale', 'Marthanda Varma മാർത്താണ്ഡ വർമ്മ', 'Hun-Toh', \"Brendan Michael O'Brien\", 'Alacrana Plata #2', 'Tan Sri (Dr) Francis Yeoh Sock Ping', 'Morris L. Radoff', 'Charlotte Birch-Pfeiffer', 'Alexander B. Trowbridge', 'Patrick B. Gillespie', 'Dr. Sukhda Pritam', \"Mattar M'Boge\", 'Philip, Count of Nassau-Idstein', 'Seo Hyuk-Su', 'Christian Floriano Pasilan Jr.', 'Michael E. Haynes', 'Mario J. Cariello', 'Daniel E. Gorenstein', 'Donald W. Sweeting', 'Louis-Désiré Maigret', 'G. Lestrade', 'Steven E. Landsburg', 'Klaus R. Dittrich', 'David St. John', 'Christoph-Michael Zeisner', 'Hubert Saint-Macary', 'John J. Young, Jr.', 'Vanessa S.', 'No Yeon-bin', 'Riah Hanna Abu El-Assal', 'Robert J. Gordon', \"Ron O'Dwyer\", 'Mathew John Mitchel-King', 'Christy Opara-Thompson', 'Julius \"Papa Cairo\" Lamperez', \"Christopher d'Amboise\", \"Soane Tonga'uiha\", 'Dr. Abdellatif Filali', \"Joel Leone Taufa'ao\", 'Jason V. Brock', 'Harold R. Collier', 'Brian E. Mueller', 'Samuel W. Johnson', 'William D. Gordon', 'Sean C. Mackey', \"Bill O'Connor\", 'René Ricolfi-Doria', 'J. McAdam', 'Helmut Hölzer ()', 'Ahn Sang-soo', '- Tem', '(Александр Аполлонович Шавлохов)', \"Rory O'Brien\", 'The Hon. Mr Justice Langstaff', 'Alton E. Cianchette', 'Carsten Bo Eriksen / MBD73', 'Wilhelmina Kennedy-Erskine', 'Robert H. Brink', 'D. Afonso Henriques', 'Crystal D. Peoples-Stokes', 'Jan Jagmin-Sadowski', 'Dr Stephen Myers OBE, FREng', 'Johann Philipp Freiherr von Wessenberg-Ampringen', \"Percy d'Aguilar Banks\", 'Dennis A. Wicker', 'Maher El-Beheiry', 'Ronaldo \"Ronnie\" Puno', 'Frederick P. Dinkelberg', 'Dorothy W. Glisson', 'William M. Steele', 'Richard C. Lord', 'Hong-Chih Kuo', 'Pierre-François Casgrain', 'Donato Bramante (Spongebob Squarepants)', 'Richard A. Tapia', \"Muhammad Husayn Tabataba'i\", \"Ali Ri'ayat Syah I\", 'Lim Seong-Taek', '(김영광)', 'Sir Basil Samuel Hill-Wood, 2nd Baronet', 'James P. Wisecup', 'Frank R. Baker', 'Ms. Blue', 'Woodrow M. Kroll', 'M. Nadarajah', 'Gennady Leonid-ipa Gagulia', 'François-Didier Gregh', 'Qoussai Emad el-Khawalda', \"Donat O'Gallagher\", 'Han F. de Wit', 'Christian August of Holstein-Gottorp, Prince of Eutin', 'Charles A. Barnard', 'William C. Bouck', 'Andrew W. Saul', \"Graham O'Connell\", 'Rafael Rodríguez-Ponga y Salamanca', 'Donald N. Levine', 'Charles J. Fletcher', \"Jack William O'Connell\", 'S-Tone Inc.', 'Robert H. Morris', 'Claude Cattermole Potter-Pirbright', 'Frank R. Davis', 'Klaus-Degenhard Schmidt', 'Ashley Love-Mills', 'Frano Getaldić-Gundulić', 'Elisabeth of Nassau-Dillenburg', 'Jung Yoon-sung', 'Jon S. Cardin', \"Nathan O'Keefe\", 'Eberhard I, Count of Württemberg', 'Robert H. Socolow', 'Richard \"Mack\" Machowicz', 'Guy-Roger Nzeng', 'G. Patrick Riley', 'Nicholas Gordon (Nick) Martin', 'Frank M. Patterson', 'Daniel E. Noble', 'James Finley Bell, Jr.', 'D. S. C. B. Jansze', 'Judy Mosley-McAfee', 'Kim Ji-Soo', 'John B. Rice', 'A. Cole', '(Arabic:عبد العزيز بديع صالح السليمي)', 'Jean-Michel Wilmotte', \"Kristine O'Brien\", 'Panya Singprayool-Dinmuong', 'Kamila Gasiuk-Pihowicz', 'Lee \"Scratch\" Perry', 'Keaoua Kekua-o-kalani', 'Euell F. Montgomery', 'Franciscus J. M. Wiertz', 'Edward G. Connolly', 'Cecilia Payne-Gaposchkin', 'Kim Ji-Hun', 'Matthew Centrowitz Sr.', 'John E. King', 'Pasquale \"Pat\" Abbruzzi', 'Regis R. Malady', 'Sir A. P. Herbert', 'Koffi Stephane Kouadio-Tobey', 'P. T. Barnum', 'Norman W. Stott', '(Анта Симеоновић)', 'Victor Durbal 03408.JPG', '=Giovanni Agostino Marliani', 'Bernard II, Margrave of Baden', 'Finn Lützow-Holm', 'John Reed Sr.', 'Kwong, Kenneth', 'M. M. Keeravani', 'George C. Oliver', 'Sulaiman Al-Shukaili', 'William W. Moehle', 'Otto I, Count of Scheyern', 'James L. Straight', 'Donn B. Parker', 'Lori L. Pollock', 'Muriel M. Seyfert', 'Arthur Alvin A. Aguilar', '-John Falsworth', \"Leslie O'Brien Fleetwood-Smith\", 'W. Ian Lipkin', \"Stephen O'Brien\", 'Arun K. Pati', 'Raymond F. Clevenger', 'Timothy P. Villagomez', 'Philip C. Sorensen', 'Hans-Peter Schulze', 'Lee Sun-Koo', 'Donald F. Parsons, Jr.', 'Robert-Falcon Ouellette', 'NC.A', 'Harry Warren Cutting, III', 'Ernest T. Attwell', 'A.F. Holste', 'B. Gopalakrishnan', 'Quick, Kid Lion', 'Louis-Philippe-Antoine Bélanger', 'José M. Serrano', 'Kelsey A. Begaye', 'Michael H. Decker', 'Mike Conley Jr.', 'Seth W. Brown', \"O. Timothy O'Meara\", 'William J. Murchison Jr.', 'B. Platt Carpenter', 'James D. Conley', 'Sir Denis Crowley-Milling', 'Iain D. Thomson', 'William E. Hurley', 'Markus Sebastian \"Mark\" Grayson', 'P. Surya Prakash', 'Jeon Sang-guk', 'Dr. James C. Hawthorne', 'Richard St.Ofle', 'Bonnie McElveen-Hunter', 'M.D. Banda', 'Kurt A. Thoroughman', 'John I, Count of Holstein-Kiel', 'Thomas K. Duane', 'Stephen J. Flesch', 'Jose Y. Feria', 'Karolina Kudłacz-Gloc', 'Patrick F. McManus', 'Yaakov \"Yankele\" Rotblit', 'J. Howard Miller', 'Saints Hor, Besoy, & Daydara', \"J'den Cox\", 'Herbert Sri Nissanka,KC', 'Donald H. Turner', 'Yanic-Sonny Carlo Wildschut', \"Charles J. O'Byrne\", 'Meera Chandrasekhar (ಮೀರಾ ಚಂದ್ರಶೇಖರ್)', 'Richard B. Wright', 'C.J. Grisham', 'Alexander Gordon-Lennox', 'John F. Tomlinson', 'George William \"Bill\" Webber', 'Robert Arthur Jr.', 'Mauro-Antonio Santaromita', 'Leon H. Gavin', 'Michael P. Leavitt', 'Park Jung-Soo', 'Carlo M. Cipolla', 'William G. Conley', 'Hayes C. McClerkin', 'Mark F. Green', 'Dr. D. Sudhaker Rao', 'Poghos Bek-Pirumyan', 'Flavius Julius Constantius Augustus (as Augustus)', 'HRH Prince Turki Bin Mohammed Bin Nasser Bin Abdulaziz Al-Saud', 'D. J. MacHale', 'Brendyn \"Tyce\" Carlson', 'L-FRESH The LION', 'Guy B. Gardner', 'Choi Jong-Bum', 'Dale Begg-Smith', \"Daniel O'Shaughnessy\", 'Arron Spiessberger-Parker', 'Sir Michael Montgomerie Alston-Roberts-West', '(Бошко Ѓуровски)', \"Lawrence W. I'Anson\", 'Steve Fatupua-Lecaill', 'David J. Williams', \"Lil' Wil\", 'Mukhtar Qul-Mukhammed', 'So Chau Yim-ping', 'Ri Kyong-Hui', 'Sir Man-kam Lo', 'M. K. Shivajilingam', 'Jean-Pierre Jamieson', 'James B. Kelly III', 'Samuel Perez, Jr.', \"Prosper L'Orange\", 'The Duke of Kingston-upon-Hull', 'Sir Richard King, Bt', 'Roberto Caldeyro-Barcia', 'V. Abdurahiman', 'James W. Broad', 'Alvin T. Smith', 'André Saint-Mleux', 'Tvrtko Kale (changed to Dreshler Kale)', \"Joseph O'Donnell\", '*Tomko', 'Saib-Dahbia Rigaud', 'Quentin P. Smith', 'William F. Schreiber', 'James J. Hines', 'Estia J. Eichten', \"Ken O'Dea\", '(Никола́й Вознесе́нский)', \"Vincent O'Rourke\", 'Mauro Ezequiel Carabajal-Lopez', 'John-Ross Edwards', 'C. S. Lakshmi', 'William W. Evans, Jr.', 'Nimr al-Nimr', 'Gerardo Cortes, Jr.', 'F. Van Wyck Mason', 'James S. Cunningham', 'Melinda Széky-Sztrémi', 'S. P. Kodandapani', 'Pierre-Henri Raphanel', 'R. P. Singh', 'Robert R. Wright', 'B. N. Suresh', 'Isca Greenfield-Sanders', 'Ronald J. Kurth', 'The Hon. Charles Stewart', 'Huang Teng-hui (黃騰輝)', 'Kim In-Sik', 'W. T. McLain', 'Ronnie W. Cromer', 'Graeme J. Hatcher', 'Jolanta Bebel-Rzymowska', 'Howell M. Estes III', 'Walter F. Boron', 'David Greig Browning, Jr.', 'Na Byung-Yul', 'Huang Chen-ya', 'Carlos D. Casartelli Torregrosa', 'Cho Chi-hyo', 'Caitlín R. Kiernan', 'Chinese: Duàn Sīpíng (段思平)', 'Elisha D. Cullen', 'Ri Sang-chol', 'Louis-Joseph Forget', 'Ar-Rashid', 'Abdullah Jaroudi Sr.', 'Peter Hulme-Cross', 'Dr. Mark Greene', 'Paul-Loup Chatin', 'Given name: Dao 導', 'Charles R. Johnson', \"Da'Love Woods\", 'Pierre St. Jean', 'Constantine Mavrocordatos (Κωνσταντίνος Μαυροκορδάτος)', \"Pir Syed Mohammad Yaqoob Shah''' پیر سید محمد یقوب شاہ\", 'Jean-Baptiste Riché', 'Khaled Jamal Al-Brijawi', 'Boniface S. Emerengwa', 'James C. Brown', 'Tai Hsiao-Chun', 'Chang Li-sheng', 'Anthony O’Sullivan', 'Howard S. Becker', 'Clarence \"Pops\" Coleman', \"Timothy O'Neill\", 'C. B. Ratnayake', '(عبدالرزاق محمد)', 'Milka T. Bliznakov', 'Marcus St. James', 'Clarence N. Hickman', 'E. T. Parker', \"Kyle O'Reilly\", 'Alfred Adolph Oerter, Jr.', 'John Kerr, Jr.', 'Edwin M. Truman', 'Émile-René Lemonnier', 'Arthur Thomas \"Tom\" Colten', 'Rudolf E. Havenstein', 'Solomon R. Dresser', 'Bronisława Rychter-Janowska', 'Hassan El-Said', 'Sidney \"Sid\" Kramer', 'R. Bindu', 'Amanda Jayne Maslin-Barr', 'William F. Sullivan', 'Robert W. Heath Jr.', 'Dr. Forrest Bird', 'Roy C. Start', 'Emilio Albert De La Garza, Jr.', 'Tammy Sutton-Brown', 'Jean B. Cryor', 'Robert E. Bellomini', 'Walter F. Buckley', 'Huang Yi-hua', \"Mohammad Sa'ed\", 'Shen Yilun (沈義倫)', '1317-P.80', 'Philipp I, Count of Hanau-Münzenberg', 'Olaus J. Murie', 'विजय सिंह', 'P. K. Sreemathy', 'Donald L. McFaul', 'Donald A. Larson', 'J.P. Morgan', \"Vladimir Dal'\", 'Galila Ron-Feder Amit', 'Richard C. Leone', 'ዕምሩ፡ኃይለ፡ሥላሴ', 'William Willoughby, 5th Baron Willoughby de Eresby', 'F. Clarence Buck', 'Mark B. Madsen', 'Mark G. Inghram', 'Robert P. Aitken', 'Iceal E. Hambleton', 'Sviatopolk Iziaslavovich (Mikhail)', 'L. du Garde Peach', 'Abdulaziz Al-Qosair', 'Victor E. Anderson', 'Orville B. Fitch, II', 'Juan M. Escobar', 'Klaus-Peter Kerkemeier', 'Wang Jung-Hyun', 'Laurel G. Bellows', 'Charles C. Smith', 'G. Sankara Pillai', 'John C. Tkazyik', 'Harvey R. Abraham', 'Sido L. Ridolfi', 'William \"Bill\" Huntington', 'Abū Tāhir al-Jannābī', 'J. Michael Ruane', 'Fred Kornet, Jr.', 'John M. Laval', 'H. Truman Chafin', 'Marta Pihan-Kulesza', 'Z. Mason', 'Eliakim P. Scammon', 'O.S.A.', 'James E. Dalton', 'Yang Chao-hsun', 'Muhammad Tahir-ul-Qadri', 'Gordon E. Cole', 'A. L. Philpott', 'Steven D. Waldman, M.D., J.D', 'James P. Woods', 'Eldon P. Wyman', 'Abu Yaqub Yusuf an-Nasr', 'Man Sai-cheong', 'Paul A. Bell', 'Chun Mi-kyung', 'Elsbeth van Rooy-Vink', 'Jeanette C. Takamura', 'Charles M. Gurganus', 'Lazo M. Kostić', 'Aaron Joshua Amadi-Holloway', 'Cha Du-Ri', 'Mathieu Assou-Ekotto', 'Richard, Count of Coudenhove-Kalergi', 'Hamza (Pakistani politician)', 'Satya N. Atluri', 'Park Seong-tae', 'Trevor Keelor, VrC', 'Alfred \"Dandy\" Lowth', 'Sourou-Migan Marcellin Joseph Apithy', 'Jean-Pierre Blackburn', 'Ferdinand-Joseph Robidoux', \"Paudie O'Sullivan\", 'Hans-Jörg Butt', 'Robert N. Duxbury', \"Charlie O'Brien\", 'H. Lee Swanson', 'Nathan Mitchell Coulter-Nile', 'T. V. Santhosh', 'Pyun Hye-young', \"Mike 'Stevo' Stephenson\", 'Professor A Jamil Khan S.I', 'B. Frank Heintzleman', 'Marius Sudol, PhD', 'Louis-Joseph-Arthur Melanson', 'Kang Ho-sun', 'David P. Szatmary', \"J. Patrick O'Neill\", \"Jun'ichi Hamada\", \"Mike O'Brien\", 'Maria Hamer-Jensen', 'Charles A. Pannell Jr.', 'William F. Knox', 'A. James Gregor', 'Aimé-Romarin Billong', 'Manuel G. Araullo', 'Wilbur Teal \"Brandy\" McCain, Sr.', 'C. H. Sisson', 'Harpreet Sachdeva (Harry)', 'Rudolf of Mecklenburg-Stargard', 'Charles G. Palmer-Buckle', 'Harriet Windsor-Clive', 'John L. Koethe', 'Ola-Dele Kuku', 'James W. Robison', 'Phil P. Leventis', 'Robert K. Byrd', 'Wilfred P. Moore', 'Edith, Eadgyth', 'Given name: Zhoupu (州蒲)', '(허기태)', 'Pierre-Joseph Habert', 'Charles W. Dorman', 'Karl-Theodor zu Guttenberg', 'Makhdoom Khusro Bakhtyar (Seraiki:مخدوم  کسر  بختٻد)', '(Валенти́на Матвие́нко)', 'Laqab: Qutb ad-Din (shortly)', 'Roy V. Baker', \"Kelley Maureen O'Hara\", 'Charles Manners-Sutton', 'Marvin Thomas \"Tommy\" Davis', '(Александар Карађорђевић)', 'The Hon. Mike Cleary AO', \"Pape N'Daw\", 'S. Nadesan', 'Spanish: María Luisa de Borbón y Sajonia', 'K. Frederick Paradesi Babu', 'Rodolpho S. Martinez', 'Tseng Cheng-hua', 'Émile-Gustave Cavallo-Péduzzi', 'John W. Terborgh', 'John E. Barley', 'Denis, son of Ampud', 'Tina Sani (singer)', 'Herbert B. Enderton', 'Nagi Abdalla El-Tomi', 'Dr. Kucho!', 'Dr. Kevin Trench', 'Orlando Spencer-Smith', 'Mary Gonzaga Barry, I.B.V.M.', 'Kim Young-ho', \"Admiral(Retired)Tan Sri Dato' Seri\", 'Ivan G. Petrov', 'Bishop Petru (Musteață)', '(cult suppressed)', 'David J. Lipman', 'Arturo B. Ortiz', 'Dorsey W.M. McConnell', 'Bennett Friedman (age 67)', 'Brent St. Denis', 'John J. McMahon', 'Madeline \"Maddie\" Warner', 'Hugh H. Smythe', \"François Boissy d'Anglas\", 'Pete \"El Conde\" Rodríguez', 'Lawrence M. Schoen', 'Rose-Adélaïde Ducreux', 'Dr. Thorndyke', 'Donald Lines Jacobus,FASG', 'William A. Rawls', 'Joseph Louis Gay-Lussac', 'Lim Shen-Yan Freida', 'James Asheton Bayard, Sr.', 'John N. Williamson', 'T.P. Kailasam', 'Mohammed al-Dairi', 'Ann-Sophie Qvarnström', 'Amadeus VI, Count of Savoy', 'Goodrich R. Fenner', 'Park Tae-Gyu', \"Luke O'Dwyer\", 'Liu Guosong (Liu Kuo-sung)', \"Edmund O'Toole\", \"D'Arcy Niland\", \"Ch'ae Man-Sik\", 'Ortrie D. Smith', 'John S. Grinalds', 'Vicki L. Hanson', 'Henry J. McGlew', 'Thomas Alan \"Tom\" Greene', 'Donald W. Merricks', 'Joan O’Flynn, Siobhán Ní Fhloinn', 'James Lowry Jr.', 'Alfred M. \"Long\" Jones', 'Saint Plechelm, O.S.B.', 'Iván DeJesús Jr.', 'Ion I. Câmpineanu', 'Glen W. Martin', 'St. Edmund Gennings', 'Wylie W. Vale, Jr.', 'Karl-Hans Kern', 'C.E. Murphy', 'Graham M. Robbins', 'Jean-Paul de Jong', 'Stephen G. Weber', 'Thomas T. Matteson', 'Edward B. Davis', 'Margaret of Brunswick-Lüneburg', 'परेश रावल', 'T. Wilson', 'Ilija Jovanović-Pčinjski', 'Henry VI, Count of Waldeck', 'Lee Soung-Yong', 'Michael J. Howlett, Sr.', 'Colin Priestner (Coe-in)', \"Luke O'Donnell\", 'Kenneth C. Laudon', \"Deborah O'Neill\", 'Heikki Savolainen (gymnast)', 'Suzanne R. Day', 'Harry D. Wilson', 'Robert Douglas George (Bob) Stanbury', 'Bestia 666', 'A. J. Quartermaine', 'Amet-Khan Sultan', 'Jerry L.Buchmeyer', 'Lele; Ezequiel', 'William H. Fleece', 'John \"Cornbread\" Anderson', 'William Park Jr.', 'George W. Bryant', 'Gary R. Roberts', 'G. Chandler', 'Raymond J. Bowman', 'Jean-Pierre Kotze', 'Dr. Gangrene', 'Rev. Thomas Dick', 'M. C. Muthanna', 'Sir Mordaunt Martin, 4th Baronet', 'Avalon-Chanel Weyzig', 'Ting Mao-shih', 'Frank \"Bunch\" Davis', 'Elinor Bellingham-Smith', 'M. Mukundan', 'Leung Kwok-hung', 'Sebastian Ridley-Thomas', 'Maurizio Rocha-Villarroel', 'Ildikó Újlaky-Rejtő', 'Assaf al-Khalifa', 'Joseph C. Pollet', 'Lem T. Jones, Jr.', 'Bishop Gilbert E. Patterson', 'Rayan Khaled Al-Boqami', 'Kwesi Ahoomey-Zunu', 'Francis (Archie) Archibald', 'Carmen R. Velasquez', 'Lindy Nelson-Carr', 'Phetpanumrung Mor.Rattanabundit', 'Robert B. Hall', 'Seaneen Molloy-Vaughan', 'Sir Francis Samuel Drake, 1st Baronet', 'Brian K. Hall', 'Samuel F. Sears, Jr.', 'Marc A. Cote', 'Ismael Blas Rolón Silvero, S.D.B.', 'Ryad Assani-Razaki', 'Nicholas K. Lindheim', 'Thomas W. Bennett', 'Czesław Ryll-Nardzewski', \"Samah Mar'ab\", 'Louis-Bernard Guyton de Morveau', 'Tseng Ming-chung', 'Ko Min-hyuk', 'J. L. Austin', 'Jean-Baptiste Rey', 'John Ellett Jackson, Sr.', 'Lee Bo-eun', 'Ebenezer W. Peirce', 'Maganti Murali Mohan ( Born : Maganti Raja Babu )', 'Scott D. Davis', 'Tsend- Ochir Tsogtbaatar', 'Hsin Shih-chang', 'Imam-ul-Haq', 'Charles Magnus of Baden-Durlach', 'V. Muraleedharan', 'L.A. Lopez', 'Lee Ji-hyun', 'J. Hugh Nichols', 'I. J. Good', 'Blessed Maria Teresa of St. Joseph', \"Antónia d'Astónaco\", 'Keith W. Dayton', 'Lee Jae-jin', 'Taqi ad-Din', '(Пётр Михайлович Латышев)', 'Yacine Ait-Sahalia', 'فيليبس الجميّل', 'K. V. Chowdary', 'The Baroness Hussein-Ece', 'Henry Frazier, III', 'V. S. Naipaul', 'Dr. Edward Leo Cochran Jr.', 'Emma P. Carr', 'Ni Chia-Ping', 'Kenneth M. Slater', 'Emil du Bois-Reymond', 'Irwin G. Priest', 'Anne S. Young', 'DJ U-Neek', 'Louis \"Dicta\" Johnson', \"Kent O'Connor\", 'Dr. Franco J. Vaccarino', \"Dr Satendra Pratap Nandan'''\", 'John Neville, 4th Baron Latimer', 'Lee Kyu-seong', 'Ilias P. Kasidiaris', \"José Guillermo 'Pantalones' Santiago\", 'Francis C. Heitmeier', 'Tjitske Nienke (Cisca) Wijmenga', 'Sir C. V. Raman (Chandrasekhara Venkata Raman)', 'Yun Chi-young', 'G. Love', 'Mark R. Showalter', 'Cecil Day-Lewis', 'James Shepherd Freeman, Sr.', 'Philip N. Cohen', \"Ruh al-'Alam\", 'Andrew Cave-Brown', 'Glenn Edward Moses, Jr.', 'John M. Broughton', 'H. Richardson', 'Kent A. Kramer', 'Charlotte of Schaumburg-Lippe', 'Louis E. Willett', 'Elbernita \"Twinkie\" Clark', 'Prince Nugzar Bagration-Gruzinsky', '(Драган Којадиновић)', \"Damien O'Kane\", 'Lee Young-wook', 'Panichgul, Thakoon', 'Julius C. Burrows', 'J.Trill', 'Edward F. Arn', 'Capt. Charles Saalmann', 'William Brooke, 10th Baron Cobham', 'Jozef-Ernest van Roey', 'J. F. Powers', 'Reynaldo Anzaldua Jr.', \"James O'Halloran\", '(홍명보)', 'Louis P. Fuhrmann', 'Lee Hak-min', 'John, Count of Angoulême', 'Shmuel (Rubashkin) Eyal', 'Mary L. Wiseman', 'Frederick H. Michaelis', 'Dipl.-Ing. Gerhard Conrad', 'Roderick R. McLennan', 'Foxhall A. Parker, Jr.', 'Elenito R. Galido,', 'Saint Frances of Rome, Obl.S.B.', 'Thomas V. Chema', 'Samy-Oyame Mawene', 'Dominic Nathaniel Calvert-Lewin', 'Bill Wayne \"Billy\" Clayton', 'K. D. Cannon', 'James Edwin Bolin, Sr.', 'James W. Rutherford', 'Alan J. Gerson', 'J. T. Bruett', 'Air Marshal (retd) Enamul Bari', '(CMRN)', 'Daniel Huston, Jr.', 'Chin Hsiao-hui', 'William Lawson Little, Jr.', '(Hoàng Văn Xiêm)', 'Marcy Levy/Marcella Detroit', 'John de Mowbray, 1st Earl of Nottingham', 'Romuald-Charlemagne Laurier', 'Charles W. Harlow', '1314-P.39', 'John C. Brodhead', 'Kathryn S. Holloway', 'A. B. Rajendra', 'Brian M. Morris', 'John J. Conroy', 'David W. Mack', 'John C. Wright', \"Edward O'Grady\", 'Calaum Jahraldo-Martin', 'Stéphane \"Ippo\" Susperregui', 'Samuel Kofi Date-Bah', 'Samuel W. (Wat) Arnold', 'R. Norval Garrett', 'Ko Cha-Won', 'UHLÍKOVÁ-VOŠTOVÁ Ilona', 'Lee Sang-Ha', 'Robert A. Swanson', 'Artie C. Rennie', 'Chang Fu-hsing', \"Gerard O'Brien\", 'F. M. Hardacre', 'David G. Kabiller', 'Mikhail Shervashidze/Chachba', 'Woo Pak-chuen', 'Richard Greville Arthur Wellington Stapleton-Cotton', 'Edward T. Foote II', 'E. Baumeister', 'Yeh Yung-chieh', 'Elmer F. Jacobs', 'Mirza Nasir ud-din Baig Muhammad Khan Humayun', 'Yun Song-mi', 'David H. Shinn', 'David C. Bradley', 'N. Surendran', 'Rose Hudson-Wilkin', 'Mrs. Lovett', \"Matthew D'Aquino\", 'Robert M. Bell', '(Charles) David White', 'Lyuben Lyubenov Dilov Jr.', 'Steven A. Hawley', 'Roujet D. Marshall', 'Marina Pettersson-Engström', 'Kim Jong-Seong', 'Maria Rosaria \"Rosy\" Bindi', \"Kathleen Murray O'Sullivan\", \"Joseph Henry O'Neil\", 'Stephan P. Mickle', 'K.P.Kulothungan', 'Boleslaus I, Duke of Bohemia', 'Louis William Valentine Dubourg, S.S.', 'Karl M. Guðmundsson', 'Richard L. Weldon', 'Bruce Douglas-Mann', 'Blessed Luchesius of Poggibonsi, T.O.S.F.', 'Blessed Miriam Teresa Demjanovich,S.C.', 'Jean-Yves Lechevallier', 'Albert H. Humes', 'Thomas G. Power', 'Jung Sung-Ho', 'John VI, Duke of Mecklenburg', 'Susanna M. Salter', 'Jean-Paul Beaubier', 'Adolphus P. Nelson', 'Major GeneralK.A.D. Amal KarunasekaraRSP,VSV,USP,ndu,psc,MSc', '\"Ice Cold\", \"Ukraine Freight Train\", \"North Weapon\"', 'Hans-Dieter Betz', 'Matthew A. Hunter', 'The Rev. James Lloyd Breck', 'Honest, The Hurricane', 'Frank H. Farley', \"Junior Randal Oto'o Zué\", 'Kim Sa-nee', 'Paulus Tarcisius Maria \"Paul\" Litjens', 'E. A. Wallis Budge', 'James Rowland Scarlett-Streatfeild', 'P. J. Molloy', \"Paul Joseph O'Shaughnessy\", 'Peter I P Kalmus, OBE', 'Qahtan Muhammad al-Shaabi', 'David W. Oxtoby', 'Iqbal Ahmad Khan, \"Suhail\"', 'P. J. Kavanagh', 'Ramiro Sánchez, Lord of Monzón', 'Rana Ali Imran (علی عمران)', 'Cheryl C. Kagan', 'Violet Douglas-Pennant', 'Jean-Charles-Léon Danjoy', 'Lee Jeong-hyeop', 'Richard G. Stilwell', 'Donald H. Tuck', 'Camillo M. Gonsalves', 'Chang Tong-rong', 'D.J. Mac an Ghaill', 'Arthur St. Norman', 'J. Michael Bishop', 'Arthur \"Chip\" Engelland', 'Devan (R. Mahadevan)', \"Yang Mulia Raja Ahmad Nazim Azlan Shah Ibni Raja Dato'seri Seri Ashman Shah (as birth)\", 'Hussain Al-Showaish', 'S. U. Ethirmanasingham', 'James A. McDonald', 'Louis César de Bourbon, Légitimé de France', 'Joseph Stephenson-Jellie', 'Nicolas Isimat-Mirin', 'Luther F. Carter', 'William B. Franke', 'György-Miklós Jakubínyi', \"Joseph Stephen O'Leary\", 'Foster F. Diebold', 'Alan P. Merriam', 'Elwood L. Thomas', 'Grace T. Hallock', 'Gene E. Robinson', 'Richard E. Bellman', 'Robert W. Camac', 'Dr.Hamsalekha', 'Louise O’Hara', 'Jim-Patrick Müller', 'Ilaisa Futa-i-Haangana Helu', 'R. C. Slocum', 'Julien Dupré (Dupre)', 'John Heathcoat-Amory', 'Rajiv L. Gupta', 'Cecilia Hae-Jin Lee', 'Hans-Dieter Mirnegg', 'Most Rev. John Timon, C.M.', 'John W. Gilmore', \"Al-Mu'tamid\", 'Sangeet-Siddharth Haldipur', 'Rev. H. H. Nolan', 'V. Krishnaprasad', 'Désiré M´Bonabucya', 'José Mª. Cabral Bermúdez', \"K'an I\", 'Carmen M. Amedori', 'Jonah Parzen-Johnson', 'Benny N. Napoleon', '- Lucas Ludlow-Dalt', 'Mark J. Millan', 'Shirley M. Tilghman', 'Sir John Gathorne-Hardy', 'Arman-Marshall Silla', 'A. Randolph Lusby', 'Edward M. Burke', 'J. Hugo Aronson', 'Edwin P. Wilson', 'Ray Darryl Tarver, D.D.S..', 'César-Jean Ruminski', 'William H. Phelps Jr.', 'Emerson C. Harrington', 'James F. Collins', 'Peter G.O. Freund', 'Ruth M. Kirk', 'C. J. Bruton', 'L. Mendel Rivers', 'Christian A. Herter, Jr.', '(Варвара Зеленская)', 'A. C. Green', 'Emily CoBabe-Ammann', 'Traditional Chinese:韓世忠', 'Son Hyung-sun', 'Emmanuel Agyemang-Badu', 'The Rev. John McClintock', 'George J. Musgrove', 'Steven N. Olson', 'Johnny \"Guitar\" Watson', 'M. H. A. Haleem', 'James L. Herdt', 'Drucki-Lubecki', 'G. W. Temple', 'George S.  Latimer', '漢人 陽子\\u3000(Kando Yōko)', 'Arthur Percival Foley Rhys-Davids', 'Kao Chih-kang', 'Jacques Miller (ACFRSFAA)', 'Paul C. Shomshor, Jr.', 'David W. Marsden', 'Sir Auguste-Réal Angers', 'Matthew F. Hale', 'Ignacio Tinoco, Jr.', 'George H. King', \"Alaa' Matalqa\", 'Syaiful A.A. Lewenussa', 'Mary J. P. (Maura) Scannell', 'James B. Longley', 'Ted F. Schroeder', 'Elias C. Aifantis', 'Frank B. Archer', 'David W. Ballard', 'William F. Sharpe', 'Robert C. Buell', \"Eamon O'Neill\", 'James C. Kirby', 'Percy Hattersley-Smith', 'William Vernon Crawford-Compton', 'Vratko Nemanjić - Jug Bogdan', 'David Siderovski, PhD', 'William John Charles Kennedy-Cochran-Patrick', 'Daniel B. Allyn', 'पुरुशोत्तम काशीनाथ केळकर', 'Ludwik Konarzewski (junior)', 'Yun Ju-tae', 'Robert A. Rescorla', 'Thomas M. Montgomery', 'Frederick A. Lyon', \"D'Urban Victor Armstrong\", 'Robert B. Dorigo Jones', 'Dominick J. Ruggerio', 'Yoo Soo-Hyun', 'Edward D. Shames', 'Kurt S. Browning', 'A. M. Rajah', 'Caroline D. Krass', 'Anne-Louis Girodet', 'Adyar K. Lakshman', 'Christine L. Donohue', 'José-Hipolito Roncancio', 'Neal C. Wilson', 'Wu Kuo-Chen', 'Philip Hammond/Hamman, Sr.', 'Jürgen L. Müller', 'Anne-Katrin Schott', 'Kim Myong-Won', 'Edward J. Thye', 'Chiou I-jen', 'Lorenzo G. Villanueva', 'Lise-Marie Henzelin', 'Elam Sparks \"E. S.\" Dortch', 'Sylvester Jr.', 'Jennifer L. Mann', 'William M. Bodiford', '(Saint Damien of Molokai)', 'Charles A. MacLellan', 'Charles J. Colgan', 'Harald W. Krenn', 'A. R. A. M. Abubucker', 'István Závodi-Zavadsky', 'Joshua \"Josh\" Holiday', 'Sophie Audouin-Mamikonian', 'William H. Mosby', 'William Knightley-Smith', 'Jeffery Batters Home-Hay', 'Jean-Claude-Léonard Baveux', 'T.R. Ramadas', \"Martin O'Malley\", 'John D. Cherry', 'Jonathan (Dana) Wilson', 'Jean-Paul Laurens', 'David J. Malan', \"Gay Jacobsen D'Asaro\", 'Charles P. (Chuck) Thacker', 'Robert J. Hermann', 'Verena Huber-Dyson', 'Jacques-Olivier Bureau', \"Terry O'Connor\", 'Sir Josias Rowley, Bt', 'Hermann-Albert Schrader', 'Mohammed Al-Sharif', 'ಗೌರೀಶ ಕಾಯ್ಕಿಣಿ', 'Charles H. Zimmerman', 'Thomas H. Bagley', 'Stafford L. Warren', '2Mex', 'Janele Hyer-Spencer', 'Shannon R. Valentine', 'Amory T. \"Slats\" Gill', 'William Burch Lee, Sr.', 'José María Gil-Robles', 'Justin Sane (In professional wrestling)', 'Chang Yi-ning', 'Diamond, The Irish Assassin', 'Ching-Ming Wang', \"Henry Fa'arodo jr.\", 'Kadašman-Ḫarbe I', 'Anton-Rudolf Piffer', 'Karl-Hermann Millahn', \"Richard d'Evreux\", 'फ़ौज़िया  तहसीन ख़ान', '(ლევან ყენია)', \"Chris O'Brien\", 'Andrew E. Busch', 'GATIEN Jean-Philippe', 'Jane W. Robinson', 'Erwin S. Hochmair', 'Marry A. Somby', 'George Leon Nattin, Sr.', '(Cardinalof theCatholic Church)', 'Nigel Paul C. Villarete', 'Song Ui-young', 'B. Howard', 'Edwin O. Smith', 'Wilfred Austin “Wilf” Curtis', 'Kazuo “Shin Sen” Hamasaki', 'Ellis H. Roberts', 'James C. Kirunda', 'V. K. Ebrahimkunju', 'AK-69', 'Joseph-Alfred Dion', 'Thais Soa-Escolar', 'Kim Sun-Kyu', 'Marie-Sophie Nadeau', 'Laura Cha-Yu Liu', 'George Edgar \"Buddy\" West', 'Abd al-Muhsin Al-Saadoon', 'L.P. Grant', 'Lee Yong-Seung', 'Earl M. Hardy', 'Julius C. Gunter', 'Lafayette F. Mosher', 'Thomas G. Carpenter', 'John \"Barney\" Hines', 'James S. Brown', 'Edward J. Early, Jr.', 'Malise mac Gilleain, 2nd Chief', 'Joseph-Philippe Guay', 'Frederick W. Rodgers', 'Satish K. Tripathi', 'Dai-Kang Yang', 'Tupac A. Hunter', 'Edward J. Bebb', 'William \"Bill\" Daniel', 'P. Mohan', 'K.D. Prasad Gaur', 'Sherman E. Burroughs, Jr.', 'Alan J. Perlis', 'Gunning Bedford Sr.', 'W. M. Nicholson', 'S. Sivanesan', 'Walter J. Schoenherr', 'John J. DeGioia', 'Tony Rand (Anthony Eden \"Tony\" Rand)', 'Friedrich-Georg Eberhardt', 'C. Achutha Menon', 'G. V. Punchinilame', 'Edward W. Hinks', 'Abu Yusuf al-Mansur', 'Jean-Robert Argand', 'Forman S. Acton', 'Michael J. D. White', 'Michael B. Diven', 'Joseph P. Riley Jr.', 'Liu Cheng-ying', 'Anne-Marie Trevelyan', 'Roditi, David', '(Юмжаагийн Цэдэнбал)', 'Hwang Hun-Hee', 'Jean-Claude Bastos de Morais', 'H. G. Hadden', 'Charles W. Moorman IV', 'Guillaume-Henri Dufour', '12th Planet', 'Andrea Purner-Koschier', 'Jean-Louis Arcand', \"Bill O'Connell\", 'John T. Rich', 'T. H. Breen', 'Venerable Maria del Carmen González-Valerio', 'William W. Landsberg', 'William C. Fitzgerald', 'Kemp P. Battle', 'Ammiel J. Willard', 'Dan-e-o', 'Hanun-Dagan', 'Daniel O. Hastings', 'Meleana \"Mana\" Shim', 'Robert A. Hastey', 'Tim Bowman, Jr.', 'Charles H. Tweed', 'Craig Braham-Barrett', 'Yehia El-Gamal', 'रवीन्द्र प्रभात', 'O.S.M.', 'John R. Tunheim', \"Jerome X. O'Donovan\", 'Kenneth Ofori-Atta', 'Stuart St. Clair', 'Sir John McMahon, Bt', 'Małgorzata Kidawa-Błońska', 'Nicholas A. Christakis', 'María Josefa Pimentel, Duchess of Osuna', 'Charles Q. Williams', 'Michael P. Murphy', 'Joseph W. Oxley', 'R.C.Prakash', 'Anthony M. Young', 'Floyd Adams Jr.', 'James Hamilton Jr.', '(Ευστάθιος Ταυλαρίδης)', 'C-3PO', 'Johannes N. Hoffmann', 'José-Manuel Fuente', 'David A. Ure', 'সৈয়দ রশীদ আহমদ জৌনপুরি', 'Charles II of Hesse-Philippsthal', 'Mary Prokofis asuli Eristavi-Shervashidze', 'H. T. Summersgill', 'Karl-Gustav Sauberzweig', 'Timothy J. Kask', 'Benjamin Raymond Marsh, Jr.', 'Thomas Baker Knight Jr.', 'Robert B. Wood', 'A. J. DeMedio', 'Song Tae-Lim', 'Derek E. Miller', 'S. Andrew Swann', 'Klaus F. Müller', 'William M. Ruthrauff', 'Tony F. Mack, Sr.', 'Nicholaus R. Kipke', 'Joseph-Édouard-Émile Léonard', 'Joseph (Osip Ivanovich) Bové', 'Jean-Marc Germain', '1315 (1899)P.-2', 'Shekhar Dutt (SM)', 'Paladine H. Roye (Pon-Cee-Cee)', 'D.R.A.M.', 'Chan Kam-chuen', 'Frank R. Mayo', 'Bertille-Mallorie Ali', 'Michael O;Shea', 'Charles-Félix Cazeau', 'Alfred Baxter-Cox', 'S. Subramani', 'George C. Cox', 'Elza T. Renfro', 'John Stanhope Collings-Wells', 'Arafa El-Sayed', 'Saint Ursicinus of Saint-Ursanne', 'Abdallah Al-Jazi', 'Louis V, Elector Palatine', 'Park Kyung-hwa', 'John Thomson Mason, Jr.', '(CBE)', 'Steven W. Cantrell', 'Raleigh \"Biz\" Mackey', 'Willem Eduard Bok, Jr.', 'Brig Gen. (Ret.) Gary Pendleton', 'Richard D. Kisling', \"John D'Emilio\", 'Jerónimo de Loayza y González, O.P.', 'Jean-Christophe', 'Dr. Herward Braunegg', 'D.M. Cornish', 'Peter N. Silvestri', 'Michele S. Jones', 'William A. Martin', 'Won-G Bruny', 'L.A. Smooth', 'Jean-Marc Adjovi-Bocco', 'William M. Clayton', 'Jean-Marc Nattier', 'Ephraim P. Holmes', 'W. Wood', 'Frank S. Pepper', 'Lewis J. Powers', 'Given name: Dawud', 'Laurie S. Fulton', 'James Q. Wilson', 'Prof. Dr. Craig L. Hill', 'J. Walker', 'Stanley J. Jarolin', 'David S. Mao', 'Sherrill W. Ward', 'Lee Hyung-doo', 'A. P. de Candolle', 'Chern Jenn-chuan', 'John Cromwell Bell Jr.', 'Eric G. Fright', 'Marcario (Macario) García', 'Elizabeth S. Russell', 'Hal Bruce Jennings, Jr.', 'George C. Tichenor', 'Douglas N. Jackson', 'Michael J. Bronson', 'Bandar Auddah Al-Enezi', 'Franklin B. Ware', 'N. M. Mohan', 'Bernard L. Austin', 'Sir William Cusack Smith, 2nd Baronet', '(خلیل الرحمان رمدے)', 'Tomas V. Apacible', 'John W. Firor', 'Lisa-Marie Utland', 'William M. McVey', 'Thomas Bennett Jr.', 'Reinhard I, Lord of Hanau', \"Maleye N'Doye\", \"Calvin's parents\", 'Micheline Calmy-Rey', 'Kenneth R. Shadrick', 'Misia Ff (Furtak)', 'St. Rafael Arnaiz Barón', '(عبد الرحمن حسن عزام)', 'John P. Campo', 'Gerardo \"Jerry\" Velez', 'Courtney Alexandra Sweetman-Kirk', 'Catherine Hermary-Vieille', 'Bob Davies-Jones', 'Elmer D. Mitchell', 'Hassan Abdel-Fattah', 'Kodandera C. Cariappa', 'W. Scott Bales', 'Phil Horrocks-Taylor', 'Thomas H. Jonasson', 'The Lord Hore-Belisha', 'Elinor Brent-Dyer', 'James A. Michener', 'Friedrich-Wilhelm Thorwest', 'Harold C. Smith Jr.', 'Myron P. Lotto', 'Elpidio Barzaga, Jr.', 'Kenneth J. Veenstra', 'Dr. Horton Hobbs', 'John V. McCarthy', 'Jorge de Melo, o Lagio', 'Chien-Ying Chang', 'Renzo Tjon-A-Joe', 'Jules Bastien-Lepage', 'Matthew Aylmer, 1st Baron Aylmer', 'Marcelo C. Blando', 'Henry J. Althoff', 'Mohammed Salim Khalfan Al-Mashari', 'Thomas Newton Jr.', 'Hans-Jürgen Stumpff', 'Albert, duc de Broglie', 'Emily Blackwell, M.D.', 'Kim Guy-hyun', 'မင်းလှညက်', 'John S. Robinson', '1312-Sv.6', 'E-40', 'Gustav A. Maass Jr.', 'Bennie G. Adkins', \"Josh O'Keefe\", \"Mobulu M'Futi\", 'Joseph M. Lyons', 'Samuel Woodroffe Hollis (née Moore)', \"David Papys M'Bodji\", 'Pierre-Hugues Boisvenu', 'George C. Casella', 'Ko Jung-sun', 'Joni L. Jenkins', 'Connie G. Maine', 'Roh Hoe-chan', 'Henry III, Count of Gorizia', 'Tracy I. Storer', 'George A. Ricaurte', 'Jock Hamilton-Baillie', 'Joseph-Alcide Savoie', 'Eric W. Benken', 'S. M. Sabry', 'Mehdi Hassan Khan (singer)', 'Sarvajña ಸರ್ವಜ್ಞ', 'దువ్వూరి సుబ్బారావు', 'Sir Arthur John Dorman, Bt', \"Nuun Ujol K'inich\", 'Daniel B. Moore', 'Dorothea of Schleswig-Holstein-Sonderburg-Beck', 'Ty Dolla $ign', 'William H. F. Fiedler', 'Wen Ning-Meng', 'Charles H. Johnston', 'Rodney E. White', 'Paul A. Dixon', 'Lee Mi-ja', 'Isagani A. Cruz', 'Audley Gillespie-Jones', 'P. C. Thomas', 'Dr. Alfred O. Adams', 'A. Thiagarajah', 'Peter J. Fos', 'Roger D. McKellips', 'Kim Geun-Chul', \"Na'ama Cohen\", 'P. Wayne Sexton Sr.', 'Jon M. Gibson', 'Ron Robertson-Swann', 'Reid Moore, Jr.', 'John Minshull-Ford', 'Edmond T. Parkin', 'কবীর চৌধুরী', 'Ralte L. Thanmawia', 'William A. Griswold', 'Noel W. Campbell', 'Saint Antoninus, O.P.', 'Frederic R. Harris', 'St. Joan Elizabeth Bichier des Ages,F.C.', 'Peter Ofori-Quaye', 'Alfred W. Debo', 'W. J. Sutton', 'Lee Soo-Gil', 'Yang Hyeon-Jong', 'H.G. Nicolson', 'Masked Burning #2', 'James M. Kelly', 'Harry M. Comins', 'Robert G. Bartle', 'Joseph A. Langone, Jr.', 'Jo-Jo Morrissey', 'J. Smith', 'Charles E. Winter', 'नाहिद हसन', 'Georges St-Pierre', 'Hamad Khalifa Hamed Al-Azani', \"G'Kar\", 'Robert A. Loftus', 'Jeannot Ahoussou-Kouadio', 'Karl Zinsman Jr.', 'Li Mao (李瑁)', 'Steven K. D&#39;Arcy', 'Robert Claude Simpson-Anderson', 'Saints Alphius, Philadelphus and Cyrinus (Alfio, Filadelfo and Cirino)', \"Denise O'Connor\", 'Kittipong Loon-jak', 'Michael Mekelburg, Jr.', 'Dennis A. Dougherty', \"Edward Cornelius O'Leary\", 'Walter Seelmann-Eggebert', 'Lawrence (Larry) B. Schook', 'Joseph W. Tobin,C.Ss.R.', 'Ghillean T. Prance', 'Israel \"Iz\" Kamakawiwoʻole', 'George A. Howe', 'Հասմիկ Կարապետյան (Քիրմիզեան)', 'Monte M. Katterjohn', 'Khaled Al-Hazaa', 'Su-Shu Huang', 'Abdul Razzaq as-Sawsa', 'J.M. Staniforth', 'Matthew G. Carter', 'Alan L. Eggers', 'D. C. (Deese) Thompson', 'Alvin C. Bush', 'Gary J. Young', 'Stephen A. Swails', 'Rogvolod-Boris Vseslavich', 'Clarence A. Barnes', \"Cormac Murphy-O'Connor\", 'George F. Elliott', 'Alan B. Williams', 'Mtutura A. Mtutura', 'No Jin-hyuk', 'Joe Stell, Jr.', 'Artak L. Aleksanyan', 'Terry W. Virts, Jr.', 'Maria Höfl-Riesch', 'Karl-Heinz Körbel', 'Vincent Domanski Jr.', 'T. Kurukularajah', 'Jean-Claude Lebaube', \"Jean-Paul 'Bluey' Maunick\", 'Sir Robert Eden, Bt', 'Charles F. McMillan', 'Wang Kwo-tsai', 'Yves Makabu-Makalambay', 'Dina Asher-Smith', 'J.H. Soeder', 'David C. Landers', \"Matteo D'Alessandro\", 'Park Yong-Ji', 'Park Se-ryong', 'John II, Marquis of Namur', 'Hussam El-Badrawi', 'Alexander Friedrich-Wilhelm Georg Konrad-Ernst-Maximilian', 'Robert C. Lieberman', 'Mcbess(Matthieu Bessudo)', 'Charles L. Thomas', 'A. J. Meek', 'Robert (I.)', 'Günther \"Hans\" von Kluge', 'Richard S. Heyser', '(M.Q.R.)', 'Stefan Hula Jr.', 'John N. Irwin', '(روح الله خالقي)', 'Jean-Pierre Papin', 'Andrew A. Serafini', 'Karl-August Fagerholm', 'Sidney L. Jones', 'David E. Miller', 'Edgerton W. Day', '(ايمان الاسدي)', 'Douglas Ray \"Doug\" Miller, I', 'Rudolf Stöger-Steiner von Steinstätten', 'Charles H. Ham', 'Sir Harry Smith, Bt', 'Lin Cheng-sheng', 'Robert Edward Osborne-Smith', 'Rose-May Poirier', 'Erwin Ding-Schuler', 'S. B. Nawinne', 'James Harrell \"Jim\" Herring, Sr.', 'Maryna Gąsienica-Daniel', 'C. S. Jayaraman', 'Dickens St. Vil', 'Bantz J. Craddock', 'Michael J. McCann', 'Erika Seltenreich-Hodgson', 'Mustafa Mahdi Al-Bassas', 'Saint Joseph Freinademetz, S.V.D.', 'Lewis Malone Ayer, Jr.', 'Leroy M. Garcia, Jr.', 'Michael M. Crow', 'William J. Green, III', 'Lionel W. McKenzie', 'Heath Wallace Miller Esq.', 'Benjamin F. Deming', 'Chen Jiunn-ming', \"M. Francois D'Eliscu\", 'Neil R. Grabois', 'Mr. Desmond Tiny', '(Nicoletta Grisoni)', 'Mend-Ooyo Gombojav', 'Widner Saint-Cyr', 'Michaela \"Mickey\" Shiloh', 'R. L. Sullivan', 'Sir John Laforey, 1st Baronet', 'Hans-Peter Lehnhoff', \"Richard O'Connor\", 'Heather Simmons-Carrasco', 'Sir Somerset Gough-Calthorpe', 'Khalid Al-Jaber', 'William \"Billy\" Tucci', 'Thomas Louis Tolles, Jr.', 'Thomas R. Turner II', 'William G. Martin', 'M. F. S. Pulle', 'Ferdinande Henriette, Countess of Stolberg-Gedern', 'Berta E. Baker', 'John S. Wilson', 'Luis Raymund Villafuerte, Jr.', 'David A. Whiteley', 'Brigitte Gapais-Dumont', 'Ronald J. Garan Jr.', 'Ann C. Whitman', 'R.C. Bannon', \"Andy O'Brien\", 'Gilbert J. DiNello', 'Saint Candida Maria of Jesus, F.I.', 'C. K. Williams', 'J. Wells', 'Patrick Gerry-Anthony Alcala Reichelt', 'John A. Nerud', 'Susan M. Johnson', 'R. Bouillet', 'Frederick II, Count of Celje', 'Vanja Milinković-Savić', 'Anthony C. McAuliffe', 'Ch. Prem Singh', 'John A. Giannetti, Jr.', \"Oscar D'Agostino\", 'Taha Hussein (', 'Ri Yong-jik', \"James O'Donnell\", 'অসীমা চট্টোপাধ্যায়', 'Marcus M. Merritt', 'William D. Smith', 'Bosco Pérez-Pla Alvear', 'Karl-Gottfried Prasse', 'W. P. “Buck” Astle', 'Jyu4 Sing4-wai6', 'Edwin M. Price', 'Jean-Claude Lemoult', 'Ray W. Jones', 'Chester B. Bowen', 'Nu:Tone', 'Karl-Erich Berg', 'Jamal al-Jamal', 'François \"Frank\" Blais', 'Florence Carter-Wood', 'Carmelo Domênico Recchia, O. Cist', \"Juan'ya Green\", \"John O'Donnell\", \"Claud O'Donnell\", 'T. Brooke Benjamin', 'Hamid Al-Shaeri', 'Jean-Pierre Stirbois', 'Zaheer-ul-Daulah Artuk Beg', 'Meribeth E. Cameron', \"Ya'akov Berihon\", 'R. Owen Williams', 'Sidney (Sid) Labe Buckwold', \"Daudet N'Dongala\", \"Adam D'Apuzzo\", 'Jon B.', \"Brian O'Meara\", 'Robert LeBreton \"Bret\" Allain, II', 'Engelbert III, Count of Gorizia', 'Karin Kock-Lindberg', 'Lee In-jae', '(宮里 藍)', 'J. Caleb Boggs', 'Aloysius MasnataS.J.', 'Lyall {Malcolm} Watson', 'Mokhtar Al-Shanqiti', 'Lee Jong-Hyun', 'Shin Bo-Me', 'Raymond D. Bowman', 'The 4th Baron Ashton of Hyde', 'John G. K. Ayers', 'Ralph H. Demmler', 'Judson L. Transue', 'J.R. Writer', 'Douglas J. Feith', 'Lt. Col. Arthur Noble', 'Gary P. Weeden', 'B. K. Sadashiva', 'Raymond Faitala-Mariner', 'D. Vincent Williams', 'Peter R. McCullough', 'Clinton Leonard Jones, Jr.', 'Kim Jong-hyun', \"Erin O'Connor\", 'Ambrose Powell Hill, Jr.', 'Thomas Bennet-Clark', \"Jack O'Hara\", 'Nelson Story, Jr.', 'Hans-Dieter von Basse', '(at birth)', 'William G. Austin', 'Harry Gregson-Williams', 'Marc A.J. Laberte', 'Herman IV, Landgrave of Hesse-Rotenburg', \"Michael James O'Rourke\", 'Karl Habsburg-Lothringen', 'Ilie-Constantin Ciotoiu', 'Yasser Al-Qahtani', 'T. C. Brister', 'Kim Hyang-Suk', '(Микола Гурович Куліш)', 'Daniel B. Lloyd', 'Wikolia Kamehamalu Keawenui Kaahumanu-a-Kekūanaōʻa, Victoria Kamāmalu Kaahumanu IV', 'C. P. Newton', 'James A. Cody', 'Josef-Georg Mulzer', 'John I, Duke of Brunswick-Grubenhagen', 'Chera-Lyn Cook', 'Heo Kyung-hwan', 'Philipp Ludwig III, Count of Hanau-Münzenberg', 'B. J. Hill', 'Cathy Ubels-Veen', 'Witold Gintowt-Dziewałtowski', 'James H. Fagan', 'Dr. Jazep Sažyč', 'St. Agnes of Montepulciano, O.P.', 'Carl W. McIntosh', 'Theodoor (Theo) van der Horst', 'Rudolf II, Margrave of Baden-Baden', \"Va'aiga TuigamalaMNZM\", 'James M. Stevens', 'Rodney H. Weston', 'Robert L. Helmly', 'Antoinette of Brunswick-Wolfenbüttel', \"Basil Salvadore D'Souza\", 'G. Ernest Fairweather', 'Delos R. Ashley', 'Stephen E. Cross', 'Chen Po-liang', 'R. Henry Fowler', 'George H. Harrison', 'Richard J. Ball', 'Kristin Phillips-Hill', 'Suzanne \"Crazy Eyes\" Warren', 'Daniel R. Foley', 'Freddie N. Webb', 'William C. Hammond', 'Wayne L. Marston', 'Jodi Tod-Elliott', 'Han Ji-ho', 'Milagros \"Mili\" Urién', 'Nguyen Anh 9', 'James Gunnar Nixon #1', 'J. M. G. Le Clézio', 'Κωνσταντῖνος Ι΄ Δούκας', 'Li Dong-Woon', 'William \"Scot\" McCauley', 'Seán Marty Lockhart (born Seán Martin Lockhart)', 'R. C. Johnson', 'Wang Chin-Fang', 'James A. D. Richards', 'Bishnu S. Atal', 'Jean-Baptiste Delille', \"John O'Brien\", 'Antonio Ordoñez-Plaja', \"Steven O'Donnell\", \"Robert Wanless O'Gowan\", 'Brian J. Mistler', 'Charles B. Lawlor', 'Ferdowsi()', 'John Hennessy, DD', '(Sarabhoji Raja Bhonsle)', 'Gene W. Glenn', 'Spence M. Armstrong', \"Luca D'Angelo\", 'A. W. Kjellstrand', 'James W. Christy', 'Dean V. Kruse', 'Kim Chang-hee', 'E. Frank Sperry', 'Rudolf \"Rudi\" Schmidt', 'Lanfranchi & Farina', 'John J. Gill', 'Thomas C. Humphrey', 'Frederick William, Prince of Solms-Braunfels', 'Stephen E. Fienberg', 'John \"Snooks\" Kelley', 'Karl G. C. von Staudt', 'Evergreen Mak Cheung-ching', 'C. N. Jayadevan', 'William G. Durden', 'Janet H. Adkins', 'Amend, Bernard G.', '(Михаил Яснов)', 'Compton I. White, Sr.', 'Yannick Anister Sagbo-Latte', 'Natasha Kaiser-Brown', 'Mohammed II al-Mahdi', 'Justice S. Ashok Kumar', \"Marouane M'rabet\", 'Jean-Louis Lagadec', \"James O'Loghlin\", 'Elmer D. Morse', 'Eugène (Eugeniusz) Minkowski', 'M. K. Indira', 'Leslie P. Kaelbling', 'Mark Z. Danielewski', 'Laurence Lanfumey-Mongredien', 'Dante O. Tiñga', 'William \"Will\" Horn', 'Abram Piatt Andrew Jr.', 'Hawley Bennett-Awad', 'Michael T. Good', 'James Stirling (1800–1876)', 'Darna; Princess Vara; Olga', 'Ali ibn Sabr ad-Din', 'Mr. Magoo', 'Ahmed Al-Sarori', \"Ibn 'Arabi\", 'Roy Jones Jr.', 'Milton O. Thompson', 'Léon-François-Antoine Aurifeuille', 'Neville D. Frankel', 'Joseph \"Joe\" Borg', 'Mitchell Mayo (comics version)', 'Cal Ripken Sr.', 'John Paul Jr.', 'T. Marsden', 'S. Shritharan', 'André-Dieudonné Kolingba', 'John D. Mayer', 'Nelson B. Hatch', \"Paul O'Dea\", 'M.E. Julianna Cox', 'Thomas Charles \"Tommy\" Merritt', 'John W. Leedy', 'Jim F. Law', 'Richard E. Miller', \"Jacques Anderson Yoboue N'da\", 'Susan H. Rodger', 'George P. Monaghan', \"Domenico de' Marini\", 'Dr. Huda al-Baan (also spelled al-Ban)', 'Liu Chih-kung', '(Јожеф Каса)', 'Jasper A. Vrugt', 'Albert A Bühlmann, M.D.', 'Jesse O’Hara', 'DeLancey Floyd-Jones', 'Maj. General Paolo Gerometta', 'Howard Sant-Roos', 'James L. Harris', 'Wendell O. Erickson', 'William R. Cotter', 'Greek, Tenshinhan, The Tulip', 'Dale L. Orem', 'A. J. Mills', 'Norman Wylie, Lord Wylie', 'Saheb Al-Abdullah', 'Floyd Mayweather Sr.', 'Chun Myung-hoon', 'Kerry-Lynne Findlay', '(藤木 三郎)', 'Aisin-Gioro Dorgon', 'Walter Joseph Marm Jr.', 'Jean-François Bedenik', 'James W. Houck', 'Carlos G. Camacho', 'George James Jr.', 'Al Shamisi, Mohamed Juma', 'Khaled Al-Awadhi', \"Gaston d'Orléans\", 'Bill McChesney, Jr', \"Cosimo di Giovanni de' Medici\", '2Tap', 'DJcable[U.K.]', 'P. S. Veeraraghavan', 'al-Adil', 'Harold A. Richman', 'Colleen L. McGuire', 'Stephen E. Thorsett', 'Henry II \"the Good\"', 'Herbert William Christenberry, Sr.', 'Elizabeth F. Churchill', 'Mahmood Al-Sadi', 'Alfred B. Miles', 'Ju Se-jong', 'Roger Beauchamp, 1st Baron Beauchamp', 'Mohamed Obaid Al-Zahiri', 'Mahmoud al-Subaihi', 'Ingwer (Jens) Matzen', 'Jeffrey D. Lee', 'Richard Harmon Drew Jr.', 'Gordon J. McCann', 'M. Patricia Smith', 'Daniel C. Miller', 'William Garnet \"Bing\" Coughlin', \"Ippolito II d'Este\", \"Ahmadu Adamu Mu'azu\", 'ओम प्रकाश वर्मा', '(מהראן אבו ריא)', 'Ko Byung-wook', 'W. Jones', 'Miles W. Casteel', 'Sylvia Mason-James', 'J. Fernand Fafard', 'W. Ben Hunt', 'Ri Kyong-ok', 'William B. Swann', \"d'Eon\", \"Sabrina D'Angelo\", 'William C. Wantland', 'Thomas Christian Marth, Jr.', 'Gilbert R. Cook', 'Thomas J. Perrelli', 'Norbert Müller-Everling', 'Melissa Harris-Perry', 'Arnold E. Resnicoff', 'William F. Russell', 'Edwin M. Yamauchi', 'Pedro C. Sanchez', 'Jeremy Opoku-Karikari', 'Silverio A. Vega', 'Ronald S. Coleman', 'Jalal al-Digheily', 'John \"Pugwash\" Weathers', 'Ann K. Schmalzried', 'John H. Murphy', 'J. C. W. Beckham', '(Српски патријарх Гаврило I)', 'Zaida R. Hernández Torres', '(鈴木規夫)', 'Morris Albert Lottinger Sr.', 'William H. Hay', 'Roger E. Combs', 'Louis G. F. Ratisbonne', 'Alfred Papapreye Diete-Spiff', 'Sandra J. Feuerstein', 'John Mills-Cockell', 'Douglas C. McDougal', 'Kim Chan-Young', \"John C. D'Amico\", 'Gu Gyo-dong', 'T. Visvanatha Pillai Kamalaswamy', 'August W. Flamme', 'Jean-Paul Diamond', '(Marquis of Ensenada)', \"Terry O'Dea\", 'Marc-Yvan Côté', 'Richmond Conrad \"R. C.\" Hathorn, Sr.', 'Beam - Kawee Tanjararak', 'R. R. Kadam', \"Aloysius O'Donoghue\", 'John E. Marriott', 'James E. Tierney', 'Fred M. Hechinger', 'Frederic S. Durbin', 'German: Wilhelm Friedrich Karl Ernst Joachim Albrecht', 'D. Ralph Morgan', 'William P. Crowell', 'Richard D. Smith', 'George S. Messersmith', 'Ivan-John du Preez', \"Tye'sha Fluker\", 'Summers M. Jack', 'James F. Jones (Prophet Jones)', 'B.A.,M.A.', 'John Carpenter,', 'Richard A. Young', 'K. G. Kenye', 'Hryhoriy (Haranyan) Sakhnyuk', 'F. Paul Wilson', 'Ma Chul-Jun', 'Screwball \"Screwy\" Squirrel', \"Ivan O'Konnel-Bronin\", 'Roland E. Murphy', 'Seelig Bartel \"Bushie\" Wise', 'Philip St. George Cooke', 'E.J. Khaile', 'Krystyna M. Kuperberg', 'Lee Geum-min', 'Theobald III, Count of Blois', 'Albert A. Brown', 'George William E. Gladwin', 'Anna-Lisa Frykman', 'John O. Marsh Jr.', 'William Henry Seward, Jr.', 'Quinton B. Hoover', 'Ernest K. Bramblett', 'Ollie E. Brown', 'Donn F. Porter', 'Jean-Pierre Kuhn', 'Domingo Lucenario Jr.', 'H. D. Ackerman', 'Jean-François Lisée', 'Daniel \"DC\" Cormier', 'V. James Bamford', 'James E. Smith', 'Gayleatha B. Brown', 'John Gope-Fenepej', 'Benjamin F. Hallett', 'Seo Myeong-Won', 'Samuel L. Myers Sr.', 'Dale A. Kimball', \"Sinead O'Connor\", 'W. A. Hayden Schilling', 'Family name:Sima(司馬)', 'R. D. \"Dewey\" Halford', 'C.H. Fernando', \"Simon O'Connor\", 'Park Jun-gyeong', 'Jan-Philipp Kalla', 'L. Adaikalaraj', 'Diaa al-Din Dawoud', 'Michael A. Hiltzik', '(이춘석)', 'Arnold L. Kirkpatrick', 'Wanda \"Baby\" McCullough', 'Douglas W. Currie', 'Harold R. Vague', 'J. A. Pierce', 'Jo-Ann Episkenew (née Thom)', 'Raymond L. Murray', 'Otto Kerner Jr.', 'Majid Al-Ali', \"Pat O'Donnell\", 'Fuad Issa al-Jouni', 'Abū al-Ḥassan ʿAlī ibn ʿUthmān al-Marīni', 'Jean-Louis Fabiani', 'John I, Count of Rietberg', 'James W. Cannon', 'Joanne M. Holden', 'Pega-Leve', 'Avery Robert Dulles, S.J.', 'George M. Mitchell', 'George F. Rebmann', 'J. J. Johnson', 'James M. Buchanan', 'James N. Goodier', 'Frank G. Paci', \"Da'Sean Butler\", 'Abd-al-Masih', 'Zabel Asadour (Sibil)', 'E. Allen Smith', 'Richard G. Desautels', '(The Honourable)', 'Hollie-Jay Bowes', 'James Price McLane, Jr.', 'Saeed Faraj Al-Obaidan', 'Christian Albert, Duke of Holstein-Gottorp', 'Alfred C. Clapp', 'Jeffrey S. Guice', 'Thaddeus M. Buczko', 'Francis E. Gleeson, Jr.', 'Alberto Heredia Ceballos-Zúñiga', 'Madurai T. N. Seshagopalan', 'Heinz-Martin Ewert', 'Horacio Morales, Jr.', \"Omar M'Dahoma\", 'J. J. Hoover', 'Wilfried Karl Strik-Strikfeldt', 'Alan R. Bishop', 'Joseph V. McKee', 'Umdat ul-Umara', 'Choi Jae-bong', 'Muhammad bin Nasir al-Ghafiri', 'William Henry Abendroth, Jr.', 'T. A. Dwight Jones', 'Shin Hye-sung', 'Thérèse Lavoie-Roux', 'Juliet Clutton-Brock', 'John G. Barnard', 'Boli Bolingoli-Mbombo', 'Abd al-Wahid II', 'Pehin Datu Indera Setia Major General (Rtd.) Dato Paduka Seri Haji Awang Sulaiman Bin Haji Awang Damit', 'Jerahmiel S. Grafstein', 'James R. Otteson', 'James Paul \"Jim\" Hendren', 'Donald R. Herriott', 'Woodson T. Slater', 'Franco Mondini-Ruiz', 'Choi Hyun-seok', 'Kim E-Z', \"Barkin' Bill Smith\", 'Yang Wei-fuu', \"Stéphane N'Guéma\", 'Edward J. McDermott', 'Robert F. Furchgott', 'A. R. Rahman', 'Joe R. Baldonado', 'Pawan K. Shrivastava', 'Seth M. Gates', 'Thomas M. Dame', 'Joseph-Nicolas Robert-Fleury', 'Eric R. Dinallo', 'Richard E. Myers', 'Frederick II the One-Eyed', \"Brian O'Keefe\", 'Matthieu Louis-Jean', 'Huntly D. Millar', 'Thomas Madsen-Mygdal', 'Joseph-Octave Plessis', 'Verne R. Anderson', 'Yu Seung-yeop', 'Juan Pérez-Giménez', \"Richard Mapuata N'Kiambi Esola\", 'Rola Saad - رولا سعد', 'Dr. Lilith Sternin', 'Kenneth P. Morse', 'K. Ravindran', 'William M. Hoge', 'Marguerite, Countess of Blessington', 'Enrique M. Fernando', 'Kim Bi-o', 'Sir Hector Maclean, 5th Baronet', 'E. B. White', \"Sione Tu'ipulotu\", 'Winfield S. Featherston', 'Charles William \"Charlie\" Pierce', 'Sir Reginald Yorke Tyrwhitt, Bt', 'John Charles, Count Palatine of Birkenfeld at Gelnhausen', 'Alexander M. Cameron', 'Kim Chang-hwan', 'Martha A. Whiteley', 'Allan G. Johnson', 'Jean-Pierre Dogliani', 'Stephen E. Merrill', 'Park Yoo-chun', 'Otto Beatty Jr.', 'Hugh James Campbell-Ferguson', 'Given name: unknown', 'Arthur E. Summerfield', 'Jeffrey A. Bader', \"Eddie O'Hara\", 'Walter \"Wolfman\" Washington', 'Archie B. Smith', 'Henry C. Gooding', 'Jose R. Velasco', 'El Ancho, Hercules Argentino', 'John William Hely-Hutchinson', 'Henry Ernest of Stolberg-Wernigerode', 'Francis Willoughby, 5th Baron Willoughby of Parham', 'William Neff \"Bill\" Patman', 'Ismail Pasha al-Azm', 'Helle Thorning-Schmidt', 'F. William Rane', 'Crato, Count of Nassau-Saarbrücken', 'Cameron S. Brown', 'Jean-Charles-Pierre Lenoir', 'Tayyiba Mumtaz Haneef-Park', \"Jarrad Rogers, 'Mstr Rogers'\", 'Louis-Félix Pinault', 'Amir-Hossein Aslanian', 'Howard L. Lasher', 'Paul J. Yahner', 'Lauren Groves-Campbell', 'Hwang In-beom', 'Yau Wai-ching', 'Eric P. Webster', 'Edward R. Foreman', 'Christopher D. Broadwater', \"Pádraig 'Podsie' O'Mahony\", 'Julian Edwin Bailes Sr.', 'Charles H. Swannack Jr.', 'Kim Jae-Ho', 'Leroy F. Greene', 'Otto-Hermann Adolf Brücker', 'Montgomery Cunningham Meigs, Sr.', 'Fathullah Imad-ul-mulk', 'El-Sayed Lashin', 'Saint John (Jean) of Saint-Denis', 'Mary Buckland, née Morland', 'Edward L. Morse', 'Hong Gein-Sub (홍진섭)', 'Gregory H. Johnson', 'Dr. J. P. Garnett Nelson', 'Benjamin B. Tucker', '\"Khan Bahadur\" Kowasji Jamshedji Petigara', 'Hung-Wen Chen', 'S.N. Roy', 'Alfred W. Ellet', 'Marcy H. Randall', 'Sin Jin-Ho', 'Vladimir A. Teplyakov', 'Denise Kramer-Scholer', 'FM-2030', 'Ji-min', 'William Joseph \"Billy\" Guste Jr.', \"Jerome O'Shea\", 'Michael L. Lampton', 'Hans-Georg von Seidel', 'Prinzen Ludwig Ferdinand Paul Franz Stanislaus Ulrich Otto Ludolf zu Sayn-Wittgenstein-Berleburg', 'Khaled Al-Faraj', 'Kenneth W. Dam', 'Hu Chen-pu', 'Nina Toussaint-White', 'David K. Muradian, Jr.', 'Alfredo E. Pascual', 'George R. Davis', 'Charles H. Fasnacht', 'Allen H. Bagg', 'Yan Wing-shean', 'Zach G. Kingsley', 'Dr. Eugen Hirschfeld', 'Russell L. Mixter', 'Ilan H. Meyer, Ph.D', 'Charles A. Hawley', 'S. R. Balasubramoniyan', 'Hon. Meshech Weare', 'Francisco Torrent-Guasp', 'Craig R. Fry', 'Emmanuel G. Bwacha', 'Brooks A. Keel', 'Chang Yoon-hee', 'Pavla (Habartová) Kalná', 'Richard E. Kim', 'Giovanni S. Capriglione', 'Gideon W. Thompson', 'Chen Houei-Kuen', 'Jordan Alan Moore-Taylor', \"Charles David 'Bo' Ginn\", 'Leon W. Johnson', 'Andrew H. Reeder', 'E. Miller', 'Michael J. Zalewski', 'Jean-Michel Basquiat', 'Ronald M. Kanter', 'Donna-Michelle St. Bernard', 'Marie-Hélène Lefaucheux', 'MAP1970s', 'Richard Wilson-Smith', 'Choi Yun-chil', 'Howard G. Swafford', 'B-Legit', 'Hampton S. Thomas', 'Dr. Abdul Karim Sandeelo PhD', 'Thomas E. Murray', 'John R. Richards', 'Bernadeta Aldona Różańska-Majchrzak', 'Cho Sang-Hyun', \"Garry Lawrence John O'Connor\", 'Alfred T. Renfro', 'Matthew J. Tow', 'George H. Heilmeier', 'William Jonas Ely, Jr.', 'William D. Burns', 'Sir Philip Christison, 4th Baronet', 'Rabbi Philip R. Alstat', 'Michael R. Gardiner', 'Bruno P. Maddox', 'George B. Greene, Jr.', 'Lim Choong-sil', 'Margarete of Brunswick-Wolfenbüttel', 'Given name: Xuanyuan (Hsuan-yuan; 軒轅)', 'Joseph H. Alexander', 'E. G. “Pat” Patterson', 'Md. Ruman Shana', 'Alfred C. Cerullo, III', 'Lowell Christopher \"Chris\" Hazel', 'Mary L. Tabor', 'Adel Moahammed Al-Hosani', 'Anthony R. Cucci', 'Joan Costa-i-Font', 'Nanthakumar a/l Kaliappan', 'Albert K. Ando', 'David L. Donoho', 'Kim Yu-mi', 'ਨਰਿੰਦਰ ਸਿੰਘ ਕਪੂਰ', 'K. Ramasamy', 'Patricia A. Davidson', 'Jeong Dong-yun', 'Jean-Marie Goasmat', 'Jean-Matthieu Descamps', 'The American Psycho, Robocop', 'David R. Hogg', 'Leroy \"Roy\" Roberts', 'Axel L. Sundquist', 'Otto II, Count of Scheyern', 'D.Sajin', 'Aisin-Gioro Yunzhi', 'Robert J. McFarlin', 'Per-Ingvar Brånemark', 'Danyon Joseph Loader, ONZM', 'A. Leonard Allen', 'Arnold H. Kegel', 'A. N. Ray', 'Nathaniel B. Shurtleff', 'Martin M. Lawrence', 'Robert S. Jaworski', 'Julian P. Alexander', 'William H. Barnes', 'K. A. Mathiazhagan', 'Allison A. Campbell', 'A. Hutton', 'Thomas T. Dahl', 'Frank Aguon, Jr.', 'Leszek Lubicz-Nycz', 'Peter Bevan-Baker', 'John W. Meldrum', 'John R. McBride', 'Byun Hye-young', 'Suzan Bushnaq (سوزان بوشناق)', 'Jeremiah J. Murphy', 'C. Sue Carter', 'James T. Patterson', 'William D. Staples', 'Alan R. Rogers', 'Charles J. Dunlap, Jr.', 'Bernard Rollen Williams, III', 'Ku Hyun-jun', 'Salia Jusu-Sheriff', 'John Darling Jr.', 'Sigurd Akre-Aas', 'Karon O. Bowdre', 'Janice E. Voss', 'Hugo Tristram Engelhardt, Jr.', 'Thomas Prence （or，Thomas Prince）', 'Herman IV, Duke of Swabia and Margrave of Turin', 'Given name: Défāng ()', 'Thomas Dacre, 6th Baron Dacre', \"Joe O'Rourke\", 'M. Delmar Ritchie', 'Cynthia Susan (Kessler) Miller', \"Heather O'Reilly Werry\", 'C. Pat Taylor', 'Abdulrahman al-Ansary', 'Robert D. Moser', 'John P. Gillis', 'As-Siddig al-Mutassir', 'Hendrik-Jan Christiaan Mol', 'Lee Jong-Min', 'T.B.A. Clarke', 'Paul J. Evanko', 'Chung Doo-un', 'Jeoun Eun-ha', 'William E. Troutt', 'Sir William Brabazon, K.B.', 'Arnold I, Lord of Egmond', 'Catherine G. Wolf', 'Sophia Frederica of Mecklenburg-Schwerin', 'Thomas \"Tom\" Williams', 'Györgyi Marvalics-Székely', 'Lorenzo D. Harvey', 'John D. Payne', 'Charles E. Taylor', 'Fielding H. Yost', 'L. S. Stepanyan', 'William E. Kretschmar', 'Kai-Tai Fang', 'David Rhys-Jones', 'John C. Davis', 'Frederick II, Duke of Brunswick-Lüneburg', 'Michael J. Totten', 'Dr. Chaiyong Satjipanon', '(Српски патријарх Варнава I)', 'Glenn M. Hughes', 'Prof. (Dr.) G S Bajpai', 'Françoise de Lorraine-Mercœur', 'Antje Möldner-Schmidt', 'Gaspard-Gustave de Coriolis', 'Louis-Joseph Papineau', '(Дамбын Чагдаржав)', 'Stéphanie Mugneret-Béghé', \"Mir Sa'id Muhammad Khan\", 'George S. Tolley', 'Theodore H. Epp', 'Christopher A. Sims', 'Catherine-Dominique de Pérignon', 'Robert E. Sweeney', 'Michael H. Posner', \"Sally Brice-O'Hara\", 'Lewis R. Hall', \"Kerin O'Keefe\", 'Dennis J. Kearney', 'Samuel \"Sam\" Blakeslee', 'Dame Louise Lake-Tack', 'Andrew C. Brock', 'B.J. Walker', 'Yoon Sung-Hwan', 'James \"Jim\" Schoppert', 'Richard W. DeWitt', 'Jody Wilson-Raybould', 'Marcus Aurelius Numerius Numerianus (from birth to elevation to Caesar);', 'William \"Billy\" Kaplan', 'Yang Tzu-pao', 'Frank Edward McKinney, Jr.', 'David B. Bakker', 'Rhys W. Duch', 'Frank L. Howley', \"GI-K'awiil of Cancuén\", 'John V. Cox', 'William, Duke of Opava', 'Charles S. Witkowski', 'Shah Nyalchand S.', 'Karl-Heinz Henrichs', 'Joseph J. Kowalski', 'Charlotte Johanna of Waldeck-Wildungen', 'Cesar V. Purisima', 'Um Min-ji', 'T.S.Ramaswami Pillai', 'J. J. Redick', 'John Kerr (physicist)', 'Walton T. Roth', 'Hugh F. Odgers', 'Constantine (Kitsos) Botsaris', 'A. Richard Newton', 'Blessed Marie-Céline of the Presentation', '<span', 'Edward R. Bowman', 'Roscoe Robinson, Jr.', 'Patrick William \"Pat\" Donahue', \"Fred D'Aguiar\", 'Cheon un-yeong', 'Carl R. Ajello', 'James L. Edwards', 'James E. Moore', 'Stephen J. Buoniconti', 'George Marion Jr.', 'Konrad K. Solberg', 'Lee Hsueh-Lin (李學林)', 'Michael Connelly, a.k.a. John Mack', '(FBAFAcSS)', \"L'Empereur\", 'Nick Bradley-Qalilawa', \"Lisiate Richard Fa'aoso\", 'Ulysses Owens Jr.', 'Benjamin M. Golder', 'Marie-Nicolas-Antoine Daveluy', 'Samvel Ter-Sahakyan', 'J. Gregory Pavlovich', 'John B. Eckstorm', 'Michael A. Sheehan', 'Kim Dong-jin', 'N. D. Krishna Rao', 'Edwin Oswald Ware, Sr.', 'Jeong Keun-Woo', 'Francisco (\"Paquito\") Montaner García', 'Donald T. Campbell', 'Sir Frederick Ouseley, Bt', 'Fadhil Jalil al-Barwari', \"Boris Deugoué N'Gagoué\", 'Cecil Boyd-Rochfort', 'Flavius Honorius (from birth to accession);', 'Cho Jung-hyun', 'W. Arthur Porter', 'Saint Gabriel, Confessor and Fool for Christ', 'B.C. Unseld', 'Erik D. Demaine', 'Saîf-Eddine Khaoui', 'Mr. B.', 'Jean-Baptiste-Camille Corot', 'Jacob M. Appel', 'John P. S. Gobin', 'Mark S. Wrighton', 'William IV, Duke of Brunswick-Lüneburg', 'Cary G. Peterson', 'Joseph Russell (Bud) Boyce', 'The Titan, Roid Daddy, Juice Ape, The Human Growth Hormone Experiment', 'Dolores \"Lola\" Cueto', 'Mark S. Weprin', 'Sidney McNeill \"Sid\" Gutierrez', \"Roy O'Brien\", 'Earl A. Davis', 'Ralph G. Foster', 'ඉරාන් වික්රමරත්න මහතා', 'Yuri S. Kivshar', 'R. A. Lafferty', 'Nawal M. Nour', 'Frederic H. Smith, Jr.', 'Elena Margarit-Mărgărit (-Dobrovolschi, -Fodor)', 'Sir Tom Ince Webb-Bowen', 'G. Harold Wagner', 'Sir William Parker, Bt', \"Seán Patrick O'Malley\", 'Rick J. Jordan', 'John W. Crutcher', 'Jun Jung-Lin', 'Kim Gwi-hyeon', 'Henry A. Coffeen', 'Violeta Riaubiškytė-Tarasovienė', 'Hans-Jürgen Baake', \"Dudley O'Shaughnessy\", 'Family name: Dou 竇', 'Stanley Marsh 3', 'Fahd Jassem al-Freij', 'Jerry R. Birdwell', 'Kül-chor', 'Hong 10', 'Gerard M. Verschuuren', 'Michael J. Wilkins', 'Jay P. Williams', 'Melville, Marquis of Ruvigny and Raineval', 'Samuel Bernard Nunez Jr.', 'M.A. Mendes de Leon', 'S. D. Crawford', 'Chester William Nimitz Jr.', 'Jean-Luc Arribart', 'Maruja Isabella Sevilla (Spanish Era), Nina Concepcion/Cristy (Reincarnation)', 'William J. White', 'Robert A. Whitney', 'F. A. \"Pappy\" Little Jr.', 'Marquis St. Evrémonde', 'George C. Howard', 'Micah S. Neal', 'Charles-Louis-Étienne Nuitter', 'Ronald \"Ron\" Joseph Tesolin', 'Mary Susan Makobatjatji Malahlela-Xakana', 'William H. Gray', \"Empress Dowager Ci'an\", 'Haytham ibn Khalid ibn Yazid ibn Mazyad al-Shaybani', 'Giovanni Bonati (gymnast)', \"Peadar Toner Mac Fhionnlaoich (''P.T. McGinley)\", '(Hetman)', 'Liu Cheng-hung', 'Charles R. Knight', 'Blessed Humbert of Romans, O.P.', \"'''E. A. Richardson\", 'Tulia Ackson Mwansasu.', 'Abdullah Al-Garni', \"Mo'men Soliman\", \"Mohaisen Al-Jam'an\", 'Moataz Yaseen Mahjoub Al-Fityani', 'Prof. Martha P. Haynes', 'Sir Thomas Brisbane, 1st Bt', 'George W. Edmonds', 'Alfred S. Bennett', \"מרק דבורז'צקי\", 'Frederick of Solms-Rödelheim', '(Cамбадондогийн Цэрэндорж)', 'Emicho I, Count of Nassau-Hadamar', 'Mark de Clive-Lowe', 'B.P. Loughridge', 'Ibrahim Al-Zawahreh', 'Wilbur \"Biggs\" Wehde', \"James Wallace O'Connor\", 'Jed S. Rakoff', 'Frederick J. Martone', 'Alois-Konstantin', 'C. Allin Cornell', 'David R. Brinkley', 'William Ralph \"Bill\" Keffer', 'Wolf-Dietrich Wilcke', \"Patrick O'Donovan\", 'Mark L. Booth', 'William Richard Sharpe Jr.', 'Alina Lisi Garciamendez-Rowold', 'Guy-Roland Kpene', 'Charles F. Smith', 'Choe Un-gyong', 'G.S. Amur', 'John III, Count of Ligny', 'Frederik P. Agterberg (Frits)', 'Corine Cécile Franco (néePetit)', 'Charles W. Phifer', 'Hamad Al-Sagoor', 'Teresa Chikaba,O.P.', 'James E. DeGrange Sr.', 'J.T. Williams', 'Wadjkare Aramatle-qo', 'R. B. \"Speck\" Searcy', 'Mongol script(right):', \"Étienne N'tsunda Mvumbi\", 'Meredith P. Snyder', 'Abdulaziz Al-Jebreen', 'Dr. Narreddy Tulasi Reddy', 'Ann-Cathrin Giegerich', 'Ri Un-hyang', '1321-P.44', 'Ha Jae-Hoon', 'Michel-Joseph Maunoury', 'Han Hsiang-ning', 'Jean-Philippe Ruggia', 'Harold Joseph \"Happy\" Hogan', 'Jacques Berthieu, SJ', 'Chen Po-chih', 'Scott R. Sehon', 'Lawrence J. Quirk', 'John J. Moses', 'William I, Marquis of Namur', 'Tseng Wen-hui', 'Kam-Biu Luk', 'Victor a/l Andrag', 'Tom Anderson, Jr.', 'Maria Buynosova-Rostovskaya', 'D. Leo Daley', 'James C. Russell', 'Yu Chi-hwan', 'T. Tex Edwards', 'Scoobert \"Scooby\" Doo', 'Jean-François Copé', 'Alfred Radcliffe-Brown', \"Barry O'Grady\", 'Joel W. Martin', 'B. J. P. Mendis', 'Lawrence W. Jennings', 'Douglas C. Ravenel', 'Paul-Émile Côté', 'Geert-Maarten Mol', 'Darnell Bailey-King', 'E. Arnold', '(198 to 211);', 'Charles I. Halt', 'Connie Price-Smith', 'Christopher Cheung Wah-fung', 'Cecilia Álvarez-Correa Glen', '(ประวิตร วงษ์สุวรรณ)', \"Johnny O'Keefe\", \"Henry O'Brien\", 'St. Ada', 'Amer Said Al-Shatri', \"Keni'chiro Arai\", 'James H. Peck', 'TheServant of God,', '(Sra Leandro Dupré)', 'Kumble R. Subbaswamy', 'Stig H. Johansson', 'Constantine J. Erdman', 'Xie (燮)', 'George St. John', 'Arnold L. Punaro', 'Adrianus T. de Hoop', 'Claiborne Washington \"Clay\" Smothers, I', 'Karma-Ann Swanepoel', \"Raja Dato' Seri Yong Sofia Binti Almarhum Sultan Azlan Muhibbuddin Shah Al-Maghfurlah\", 'Ghorbanali Dorri-Najafabadi', 'John L. Throckmorton', 'William Wood-Sims', 'Abdul Karim al-Kabariti', 'Barry B. White', 'Pedro R. Tinoco, Jr.', 'Karl-Richard Koßmann', 'Muhammad Anwar el-Sadat', 'Christine R. Savage', 'Greely Stevenson Curtis, Sr.', 'Charles Samuel McDowell, Jr.', 'Tobias \"Toby\" Ragg', 'Raymond L. Acosta', 'Kim Jang-mi', 'Fritiof S. Sjöstrand', 'A. K. Selvaraj', 'Jerry L. Mitchell', 'Saint Francis Xavier, SJ', 'The Hon. Mr Justice Wood', 'Tea Vikstedt-Nyman', 'William F. Hamberger', 'Nikola Mirkov Petrović-Njegoš', 'Dr. Peyman Faratin', 'Yang Lien-sheng', 'C. W. E. Jennings', 'Kwon Young-Min', 'K. A. Sengottaiyan', 'Sir George Forestier-Walker', 'Kari-Pekka Laaksonen', 'William M. Folger', '1318-Ağ. Top1', \"Paul O'Brien\", 'James T. Hill', 'Richard Robert Wright Sr.', 'Lester E. Carpenter', 'Feodor Vasilievich Gladkov (Фёдор Васильевич Гладков)', 'Robert Radcliffe, 1st Earl of Sussex', \"Daniel O'Brien\", 'Glenn F. Walther', 'Jules-Fredric Nyongha', 'Loree K. Sutton', 'Abdul-Fatai Alashe', 'Kim Cheong-yong', 'Allen T. Brinsmade', 'Samuel Perry \"Sam\" Little', 'John Kennedy Jr.', 'George J. Hall', 'B.B. King', 'Donald B. Beary', 'Nicholas H. Heck', 'Susan J. Kelley, Ph.D.', '(Лосолын Лааган)', 'James A. Hirshfield', 'Stig H:son Ericson', 'Clyde Osmer DeLand (or Deland, De Land)', 'Sir William Hope, 14th Baronet', 'M. S. Bennett', 'William F. Clayton', 'Leroy R. Hassell Sr.', 'Thomas A. Michlovic', 'Jorge Fernández-Valdés', '\"Big\" Al Downing', 'John D. Hoblitzell Jr.', 'Emile Deleau, Jr.', \"Raffaele D'Aquino\", 'E. J. Stewart', 'Pierre-Clovis Beauchesne', 'Raymond D. Telford', 'Mustafa Al-Sayyad', \"Edward 'E. B.' McClain\", 'Gerald F. McMonagle', 'Cary D. Langhorne', 'Peter B. Dervan', 'Raymond J. Broderick', 'Jean-Pierre Lecocq', 'Mark J. Seitz', \"Fiddlin' Doc Roberts\", 'Jeffrey A. Brent', 'Rembert C. Dennis', '(愛新覺羅·胤禟)', 'Psyco-M', 'Kelly-Anne Billingy', 'Song Yo-chan', 'Harold H. Velde', 'Koliakode N. Krishnan Nair']\n",
      "4841\n",
      "{'GREEK', 'HEBREW', 'CYRILLIC', 'HANGUL', 'CJK', 'SYRIAC', 'ARMENIAN', 'LATIN', 'KATAKANA', 'ARABIC'}\n",
      "10\n"
     ]
    }
   ],
   "source": [
    "alphabet1 = []\n",
    "notalpha = []\n",
    "for i in df['name']:\n",
    "    tempword = i.split()\n",
    "    if (all(word.isalpha() == True for word in tempword)):\n",
    "        alphabet1.append(langname(i))\n",
    "    else: \n",
    "        notalpha.append(i)\n",
    "    \n",
    "print(notalpha)\n",
    "print(len(notalpha))\n",
    "print(set(alphabet1))\n",
    "print(len(set(alphabet1)))\n"
   ]
  },
  {
   "cell_type": "markdown",
   "metadata": {},
   "source": [
    "### avg_token_length (complete)"
   ]
  },
  {
   "cell_type": "code",
   "execution_count": 133,
   "metadata": {},
   "outputs": [
    {
     "name": "stdout",
     "output_type": "stream",
     "text": [
      "Raha Etemadi\n"
     ]
    }
   ],
   "source": [
    "print(df2['name'][0])"
   ]
  },
  {
   "cell_type": "code",
   "execution_count": 134,
   "metadata": {},
   "outputs": [],
   "source": [
    "def average_token_length(name):\n",
    "    total_length = 0\n",
    "    total_tokens = 0\n",
    "    # Tokenize the name (split by spaces)\n",
    "    tokens = name.split()\n",
    "\n",
    "    # Calculate the total length of tokens in the name\n",
    "    token_length = sum(len(token) for token in tokens)\n",
    "\n",
    "    # Total length (characters in each word) and total number of tokens (words in name)\n",
    "    total_length += token_length\n",
    "    total_tokens += len(tokens)\n",
    "    # Calculate the average token length\n",
    "    if total_tokens > 0:\n",
    "        average_length = total_length / total_tokens\n",
    "        return average_length\n",
    "    else:\n",
    "        return 0 \n",
    "    \n",
    "avg_token_length = []\n",
    "for i in df2['name']:\n",
    "    avg_token_length.append(average_token_length(i))"
   ]
  },
  {
   "cell_type": "code",
   "execution_count": 135,
   "metadata": {},
   "outputs": [],
   "source": [
    "df2['avg_token_length'] = avg_token_length"
   ]
  },
  {
   "cell_type": "code",
   "execution_count": 143,
   "metadata": {},
   "outputs": [
    {
     "data": {
      "text/html": [
       "<div>\n",
       "<style scoped>\n",
       "    .dataframe tbody tr th:only-of-type {\n",
       "        vertical-align: middle;\n",
       "    }\n",
       "\n",
       "    .dataframe tbody tr th {\n",
       "        vertical-align: top;\n",
       "    }\n",
       "\n",
       "    .dataframe thead th {\n",
       "        text-align: right;\n",
       "    }\n",
       "</style>\n",
       "<table border=\"1\" class=\"dataframe\">\n",
       "  <thead>\n",
       "    <tr style=\"text-align: right;\">\n",
       "      <th></th>\n",
       "      <th>name</th>\n",
       "      <th>class</th>\n",
       "      <th>lang</th>\n",
       "      <th>alphabet</th>\n",
       "      <th>avg_token_length</th>\n",
       "      <th>num_tokens</th>\n",
       "    </tr>\n",
       "  </thead>\n",
       "  <tbody>\n",
       "    <tr>\n",
       "      <th>0</th>\n",
       "      <td>Raha Etemadi</td>\n",
       "      <td>1</td>\n",
       "      <td>et</td>\n",
       "      <td>LATIN</td>\n",
       "      <td>5.5</td>\n",
       "      <td>2</td>\n",
       "    </tr>\n",
       "    <tr>\n",
       "      <th>1</th>\n",
       "      <td>Luma Grothe</td>\n",
       "      <td>1</td>\n",
       "      <td>en</td>\n",
       "      <td>LATIN</td>\n",
       "      <td>5.0</td>\n",
       "      <td>2</td>\n",
       "    </tr>\n",
       "    <tr>\n",
       "      <th>2</th>\n",
       "      <td>Takuya Kakine</td>\n",
       "      <td>1</td>\n",
       "      <td>ja</td>\n",
       "      <td>LATIN</td>\n",
       "      <td>6.0</td>\n",
       "      <td>2</td>\n",
       "    </tr>\n",
       "    <tr>\n",
       "      <th>3</th>\n",
       "      <td>Ōuyáng Zhènhuá</td>\n",
       "      <td>1</td>\n",
       "      <td>mi</td>\n",
       "      <td>LATIN</td>\n",
       "      <td>6.5</td>\n",
       "      <td>2</td>\n",
       "    </tr>\n",
       "    <tr>\n",
       "      <th>4</th>\n",
       "      <td>Jordan Gideon Archer</td>\n",
       "      <td>1</td>\n",
       "      <td>en</td>\n",
       "      <td>LATIN</td>\n",
       "      <td>6.0</td>\n",
       "      <td>3</td>\n",
       "    </tr>\n",
       "    <tr>\n",
       "      <th>...</th>\n",
       "      <td>...</td>\n",
       "      <td>...</td>\n",
       "      <td>...</td>\n",
       "      <td>...</td>\n",
       "      <td>...</td>\n",
       "      <td>...</td>\n",
       "    </tr>\n",
       "    <tr>\n",
       "      <th>42913</th>\n",
       "      <td>Clyde Donaldson</td>\n",
       "      <td>1</td>\n",
       "      <td>en</td>\n",
       "      <td>LATIN</td>\n",
       "      <td>7.0</td>\n",
       "      <td>2</td>\n",
       "    </tr>\n",
       "    <tr>\n",
       "      <th>42914</th>\n",
       "      <td>Terry Alexander</td>\n",
       "      <td>1</td>\n",
       "      <td>en</td>\n",
       "      <td>LATIN</td>\n",
       "      <td>7.0</td>\n",
       "      <td>2</td>\n",
       "    </tr>\n",
       "    <tr>\n",
       "      <th>42915</th>\n",
       "      <td>Neil Roebuck</td>\n",
       "      <td>1</td>\n",
       "      <td>en</td>\n",
       "      <td>LATIN</td>\n",
       "      <td>5.5</td>\n",
       "      <td>2</td>\n",
       "    </tr>\n",
       "    <tr>\n",
       "      <th>42916</th>\n",
       "      <td>Lyle Stewart</td>\n",
       "      <td>1</td>\n",
       "      <td>en</td>\n",
       "      <td>LATIN</td>\n",
       "      <td>5.5</td>\n",
       "      <td>2</td>\n",
       "    </tr>\n",
       "    <tr>\n",
       "      <th>42917</th>\n",
       "      <td>Thomas Colclough Watson</td>\n",
       "      <td>1</td>\n",
       "      <td>en</td>\n",
       "      <td>LATIN</td>\n",
       "      <td>7.0</td>\n",
       "      <td>3</td>\n",
       "    </tr>\n",
       "  </tbody>\n",
       "</table>\n",
       "<p>42918 rows × 6 columns</p>\n",
       "</div>"
      ],
      "text/plain": [
       "                          name  class lang alphabet  avg_token_length  \\\n",
       "0                 Raha Etemadi      1   et    LATIN               5.5   \n",
       "1                  Luma Grothe      1   en    LATIN               5.0   \n",
       "2                Takuya Kakine      1   ja    LATIN               6.0   \n",
       "3               Ōuyáng Zhènhuá      1   mi    LATIN               6.5   \n",
       "4         Jordan Gideon Archer      1   en    LATIN               6.0   \n",
       "...                        ...    ...  ...      ...               ...   \n",
       "42913          Clyde Donaldson      1   en    LATIN               7.0   \n",
       "42914          Terry Alexander      1   en    LATIN               7.0   \n",
       "42915             Neil Roebuck      1   en    LATIN               5.5   \n",
       "42916             Lyle Stewart      1   en    LATIN               5.5   \n",
       "42917  Thomas Colclough Watson      1   en    LATIN               7.0   \n",
       "\n",
       "       num_tokens  \n",
       "0               2  \n",
       "1               2  \n",
       "2               2  \n",
       "3               2  \n",
       "4               3  \n",
       "...           ...  \n",
       "42913           2  \n",
       "42914           2  \n",
       "42915           2  \n",
       "42916           2  \n",
       "42917           3  \n",
       "\n",
       "[42918 rows x 6 columns]"
      ]
     },
     "execution_count": 143,
     "metadata": {},
     "output_type": "execute_result"
    }
   ],
   "source": [
    "df2"
   ]
  },
  {
   "cell_type": "markdown",
   "metadata": {},
   "source": [
    "### num_tokens"
   ]
  },
  {
   "cell_type": "code",
   "execution_count": 137,
   "metadata": {},
   "outputs": [],
   "source": [
    "def token_len(name):\n",
    "    total_tokens = 0\n",
    "    tokens = name.split()\n",
    "    # Total number of tokens (words in name)\n",
    "    total_tokens += len(tokens)\n",
    "    return total_tokens\n"
   ]
  },
  {
   "cell_type": "code",
   "execution_count": 142,
   "metadata": {},
   "outputs": [],
   "source": [
    "token_length = []\n",
    "for i in df2['name']:\n",
    "    token_length.append(token_len(i))\n",
    "df2['num_tokens'] = token_length"
   ]
  },
  {
   "cell_type": "code",
   "execution_count": 145,
   "metadata": {},
   "outputs": [
    {
     "data": {
      "text/html": [
       "<div>\n",
       "<style scoped>\n",
       "    .dataframe tbody tr th:only-of-type {\n",
       "        vertical-align: middle;\n",
       "    }\n",
       "\n",
       "    .dataframe tbody tr th {\n",
       "        vertical-align: top;\n",
       "    }\n",
       "\n",
       "    .dataframe thead th {\n",
       "        text-align: right;\n",
       "    }\n",
       "</style>\n",
       "<table border=\"1\" class=\"dataframe\">\n",
       "  <thead>\n",
       "    <tr style=\"text-align: right;\">\n",
       "      <th></th>\n",
       "      <th>name</th>\n",
       "      <th>class</th>\n",
       "      <th>lang</th>\n",
       "      <th>alphabet</th>\n",
       "      <th>avg_token_length</th>\n",
       "      <th>num_tokens</th>\n",
       "    </tr>\n",
       "  </thead>\n",
       "  <tbody>\n",
       "    <tr>\n",
       "      <th>0</th>\n",
       "      <td>Raha Etemadi</td>\n",
       "      <td>1</td>\n",
       "      <td>et</td>\n",
       "      <td>LATIN</td>\n",
       "      <td>5.5</td>\n",
       "      <td>2</td>\n",
       "    </tr>\n",
       "    <tr>\n",
       "      <th>1</th>\n",
       "      <td>Luma Grothe</td>\n",
       "      <td>1</td>\n",
       "      <td>en</td>\n",
       "      <td>LATIN</td>\n",
       "      <td>5.0</td>\n",
       "      <td>2</td>\n",
       "    </tr>\n",
       "    <tr>\n",
       "      <th>2</th>\n",
       "      <td>Takuya Kakine</td>\n",
       "      <td>1</td>\n",
       "      <td>ja</td>\n",
       "      <td>LATIN</td>\n",
       "      <td>6.0</td>\n",
       "      <td>2</td>\n",
       "    </tr>\n",
       "    <tr>\n",
       "      <th>3</th>\n",
       "      <td>Ōuyáng Zhènhuá</td>\n",
       "      <td>1</td>\n",
       "      <td>mi</td>\n",
       "      <td>LATIN</td>\n",
       "      <td>6.5</td>\n",
       "      <td>2</td>\n",
       "    </tr>\n",
       "    <tr>\n",
       "      <th>4</th>\n",
       "      <td>Jordan Gideon Archer</td>\n",
       "      <td>1</td>\n",
       "      <td>en</td>\n",
       "      <td>LATIN</td>\n",
       "      <td>6.0</td>\n",
       "      <td>3</td>\n",
       "    </tr>\n",
       "    <tr>\n",
       "      <th>...</th>\n",
       "      <td>...</td>\n",
       "      <td>...</td>\n",
       "      <td>...</td>\n",
       "      <td>...</td>\n",
       "      <td>...</td>\n",
       "      <td>...</td>\n",
       "    </tr>\n",
       "    <tr>\n",
       "      <th>42913</th>\n",
       "      <td>Clyde Donaldson</td>\n",
       "      <td>1</td>\n",
       "      <td>en</td>\n",
       "      <td>LATIN</td>\n",
       "      <td>7.0</td>\n",
       "      <td>2</td>\n",
       "    </tr>\n",
       "    <tr>\n",
       "      <th>42914</th>\n",
       "      <td>Terry Alexander</td>\n",
       "      <td>1</td>\n",
       "      <td>en</td>\n",
       "      <td>LATIN</td>\n",
       "      <td>7.0</td>\n",
       "      <td>2</td>\n",
       "    </tr>\n",
       "    <tr>\n",
       "      <th>42915</th>\n",
       "      <td>Neil Roebuck</td>\n",
       "      <td>1</td>\n",
       "      <td>en</td>\n",
       "      <td>LATIN</td>\n",
       "      <td>5.5</td>\n",
       "      <td>2</td>\n",
       "    </tr>\n",
       "    <tr>\n",
       "      <th>42916</th>\n",
       "      <td>Lyle Stewart</td>\n",
       "      <td>1</td>\n",
       "      <td>en</td>\n",
       "      <td>LATIN</td>\n",
       "      <td>5.5</td>\n",
       "      <td>2</td>\n",
       "    </tr>\n",
       "    <tr>\n",
       "      <th>42917</th>\n",
       "      <td>Thomas Colclough Watson</td>\n",
       "      <td>1</td>\n",
       "      <td>en</td>\n",
       "      <td>LATIN</td>\n",
       "      <td>7.0</td>\n",
       "      <td>3</td>\n",
       "    </tr>\n",
       "  </tbody>\n",
       "</table>\n",
       "<p>42918 rows × 6 columns</p>\n",
       "</div>"
      ],
      "text/plain": [
       "                          name  class lang alphabet  avg_token_length  \\\n",
       "0                 Raha Etemadi      1   et    LATIN               5.5   \n",
       "1                  Luma Grothe      1   en    LATIN               5.0   \n",
       "2                Takuya Kakine      1   ja    LATIN               6.0   \n",
       "3               Ōuyáng Zhènhuá      1   mi    LATIN               6.5   \n",
       "4         Jordan Gideon Archer      1   en    LATIN               6.0   \n",
       "...                        ...    ...  ...      ...               ...   \n",
       "42913          Clyde Donaldson      1   en    LATIN               7.0   \n",
       "42914          Terry Alexander      1   en    LATIN               7.0   \n",
       "42915             Neil Roebuck      1   en    LATIN               5.5   \n",
       "42916             Lyle Stewart      1   en    LATIN               5.5   \n",
       "42917  Thomas Colclough Watson      1   en    LATIN               7.0   \n",
       "\n",
       "       num_tokens  \n",
       "0               2  \n",
       "1               2  \n",
       "2               2  \n",
       "3               2  \n",
       "4               3  \n",
       "...           ...  \n",
       "42913           2  \n",
       "42914           2  \n",
       "42915           2  \n",
       "42916           2  \n",
       "42917           3  \n",
       "\n",
       "[42918 rows x 6 columns]"
      ]
     },
     "execution_count": 145,
     "metadata": {},
     "output_type": "execute_result"
    }
   ],
   "source": [
    "df2"
   ]
  },
  {
   "cell_type": "markdown",
   "metadata": {},
   "source": [
    "### transliteration"
   ]
  },
  {
   "cell_type": "code",
   "execution_count": null,
   "metadata": {},
   "outputs": [],
   "source": []
  },
  {
   "cell_type": "markdown",
   "metadata": {},
   "source": [
    "### iso"
   ]
  },
  {
   "cell_type": "markdown",
   "metadata": {},
   "source": [
    "### space_frequency"
   ]
  },
  {
   "cell_type": "markdown",
   "metadata": {},
   "source": []
  }
 ],
 "metadata": {
  "kernelspec": {
   "display_name": "base",
   "language": "python",
   "name": "python3"
  },
  "language_info": {
   "codemirror_mode": {
    "name": "ipython",
    "version": 3
   },
   "file_extension": ".py",
   "mimetype": "text/x-python",
   "name": "python",
   "nbconvert_exporter": "python",
   "pygments_lexer": "ipython3",
   "version": "3.11.5"
  },
  "orig_nbformat": 4
 },
 "nbformat": 4,
 "nbformat_minor": 2
}
