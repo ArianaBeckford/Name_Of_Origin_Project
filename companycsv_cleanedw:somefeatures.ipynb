{
 "cells": [
  {
   "cell_type": "markdown",
   "metadata": {},
   "source": [
    "## Cleaning"
   ]
  },
  {
   "cell_type": "code",
   "execution_count": 57,
   "metadata": {},
   "outputs": [
    {
     "data": {
      "text/html": [
       "<div>\n",
       "<style scoped>\n",
       "    .dataframe tbody tr th:only-of-type {\n",
       "        vertical-align: middle;\n",
       "    }\n",
       "\n",
       "    .dataframe tbody tr th {\n",
       "        vertical-align: top;\n",
       "    }\n",
       "\n",
       "    .dataframe thead th {\n",
       "        text-align: right;\n",
       "    }\n",
       "</style>\n",
       "<table border=\"1\" class=\"dataframe\">\n",
       "  <thead>\n",
       "    <tr style=\"text-align: right;\">\n",
       "      <th></th>\n",
       "      <th>name</th>\n",
       "      <th>class</th>\n",
       "      <th>lang</th>\n",
       "    </tr>\n",
       "  </thead>\n",
       "  <tbody>\n",
       "    <tr>\n",
       "      <th>0</th>\n",
       "      <td>The Canal of the Angels</td>\n",
       "      <td>0</td>\n",
       "      <td>en</td>\n",
       "    </tr>\n",
       "    <tr>\n",
       "      <th>1</th>\n",
       "      <td>Rescue Renovation</td>\n",
       "      <td>0</td>\n",
       "      <td>en</td>\n",
       "    </tr>\n",
       "    <tr>\n",
       "      <th>2</th>\n",
       "      <td>Agatha Christie: The ABC Murders</td>\n",
       "      <td>0</td>\n",
       "      <td>en</td>\n",
       "    </tr>\n",
       "    <tr>\n",
       "      <th>3</th>\n",
       "      <td>Siti Akbari</td>\n",
       "      <td>0</td>\n",
       "      <td>ar</td>\n",
       "    </tr>\n",
       "    <tr>\n",
       "      <th>4</th>\n",
       "      <td>Stany</td>\n",
       "      <td>0</td>\n",
       "      <td>pl</td>\n",
       "    </tr>\n",
       "    <tr>\n",
       "      <th>...</th>\n",
       "      <td>...</td>\n",
       "      <td>...</td>\n",
       "      <td>...</td>\n",
       "    </tr>\n",
       "    <tr>\n",
       "      <th>199995</th>\n",
       "      <td>Robber's Bridge</td>\n",
       "      <td>0</td>\n",
       "      <td>en</td>\n",
       "    </tr>\n",
       "    <tr>\n",
       "      <th>199996</th>\n",
       "      <td>Johan Renck</td>\n",
       "      <td>0</td>\n",
       "      <td>en</td>\n",
       "    </tr>\n",
       "    <tr>\n",
       "      <th>199997</th>\n",
       "      <td>Lyle Stewart</td>\n",
       "      <td>1</td>\n",
       "      <td>en</td>\n",
       "    </tr>\n",
       "    <tr>\n",
       "      <th>199998</th>\n",
       "      <td>Thomas Colclough Watson</td>\n",
       "      <td>1</td>\n",
       "      <td>en</td>\n",
       "    </tr>\n",
       "    <tr>\n",
       "      <th>199999</th>\n",
       "      <td>Gavà</td>\n",
       "      <td>0</td>\n",
       "      <td>ca</td>\n",
       "    </tr>\n",
       "  </tbody>\n",
       "</table>\n",
       "<p>200000 rows × 3 columns</p>\n",
       "</div>"
      ],
      "text/plain": [
       "                                    name  class lang\n",
       "0                The Canal of the Angels      0   en\n",
       "1                      Rescue Renovation      0   en\n",
       "2       Agatha Christie: The ABC Murders      0   en\n",
       "3                            Siti Akbari      0   ar\n",
       "4                                  Stany      0   pl\n",
       "...                                  ...    ...  ...\n",
       "199995                   Robber's Bridge      0   en\n",
       "199996                       Johan Renck      0   en\n",
       "199997                      Lyle Stewart      1   en\n",
       "199998           Thomas Colclough Watson      1   en\n",
       "199999                              Gavà      0   ca\n",
       "\n",
       "[200000 rows x 3 columns]"
      ]
     },
     "execution_count": 57,
     "metadata": {},
     "output_type": "execute_result"
    }
   ],
   "source": [
    "import pandas as pd\n",
    "df = pd.read_csv(\"company_person_name_dataset.csv\")\n",
    "df"
   ]
  },
  {
   "cell_type": "code",
   "execution_count": 58,
   "metadata": {},
   "outputs": [],
   "source": [
    "df = df[df[\"class\"]==1]\n",
    "#look into smote for imbalance"
   ]
  },
  {
   "cell_type": "code",
   "execution_count": 59,
   "metadata": {},
   "outputs": [],
   "source": [
    "import numpy as np"
   ]
  },
  {
   "cell_type": "code",
   "execution_count": 60,
   "metadata": {},
   "outputs": [
    {
     "name": "stdout",
     "output_type": "stream",
     "text": [
      "True\n",
      "False\n",
      "False\n"
     ]
    }
   ],
   "source": [
    "print(np.any(df[\"name\"].isnull()))\n",
    "print(np.any(df[\"class\"].isnull()))\n",
    "print(np.any(df[\"lang\"].isnull()))"
   ]
  },
  {
   "cell_type": "code",
   "execution_count": 61,
   "metadata": {},
   "outputs": [
    {
     "name": "stdout",
     "output_type": "stream",
     "text": [
      "48190\n"
     ]
    }
   ],
   "source": [
    "print(len(df.isnull()))"
   ]
  },
  {
   "cell_type": "code",
   "execution_count": 62,
   "metadata": {},
   "outputs": [],
   "source": [
    "df = df.dropna()"
   ]
  },
  {
   "cell_type": "code",
   "execution_count": 63,
   "metadata": {},
   "outputs": [
    {
     "data": {
      "text/html": [
       "<div>\n",
       "<style scoped>\n",
       "    .dataframe tbody tr th:only-of-type {\n",
       "        vertical-align: middle;\n",
       "    }\n",
       "\n",
       "    .dataframe tbody tr th {\n",
       "        vertical-align: top;\n",
       "    }\n",
       "\n",
       "    .dataframe thead th {\n",
       "        text-align: right;\n",
       "    }\n",
       "</style>\n",
       "<table border=\"1\" class=\"dataframe\">\n",
       "  <thead>\n",
       "    <tr style=\"text-align: right;\">\n",
       "      <th></th>\n",
       "      <th>name</th>\n",
       "      <th>class</th>\n",
       "      <th>lang</th>\n",
       "    </tr>\n",
       "  </thead>\n",
       "  <tbody>\n",
       "    <tr>\n",
       "      <th>11</th>\n",
       "      <td>Raha Etemadi</td>\n",
       "      <td>1</td>\n",
       "      <td>et</td>\n",
       "    </tr>\n",
       "    <tr>\n",
       "      <th>12</th>\n",
       "      <td>Leena Peltonen-Palotie</td>\n",
       "      <td>1</td>\n",
       "      <td>fi</td>\n",
       "    </tr>\n",
       "    <tr>\n",
       "      <th>16</th>\n",
       "      <td>Luma Grothe</td>\n",
       "      <td>1</td>\n",
       "      <td>en</td>\n",
       "    </tr>\n",
       "    <tr>\n",
       "      <th>20</th>\n",
       "      <td>Takuya Kakine</td>\n",
       "      <td>1</td>\n",
       "      <td>ja</td>\n",
       "    </tr>\n",
       "    <tr>\n",
       "      <th>21</th>\n",
       "      <td>Ōuyáng Zhènhuá</td>\n",
       "      <td>1</td>\n",
       "      <td>mi</td>\n",
       "    </tr>\n",
       "    <tr>\n",
       "      <th>...</th>\n",
       "      <td>...</td>\n",
       "      <td>...</td>\n",
       "      <td>...</td>\n",
       "    </tr>\n",
       "    <tr>\n",
       "      <th>199976</th>\n",
       "      <td>Clyde Donaldson</td>\n",
       "      <td>1</td>\n",
       "      <td>en</td>\n",
       "    </tr>\n",
       "    <tr>\n",
       "      <th>199980</th>\n",
       "      <td>Terry Alexander</td>\n",
       "      <td>1</td>\n",
       "      <td>en</td>\n",
       "    </tr>\n",
       "    <tr>\n",
       "      <th>199989</th>\n",
       "      <td>Neil Roebuck</td>\n",
       "      <td>1</td>\n",
       "      <td>en</td>\n",
       "    </tr>\n",
       "    <tr>\n",
       "      <th>199997</th>\n",
       "      <td>Lyle Stewart</td>\n",
       "      <td>1</td>\n",
       "      <td>en</td>\n",
       "    </tr>\n",
       "    <tr>\n",
       "      <th>199998</th>\n",
       "      <td>Thomas Colclough Watson</td>\n",
       "      <td>1</td>\n",
       "      <td>en</td>\n",
       "    </tr>\n",
       "  </tbody>\n",
       "</table>\n",
       "<p>47759 rows × 3 columns</p>\n",
       "</div>"
      ],
      "text/plain": [
       "                           name  class lang\n",
       "11                 Raha Etemadi      1   et\n",
       "12       Leena Peltonen-Palotie      1   fi\n",
       "16                  Luma Grothe      1   en\n",
       "20                Takuya Kakine      1   ja\n",
       "21               Ōuyáng Zhènhuá      1   mi\n",
       "...                         ...    ...  ...\n",
       "199976          Clyde Donaldson      1   en\n",
       "199980          Terry Alexander      1   en\n",
       "199989             Neil Roebuck      1   en\n",
       "199997             Lyle Stewart      1   en\n",
       "199998  Thomas Colclough Watson      1   en\n",
       "\n",
       "[47759 rows x 3 columns]"
      ]
     },
     "execution_count": 63,
     "metadata": {},
     "output_type": "execute_result"
    }
   ],
   "source": [
    "df.drop_duplicates()"
   ]
  },
  {
   "cell_type": "code",
   "execution_count": 64,
   "metadata": {},
   "outputs": [],
   "source": [
    "language_counts = df[\"lang\"].value_counts"
   ]
  },
  {
   "cell_type": "code",
   "execution_count": 65,
   "metadata": {},
   "outputs": [
    {
     "name": "stdout",
     "output_type": "stream",
     "text": [
      "Language distribution:\n",
      "<bound method IndexOpsMixin.value_counts of 11        et\n",
      "12        fi\n",
      "16        en\n",
      "20        ja\n",
      "21        mi\n",
      "          ..\n",
      "199976    en\n",
      "199980    en\n",
      "199989    en\n",
      "199997    en\n",
      "199998    en\n",
      "Name: lang, Length: 48188, dtype: object>\n"
     ]
    }
   ],
   "source": [
    "print(\"Language distribution:\")\n",
    "print(language_counts)"
   ]
  },
  {
   "cell_type": "code",
   "execution_count": 66,
   "metadata": {},
   "outputs": [
    {
     "name": "stdout",
     "output_type": "stream",
     "text": [
      "False\n",
      "False\n",
      "False\n",
      "True\n"
     ]
    }
   ],
   "source": [
    "print(np.any(df[\"name\"].isnull()))\n",
    "print(np.any(df[\"class\"].isnull()))\n",
    "print(np.any(df[\"lang\"].isnull()))\n",
    "print(np.any(df.duplicated()))"
   ]
  },
  {
   "cell_type": "code",
   "execution_count": 67,
   "metadata": {},
   "outputs": [],
   "source": [
    "df = df.drop_duplicates()"
   ]
  },
  {
   "cell_type": "code",
   "execution_count": 68,
   "metadata": {},
   "outputs": [
    {
     "name": "stdout",
     "output_type": "stream",
     "text": [
      "False\n"
     ]
    }
   ],
   "source": [
    "print(np.any(df.duplicated()))"
   ]
  },
  {
   "cell_type": "code",
   "execution_count": 69,
   "metadata": {},
   "outputs": [
    {
     "name": "stdout",
     "output_type": "stream",
     "text": [
      "Language distribution:\n",
      "<bound method IndexOpsMixin.value_counts of 11        et\n",
      "12        fi\n",
      "16        en\n",
      "20        ja\n",
      "21        mi\n",
      "          ..\n",
      "199976    en\n",
      "199980    en\n",
      "199989    en\n",
      "199997    en\n",
      "199998    en\n",
      "Name: lang, Length: 48188, dtype: object>\n"
     ]
    }
   ],
   "source": [
    "print(\"Language distribution:\")\n",
    "print(language_counts)"
   ]
  },
  {
   "cell_type": "code",
   "execution_count": 70,
   "metadata": {},
   "outputs": [
    {
     "name": "stdout",
     "output_type": "stream",
     "text": [
      "Language distribution:\n",
      "lang\n",
      "en    23352\n",
      "es     2532\n",
      "it     1224\n",
      "fr     1181\n",
      "ja     1155\n",
      "      ...  \n",
      "my        1\n",
      "sd        1\n",
      "kk        1\n",
      "pa        1\n",
      "si        1\n",
      "Name: count, Length: 103, dtype: int64\n"
     ]
    }
   ],
   "source": [
    "df[\"lang\"] = df[\"lang\"].str.strip()\n",
    "language_counts = df[\"lang\"].value_counts()\n",
    "print(\"Language distribution:\")\n",
    "print(language_counts)"
   ]
  },
  {
   "cell_type": "code",
   "execution_count": null,
   "metadata": {},
   "outputs": [],
   "source": []
  },
  {
   "cell_type": "markdown",
   "metadata": {},
   "source": [
    "## Feature Creation"
   ]
  },
  {
   "cell_type": "code",
   "execution_count": 71,
   "metadata": {},
   "outputs": [
    {
     "name": "stdout",
     "output_type": "stream",
     "text": [
      "                          name  class lang\n",
      "0                 Raha Etemadi      1   et\n",
      "1       Leena Peltonen-Palotie      1   fi\n",
      "2                  Luma Grothe      1   en\n",
      "3                Takuya Kakine      1   ja\n",
      "4               Ōuyáng Zhènhuá      1   mi\n",
      "...                        ...    ...  ...\n",
      "47754          Clyde Donaldson      1   en\n",
      "47755          Terry Alexander      1   en\n",
      "47756             Neil Roebuck      1   en\n",
      "47757             Lyle Stewart      1   en\n",
      "47758  Thomas Colclough Watson      1   en\n",
      "\n",
      "[47759 rows x 3 columns]\n"
     ]
    }
   ],
   "source": [
    "df.reset_index(drop=True, inplace=True)\n",
    "print(df)"
   ]
  },
  {
   "cell_type": "markdown",
   "metadata": {},
   "source": [
    "### accents"
   ]
  },
  {
   "cell_type": "code",
   "execution_count": 72,
   "metadata": {},
   "outputs": [
    {
     "name": "stdout",
     "output_type": "stream",
     "text": [
      "Leters with accents\n"
     ]
    }
   ],
   "source": [
    "from unidecode import unidecode\n",
    "import unicodedata\n",
    "\n",
    "text_with_accents = \"Létérs wïth âccénts\"\n",
    "normalized_text = unidecode(text_with_accents)\n",
    "print(normalized_text)"
   ]
  },
  {
   "cell_type": "code",
   "execution_count": 74,
   "metadata": {},
   "outputs": [
    {
     "data": {
      "text/plain": [
       "'Rick Savage'"
      ]
     },
     "execution_count": 74,
     "metadata": {},
     "output_type": "execute_result"
    }
   ],
   "source": [
    "df['name'][11]"
   ]
  },
  {
   "cell_type": "code",
   "execution_count": 75,
   "metadata": {},
   "outputs": [
    {
     "name": "stdout",
     "output_type": "stream",
     "text": [
      "{'ô', 'ń', '영', 'ề', 'ồ', 'Ö', '홍', 'ļ', '긍', 'Š', 'ೇ', 'ǎ', 'إ', 'ŭ', 'ợ', '헌', 'ź', '녕', '민', 'š', 'ș', 'ớ', '광', '상', '연', 'ṭ', 'Ç', 'ī', 'ύ', 'ǫ', 'ệ', 'ơ', '허', 'ę', 'ė', 'ǐ', 'ế', 'ĩ', 'ý', '권', 'Ř', 'ď', '재', 'ώ', 'É', 'ņ', '겸', 'ё', 'ド', '춘', 'ř', 'ū', 'ằ', 'ì', 'ắ', 'Ľ', 'Å', '이', 'ü', '규', '동', 'Í', 'ù', 'Á', 'ğ', 'ố', 'ģ', '송', 'û', '명', '순', 'é', '김', 'ż', 'ţ', 'ペ', 'ṣ', '섭', 'ǒ', 'ć', 'ḫ', 'ķ', '일', 'й', 'ě', '수', 'έ', 'ụ', '대', 'ư', 'ạ', 'ї', '형', 'ê', 'ů', 'Ѓ', 'ľ', '진', 'ç', 'Ō', 'ί', 'Ó', 'ủ', 'ো', 'ț', 'ë', 'İ', 'ā', 'ữ', 'ừ', 'Ş', '하', 'Ä', '조', '원', 'ē', 'ờ', '석', 'Ḥ', 'ǔ', 'ñ', 'ň', 'ǚ', 'ặ', 'Ú', 'ò', 'ÿ', 'ã', 'ả', 'Â', 'ž', 'ö', 'Ș', 'î', '박', 'ï', '철', 'ọ', '최', 'Ć', 'Ś', 'å', '식', 'ō', 'أ', '태', 'č', 'Ü', 'Ț', 'ấ', 'ῖ', 'ễ', 'ő', '현', '건', 'ῑ', 'Ḫ', 'Č', 'è', 'ú', '노', '랑', 'ứ', 'Ż', '강', '정', 'õ', 'ị', 'ó', 'í', 'á', 'ű', '윤', '신', 'ό', 'ś', 'à', 'ೀ', 'ỹ', 'ä', 'Ṭ', 'â', 'Ž', '보', 'ৌ', 'ũ', 'ş', 'ă', 'ؤ', 'ầ', 'ά', '기', 'ą', '환', 'Ī'}\n",
      "195\n"
     ]
    }
   ],
   "source": [
    "def identify_accents(text):\n",
    "    accents = []\n",
    "    for char in text:\n",
    "        if unicodedata.normalize('NFD', char) != char:\n",
    "            accents.append(char)\n",
    "    return accents\n",
    "allaccents= set()\n",
    "for i in df['name']:\n",
    "    allaccents.update(identify_accents(i))\n",
    "print(allaccents)\n",
    "print(len(allaccents))\n"
   ]
  },
  {
   "cell_type": "code",
   "execution_count": 76,
   "metadata": {},
   "outputs": [
    {
     "data": {
      "text/plain": [
       "False"
      ]
     },
     "execution_count": 76,
     "metadata": {},
     "output_type": "execute_result"
    }
   ],
   "source": [
    "unicodedata.normalize('NFD', '안녕하세요') == '안녕하세요'"
   ]
  },
  {
   "cell_type": "code",
   "execution_count": 77,
   "metadata": {},
   "outputs": [
    {
     "data": {
      "text/plain": [
       "True"
      ]
     },
     "execution_count": 77,
     "metadata": {},
     "output_type": "execute_result"
    }
   ],
   "source": [
    "'안녕하세요' == '안녕하세요'"
   ]
  },
  {
   "cell_type": "markdown",
   "metadata": {},
   "source": [
    "### alphabet"
   ]
  },
  {
   "cell_type": "code",
   "execution_count": 78,
   "metadata": {},
   "outputs": [
    {
     "data": {
      "text/plain": [
       "'LATIN'"
      ]
     },
     "execution_count": 78,
     "metadata": {},
     "output_type": "execute_result"
    }
   ],
   "source": [
    "import unicodedata\n",
    "langname = lambda x : unicodedata.name(x[0]).split(' ')[0]\n",
    "langname('Raha Etemadi')"
   ]
  },
  {
   "cell_type": "code",
   "execution_count": 79,
   "metadata": {},
   "outputs": [
    {
     "name": "stdout",
     "output_type": "stream",
     "text": [
      "{'EQUALS', 'HEBREW', 'HANGUL', 'QUOTATION', 'CYRILLIC', 'DIGIT', 'RIGHT', 'HYPHEN-MINUS', 'SYRIAC', 'ASTERISK', 'GREEK', 'LEFT', 'LESS-THAN', 'MYANMAR', 'ARABIC', 'GURMUKHI', 'TELUGU', 'ARMENIAN', 'SINHALA', 'LATIN', 'THAI', 'KANNADA', 'KATAKANA', 'CJK', 'ETHIOPIC', 'DEVANAGARI', 'APOSTROPHE', 'TAMIL', 'BENGALI'}\n",
      "29\n",
      "271\n"
     ]
    }
   ],
   "source": [
    "alphabet = []\n",
    "for i in df['name']:\n",
    "    alphabet.append(langname(i))\n",
    "\n",
    "print(set(alphabet))\n",
    "print(len(set(alphabet)))\n",
    "\n",
    "print(alphabet.index('CJK'))\n",
    "df['alphabet'] = alphabet\n",
    "\n"
   ]
  },
  {
   "cell_type": "code",
   "execution_count": 80,
   "metadata": {},
   "outputs": [
    {
     "name": "stdout",
     "output_type": "stream",
     "text": [
      "1\n",
      "10\n",
      "3\n",
      "8\n",
      "43\n",
      "14\n",
      "1\n",
      "3\n",
      "1\n",
      "1\n",
      "10\n",
      "109\n",
      "1\n",
      "1\n",
      "55\n",
      "1\n",
      "1\n",
      "3\n",
      "1\n",
      "47317\n",
      "1\n",
      "2\n",
      "1\n",
      "146\n",
      "1\n",
      "15\n",
      "2\n",
      "2\n",
      "5\n"
     ]
    }
   ],
   "source": [
    "for i in set(alphabet):\n",
    "    count = 0\n",
    "    for x,y in enumerate(df['alphabet']):\n",
    "        if str(i) in y:\n",
    "            count += 1\n",
    "            #print(df['name'][x])\n",
    "    print(count)\n",
    "\n",
    "        "
   ]
  },
  {
   "cell_type": "code",
   "execution_count": 81,
   "metadata": {},
   "outputs": [
    {
     "name": "stdout",
     "output_type": "stream",
     "text": [
      "                          name  class lang alphabet\n",
      "0                 Raha Etemadi      1   et    LATIN\n",
      "1       Leena Peltonen-Palotie      1   fi    LATIN\n",
      "2                  Luma Grothe      1   en    LATIN\n",
      "3                Takuya Kakine      1   ja    LATIN\n",
      "4               Ōuyáng Zhènhuá      1   mi    LATIN\n",
      "...                        ...    ...  ...      ...\n",
      "47754          Clyde Donaldson      1   en    LATIN\n",
      "47755          Terry Alexander      1   en    LATIN\n",
      "47756             Neil Roebuck      1   en    LATIN\n",
      "47757             Lyle Stewart      1   en    LATIN\n",
      "47758  Thomas Colclough Watson      1   en    LATIN\n",
      "\n",
      "[47759 rows x 4 columns]\n"
     ]
    }
   ],
   "source": [
    "print(df)"
   ]
  },
  {
   "cell_type": "code",
   "execution_count": 82,
   "metadata": {},
   "outputs": [
    {
     "name": "stdout",
     "output_type": "stream",
     "text": [
      "桑一非\n"
     ]
    }
   ],
   "source": [
    "print(df['name'][271])"
   ]
  },
  {
   "cell_type": "code",
   "execution_count": 83,
   "metadata": {},
   "outputs": [
    {
     "data": {
      "text/plain": [
       "'CJK'"
      ]
     },
     "execution_count": 83,
     "metadata": {},
     "output_type": "execute_result"
    }
   ],
   "source": [
    "df['alphabet'][271]"
   ]
  },
  {
   "cell_type": "markdown",
   "metadata": {},
   "source": [
    "### avg_token_length "
   ]
  },
  {
   "cell_type": "code",
   "execution_count": 93,
   "metadata": {},
   "outputs": [
    {
     "name": "stdout",
     "output_type": "stream",
     "text": [
      "Raha Etemadi\n"
     ]
    }
   ],
   "source": [
    "print(df['name'][0])"
   ]
  },
  {
   "cell_type": "code",
   "execution_count": 102,
   "metadata": {},
   "outputs": [],
   "source": [
    "def average_token_length(name):\n",
    "    total_length = 0\n",
    "    total_tokens = 0\n",
    "    # Tokenize the name (split by spaces)\n",
    "    tokens = name.split()\n",
    "\n",
    "    # Calculate the total length of tokens in the name\n",
    "    token_length = sum(len(token) for token in tokens)\n",
    "\n",
    "    # Total length (characters in each word) and total number of tokens (words in name)\n",
    "    total_length += token_length\n",
    "    total_tokens += len(tokens)\n",
    "    # Calculate the average token length\n",
    "    if total_tokens > 0:\n",
    "        average_length = total_length / total_tokens\n",
    "        return average_length\n",
    "    else:\n",
    "        return 0 \n",
    "    \n",
    "avg_token_length = []\n",
    "for i in df['name']:\n",
    "    avg_token_length.append(average_token_length(i))"
   ]
  },
  {
   "cell_type": "code",
   "execution_count": 103,
   "metadata": {},
   "outputs": [],
   "source": [
    "df['avg_token_length'] = avg_token_length"
   ]
  },
  {
   "cell_type": "code",
   "execution_count": 104,
   "metadata": {},
   "outputs": [
    {
     "name": "stdout",
     "output_type": "stream",
     "text": [
      "                          name  class lang alphabet  avg_token_length\n",
      "0                 Raha Etemadi      1   et    LATIN               5.5\n",
      "1       Leena Peltonen-Palotie      1   fi    LATIN              10.5\n",
      "2                  Luma Grothe      1   en    LATIN               5.0\n",
      "3                Takuya Kakine      1   ja    LATIN               6.0\n",
      "4               Ōuyáng Zhènhuá      1   mi    LATIN               6.5\n",
      "...                        ...    ...  ...      ...               ...\n",
      "47754          Clyde Donaldson      1   en    LATIN               7.0\n",
      "47755          Terry Alexander      1   en    LATIN               7.0\n",
      "47756             Neil Roebuck      1   en    LATIN               5.5\n",
      "47757             Lyle Stewart      1   en    LATIN               5.5\n",
      "47758  Thomas Colclough Watson      1   en    LATIN               7.0\n",
      "\n",
      "[47759 rows x 5 columns]\n"
     ]
    }
   ],
   "source": [
    "print(df)"
   ]
  },
  {
   "cell_type": "code",
   "execution_count": null,
   "metadata": {},
   "outputs": [],
   "source": [
    "for i, x in enumerate(df['alphabet']):\n",
    "    if x == 'LEFT':\n",
    "        print(df.iloc[i,])"
   ]
  },
  {
   "cell_type": "markdown",
   "metadata": {},
   "source": [
    "### token_length"
   ]
  },
  {
   "cell_type": "code",
   "execution_count": 127,
   "metadata": {},
   "outputs": [],
   "source": [
    "def token_len(name):\n",
    "    total_tokens = 0\n",
    "    tokens = name.split()\n",
    "    # Total number of tokens (words in name)\n",
    "    total_tokens += len(tokens)\n",
    "    return total_tokens\n"
   ]
  },
  {
   "cell_type": "code",
   "execution_count": 131,
   "metadata": {},
   "outputs": [],
   "source": [
    "token_length = []\n",
    "for i in df['name']:\n",
    "    token_length.append(token_len(i))\n",
    "df['token_length'] = token_length"
   ]
  },
  {
   "cell_type": "code",
   "execution_count": 133,
   "metadata": {},
   "outputs": [
    {
     "data": {
      "text/html": [
       "<div>\n",
       "<style scoped>\n",
       "    .dataframe tbody tr th:only-of-type {\n",
       "        vertical-align: middle;\n",
       "    }\n",
       "\n",
       "    .dataframe tbody tr th {\n",
       "        vertical-align: top;\n",
       "    }\n",
       "\n",
       "    .dataframe thead th {\n",
       "        text-align: right;\n",
       "    }\n",
       "</style>\n",
       "<table border=\"1\" class=\"dataframe\">\n",
       "  <thead>\n",
       "    <tr style=\"text-align: right;\">\n",
       "      <th></th>\n",
       "      <th>name</th>\n",
       "      <th>class</th>\n",
       "      <th>lang</th>\n",
       "      <th>alphabet</th>\n",
       "      <th>avg_token_length</th>\n",
       "      <th>token_length</th>\n",
       "    </tr>\n",
       "  </thead>\n",
       "  <tbody>\n",
       "    <tr>\n",
       "      <th>0</th>\n",
       "      <td>Raha Etemadi</td>\n",
       "      <td>1</td>\n",
       "      <td>et</td>\n",
       "      <td>LATIN</td>\n",
       "      <td>5.5</td>\n",
       "      <td>2</td>\n",
       "    </tr>\n",
       "    <tr>\n",
       "      <th>1</th>\n",
       "      <td>Leena Peltonen-Palotie</td>\n",
       "      <td>1</td>\n",
       "      <td>fi</td>\n",
       "      <td>LATIN</td>\n",
       "      <td>10.5</td>\n",
       "      <td>2</td>\n",
       "    </tr>\n",
       "    <tr>\n",
       "      <th>2</th>\n",
       "      <td>Luma Grothe</td>\n",
       "      <td>1</td>\n",
       "      <td>en</td>\n",
       "      <td>LATIN</td>\n",
       "      <td>5.0</td>\n",
       "      <td>2</td>\n",
       "    </tr>\n",
       "    <tr>\n",
       "      <th>3</th>\n",
       "      <td>Takuya Kakine</td>\n",
       "      <td>1</td>\n",
       "      <td>ja</td>\n",
       "      <td>LATIN</td>\n",
       "      <td>6.0</td>\n",
       "      <td>2</td>\n",
       "    </tr>\n",
       "    <tr>\n",
       "      <th>4</th>\n",
       "      <td>Ōuyáng Zhènhuá</td>\n",
       "      <td>1</td>\n",
       "      <td>mi</td>\n",
       "      <td>LATIN</td>\n",
       "      <td>6.5</td>\n",
       "      <td>2</td>\n",
       "    </tr>\n",
       "  </tbody>\n",
       "</table>\n",
       "</div>"
      ],
      "text/plain": [
       "                     name  class lang alphabet  avg_token_length  token_length\n",
       "0            Raha Etemadi      1   et    LATIN               5.5             2\n",
       "1  Leena Peltonen-Palotie      1   fi    LATIN              10.5             2\n",
       "2             Luma Grothe      1   en    LATIN               5.0             2\n",
       "3           Takuya Kakine      1   ja    LATIN               6.0             2\n",
       "4          Ōuyáng Zhènhuá      1   mi    LATIN               6.5             2"
      ]
     },
     "execution_count": 133,
     "metadata": {},
     "output_type": "execute_result"
    }
   ],
   "source": [
    "df.head()"
   ]
  },
  {
   "cell_type": "markdown",
   "metadata": {},
   "source": [
    "### transliteration"
   ]
  },
  {
   "cell_type": "markdown",
   "metadata": {},
   "source": [
    "### iso"
   ]
  },
  {
   "cell_type": "markdown",
   "metadata": {},
   "source": [
    "### period_freq, dash_freq, apostrophe_freq"
   ]
  }
 ],
 "metadata": {
  "kernelspec": {
   "display_name": "base",
   "language": "python",
   "name": "python3"
  },
  "language_info": {
   "codemirror_mode": {
    "name": "ipython",
    "version": 3
   },
   "file_extension": ".py",
   "mimetype": "text/x-python",
   "name": "python",
   "nbconvert_exporter": "python",
   "pygments_lexer": "ipython3",
   "version": "3.11.5"
  },
  "orig_nbformat": 4
 },
 "nbformat": 4,
 "nbformat_minor": 2
}
