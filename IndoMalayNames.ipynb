{
 "cells": [
  {
   "cell_type": "code",
   "execution_count": 1,
   "id": "9ce57351-b62e-4a49-9666-aa41fd4ab033",
   "metadata": {},
   "outputs": [],
   "source": [
    "import pandas as pd\n",
    "import numpy as np\n",
    "\n",
    "# Feature engineering\n",
    "import unicodedata\n",
    "from nltk import ngrams\n",
    "from unidecode import unidecode"
   ]
  },
  {
   "cell_type": "markdown",
   "id": "6ce5ad2f",
   "metadata": {},
   "source": [
    "## Data Cleaning"
   ]
  },
  {
   "cell_type": "markdown",
   "id": "da6973de",
   "metadata": {},
   "source": [
    "### Cleaning Indonesian Dataset"
   ]
  },
  {
   "cell_type": "markdown",
   "id": "ffab1f19",
   "metadata": {},
   "source": [
    "We have two Indonesian datasets, so let's compare them:"
   ]
  },
  {
   "cell_type": "code",
   "execution_count": 2,
   "id": "cf99b135",
   "metadata": {},
   "outputs": [
    {
     "data": {
      "text/html": [
       "<div>\n",
       "<style scoped>\n",
       "    .dataframe tbody tr th:only-of-type {\n",
       "        vertical-align: middle;\n",
       "    }\n",
       "\n",
       "    .dataframe tbody tr th {\n",
       "        vertical-align: top;\n",
       "    }\n",
       "\n",
       "    .dataframe thead th {\n",
       "        text-align: right;\n",
       "    }\n",
       "</style>\n",
       "<table border=\"1\" class=\"dataframe\">\n",
       "  <thead>\n",
       "    <tr style=\"text-align: right;\">\n",
       "      <th></th>\n",
       "      <th>Unnamed: 0</th>\n",
       "      <th>fullname</th>\n",
       "      <th>Family name</th>\n",
       "      <th>Given name</th>\n",
       "    </tr>\n",
       "  </thead>\n",
       "  <tbody>\n",
       "    <tr>\n",
       "      <th>0</th>\n",
       "      <td>http://www.wikidata.org/entity/Q7313790</td>\n",
       "      <td>Bertrand Antolin</td>\n",
       "      <td>NaN</td>\n",
       "      <td>NaN</td>\n",
       "    </tr>\n",
       "    <tr>\n",
       "      <th>1</th>\n",
       "      <td>http://www.wikidata.org/entity/Q15138877</td>\n",
       "      <td>Ray Rizal</td>\n",
       "      <td>NaN</td>\n",
       "      <td>NaN</td>\n",
       "    </tr>\n",
       "    <tr>\n",
       "      <th>2</th>\n",
       "      <td>http://www.wikidata.org/entity/Q17411237</td>\n",
       "      <td>Samsuridjal Djauzi</td>\n",
       "      <td>NaN</td>\n",
       "      <td>NaN</td>\n",
       "    </tr>\n",
       "    <tr>\n",
       "      <th>3</th>\n",
       "      <td>http://www.wikidata.org/entity/Q12497619</td>\n",
       "      <td>Max Arifin</td>\n",
       "      <td>NaN</td>\n",
       "      <td>NaN</td>\n",
       "    </tr>\n",
       "    <tr>\n",
       "      <th>4</th>\n",
       "      <td>http://www.wikidata.org/entity/Q7475963</td>\n",
       "      <td>Donita</td>\n",
       "      <td>NaN</td>\n",
       "      <td>NaN</td>\n",
       "    </tr>\n",
       "  </tbody>\n",
       "</table>\n",
       "</div>"
      ],
      "text/plain": [
       "                                 Unnamed: 0            fullname  Family name  \\\n",
       "0   http://www.wikidata.org/entity/Q7313790    Bertrand Antolin          NaN   \n",
       "1  http://www.wikidata.org/entity/Q15138877           Ray Rizal          NaN   \n",
       "2  http://www.wikidata.org/entity/Q17411237  Samsuridjal Djauzi          NaN   \n",
       "3  http://www.wikidata.org/entity/Q12497619          Max Arifin          NaN   \n",
       "4   http://www.wikidata.org/entity/Q7475963              Donita          NaN   \n",
       "\n",
       "   Given name  \n",
       "0         NaN  \n",
       "1         NaN  \n",
       "2         NaN  \n",
       "3         NaN  \n",
       "4         NaN  "
      ]
     },
     "execution_count": 2,
     "metadata": {},
     "output_type": "execute_result"
    }
   ],
   "source": [
    "# Inspecting first Indonesian dataset\n",
    "df_indo_1 = pd.read_excel('name_data/exigerData/EXGR_Indonesian names.xlsx')\n",
    "df_indo_1.head()"
   ]
  },
  {
   "cell_type": "code",
   "execution_count": 3,
   "id": "600905e4",
   "metadata": {},
   "outputs": [
    {
     "data": {
      "text/html": [
       "<div>\n",
       "<style scoped>\n",
       "    .dataframe tbody tr th:only-of-type {\n",
       "        vertical-align: middle;\n",
       "    }\n",
       "\n",
       "    .dataframe tbody tr th {\n",
       "        vertical-align: top;\n",
       "    }\n",
       "\n",
       "    .dataframe thead th {\n",
       "        text-align: right;\n",
       "    }\n",
       "</style>\n",
       "<table border=\"1\" class=\"dataframe\">\n",
       "  <thead>\n",
       "    <tr style=\"text-align: right;\">\n",
       "      <th></th>\n",
       "      <th>Unnamed: 0</th>\n",
       "      <th>fullname</th>\n",
       "      <th>Family name</th>\n",
       "      <th>Given name</th>\n",
       "      <th>Designation</th>\n",
       "      <th>Comment</th>\n",
       "      <th>Unnamed: 6</th>\n",
       "      <th>Unnamed: 7</th>\n",
       "    </tr>\n",
       "  </thead>\n",
       "  <tbody>\n",
       "    <tr>\n",
       "      <th>0</th>\n",
       "      <td>http://www.wikidata.org/entity/Q7475963</td>\n",
       "      <td>Donita</td>\n",
       "      <td>NaN</td>\n",
       "      <td>Donita</td>\n",
       "      <td>NaN</td>\n",
       "      <td>It is common for Indonesians to have only 1 gi...</td>\n",
       "      <td>NaN</td>\n",
       "      <td>1</td>\n",
       "    </tr>\n",
       "    <tr>\n",
       "      <th>1</th>\n",
       "      <td>http://www.wikidata.org/entity/Q7645143</td>\n",
       "      <td>Supriyadi</td>\n",
       "      <td>NaN</td>\n",
       "      <td>Supriyadi</td>\n",
       "      <td>NaN</td>\n",
       "      <td>NaN</td>\n",
       "      <td>NaN</td>\n",
       "      <td>1</td>\n",
       "    </tr>\n",
       "    <tr>\n",
       "      <th>2</th>\n",
       "      <td>http://www.wikidata.org/entity/Q7844727</td>\n",
       "      <td>Triyaningsih</td>\n",
       "      <td>NaN</td>\n",
       "      <td>Triyaningsih</td>\n",
       "      <td>NaN</td>\n",
       "      <td>NaN</td>\n",
       "      <td>NaN</td>\n",
       "      <td>1</td>\n",
       "    </tr>\n",
       "    <tr>\n",
       "      <th>3</th>\n",
       "      <td>http://www.wikidata.org/entity/Q12515781</td>\n",
       "      <td>Soerjadi</td>\n",
       "      <td>NaN</td>\n",
       "      <td>Soerjadi</td>\n",
       "      <td>NaN</td>\n",
       "      <td>NaN</td>\n",
       "      <td>NaN</td>\n",
       "      <td>1</td>\n",
       "    </tr>\n",
       "    <tr>\n",
       "      <th>4</th>\n",
       "      <td>http://www.wikidata.org/entity/Q12523244</td>\n",
       "      <td>Undunsyah</td>\n",
       "      <td>NaN</td>\n",
       "      <td>Undunsyah</td>\n",
       "      <td>NaN</td>\n",
       "      <td>NaN</td>\n",
       "      <td>NaN</td>\n",
       "      <td>1</td>\n",
       "    </tr>\n",
       "  </tbody>\n",
       "</table>\n",
       "</div>"
      ],
      "text/plain": [
       "                                 Unnamed: 0      fullname Family name  \\\n",
       "0   http://www.wikidata.org/entity/Q7475963        Donita         NaN   \n",
       "1   http://www.wikidata.org/entity/Q7645143     Supriyadi         NaN   \n",
       "2   http://www.wikidata.org/entity/Q7844727  Triyaningsih         NaN   \n",
       "3  http://www.wikidata.org/entity/Q12515781      Soerjadi         NaN   \n",
       "4  http://www.wikidata.org/entity/Q12523244     Undunsyah         NaN   \n",
       "\n",
       "     Given name Designation  \\\n",
       "0        Donita         NaN   \n",
       "1     Supriyadi         NaN   \n",
       "2  Triyaningsih         NaN   \n",
       "3      Soerjadi         NaN   \n",
       "4     Undunsyah         NaN   \n",
       "\n",
       "                                             Comment  Unnamed: 6  Unnamed: 7  \n",
       "0  It is common for Indonesians to have only 1 gi...         NaN           1  \n",
       "1                                                NaN         NaN           1  \n",
       "2                                                NaN         NaN           1  \n",
       "3                                                NaN         NaN           1  \n",
       "4                                                NaN         NaN           1  "
      ]
     },
     "execution_count": 3,
     "metadata": {},
     "output_type": "execute_result"
    }
   ],
   "source": [
    "# Inspecting second Indonesian dataset\n",
    "df_indo_2 = pd.read_excel('name_data/exigerData/EXGR_Indonesian names-2.xlsx')\n",
    "df_indo_2.head()"
   ]
  },
  {
   "cell_type": "markdown",
   "id": "1d9ed3fa",
   "metadata": {},
   "source": [
    "Are the names in the datasets the same?"
   ]
  },
  {
   "cell_type": "code",
   "execution_count": 4,
   "id": "63d4d27c",
   "metadata": {},
   "outputs": [
    {
     "name": "stdout",
     "output_type": "stream",
     "text": [
      "Names are not the same\n"
     ]
    }
   ],
   "source": [
    "try:\n",
    "    pd.testing.assert_series_equal(df_indo_1['fullname'], df_indo_2['fullname'], check_like = True)\n",
    "except:\n",
    "    print(\"Names are not the same\")"
   ]
  },
  {
   "cell_type": "markdown",
   "id": "6ad79993",
   "metadata": {},
   "source": [
    "We will investigate this further later. For now, let's look at the comments in `df_indo_2`:"
   ]
  },
  {
   "cell_type": "code",
   "execution_count": 5,
   "id": "f16b0a56",
   "metadata": {},
   "outputs": [
    {
     "name": "stdout",
     "output_type": "stream",
     "text": [
      "['It is common for Indonesians to have only 1 given name without family name.'\n",
      " nan 'Real name: Mike Lucock'\n",
      " 'This is a Javanese ancient name. The name is not used anymore. This person lived in 1028 - 1035.'\n",
      " 'Royal family name of Java identified by the designation name.']\n",
      "\n",
      "Number of names with comments: 34\n"
     ]
    },
    {
     "data": {
      "text/plain": [
       "(21727, 8)"
      ]
     },
     "execution_count": 5,
     "metadata": {},
     "output_type": "execute_result"
    }
   ],
   "source": [
    "print(df_indo_2['Comment'].unique()[:5])\n",
    "print('\\nNumber of names with comments:', len(df_indo_2['Comment'].unique()))\n",
    "df_indo_2.shape"
   ]
  },
  {
   "cell_type": "markdown",
   "id": "332b7f61",
   "metadata": {},
   "source": [
    "Since these names seem uncommon exceptions and there are only a few of them, we will remove them to make the data cleaner:"
   ]
  },
  {
   "cell_type": "code",
   "execution_count": 6,
   "id": "4290710b",
   "metadata": {},
   "outputs": [
    {
     "name": "stdout",
     "output_type": "stream",
     "text": [
      "(21689, 8)\n"
     ]
    },
    {
     "data": {
      "text/plain": [
       "array([nan], dtype=object)"
      ]
     },
     "execution_count": 6,
     "metadata": {},
     "output_type": "execute_result"
    }
   ],
   "source": [
    "df_indo_2 = df_indo_2[pd.isnull(df_indo_2['Comment'])]\n",
    "df_indo_2.reset_index()\n",
    "print(df_indo_2.shape)\n",
    "df_indo_2['Comment'].unique()"
   ]
  },
  {
   "cell_type": "markdown",
   "id": "e396edbd",
   "metadata": {},
   "source": [
    "Making dataframes consist only of the `fullname` column:"
   ]
  },
  {
   "cell_type": "code",
   "execution_count": 7,
   "id": "41dfc56a",
   "metadata": {},
   "outputs": [
    {
     "name": "stdout",
     "output_type": "stream",
     "text": [
      "df_indo_1 shape: (21730, 1)\n",
      "df_indo_2 shape: (21689, 1)\n"
     ]
    }
   ],
   "source": [
    "df_indo_1 = pd.DataFrame(df_indo_1['fullname'])\n",
    "df_indo_2 = pd.DataFrame(df_indo_2['fullname'])\n",
    "print('df_indo_1 shape:', df_indo_1.shape)\n",
    "print('df_indo_2 shape:', df_indo_2.shape)"
   ]
  },
  {
   "cell_type": "markdown",
   "id": "347e5282",
   "metadata": {},
   "source": [
    "Combining both dataframes into `df_indo`:"
   ]
  },
  {
   "cell_type": "code",
   "execution_count": 8,
   "id": "eb9512b5",
   "metadata": {},
   "outputs": [
    {
     "name": "stdout",
     "output_type": "stream",
     "text": [
      "Shape of combined data: (43419, 1)\n"
     ]
    },
    {
     "data": {
      "text/html": [
       "<div>\n",
       "<style scoped>\n",
       "    .dataframe tbody tr th:only-of-type {\n",
       "        vertical-align: middle;\n",
       "    }\n",
       "\n",
       "    .dataframe tbody tr th {\n",
       "        vertical-align: top;\n",
       "    }\n",
       "\n",
       "    .dataframe thead th {\n",
       "        text-align: right;\n",
       "    }\n",
       "</style>\n",
       "<table border=\"1\" class=\"dataframe\">\n",
       "  <thead>\n",
       "    <tr style=\"text-align: right;\">\n",
       "      <th></th>\n",
       "      <th>fullname</th>\n",
       "    </tr>\n",
       "  </thead>\n",
       "  <tbody>\n",
       "    <tr>\n",
       "      <th>0</th>\n",
       "      <td>Bertrand Antolin</td>\n",
       "    </tr>\n",
       "    <tr>\n",
       "      <th>1</th>\n",
       "      <td>Ray Rizal</td>\n",
       "    </tr>\n",
       "    <tr>\n",
       "      <th>2</th>\n",
       "      <td>Samsuridjal Djauzi</td>\n",
       "    </tr>\n",
       "    <tr>\n",
       "      <th>3</th>\n",
       "      <td>Max Arifin</td>\n",
       "    </tr>\n",
       "    <tr>\n",
       "      <th>4</th>\n",
       "      <td>Donita</td>\n",
       "    </tr>\n",
       "  </tbody>\n",
       "</table>\n",
       "</div>"
      ],
      "text/plain": [
       "             fullname\n",
       "0    Bertrand Antolin\n",
       "1           Ray Rizal\n",
       "2  Samsuridjal Djauzi\n",
       "3          Max Arifin\n",
       "4              Donita"
      ]
     },
     "execution_count": 8,
     "metadata": {},
     "output_type": "execute_result"
    }
   ],
   "source": [
    "# Combining datasets\n",
    "df_indo = pd.concat([df_indo_1, df_indo_2], ignore_index = True)\n",
    "print('Shape of combined data:', df_indo.shape)\n",
    "df_indo.head()"
   ]
  },
  {
   "cell_type": "markdown",
   "id": "b323e0f0",
   "metadata": {},
   "source": [
    "Looking for duplicate entries:"
   ]
  },
  {
   "cell_type": "code",
   "execution_count": 9,
   "id": "a9828ea6",
   "metadata": {},
   "outputs": [
    {
     "name": "stdout",
     "output_type": "stream",
     "text": [
      "32085\n"
     ]
    }
   ],
   "source": [
    "print(len(df_indo[df_indo.duplicated()]))"
   ]
  },
  {
   "cell_type": "markdown",
   "id": "b9873096",
   "metadata": {},
   "source": [
    "Since around 3/4 of the combined data consists of duplicate entries, the datasets are very similar. Let's just use `df_indo_2` since we removed the names with comments from it:"
   ]
  },
  {
   "cell_type": "code",
   "execution_count": 10,
   "id": "71064491",
   "metadata": {},
   "outputs": [
    {
     "name": "stdout",
     "output_type": "stream",
     "text": [
      "(21689, 1)\n"
     ]
    },
    {
     "data": {
      "text/html": [
       "<div>\n",
       "<style scoped>\n",
       "    .dataframe tbody tr th:only-of-type {\n",
       "        vertical-align: middle;\n",
       "    }\n",
       "\n",
       "    .dataframe tbody tr th {\n",
       "        vertical-align: top;\n",
       "    }\n",
       "\n",
       "    .dataframe thead th {\n",
       "        text-align: right;\n",
       "    }\n",
       "</style>\n",
       "<table border=\"1\" class=\"dataframe\">\n",
       "  <thead>\n",
       "    <tr style=\"text-align: right;\">\n",
       "      <th></th>\n",
       "      <th>fullname</th>\n",
       "    </tr>\n",
       "  </thead>\n",
       "  <tbody>\n",
       "    <tr>\n",
       "      <th>1</th>\n",
       "      <td>Supriyadi</td>\n",
       "    </tr>\n",
       "    <tr>\n",
       "      <th>2</th>\n",
       "      <td>Triyaningsih</td>\n",
       "    </tr>\n",
       "    <tr>\n",
       "      <th>3</th>\n",
       "      <td>Soerjadi</td>\n",
       "    </tr>\n",
       "    <tr>\n",
       "      <th>4</th>\n",
       "      <td>Undunsyah</td>\n",
       "    </tr>\n",
       "    <tr>\n",
       "      <th>5</th>\n",
       "      <td>Soeripto</td>\n",
       "    </tr>\n",
       "  </tbody>\n",
       "</table>\n",
       "</div>"
      ],
      "text/plain": [
       "       fullname\n",
       "1     Supriyadi\n",
       "2  Triyaningsih\n",
       "3      Soerjadi\n",
       "4     Undunsyah\n",
       "5      Soeripto"
      ]
     },
     "execution_count": 10,
     "metadata": {},
     "output_type": "execute_result"
    }
   ],
   "source": [
    "df_indo = df_indo_2\n",
    "print(df_indo.shape)\n",
    "df_indo.head()"
   ]
  },
  {
   "cell_type": "markdown",
   "id": "908e29e3",
   "metadata": {},
   "source": [
    "Are there duplicates?"
   ]
  },
  {
   "cell_type": "code",
   "execution_count": 11,
   "id": "9615735a",
   "metadata": {},
   "outputs": [
    {
     "data": {
      "text/plain": [
       "10376"
      ]
     },
     "execution_count": 11,
     "metadata": {},
     "output_type": "execute_result"
    }
   ],
   "source": [
    "len(df_indo[df_indo.duplicated()])"
   ]
  },
  {
   "cell_type": "markdown",
   "id": "466df5f9",
   "metadata": {},
   "source": [
    "Let's drop them:"
   ]
  },
  {
   "cell_type": "code",
   "execution_count": 12,
   "id": "11d699e9",
   "metadata": {},
   "outputs": [
    {
     "name": "stdout",
     "output_type": "stream",
     "text": [
      "False\n"
     ]
    },
    {
     "data": {
      "text/plain": [
       "(11313, 1)"
      ]
     },
     "execution_count": 12,
     "metadata": {},
     "output_type": "execute_result"
    }
   ],
   "source": [
    "# Dropping duplicates\n",
    "df_indo.drop_duplicates(inplace = True, ignore_index = True)\n",
    "print(np.any(df_indo.duplicated()))\n",
    "df_indo.shape"
   ]
  },
  {
   "cell_type": "markdown",
   "id": "468c4496",
   "metadata": {},
   "source": [
    "Let's see if there are any null entries for `fullname`:"
   ]
  },
  {
   "cell_type": "code",
   "execution_count": 13,
   "id": "a63ef18a",
   "metadata": {},
   "outputs": [
    {
     "data": {
      "text/plain": [
       "False"
      ]
     },
     "execution_count": 13,
     "metadata": {},
     "output_type": "execute_result"
    }
   ],
   "source": [
    "np.any(df_indo['fullname'].isnull())"
   ]
  },
  {
   "cell_type": "markdown",
   "id": "4485a137",
   "metadata": {},
   "source": [
    "What about entries that aren't alphanumeric aside from spaces?"
   ]
  },
  {
   "cell_type": "code",
   "execution_count": 14,
   "id": "672d2a28",
   "metadata": {},
   "outputs": [
    {
     "name": "stdout",
     "output_type": "stream",
     "text": [
      "590\n"
     ]
    },
    {
     "data": {
      "text/plain": [
       "['I. B. Rai Dharmawijaya Mantra',\n",
       " 'Mansoer Daoed Dt. Palimo Kayo',\n",
       " 'Habib Anis bin Alwi al-Habsyi',\n",
       " 'Abu Bakar (bupati Bandung Barat)',\n",
       " 'Muhammad Arsyad (pemain sepak bola)',\n",
       " 'Muhammad Hamzah (personil The Fly)',\n",
       " 'A. A. Ngurah Oka Ratmadi',\n",
       " 'Firmansyah (pemain sepak bola kelahiran 1995)',\n",
       " 'Mayjen TNI (Purn) Thomas Albert Umboh',\n",
       " 'Prof. Dr. Ir. Antonius Suwanto, M.Sc']"
      ]
     },
     "execution_count": 14,
     "metadata": {},
     "output_type": "execute_result"
    }
   ],
   "source": [
    "non_alnum_names_indo = [name for name in df_indo['fullname'] if not str.isalnum(name.replace(' ', ''))]\n",
    "print(len(non_alnum_names_indo))\n",
    "non_alnum_names_indo[-10:]"
   ]
  },
  {
   "cell_type": "markdown",
   "id": "f4a768ae",
   "metadata": {},
   "source": [
    "Some names have parentheses. Let's see exactly how many:"
   ]
  },
  {
   "cell_type": "code",
   "execution_count": 15,
   "id": "75e3a3b0",
   "metadata": {},
   "outputs": [
    {
     "name": "stdout",
     "output_type": "stream",
     "text": [
      "67\n"
     ]
    },
    {
     "data": {
      "text/plain": [
       "['Basuki (pelawak)',\n",
       " 'Mulyadi (politisi)',\n",
       " 'Fatahillah (politisi)',\n",
       " 'Trinity (penulis)',\n",
       " 'Mentari (aktris)']"
      ]
     },
     "execution_count": 15,
     "metadata": {},
     "output_type": "execute_result"
    }
   ],
   "source": [
    "paren_names_indo = [name for name in df_indo['fullname'] if name.find('(') != -1]\n",
    "print(len(paren_names_indo))\n",
    "paren_names_indo[:5]"
   ]
  },
  {
   "cell_type": "markdown",
   "id": "e8a3ebaf",
   "metadata": {},
   "source": [
    "Removing the parentheses from the names and seeing how many names are non-alphanumeric:"
   ]
  },
  {
   "cell_type": "code",
   "execution_count": 16,
   "id": "37948bcb",
   "metadata": {},
   "outputs": [
    {
     "name": "stdout",
     "output_type": "stream",
     "text": [
      "527\n"
     ]
    }
   ],
   "source": [
    "df_indo['fullname'] = df_indo['fullname'].apply(lambda name: name if name.find('(') == -1 else name[:name.find('(') - 1])\n",
    "non_alnum_names_indo = [name for name in df_indo['fullname'] if not str.isalnum(name.replace(' ', ''))]\n",
    "print(len(non_alnum_names_indo))"
   ]
  },
  {
   "cell_type": "markdown",
   "id": "71573775",
   "metadata": {},
   "source": [
    "The number of names left isn't exactly 590 - 67 = 523 because some names with parentheses had other punctuation in it. Let's double check that there are no names with parentheses in the `fullname` column:"
   ]
  },
  {
   "cell_type": "code",
   "execution_count": 17,
   "id": "d14b22c3",
   "metadata": {},
   "outputs": [
    {
     "name": "stdout",
     "output_type": "stream",
     "text": [
      "[]\n",
      "[]\n"
     ]
    }
   ],
   "source": [
    "print([name for name in df_indo['fullname'] if name.find('(') != -1])\n",
    "print([name for name in df_indo['fullname'] if name.find(')') != -1])"
   ]
  },
  {
   "cell_type": "markdown",
   "id": "e4ecad8b",
   "metadata": {},
   "source": [
    "It's possible that we have some duplicate names after removing parentheses, so let's check for that:"
   ]
  },
  {
   "cell_type": "code",
   "execution_count": 18,
   "id": "42335776",
   "metadata": {},
   "outputs": [
    {
     "name": "stdout",
     "output_type": "stream",
     "text": [
      "63\n",
      "(11313, 1)\n"
     ]
    },
    {
     "data": {
      "text/html": [
       "<div>\n",
       "<style scoped>\n",
       "    .dataframe tbody tr th:only-of-type {\n",
       "        vertical-align: middle;\n",
       "    }\n",
       "\n",
       "    .dataframe tbody tr th {\n",
       "        vertical-align: top;\n",
       "    }\n",
       "\n",
       "    .dataframe thead th {\n",
       "        text-align: right;\n",
       "    }\n",
       "</style>\n",
       "<table border=\"1\" class=\"dataframe\">\n",
       "  <thead>\n",
       "    <tr style=\"text-align: right;\">\n",
       "      <th></th>\n",
       "      <th>fullname</th>\n",
       "    </tr>\n",
       "  </thead>\n",
       "  <tbody>\n",
       "    <tr>\n",
       "      <th>1676</th>\n",
       "      <td>Basuki</td>\n",
       "    </tr>\n",
       "    <tr>\n",
       "      <th>1810</th>\n",
       "      <td>Mulyadi</td>\n",
       "    </tr>\n",
       "    <tr>\n",
       "      <th>2716</th>\n",
       "      <td>Fatahillah</td>\n",
       "    </tr>\n",
       "    <tr>\n",
       "      <th>3080</th>\n",
       "      <td>Trinity</td>\n",
       "    </tr>\n",
       "    <tr>\n",
       "      <th>4798</th>\n",
       "      <td>Mentari</td>\n",
       "    </tr>\n",
       "    <tr>\n",
       "      <th>...</th>\n",
       "      <td>...</td>\n",
       "    </tr>\n",
       "    <tr>\n",
       "      <th>11285</th>\n",
       "      <td>Abu Bakar</td>\n",
       "    </tr>\n",
       "    <tr>\n",
       "      <th>11286</th>\n",
       "      <td>Muhammad Arsyad</td>\n",
       "    </tr>\n",
       "    <tr>\n",
       "      <th>11288</th>\n",
       "      <td>Muhammad Hamzah</td>\n",
       "    </tr>\n",
       "    <tr>\n",
       "      <th>11300</th>\n",
       "      <td>Firmansyah</td>\n",
       "    </tr>\n",
       "    <tr>\n",
       "      <th>11308</th>\n",
       "      <td>Mayjen TNI</td>\n",
       "    </tr>\n",
       "  </tbody>\n",
       "</table>\n",
       "<p>63 rows × 1 columns</p>\n",
       "</div>"
      ],
      "text/plain": [
       "              fullname\n",
       "1676            Basuki\n",
       "1810           Mulyadi\n",
       "2716        Fatahillah\n",
       "3080           Trinity\n",
       "4798           Mentari\n",
       "...                ...\n",
       "11285        Abu Bakar\n",
       "11286  Muhammad Arsyad\n",
       "11288  Muhammad Hamzah\n",
       "11300       Firmansyah\n",
       "11308       Mayjen TNI\n",
       "\n",
       "[63 rows x 1 columns]"
      ]
     },
     "execution_count": 18,
     "metadata": {},
     "output_type": "execute_result"
    }
   ],
   "source": [
    "print(len(df_indo[df_indo.duplicated()]))\n",
    "print(df_indo.shape)\n",
    "df_indo[df_indo.duplicated()]"
   ]
  },
  {
   "cell_type": "markdown",
   "id": "c7fcdaed",
   "metadata": {},
   "source": [
    "Removing leading and trailing whitespace from names just in case:"
   ]
  },
  {
   "cell_type": "code",
   "execution_count": 19,
   "id": "5a5fff8d",
   "metadata": {},
   "outputs": [],
   "source": [
    "df_indo['fullname'] = df_indo['fullname'].apply(str.strip)"
   ]
  },
  {
   "cell_type": "markdown",
   "id": "0ed2b094",
   "metadata": {},
   "source": [
    "Removing duplicates again:"
   ]
  },
  {
   "cell_type": "code",
   "execution_count": 20,
   "id": "21965411",
   "metadata": {},
   "outputs": [
    {
     "name": "stdout",
     "output_type": "stream",
     "text": [
      "False\n"
     ]
    },
    {
     "data": {
      "text/plain": [
       "(11246, 1)"
      ]
     },
     "execution_count": 20,
     "metadata": {},
     "output_type": "execute_result"
    }
   ],
   "source": [
    "df_indo.drop_duplicates(inplace = True, ignore_index = True)\n",
    "print(np.any(df_indo.duplicated()))\n",
    "df_indo.shape"
   ]
  },
  {
   "cell_type": "markdown",
   "id": "4147abcd",
   "metadata": {},
   "source": [
    "### Cleaning Malay Dataset"
   ]
  },
  {
   "cell_type": "markdown",
   "id": "ca528a2e",
   "metadata": {},
   "source": [
    "Let's look at the Malay dataset now:"
   ]
  },
  {
   "cell_type": "code",
   "execution_count": 21,
   "id": "198865ef-fbbc-4f4d-9bd0-2468306b99f5",
   "metadata": {},
   "outputs": [
    {
     "data": {
      "text/html": [
       "<div>\n",
       "<style scoped>\n",
       "    .dataframe tbody tr th:only-of-type {\n",
       "        vertical-align: middle;\n",
       "    }\n",
       "\n",
       "    .dataframe tbody tr th {\n",
       "        vertical-align: top;\n",
       "    }\n",
       "\n",
       "    .dataframe thead th {\n",
       "        text-align: right;\n",
       "    }\n",
       "</style>\n",
       "<table border=\"1\" class=\"dataframe\">\n",
       "  <thead>\n",
       "    <tr style=\"text-align: right;\">\n",
       "      <th></th>\n",
       "      <th>Unnamed: 0</th>\n",
       "      <th>fullname</th>\n",
       "      <th>Family name</th>\n",
       "      <th>Given name</th>\n",
       "    </tr>\n",
       "  </thead>\n",
       "  <tbody>\n",
       "    <tr>\n",
       "      <th>0</th>\n",
       "      <td>http://www.wikidata.org/entity/Q4769705</td>\n",
       "      <td>Annuar Rapaee</td>\n",
       "      <td>NaN</td>\n",
       "      <td>NaN</td>\n",
       "    </tr>\n",
       "    <tr>\n",
       "      <th>1</th>\n",
       "      <td>http://www.wikidata.org/entity/Q31186972</td>\n",
       "      <td>Tash Yong</td>\n",
       "      <td>NaN</td>\n",
       "      <td>NaN</td>\n",
       "    </tr>\n",
       "    <tr>\n",
       "      <th>2</th>\n",
       "      <td>http://www.wikidata.org/entity/Q468519</td>\n",
       "      <td>Fatmawati</td>\n",
       "      <td>NaN</td>\n",
       "      <td>NaN</td>\n",
       "    </tr>\n",
       "    <tr>\n",
       "      <th>3</th>\n",
       "      <td>http://www.wikidata.org/entity/Q4736793</td>\n",
       "      <td>Alto Linus</td>\n",
       "      <td>NaN</td>\n",
       "      <td>NaN</td>\n",
       "    </tr>\n",
       "    <tr>\n",
       "      <th>4</th>\n",
       "      <td>http://www.wikidata.org/entity/Q28837179</td>\n",
       "      <td>Mohamad Izzat Abdul Halil</td>\n",
       "      <td>NaN</td>\n",
       "      <td>NaN</td>\n",
       "    </tr>\n",
       "  </tbody>\n",
       "</table>\n",
       "</div>"
      ],
      "text/plain": [
       "                                 Unnamed: 0                   fullname  \\\n",
       "0   http://www.wikidata.org/entity/Q4769705              Annuar Rapaee   \n",
       "1  http://www.wikidata.org/entity/Q31186972                  Tash Yong   \n",
       "2    http://www.wikidata.org/entity/Q468519                  Fatmawati   \n",
       "3   http://www.wikidata.org/entity/Q4736793                 Alto Linus   \n",
       "4  http://www.wikidata.org/entity/Q28837179  Mohamad Izzat Abdul Halil   \n",
       "\n",
       "   Family name  Given name  \n",
       "0          NaN         NaN  \n",
       "1          NaN         NaN  \n",
       "2          NaN         NaN  \n",
       "3          NaN         NaN  \n",
       "4          NaN         NaN  "
      ]
     },
     "execution_count": 21,
     "metadata": {},
     "output_type": "execute_result"
    }
   ],
   "source": [
    "df_malay = pd.read_excel('name_data/exigerData/EXGR_Malay names.xlsx')\n",
    "df_malay.head()"
   ]
  },
  {
   "cell_type": "markdown",
   "id": "ef8717f3",
   "metadata": {},
   "source": [
    "Restricting the dataframe to just the `fullname` column:"
   ]
  },
  {
   "cell_type": "code",
   "execution_count": 22,
   "id": "67f18b38-9786-4a09-89eb-8036eb805140",
   "metadata": {},
   "outputs": [
    {
     "data": {
      "text/html": [
       "<div>\n",
       "<style scoped>\n",
       "    .dataframe tbody tr th:only-of-type {\n",
       "        vertical-align: middle;\n",
       "    }\n",
       "\n",
       "    .dataframe tbody tr th {\n",
       "        vertical-align: top;\n",
       "    }\n",
       "\n",
       "    .dataframe thead th {\n",
       "        text-align: right;\n",
       "    }\n",
       "</style>\n",
       "<table border=\"1\" class=\"dataframe\">\n",
       "  <thead>\n",
       "    <tr style=\"text-align: right;\">\n",
       "      <th></th>\n",
       "      <th>fullname</th>\n",
       "    </tr>\n",
       "  </thead>\n",
       "  <tbody>\n",
       "    <tr>\n",
       "      <th>0</th>\n",
       "      <td>Annuar Rapaee</td>\n",
       "    </tr>\n",
       "    <tr>\n",
       "      <th>1</th>\n",
       "      <td>Tash Yong</td>\n",
       "    </tr>\n",
       "    <tr>\n",
       "      <th>2</th>\n",
       "      <td>Fatmawati</td>\n",
       "    </tr>\n",
       "    <tr>\n",
       "      <th>3</th>\n",
       "      <td>Alto Linus</td>\n",
       "    </tr>\n",
       "    <tr>\n",
       "      <th>4</th>\n",
       "      <td>Mohamad Izzat Abdul Halil</td>\n",
       "    </tr>\n",
       "  </tbody>\n",
       "</table>\n",
       "</div>"
      ],
      "text/plain": [
       "                    fullname\n",
       "0              Annuar Rapaee\n",
       "1                  Tash Yong\n",
       "2                  Fatmawati\n",
       "3                 Alto Linus\n",
       "4  Mohamad Izzat Abdul Halil"
      ]
     },
     "execution_count": 22,
     "metadata": {},
     "output_type": "execute_result"
    }
   ],
   "source": [
    "df_malay = pd.DataFrame(df_malay['fullname'])\n",
    "df_malay.head()"
   ]
  },
  {
   "cell_type": "markdown",
   "id": "5c7781e0",
   "metadata": {},
   "source": [
    "Handling duplicate values:"
   ]
  },
  {
   "cell_type": "code",
   "execution_count": 23,
   "id": "59f5101a-2472-4627-b2e3-d49de5876036",
   "metadata": {},
   "outputs": [
    {
     "name": "stdout",
     "output_type": "stream",
     "text": [
      "2016\n"
     ]
    },
    {
     "data": {
      "text/plain": [
       "(4930, 1)"
      ]
     },
     "execution_count": 23,
     "metadata": {},
     "output_type": "execute_result"
    }
   ],
   "source": [
    "# Checking for duplicate entries\n",
    "print(len(df_malay[df_malay.duplicated()]))\n",
    "df_malay.shape"
   ]
  },
  {
   "cell_type": "code",
   "execution_count": 24,
   "id": "31c6f59b-6253-485b-9941-983189159ace",
   "metadata": {},
   "outputs": [
    {
     "name": "stdout",
     "output_type": "stream",
     "text": [
      "False\n"
     ]
    },
    {
     "data": {
      "text/plain": [
       "(2914, 1)"
      ]
     },
     "execution_count": 24,
     "metadata": {},
     "output_type": "execute_result"
    }
   ],
   "source": [
    "# Removing duplicate entries\n",
    "df_malay.drop_duplicates(inplace = True, ignore_index = True)\n",
    "print(np.any(df_malay.duplicated()))\n",
    "df_malay.shape"
   ]
  },
  {
   "cell_type": "markdown",
   "id": "55dd9da7",
   "metadata": {},
   "source": [
    "Are there any null entries in `fullname`?"
   ]
  },
  {
   "cell_type": "code",
   "execution_count": 25,
   "id": "954e6532",
   "metadata": {},
   "outputs": [
    {
     "name": "stdout",
     "output_type": "stream",
     "text": [
      "False\n"
     ]
    }
   ],
   "source": [
    "print(np.any(df_malay['fullname'].isnull()))"
   ]
  },
  {
   "cell_type": "markdown",
   "id": "3b032ec5",
   "metadata": {},
   "source": [
    "Are any names non-alphanumeric aside from spaces?"
   ]
  },
  {
   "cell_type": "code",
   "execution_count": 26,
   "id": "288b9918",
   "metadata": {},
   "outputs": [
    {
     "name": "stdout",
     "output_type": "stream",
     "text": [
      "200\n"
     ]
    },
    {
     "data": {
      "text/plain": [
       "['Adenan Hj. Satem',\n",
       " 'P. Balasubramaniam',\n",
       " \"Abdullah Ma'ayat Shah\",\n",
       " \"Mohd Shahril Sa'ari\",\n",
       " 'E. E. C. Thuraisingham',\n",
       " 'Ibrahim Ali (Malaysia)',\n",
       " 'Faradina Mohd. Nadzir',\n",
       " 'Aril (AF 7)',\n",
       " 'Sultan Hisamuddin Alam Shah Al-Haj ibni Almarhum Sultan Alaeddin Sulaiman Shah',\n",
       " \"Ismail Faruqi Asha'ri\"]"
      ]
     },
     "execution_count": 26,
     "metadata": {},
     "output_type": "execute_result"
    }
   ],
   "source": [
    "non_alnum_names_malay = [name for name in df_malay['fullname'] if not str.isalnum(name.replace(' ', ''))]\n",
    "print(len(non_alnum_names_malay))\n",
    "non_alnum_names_malay[-10:]"
   ]
  },
  {
   "cell_type": "markdown",
   "id": "548576d0",
   "metadata": {},
   "source": [
    "Again, we have parentheses at the end, so let's remove them:"
   ]
  },
  {
   "cell_type": "code",
   "execution_count": 27,
   "id": "a8274556",
   "metadata": {},
   "outputs": [
    {
     "name": "stdout",
     "output_type": "stream",
     "text": [
      "192\n"
     ]
    }
   ],
   "source": [
    "df_malay['fullname'] = df_malay['fullname'].apply(lambda name: name if name.find('(') == -1 else name[:name.find('(') - 1])\n",
    "non_alnum_names_malay = [name for name in df_malay['fullname'] if not str.isalnum(name.replace(' ', ''))]\n",
    "print(len(non_alnum_names_malay))"
   ]
  },
  {
   "cell_type": "markdown",
   "id": "520073cb",
   "metadata": {},
   "source": [
    "Removing leading and trailing whitespace from names just in case:"
   ]
  },
  {
   "cell_type": "code",
   "execution_count": 28,
   "id": "03f109ba",
   "metadata": {},
   "outputs": [],
   "source": [
    "df_malay['fullname'] = df_malay['fullname'].apply(str.strip)"
   ]
  },
  {
   "cell_type": "markdown",
   "id": "aad3ba20",
   "metadata": {},
   "source": [
    "Handling duplicates:"
   ]
  },
  {
   "cell_type": "code",
   "execution_count": 29,
   "id": "5544ecee",
   "metadata": {},
   "outputs": [
    {
     "name": "stdout",
     "output_type": "stream",
     "text": [
      "6\n"
     ]
    },
    {
     "data": {
      "text/plain": [
       "(2914, 1)"
      ]
     },
     "execution_count": 29,
     "metadata": {},
     "output_type": "execute_result"
    }
   ],
   "source": [
    "# Finding number of duplicates\n",
    "print(len(df_malay[df_malay.duplicated()]))\n",
    "df_malay.shape"
   ]
  },
  {
   "cell_type": "code",
   "execution_count": 30,
   "id": "4547910e",
   "metadata": {},
   "outputs": [
    {
     "name": "stdout",
     "output_type": "stream",
     "text": [
      "False\n"
     ]
    },
    {
     "data": {
      "text/plain": [
       "(2908, 1)"
      ]
     },
     "execution_count": 30,
     "metadata": {},
     "output_type": "execute_result"
    }
   ],
   "source": [
    "# Removing duplicates\n",
    "df_malay.drop_duplicates(inplace = True, ignore_index = True)\n",
    "print(np.any(df_malay.duplicated()))\n",
    "df_malay.shape"
   ]
  },
  {
   "cell_type": "markdown",
   "id": "85542d96",
   "metadata": {},
   "source": [
    "## Feature Engineering"
   ]
  },
  {
   "cell_type": "markdown",
   "id": "737d04b0",
   "metadata": {},
   "source": [
    "### Indonesian Dataset Feature Engineering"
   ]
  },
  {
   "cell_type": "markdown",
   "id": "ead9a2e8",
   "metadata": {},
   "source": [
    "Here are the features we want to include:\n",
    "1. `alphabet` - which alphabet is being used - unicode library\n",
    "2. `char_ngrams` - character n-grams (unigram, bigram, trigram, interpolated) - `nltk.utils.ngrams()`\n",
    "3. `word_ngrams` - word n-grams\n",
    "4. `a_hat_freq` - binary feature: does it exist in the given name? - if too much work to have EACH accent character as a feature, can combine\n",
    "5. `name_length` - length of name (total number of letters in full name)\n",
    "6. `avg_token_length` - average length of a token (the avg number of characters in each word of the name)\n",
    "7. `num_tokens` - how many “words” are in each name\n",
    "8. `transliteration` - transliteration\n",
    "9. `period_freq`, `dash_freq`, `apostrophe_freq` - frequency of punctuation\n",
    "10. `space_freq` - how many spaces are in each name"
   ]
  },
  {
   "cell_type": "markdown",
   "id": "16c9cce1",
   "metadata": {},
   "source": [
    "Let's start with the Indonesian dataset."
   ]
  },
  {
   "cell_type": "code",
   "execution_count": 31,
   "id": "ef0282fa",
   "metadata": {},
   "outputs": [
    {
     "data": {
      "text/html": [
       "<div>\n",
       "<style scoped>\n",
       "    .dataframe tbody tr th:only-of-type {\n",
       "        vertical-align: middle;\n",
       "    }\n",
       "\n",
       "    .dataframe tbody tr th {\n",
       "        vertical-align: top;\n",
       "    }\n",
       "\n",
       "    .dataframe thead th {\n",
       "        text-align: right;\n",
       "    }\n",
       "</style>\n",
       "<table border=\"1\" class=\"dataframe\">\n",
       "  <thead>\n",
       "    <tr style=\"text-align: right;\">\n",
       "      <th></th>\n",
       "      <th>fullname</th>\n",
       "      <th>alphabet</th>\n",
       "    </tr>\n",
       "  </thead>\n",
       "  <tbody>\n",
       "    <tr>\n",
       "      <th>0</th>\n",
       "      <td>Supriyadi</td>\n",
       "      <td>[LATIN, LATIN, LATIN, LATIN, LATIN, LATIN, LAT...</td>\n",
       "    </tr>\n",
       "    <tr>\n",
       "      <th>1</th>\n",
       "      <td>Triyaningsih</td>\n",
       "      <td>[LATIN, LATIN, LATIN, LATIN, LATIN, LATIN, LAT...</td>\n",
       "    </tr>\n",
       "    <tr>\n",
       "      <th>2</th>\n",
       "      <td>Soerjadi</td>\n",
       "      <td>[LATIN, LATIN, LATIN, LATIN, LATIN, LATIN, LAT...</td>\n",
       "    </tr>\n",
       "    <tr>\n",
       "      <th>3</th>\n",
       "      <td>Undunsyah</td>\n",
       "      <td>[LATIN, LATIN, LATIN, LATIN, LATIN, LATIN, LAT...</td>\n",
       "    </tr>\n",
       "    <tr>\n",
       "      <th>4</th>\n",
       "      <td>Soeripto</td>\n",
       "      <td>[LATIN, LATIN, LATIN, LATIN, LATIN, LATIN, LAT...</td>\n",
       "    </tr>\n",
       "  </tbody>\n",
       "</table>\n",
       "</div>"
      ],
      "text/plain": [
       "       fullname                                           alphabet\n",
       "0     Supriyadi  [LATIN, LATIN, LATIN, LATIN, LATIN, LATIN, LAT...\n",
       "1  Triyaningsih  [LATIN, LATIN, LATIN, LATIN, LATIN, LATIN, LAT...\n",
       "2      Soerjadi  [LATIN, LATIN, LATIN, LATIN, LATIN, LATIN, LAT...\n",
       "3     Undunsyah  [LATIN, LATIN, LATIN, LATIN, LATIN, LATIN, LAT...\n",
       "4      Soeripto  [LATIN, LATIN, LATIN, LATIN, LATIN, LATIN, LAT..."
      ]
     },
     "execution_count": 31,
     "metadata": {},
     "output_type": "execute_result"
    }
   ],
   "source": [
    "# 1. alphabet\n",
    "def get_alphabet(name):\n",
    "    name_as_alphabet_list = []\n",
    "    for char in name:\n",
    "        name_as_alphabet_list.append(unicodedata.name(char).split(' ')[0])\n",
    "    return name_as_alphabet_list\n",
    "\n",
    "df_indo['alphabet'] = df_indo['fullname'].apply(get_alphabet)\n",
    "df_indo.head()"
   ]
  },
  {
   "cell_type": "code",
   "execution_count": 32,
   "id": "54be04d3",
   "metadata": {},
   "outputs": [
    {
     "data": {
      "text/html": [
       "<div>\n",
       "<style scoped>\n",
       "    .dataframe tbody tr th:only-of-type {\n",
       "        vertical-align: middle;\n",
       "    }\n",
       "\n",
       "    .dataframe tbody tr th {\n",
       "        vertical-align: top;\n",
       "    }\n",
       "\n",
       "    .dataframe thead th {\n",
       "        text-align: right;\n",
       "    }\n",
       "</style>\n",
       "<table border=\"1\" class=\"dataframe\">\n",
       "  <thead>\n",
       "    <tr style=\"text-align: right;\">\n",
       "      <th></th>\n",
       "      <th>fullname</th>\n",
       "      <th>alphabet</th>\n",
       "      <th>unigrams</th>\n",
       "      <th>bigrams</th>\n",
       "      <th>trigrams</th>\n",
       "      <th>char_ngrams</th>\n",
       "    </tr>\n",
       "  </thead>\n",
       "  <tbody>\n",
       "    <tr>\n",
       "      <th>0</th>\n",
       "      <td>Supriyadi</td>\n",
       "      <td>[LATIN, LATIN, LATIN, LATIN, LATIN, LATIN, LAT...</td>\n",
       "      <td>[S, u, p, r, i, y, a, d, i]</td>\n",
       "      <td>[(S, u), (u, p), (p, r), (r, i), (i, y), (y, a...</td>\n",
       "      <td>[(S, u, p), (u, p, r), (p, r, i), (r, i, y), (...</td>\n",
       "      <td>[S, u, p, r, i, y, a, d, i, (S, u), (u, p), (p...</td>\n",
       "    </tr>\n",
       "    <tr>\n",
       "      <th>1</th>\n",
       "      <td>Triyaningsih</td>\n",
       "      <td>[LATIN, LATIN, LATIN, LATIN, LATIN, LATIN, LAT...</td>\n",
       "      <td>[T, r, i, y, a, n, i, n, g, s, i, h]</td>\n",
       "      <td>[(T, r), (r, i), (i, y), (y, a), (a, n), (n, i...</td>\n",
       "      <td>[(T, r, i), (r, i, y), (i, y, a), (y, a, n), (...</td>\n",
       "      <td>[T, r, i, y, a, n, i, n, g, s, i, h, (T, r), (...</td>\n",
       "    </tr>\n",
       "    <tr>\n",
       "      <th>2</th>\n",
       "      <td>Soerjadi</td>\n",
       "      <td>[LATIN, LATIN, LATIN, LATIN, LATIN, LATIN, LAT...</td>\n",
       "      <td>[S, o, e, r, j, a, d, i]</td>\n",
       "      <td>[(S, o), (o, e), (e, r), (r, j), (j, a), (a, d...</td>\n",
       "      <td>[(S, o, e), (o, e, r), (e, r, j), (r, j, a), (...</td>\n",
       "      <td>[S, o, e, r, j, a, d, i, (S, o), (o, e), (e, r...</td>\n",
       "    </tr>\n",
       "    <tr>\n",
       "      <th>3</th>\n",
       "      <td>Undunsyah</td>\n",
       "      <td>[LATIN, LATIN, LATIN, LATIN, LATIN, LATIN, LAT...</td>\n",
       "      <td>[U, n, d, u, n, s, y, a, h]</td>\n",
       "      <td>[(U, n), (n, d), (d, u), (u, n), (n, s), (s, y...</td>\n",
       "      <td>[(U, n, d), (n, d, u), (d, u, n), (u, n, s), (...</td>\n",
       "      <td>[U, n, d, u, n, s, y, a, h, (U, n), (n, d), (d...</td>\n",
       "    </tr>\n",
       "    <tr>\n",
       "      <th>4</th>\n",
       "      <td>Soeripto</td>\n",
       "      <td>[LATIN, LATIN, LATIN, LATIN, LATIN, LATIN, LAT...</td>\n",
       "      <td>[S, o, e, r, i, p, t, o]</td>\n",
       "      <td>[(S, o), (o, e), (e, r), (r, i), (i, p), (p, t...</td>\n",
       "      <td>[(S, o, e), (o, e, r), (e, r, i), (r, i, p), (...</td>\n",
       "      <td>[S, o, e, r, i, p, t, o, (S, o), (o, e), (e, r...</td>\n",
       "    </tr>\n",
       "  </tbody>\n",
       "</table>\n",
       "</div>"
      ],
      "text/plain": [
       "       fullname                                           alphabet  \\\n",
       "0     Supriyadi  [LATIN, LATIN, LATIN, LATIN, LATIN, LATIN, LAT...   \n",
       "1  Triyaningsih  [LATIN, LATIN, LATIN, LATIN, LATIN, LATIN, LAT...   \n",
       "2      Soerjadi  [LATIN, LATIN, LATIN, LATIN, LATIN, LATIN, LAT...   \n",
       "3     Undunsyah  [LATIN, LATIN, LATIN, LATIN, LATIN, LATIN, LAT...   \n",
       "4      Soeripto  [LATIN, LATIN, LATIN, LATIN, LATIN, LATIN, LAT...   \n",
       "\n",
       "                               unigrams  \\\n",
       "0           [S, u, p, r, i, y, a, d, i]   \n",
       "1  [T, r, i, y, a, n, i, n, g, s, i, h]   \n",
       "2              [S, o, e, r, j, a, d, i]   \n",
       "3           [U, n, d, u, n, s, y, a, h]   \n",
       "4              [S, o, e, r, i, p, t, o]   \n",
       "\n",
       "                                             bigrams  \\\n",
       "0  [(S, u), (u, p), (p, r), (r, i), (i, y), (y, a...   \n",
       "1  [(T, r), (r, i), (i, y), (y, a), (a, n), (n, i...   \n",
       "2  [(S, o), (o, e), (e, r), (r, j), (j, a), (a, d...   \n",
       "3  [(U, n), (n, d), (d, u), (u, n), (n, s), (s, y...   \n",
       "4  [(S, o), (o, e), (e, r), (r, i), (i, p), (p, t...   \n",
       "\n",
       "                                            trigrams  \\\n",
       "0  [(S, u, p), (u, p, r), (p, r, i), (r, i, y), (...   \n",
       "1  [(T, r, i), (r, i, y), (i, y, a), (y, a, n), (...   \n",
       "2  [(S, o, e), (o, e, r), (e, r, j), (r, j, a), (...   \n",
       "3  [(U, n, d), (n, d, u), (d, u, n), (u, n, s), (...   \n",
       "4  [(S, o, e), (o, e, r), (e, r, i), (r, i, p), (...   \n",
       "\n",
       "                                         char_ngrams  \n",
       "0  [S, u, p, r, i, y, a, d, i, (S, u), (u, p), (p...  \n",
       "1  [T, r, i, y, a, n, i, n, g, s, i, h, (T, r), (...  \n",
       "2  [S, o, e, r, j, a, d, i, (S, o), (o, e), (e, r...  \n",
       "3  [U, n, d, u, n, s, y, a, h, (U, n), (n, d), (d...  \n",
       "4  [S, o, e, r, i, p, t, o, (S, o), (o, e), (e, r...  "
      ]
     },
     "execution_count": 32,
     "metadata": {},
     "output_type": "execute_result"
    }
   ],
   "source": [
    "# 2. unigrams, bigrams, trigrams, char_ngrams\n",
    "df_indo['unigrams'] = df_indo['fullname'].apply(lambda name: list(name))\n",
    "df_indo['bigrams'] = df_indo['fullname'].apply(lambda name: list(ngrams(list(name), 2)))\n",
    "df_indo['trigrams'] = df_indo['fullname'].apply(lambda name: list(ngrams(list(name), 3)))\n",
    "df_indo['char_ngrams'] = df_indo['unigrams'] + df_indo['bigrams'] + df_indo['trigrams']\n",
    "df_indo.head()"
   ]
  },
  {
   "cell_type": "code",
   "execution_count": 33,
   "id": "5fbd3ef5",
   "metadata": {},
   "outputs": [
    {
     "data": {
      "text/html": [
       "<div>\n",
       "<style scoped>\n",
       "    .dataframe tbody tr th:only-of-type {\n",
       "        vertical-align: middle;\n",
       "    }\n",
       "\n",
       "    .dataframe tbody tr th {\n",
       "        vertical-align: top;\n",
       "    }\n",
       "\n",
       "    .dataframe thead th {\n",
       "        text-align: right;\n",
       "    }\n",
       "</style>\n",
       "<table border=\"1\" class=\"dataframe\">\n",
       "  <thead>\n",
       "    <tr style=\"text-align: right;\">\n",
       "      <th></th>\n",
       "      <th>fullname</th>\n",
       "      <th>alphabet</th>\n",
       "      <th>unigrams</th>\n",
       "      <th>bigrams</th>\n",
       "      <th>trigrams</th>\n",
       "      <th>char_ngrams</th>\n",
       "      <th>word_ngrams</th>\n",
       "    </tr>\n",
       "  </thead>\n",
       "  <tbody>\n",
       "    <tr>\n",
       "      <th>11241</th>\n",
       "      <td>Edwel Yusri Datuak Rajo Gampo Alam</td>\n",
       "      <td>[LATIN, LATIN, LATIN, LATIN, LATIN, SPACE, LAT...</td>\n",
       "      <td>[E, d, w, e, l,  , Y, u, s, r, i,  , D, a, t, ...</td>\n",
       "      <td>[(E, d), (d, w), (w, e), (e, l), (l,  ), ( , Y...</td>\n",
       "      <td>[(E, d, w), (d, w, e), (w, e, l), (e, l,  ), (...</td>\n",
       "      <td>[E, d, w, e, l,  , Y, u, s, r, i,  , D, a, t, ...</td>\n",
       "      <td>[Edwel, Yusri, Datuak, Rajo, Gampo, Alam]</td>\n",
       "    </tr>\n",
       "    <tr>\n",
       "      <th>11242</th>\n",
       "      <td>Sultan Amaluddin Al Sani Perkasa Alamsyah</td>\n",
       "      <td>[LATIN, LATIN, LATIN, LATIN, LATIN, LATIN, SPA...</td>\n",
       "      <td>[S, u, l, t, a, n,  , A, m, a, l, u, d, d, i, ...</td>\n",
       "      <td>[(S, u), (u, l), (l, t), (t, a), (a, n), (n,  ...</td>\n",
       "      <td>[(S, u, l), (u, l, t), (l, t, a), (t, a, n), (...</td>\n",
       "      <td>[S, u, l, t, a, n,  , A, m, a, l, u, d, d, i, ...</td>\n",
       "      <td>[Sultan, Amaluddin, Al, Sani, Perkasa, Alamsyah]</td>\n",
       "    </tr>\n",
       "    <tr>\n",
       "      <th>11243</th>\n",
       "      <td>Prof. Dr. Ir. Antonius Suwanto, M.Sc</td>\n",
       "      <td>[LATIN, LATIN, LATIN, LATIN, FULL, SPACE, LATI...</td>\n",
       "      <td>[P, r, o, f, .,  , D, r, .,  , I, r, .,  , A, ...</td>\n",
       "      <td>[(P, r), (r, o), (o, f), (f, .), (.,  ), ( , D...</td>\n",
       "      <td>[(P, r, o), (r, o, f), (o, f, .), (f, .,  ), (...</td>\n",
       "      <td>[P, r, o, f, .,  , D, r, .,  , I, r, .,  , A, ...</td>\n",
       "      <td>[Prof., Dr., Ir., Antonius, Suwanto,, M.Sc]</td>\n",
       "    </tr>\n",
       "    <tr>\n",
       "      <th>11244</th>\n",
       "      <td>Kanjeng Raden Tumengung Mas Ariya Purnama Hadi...</td>\n",
       "      <td>[LATIN, LATIN, LATIN, LATIN, LATIN, LATIN, LAT...</td>\n",
       "      <td>[K, a, n, j, e, n, g,  , R, a, d, e, n,  , T, ...</td>\n",
       "      <td>[(K, a), (a, n), (n, j), (j, e), (e, n), (n, g...</td>\n",
       "      <td>[(K, a, n), (a, n, j), (n, j, e), (j, e, n), (...</td>\n",
       "      <td>[K, a, n, j, e, n, g,  , R, a, d, e, n,  , T, ...</td>\n",
       "      <td>[Kanjeng, Raden, Tumengung, Mas, Ariya, Purnam...</td>\n",
       "    </tr>\n",
       "    <tr>\n",
       "      <th>11245</th>\n",
       "      <td>Lord Kanjeng Baginda Atep Bin Lord Dari Segala...</td>\n",
       "      <td>[LATIN, LATIN, LATIN, LATIN, SPACE, LATIN, LAT...</td>\n",
       "      <td>[L, o, r, d,  , K, a, n, j, e, n, g,  , B, a, ...</td>\n",
       "      <td>[(L, o), (o, r), (r, d), (d,  ), ( , K), (K, a...</td>\n",
       "      <td>[(L, o, r), (o, r, d), (r, d,  ), (d,  , K), (...</td>\n",
       "      <td>[L, o, r, d,  , K, a, n, j, e, n, g,  , B, a, ...</td>\n",
       "      <td>[Lord, Kanjeng, Baginda, Atep, Bin, Lord, Dari...</td>\n",
       "    </tr>\n",
       "  </tbody>\n",
       "</table>\n",
       "</div>"
      ],
      "text/plain": [
       "                                                fullname  \\\n",
       "11241                 Edwel Yusri Datuak Rajo Gampo Alam   \n",
       "11242          Sultan Amaluddin Al Sani Perkasa Alamsyah   \n",
       "11243               Prof. Dr. Ir. Antonius Suwanto, M.Sc   \n",
       "11244  Kanjeng Raden Tumengung Mas Ariya Purnama Hadi...   \n",
       "11245  Lord Kanjeng Baginda Atep Bin Lord Dari Segala...   \n",
       "\n",
       "                                                alphabet  \\\n",
       "11241  [LATIN, LATIN, LATIN, LATIN, LATIN, SPACE, LAT...   \n",
       "11242  [LATIN, LATIN, LATIN, LATIN, LATIN, LATIN, SPA...   \n",
       "11243  [LATIN, LATIN, LATIN, LATIN, FULL, SPACE, LATI...   \n",
       "11244  [LATIN, LATIN, LATIN, LATIN, LATIN, LATIN, LAT...   \n",
       "11245  [LATIN, LATIN, LATIN, LATIN, SPACE, LATIN, LAT...   \n",
       "\n",
       "                                                unigrams  \\\n",
       "11241  [E, d, w, e, l,  , Y, u, s, r, i,  , D, a, t, ...   \n",
       "11242  [S, u, l, t, a, n,  , A, m, a, l, u, d, d, i, ...   \n",
       "11243  [P, r, o, f, .,  , D, r, .,  , I, r, .,  , A, ...   \n",
       "11244  [K, a, n, j, e, n, g,  , R, a, d, e, n,  , T, ...   \n",
       "11245  [L, o, r, d,  , K, a, n, j, e, n, g,  , B, a, ...   \n",
       "\n",
       "                                                 bigrams  \\\n",
       "11241  [(E, d), (d, w), (w, e), (e, l), (l,  ), ( , Y...   \n",
       "11242  [(S, u), (u, l), (l, t), (t, a), (a, n), (n,  ...   \n",
       "11243  [(P, r), (r, o), (o, f), (f, .), (.,  ), ( , D...   \n",
       "11244  [(K, a), (a, n), (n, j), (j, e), (e, n), (n, g...   \n",
       "11245  [(L, o), (o, r), (r, d), (d,  ), ( , K), (K, a...   \n",
       "\n",
       "                                                trigrams  \\\n",
       "11241  [(E, d, w), (d, w, e), (w, e, l), (e, l,  ), (...   \n",
       "11242  [(S, u, l), (u, l, t), (l, t, a), (t, a, n), (...   \n",
       "11243  [(P, r, o), (r, o, f), (o, f, .), (f, .,  ), (...   \n",
       "11244  [(K, a, n), (a, n, j), (n, j, e), (j, e, n), (...   \n",
       "11245  [(L, o, r), (o, r, d), (r, d,  ), (d,  , K), (...   \n",
       "\n",
       "                                             char_ngrams  \\\n",
       "11241  [E, d, w, e, l,  , Y, u, s, r, i,  , D, a, t, ...   \n",
       "11242  [S, u, l, t, a, n,  , A, m, a, l, u, d, d, i, ...   \n",
       "11243  [P, r, o, f, .,  , D, r, .,  , I, r, .,  , A, ...   \n",
       "11244  [K, a, n, j, e, n, g,  , R, a, d, e, n,  , T, ...   \n",
       "11245  [L, o, r, d,  , K, a, n, j, e, n, g,  , B, a, ...   \n",
       "\n",
       "                                             word_ngrams  \n",
       "11241          [Edwel, Yusri, Datuak, Rajo, Gampo, Alam]  \n",
       "11242   [Sultan, Amaluddin, Al, Sani, Perkasa, Alamsyah]  \n",
       "11243        [Prof., Dr., Ir., Antonius, Suwanto,, M.Sc]  \n",
       "11244  [Kanjeng, Raden, Tumengung, Mas, Ariya, Purnam...  \n",
       "11245  [Lord, Kanjeng, Baginda, Atep, Bin, Lord, Dari...  "
      ]
     },
     "execution_count": 33,
     "metadata": {},
     "output_type": "execute_result"
    }
   ],
   "source": [
    "# 3. word_ngrams\n",
    "df_indo['word_ngrams'] = df_indo['fullname'].apply(lambda name: name.split())\n",
    "df_indo.tail()"
   ]
  },
  {
   "cell_type": "markdown",
   "id": "f4377cba",
   "metadata": {},
   "source": [
    "We will skip #4, `a_hat_freq`, for now because it is difficult to account for across multiple languages."
   ]
  },
  {
   "cell_type": "code",
   "execution_count": 34,
   "id": "f0c0ba77",
   "metadata": {},
   "outputs": [
    {
     "data": {
      "text/html": [
       "<div>\n",
       "<style scoped>\n",
       "    .dataframe tbody tr th:only-of-type {\n",
       "        vertical-align: middle;\n",
       "    }\n",
       "\n",
       "    .dataframe tbody tr th {\n",
       "        vertical-align: top;\n",
       "    }\n",
       "\n",
       "    .dataframe thead th {\n",
       "        text-align: right;\n",
       "    }\n",
       "</style>\n",
       "<table border=\"1\" class=\"dataframe\">\n",
       "  <thead>\n",
       "    <tr style=\"text-align: right;\">\n",
       "      <th></th>\n",
       "      <th>fullname</th>\n",
       "      <th>alphabet</th>\n",
       "      <th>unigrams</th>\n",
       "      <th>bigrams</th>\n",
       "      <th>trigrams</th>\n",
       "      <th>char_ngrams</th>\n",
       "      <th>word_ngrams</th>\n",
       "      <th>name_length</th>\n",
       "    </tr>\n",
       "  </thead>\n",
       "  <tbody>\n",
       "    <tr>\n",
       "      <th>0</th>\n",
       "      <td>Supriyadi</td>\n",
       "      <td>[LATIN, LATIN, LATIN, LATIN, LATIN, LATIN, LAT...</td>\n",
       "      <td>[S, u, p, r, i, y, a, d, i]</td>\n",
       "      <td>[(S, u), (u, p), (p, r), (r, i), (i, y), (y, a...</td>\n",
       "      <td>[(S, u, p), (u, p, r), (p, r, i), (r, i, y), (...</td>\n",
       "      <td>[S, u, p, r, i, y, a, d, i, (S, u), (u, p), (p...</td>\n",
       "      <td>[Supriyadi]</td>\n",
       "      <td>9</td>\n",
       "    </tr>\n",
       "    <tr>\n",
       "      <th>1</th>\n",
       "      <td>Triyaningsih</td>\n",
       "      <td>[LATIN, LATIN, LATIN, LATIN, LATIN, LATIN, LAT...</td>\n",
       "      <td>[T, r, i, y, a, n, i, n, g, s, i, h]</td>\n",
       "      <td>[(T, r), (r, i), (i, y), (y, a), (a, n), (n, i...</td>\n",
       "      <td>[(T, r, i), (r, i, y), (i, y, a), (y, a, n), (...</td>\n",
       "      <td>[T, r, i, y, a, n, i, n, g, s, i, h, (T, r), (...</td>\n",
       "      <td>[Triyaningsih]</td>\n",
       "      <td>12</td>\n",
       "    </tr>\n",
       "    <tr>\n",
       "      <th>2</th>\n",
       "      <td>Soerjadi</td>\n",
       "      <td>[LATIN, LATIN, LATIN, LATIN, LATIN, LATIN, LAT...</td>\n",
       "      <td>[S, o, e, r, j, a, d, i]</td>\n",
       "      <td>[(S, o), (o, e), (e, r), (r, j), (j, a), (a, d...</td>\n",
       "      <td>[(S, o, e), (o, e, r), (e, r, j), (r, j, a), (...</td>\n",
       "      <td>[S, o, e, r, j, a, d, i, (S, o), (o, e), (e, r...</td>\n",
       "      <td>[Soerjadi]</td>\n",
       "      <td>8</td>\n",
       "    </tr>\n",
       "    <tr>\n",
       "      <th>3</th>\n",
       "      <td>Undunsyah</td>\n",
       "      <td>[LATIN, LATIN, LATIN, LATIN, LATIN, LATIN, LAT...</td>\n",
       "      <td>[U, n, d, u, n, s, y, a, h]</td>\n",
       "      <td>[(U, n), (n, d), (d, u), (u, n), (n, s), (s, y...</td>\n",
       "      <td>[(U, n, d), (n, d, u), (d, u, n), (u, n, s), (...</td>\n",
       "      <td>[U, n, d, u, n, s, y, a, h, (U, n), (n, d), (d...</td>\n",
       "      <td>[Undunsyah]</td>\n",
       "      <td>9</td>\n",
       "    </tr>\n",
       "    <tr>\n",
       "      <th>4</th>\n",
       "      <td>Soeripto</td>\n",
       "      <td>[LATIN, LATIN, LATIN, LATIN, LATIN, LATIN, LAT...</td>\n",
       "      <td>[S, o, e, r, i, p, t, o]</td>\n",
       "      <td>[(S, o), (o, e), (e, r), (r, i), (i, p), (p, t...</td>\n",
       "      <td>[(S, o, e), (o, e, r), (e, r, i), (r, i, p), (...</td>\n",
       "      <td>[S, o, e, r, i, p, t, o, (S, o), (o, e), (e, r...</td>\n",
       "      <td>[Soeripto]</td>\n",
       "      <td>8</td>\n",
       "    </tr>\n",
       "  </tbody>\n",
       "</table>\n",
       "</div>"
      ],
      "text/plain": [
       "       fullname                                           alphabet  \\\n",
       "0     Supriyadi  [LATIN, LATIN, LATIN, LATIN, LATIN, LATIN, LAT...   \n",
       "1  Triyaningsih  [LATIN, LATIN, LATIN, LATIN, LATIN, LATIN, LAT...   \n",
       "2      Soerjadi  [LATIN, LATIN, LATIN, LATIN, LATIN, LATIN, LAT...   \n",
       "3     Undunsyah  [LATIN, LATIN, LATIN, LATIN, LATIN, LATIN, LAT...   \n",
       "4      Soeripto  [LATIN, LATIN, LATIN, LATIN, LATIN, LATIN, LAT...   \n",
       "\n",
       "                               unigrams  \\\n",
       "0           [S, u, p, r, i, y, a, d, i]   \n",
       "1  [T, r, i, y, a, n, i, n, g, s, i, h]   \n",
       "2              [S, o, e, r, j, a, d, i]   \n",
       "3           [U, n, d, u, n, s, y, a, h]   \n",
       "4              [S, o, e, r, i, p, t, o]   \n",
       "\n",
       "                                             bigrams  \\\n",
       "0  [(S, u), (u, p), (p, r), (r, i), (i, y), (y, a...   \n",
       "1  [(T, r), (r, i), (i, y), (y, a), (a, n), (n, i...   \n",
       "2  [(S, o), (o, e), (e, r), (r, j), (j, a), (a, d...   \n",
       "3  [(U, n), (n, d), (d, u), (u, n), (n, s), (s, y...   \n",
       "4  [(S, o), (o, e), (e, r), (r, i), (i, p), (p, t...   \n",
       "\n",
       "                                            trigrams  \\\n",
       "0  [(S, u, p), (u, p, r), (p, r, i), (r, i, y), (...   \n",
       "1  [(T, r, i), (r, i, y), (i, y, a), (y, a, n), (...   \n",
       "2  [(S, o, e), (o, e, r), (e, r, j), (r, j, a), (...   \n",
       "3  [(U, n, d), (n, d, u), (d, u, n), (u, n, s), (...   \n",
       "4  [(S, o, e), (o, e, r), (e, r, i), (r, i, p), (...   \n",
       "\n",
       "                                         char_ngrams     word_ngrams  \\\n",
       "0  [S, u, p, r, i, y, a, d, i, (S, u), (u, p), (p...     [Supriyadi]   \n",
       "1  [T, r, i, y, a, n, i, n, g, s, i, h, (T, r), (...  [Triyaningsih]   \n",
       "2  [S, o, e, r, j, a, d, i, (S, o), (o, e), (e, r...      [Soerjadi]   \n",
       "3  [U, n, d, u, n, s, y, a, h, (U, n), (n, d), (d...     [Undunsyah]   \n",
       "4  [S, o, e, r, i, p, t, o, (S, o), (o, e), (e, r...      [Soeripto]   \n",
       "\n",
       "   name_length  \n",
       "0            9  \n",
       "1           12  \n",
       "2            8  \n",
       "3            9  \n",
       "4            8  "
      ]
     },
     "execution_count": 34,
     "metadata": {},
     "output_type": "execute_result"
    }
   ],
   "source": [
    "# 5. name_length\n",
    "df_indo['name_length'] = df_indo['fullname'].apply(len)\n",
    "df_indo.head()"
   ]
  },
  {
   "cell_type": "code",
   "execution_count": 35,
   "id": "c5930486",
   "metadata": {},
   "outputs": [
    {
     "name": "stdout",
     "output_type": "stream",
     "text": [
      "11241            [Edwel, Yusri, Datuak, Rajo, Gampo, Alam]\n",
      "11242     [Sultan, Amaluddin, Al, Sani, Perkasa, Alamsyah]\n",
      "11243          [Prof., Dr., Ir., Antonius, Suwanto,, M.Sc]\n",
      "11244    [Kanjeng, Raden, Tumengung, Mas, Ariya, Purnam...\n",
      "11245    [Lord, Kanjeng, Baginda, Atep, Bin, Lord, Dari...\n",
      "Name: fullname, dtype: object \n",
      "\n",
      "11241                      [5, 5, 6, 4, 5, 4]\n",
      "11242                      [6, 9, 2, 4, 7, 8]\n",
      "11243                      [5, 3, 3, 8, 8, 4]\n",
      "11244                  [7, 5, 9, 3, 5, 7, 11]\n",
      "11245    [4, 7, 7, 4, 3, 4, 4, 6, 4, 7, 7, 8]\n",
      "Name: fullname, dtype: object\n"
     ]
    },
    {
     "data": {
      "text/html": [
       "<div>\n",
       "<style scoped>\n",
       "    .dataframe tbody tr th:only-of-type {\n",
       "        vertical-align: middle;\n",
       "    }\n",
       "\n",
       "    .dataframe tbody tr th {\n",
       "        vertical-align: top;\n",
       "    }\n",
       "\n",
       "    .dataframe thead th {\n",
       "        text-align: right;\n",
       "    }\n",
       "</style>\n",
       "<table border=\"1\" class=\"dataframe\">\n",
       "  <thead>\n",
       "    <tr style=\"text-align: right;\">\n",
       "      <th></th>\n",
       "      <th>fullname</th>\n",
       "      <th>alphabet</th>\n",
       "      <th>unigrams</th>\n",
       "      <th>bigrams</th>\n",
       "      <th>trigrams</th>\n",
       "      <th>char_ngrams</th>\n",
       "      <th>word_ngrams</th>\n",
       "      <th>name_length</th>\n",
       "      <th>avg_token_length</th>\n",
       "    </tr>\n",
       "  </thead>\n",
       "  <tbody>\n",
       "    <tr>\n",
       "      <th>11241</th>\n",
       "      <td>Edwel Yusri Datuak Rajo Gampo Alam</td>\n",
       "      <td>[LATIN, LATIN, LATIN, LATIN, LATIN, SPACE, LAT...</td>\n",
       "      <td>[E, d, w, e, l,  , Y, u, s, r, i,  , D, a, t, ...</td>\n",
       "      <td>[(E, d), (d, w), (w, e), (e, l), (l,  ), ( , Y...</td>\n",
       "      <td>[(E, d, w), (d, w, e), (w, e, l), (e, l,  ), (...</td>\n",
       "      <td>[E, d, w, e, l,  , Y, u, s, r, i,  , D, a, t, ...</td>\n",
       "      <td>[Edwel, Yusri, Datuak, Rajo, Gampo, Alam]</td>\n",
       "      <td>34</td>\n",
       "      <td>4.833333</td>\n",
       "    </tr>\n",
       "    <tr>\n",
       "      <th>11242</th>\n",
       "      <td>Sultan Amaluddin Al Sani Perkasa Alamsyah</td>\n",
       "      <td>[LATIN, LATIN, LATIN, LATIN, LATIN, LATIN, SPA...</td>\n",
       "      <td>[S, u, l, t, a, n,  , A, m, a, l, u, d, d, i, ...</td>\n",
       "      <td>[(S, u), (u, l), (l, t), (t, a), (a, n), (n,  ...</td>\n",
       "      <td>[(S, u, l), (u, l, t), (l, t, a), (t, a, n), (...</td>\n",
       "      <td>[S, u, l, t, a, n,  , A, m, a, l, u, d, d, i, ...</td>\n",
       "      <td>[Sultan, Amaluddin, Al, Sani, Perkasa, Alamsyah]</td>\n",
       "      <td>41</td>\n",
       "      <td>6.000000</td>\n",
       "    </tr>\n",
       "    <tr>\n",
       "      <th>11243</th>\n",
       "      <td>Prof. Dr. Ir. Antonius Suwanto, M.Sc</td>\n",
       "      <td>[LATIN, LATIN, LATIN, LATIN, FULL, SPACE, LATI...</td>\n",
       "      <td>[P, r, o, f, .,  , D, r, .,  , I, r, .,  , A, ...</td>\n",
       "      <td>[(P, r), (r, o), (o, f), (f, .), (.,  ), ( , D...</td>\n",
       "      <td>[(P, r, o), (r, o, f), (o, f, .), (f, .,  ), (...</td>\n",
       "      <td>[P, r, o, f, .,  , D, r, .,  , I, r, .,  , A, ...</td>\n",
       "      <td>[Prof., Dr., Ir., Antonius, Suwanto,, M.Sc]</td>\n",
       "      <td>36</td>\n",
       "      <td>5.166667</td>\n",
       "    </tr>\n",
       "    <tr>\n",
       "      <th>11244</th>\n",
       "      <td>Kanjeng Raden Tumengung Mas Ariya Purnama Hadi...</td>\n",
       "      <td>[LATIN, LATIN, LATIN, LATIN, LATIN, LATIN, LAT...</td>\n",
       "      <td>[K, a, n, j, e, n, g,  , R, a, d, e, n,  , T, ...</td>\n",
       "      <td>[(K, a), (a, n), (n, j), (j, e), (e, n), (n, g...</td>\n",
       "      <td>[(K, a, n), (a, n, j), (n, j, e), (j, e, n), (...</td>\n",
       "      <td>[K, a, n, j, e, n, g,  , R, a, d, e, n,  , T, ...</td>\n",
       "      <td>[Kanjeng, Raden, Tumengung, Mas, Ariya, Purnam...</td>\n",
       "      <td>53</td>\n",
       "      <td>6.714286</td>\n",
       "    </tr>\n",
       "    <tr>\n",
       "      <th>11245</th>\n",
       "      <td>Lord Kanjeng Baginda Atep Bin Lord Dari Segala...</td>\n",
       "      <td>[LATIN, LATIN, LATIN, LATIN, SPACE, LATIN, LAT...</td>\n",
       "      <td>[L, o, r, d,  , K, a, n, j, e, n, g,  , B, a, ...</td>\n",
       "      <td>[(L, o), (o, r), (r, d), (d,  ), ( , K), (K, a...</td>\n",
       "      <td>[(L, o, r), (o, r, d), (r, d,  ), (d,  , K), (...</td>\n",
       "      <td>[L, o, r, d,  , K, a, n, j, e, n, g,  , B, a, ...</td>\n",
       "      <td>[Lord, Kanjeng, Baginda, Atep, Bin, Lord, Dari...</td>\n",
       "      <td>76</td>\n",
       "      <td>5.416667</td>\n",
       "    </tr>\n",
       "  </tbody>\n",
       "</table>\n",
       "</div>"
      ],
      "text/plain": [
       "                                                fullname  \\\n",
       "11241                 Edwel Yusri Datuak Rajo Gampo Alam   \n",
       "11242          Sultan Amaluddin Al Sani Perkasa Alamsyah   \n",
       "11243               Prof. Dr. Ir. Antonius Suwanto, M.Sc   \n",
       "11244  Kanjeng Raden Tumengung Mas Ariya Purnama Hadi...   \n",
       "11245  Lord Kanjeng Baginda Atep Bin Lord Dari Segala...   \n",
       "\n",
       "                                                alphabet  \\\n",
       "11241  [LATIN, LATIN, LATIN, LATIN, LATIN, SPACE, LAT...   \n",
       "11242  [LATIN, LATIN, LATIN, LATIN, LATIN, LATIN, SPA...   \n",
       "11243  [LATIN, LATIN, LATIN, LATIN, FULL, SPACE, LATI...   \n",
       "11244  [LATIN, LATIN, LATIN, LATIN, LATIN, LATIN, LAT...   \n",
       "11245  [LATIN, LATIN, LATIN, LATIN, SPACE, LATIN, LAT...   \n",
       "\n",
       "                                                unigrams  \\\n",
       "11241  [E, d, w, e, l,  , Y, u, s, r, i,  , D, a, t, ...   \n",
       "11242  [S, u, l, t, a, n,  , A, m, a, l, u, d, d, i, ...   \n",
       "11243  [P, r, o, f, .,  , D, r, .,  , I, r, .,  , A, ...   \n",
       "11244  [K, a, n, j, e, n, g,  , R, a, d, e, n,  , T, ...   \n",
       "11245  [L, o, r, d,  , K, a, n, j, e, n, g,  , B, a, ...   \n",
       "\n",
       "                                                 bigrams  \\\n",
       "11241  [(E, d), (d, w), (w, e), (e, l), (l,  ), ( , Y...   \n",
       "11242  [(S, u), (u, l), (l, t), (t, a), (a, n), (n,  ...   \n",
       "11243  [(P, r), (r, o), (o, f), (f, .), (.,  ), ( , D...   \n",
       "11244  [(K, a), (a, n), (n, j), (j, e), (e, n), (n, g...   \n",
       "11245  [(L, o), (o, r), (r, d), (d,  ), ( , K), (K, a...   \n",
       "\n",
       "                                                trigrams  \\\n",
       "11241  [(E, d, w), (d, w, e), (w, e, l), (e, l,  ), (...   \n",
       "11242  [(S, u, l), (u, l, t), (l, t, a), (t, a, n), (...   \n",
       "11243  [(P, r, o), (r, o, f), (o, f, .), (f, .,  ), (...   \n",
       "11244  [(K, a, n), (a, n, j), (n, j, e), (j, e, n), (...   \n",
       "11245  [(L, o, r), (o, r, d), (r, d,  ), (d,  , K), (...   \n",
       "\n",
       "                                             char_ngrams  \\\n",
       "11241  [E, d, w, e, l,  , Y, u, s, r, i,  , D, a, t, ...   \n",
       "11242  [S, u, l, t, a, n,  , A, m, a, l, u, d, d, i, ...   \n",
       "11243  [P, r, o, f, .,  , D, r, .,  , I, r, .,  , A, ...   \n",
       "11244  [K, a, n, j, e, n, g,  , R, a, d, e, n,  , T, ...   \n",
       "11245  [L, o, r, d,  , K, a, n, j, e, n, g,  , B, a, ...   \n",
       "\n",
       "                                             word_ngrams  name_length  \\\n",
       "11241          [Edwel, Yusri, Datuak, Rajo, Gampo, Alam]           34   \n",
       "11242   [Sultan, Amaluddin, Al, Sani, Perkasa, Alamsyah]           41   \n",
       "11243        [Prof., Dr., Ir., Antonius, Suwanto,, M.Sc]           36   \n",
       "11244  [Kanjeng, Raden, Tumengung, Mas, Ariya, Purnam...           53   \n",
       "11245  [Lord, Kanjeng, Baginda, Atep, Bin, Lord, Dari...           76   \n",
       "\n",
       "       avg_token_length  \n",
       "11241          4.833333  \n",
       "11242          6.000000  \n",
       "11243          5.166667  \n",
       "11244          6.714286  \n",
       "11245          5.416667  "
      ]
     },
     "execution_count": 35,
     "metadata": {},
     "output_type": "execute_result"
    }
   ],
   "source": [
    "# 6. avg_token_length\n",
    "tokens = df_indo['fullname'].apply(lambda name: name.split(' '))\n",
    "print(tokens[-5:], '\\n')\n",
    "token_lengths = tokens.apply(lambda token_list: [len(token) for token in token_list])\n",
    "print(token_lengths[-5:])\n",
    "df_indo['avg_token_length'] = token_lengths.apply(np.mean)\n",
    "df_indo.tail()"
   ]
  },
  {
   "cell_type": "markdown",
   "id": "c4156e0b",
   "metadata": {},
   "source": [
    "Finding `num_tokens`:"
   ]
  },
  {
   "cell_type": "code",
   "execution_count": 36,
   "id": "bca7e630",
   "metadata": {},
   "outputs": [
    {
     "data": {
      "text/html": [
       "<div>\n",
       "<style scoped>\n",
       "    .dataframe tbody tr th:only-of-type {\n",
       "        vertical-align: middle;\n",
       "    }\n",
       "\n",
       "    .dataframe tbody tr th {\n",
       "        vertical-align: top;\n",
       "    }\n",
       "\n",
       "    .dataframe thead th {\n",
       "        text-align: right;\n",
       "    }\n",
       "</style>\n",
       "<table border=\"1\" class=\"dataframe\">\n",
       "  <thead>\n",
       "    <tr style=\"text-align: right;\">\n",
       "      <th></th>\n",
       "      <th>fullname</th>\n",
       "      <th>alphabet</th>\n",
       "      <th>unigrams</th>\n",
       "      <th>bigrams</th>\n",
       "      <th>trigrams</th>\n",
       "      <th>char_ngrams</th>\n",
       "      <th>word_ngrams</th>\n",
       "      <th>name_length</th>\n",
       "      <th>avg_token_length</th>\n",
       "      <th>num_tokens</th>\n",
       "    </tr>\n",
       "  </thead>\n",
       "  <tbody>\n",
       "    <tr>\n",
       "      <th>11241</th>\n",
       "      <td>Edwel Yusri Datuak Rajo Gampo Alam</td>\n",
       "      <td>[LATIN, LATIN, LATIN, LATIN, LATIN, SPACE, LAT...</td>\n",
       "      <td>[E, d, w, e, l,  , Y, u, s, r, i,  , D, a, t, ...</td>\n",
       "      <td>[(E, d), (d, w), (w, e), (e, l), (l,  ), ( , Y...</td>\n",
       "      <td>[(E, d, w), (d, w, e), (w, e, l), (e, l,  ), (...</td>\n",
       "      <td>[E, d, w, e, l,  , Y, u, s, r, i,  , D, a, t, ...</td>\n",
       "      <td>[Edwel, Yusri, Datuak, Rajo, Gampo, Alam]</td>\n",
       "      <td>34</td>\n",
       "      <td>4.833333</td>\n",
       "      <td>6</td>\n",
       "    </tr>\n",
       "    <tr>\n",
       "      <th>11242</th>\n",
       "      <td>Sultan Amaluddin Al Sani Perkasa Alamsyah</td>\n",
       "      <td>[LATIN, LATIN, LATIN, LATIN, LATIN, LATIN, SPA...</td>\n",
       "      <td>[S, u, l, t, a, n,  , A, m, a, l, u, d, d, i, ...</td>\n",
       "      <td>[(S, u), (u, l), (l, t), (t, a), (a, n), (n,  ...</td>\n",
       "      <td>[(S, u, l), (u, l, t), (l, t, a), (t, a, n), (...</td>\n",
       "      <td>[S, u, l, t, a, n,  , A, m, a, l, u, d, d, i, ...</td>\n",
       "      <td>[Sultan, Amaluddin, Al, Sani, Perkasa, Alamsyah]</td>\n",
       "      <td>41</td>\n",
       "      <td>6.000000</td>\n",
       "      <td>6</td>\n",
       "    </tr>\n",
       "    <tr>\n",
       "      <th>11243</th>\n",
       "      <td>Prof. Dr. Ir. Antonius Suwanto, M.Sc</td>\n",
       "      <td>[LATIN, LATIN, LATIN, LATIN, FULL, SPACE, LATI...</td>\n",
       "      <td>[P, r, o, f, .,  , D, r, .,  , I, r, .,  , A, ...</td>\n",
       "      <td>[(P, r), (r, o), (o, f), (f, .), (.,  ), ( , D...</td>\n",
       "      <td>[(P, r, o), (r, o, f), (o, f, .), (f, .,  ), (...</td>\n",
       "      <td>[P, r, o, f, .,  , D, r, .,  , I, r, .,  , A, ...</td>\n",
       "      <td>[Prof., Dr., Ir., Antonius, Suwanto,, M.Sc]</td>\n",
       "      <td>36</td>\n",
       "      <td>5.166667</td>\n",
       "      <td>6</td>\n",
       "    </tr>\n",
       "    <tr>\n",
       "      <th>11244</th>\n",
       "      <td>Kanjeng Raden Tumengung Mas Ariya Purnama Hadi...</td>\n",
       "      <td>[LATIN, LATIN, LATIN, LATIN, LATIN, LATIN, LAT...</td>\n",
       "      <td>[K, a, n, j, e, n, g,  , R, a, d, e, n,  , T, ...</td>\n",
       "      <td>[(K, a), (a, n), (n, j), (j, e), (e, n), (n, g...</td>\n",
       "      <td>[(K, a, n), (a, n, j), (n, j, e), (j, e, n), (...</td>\n",
       "      <td>[K, a, n, j, e, n, g,  , R, a, d, e, n,  , T, ...</td>\n",
       "      <td>[Kanjeng, Raden, Tumengung, Mas, Ariya, Purnam...</td>\n",
       "      <td>53</td>\n",
       "      <td>6.714286</td>\n",
       "      <td>7</td>\n",
       "    </tr>\n",
       "    <tr>\n",
       "      <th>11245</th>\n",
       "      <td>Lord Kanjeng Baginda Atep Bin Lord Dari Segala...</td>\n",
       "      <td>[LATIN, LATIN, LATIN, LATIN, SPACE, LATIN, LAT...</td>\n",
       "      <td>[L, o, r, d,  , K, a, n, j, e, n, g,  , B, a, ...</td>\n",
       "      <td>[(L, o), (o, r), (r, d), (d,  ), ( , K), (K, a...</td>\n",
       "      <td>[(L, o, r), (o, r, d), (r, d,  ), (d,  , K), (...</td>\n",
       "      <td>[L, o, r, d,  , K, a, n, j, e, n, g,  , B, a, ...</td>\n",
       "      <td>[Lord, Kanjeng, Baginda, Atep, Bin, Lord, Dari...</td>\n",
       "      <td>76</td>\n",
       "      <td>5.416667</td>\n",
       "      <td>12</td>\n",
       "    </tr>\n",
       "  </tbody>\n",
       "</table>\n",
       "</div>"
      ],
      "text/plain": [
       "                                                fullname  \\\n",
       "11241                 Edwel Yusri Datuak Rajo Gampo Alam   \n",
       "11242          Sultan Amaluddin Al Sani Perkasa Alamsyah   \n",
       "11243               Prof. Dr. Ir. Antonius Suwanto, M.Sc   \n",
       "11244  Kanjeng Raden Tumengung Mas Ariya Purnama Hadi...   \n",
       "11245  Lord Kanjeng Baginda Atep Bin Lord Dari Segala...   \n",
       "\n",
       "                                                alphabet  \\\n",
       "11241  [LATIN, LATIN, LATIN, LATIN, LATIN, SPACE, LAT...   \n",
       "11242  [LATIN, LATIN, LATIN, LATIN, LATIN, LATIN, SPA...   \n",
       "11243  [LATIN, LATIN, LATIN, LATIN, FULL, SPACE, LATI...   \n",
       "11244  [LATIN, LATIN, LATIN, LATIN, LATIN, LATIN, LAT...   \n",
       "11245  [LATIN, LATIN, LATIN, LATIN, SPACE, LATIN, LAT...   \n",
       "\n",
       "                                                unigrams  \\\n",
       "11241  [E, d, w, e, l,  , Y, u, s, r, i,  , D, a, t, ...   \n",
       "11242  [S, u, l, t, a, n,  , A, m, a, l, u, d, d, i, ...   \n",
       "11243  [P, r, o, f, .,  , D, r, .,  , I, r, .,  , A, ...   \n",
       "11244  [K, a, n, j, e, n, g,  , R, a, d, e, n,  , T, ...   \n",
       "11245  [L, o, r, d,  , K, a, n, j, e, n, g,  , B, a, ...   \n",
       "\n",
       "                                                 bigrams  \\\n",
       "11241  [(E, d), (d, w), (w, e), (e, l), (l,  ), ( , Y...   \n",
       "11242  [(S, u), (u, l), (l, t), (t, a), (a, n), (n,  ...   \n",
       "11243  [(P, r), (r, o), (o, f), (f, .), (.,  ), ( , D...   \n",
       "11244  [(K, a), (a, n), (n, j), (j, e), (e, n), (n, g...   \n",
       "11245  [(L, o), (o, r), (r, d), (d,  ), ( , K), (K, a...   \n",
       "\n",
       "                                                trigrams  \\\n",
       "11241  [(E, d, w), (d, w, e), (w, e, l), (e, l,  ), (...   \n",
       "11242  [(S, u, l), (u, l, t), (l, t, a), (t, a, n), (...   \n",
       "11243  [(P, r, o), (r, o, f), (o, f, .), (f, .,  ), (...   \n",
       "11244  [(K, a, n), (a, n, j), (n, j, e), (j, e, n), (...   \n",
       "11245  [(L, o, r), (o, r, d), (r, d,  ), (d,  , K), (...   \n",
       "\n",
       "                                             char_ngrams  \\\n",
       "11241  [E, d, w, e, l,  , Y, u, s, r, i,  , D, a, t, ...   \n",
       "11242  [S, u, l, t, a, n,  , A, m, a, l, u, d, d, i, ...   \n",
       "11243  [P, r, o, f, .,  , D, r, .,  , I, r, .,  , A, ...   \n",
       "11244  [K, a, n, j, e, n, g,  , R, a, d, e, n,  , T, ...   \n",
       "11245  [L, o, r, d,  , K, a, n, j, e, n, g,  , B, a, ...   \n",
       "\n",
       "                                             word_ngrams  name_length  \\\n",
       "11241          [Edwel, Yusri, Datuak, Rajo, Gampo, Alam]           34   \n",
       "11242   [Sultan, Amaluddin, Al, Sani, Perkasa, Alamsyah]           41   \n",
       "11243        [Prof., Dr., Ir., Antonius, Suwanto,, M.Sc]           36   \n",
       "11244  [Kanjeng, Raden, Tumengung, Mas, Ariya, Purnam...           53   \n",
       "11245  [Lord, Kanjeng, Baginda, Atep, Bin, Lord, Dari...           76   \n",
       "\n",
       "       avg_token_length  num_tokens  \n",
       "11241          4.833333           6  \n",
       "11242          6.000000           6  \n",
       "11243          5.166667           6  \n",
       "11244          6.714286           7  \n",
       "11245          5.416667          12  "
      ]
     },
     "execution_count": 36,
     "metadata": {},
     "output_type": "execute_result"
    }
   ],
   "source": [
    "# 7. num_tokens\n",
    "df_indo['num_tokens'] = df_indo['fullname'].apply(lambda name: len(name.split(' ')))\n",
    "df_indo.tail()"
   ]
  },
  {
   "cell_type": "code",
   "execution_count": 37,
   "id": "b970066e",
   "metadata": {},
   "outputs": [
    {
     "data": {
      "text/html": [
       "<div>\n",
       "<style scoped>\n",
       "    .dataframe tbody tr th:only-of-type {\n",
       "        vertical-align: middle;\n",
       "    }\n",
       "\n",
       "    .dataframe tbody tr th {\n",
       "        vertical-align: top;\n",
       "    }\n",
       "\n",
       "    .dataframe thead th {\n",
       "        text-align: right;\n",
       "    }\n",
       "</style>\n",
       "<table border=\"1\" class=\"dataframe\">\n",
       "  <thead>\n",
       "    <tr style=\"text-align: right;\">\n",
       "      <th></th>\n",
       "      <th>fullname</th>\n",
       "      <th>transliteration</th>\n",
       "    </tr>\n",
       "  </thead>\n",
       "  <tbody>\n",
       "    <tr>\n",
       "      <th>1010</th>\n",
       "      <td>Cristian Gonzáles</td>\n",
       "      <td>Cristian Gonzales</td>\n",
       "    </tr>\n",
       "    <tr>\n",
       "      <th>1140</th>\n",
       "      <td>Śri Ajñadewi</td>\n",
       "      <td>Sri Ajnadewi</td>\n",
       "    </tr>\n",
       "    <tr>\n",
       "      <th>1211</th>\n",
       "      <td>Ipe Ma’aroef</td>\n",
       "      <td>Ipe Ma'aroef</td>\n",
       "    </tr>\n",
       "    <tr>\n",
       "      <th>2868</th>\n",
       "      <td>Fauzie As’ad</td>\n",
       "      <td>Fauzie As'ad</td>\n",
       "    </tr>\n",
       "    <tr>\n",
       "      <th>3181</th>\n",
       "      <td>Kiki María</td>\n",
       "      <td>Kiki Maria</td>\n",
       "    </tr>\n",
       "    <tr>\n",
       "      <th>3263</th>\n",
       "      <td>Abdullah Wasi’an</td>\n",
       "      <td>Abdullah Wasi'an</td>\n",
       "    </tr>\n",
       "    <tr>\n",
       "      <th>3302</th>\n",
       "      <td>Empu Prapañca</td>\n",
       "      <td>Empu Prapanca</td>\n",
       "    </tr>\n",
       "    <tr>\n",
       "      <th>4597</th>\n",
       "      <td>Manuel Carrascalão</td>\n",
       "      <td>Manuel Carrascalao</td>\n",
       "    </tr>\n",
       "    <tr>\n",
       "      <th>6796</th>\n",
       "      <td>Jaëll Hattu</td>\n",
       "      <td>Jaell Hattu</td>\n",
       "    </tr>\n",
       "    <tr>\n",
       "      <th>6805</th>\n",
       "      <td>Berthold Damshäuser</td>\n",
       "      <td>Berthold Damshauser</td>\n",
       "    </tr>\n",
       "    <tr>\n",
       "      <th>8033</th>\n",
       "      <td>Anneke Grönloh</td>\n",
       "      <td>Anneke Gronloh</td>\n",
       "    </tr>\n",
       "    <tr>\n",
       "      <th>8400</th>\n",
       "      <td>Joesoef Sou’yb</td>\n",
       "      <td>Joesoef Sou'yb</td>\n",
       "    </tr>\n",
       "    <tr>\n",
       "      <th>8552</th>\n",
       "      <td>Fauzie As’Ad</td>\n",
       "      <td>Fauzie As'Ad</td>\n",
       "    </tr>\n",
       "    <tr>\n",
       "      <th>8872</th>\n",
       "      <td>Guilherme Maria Gonçalves</td>\n",
       "      <td>Guilherme Maria Goncalves</td>\n",
       "    </tr>\n",
       "    <tr>\n",
       "      <th>10199</th>\n",
       "      <td>Mário Viegas Carrascalão</td>\n",
       "      <td>Mario Viegas Carrascalao</td>\n",
       "    </tr>\n",
       "    <tr>\n",
       "      <th>10546</th>\n",
       "      <td>Sarah Tüffahati Mornov</td>\n",
       "      <td>Sarah Tuffahati Mornov</td>\n",
       "    </tr>\n",
       "    <tr>\n",
       "      <th>10891</th>\n",
       "      <td>João da Costa Tavares</td>\n",
       "      <td>Joao da Costa Tavares</td>\n",
       "    </tr>\n",
       "    <tr>\n",
       "      <th>10896</th>\n",
       "      <td>Arnaldo dos Reis Araújo</td>\n",
       "      <td>Arnaldo dos Reis Araujo</td>\n",
       "    </tr>\n",
       "    <tr>\n",
       "      <th>11186</th>\n",
       "      <td>André Joseph Guillaume Henri Kostermans</td>\n",
       "      <td>Andre Joseph Guillaume Henri Kostermans</td>\n",
       "    </tr>\n",
       "    <tr>\n",
       "      <th>11240</th>\n",
       "      <td>Sri Jayendra Dyah Dewi Prajña Paramita</td>\n",
       "      <td>Sri Jayendra Dyah Dewi Prajna Paramita</td>\n",
       "    </tr>\n",
       "  </tbody>\n",
       "</table>\n",
       "</div>"
      ],
      "text/plain": [
       "                                      fullname  \\\n",
       "1010                         Cristian Gonzáles   \n",
       "1140                              Śri Ajñadewi   \n",
       "1211                              Ipe Ma’aroef   \n",
       "2868                              Fauzie As’ad   \n",
       "3181                                Kiki María   \n",
       "3263                          Abdullah Wasi’an   \n",
       "3302                             Empu Prapañca   \n",
       "4597                        Manuel Carrascalão   \n",
       "6796                               Jaëll Hattu   \n",
       "6805                       Berthold Damshäuser   \n",
       "8033                            Anneke Grönloh   \n",
       "8400                            Joesoef Sou’yb   \n",
       "8552                              Fauzie As’Ad   \n",
       "8872                 Guilherme Maria Gonçalves   \n",
       "10199                 Mário Viegas Carrascalão   \n",
       "10546                   Sarah Tüffahati Mornov   \n",
       "10891                    João da Costa Tavares   \n",
       "10896                  Arnaldo dos Reis Araújo   \n",
       "11186  André Joseph Guillaume Henri Kostermans   \n",
       "11240   Sri Jayendra Dyah Dewi Prajña Paramita   \n",
       "\n",
       "                               transliteration  \n",
       "1010                         Cristian Gonzales  \n",
       "1140                              Sri Ajnadewi  \n",
       "1211                              Ipe Ma'aroef  \n",
       "2868                              Fauzie As'ad  \n",
       "3181                                Kiki Maria  \n",
       "3263                          Abdullah Wasi'an  \n",
       "3302                             Empu Prapanca  \n",
       "4597                        Manuel Carrascalao  \n",
       "6796                               Jaell Hattu  \n",
       "6805                       Berthold Damshauser  \n",
       "8033                            Anneke Gronloh  \n",
       "8400                            Joesoef Sou'yb  \n",
       "8552                              Fauzie As'Ad  \n",
       "8872                 Guilherme Maria Goncalves  \n",
       "10199                 Mario Viegas Carrascalao  \n",
       "10546                   Sarah Tuffahati Mornov  \n",
       "10891                    Joao da Costa Tavares  \n",
       "10896                  Arnaldo dos Reis Araujo  \n",
       "11186  Andre Joseph Guillaume Henri Kostermans  \n",
       "11240   Sri Jayendra Dyah Dewi Prajna Paramita  "
      ]
     },
     "execution_count": 37,
     "metadata": {},
     "output_type": "execute_result"
    }
   ],
   "source": [
    "# 8. transliteration\n",
    "df_indo['transliteration'] = df_indo['fullname'].apply(lambda name: unidecode(name))\n",
    "df_indo[df_indo['fullname'] != df_indo['transliteration']][['fullname', 'transliteration']]"
   ]
  },
  {
   "cell_type": "code",
   "execution_count": 38,
   "id": "6361a3b8",
   "metadata": {},
   "outputs": [
    {
     "data": {
      "text/html": [
       "<div>\n",
       "<style scoped>\n",
       "    .dataframe tbody tr th:only-of-type {\n",
       "        vertical-align: middle;\n",
       "    }\n",
       "\n",
       "    .dataframe tbody tr th {\n",
       "        vertical-align: top;\n",
       "    }\n",
       "\n",
       "    .dataframe thead th {\n",
       "        text-align: right;\n",
       "    }\n",
       "</style>\n",
       "<table border=\"1\" class=\"dataframe\">\n",
       "  <thead>\n",
       "    <tr style=\"text-align: right;\">\n",
       "      <th></th>\n",
       "      <th>fullname</th>\n",
       "      <th>alphabet</th>\n",
       "      <th>unigrams</th>\n",
       "      <th>bigrams</th>\n",
       "      <th>trigrams</th>\n",
       "      <th>char_ngrams</th>\n",
       "      <th>word_ngrams</th>\n",
       "      <th>name_length</th>\n",
       "      <th>avg_token_length</th>\n",
       "      <th>num_tokens</th>\n",
       "      <th>transliteration</th>\n",
       "      <th>period_freq</th>\n",
       "      <th>dash_freq</th>\n",
       "      <th>apostrophe_freq</th>\n",
       "    </tr>\n",
       "  </thead>\n",
       "  <tbody>\n",
       "    <tr>\n",
       "      <th>11241</th>\n",
       "      <td>Edwel Yusri Datuak Rajo Gampo Alam</td>\n",
       "      <td>[LATIN, LATIN, LATIN, LATIN, LATIN, SPACE, LAT...</td>\n",
       "      <td>[E, d, w, e, l,  , Y, u, s, r, i,  , D, a, t, ...</td>\n",
       "      <td>[(E, d), (d, w), (w, e), (e, l), (l,  ), ( , Y...</td>\n",
       "      <td>[(E, d, w), (d, w, e), (w, e, l), (e, l,  ), (...</td>\n",
       "      <td>[E, d, w, e, l,  , Y, u, s, r, i,  , D, a, t, ...</td>\n",
       "      <td>[Edwel, Yusri, Datuak, Rajo, Gampo, Alam]</td>\n",
       "      <td>34</td>\n",
       "      <td>4.833333</td>\n",
       "      <td>6</td>\n",
       "      <td>Edwel Yusri Datuak Rajo Gampo Alam</td>\n",
       "      <td>0</td>\n",
       "      <td>0</td>\n",
       "      <td>0</td>\n",
       "    </tr>\n",
       "    <tr>\n",
       "      <th>11242</th>\n",
       "      <td>Sultan Amaluddin Al Sani Perkasa Alamsyah</td>\n",
       "      <td>[LATIN, LATIN, LATIN, LATIN, LATIN, LATIN, SPA...</td>\n",
       "      <td>[S, u, l, t, a, n,  , A, m, a, l, u, d, d, i, ...</td>\n",
       "      <td>[(S, u), (u, l), (l, t), (t, a), (a, n), (n,  ...</td>\n",
       "      <td>[(S, u, l), (u, l, t), (l, t, a), (t, a, n), (...</td>\n",
       "      <td>[S, u, l, t, a, n,  , A, m, a, l, u, d, d, i, ...</td>\n",
       "      <td>[Sultan, Amaluddin, Al, Sani, Perkasa, Alamsyah]</td>\n",
       "      <td>41</td>\n",
       "      <td>6.000000</td>\n",
       "      <td>6</td>\n",
       "      <td>Sultan Amaluddin Al Sani Perkasa Alamsyah</td>\n",
       "      <td>0</td>\n",
       "      <td>0</td>\n",
       "      <td>0</td>\n",
       "    </tr>\n",
       "    <tr>\n",
       "      <th>11243</th>\n",
       "      <td>Prof. Dr. Ir. Antonius Suwanto, M.Sc</td>\n",
       "      <td>[LATIN, LATIN, LATIN, LATIN, FULL, SPACE, LATI...</td>\n",
       "      <td>[P, r, o, f, .,  , D, r, .,  , I, r, .,  , A, ...</td>\n",
       "      <td>[(P, r), (r, o), (o, f), (f, .), (.,  ), ( , D...</td>\n",
       "      <td>[(P, r, o), (r, o, f), (o, f, .), (f, .,  ), (...</td>\n",
       "      <td>[P, r, o, f, .,  , D, r, .,  , I, r, .,  , A, ...</td>\n",
       "      <td>[Prof., Dr., Ir., Antonius, Suwanto,, M.Sc]</td>\n",
       "      <td>36</td>\n",
       "      <td>5.166667</td>\n",
       "      <td>6</td>\n",
       "      <td>Prof. Dr. Ir. Antonius Suwanto, M.Sc</td>\n",
       "      <td>4</td>\n",
       "      <td>0</td>\n",
       "      <td>0</td>\n",
       "    </tr>\n",
       "    <tr>\n",
       "      <th>11244</th>\n",
       "      <td>Kanjeng Raden Tumengung Mas Ariya Purnama Hadi...</td>\n",
       "      <td>[LATIN, LATIN, LATIN, LATIN, LATIN, LATIN, LAT...</td>\n",
       "      <td>[K, a, n, j, e, n, g,  , R, a, d, e, n,  , T, ...</td>\n",
       "      <td>[(K, a), (a, n), (n, j), (j, e), (e, n), (n, g...</td>\n",
       "      <td>[(K, a, n), (a, n, j), (n, j, e), (j, e, n), (...</td>\n",
       "      <td>[K, a, n, j, e, n, g,  , R, a, d, e, n,  , T, ...</td>\n",
       "      <td>[Kanjeng, Raden, Tumengung, Mas, Ariya, Purnam...</td>\n",
       "      <td>53</td>\n",
       "      <td>6.714286</td>\n",
       "      <td>7</td>\n",
       "      <td>Kanjeng Raden Tumengung Mas Ariya Purnama Hadi...</td>\n",
       "      <td>0</td>\n",
       "      <td>0</td>\n",
       "      <td>0</td>\n",
       "    </tr>\n",
       "    <tr>\n",
       "      <th>11245</th>\n",
       "      <td>Lord Kanjeng Baginda Atep Bin Lord Dari Segala...</td>\n",
       "      <td>[LATIN, LATIN, LATIN, LATIN, SPACE, LATIN, LAT...</td>\n",
       "      <td>[L, o, r, d,  , K, a, n, j, e, n, g,  , B, a, ...</td>\n",
       "      <td>[(L, o), (o, r), (r, d), (d,  ), ( , K), (K, a...</td>\n",
       "      <td>[(L, o, r), (o, r, d), (r, d,  ), (d,  , K), (...</td>\n",
       "      <td>[L, o, r, d,  , K, a, n, j, e, n, g,  , B, a, ...</td>\n",
       "      <td>[Lord, Kanjeng, Baginda, Atep, Bin, Lord, Dari...</td>\n",
       "      <td>76</td>\n",
       "      <td>5.416667</td>\n",
       "      <td>12</td>\n",
       "      <td>Lord Kanjeng Baginda Atep Bin Lord Dari Segala...</td>\n",
       "      <td>0</td>\n",
       "      <td>0</td>\n",
       "      <td>0</td>\n",
       "    </tr>\n",
       "  </tbody>\n",
       "</table>\n",
       "</div>"
      ],
      "text/plain": [
       "                                                fullname  \\\n",
       "11241                 Edwel Yusri Datuak Rajo Gampo Alam   \n",
       "11242          Sultan Amaluddin Al Sani Perkasa Alamsyah   \n",
       "11243               Prof. Dr. Ir. Antonius Suwanto, M.Sc   \n",
       "11244  Kanjeng Raden Tumengung Mas Ariya Purnama Hadi...   \n",
       "11245  Lord Kanjeng Baginda Atep Bin Lord Dari Segala...   \n",
       "\n",
       "                                                alphabet  \\\n",
       "11241  [LATIN, LATIN, LATIN, LATIN, LATIN, SPACE, LAT...   \n",
       "11242  [LATIN, LATIN, LATIN, LATIN, LATIN, LATIN, SPA...   \n",
       "11243  [LATIN, LATIN, LATIN, LATIN, FULL, SPACE, LATI...   \n",
       "11244  [LATIN, LATIN, LATIN, LATIN, LATIN, LATIN, LAT...   \n",
       "11245  [LATIN, LATIN, LATIN, LATIN, SPACE, LATIN, LAT...   \n",
       "\n",
       "                                                unigrams  \\\n",
       "11241  [E, d, w, e, l,  , Y, u, s, r, i,  , D, a, t, ...   \n",
       "11242  [S, u, l, t, a, n,  , A, m, a, l, u, d, d, i, ...   \n",
       "11243  [P, r, o, f, .,  , D, r, .,  , I, r, .,  , A, ...   \n",
       "11244  [K, a, n, j, e, n, g,  , R, a, d, e, n,  , T, ...   \n",
       "11245  [L, o, r, d,  , K, a, n, j, e, n, g,  , B, a, ...   \n",
       "\n",
       "                                                 bigrams  \\\n",
       "11241  [(E, d), (d, w), (w, e), (e, l), (l,  ), ( , Y...   \n",
       "11242  [(S, u), (u, l), (l, t), (t, a), (a, n), (n,  ...   \n",
       "11243  [(P, r), (r, o), (o, f), (f, .), (.,  ), ( , D...   \n",
       "11244  [(K, a), (a, n), (n, j), (j, e), (e, n), (n, g...   \n",
       "11245  [(L, o), (o, r), (r, d), (d,  ), ( , K), (K, a...   \n",
       "\n",
       "                                                trigrams  \\\n",
       "11241  [(E, d, w), (d, w, e), (w, e, l), (e, l,  ), (...   \n",
       "11242  [(S, u, l), (u, l, t), (l, t, a), (t, a, n), (...   \n",
       "11243  [(P, r, o), (r, o, f), (o, f, .), (f, .,  ), (...   \n",
       "11244  [(K, a, n), (a, n, j), (n, j, e), (j, e, n), (...   \n",
       "11245  [(L, o, r), (o, r, d), (r, d,  ), (d,  , K), (...   \n",
       "\n",
       "                                             char_ngrams  \\\n",
       "11241  [E, d, w, e, l,  , Y, u, s, r, i,  , D, a, t, ...   \n",
       "11242  [S, u, l, t, a, n,  , A, m, a, l, u, d, d, i, ...   \n",
       "11243  [P, r, o, f, .,  , D, r, .,  , I, r, .,  , A, ...   \n",
       "11244  [K, a, n, j, e, n, g,  , R, a, d, e, n,  , T, ...   \n",
       "11245  [L, o, r, d,  , K, a, n, j, e, n, g,  , B, a, ...   \n",
       "\n",
       "                                             word_ngrams  name_length  \\\n",
       "11241          [Edwel, Yusri, Datuak, Rajo, Gampo, Alam]           34   \n",
       "11242   [Sultan, Amaluddin, Al, Sani, Perkasa, Alamsyah]           41   \n",
       "11243        [Prof., Dr., Ir., Antonius, Suwanto,, M.Sc]           36   \n",
       "11244  [Kanjeng, Raden, Tumengung, Mas, Ariya, Purnam...           53   \n",
       "11245  [Lord, Kanjeng, Baginda, Atep, Bin, Lord, Dari...           76   \n",
       "\n",
       "       avg_token_length  num_tokens  \\\n",
       "11241          4.833333           6   \n",
       "11242          6.000000           6   \n",
       "11243          5.166667           6   \n",
       "11244          6.714286           7   \n",
       "11245          5.416667          12   \n",
       "\n",
       "                                         transliteration  period_freq  \\\n",
       "11241                 Edwel Yusri Datuak Rajo Gampo Alam            0   \n",
       "11242          Sultan Amaluddin Al Sani Perkasa Alamsyah            0   \n",
       "11243               Prof. Dr. Ir. Antonius Suwanto, M.Sc            4   \n",
       "11244  Kanjeng Raden Tumengung Mas Ariya Purnama Hadi...            0   \n",
       "11245  Lord Kanjeng Baginda Atep Bin Lord Dari Segala...            0   \n",
       "\n",
       "       dash_freq  apostrophe_freq  \n",
       "11241          0                0  \n",
       "11242          0                0  \n",
       "11243          0                0  \n",
       "11244          0                0  \n",
       "11245          0                0  "
      ]
     },
     "execution_count": 38,
     "metadata": {},
     "output_type": "execute_result"
    }
   ],
   "source": [
    "# 9. period_freq, dash_freq, apostrophe_freq\n",
    "df_indo['period_freq'] = df_indo['fullname'].apply(lambda name: name.count('.'))\n",
    "df_indo['dash_freq'] = df_indo['fullname'].apply(lambda name: name.count('-'))\n",
    "df_indo['apostrophe_freq'] = df_indo['fullname'].apply(lambda name: name.count('\\''))\n",
    "df_indo.tail()"
   ]
  },
  {
   "cell_type": "code",
   "execution_count": 39,
   "id": "87857a30",
   "metadata": {},
   "outputs": [
    {
     "data": {
      "text/html": [
       "<div>\n",
       "<style scoped>\n",
       "    .dataframe tbody tr th:only-of-type {\n",
       "        vertical-align: middle;\n",
       "    }\n",
       "\n",
       "    .dataframe tbody tr th {\n",
       "        vertical-align: top;\n",
       "    }\n",
       "\n",
       "    .dataframe thead th {\n",
       "        text-align: right;\n",
       "    }\n",
       "</style>\n",
       "<table border=\"1\" class=\"dataframe\">\n",
       "  <thead>\n",
       "    <tr style=\"text-align: right;\">\n",
       "      <th></th>\n",
       "      <th>fullname</th>\n",
       "      <th>alphabet</th>\n",
       "      <th>unigrams</th>\n",
       "      <th>bigrams</th>\n",
       "      <th>trigrams</th>\n",
       "      <th>char_ngrams</th>\n",
       "      <th>word_ngrams</th>\n",
       "      <th>name_length</th>\n",
       "      <th>avg_token_length</th>\n",
       "      <th>num_tokens</th>\n",
       "      <th>transliteration</th>\n",
       "      <th>period_freq</th>\n",
       "      <th>dash_freq</th>\n",
       "      <th>apostrophe_freq</th>\n",
       "      <th>space_freq</th>\n",
       "    </tr>\n",
       "  </thead>\n",
       "  <tbody>\n",
       "    <tr>\n",
       "      <th>11241</th>\n",
       "      <td>Edwel Yusri Datuak Rajo Gampo Alam</td>\n",
       "      <td>[LATIN, LATIN, LATIN, LATIN, LATIN, SPACE, LAT...</td>\n",
       "      <td>[E, d, w, e, l,  , Y, u, s, r, i,  , D, a, t, ...</td>\n",
       "      <td>[(E, d), (d, w), (w, e), (e, l), (l,  ), ( , Y...</td>\n",
       "      <td>[(E, d, w), (d, w, e), (w, e, l), (e, l,  ), (...</td>\n",
       "      <td>[E, d, w, e, l,  , Y, u, s, r, i,  , D, a, t, ...</td>\n",
       "      <td>[Edwel, Yusri, Datuak, Rajo, Gampo, Alam]</td>\n",
       "      <td>34</td>\n",
       "      <td>4.833333</td>\n",
       "      <td>6</td>\n",
       "      <td>Edwel Yusri Datuak Rajo Gampo Alam</td>\n",
       "      <td>0</td>\n",
       "      <td>0</td>\n",
       "      <td>0</td>\n",
       "      <td>5</td>\n",
       "    </tr>\n",
       "    <tr>\n",
       "      <th>11242</th>\n",
       "      <td>Sultan Amaluddin Al Sani Perkasa Alamsyah</td>\n",
       "      <td>[LATIN, LATIN, LATIN, LATIN, LATIN, LATIN, SPA...</td>\n",
       "      <td>[S, u, l, t, a, n,  , A, m, a, l, u, d, d, i, ...</td>\n",
       "      <td>[(S, u), (u, l), (l, t), (t, a), (a, n), (n,  ...</td>\n",
       "      <td>[(S, u, l), (u, l, t), (l, t, a), (t, a, n), (...</td>\n",
       "      <td>[S, u, l, t, a, n,  , A, m, a, l, u, d, d, i, ...</td>\n",
       "      <td>[Sultan, Amaluddin, Al, Sani, Perkasa, Alamsyah]</td>\n",
       "      <td>41</td>\n",
       "      <td>6.000000</td>\n",
       "      <td>6</td>\n",
       "      <td>Sultan Amaluddin Al Sani Perkasa Alamsyah</td>\n",
       "      <td>0</td>\n",
       "      <td>0</td>\n",
       "      <td>0</td>\n",
       "      <td>5</td>\n",
       "    </tr>\n",
       "    <tr>\n",
       "      <th>11243</th>\n",
       "      <td>Prof. Dr. Ir. Antonius Suwanto, M.Sc</td>\n",
       "      <td>[LATIN, LATIN, LATIN, LATIN, FULL, SPACE, LATI...</td>\n",
       "      <td>[P, r, o, f, .,  , D, r, .,  , I, r, .,  , A, ...</td>\n",
       "      <td>[(P, r), (r, o), (o, f), (f, .), (.,  ), ( , D...</td>\n",
       "      <td>[(P, r, o), (r, o, f), (o, f, .), (f, .,  ), (...</td>\n",
       "      <td>[P, r, o, f, .,  , D, r, .,  , I, r, .,  , A, ...</td>\n",
       "      <td>[Prof., Dr., Ir., Antonius, Suwanto,, M.Sc]</td>\n",
       "      <td>36</td>\n",
       "      <td>5.166667</td>\n",
       "      <td>6</td>\n",
       "      <td>Prof. Dr. Ir. Antonius Suwanto, M.Sc</td>\n",
       "      <td>4</td>\n",
       "      <td>0</td>\n",
       "      <td>0</td>\n",
       "      <td>5</td>\n",
       "    </tr>\n",
       "    <tr>\n",
       "      <th>11244</th>\n",
       "      <td>Kanjeng Raden Tumengung Mas Ariya Purnama Hadi...</td>\n",
       "      <td>[LATIN, LATIN, LATIN, LATIN, LATIN, LATIN, LAT...</td>\n",
       "      <td>[K, a, n, j, e, n, g,  , R, a, d, e, n,  , T, ...</td>\n",
       "      <td>[(K, a), (a, n), (n, j), (j, e), (e, n), (n, g...</td>\n",
       "      <td>[(K, a, n), (a, n, j), (n, j, e), (j, e, n), (...</td>\n",
       "      <td>[K, a, n, j, e, n, g,  , R, a, d, e, n,  , T, ...</td>\n",
       "      <td>[Kanjeng, Raden, Tumengung, Mas, Ariya, Purnam...</td>\n",
       "      <td>53</td>\n",
       "      <td>6.714286</td>\n",
       "      <td>7</td>\n",
       "      <td>Kanjeng Raden Tumengung Mas Ariya Purnama Hadi...</td>\n",
       "      <td>0</td>\n",
       "      <td>0</td>\n",
       "      <td>0</td>\n",
       "      <td>6</td>\n",
       "    </tr>\n",
       "    <tr>\n",
       "      <th>11245</th>\n",
       "      <td>Lord Kanjeng Baginda Atep Bin Lord Dari Segala...</td>\n",
       "      <td>[LATIN, LATIN, LATIN, LATIN, SPACE, LATIN, LAT...</td>\n",
       "      <td>[L, o, r, d,  , K, a, n, j, e, n, g,  , B, a, ...</td>\n",
       "      <td>[(L, o), (o, r), (r, d), (d,  ), ( , K), (K, a...</td>\n",
       "      <td>[(L, o, r), (o, r, d), (r, d,  ), (d,  , K), (...</td>\n",
       "      <td>[L, o, r, d,  , K, a, n, j, e, n, g,  , B, a, ...</td>\n",
       "      <td>[Lord, Kanjeng, Baginda, Atep, Bin, Lord, Dari...</td>\n",
       "      <td>76</td>\n",
       "      <td>5.416667</td>\n",
       "      <td>12</td>\n",
       "      <td>Lord Kanjeng Baginda Atep Bin Lord Dari Segala...</td>\n",
       "      <td>0</td>\n",
       "      <td>0</td>\n",
       "      <td>0</td>\n",
       "      <td>11</td>\n",
       "    </tr>\n",
       "  </tbody>\n",
       "</table>\n",
       "</div>"
      ],
      "text/plain": [
       "                                                fullname  \\\n",
       "11241                 Edwel Yusri Datuak Rajo Gampo Alam   \n",
       "11242          Sultan Amaluddin Al Sani Perkasa Alamsyah   \n",
       "11243               Prof. Dr. Ir. Antonius Suwanto, M.Sc   \n",
       "11244  Kanjeng Raden Tumengung Mas Ariya Purnama Hadi...   \n",
       "11245  Lord Kanjeng Baginda Atep Bin Lord Dari Segala...   \n",
       "\n",
       "                                                alphabet  \\\n",
       "11241  [LATIN, LATIN, LATIN, LATIN, LATIN, SPACE, LAT...   \n",
       "11242  [LATIN, LATIN, LATIN, LATIN, LATIN, LATIN, SPA...   \n",
       "11243  [LATIN, LATIN, LATIN, LATIN, FULL, SPACE, LATI...   \n",
       "11244  [LATIN, LATIN, LATIN, LATIN, LATIN, LATIN, LAT...   \n",
       "11245  [LATIN, LATIN, LATIN, LATIN, SPACE, LATIN, LAT...   \n",
       "\n",
       "                                                unigrams  \\\n",
       "11241  [E, d, w, e, l,  , Y, u, s, r, i,  , D, a, t, ...   \n",
       "11242  [S, u, l, t, a, n,  , A, m, a, l, u, d, d, i, ...   \n",
       "11243  [P, r, o, f, .,  , D, r, .,  , I, r, .,  , A, ...   \n",
       "11244  [K, a, n, j, e, n, g,  , R, a, d, e, n,  , T, ...   \n",
       "11245  [L, o, r, d,  , K, a, n, j, e, n, g,  , B, a, ...   \n",
       "\n",
       "                                                 bigrams  \\\n",
       "11241  [(E, d), (d, w), (w, e), (e, l), (l,  ), ( , Y...   \n",
       "11242  [(S, u), (u, l), (l, t), (t, a), (a, n), (n,  ...   \n",
       "11243  [(P, r), (r, o), (o, f), (f, .), (.,  ), ( , D...   \n",
       "11244  [(K, a), (a, n), (n, j), (j, e), (e, n), (n, g...   \n",
       "11245  [(L, o), (o, r), (r, d), (d,  ), ( , K), (K, a...   \n",
       "\n",
       "                                                trigrams  \\\n",
       "11241  [(E, d, w), (d, w, e), (w, e, l), (e, l,  ), (...   \n",
       "11242  [(S, u, l), (u, l, t), (l, t, a), (t, a, n), (...   \n",
       "11243  [(P, r, o), (r, o, f), (o, f, .), (f, .,  ), (...   \n",
       "11244  [(K, a, n), (a, n, j), (n, j, e), (j, e, n), (...   \n",
       "11245  [(L, o, r), (o, r, d), (r, d,  ), (d,  , K), (...   \n",
       "\n",
       "                                             char_ngrams  \\\n",
       "11241  [E, d, w, e, l,  , Y, u, s, r, i,  , D, a, t, ...   \n",
       "11242  [S, u, l, t, a, n,  , A, m, a, l, u, d, d, i, ...   \n",
       "11243  [P, r, o, f, .,  , D, r, .,  , I, r, .,  , A, ...   \n",
       "11244  [K, a, n, j, e, n, g,  , R, a, d, e, n,  , T, ...   \n",
       "11245  [L, o, r, d,  , K, a, n, j, e, n, g,  , B, a, ...   \n",
       "\n",
       "                                             word_ngrams  name_length  \\\n",
       "11241          [Edwel, Yusri, Datuak, Rajo, Gampo, Alam]           34   \n",
       "11242   [Sultan, Amaluddin, Al, Sani, Perkasa, Alamsyah]           41   \n",
       "11243        [Prof., Dr., Ir., Antonius, Suwanto,, M.Sc]           36   \n",
       "11244  [Kanjeng, Raden, Tumengung, Mas, Ariya, Purnam...           53   \n",
       "11245  [Lord, Kanjeng, Baginda, Atep, Bin, Lord, Dari...           76   \n",
       "\n",
       "       avg_token_length  num_tokens  \\\n",
       "11241          4.833333           6   \n",
       "11242          6.000000           6   \n",
       "11243          5.166667           6   \n",
       "11244          6.714286           7   \n",
       "11245          5.416667          12   \n",
       "\n",
       "                                         transliteration  period_freq  \\\n",
       "11241                 Edwel Yusri Datuak Rajo Gampo Alam            0   \n",
       "11242          Sultan Amaluddin Al Sani Perkasa Alamsyah            0   \n",
       "11243               Prof. Dr. Ir. Antonius Suwanto, M.Sc            4   \n",
       "11244  Kanjeng Raden Tumengung Mas Ariya Purnama Hadi...            0   \n",
       "11245  Lord Kanjeng Baginda Atep Bin Lord Dari Segala...            0   \n",
       "\n",
       "       dash_freq  apostrophe_freq  space_freq  \n",
       "11241          0                0           5  \n",
       "11242          0                0           5  \n",
       "11243          0                0           5  \n",
       "11244          0                0           6  \n",
       "11245          0                0          11  "
      ]
     },
     "execution_count": 39,
     "metadata": {},
     "output_type": "execute_result"
    }
   ],
   "source": [
    "# 10. space_freq\n",
    "df_indo['space_freq'] = df_indo['fullname'].apply(lambda name: name.count(' '))\n",
    "df_indo.tail()"
   ]
  },
  {
   "cell_type": "markdown",
   "id": "3ed2fbfa",
   "metadata": {},
   "source": [
    "### Malay Dataset Feature Engineering"
   ]
  },
  {
   "cell_type": "markdown",
   "id": "6ddf172d",
   "metadata": {},
   "source": [
    "We will implement the same features for the Malay dataset."
   ]
  },
  {
   "cell_type": "code",
   "execution_count": 40,
   "id": "392df61d",
   "metadata": {},
   "outputs": [
    {
     "data": {
      "text/html": [
       "<div>\n",
       "<style scoped>\n",
       "    .dataframe tbody tr th:only-of-type {\n",
       "        vertical-align: middle;\n",
       "    }\n",
       "\n",
       "    .dataframe tbody tr th {\n",
       "        vertical-align: top;\n",
       "    }\n",
       "\n",
       "    .dataframe thead th {\n",
       "        text-align: right;\n",
       "    }\n",
       "</style>\n",
       "<table border=\"1\" class=\"dataframe\">\n",
       "  <thead>\n",
       "    <tr style=\"text-align: right;\">\n",
       "      <th></th>\n",
       "      <th>fullname</th>\n",
       "    </tr>\n",
       "  </thead>\n",
       "  <tbody>\n",
       "    <tr>\n",
       "      <th>0</th>\n",
       "      <td>Annuar Rapaee</td>\n",
       "    </tr>\n",
       "    <tr>\n",
       "      <th>1</th>\n",
       "      <td>Tash Yong</td>\n",
       "    </tr>\n",
       "    <tr>\n",
       "      <th>2</th>\n",
       "      <td>Fatmawati</td>\n",
       "    </tr>\n",
       "    <tr>\n",
       "      <th>3</th>\n",
       "      <td>Alto Linus</td>\n",
       "    </tr>\n",
       "    <tr>\n",
       "      <th>4</th>\n",
       "      <td>Mohamad Izzat Abdul Halil</td>\n",
       "    </tr>\n",
       "  </tbody>\n",
       "</table>\n",
       "</div>"
      ],
      "text/plain": [
       "                    fullname\n",
       "0              Annuar Rapaee\n",
       "1                  Tash Yong\n",
       "2                  Fatmawati\n",
       "3                 Alto Linus\n",
       "4  Mohamad Izzat Abdul Halil"
      ]
     },
     "execution_count": 40,
     "metadata": {},
     "output_type": "execute_result"
    }
   ],
   "source": [
    "df_malay.head()"
   ]
  },
  {
   "cell_type": "code",
   "execution_count": 41,
   "id": "efdbf1fd",
   "metadata": {},
   "outputs": [
    {
     "name": "stdout",
     "output_type": "stream",
     "text": [
      "Names with special characters:\n",
      "                                               fullname  \\\n",
      "1070                    Tunku Imran ibni Tuanku Ja’afar   \n",
      "1992  Sultan Ahmad Shah Al-Musta’in Billah ibni Alma...   \n",
      "2134   Tuanku Ja’afar ibni Almarhum Tuanku Abdul Rahman   \n",
      "2259                                     Junior Eldstål   \n",
      "2728                   Sultan Abdul Halim Mu’adzam Shah   \n",
      "\n",
      "                                        transliteration  \n",
      "1070                    Tunku Imran ibni Tuanku Ja'afar  \n",
      "1992  Sultan Ahmad Shah Al-Musta'in Billah ibni Alma...  \n",
      "2134   Tuanku Ja'afar ibni Almarhum Tuanku Abdul Rahman  \n",
      "2259                                     Junior Eldstal  \n",
      "2728                   Sultan Abdul Halim Mu'adzam Shah  \n"
     ]
    },
    {
     "data": {
      "text/html": [
       "<div>\n",
       "<style scoped>\n",
       "    .dataframe tbody tr th:only-of-type {\n",
       "        vertical-align: middle;\n",
       "    }\n",
       "\n",
       "    .dataframe tbody tr th {\n",
       "        vertical-align: top;\n",
       "    }\n",
       "\n",
       "    .dataframe thead th {\n",
       "        text-align: right;\n",
       "    }\n",
       "</style>\n",
       "<table border=\"1\" class=\"dataframe\">\n",
       "  <thead>\n",
       "    <tr style=\"text-align: right;\">\n",
       "      <th></th>\n",
       "      <th>fullname</th>\n",
       "      <th>alphabet</th>\n",
       "      <th>unigrams</th>\n",
       "      <th>bigrams</th>\n",
       "      <th>trigrams</th>\n",
       "      <th>char_ngrams</th>\n",
       "      <th>word_ngrams</th>\n",
       "      <th>name_length</th>\n",
       "      <th>avg_token_length</th>\n",
       "      <th>num_tokens</th>\n",
       "      <th>transliteration</th>\n",
       "      <th>period_freq</th>\n",
       "      <th>dash_freq</th>\n",
       "      <th>apostrophe_freq</th>\n",
       "      <th>space_freq</th>\n",
       "    </tr>\n",
       "  </thead>\n",
       "  <tbody>\n",
       "    <tr>\n",
       "      <th>0</th>\n",
       "      <td>Annuar Rapaee</td>\n",
       "      <td>[LATIN, LATIN, LATIN, LATIN, LATIN, LATIN, SPA...</td>\n",
       "      <td>[A, n, n, u, a, r,  , R, a, p, a, e, e]</td>\n",
       "      <td>[(A, n), (n, n), (n, u), (u, a), (a, r), (r,  ...</td>\n",
       "      <td>[(A, n, n), (n, n, u), (n, u, a), (u, a, r), (...</td>\n",
       "      <td>[A, n, n, u, a, r,  , R, a, p, a, e, e, (A, n)...</td>\n",
       "      <td>[Annuar, Rapaee]</td>\n",
       "      <td>13</td>\n",
       "      <td>6.0</td>\n",
       "      <td>2</td>\n",
       "      <td>Annuar Rapaee</td>\n",
       "      <td>0</td>\n",
       "      <td>0</td>\n",
       "      <td>0</td>\n",
       "      <td>1</td>\n",
       "    </tr>\n",
       "    <tr>\n",
       "      <th>1</th>\n",
       "      <td>Tash Yong</td>\n",
       "      <td>[LATIN, LATIN, LATIN, LATIN, SPACE, LATIN, LAT...</td>\n",
       "      <td>[T, a, s, h,  , Y, o, n, g]</td>\n",
       "      <td>[(T, a), (a, s), (s, h), (h,  ), ( , Y), (Y, o...</td>\n",
       "      <td>[(T, a, s), (a, s, h), (s, h,  ), (h,  , Y), (...</td>\n",
       "      <td>[T, a, s, h,  , Y, o, n, g, (T, a), (a, s), (s...</td>\n",
       "      <td>[Tash, Yong]</td>\n",
       "      <td>9</td>\n",
       "      <td>4.0</td>\n",
       "      <td>2</td>\n",
       "      <td>Tash Yong</td>\n",
       "      <td>0</td>\n",
       "      <td>0</td>\n",
       "      <td>0</td>\n",
       "      <td>1</td>\n",
       "    </tr>\n",
       "    <tr>\n",
       "      <th>2</th>\n",
       "      <td>Fatmawati</td>\n",
       "      <td>[LATIN, LATIN, LATIN, LATIN, LATIN, LATIN, LAT...</td>\n",
       "      <td>[F, a, t, m, a, w, a, t, i]</td>\n",
       "      <td>[(F, a), (a, t), (t, m), (m, a), (a, w), (w, a...</td>\n",
       "      <td>[(F, a, t), (a, t, m), (t, m, a), (m, a, w), (...</td>\n",
       "      <td>[F, a, t, m, a, w, a, t, i, (F, a), (a, t), (t...</td>\n",
       "      <td>[Fatmawati]</td>\n",
       "      <td>9</td>\n",
       "      <td>9.0</td>\n",
       "      <td>1</td>\n",
       "      <td>Fatmawati</td>\n",
       "      <td>0</td>\n",
       "      <td>0</td>\n",
       "      <td>0</td>\n",
       "      <td>0</td>\n",
       "    </tr>\n",
       "    <tr>\n",
       "      <th>3</th>\n",
       "      <td>Alto Linus</td>\n",
       "      <td>[LATIN, LATIN, LATIN, LATIN, SPACE, LATIN, LAT...</td>\n",
       "      <td>[A, l, t, o,  , L, i, n, u, s]</td>\n",
       "      <td>[(A, l), (l, t), (t, o), (o,  ), ( , L), (L, i...</td>\n",
       "      <td>[(A, l, t), (l, t, o), (t, o,  ), (o,  , L), (...</td>\n",
       "      <td>[A, l, t, o,  , L, i, n, u, s, (A, l), (l, t),...</td>\n",
       "      <td>[Alto, Linus]</td>\n",
       "      <td>10</td>\n",
       "      <td>4.5</td>\n",
       "      <td>2</td>\n",
       "      <td>Alto Linus</td>\n",
       "      <td>0</td>\n",
       "      <td>0</td>\n",
       "      <td>0</td>\n",
       "      <td>1</td>\n",
       "    </tr>\n",
       "    <tr>\n",
       "      <th>4</th>\n",
       "      <td>Mohamad Izzat Abdul Halil</td>\n",
       "      <td>[LATIN, LATIN, LATIN, LATIN, LATIN, LATIN, LAT...</td>\n",
       "      <td>[M, o, h, a, m, a, d,  , I, z, z, a, t,  , A, ...</td>\n",
       "      <td>[(M, o), (o, h), (h, a), (a, m), (m, a), (a, d...</td>\n",
       "      <td>[(M, o, h), (o, h, a), (h, a, m), (a, m, a), (...</td>\n",
       "      <td>[M, o, h, a, m, a, d,  , I, z, z, a, t,  , A, ...</td>\n",
       "      <td>[Mohamad, Izzat, Abdul, Halil]</td>\n",
       "      <td>25</td>\n",
       "      <td>5.5</td>\n",
       "      <td>4</td>\n",
       "      <td>Mohamad Izzat Abdul Halil</td>\n",
       "      <td>0</td>\n",
       "      <td>0</td>\n",
       "      <td>0</td>\n",
       "      <td>3</td>\n",
       "    </tr>\n",
       "  </tbody>\n",
       "</table>\n",
       "</div>"
      ],
      "text/plain": [
       "                    fullname  \\\n",
       "0              Annuar Rapaee   \n",
       "1                  Tash Yong   \n",
       "2                  Fatmawati   \n",
       "3                 Alto Linus   \n",
       "4  Mohamad Izzat Abdul Halil   \n",
       "\n",
       "                                            alphabet  \\\n",
       "0  [LATIN, LATIN, LATIN, LATIN, LATIN, LATIN, SPA...   \n",
       "1  [LATIN, LATIN, LATIN, LATIN, SPACE, LATIN, LAT...   \n",
       "2  [LATIN, LATIN, LATIN, LATIN, LATIN, LATIN, LAT...   \n",
       "3  [LATIN, LATIN, LATIN, LATIN, SPACE, LATIN, LAT...   \n",
       "4  [LATIN, LATIN, LATIN, LATIN, LATIN, LATIN, LAT...   \n",
       "\n",
       "                                            unigrams  \\\n",
       "0            [A, n, n, u, a, r,  , R, a, p, a, e, e]   \n",
       "1                        [T, a, s, h,  , Y, o, n, g]   \n",
       "2                        [F, a, t, m, a, w, a, t, i]   \n",
       "3                     [A, l, t, o,  , L, i, n, u, s]   \n",
       "4  [M, o, h, a, m, a, d,  , I, z, z, a, t,  , A, ...   \n",
       "\n",
       "                                             bigrams  \\\n",
       "0  [(A, n), (n, n), (n, u), (u, a), (a, r), (r,  ...   \n",
       "1  [(T, a), (a, s), (s, h), (h,  ), ( , Y), (Y, o...   \n",
       "2  [(F, a), (a, t), (t, m), (m, a), (a, w), (w, a...   \n",
       "3  [(A, l), (l, t), (t, o), (o,  ), ( , L), (L, i...   \n",
       "4  [(M, o), (o, h), (h, a), (a, m), (m, a), (a, d...   \n",
       "\n",
       "                                            trigrams  \\\n",
       "0  [(A, n, n), (n, n, u), (n, u, a), (u, a, r), (...   \n",
       "1  [(T, a, s), (a, s, h), (s, h,  ), (h,  , Y), (...   \n",
       "2  [(F, a, t), (a, t, m), (t, m, a), (m, a, w), (...   \n",
       "3  [(A, l, t), (l, t, o), (t, o,  ), (o,  , L), (...   \n",
       "4  [(M, o, h), (o, h, a), (h, a, m), (a, m, a), (...   \n",
       "\n",
       "                                         char_ngrams  \\\n",
       "0  [A, n, n, u, a, r,  , R, a, p, a, e, e, (A, n)...   \n",
       "1  [T, a, s, h,  , Y, o, n, g, (T, a), (a, s), (s...   \n",
       "2  [F, a, t, m, a, w, a, t, i, (F, a), (a, t), (t...   \n",
       "3  [A, l, t, o,  , L, i, n, u, s, (A, l), (l, t),...   \n",
       "4  [M, o, h, a, m, a, d,  , I, z, z, a, t,  , A, ...   \n",
       "\n",
       "                      word_ngrams  name_length  avg_token_length  num_tokens  \\\n",
       "0                [Annuar, Rapaee]           13               6.0           2   \n",
       "1                    [Tash, Yong]            9               4.0           2   \n",
       "2                     [Fatmawati]            9               9.0           1   \n",
       "3                   [Alto, Linus]           10               4.5           2   \n",
       "4  [Mohamad, Izzat, Abdul, Halil]           25               5.5           4   \n",
       "\n",
       "             transliteration  period_freq  dash_freq  apostrophe_freq  \\\n",
       "0              Annuar Rapaee            0          0                0   \n",
       "1                  Tash Yong            0          0                0   \n",
       "2                  Fatmawati            0          0                0   \n",
       "3                 Alto Linus            0          0                0   \n",
       "4  Mohamad Izzat Abdul Halil            0          0                0   \n",
       "\n",
       "   space_freq  \n",
       "0           1  \n",
       "1           1  \n",
       "2           0  \n",
       "3           1  \n",
       "4           3  "
      ]
     },
     "execution_count": 41,
     "metadata": {},
     "output_type": "execute_result"
    }
   ],
   "source": [
    "# 1. alphabet\n",
    "df_malay['alphabet'] = df_malay['fullname'].apply(get_alphabet)\n",
    "\n",
    "# 2. unigrams, bigrams, trigrams, char_ngrams\n",
    "df_malay['unigrams'] = df_malay['fullname'].apply(lambda name: list(name))\n",
    "df_malay['bigrams'] = df_malay['fullname'].apply(lambda name: list(ngrams(list(name), 2)))\n",
    "df_malay['trigrams'] = df_malay['fullname'].apply(lambda name: list(ngrams(list(name), 3)))\n",
    "df_malay['char_ngrams'] = df_malay['unigrams'] + df_malay['bigrams'] + df_malay['trigrams']\n",
    "\n",
    "# 3. word_ngrams\n",
    "df_malay['word_ngrams'] = df_malay['fullname'].apply(lambda name: name.split())\n",
    "\n",
    "# 4. a_hat_freq - skipped\n",
    "\n",
    "# 5. name_length\n",
    "df_malay['name_length'] = df_malay['fullname'].apply(len)\n",
    "\n",
    "# 6. avg_token_length\n",
    "tokens = df_malay['fullname'].apply(lambda name: name.split(' '))\n",
    "token_lengths = tokens.apply(lambda token_list: [len(token) for token in token_list])\n",
    "df_malay['avg_token_length'] = token_lengths.apply(np.mean)\n",
    "\n",
    "# 7. num_tokens\n",
    "df_malay['num_tokens'] = df_malay['fullname'].apply(lambda name: len(name.split(' ')))\n",
    "\n",
    "# 8. transliteration\n",
    "df_malay['transliteration'] = df_malay['fullname'].apply(lambda name: unidecode(name))\n",
    "print(\"Names with special characters:\")\n",
    "print(pd.DataFrame(df_malay[df_malay['fullname'] != df_malay['transliteration']][['fullname', 'transliteration']]))\n",
    "\n",
    "# 9. period_freq, dash_freq, apostrophe_freq\n",
    "df_malay['period_freq'] = df_malay['fullname'].apply(lambda name: name.count('.'))\n",
    "df_malay['dash_freq'] = df_malay['fullname'].apply(lambda name: name.count('-'))\n",
    "df_malay['apostrophe_freq'] = df_malay['fullname'].apply(lambda name: name.count('\\''))\n",
    "\n",
    "# 10. space_freq\n",
    "df_malay['space_freq'] = df_malay['fullname'].apply(lambda name: name.count(' '))\n",
    "\n",
    "df_malay.head()"
   ]
  }
 ],
 "metadata": {
  "kernelspec": {
   "display_name": "Python 3 (ipykernel)",
   "language": "python",
   "name": "python3"
  },
  "language_info": {
   "codemirror_mode": {
    "name": "ipython",
    "version": 3
   },
   "file_extension": ".py",
   "mimetype": "text/x-python",
   "name": "python",
   "nbconvert_exporter": "python",
   "pygments_lexer": "ipython3",
   "version": "3.11.5"
  }
 },
 "nbformat": 4,
 "nbformat_minor": 5
}
