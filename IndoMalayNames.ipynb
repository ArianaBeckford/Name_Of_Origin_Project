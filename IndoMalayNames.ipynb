{
 "cells": [
  {
   "cell_type": "code",
   "execution_count": 1,
   "id": "9ce57351-b62e-4a49-9666-aa41fd4ab033",
   "metadata": {},
   "outputs": [],
   "source": [
    "import pandas as pd\n",
    "import numpy as np"
   ]
  },
  {
   "cell_type": "markdown",
   "id": "6ce5ad2f",
   "metadata": {},
   "source": [
    "## Data Cleaning"
   ]
  },
  {
   "cell_type": "markdown",
   "id": "da6973de",
   "metadata": {},
   "source": [
    "### Cleaning Indonesian Dataset"
   ]
  },
  {
   "cell_type": "markdown",
   "id": "ffab1f19",
   "metadata": {},
   "source": [
    "We have two Indonesian datasets, so let's compare them:"
   ]
  },
  {
   "cell_type": "code",
   "execution_count": 2,
   "id": "cf99b135",
   "metadata": {},
   "outputs": [
    {
     "data": {
      "text/html": [
       "<div>\n",
       "<style scoped>\n",
       "    .dataframe tbody tr th:only-of-type {\n",
       "        vertical-align: middle;\n",
       "    }\n",
       "\n",
       "    .dataframe tbody tr th {\n",
       "        vertical-align: top;\n",
       "    }\n",
       "\n",
       "    .dataframe thead th {\n",
       "        text-align: right;\n",
       "    }\n",
       "</style>\n",
       "<table border=\"1\" class=\"dataframe\">\n",
       "  <thead>\n",
       "    <tr style=\"text-align: right;\">\n",
       "      <th></th>\n",
       "      <th>Unnamed: 0</th>\n",
       "      <th>fullname</th>\n",
       "      <th>Family name</th>\n",
       "      <th>Given name</th>\n",
       "    </tr>\n",
       "  </thead>\n",
       "  <tbody>\n",
       "    <tr>\n",
       "      <th>0</th>\n",
       "      <td>http://www.wikidata.org/entity/Q7313790</td>\n",
       "      <td>Bertrand Antolin</td>\n",
       "      <td>NaN</td>\n",
       "      <td>NaN</td>\n",
       "    </tr>\n",
       "    <tr>\n",
       "      <th>1</th>\n",
       "      <td>http://www.wikidata.org/entity/Q15138877</td>\n",
       "      <td>Ray Rizal</td>\n",
       "      <td>NaN</td>\n",
       "      <td>NaN</td>\n",
       "    </tr>\n",
       "    <tr>\n",
       "      <th>2</th>\n",
       "      <td>http://www.wikidata.org/entity/Q17411237</td>\n",
       "      <td>Samsuridjal Djauzi</td>\n",
       "      <td>NaN</td>\n",
       "      <td>NaN</td>\n",
       "    </tr>\n",
       "    <tr>\n",
       "      <th>3</th>\n",
       "      <td>http://www.wikidata.org/entity/Q12497619</td>\n",
       "      <td>Max Arifin</td>\n",
       "      <td>NaN</td>\n",
       "      <td>NaN</td>\n",
       "    </tr>\n",
       "    <tr>\n",
       "      <th>4</th>\n",
       "      <td>http://www.wikidata.org/entity/Q7475963</td>\n",
       "      <td>Donita</td>\n",
       "      <td>NaN</td>\n",
       "      <td>NaN</td>\n",
       "    </tr>\n",
       "  </tbody>\n",
       "</table>\n",
       "</div>"
      ],
      "text/plain": [
       "                                 Unnamed: 0            fullname  Family name  \\\n",
       "0   http://www.wikidata.org/entity/Q7313790    Bertrand Antolin          NaN   \n",
       "1  http://www.wikidata.org/entity/Q15138877           Ray Rizal          NaN   \n",
       "2  http://www.wikidata.org/entity/Q17411237  Samsuridjal Djauzi          NaN   \n",
       "3  http://www.wikidata.org/entity/Q12497619          Max Arifin          NaN   \n",
       "4   http://www.wikidata.org/entity/Q7475963              Donita          NaN   \n",
       "\n",
       "   Given name  \n",
       "0         NaN  \n",
       "1         NaN  \n",
       "2         NaN  \n",
       "3         NaN  \n",
       "4         NaN  "
      ]
     },
     "execution_count": 2,
     "metadata": {},
     "output_type": "execute_result"
    }
   ],
   "source": [
    "# Inspecting first Indonesian dataset\n",
    "df_indo_1 = pd.read_excel('name_data/exigerData/EXGR_Indonesian names.xlsx')\n",
    "df_indo_1.head()"
   ]
  },
  {
   "cell_type": "code",
   "execution_count": 3,
   "id": "600905e4",
   "metadata": {},
   "outputs": [
    {
     "data": {
      "text/html": [
       "<div>\n",
       "<style scoped>\n",
       "    .dataframe tbody tr th:only-of-type {\n",
       "        vertical-align: middle;\n",
       "    }\n",
       "\n",
       "    .dataframe tbody tr th {\n",
       "        vertical-align: top;\n",
       "    }\n",
       "\n",
       "    .dataframe thead th {\n",
       "        text-align: right;\n",
       "    }\n",
       "</style>\n",
       "<table border=\"1\" class=\"dataframe\">\n",
       "  <thead>\n",
       "    <tr style=\"text-align: right;\">\n",
       "      <th></th>\n",
       "      <th>Unnamed: 0</th>\n",
       "      <th>fullname</th>\n",
       "      <th>Family name</th>\n",
       "      <th>Given name</th>\n",
       "      <th>Designation</th>\n",
       "      <th>Comment</th>\n",
       "      <th>Unnamed: 6</th>\n",
       "      <th>Unnamed: 7</th>\n",
       "    </tr>\n",
       "  </thead>\n",
       "  <tbody>\n",
       "    <tr>\n",
       "      <th>0</th>\n",
       "      <td>http://www.wikidata.org/entity/Q7475963</td>\n",
       "      <td>Donita</td>\n",
       "      <td>NaN</td>\n",
       "      <td>Donita</td>\n",
       "      <td>NaN</td>\n",
       "      <td>It is common for Indonesians to have only 1 gi...</td>\n",
       "      <td>NaN</td>\n",
       "      <td>1</td>\n",
       "    </tr>\n",
       "    <tr>\n",
       "      <th>1</th>\n",
       "      <td>http://www.wikidata.org/entity/Q7645143</td>\n",
       "      <td>Supriyadi</td>\n",
       "      <td>NaN</td>\n",
       "      <td>Supriyadi</td>\n",
       "      <td>NaN</td>\n",
       "      <td>NaN</td>\n",
       "      <td>NaN</td>\n",
       "      <td>1</td>\n",
       "    </tr>\n",
       "    <tr>\n",
       "      <th>2</th>\n",
       "      <td>http://www.wikidata.org/entity/Q7844727</td>\n",
       "      <td>Triyaningsih</td>\n",
       "      <td>NaN</td>\n",
       "      <td>Triyaningsih</td>\n",
       "      <td>NaN</td>\n",
       "      <td>NaN</td>\n",
       "      <td>NaN</td>\n",
       "      <td>1</td>\n",
       "    </tr>\n",
       "    <tr>\n",
       "      <th>3</th>\n",
       "      <td>http://www.wikidata.org/entity/Q12515781</td>\n",
       "      <td>Soerjadi</td>\n",
       "      <td>NaN</td>\n",
       "      <td>Soerjadi</td>\n",
       "      <td>NaN</td>\n",
       "      <td>NaN</td>\n",
       "      <td>NaN</td>\n",
       "      <td>1</td>\n",
       "    </tr>\n",
       "    <tr>\n",
       "      <th>4</th>\n",
       "      <td>http://www.wikidata.org/entity/Q12523244</td>\n",
       "      <td>Undunsyah</td>\n",
       "      <td>NaN</td>\n",
       "      <td>Undunsyah</td>\n",
       "      <td>NaN</td>\n",
       "      <td>NaN</td>\n",
       "      <td>NaN</td>\n",
       "      <td>1</td>\n",
       "    </tr>\n",
       "  </tbody>\n",
       "</table>\n",
       "</div>"
      ],
      "text/plain": [
       "                                 Unnamed: 0      fullname Family name  \\\n",
       "0   http://www.wikidata.org/entity/Q7475963        Donita         NaN   \n",
       "1   http://www.wikidata.org/entity/Q7645143     Supriyadi         NaN   \n",
       "2   http://www.wikidata.org/entity/Q7844727  Triyaningsih         NaN   \n",
       "3  http://www.wikidata.org/entity/Q12515781      Soerjadi         NaN   \n",
       "4  http://www.wikidata.org/entity/Q12523244     Undunsyah         NaN   \n",
       "\n",
       "     Given name Designation  \\\n",
       "0        Donita         NaN   \n",
       "1     Supriyadi         NaN   \n",
       "2  Triyaningsih         NaN   \n",
       "3      Soerjadi         NaN   \n",
       "4     Undunsyah         NaN   \n",
       "\n",
       "                                             Comment  Unnamed: 6  Unnamed: 7  \n",
       "0  It is common for Indonesians to have only 1 gi...         NaN           1  \n",
       "1                                                NaN         NaN           1  \n",
       "2                                                NaN         NaN           1  \n",
       "3                                                NaN         NaN           1  \n",
       "4                                                NaN         NaN           1  "
      ]
     },
     "execution_count": 3,
     "metadata": {},
     "output_type": "execute_result"
    }
   ],
   "source": [
    "# Inspecting second Indonesian dataset\n",
    "df_indo_2 = pd.read_excel('name_data/exigerData/EXGR_Indonesian names-2.xlsx')\n",
    "df_indo_2.head()"
   ]
  },
  {
   "cell_type": "markdown",
   "id": "1d9ed3fa",
   "metadata": {},
   "source": [
    "Are the names in the datasets the same?"
   ]
  },
  {
   "cell_type": "code",
   "execution_count": 4,
   "id": "63d4d27c",
   "metadata": {},
   "outputs": [
    {
     "name": "stdout",
     "output_type": "stream",
     "text": [
      "Names are not the same\n"
     ]
    }
   ],
   "source": [
    "try:\n",
    "    pd.testing.assert_series_equal(df_indo_1['fullname'], df_indo_2['fullname'], check_like = True)\n",
    "except:\n",
    "    print(\"Names are not the same\")"
   ]
  },
  {
   "cell_type": "markdown",
   "id": "6ad79993",
   "metadata": {},
   "source": [
    "We will investigate this further later. For now, let's look at the comments in `df_indo_2`:"
   ]
  },
  {
   "cell_type": "code",
   "execution_count": 5,
   "id": "f16b0a56",
   "metadata": {},
   "outputs": [
    {
     "name": "stdout",
     "output_type": "stream",
     "text": [
      "['It is common for Indonesians to have only 1 given name without family name.'\n",
      " nan 'Real name: Mike Lucock'\n",
      " 'This is a Javanese ancient name. The name is not used anymore. This person lived in 1028 - 1035.'\n",
      " 'Royal family name of Java identified by the designation name.']\n",
      "\n",
      "Number of names with comments: 34\n"
     ]
    },
    {
     "data": {
      "text/plain": [
       "(21727, 8)"
      ]
     },
     "execution_count": 5,
     "metadata": {},
     "output_type": "execute_result"
    }
   ],
   "source": [
    "print(df_indo_2['Comment'].unique()[:5])\n",
    "print('\\nNumber of names with comments:', len(df_indo_2['Comment'].unique()))\n",
    "df_indo_2.shape"
   ]
  },
  {
   "cell_type": "markdown",
   "id": "332b7f61",
   "metadata": {},
   "source": [
    "Since these names seem uncommon exceptions and there are only a few of them, we will remove them to make the data cleaner:"
   ]
  },
  {
   "cell_type": "code",
   "execution_count": 6,
   "id": "4290710b",
   "metadata": {},
   "outputs": [
    {
     "name": "stdout",
     "output_type": "stream",
     "text": [
      "(21689, 8)\n"
     ]
    },
    {
     "data": {
      "text/plain": [
       "array([nan], dtype=object)"
      ]
     },
     "execution_count": 6,
     "metadata": {},
     "output_type": "execute_result"
    }
   ],
   "source": [
    "df_indo_2 = df_indo_2[pd.isnull(df_indo_2['Comment'])]\n",
    "df_indo_2.reset_index()\n",
    "print(df_indo_2.shape)\n",
    "df_indo_2['Comment'].unique()"
   ]
  },
  {
   "cell_type": "markdown",
   "id": "e396edbd",
   "metadata": {},
   "source": [
    "Making dataframes consist only of the `fullname` column:"
   ]
  },
  {
   "cell_type": "code",
   "execution_count": 7,
   "id": "41dfc56a",
   "metadata": {},
   "outputs": [
    {
     "name": "stdout",
     "output_type": "stream",
     "text": [
      "df_indo_1 shape: (21730, 1)\n",
      "df_indo_2 shape: (21689, 1)\n"
     ]
    }
   ],
   "source": [
    "df_indo_1 = pd.DataFrame(df_indo_1['fullname'])\n",
    "df_indo_2 = pd.DataFrame(df_indo_2['fullname'])\n",
    "print('df_indo_1 shape:', df_indo_1.shape)\n",
    "print('df_indo_2 shape:', df_indo_2.shape)"
   ]
  },
  {
   "cell_type": "markdown",
   "id": "347e5282",
   "metadata": {},
   "source": [
    "Combining both dataframes into `df_indo`:"
   ]
  },
  {
   "cell_type": "code",
   "execution_count": 8,
   "id": "eb9512b5",
   "metadata": {},
   "outputs": [
    {
     "name": "stdout",
     "output_type": "stream",
     "text": [
      "Shape of combined data: (43419, 1)\n"
     ]
    },
    {
     "data": {
      "text/html": [
       "<div>\n",
       "<style scoped>\n",
       "    .dataframe tbody tr th:only-of-type {\n",
       "        vertical-align: middle;\n",
       "    }\n",
       "\n",
       "    .dataframe tbody tr th {\n",
       "        vertical-align: top;\n",
       "    }\n",
       "\n",
       "    .dataframe thead th {\n",
       "        text-align: right;\n",
       "    }\n",
       "</style>\n",
       "<table border=\"1\" class=\"dataframe\">\n",
       "  <thead>\n",
       "    <tr style=\"text-align: right;\">\n",
       "      <th></th>\n",
       "      <th>fullname</th>\n",
       "    </tr>\n",
       "  </thead>\n",
       "  <tbody>\n",
       "    <tr>\n",
       "      <th>0</th>\n",
       "      <td>Bertrand Antolin</td>\n",
       "    </tr>\n",
       "    <tr>\n",
       "      <th>1</th>\n",
       "      <td>Ray Rizal</td>\n",
       "    </tr>\n",
       "    <tr>\n",
       "      <th>2</th>\n",
       "      <td>Samsuridjal Djauzi</td>\n",
       "    </tr>\n",
       "    <tr>\n",
       "      <th>3</th>\n",
       "      <td>Max Arifin</td>\n",
       "    </tr>\n",
       "    <tr>\n",
       "      <th>4</th>\n",
       "      <td>Donita</td>\n",
       "    </tr>\n",
       "  </tbody>\n",
       "</table>\n",
       "</div>"
      ],
      "text/plain": [
       "             fullname\n",
       "0    Bertrand Antolin\n",
       "1           Ray Rizal\n",
       "2  Samsuridjal Djauzi\n",
       "3          Max Arifin\n",
       "4              Donita"
      ]
     },
     "execution_count": 8,
     "metadata": {},
     "output_type": "execute_result"
    }
   ],
   "source": [
    "# Combining datasets\n",
    "df_indo = pd.concat([df_indo_1, df_indo_2], ignore_index = True)\n",
    "print('Shape of combined data:', df_indo.shape)\n",
    "df_indo.head()"
   ]
  },
  {
   "cell_type": "markdown",
   "id": "b323e0f0",
   "metadata": {},
   "source": [
    "Looking for duplicate entries:"
   ]
  },
  {
   "cell_type": "code",
   "execution_count": 9,
   "id": "a9828ea6",
   "metadata": {},
   "outputs": [
    {
     "name": "stdout",
     "output_type": "stream",
     "text": [
      "32085\n"
     ]
    }
   ],
   "source": [
    "print(len(df_indo[df_indo.duplicated()]))"
   ]
  },
  {
   "cell_type": "markdown",
   "id": "b9873096",
   "metadata": {},
   "source": [
    "Since around 3/4 of the combined data consists of duplicate entries, the datasets are very similar. Let's just use `df_indo_2` since we removed the names with comments from it:"
   ]
  },
  {
   "cell_type": "code",
   "execution_count": 10,
   "id": "71064491",
   "metadata": {},
   "outputs": [
    {
     "name": "stdout",
     "output_type": "stream",
     "text": [
      "(21689, 1)\n"
     ]
    },
    {
     "data": {
      "text/html": [
       "<div>\n",
       "<style scoped>\n",
       "    .dataframe tbody tr th:only-of-type {\n",
       "        vertical-align: middle;\n",
       "    }\n",
       "\n",
       "    .dataframe tbody tr th {\n",
       "        vertical-align: top;\n",
       "    }\n",
       "\n",
       "    .dataframe thead th {\n",
       "        text-align: right;\n",
       "    }\n",
       "</style>\n",
       "<table border=\"1\" class=\"dataframe\">\n",
       "  <thead>\n",
       "    <tr style=\"text-align: right;\">\n",
       "      <th></th>\n",
       "      <th>fullname</th>\n",
       "    </tr>\n",
       "  </thead>\n",
       "  <tbody>\n",
       "    <tr>\n",
       "      <th>1</th>\n",
       "      <td>Supriyadi</td>\n",
       "    </tr>\n",
       "    <tr>\n",
       "      <th>2</th>\n",
       "      <td>Triyaningsih</td>\n",
       "    </tr>\n",
       "    <tr>\n",
       "      <th>3</th>\n",
       "      <td>Soerjadi</td>\n",
       "    </tr>\n",
       "    <tr>\n",
       "      <th>4</th>\n",
       "      <td>Undunsyah</td>\n",
       "    </tr>\n",
       "    <tr>\n",
       "      <th>5</th>\n",
       "      <td>Soeripto</td>\n",
       "    </tr>\n",
       "  </tbody>\n",
       "</table>\n",
       "</div>"
      ],
      "text/plain": [
       "       fullname\n",
       "1     Supriyadi\n",
       "2  Triyaningsih\n",
       "3      Soerjadi\n",
       "4     Undunsyah\n",
       "5      Soeripto"
      ]
     },
     "execution_count": 10,
     "metadata": {},
     "output_type": "execute_result"
    }
   ],
   "source": [
    "df_indo = df_indo_2\n",
    "print(df_indo.shape)\n",
    "df_indo.head()"
   ]
  },
  {
   "cell_type": "markdown",
   "id": "908e29e3",
   "metadata": {},
   "source": [
    "Are there duplicates?"
   ]
  },
  {
   "cell_type": "code",
   "execution_count": 11,
   "id": "9615735a",
   "metadata": {},
   "outputs": [
    {
     "data": {
      "text/plain": [
       "10376"
      ]
     },
     "execution_count": 11,
     "metadata": {},
     "output_type": "execute_result"
    }
   ],
   "source": [
    "len(df_indo[df_indo.duplicated()])"
   ]
  },
  {
   "cell_type": "markdown",
   "id": "466df5f9",
   "metadata": {},
   "source": [
    "Let's drop them:"
   ]
  },
  {
   "cell_type": "code",
   "execution_count": 12,
   "id": "11d699e9",
   "metadata": {},
   "outputs": [
    {
     "name": "stdout",
     "output_type": "stream",
     "text": [
      "False\n"
     ]
    },
    {
     "data": {
      "text/plain": [
       "(11313, 1)"
      ]
     },
     "execution_count": 12,
     "metadata": {},
     "output_type": "execute_result"
    }
   ],
   "source": [
    "# Dropping duplicates\n",
    "df_indo.drop_duplicates(inplace = True, ignore_index = True)\n",
    "print(np.any(df_indo.duplicated()))\n",
    "df_indo.shape"
   ]
  },
  {
   "cell_type": "markdown",
   "id": "468c4496",
   "metadata": {},
   "source": [
    "Let's see if there are any null entries for `fullname`:"
   ]
  },
  {
   "cell_type": "code",
   "execution_count": 13,
   "id": "a63ef18a",
   "metadata": {},
   "outputs": [
    {
     "data": {
      "text/plain": [
       "False"
      ]
     },
     "execution_count": 13,
     "metadata": {},
     "output_type": "execute_result"
    }
   ],
   "source": [
    "np.any(df_indo['fullname'].isnull())"
   ]
  },
  {
   "cell_type": "markdown",
   "id": "4485a137",
   "metadata": {},
   "source": [
    "What about entries that aren't alphanumeric aside from spaces?"
   ]
  },
  {
   "cell_type": "code",
   "execution_count": 14,
   "id": "672d2a28",
   "metadata": {},
   "outputs": [
    {
     "name": "stdout",
     "output_type": "stream",
     "text": [
      "590\n"
     ]
    },
    {
     "data": {
      "text/plain": [
       "['I. B. Rai Dharmawijaya Mantra',\n",
       " 'Mansoer Daoed Dt. Palimo Kayo',\n",
       " 'Habib Anis bin Alwi al-Habsyi',\n",
       " 'Abu Bakar (bupati Bandung Barat)',\n",
       " 'Muhammad Arsyad (pemain sepak bola)',\n",
       " 'Muhammad Hamzah (personil The Fly)',\n",
       " 'A. A. Ngurah Oka Ratmadi',\n",
       " 'Firmansyah (pemain sepak bola kelahiran 1995)',\n",
       " 'Mayjen TNI (Purn) Thomas Albert Umboh',\n",
       " 'Prof. Dr. Ir. Antonius Suwanto, M.Sc']"
      ]
     },
     "execution_count": 14,
     "metadata": {},
     "output_type": "execute_result"
    }
   ],
   "source": [
    "non_alnum_names_indo = [name for name in df_indo['fullname'] if not str.isalnum(name.replace(' ', ''))]\n",
    "print(len(non_alnum_names_indo))\n",
    "non_alnum_names_indo[-10:]"
   ]
  },
  {
   "cell_type": "markdown",
   "id": "f4a768ae",
   "metadata": {},
   "source": [
    "Some names have parentheses. Let's see exactly how many:"
   ]
  },
  {
   "cell_type": "code",
   "execution_count": 15,
   "id": "75e3a3b0",
   "metadata": {},
   "outputs": [
    {
     "name": "stdout",
     "output_type": "stream",
     "text": [
      "67\n"
     ]
    },
    {
     "data": {
      "text/plain": [
       "['Basuki (pelawak)',\n",
       " 'Mulyadi (politisi)',\n",
       " 'Fatahillah (politisi)',\n",
       " 'Trinity (penulis)',\n",
       " 'Mentari (aktris)']"
      ]
     },
     "execution_count": 15,
     "metadata": {},
     "output_type": "execute_result"
    }
   ],
   "source": [
    "paren_names_indo = [name for name in df_indo['fullname'] if name.find('(') != -1]\n",
    "print(len(paren_names_indo))\n",
    "paren_names_indo[:5]"
   ]
  },
  {
   "cell_type": "markdown",
   "id": "e8a3ebaf",
   "metadata": {},
   "source": [
    "Removing the parentheses from the names and seeing how many names are non-alphanumeric:"
   ]
  },
  {
   "cell_type": "code",
   "execution_count": 16,
   "id": "37948bcb",
   "metadata": {},
   "outputs": [
    {
     "name": "stdout",
     "output_type": "stream",
     "text": [
      "527\n"
     ]
    }
   ],
   "source": [
    "df_indo['fullname'] = df_indo['fullname'].apply(lambda name: name if name.find('(') == -1 else name[:name.find('(')])\n",
    "non_alnum_names_indo = [name for name in df_indo['fullname'] if not str.isalnum(name.replace(' ', ''))]\n",
    "print(len(non_alnum_names_indo))"
   ]
  },
  {
   "cell_type": "markdown",
   "id": "71573775",
   "metadata": {},
   "source": [
    "The number of names left isn't exactly 590 - 67 = 523 because some names with parentheses had other punctuation in it. Let's double check that there are no names with parentheses in the `fullname` column:"
   ]
  },
  {
   "cell_type": "code",
   "execution_count": 17,
   "id": "d14b22c3",
   "metadata": {},
   "outputs": [
    {
     "name": "stdout",
     "output_type": "stream",
     "text": [
      "[]\n",
      "[]\n"
     ]
    }
   ],
   "source": [
    "print([name for name in df_indo['fullname'] if name.find('(') != -1])\n",
    "print([name for name in df_indo['fullname'] if name.find(')') != -1])"
   ]
  },
  {
   "cell_type": "markdown",
   "id": "e4ecad8b",
   "metadata": {},
   "source": [
    "It's possible that we have some duplicate names after removing parentheses, so let's check for that:"
   ]
  },
  {
   "cell_type": "code",
   "execution_count": 18,
   "id": "42335776",
   "metadata": {},
   "outputs": [
    {
     "name": "stdout",
     "output_type": "stream",
     "text": [
      "4\n",
      "(11313, 1)\n"
     ]
    },
    {
     "data": {
      "text/html": [
       "<div>\n",
       "<style scoped>\n",
       "    .dataframe tbody tr th:only-of-type {\n",
       "        vertical-align: middle;\n",
       "    }\n",
       "\n",
       "    .dataframe tbody tr th {\n",
       "        vertical-align: top;\n",
       "    }\n",
       "\n",
       "    .dataframe thead th {\n",
       "        text-align: right;\n",
       "    }\n",
       "</style>\n",
       "<table border=\"1\" class=\"dataframe\">\n",
       "  <thead>\n",
       "    <tr style=\"text-align: right;\">\n",
       "      <th></th>\n",
       "      <th>fullname</th>\n",
       "    </tr>\n",
       "  </thead>\n",
       "  <tbody>\n",
       "    <tr>\n",
       "      <th>9361</th>\n",
       "      <td>Abdul Latief</td>\n",
       "    </tr>\n",
       "    <tr>\n",
       "      <th>11117</th>\n",
       "      <td>Mulyadi</td>\n",
       "    </tr>\n",
       "    <tr>\n",
       "      <th>11169</th>\n",
       "      <td>Muhammad Iqbal</td>\n",
       "    </tr>\n",
       "    <tr>\n",
       "      <th>11300</th>\n",
       "      <td>Firmansyah</td>\n",
       "    </tr>\n",
       "  </tbody>\n",
       "</table>\n",
       "</div>"
      ],
      "text/plain": [
       "              fullname\n",
       "9361     Abdul Latief \n",
       "11117         Mulyadi \n",
       "11169  Muhammad Iqbal \n",
       "11300      Firmansyah "
      ]
     },
     "execution_count": 18,
     "metadata": {},
     "output_type": "execute_result"
    }
   ],
   "source": [
    "print(len(df_indo[df_indo.duplicated()]))\n",
    "print(df_indo.shape)\n",
    "df_indo[df_indo.duplicated()]"
   ]
  },
  {
   "cell_type": "markdown",
   "id": "0ed2b094",
   "metadata": {},
   "source": [
    "Removing duplicates again:"
   ]
  },
  {
   "cell_type": "code",
   "execution_count": 19,
   "id": "21965411",
   "metadata": {},
   "outputs": [
    {
     "name": "stdout",
     "output_type": "stream",
     "text": [
      "False\n"
     ]
    },
    {
     "data": {
      "text/plain": [
       "(11309, 1)"
      ]
     },
     "execution_count": 19,
     "metadata": {},
     "output_type": "execute_result"
    }
   ],
   "source": [
    "df_indo.drop_duplicates(inplace = True, ignore_index = True)\n",
    "print(np.any(df_indo.duplicated()))\n",
    "df_indo.shape"
   ]
  },
  {
   "cell_type": "markdown",
   "id": "4147abcd",
   "metadata": {},
   "source": [
    "### Cleaning Malay Dataset"
   ]
  },
  {
   "cell_type": "markdown",
   "id": "ca528a2e",
   "metadata": {},
   "source": [
    "Let's look at the Malay dataset now:"
   ]
  },
  {
   "cell_type": "code",
   "execution_count": 20,
   "id": "198865ef-fbbc-4f4d-9bd0-2468306b99f5",
   "metadata": {},
   "outputs": [
    {
     "data": {
      "text/html": [
       "<div>\n",
       "<style scoped>\n",
       "    .dataframe tbody tr th:only-of-type {\n",
       "        vertical-align: middle;\n",
       "    }\n",
       "\n",
       "    .dataframe tbody tr th {\n",
       "        vertical-align: top;\n",
       "    }\n",
       "\n",
       "    .dataframe thead th {\n",
       "        text-align: right;\n",
       "    }\n",
       "</style>\n",
       "<table border=\"1\" class=\"dataframe\">\n",
       "  <thead>\n",
       "    <tr style=\"text-align: right;\">\n",
       "      <th></th>\n",
       "      <th>Unnamed: 0</th>\n",
       "      <th>fullname</th>\n",
       "      <th>Family name</th>\n",
       "      <th>Given name</th>\n",
       "    </tr>\n",
       "  </thead>\n",
       "  <tbody>\n",
       "    <tr>\n",
       "      <th>0</th>\n",
       "      <td>http://www.wikidata.org/entity/Q4769705</td>\n",
       "      <td>Annuar Rapaee</td>\n",
       "      <td>NaN</td>\n",
       "      <td>NaN</td>\n",
       "    </tr>\n",
       "    <tr>\n",
       "      <th>1</th>\n",
       "      <td>http://www.wikidata.org/entity/Q31186972</td>\n",
       "      <td>Tash Yong</td>\n",
       "      <td>NaN</td>\n",
       "      <td>NaN</td>\n",
       "    </tr>\n",
       "    <tr>\n",
       "      <th>2</th>\n",
       "      <td>http://www.wikidata.org/entity/Q468519</td>\n",
       "      <td>Fatmawati</td>\n",
       "      <td>NaN</td>\n",
       "      <td>NaN</td>\n",
       "    </tr>\n",
       "    <tr>\n",
       "      <th>3</th>\n",
       "      <td>http://www.wikidata.org/entity/Q4736793</td>\n",
       "      <td>Alto Linus</td>\n",
       "      <td>NaN</td>\n",
       "      <td>NaN</td>\n",
       "    </tr>\n",
       "    <tr>\n",
       "      <th>4</th>\n",
       "      <td>http://www.wikidata.org/entity/Q28837179</td>\n",
       "      <td>Mohamad Izzat Abdul Halil</td>\n",
       "      <td>NaN</td>\n",
       "      <td>NaN</td>\n",
       "    </tr>\n",
       "  </tbody>\n",
       "</table>\n",
       "</div>"
      ],
      "text/plain": [
       "                                 Unnamed: 0                   fullname  \\\n",
       "0   http://www.wikidata.org/entity/Q4769705              Annuar Rapaee   \n",
       "1  http://www.wikidata.org/entity/Q31186972                  Tash Yong   \n",
       "2    http://www.wikidata.org/entity/Q468519                  Fatmawati   \n",
       "3   http://www.wikidata.org/entity/Q4736793                 Alto Linus   \n",
       "4  http://www.wikidata.org/entity/Q28837179  Mohamad Izzat Abdul Halil   \n",
       "\n",
       "   Family name  Given name  \n",
       "0          NaN         NaN  \n",
       "1          NaN         NaN  \n",
       "2          NaN         NaN  \n",
       "3          NaN         NaN  \n",
       "4          NaN         NaN  "
      ]
     },
     "execution_count": 20,
     "metadata": {},
     "output_type": "execute_result"
    }
   ],
   "source": [
    "df_malay = pd.read_excel('name_data/exigerData/EXGR_Malay names.xlsx')\n",
    "df_malay.head()"
   ]
  },
  {
   "cell_type": "markdown",
   "id": "ef8717f3",
   "metadata": {},
   "source": [
    "Restricting the dataframe to just the `fullname` column:"
   ]
  },
  {
   "cell_type": "code",
   "execution_count": 21,
   "id": "67f18b38-9786-4a09-89eb-8036eb805140",
   "metadata": {},
   "outputs": [
    {
     "data": {
      "text/html": [
       "<div>\n",
       "<style scoped>\n",
       "    .dataframe tbody tr th:only-of-type {\n",
       "        vertical-align: middle;\n",
       "    }\n",
       "\n",
       "    .dataframe tbody tr th {\n",
       "        vertical-align: top;\n",
       "    }\n",
       "\n",
       "    .dataframe thead th {\n",
       "        text-align: right;\n",
       "    }\n",
       "</style>\n",
       "<table border=\"1\" class=\"dataframe\">\n",
       "  <thead>\n",
       "    <tr style=\"text-align: right;\">\n",
       "      <th></th>\n",
       "      <th>fullname</th>\n",
       "    </tr>\n",
       "  </thead>\n",
       "  <tbody>\n",
       "    <tr>\n",
       "      <th>0</th>\n",
       "      <td>Annuar Rapaee</td>\n",
       "    </tr>\n",
       "    <tr>\n",
       "      <th>1</th>\n",
       "      <td>Tash Yong</td>\n",
       "    </tr>\n",
       "    <tr>\n",
       "      <th>2</th>\n",
       "      <td>Fatmawati</td>\n",
       "    </tr>\n",
       "    <tr>\n",
       "      <th>3</th>\n",
       "      <td>Alto Linus</td>\n",
       "    </tr>\n",
       "    <tr>\n",
       "      <th>4</th>\n",
       "      <td>Mohamad Izzat Abdul Halil</td>\n",
       "    </tr>\n",
       "  </tbody>\n",
       "</table>\n",
       "</div>"
      ],
      "text/plain": [
       "                    fullname\n",
       "0              Annuar Rapaee\n",
       "1                  Tash Yong\n",
       "2                  Fatmawati\n",
       "3                 Alto Linus\n",
       "4  Mohamad Izzat Abdul Halil"
      ]
     },
     "execution_count": 21,
     "metadata": {},
     "output_type": "execute_result"
    }
   ],
   "source": [
    "df_malay = pd.DataFrame(df_malay['fullname'])\n",
    "df_malay.head()"
   ]
  },
  {
   "cell_type": "markdown",
   "id": "5c7781e0",
   "metadata": {},
   "source": [
    "Handling duplicate values:"
   ]
  },
  {
   "cell_type": "code",
   "execution_count": 22,
   "id": "59f5101a-2472-4627-b2e3-d49de5876036",
   "metadata": {},
   "outputs": [
    {
     "name": "stdout",
     "output_type": "stream",
     "text": [
      "2016\n"
     ]
    },
    {
     "data": {
      "text/plain": [
       "(4930, 1)"
      ]
     },
     "execution_count": 22,
     "metadata": {},
     "output_type": "execute_result"
    }
   ],
   "source": [
    "# Checking for duplicate entries\n",
    "print(len(df_malay[df_malay.duplicated()]))\n",
    "df_malay.shape"
   ]
  },
  {
   "cell_type": "code",
   "execution_count": 23,
   "id": "31c6f59b-6253-485b-9941-983189159ace",
   "metadata": {},
   "outputs": [
    {
     "name": "stdout",
     "output_type": "stream",
     "text": [
      "False\n"
     ]
    },
    {
     "data": {
      "text/plain": [
       "(2914, 1)"
      ]
     },
     "execution_count": 23,
     "metadata": {},
     "output_type": "execute_result"
    }
   ],
   "source": [
    "# Removing duplicate entries\n",
    "df_malay.drop_duplicates(inplace = True, ignore_index = True)\n",
    "print(np.any(df_malay.duplicated()))\n",
    "df_malay.shape"
   ]
  },
  {
   "cell_type": "markdown",
   "id": "55dd9da7",
   "metadata": {},
   "source": [
    "Are there any null entries in `fullname`?"
   ]
  },
  {
   "cell_type": "code",
   "execution_count": 24,
   "id": "954e6532",
   "metadata": {},
   "outputs": [
    {
     "name": "stdout",
     "output_type": "stream",
     "text": [
      "False\n"
     ]
    }
   ],
   "source": [
    "print(np.any(df_malay['fullname'].isnull()))"
   ]
  },
  {
   "cell_type": "markdown",
   "id": "3b032ec5",
   "metadata": {},
   "source": [
    "Are any names non-alphanumeric aside from spaces?"
   ]
  },
  {
   "cell_type": "code",
   "execution_count": 25,
   "id": "288b9918",
   "metadata": {},
   "outputs": [
    {
     "name": "stdout",
     "output_type": "stream",
     "text": [
      "200\n"
     ]
    },
    {
     "data": {
      "text/plain": [
       "['Adenan Hj. Satem',\n",
       " 'P. Balasubramaniam',\n",
       " \"Abdullah Ma'ayat Shah\",\n",
       " \"Mohd Shahril Sa'ari\",\n",
       " 'E. E. C. Thuraisingham',\n",
       " 'Ibrahim Ali (Malaysia)',\n",
       " 'Faradina Mohd. Nadzir',\n",
       " 'Aril (AF 7)',\n",
       " 'Sultan Hisamuddin Alam Shah Al-Haj ibni Almarhum Sultan Alaeddin Sulaiman Shah',\n",
       " \"Ismail Faruqi Asha'ri\"]"
      ]
     },
     "execution_count": 25,
     "metadata": {},
     "output_type": "execute_result"
    }
   ],
   "source": [
    "non_alnum_names_malay = [name for name in df_malay['fullname'] if not str.isalnum(name.replace(' ', ''))]\n",
    "print(len(non_alnum_names_malay))\n",
    "non_alnum_names_malay[-10:]"
   ]
  },
  {
   "cell_type": "markdown",
   "id": "548576d0",
   "metadata": {},
   "source": [
    "Again, we have parentheses at the end, so let's remove them:"
   ]
  },
  {
   "cell_type": "code",
   "execution_count": 26,
   "id": "a8274556",
   "metadata": {},
   "outputs": [
    {
     "name": "stdout",
     "output_type": "stream",
     "text": [
      "192\n"
     ]
    }
   ],
   "source": [
    "df_malay['fullname'] = df_malay['fullname'].apply(lambda name: name if name.find('(') == -1 else name[:name.find('(')])\n",
    "non_alnum_names_malay = [name for name in df_malay['fullname'] if not str.isalnum(name.replace(' ', ''))]\n",
    "print(len(non_alnum_names_malay))"
   ]
  }
 ],
 "metadata": {
  "kernelspec": {
   "display_name": "Python 3 (ipykernel)",
   "language": "python",
   "name": "python3"
  },
  "language_info": {
   "codemirror_mode": {
    "name": "ipython",
    "version": 3
   },
   "file_extension": ".py",
   "mimetype": "text/x-python",
   "name": "python",
   "nbconvert_exporter": "python",
   "pygments_lexer": "ipython3",
   "version": "3.11.5"
  }
 },
 "nbformat": 4,
 "nbformat_minor": 5
}
