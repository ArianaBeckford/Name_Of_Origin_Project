{
 "cells": [
  {
   "cell_type": "code",
   "execution_count": 1,
   "id": "87fa28dd-9241-4972-9b46-1ae2ac84a528",
   "metadata": {},
   "outputs": [
    {
     "name": "stderr",
     "output_type": "stream",
     "text": [
      "[nltk_data] Downloading package stopwords to\n",
      "[nltk_data]     /Users/joliehuang/nltk_data...\n",
      "[nltk_data]   Package stopwords is already up-to-date!\n"
     ]
    }
   ],
   "source": [
    "import pandas as pd\n",
    "import numpy as np\n",
    "from textblob import TextBlob\n",
    "from alphabet_detector import AlphabetDetector\n",
    "import unicodedata\n",
    "from langdetect import detect\n",
    "import nltk\n",
    "from nltk.util import ngrams\n",
    "from nltk.corpus import stopwords\n",
    "import matplotlib.pyplot as plt\n",
    "import seaborn as sns\n",
    "\n",
    "nltk.download('stopwords')\n",
    "\n",
    "cnchar_df = pd.read_excel('name_data/exigerData/EXGR_Chinese names(Character).xlsx')\n",
    "cnrom_df = pd.read_excel(\"name_data/exigerData/EXGR_Chinese names(Romantized).xlsx\")\n",
    "viet_df = pd.read_excel(\"name_data/exigerData/EXGR_Vietnamese.xlsx\")\n",
    "\n",
    "pd.set_option('display.max_columns', None)"
   ]
  },
  {
   "cell_type": "markdown",
   "id": "fe970ec8-38a4-4c6c-b709-d1a1f22d0cf5",
   "metadata": {},
   "source": [
    "Todo:\n",
    "- clean: chinese char, chinese rom, viet"
   ]
  },
  {
   "cell_type": "code",
   "execution_count": 2,
   "id": "623f7e1d-b5e3-4d8c-9241-06ff3689b9d8",
   "metadata": {},
   "outputs": [],
   "source": [
    "#FUNCTIONS\n",
    "\n",
    "#alphabet\n",
    "def langname(name):\n",
    "    if isinstance(name, str):\n",
    "        result = []\n",
    "        for char in name:\n",
    "            try:\n",
    "                char_name = unicodedata.name(char).split(' ')[0]\n",
    "                result.append(char_name)\n",
    "            except ValueError:\n",
    "                # Handle characters without Unicode names\n",
    "                result.append(char)\n",
    "        return result\n",
    "    else:\n",
    "        return None  # Handle non-string or NaN values\n",
    "\n",
    "#num_tokens (how many parts to the name?)\n",
    "def calculate_token_length(name):\n",
    "    if isinstance(name, str):\n",
    "        # Check if the name contains Chinese characters\n",
    "        if any('\\u4e00' <= char <= '\\u9fff' for char in name):\n",
    "            # For Chinese names, count characters\n",
    "            return len(name)\n",
    "        else:\n",
    "            # For non-Chinese names, split by spaces and count words\n",
    "            return len(name.split())\n",
    "    else:\n",
    "        return None  # Handle non-string or NaN values\n",
    "\n",
    "#char_ngrams\n",
    "def generate_char_ngrams(text):\n",
    "    if isinstance(text, str):\n",
    "        # Tokenize the text into words\n",
    "        words = text.split()\n",
    "        \n",
    "        # Create unigrams, bigrams, and trigrams\n",
    "        unigrams = list(ngrams(text, 1))\n",
    "        bigrams = list(ngrams(text, 2))\n",
    "        trigrams = list(ngrams(text, 3))\n",
    "        \n",
    "        # Interpolated n-grams (combining unigrams, bigrams, and trigrams)\n",
    "        interpolated_ngrams = unigrams + bigrams + trigrams\n",
    "        \n",
    "        return interpolated_ngrams\n",
    "    else:\n",
    "        return []\n",
    "\n",
    "#name_length (length of the entire name string)\n",
    "def get_name_length(fullname):\n",
    "    if isinstance(fullname, str):\n",
    "        return len(fullname)\n",
    "    else:\n",
    "        return np.nan \n",
    "\n",
    "#unigrams\n",
    "def generate_char_unigrams(text):\n",
    "    if isinstance(text, str):\n",
    "        # Tokenize the text into characters\n",
    "        characters = list(text)\n",
    "        \n",
    "        # Create unigrams\n",
    "        unigrams = list(ngrams(characters, 1))\n",
    "        \n",
    "        return unigrams\n",
    "    else:\n",
    "        return []\n",
    "\n",
    "#bigrams\n",
    "def generate_char_bigrams(text):\n",
    "    if isinstance(text, str):\n",
    "        # Tokenize the text into characters\n",
    "        characters = list(text)\n",
    "        \n",
    "        # Create unigrams\n",
    "        bigrams = list(ngrams(characters, 2))\n",
    "        \n",
    "        return bigrams\n",
    "    else:\n",
    "        return []\n",
    "\n",
    "#trigrams\n",
    "def generate_char_trigrams(text):\n",
    "    if isinstance(text, str):\n",
    "        # Tokenize the text into characters\n",
    "        characters = list(text)\n",
    "        \n",
    "        # Create unigrams\n",
    "        trigrams = list(ngrams(characters, 3))\n",
    "        \n",
    "        return trigrams\n",
    "    else:\n",
    "        return []"
   ]
  },
  {
   "cell_type": "markdown",
   "id": "6d53f42a-15dd-4798-99ed-607f096b8c30",
   "metadata": {},
   "source": [
    "EXGR_Chinese names(Character).xlsx - CLEANING\n",
    "==="
   ]
  },
  {
   "cell_type": "code",
   "execution_count": 3,
   "id": "19a40c98-cb86-4485-97b0-87065287998e",
   "metadata": {
    "scrolled": true
   },
   "outputs": [],
   "source": [
    "pd.set_option('display.max_columns', None)\n",
    "# cnchar_df"
   ]
  },
  {
   "cell_type": "code",
   "execution_count": 4,
   "id": "2689430d-0b32-42d6-a532-c9689a093d3c",
   "metadata": {},
   "outputs": [],
   "source": [
    "duplicates = cnchar_df['fullname'].duplicated()\n",
    "# print(cnchar_df[duplicates])"
   ]
  },
  {
   "cell_type": "code",
   "execution_count": 5,
   "id": "9f31b743-096d-4b62-a13a-1a43f047ddef",
   "metadata": {},
   "outputs": [],
   "source": [
    "cnchar_df.drop_duplicates(subset=['fullname'], keep='first', inplace=True)\n",
    "# cnchar_df"
   ]
  },
  {
   "cell_type": "code",
   "execution_count": null,
   "id": "32a577d3-579e-4f8e-83ff-251220087c51",
   "metadata": {},
   "outputs": [],
   "source": []
  },
  {
   "cell_type": "code",
   "execution_count": 6,
   "id": "894e0a14-cd79-4e98-925e-558d8486c4e0",
   "metadata": {},
   "outputs": [],
   "source": [
    "# null_values = cnchar_df['fullname'].isnull()\n",
    "# print(cnchar_df[null_values])\n",
    "# NO NULL VALUES"
   ]
  },
  {
   "cell_type": "markdown",
   "id": "ea04b8ea-afa8-4599-b411-83b9334c2827",
   "metadata": {},
   "source": [
    "DATA EXPLORATION"
   ]
  },
  {
   "cell_type": "code",
   "execution_count": 7,
   "id": "0ee19c20-57da-4a67-bf0b-1df13468cbb9",
   "metadata": {},
   "outputs": [],
   "source": [
    "# cnchar_df['Notes'].unique()"
   ]
  },
  {
   "cell_type": "markdown",
   "id": "3e0022e1-5aa0-4753-a5c2-09a63b209923",
   "metadata": {},
   "source": [
    "**Maybe notes saying that it's a minority name/non-native name should be counted? Drop all the ones that say pseudonym/stage name? Maybe we can afford to drop certain examples of names, since we have so many of them...?"
   ]
  },
  {
   "cell_type": "code",
   "execution_count": 8,
   "id": "9ba21d75-ddf9-4317-b9a0-40a9aaa034a0",
   "metadata": {
    "scrolled": true
   },
   "outputs": [],
   "source": [
    "drop_notes = ['minority name', 'non-native', 'pseudonym', 'stage name',\n",
    "       'should be侯赛因.江；minority name',\n",
    "       '劉-family name of her husband;吳-her family name', 'satage name',\n",
    "       '周-family name of her husband;梁-her family name', 'fake name',\n",
    "       'pen name', '方-family name of her husband; 黄-her family name',\n",
    "       '曹-family name of her husband;王-her family name',\n",
    "       '朱-family name of her husband;李-her family name',\n",
    "       '朱-family name of her husband;葉-her family name',\n",
    "       '林-family name of her husband;鄭-her family name',\n",
    "       '梁-family name of her husband;劉- her family name ',\n",
    "       '梁-family name of her husband;高- her family name',\n",
    "       'should be 泰迪.羅賓；non-native',\n",
    "       '罗-family name of her husband;范-her family name',\n",
    "       '范-family name of her husband;徐-her family name',\n",
    "       '葉-family name of her husband；劉-her family name',\n",
    "       '蘇-family name of her husband;周- her family name', 'buddhist',\n",
    "       'family name should be in Chinese character 周',\n",
    "       '陈-family name of her husband; 冯-her family name',\n",
    "       '陳-family name of her husband;方-her family name',\n",
    "       '高-family name of her husband;金-her family name',\n",
    "       '黃-family name of her husband;馬-her family name']\n",
    "\n",
    "cnchar_df = cnchar_df[~cnchar_df['Notes'].isin(drop_notes)]\n",
    "# cnchar_df"
   ]
  },
  {
   "cell_type": "code",
   "execution_count": 9,
   "id": "285e66b6-828c-4fad-bd30-07e27e38514e",
   "metadata": {},
   "outputs": [
    {
     "data": {
      "text/plain": [
       "array([nan], dtype=object)"
      ]
     },
     "execution_count": 9,
     "metadata": {},
     "output_type": "execute_result"
    }
   ],
   "source": [
    "cnchar_df['Notes'].unique()"
   ]
  },
  {
   "cell_type": "code",
   "execution_count": 10,
   "id": "24b72573-196c-473e-9650-c9538bde7f26",
   "metadata": {},
   "outputs": [
    {
     "data": {
      "text/plain": [
       "array(['**Some commom compound Chinese surnames:东方，端木，独孤，公孙，上官，令狐，慕容，欧阳，司马，司徒，夏侯，西门，长孙，诸葛。',\n",
       "       nan], dtype=object)"
      ]
     },
     "execution_count": 10,
     "metadata": {},
     "output_type": "execute_result"
    }
   ],
   "source": [
    "cnchar_df['Unnamed: 6'].unique()"
   ]
  },
  {
   "cell_type": "code",
   "execution_count": 11,
   "id": "5ac324fa-ee20-47cb-a11c-cf9935c1e69c",
   "metadata": {},
   "outputs": [],
   "source": [
    "cnchar_df.drop(columns = ['Unnamed: 0', 'id', 'Family name', 'Given Name', 'Notes' ,'Unnamed: 6'], inplace = True)\n",
    "# cnchar_df"
   ]
  },
  {
   "cell_type": "markdown",
   "id": "7ad9e286-ae77-4e91-8090-6d5b71de3713",
   "metadata": {},
   "source": [
    "Feature Engineering (Chinese Character)"
   ]
  },
  {
   "cell_type": "code",
   "execution_count": 12,
   "id": "3aecc453-6b24-46f5-b586-bbbec0127d8f",
   "metadata": {},
   "outputs": [],
   "source": [
    "cnchar_df['alphabet'] = cnchar_df['fullname'].apply(langname)\n",
    "# cnchar_df"
   ]
  },
  {
   "cell_type": "code",
   "execution_count": 13,
   "id": "41e54507-a142-4dd6-b834-f71278fcd229",
   "metadata": {},
   "outputs": [],
   "source": [
    "cnchar_df['word_length'] = cnchar_df['fullname'].apply(get_name_length)\n",
    "# cnchar_df"
   ]
  },
  {
   "cell_type": "code",
   "execution_count": 14,
   "id": "534f0cdb-b31a-4ab4-b0df-dbe71241d039",
   "metadata": {
    "scrolled": true
   },
   "outputs": [],
   "source": [
    "cnchar_df['num_tokens'] = cnchar_df['fullname'].apply(calculate_token_length)\n",
    "# cnchar_df"
   ]
  },
  {
   "cell_type": "code",
   "execution_count": 15,
   "id": "6e02f994-f98a-4214-bffa-21b22ed87cda",
   "metadata": {},
   "outputs": [],
   "source": [
    "cnchar_df['char_ngrams'] = cnchar_df['fullname'].apply(generate_char_ngrams)\n",
    "# cnchar_df"
   ]
  },
  {
   "cell_type": "code",
   "execution_count": 16,
   "id": "34c90d32-201e-4625-9a6c-e28725f6ca29",
   "metadata": {
    "scrolled": true
   },
   "outputs": [],
   "source": [
    "cnchar_df['unigrams'] = cnchar_df['fullname'].apply(generate_char_unigrams)\n",
    "cnchar_df['bigrams'] = cnchar_df['fullname'].apply(generate_char_bigrams)\n",
    "cnchar_df['trigrams'] = cnchar_df['fullname'].apply(generate_char_trigrams)\n",
    "# cnchar_df"
   ]
  },
  {
   "cell_type": "code",
   "execution_count": 17,
   "id": "db62ee93-6a84-4c8a-88b6-61c796882843",
   "metadata": {},
   "outputs": [
    {
     "data": {
      "text/html": [
       "<div>\n",
       "<style scoped>\n",
       "    .dataframe tbody tr th:only-of-type {\n",
       "        vertical-align: middle;\n",
       "    }\n",
       "\n",
       "    .dataframe tbody tr th {\n",
       "        vertical-align: top;\n",
       "    }\n",
       "\n",
       "    .dataframe thead th {\n",
       "        text-align: right;\n",
       "    }\n",
       "</style>\n",
       "<table border=\"1\" class=\"dataframe\">\n",
       "  <thead>\n",
       "    <tr style=\"text-align: right;\">\n",
       "      <th></th>\n",
       "      <th>fullname</th>\n",
       "      <th>alphabet</th>\n",
       "      <th>word_length</th>\n",
       "      <th>num_tokens</th>\n",
       "      <th>char_ngrams</th>\n",
       "      <th>unigrams</th>\n",
       "      <th>bigrams</th>\n",
       "      <th>trigrams</th>\n",
       "      <th>period_freq</th>\n",
       "      <th>dash_freq</th>\n",
       "      <th>space_freq</th>\n",
       "      <th>apostrophe_freq</th>\n",
       "    </tr>\n",
       "  </thead>\n",
       "  <tbody>\n",
       "    <tr>\n",
       "      <th>0</th>\n",
       "      <td>丁一平</td>\n",
       "      <td>[CJK, CJK, CJK]</td>\n",
       "      <td>3</td>\n",
       "      <td>3</td>\n",
       "      <td>[(丁,), (一,), (平,), (丁, 一), (一, 平), (丁, 一, 平)]</td>\n",
       "      <td>[(丁,), (一,), (平,)]</td>\n",
       "      <td>[(丁, 一), (一, 平)]</td>\n",
       "      <td>[(丁, 一, 平)]</td>\n",
       "      <td>0</td>\n",
       "      <td>0</td>\n",
       "      <td>0</td>\n",
       "      <td>0</td>\n",
       "    </tr>\n",
       "    <tr>\n",
       "      <th>1</th>\n",
       "      <td>丁世雄</td>\n",
       "      <td>[CJK, CJK, CJK]</td>\n",
       "      <td>3</td>\n",
       "      <td>3</td>\n",
       "      <td>[(丁,), (世,), (雄,), (丁, 世), (世, 雄), (丁, 世, 雄)]</td>\n",
       "      <td>[(丁,), (世,), (雄,)]</td>\n",
       "      <td>[(丁, 世), (世, 雄)]</td>\n",
       "      <td>[(丁, 世, 雄)]</td>\n",
       "      <td>0</td>\n",
       "      <td>0</td>\n",
       "      <td>0</td>\n",
       "      <td>0</td>\n",
       "    </tr>\n",
       "    <tr>\n",
       "      <th>2</th>\n",
       "      <td>丁亦昕</td>\n",
       "      <td>[CJK, CJK, CJK]</td>\n",
       "      <td>3</td>\n",
       "      <td>3</td>\n",
       "      <td>[(丁,), (亦,), (昕,), (丁, 亦), (亦, 昕), (丁, 亦, 昕)]</td>\n",
       "      <td>[(丁,), (亦,), (昕,)]</td>\n",
       "      <td>[(丁, 亦), (亦, 昕)]</td>\n",
       "      <td>[(丁, 亦, 昕)]</td>\n",
       "      <td>0</td>\n",
       "      <td>0</td>\n",
       "      <td>0</td>\n",
       "      <td>0</td>\n",
       "    </tr>\n",
       "    <tr>\n",
       "      <th>3</th>\n",
       "      <td>丁仲礼</td>\n",
       "      <td>[CJK, CJK, CJK]</td>\n",
       "      <td>3</td>\n",
       "      <td>3</td>\n",
       "      <td>[(丁,), (仲,), (礼,), (丁, 仲), (仲, 礼), (丁, 仲, 礼)]</td>\n",
       "      <td>[(丁,), (仲,), (礼,)]</td>\n",
       "      <td>[(丁, 仲), (仲, 礼)]</td>\n",
       "      <td>[(丁, 仲, 礼)]</td>\n",
       "      <td>0</td>\n",
       "      <td>0</td>\n",
       "      <td>0</td>\n",
       "      <td>0</td>\n",
       "    </tr>\n",
       "    <tr>\n",
       "      <th>4</th>\n",
       "      <td>丁伟</td>\n",
       "      <td>[CJK, CJK]</td>\n",
       "      <td>2</td>\n",
       "      <td>2</td>\n",
       "      <td>[(丁,), (伟,), (丁, 伟)]</td>\n",
       "      <td>[(丁,), (伟,)]</td>\n",
       "      <td>[(丁, 伟)]</td>\n",
       "      <td>[]</td>\n",
       "      <td>0</td>\n",
       "      <td>0</td>\n",
       "      <td>0</td>\n",
       "      <td>0</td>\n",
       "    </tr>\n",
       "    <tr>\n",
       "      <th>...</th>\n",
       "      <td>...</td>\n",
       "      <td>...</td>\n",
       "      <td>...</td>\n",
       "      <td>...</td>\n",
       "      <td>...</td>\n",
       "      <td>...</td>\n",
       "      <td>...</td>\n",
       "      <td>...</td>\n",
       "      <td>...</td>\n",
       "      <td>...</td>\n",
       "      <td>...</td>\n",
       "      <td>...</td>\n",
       "    </tr>\n",
       "    <tr>\n",
       "      <th>12038</th>\n",
       "      <td>龚翔宇</td>\n",
       "      <td>[CJK, CJK, CJK]</td>\n",
       "      <td>3</td>\n",
       "      <td>3</td>\n",
       "      <td>[(龚,), (翔,), (宇,), (龚, 翔), (翔, 宇), (龚, 翔, 宇)]</td>\n",
       "      <td>[(龚,), (翔,), (宇,)]</td>\n",
       "      <td>[(龚, 翔), (翔, 宇)]</td>\n",
       "      <td>[(龚, 翔, 宇)]</td>\n",
       "      <td>0</td>\n",
       "      <td>0</td>\n",
       "      <td>0</td>\n",
       "      <td>0</td>\n",
       "    </tr>\n",
       "    <tr>\n",
       "      <th>12039</th>\n",
       "      <td>龚育之</td>\n",
       "      <td>[CJK, CJK, CJK]</td>\n",
       "      <td>3</td>\n",
       "      <td>3</td>\n",
       "      <td>[(龚,), (育,), (之,), (龚, 育), (育, 之), (龚, 育, 之)]</td>\n",
       "      <td>[(龚,), (育,), (之,)]</td>\n",
       "      <td>[(龚, 育), (育, 之)]</td>\n",
       "      <td>[(龚, 育, 之)]</td>\n",
       "      <td>0</td>\n",
       "      <td>0</td>\n",
       "      <td>0</td>\n",
       "      <td>0</td>\n",
       "    </tr>\n",
       "    <tr>\n",
       "      <th>12040</th>\n",
       "      <td>龚蓓苾</td>\n",
       "      <td>[CJK, CJK, CJK]</td>\n",
       "      <td>3</td>\n",
       "      <td>3</td>\n",
       "      <td>[(龚,), (蓓,), (苾,), (龚, 蓓), (蓓, 苾), (龚, 蓓, 苾)]</td>\n",
       "      <td>[(龚,), (蓓,), (苾,)]</td>\n",
       "      <td>[(龚, 蓓), (蓓, 苾)]</td>\n",
       "      <td>[(龚, 蓓, 苾)]</td>\n",
       "      <td>0</td>\n",
       "      <td>0</td>\n",
       "      <td>0</td>\n",
       "      <td>0</td>\n",
       "    </tr>\n",
       "    <tr>\n",
       "      <th>12041</th>\n",
       "      <td>龚贤永</td>\n",
       "      <td>[CJK, CJK, CJK]</td>\n",
       "      <td>3</td>\n",
       "      <td>3</td>\n",
       "      <td>[(龚,), (贤,), (永,), (龚, 贤), (贤, 永), (龚, 贤, 永)]</td>\n",
       "      <td>[(龚,), (贤,), (永,)]</td>\n",
       "      <td>[(龚, 贤), (贤, 永)]</td>\n",
       "      <td>[(龚, 贤, 永)]</td>\n",
       "      <td>0</td>\n",
       "      <td>0</td>\n",
       "      <td>0</td>\n",
       "      <td>0</td>\n",
       "    </tr>\n",
       "    <tr>\n",
       "      <th>12042</th>\n",
       "      <td>龚鼎</td>\n",
       "      <td>[CJK, CJK]</td>\n",
       "      <td>2</td>\n",
       "      <td>2</td>\n",
       "      <td>[(龚,), (鼎,), (龚, 鼎)]</td>\n",
       "      <td>[(龚,), (鼎,)]</td>\n",
       "      <td>[(龚, 鼎)]</td>\n",
       "      <td>[]</td>\n",
       "      <td>0</td>\n",
       "      <td>0</td>\n",
       "      <td>0</td>\n",
       "      <td>0</td>\n",
       "    </tr>\n",
       "  </tbody>\n",
       "</table>\n",
       "<p>11393 rows × 12 columns</p>\n",
       "</div>"
      ],
      "text/plain": [
       "      fullname         alphabet  word_length  num_tokens  \\\n",
       "0          丁一平  [CJK, CJK, CJK]            3           3   \n",
       "1          丁世雄  [CJK, CJK, CJK]            3           3   \n",
       "2          丁亦昕  [CJK, CJK, CJK]            3           3   \n",
       "3          丁仲礼  [CJK, CJK, CJK]            3           3   \n",
       "4           丁伟       [CJK, CJK]            2           2   \n",
       "...        ...              ...          ...         ...   \n",
       "12038      龚翔宇  [CJK, CJK, CJK]            3           3   \n",
       "12039      龚育之  [CJK, CJK, CJK]            3           3   \n",
       "12040      龚蓓苾  [CJK, CJK, CJK]            3           3   \n",
       "12041      龚贤永  [CJK, CJK, CJK]            3           3   \n",
       "12042       龚鼎       [CJK, CJK]            2           2   \n",
       "\n",
       "                                         char_ngrams            unigrams  \\\n",
       "0      [(丁,), (一,), (平,), (丁, 一), (一, 平), (丁, 一, 平)]  [(丁,), (一,), (平,)]   \n",
       "1      [(丁,), (世,), (雄,), (丁, 世), (世, 雄), (丁, 世, 雄)]  [(丁,), (世,), (雄,)]   \n",
       "2      [(丁,), (亦,), (昕,), (丁, 亦), (亦, 昕), (丁, 亦, 昕)]  [(丁,), (亦,), (昕,)]   \n",
       "3      [(丁,), (仲,), (礼,), (丁, 仲), (仲, 礼), (丁, 仲, 礼)]  [(丁,), (仲,), (礼,)]   \n",
       "4                               [(丁,), (伟,), (丁, 伟)]        [(丁,), (伟,)]   \n",
       "...                                              ...                 ...   \n",
       "12038  [(龚,), (翔,), (宇,), (龚, 翔), (翔, 宇), (龚, 翔, 宇)]  [(龚,), (翔,), (宇,)]   \n",
       "12039  [(龚,), (育,), (之,), (龚, 育), (育, 之), (龚, 育, 之)]  [(龚,), (育,), (之,)]   \n",
       "12040  [(龚,), (蓓,), (苾,), (龚, 蓓), (蓓, 苾), (龚, 蓓, 苾)]  [(龚,), (蓓,), (苾,)]   \n",
       "12041  [(龚,), (贤,), (永,), (龚, 贤), (贤, 永), (龚, 贤, 永)]  [(龚,), (贤,), (永,)]   \n",
       "12042                           [(龚,), (鼎,), (龚, 鼎)]        [(龚,), (鼎,)]   \n",
       "\n",
       "                bigrams     trigrams  period_freq  dash_freq  space_freq  \\\n",
       "0      [(丁, 一), (一, 平)]  [(丁, 一, 平)]            0          0           0   \n",
       "1      [(丁, 世), (世, 雄)]  [(丁, 世, 雄)]            0          0           0   \n",
       "2      [(丁, 亦), (亦, 昕)]  [(丁, 亦, 昕)]            0          0           0   \n",
       "3      [(丁, 仲), (仲, 礼)]  [(丁, 仲, 礼)]            0          0           0   \n",
       "4              [(丁, 伟)]           []            0          0           0   \n",
       "...                 ...          ...          ...        ...         ...   \n",
       "12038  [(龚, 翔), (翔, 宇)]  [(龚, 翔, 宇)]            0          0           0   \n",
       "12039  [(龚, 育), (育, 之)]  [(龚, 育, 之)]            0          0           0   \n",
       "12040  [(龚, 蓓), (蓓, 苾)]  [(龚, 蓓, 苾)]            0          0           0   \n",
       "12041  [(龚, 贤), (贤, 永)]  [(龚, 贤, 永)]            0          0           0   \n",
       "12042          [(龚, 鼎)]           []            0          0           0   \n",
       "\n",
       "       apostrophe_freq  \n",
       "0                    0  \n",
       "1                    0  \n",
       "2                    0  \n",
       "3                    0  \n",
       "4                    0  \n",
       "...                ...  \n",
       "12038                0  \n",
       "12039                0  \n",
       "12040                0  \n",
       "12041                0  \n",
       "12042                0  \n",
       "\n",
       "[11393 rows x 12 columns]"
      ]
     },
     "execution_count": 17,
     "metadata": {},
     "output_type": "execute_result"
    }
   ],
   "source": [
    "cnchar_df['period_freq'] = cnchar_df['fullname'].apply(lambda name: name.count('.'))\n",
    "cnchar_df['dash_freq'] = cnchar_df['fullname'].apply(lambda name: name.count('-'))\n",
    "cnchar_df['space_freq'] = cnchar_df['fullname'].apply(lambda name: name.count(' '))\n",
    "cnchar_df['apostrophe_freq'] = cnchar_df['fullname'].apply(lambda name: name.count('\\''))\n",
    "cnchar_df"
   ]
  },
  {
   "cell_type": "markdown",
   "id": "4182f4e8-4927-4a8f-80b0-67e07e0f83e7",
   "metadata": {},
   "source": [
    "EXGR_Chinese names(Romantized).xlsx - CLEANING\n",
    "==="
   ]
  },
  {
   "cell_type": "code",
   "execution_count": 18,
   "id": "27d62db7-f38f-40b3-8ae4-5a34c789dc58",
   "metadata": {
    "scrolled": true
   },
   "outputs": [],
   "source": [
    "# cnrom_df"
   ]
  },
  {
   "cell_type": "code",
   "execution_count": 19,
   "id": "a98faa31-99a5-4224-bc29-b91ae31018bf",
   "metadata": {},
   "outputs": [],
   "source": [
    "cnrom_df.drop(columns = ['Unnamed: 0', 'id'], inplace = True)"
   ]
  },
  {
   "cell_type": "code",
   "execution_count": 20,
   "id": "080d6d2e-f4d4-4961-9a45-cd191a63f759",
   "metadata": {},
   "outputs": [
    {
     "data": {
      "text/plain": [
       "array(['non-native', nan], dtype=object)"
      ]
     },
     "execution_count": 20,
     "metadata": {},
     "output_type": "execute_result"
    }
   ],
   "source": [
    "cnrom_df['Notes'].unique()"
   ]
  },
  {
   "cell_type": "code",
   "execution_count": 21,
   "id": "f0e6a6ac-889a-467a-932d-522cf0c7690c",
   "metadata": {},
   "outputs": [],
   "source": [
    "duplicates = cnrom_df['fullname'].duplicated()\n",
    "# print(cnrom_df[duplicates])"
   ]
  },
  {
   "cell_type": "code",
   "execution_count": 22,
   "id": "d2d9e823-ebab-41b4-b0eb-a7e1413cc4ba",
   "metadata": {},
   "outputs": [],
   "source": [
    "cnrom_df.drop_duplicates(subset=['fullname'], keep='first', inplace=True)\n",
    "# cnrom_df"
   ]
  },
  {
   "cell_type": "code",
   "execution_count": 23,
   "id": "f10062db-ed7d-4f2f-af68-365c9bd657c8",
   "metadata": {},
   "outputs": [],
   "source": [
    "#Get rid of all examples with 'non-native', to try and further narrow df down to just Chinese names\n",
    "cnrom_df.drop(cnrom_df[cnrom_df['Notes'] == 'non-native'].index, inplace=True)\n",
    "# cnrom_df"
   ]
  },
  {
   "cell_type": "code",
   "execution_count": 24,
   "id": "7edfec56-d696-4486-addf-7ff5e574d499",
   "metadata": {},
   "outputs": [
    {
     "data": {
      "text/plain": [
       "array([nan], dtype=object)"
      ]
     },
     "execution_count": 24,
     "metadata": {},
     "output_type": "execute_result"
    }
   ],
   "source": [
    "cnrom_df['Notes'].unique()"
   ]
  },
  {
   "cell_type": "code",
   "execution_count": 25,
   "id": "08e4e4b8-0979-48f9-b29d-2d7c00558c41",
   "metadata": {},
   "outputs": [],
   "source": [
    "cnrom_df['alphabet'] = cnrom_df['fullname'].apply(langname)\n",
    "# cnrom_df"
   ]
  },
  {
   "cell_type": "code",
   "execution_count": 26,
   "id": "cd34b0c8-ca13-4762-b29e-5ae8ab9c2828",
   "metadata": {
    "scrolled": true
   },
   "outputs": [],
   "source": [
    "cnrom_df['word_length'] = cnrom_df['fullname'].apply(get_name_length)\n",
    "# cnrom_df"
   ]
  },
  {
   "cell_type": "code",
   "execution_count": 27,
   "id": "6328e4eb-0a3c-46bc-98f9-34e213ca2cb3",
   "metadata": {
    "scrolled": true
   },
   "outputs": [],
   "source": [
    "cnrom_df['num_tokens'] = cnrom_df['fullname'].apply(calculate_token_length)\n",
    "# cnrom_df"
   ]
  },
  {
   "cell_type": "code",
   "execution_count": 28,
   "id": "c1a3b784-2b03-46a7-b2d3-e6bee4c7f489",
   "metadata": {},
   "outputs": [],
   "source": [
    "cnrom_df['char_ngrams'] = cnrom_df['fullname'].apply(generate_char_ngrams)\n",
    "# cnrom_df"
   ]
  },
  {
   "cell_type": "code",
   "execution_count": 29,
   "id": "92e575c4-96f0-4463-945c-d4b15d43c9d9",
   "metadata": {
    "scrolled": true
   },
   "outputs": [],
   "source": [
    "cnrom_df['unigrams'] = cnrom_df['fullname'].apply(generate_char_unigrams)\n",
    "cnrom_df['bigrams'] = cnrom_df['fullname'].apply(generate_char_bigrams)\n",
    "cnrom_df['trigrams'] = cnrom_df['fullname'].apply(generate_char_trigrams)\n",
    "# cnrom_df"
   ]
  },
  {
   "cell_type": "code",
   "execution_count": 30,
   "id": "5dabb786-9708-4e99-908a-45df76abe28d",
   "metadata": {},
   "outputs": [
    {
     "data": {
      "text/html": [
       "<div>\n",
       "<style scoped>\n",
       "    .dataframe tbody tr th:only-of-type {\n",
       "        vertical-align: middle;\n",
       "    }\n",
       "\n",
       "    .dataframe tbody tr th {\n",
       "        vertical-align: top;\n",
       "    }\n",
       "\n",
       "    .dataframe thead th {\n",
       "        text-align: right;\n",
       "    }\n",
       "</style>\n",
       "<table border=\"1\" class=\"dataframe\">\n",
       "  <thead>\n",
       "    <tr style=\"text-align: right;\">\n",
       "      <th></th>\n",
       "      <th>fullname</th>\n",
       "      <th>Family name</th>\n",
       "      <th>Given Name</th>\n",
       "      <th>Notes</th>\n",
       "      <th>alphabet</th>\n",
       "      <th>word_length</th>\n",
       "      <th>num_tokens</th>\n",
       "      <th>char_ngrams</th>\n",
       "      <th>unigrams</th>\n",
       "      <th>bigrams</th>\n",
       "      <th>trigrams</th>\n",
       "    </tr>\n",
       "  </thead>\n",
       "  <tbody>\n",
       "    <tr>\n",
       "      <th>2</th>\n",
       "      <td>Aaron Kwok</td>\n",
       "      <td>NaN</td>\n",
       "      <td>NaN</td>\n",
       "      <td>NaN</td>\n",
       "      <td>[LATIN, LATIN, LATIN, LATIN, LATIN, SPACE, LAT...</td>\n",
       "      <td>10.0</td>\n",
       "      <td>2.0</td>\n",
       "      <td>[(A,), (a,), (r,), (o,), (n,), ( ,), (K,), (w,...</td>\n",
       "      <td>[(A,), (a,), (r,), (o,), (n,), ( ,), (K,), (w,...</td>\n",
       "      <td>[(A, a), (a, r), (r, o), (o, n), (n,  ), ( , K...</td>\n",
       "      <td>[(A, a, r), (a, r, o), (r, o, n), (o, n,  ), (...</td>\n",
       "    </tr>\n",
       "    <tr>\n",
       "      <th>9</th>\n",
       "      <td>Adhe Tapontsang</td>\n",
       "      <td>NaN</td>\n",
       "      <td>NaN</td>\n",
       "      <td>NaN</td>\n",
       "      <td>[LATIN, LATIN, LATIN, LATIN, SPACE, LATIN, LAT...</td>\n",
       "      <td>15.0</td>\n",
       "      <td>2.0</td>\n",
       "      <td>[(A,), (d,), (h,), (e,), ( ,), (T,), (a,), (p,...</td>\n",
       "      <td>[(A,), (d,), (h,), (e,), ( ,), (T,), (a,), (p,...</td>\n",
       "      <td>[(A, d), (d, h), (h, e), (e,  ), ( , T), (T, a...</td>\n",
       "      <td>[(A, d, h), (d, h, e), (h, e,  ), (e,  , T), (...</td>\n",
       "    </tr>\n",
       "    <tr>\n",
       "      <th>10</th>\n",
       "      <td>Ai Baojun</td>\n",
       "      <td>NaN</td>\n",
       "      <td>NaN</td>\n",
       "      <td>NaN</td>\n",
       "      <td>[LATIN, LATIN, SPACE, LATIN, LATIN, LATIN, LAT...</td>\n",
       "      <td>9.0</td>\n",
       "      <td>2.0</td>\n",
       "      <td>[(A,), (i,), ( ,), (B,), (a,), (o,), (j,), (u,...</td>\n",
       "      <td>[(A,), (i,), ( ,), (B,), (a,), (o,), (j,), (u,...</td>\n",
       "      <td>[(A, i), (i,  ), ( , B), (B, a), (a, o), (o, j...</td>\n",
       "      <td>[(A, i,  ), (i,  , B), ( , B, a), (B, a, o), (...</td>\n",
       "    </tr>\n",
       "    <tr>\n",
       "      <th>11</th>\n",
       "      <td>Ai Guoxiang</td>\n",
       "      <td>NaN</td>\n",
       "      <td>NaN</td>\n",
       "      <td>NaN</td>\n",
       "      <td>[LATIN, LATIN, SPACE, LATIN, LATIN, LATIN, LAT...</td>\n",
       "      <td>11.0</td>\n",
       "      <td>2.0</td>\n",
       "      <td>[(A,), (i,), ( ,), (G,), (u,), (o,), (x,), (i,...</td>\n",
       "      <td>[(A,), (i,), ( ,), (G,), (u,), (o,), (x,), (i,...</td>\n",
       "      <td>[(A, i), (i,  ), ( , G), (G, u), (u, o), (o, x...</td>\n",
       "      <td>[(A, i,  ), (i,  , G), ( , G, u), (G, u, o), (...</td>\n",
       "    </tr>\n",
       "    <tr>\n",
       "      <th>12</th>\n",
       "      <td>Ai Husheng</td>\n",
       "      <td>NaN</td>\n",
       "      <td>NaN</td>\n",
       "      <td>NaN</td>\n",
       "      <td>[LATIN, LATIN, SPACE, LATIN, LATIN, LATIN, LAT...</td>\n",
       "      <td>10.0</td>\n",
       "      <td>2.0</td>\n",
       "      <td>[(A,), (i,), ( ,), (H,), (u,), (s,), (h,), (e,...</td>\n",
       "      <td>[(A,), (i,), ( ,), (H,), (u,), (s,), (h,), (e,...</td>\n",
       "      <td>[(A, i), (i,  ), ( , H), (H, u), (u, s), (s, h...</td>\n",
       "      <td>[(A, i,  ), (i,  , H), ( , H, u), (H, u, s), (...</td>\n",
       "    </tr>\n",
       "    <tr>\n",
       "      <th>...</th>\n",
       "      <td>...</td>\n",
       "      <td>...</td>\n",
       "      <td>...</td>\n",
       "      <td>...</td>\n",
       "      <td>...</td>\n",
       "      <td>...</td>\n",
       "      <td>...</td>\n",
       "      <td>...</td>\n",
       "      <td>...</td>\n",
       "      <td>...</td>\n",
       "      <td>...</td>\n",
       "    </tr>\n",
       "    <tr>\n",
       "      <th>12009</th>\n",
       "      <td>Zu Xiaosun</td>\n",
       "      <td>NaN</td>\n",
       "      <td>NaN</td>\n",
       "      <td>NaN</td>\n",
       "      <td>[LATIN, LATIN, SPACE, LATIN, LATIN, LATIN, LAT...</td>\n",
       "      <td>10.0</td>\n",
       "      <td>2.0</td>\n",
       "      <td>[(Z,), (u,), ( ,), (X,), (i,), (a,), (o,), (s,...</td>\n",
       "      <td>[(Z,), (u,), ( ,), (X,), (i,), (a,), (o,), (s,...</td>\n",
       "      <td>[(Z, u), (u,  ), ( , X), (X, i), (i, a), (a, o...</td>\n",
       "      <td>[(Z, u,  ), (u,  , X), ( , X, i), (X, i, a), (...</td>\n",
       "    </tr>\n",
       "    <tr>\n",
       "      <th>12010</th>\n",
       "      <td>Zuo Shusheng</td>\n",
       "      <td>NaN</td>\n",
       "      <td>NaN</td>\n",
       "      <td>NaN</td>\n",
       "      <td>[LATIN, LATIN, LATIN, SPACE, LATIN, LATIN, LAT...</td>\n",
       "      <td>12.0</td>\n",
       "      <td>2.0</td>\n",
       "      <td>[(Z,), (u,), (o,), ( ,), (S,), (h,), (u,), (s,...</td>\n",
       "      <td>[(Z,), (u,), (o,), ( ,), (S,), (h,), (u,), (s,...</td>\n",
       "      <td>[(Z, u), (u, o), (o,  ), ( , S), (S, h), (h, u...</td>\n",
       "      <td>[(Z, u, o), (u, o,  ), (o,  , S), ( , S, h), (...</td>\n",
       "    </tr>\n",
       "    <tr>\n",
       "      <th>12011</th>\n",
       "      <td>Zuo Xiaoqing</td>\n",
       "      <td>NaN</td>\n",
       "      <td>NaN</td>\n",
       "      <td>NaN</td>\n",
       "      <td>[LATIN, LATIN, LATIN, SPACE, LATIN, LATIN, LAT...</td>\n",
       "      <td>12.0</td>\n",
       "      <td>2.0</td>\n",
       "      <td>[(Z,), (u,), (o,), ( ,), (X,), (i,), (a,), (o,...</td>\n",
       "      <td>[(Z,), (u,), (o,), ( ,), (X,), (i,), (a,), (o,...</td>\n",
       "      <td>[(Z, u), (u, o), (o,  ), ( , X), (X, i), (i, a...</td>\n",
       "      <td>[(Z, u, o), (u, o,  ), (o,  , X), ( , X, i), (...</td>\n",
       "    </tr>\n",
       "    <tr>\n",
       "      <th>12012</th>\n",
       "      <td>Zuo Yiteng</td>\n",
       "      <td>NaN</td>\n",
       "      <td>NaN</td>\n",
       "      <td>NaN</td>\n",
       "      <td>[LATIN, LATIN, LATIN, SPACE, LATIN, LATIN, LAT...</td>\n",
       "      <td>10.0</td>\n",
       "      <td>2.0</td>\n",
       "      <td>[(Z,), (u,), (o,), ( ,), (Y,), (i,), (t,), (e,...</td>\n",
       "      <td>[(Z,), (u,), (o,), ( ,), (Y,), (i,), (t,), (e,...</td>\n",
       "      <td>[(Z, u), (u, o), (o,  ), ( , Y), (Y, i), (i, t...</td>\n",
       "      <td>[(Z, u, o), (u, o,  ), (o,  , Y), ( , Y, i), (...</td>\n",
       "    </tr>\n",
       "    <tr>\n",
       "      <th>12013</th>\n",
       "      <td>Zuoxiao Zuzhou</td>\n",
       "      <td>NaN</td>\n",
       "      <td>NaN</td>\n",
       "      <td>NaN</td>\n",
       "      <td>[LATIN, LATIN, LATIN, LATIN, LATIN, LATIN, LAT...</td>\n",
       "      <td>14.0</td>\n",
       "      <td>2.0</td>\n",
       "      <td>[(Z,), (u,), (o,), (x,), (i,), (a,), (o,), ( ,...</td>\n",
       "      <td>[(Z,), (u,), (o,), (x,), (i,), (a,), (o,), ( ,...</td>\n",
       "      <td>[(Z, u), (u, o), (o, x), (x, i), (i, a), (a, o...</td>\n",
       "      <td>[(Z, u, o), (u, o, x), (o, x, i), (x, i, a), (...</td>\n",
       "    </tr>\n",
       "  </tbody>\n",
       "</table>\n",
       "<p>11020 rows × 11 columns</p>\n",
       "</div>"
      ],
      "text/plain": [
       "              fullname Family name Given Name Notes  \\\n",
       "2           Aaron Kwok         NaN        NaN   NaN   \n",
       "9      Adhe Tapontsang         NaN        NaN   NaN   \n",
       "10           Ai Baojun         NaN        NaN   NaN   \n",
       "11         Ai Guoxiang         NaN        NaN   NaN   \n",
       "12          Ai Husheng         NaN        NaN   NaN   \n",
       "...                ...         ...        ...   ...   \n",
       "12009       Zu Xiaosun         NaN        NaN   NaN   \n",
       "12010     Zuo Shusheng         NaN        NaN   NaN   \n",
       "12011     Zuo Xiaoqing         NaN        NaN   NaN   \n",
       "12012       Zuo Yiteng         NaN        NaN   NaN   \n",
       "12013   Zuoxiao Zuzhou         NaN        NaN   NaN   \n",
       "\n",
       "                                                alphabet  word_length  \\\n",
       "2      [LATIN, LATIN, LATIN, LATIN, LATIN, SPACE, LAT...         10.0   \n",
       "9      [LATIN, LATIN, LATIN, LATIN, SPACE, LATIN, LAT...         15.0   \n",
       "10     [LATIN, LATIN, SPACE, LATIN, LATIN, LATIN, LAT...          9.0   \n",
       "11     [LATIN, LATIN, SPACE, LATIN, LATIN, LATIN, LAT...         11.0   \n",
       "12     [LATIN, LATIN, SPACE, LATIN, LATIN, LATIN, LAT...         10.0   \n",
       "...                                                  ...          ...   \n",
       "12009  [LATIN, LATIN, SPACE, LATIN, LATIN, LATIN, LAT...         10.0   \n",
       "12010  [LATIN, LATIN, LATIN, SPACE, LATIN, LATIN, LAT...         12.0   \n",
       "12011  [LATIN, LATIN, LATIN, SPACE, LATIN, LATIN, LAT...         12.0   \n",
       "12012  [LATIN, LATIN, LATIN, SPACE, LATIN, LATIN, LAT...         10.0   \n",
       "12013  [LATIN, LATIN, LATIN, LATIN, LATIN, LATIN, LAT...         14.0   \n",
       "\n",
       "       num_tokens                                        char_ngrams  \\\n",
       "2             2.0  [(A,), (a,), (r,), (o,), (n,), ( ,), (K,), (w,...   \n",
       "9             2.0  [(A,), (d,), (h,), (e,), ( ,), (T,), (a,), (p,...   \n",
       "10            2.0  [(A,), (i,), ( ,), (B,), (a,), (o,), (j,), (u,...   \n",
       "11            2.0  [(A,), (i,), ( ,), (G,), (u,), (o,), (x,), (i,...   \n",
       "12            2.0  [(A,), (i,), ( ,), (H,), (u,), (s,), (h,), (e,...   \n",
       "...           ...                                                ...   \n",
       "12009         2.0  [(Z,), (u,), ( ,), (X,), (i,), (a,), (o,), (s,...   \n",
       "12010         2.0  [(Z,), (u,), (o,), ( ,), (S,), (h,), (u,), (s,...   \n",
       "12011         2.0  [(Z,), (u,), (o,), ( ,), (X,), (i,), (a,), (o,...   \n",
       "12012         2.0  [(Z,), (u,), (o,), ( ,), (Y,), (i,), (t,), (e,...   \n",
       "12013         2.0  [(Z,), (u,), (o,), (x,), (i,), (a,), (o,), ( ,...   \n",
       "\n",
       "                                                unigrams  \\\n",
       "2      [(A,), (a,), (r,), (o,), (n,), ( ,), (K,), (w,...   \n",
       "9      [(A,), (d,), (h,), (e,), ( ,), (T,), (a,), (p,...   \n",
       "10     [(A,), (i,), ( ,), (B,), (a,), (o,), (j,), (u,...   \n",
       "11     [(A,), (i,), ( ,), (G,), (u,), (o,), (x,), (i,...   \n",
       "12     [(A,), (i,), ( ,), (H,), (u,), (s,), (h,), (e,...   \n",
       "...                                                  ...   \n",
       "12009  [(Z,), (u,), ( ,), (X,), (i,), (a,), (o,), (s,...   \n",
       "12010  [(Z,), (u,), (o,), ( ,), (S,), (h,), (u,), (s,...   \n",
       "12011  [(Z,), (u,), (o,), ( ,), (X,), (i,), (a,), (o,...   \n",
       "12012  [(Z,), (u,), (o,), ( ,), (Y,), (i,), (t,), (e,...   \n",
       "12013  [(Z,), (u,), (o,), (x,), (i,), (a,), (o,), ( ,...   \n",
       "\n",
       "                                                 bigrams  \\\n",
       "2      [(A, a), (a, r), (r, o), (o, n), (n,  ), ( , K...   \n",
       "9      [(A, d), (d, h), (h, e), (e,  ), ( , T), (T, a...   \n",
       "10     [(A, i), (i,  ), ( , B), (B, a), (a, o), (o, j...   \n",
       "11     [(A, i), (i,  ), ( , G), (G, u), (u, o), (o, x...   \n",
       "12     [(A, i), (i,  ), ( , H), (H, u), (u, s), (s, h...   \n",
       "...                                                  ...   \n",
       "12009  [(Z, u), (u,  ), ( , X), (X, i), (i, a), (a, o...   \n",
       "12010  [(Z, u), (u, o), (o,  ), ( , S), (S, h), (h, u...   \n",
       "12011  [(Z, u), (u, o), (o,  ), ( , X), (X, i), (i, a...   \n",
       "12012  [(Z, u), (u, o), (o,  ), ( , Y), (Y, i), (i, t...   \n",
       "12013  [(Z, u), (u, o), (o, x), (x, i), (i, a), (a, o...   \n",
       "\n",
       "                                                trigrams  \n",
       "2      [(A, a, r), (a, r, o), (r, o, n), (o, n,  ), (...  \n",
       "9      [(A, d, h), (d, h, e), (h, e,  ), (e,  , T), (...  \n",
       "10     [(A, i,  ), (i,  , B), ( , B, a), (B, a, o), (...  \n",
       "11     [(A, i,  ), (i,  , G), ( , G, u), (G, u, o), (...  \n",
       "12     [(A, i,  ), (i,  , H), ( , H, u), (H, u, s), (...  \n",
       "...                                                  ...  \n",
       "12009  [(Z, u,  ), (u,  , X), ( , X, i), (X, i, a), (...  \n",
       "12010  [(Z, u, o), (u, o,  ), (o,  , S), ( , S, h), (...  \n",
       "12011  [(Z, u, o), (u, o,  ), (o,  , X), ( , X, i), (...  \n",
       "12012  [(Z, u, o), (u, o,  ), (o,  , Y), ( , Y, i), (...  \n",
       "12013  [(Z, u, o), (u, o, x), (o, x, i), (x, i, a), (...  \n",
       "\n",
       "[11020 rows x 11 columns]"
      ]
     },
     "execution_count": 30,
     "metadata": {},
     "output_type": "execute_result"
    }
   ],
   "source": [
    "# cnrom_df['period_freq'] = cnrom_df['fullname'].apply(lambda name: name.count('.'))\n",
    "# cnrom_df['dash_freq'] = cnrom_df['fullname'].apply(lambda name: name.count('-'))\n",
    "# cnrom_df['space_freq'] = cnrom_df['fullname'].apply(lambda name: name.count(' '))\n",
    "# cnrom_df['apostrophe_freq'] = cnrom_df['fullname'].apply(lambda name: name.count('\\''))\n",
    "cnrom_df"
   ]
  },
  {
   "cell_type": "markdown",
   "id": "8d92c2dd-b69c-4671-b5ae-d6c397871e8d",
   "metadata": {},
   "source": [
    "EXGR_Vietnamese.xlsx - CLEANING\n",
    "==="
   ]
  },
  {
   "cell_type": "code",
   "execution_count": 31,
   "id": "38563342-30a4-4e63-9b6b-8a231ec36d28",
   "metadata": {
    "scrolled": true
   },
   "outputs": [],
   "source": [
    "# viet_df"
   ]
  },
  {
   "cell_type": "code",
   "execution_count": 32,
   "id": "9146c591-86a6-4dbd-80f0-1a6ea25aae3a",
   "metadata": {},
   "outputs": [],
   "source": [
    "viet_df.drop(columns = ['Unnamed: 0', 'fullname','Family name','Given name'], inplace = True)\n",
    "viet_df = viet_df.rename(columns={'id': 'fullname'})"
   ]
  },
  {
   "cell_type": "code",
   "execution_count": 33,
   "id": "65cf97b1-798f-4f26-b367-e1cacf8e1702",
   "metadata": {},
   "outputs": [
    {
     "data": {
      "text/html": [
       "<div>\n",
       "<style scoped>\n",
       "    .dataframe tbody tr th:only-of-type {\n",
       "        vertical-align: middle;\n",
       "    }\n",
       "\n",
       "    .dataframe tbody tr th {\n",
       "        vertical-align: top;\n",
       "    }\n",
       "\n",
       "    .dataframe thead th {\n",
       "        text-align: right;\n",
       "    }\n",
       "</style>\n",
       "<table border=\"1\" class=\"dataframe\">\n",
       "  <thead>\n",
       "    <tr style=\"text-align: right;\">\n",
       "      <th></th>\n",
       "      <th>fullname</th>\n",
       "    </tr>\n",
       "  </thead>\n",
       "  <tbody>\n",
       "    <tr>\n",
       "      <th>0</th>\n",
       "      <td>Từ Hoàng Thông</td>\n",
       "    </tr>\n",
       "    <tr>\n",
       "      <th>1</th>\n",
       "      <td>Nguyễn Thị Phương Thảo</td>\n",
       "    </tr>\n",
       "    <tr>\n",
       "      <th>2</th>\n",
       "      <td>Nguyễn Mạnh Dũng (cầu thủ bóng đá sinh 1981)</td>\n",
       "    </tr>\n",
       "    <tr>\n",
       "      <th>3</th>\n",
       "      <td>Nick Út</td>\n",
       "    </tr>\n",
       "    <tr>\n",
       "      <th>4</th>\n",
       "      <td>Cao Văn Lầu</td>\n",
       "    </tr>\n",
       "    <tr>\n",
       "      <th>...</th>\n",
       "      <td>...</td>\n",
       "    </tr>\n",
       "    <tr>\n",
       "      <th>3189</th>\n",
       "      <td>Nguyen Duc Kien</td>\n",
       "    </tr>\n",
       "    <tr>\n",
       "      <th>3190</th>\n",
       "      <td>Nguyen Phuc Thai</td>\n",
       "    </tr>\n",
       "    <tr>\n",
       "      <th>3192</th>\n",
       "      <td>Lê Phổ</td>\n",
       "    </tr>\n",
       "    <tr>\n",
       "      <th>3193</th>\n",
       "      <td>Vu Ngoc Nha</td>\n",
       "    </tr>\n",
       "    <tr>\n",
       "      <th>3194</th>\n",
       "      <td>Hoang Ke Viem</td>\n",
       "    </tr>\n",
       "  </tbody>\n",
       "</table>\n",
       "<p>2370 rows × 1 columns</p>\n",
       "</div>"
      ],
      "text/plain": [
       "                                          fullname\n",
       "0                                   Từ Hoàng Thông\n",
       "1                           Nguyễn Thị Phương Thảo\n",
       "2     Nguyễn Mạnh Dũng (cầu thủ bóng đá sinh 1981)\n",
       "3                                          Nick Út\n",
       "4                                      Cao Văn Lầu\n",
       "...                                            ...\n",
       "3189                               Nguyen Duc Kien\n",
       "3190                              Nguyen Phuc Thai\n",
       "3192                                        Lê Phổ\n",
       "3193                                   Vu Ngoc Nha\n",
       "3194                                 Hoang Ke Viem\n",
       "\n",
       "[2370 rows x 1 columns]"
      ]
     },
     "execution_count": 33,
     "metadata": {},
     "output_type": "execute_result"
    }
   ],
   "source": [
    "viet_df.drop_duplicates(subset=['fullname'], keep='first', inplace=True)\n",
    "viet_df"
   ]
  },
  {
   "cell_type": "code",
   "execution_count": 34,
   "id": "9453d39a-8256-4386-a531-7536e2de54eb",
   "metadata": {},
   "outputs": [],
   "source": [
    "viet_df['alphabet'] = viet_df['fullname'].apply(langname)\n",
    "# viet_df"
   ]
  },
  {
   "cell_type": "code",
   "execution_count": 35,
   "id": "7a9c8532-0a67-4605-9167-46a1e0f619b4",
   "metadata": {},
   "outputs": [],
   "source": [
    "viet_df['word_length'] = viet_df['fullname'].apply(get_name_length)\n",
    "# viet_df"
   ]
  },
  {
   "cell_type": "code",
   "execution_count": 36,
   "id": "0ddd0f81-2dd7-439e-adfa-d8c827f2db3a",
   "metadata": {},
   "outputs": [],
   "source": [
    "viet_df['num_tokens'] = viet_df['fullname'].apply(calculate_token_length)\n",
    "# viet_df"
   ]
  },
  {
   "cell_type": "code",
   "execution_count": 37,
   "id": "32790aca-c29e-48dd-a497-a775cfb5e764",
   "metadata": {},
   "outputs": [],
   "source": [
    "viet_df['char_ngrams'] = viet_df['fullname'].apply(generate_char_ngrams)\n",
    "# viet_df"
   ]
  },
  {
   "cell_type": "code",
   "execution_count": 38,
   "id": "033aa167-478c-47c9-88ed-6291bed45e6a",
   "metadata": {},
   "outputs": [],
   "source": [
    "viet_df['unigrams'] = viet_df['fullname'].apply(generate_char_unigrams)\n",
    "viet_df['bigrams'] = viet_df['fullname'].apply(generate_char_bigrams)\n",
    "viet_df['trigrams'] = viet_df['fullname'].apply(generate_char_trigrams)\n",
    "# viet_df"
   ]
  },
  {
   "cell_type": "code",
   "execution_count": 39,
   "id": "c3f7ca5c-3213-4ac1-9e3a-bf8e1044eb47",
   "metadata": {},
   "outputs": [],
   "source": [
    "viet_df['period_freq'] = viet_df['fullname'].apply(lambda name: name.count('.'))\n",
    "viet_df['dash_freq'] = viet_df['fullname'].apply(lambda name: name.count('-'))\n",
    "viet_df['space_freq'] = viet_df['fullname'].apply(lambda name: name.count(' '))\n",
    "viet_df['apostrophe_freq'] = viet_df['fullname'].apply(lambda name: name.count('\\''))"
   ]
  },
  {
   "cell_type": "code",
   "execution_count": 40,
   "id": "6e0accc1-2d9c-4138-b43f-e3b44b502b05",
   "metadata": {},
   "outputs": [
    {
     "data": {
      "text/html": [
       "<div>\n",
       "<style scoped>\n",
       "    .dataframe tbody tr th:only-of-type {\n",
       "        vertical-align: middle;\n",
       "    }\n",
       "\n",
       "    .dataframe tbody tr th {\n",
       "        vertical-align: top;\n",
       "    }\n",
       "\n",
       "    .dataframe thead th {\n",
       "        text-align: right;\n",
       "    }\n",
       "</style>\n",
       "<table border=\"1\" class=\"dataframe\">\n",
       "  <thead>\n",
       "    <tr style=\"text-align: right;\">\n",
       "      <th></th>\n",
       "      <th>fullname</th>\n",
       "      <th>alphabet</th>\n",
       "      <th>word_length</th>\n",
       "      <th>num_tokens</th>\n",
       "      <th>char_ngrams</th>\n",
       "      <th>unigrams</th>\n",
       "      <th>bigrams</th>\n",
       "      <th>trigrams</th>\n",
       "      <th>period_freq</th>\n",
       "      <th>dash_freq</th>\n",
       "      <th>space_freq</th>\n",
       "      <th>apostrophe_freq</th>\n",
       "    </tr>\n",
       "  </thead>\n",
       "  <tbody>\n",
       "    <tr>\n",
       "      <th>0</th>\n",
       "      <td>Từ Hoàng Thông</td>\n",
       "      <td>[LATIN, LATIN, SPACE, LATIN, LATIN, LATIN, LAT...</td>\n",
       "      <td>14</td>\n",
       "      <td>3</td>\n",
       "      <td>[(T,), (ừ,), ( ,), (H,), (o,), (à,), (n,), (g,...</td>\n",
       "      <td>[(T,), (ừ,), ( ,), (H,), (o,), (à,), (n,), (g,...</td>\n",
       "      <td>[(T, ừ), (ừ,  ), ( , H), (H, o), (o, à), (à, n...</td>\n",
       "      <td>[(T, ừ,  ), (ừ,  , H), ( , H, o), (H, o, à), (...</td>\n",
       "      <td>0</td>\n",
       "      <td>0</td>\n",
       "      <td>2</td>\n",
       "      <td>0</td>\n",
       "    </tr>\n",
       "    <tr>\n",
       "      <th>1</th>\n",
       "      <td>Nguyễn Thị Phương Thảo</td>\n",
       "      <td>[LATIN, LATIN, LATIN, LATIN, LATIN, LATIN, SPA...</td>\n",
       "      <td>22</td>\n",
       "      <td>4</td>\n",
       "      <td>[(N,), (g,), (u,), (y,), (ễ,), (n,), ( ,), (T,...</td>\n",
       "      <td>[(N,), (g,), (u,), (y,), (ễ,), (n,), ( ,), (T,...</td>\n",
       "      <td>[(N, g), (g, u), (u, y), (y, ễ), (ễ, n), (n,  ...</td>\n",
       "      <td>[(N, g, u), (g, u, y), (u, y, ễ), (y, ễ, n), (...</td>\n",
       "      <td>0</td>\n",
       "      <td>0</td>\n",
       "      <td>3</td>\n",
       "      <td>0</td>\n",
       "    </tr>\n",
       "    <tr>\n",
       "      <th>2</th>\n",
       "      <td>Nguyễn Mạnh Dũng (cầu thủ bóng đá sinh 1981)</td>\n",
       "      <td>[LATIN, LATIN, LATIN, LATIN, LATIN, LATIN, SPA...</td>\n",
       "      <td>44</td>\n",
       "      <td>9</td>\n",
       "      <td>[(N,), (g,), (u,), (y,), (ễ,), (n,), ( ,), (M,...</td>\n",
       "      <td>[(N,), (g,), (u,), (y,), (ễ,), (n,), ( ,), (M,...</td>\n",
       "      <td>[(N, g), (g, u), (u, y), (y, ễ), (ễ, n), (n,  ...</td>\n",
       "      <td>[(N, g, u), (g, u, y), (u, y, ễ), (y, ễ, n), (...</td>\n",
       "      <td>0</td>\n",
       "      <td>0</td>\n",
       "      <td>8</td>\n",
       "      <td>0</td>\n",
       "    </tr>\n",
       "    <tr>\n",
       "      <th>3</th>\n",
       "      <td>Nick Út</td>\n",
       "      <td>[LATIN, LATIN, LATIN, LATIN, SPACE, LATIN, LATIN]</td>\n",
       "      <td>7</td>\n",
       "      <td>2</td>\n",
       "      <td>[(N,), (i,), (c,), (k,), ( ,), (Ú,), (t,), (N,...</td>\n",
       "      <td>[(N,), (i,), (c,), (k,), ( ,), (Ú,), (t,)]</td>\n",
       "      <td>[(N, i), (i, c), (c, k), (k,  ), ( , Ú), (Ú, t)]</td>\n",
       "      <td>[(N, i, c), (i, c, k), (c, k,  ), (k,  , Ú), (...</td>\n",
       "      <td>0</td>\n",
       "      <td>0</td>\n",
       "      <td>1</td>\n",
       "      <td>0</td>\n",
       "    </tr>\n",
       "    <tr>\n",
       "      <th>4</th>\n",
       "      <td>Cao Văn Lầu</td>\n",
       "      <td>[LATIN, LATIN, LATIN, SPACE, LATIN, LATIN, LAT...</td>\n",
       "      <td>11</td>\n",
       "      <td>3</td>\n",
       "      <td>[(C,), (a,), (o,), ( ,), (V,), (ă,), (n,), ( ,...</td>\n",
       "      <td>[(C,), (a,), (o,), ( ,), (V,), (ă,), (n,), ( ,...</td>\n",
       "      <td>[(C, a), (a, o), (o,  ), ( , V), (V, ă), (ă, n...</td>\n",
       "      <td>[(C, a, o), (a, o,  ), (o,  , V), ( , V, ă), (...</td>\n",
       "      <td>0</td>\n",
       "      <td>0</td>\n",
       "      <td>2</td>\n",
       "      <td>0</td>\n",
       "    </tr>\n",
       "    <tr>\n",
       "      <th>...</th>\n",
       "      <td>...</td>\n",
       "      <td>...</td>\n",
       "      <td>...</td>\n",
       "      <td>...</td>\n",
       "      <td>...</td>\n",
       "      <td>...</td>\n",
       "      <td>...</td>\n",
       "      <td>...</td>\n",
       "      <td>...</td>\n",
       "      <td>...</td>\n",
       "      <td>...</td>\n",
       "      <td>...</td>\n",
       "    </tr>\n",
       "    <tr>\n",
       "      <th>3189</th>\n",
       "      <td>Nguyen Duc Kien</td>\n",
       "      <td>[LATIN, LATIN, LATIN, LATIN, LATIN, LATIN, SPA...</td>\n",
       "      <td>15</td>\n",
       "      <td>3</td>\n",
       "      <td>[(N,), (g,), (u,), (y,), (e,), (n,), ( ,), (D,...</td>\n",
       "      <td>[(N,), (g,), (u,), (y,), (e,), (n,), ( ,), (D,...</td>\n",
       "      <td>[(N, g), (g, u), (u, y), (y, e), (e, n), (n,  ...</td>\n",
       "      <td>[(N, g, u), (g, u, y), (u, y, e), (y, e, n), (...</td>\n",
       "      <td>0</td>\n",
       "      <td>0</td>\n",
       "      <td>2</td>\n",
       "      <td>0</td>\n",
       "    </tr>\n",
       "    <tr>\n",
       "      <th>3190</th>\n",
       "      <td>Nguyen Phuc Thai</td>\n",
       "      <td>[LATIN, LATIN, LATIN, LATIN, LATIN, LATIN, SPA...</td>\n",
       "      <td>16</td>\n",
       "      <td>3</td>\n",
       "      <td>[(N,), (g,), (u,), (y,), (e,), (n,), ( ,), (P,...</td>\n",
       "      <td>[(N,), (g,), (u,), (y,), (e,), (n,), ( ,), (P,...</td>\n",
       "      <td>[(N, g), (g, u), (u, y), (y, e), (e, n), (n,  ...</td>\n",
       "      <td>[(N, g, u), (g, u, y), (u, y, e), (y, e, n), (...</td>\n",
       "      <td>0</td>\n",
       "      <td>0</td>\n",
       "      <td>2</td>\n",
       "      <td>0</td>\n",
       "    </tr>\n",
       "    <tr>\n",
       "      <th>3192</th>\n",
       "      <td>Lê Phổ</td>\n",
       "      <td>[LATIN, LATIN, SPACE, LATIN, LATIN, LATIN]</td>\n",
       "      <td>6</td>\n",
       "      <td>2</td>\n",
       "      <td>[(L,), (ê,), ( ,), (P,), (h,), (ổ,), (L, ê), (...</td>\n",
       "      <td>[(L,), (ê,), ( ,), (P,), (h,), (ổ,)]</td>\n",
       "      <td>[(L, ê), (ê,  ), ( , P), (P, h), (h, ổ)]</td>\n",
       "      <td>[(L, ê,  ), (ê,  , P), ( , P, h), (P, h, ổ)]</td>\n",
       "      <td>0</td>\n",
       "      <td>0</td>\n",
       "      <td>1</td>\n",
       "      <td>0</td>\n",
       "    </tr>\n",
       "    <tr>\n",
       "      <th>3193</th>\n",
       "      <td>Vu Ngoc Nha</td>\n",
       "      <td>[LATIN, LATIN, SPACE, LATIN, LATIN, LATIN, LAT...</td>\n",
       "      <td>11</td>\n",
       "      <td>3</td>\n",
       "      <td>[(V,), (u,), ( ,), (N,), (g,), (o,), (c,), ( ,...</td>\n",
       "      <td>[(V,), (u,), ( ,), (N,), (g,), (o,), (c,), ( ,...</td>\n",
       "      <td>[(V, u), (u,  ), ( , N), (N, g), (g, o), (o, c...</td>\n",
       "      <td>[(V, u,  ), (u,  , N), ( , N, g), (N, g, o), (...</td>\n",
       "      <td>0</td>\n",
       "      <td>0</td>\n",
       "      <td>2</td>\n",
       "      <td>0</td>\n",
       "    </tr>\n",
       "    <tr>\n",
       "      <th>3194</th>\n",
       "      <td>Hoang Ke Viem</td>\n",
       "      <td>[LATIN, LATIN, LATIN, LATIN, LATIN, SPACE, LAT...</td>\n",
       "      <td>13</td>\n",
       "      <td>3</td>\n",
       "      <td>[(H,), (o,), (a,), (n,), (g,), ( ,), (K,), (e,...</td>\n",
       "      <td>[(H,), (o,), (a,), (n,), (g,), ( ,), (K,), (e,...</td>\n",
       "      <td>[(H, o), (o, a), (a, n), (n, g), (g,  ), ( , K...</td>\n",
       "      <td>[(H, o, a), (o, a, n), (a, n, g), (n, g,  ), (...</td>\n",
       "      <td>0</td>\n",
       "      <td>0</td>\n",
       "      <td>2</td>\n",
       "      <td>0</td>\n",
       "    </tr>\n",
       "  </tbody>\n",
       "</table>\n",
       "<p>2370 rows × 12 columns</p>\n",
       "</div>"
      ],
      "text/plain": [
       "                                          fullname  \\\n",
       "0                                   Từ Hoàng Thông   \n",
       "1                           Nguyễn Thị Phương Thảo   \n",
       "2     Nguyễn Mạnh Dũng (cầu thủ bóng đá sinh 1981)   \n",
       "3                                          Nick Út   \n",
       "4                                      Cao Văn Lầu   \n",
       "...                                            ...   \n",
       "3189                               Nguyen Duc Kien   \n",
       "3190                              Nguyen Phuc Thai   \n",
       "3192                                        Lê Phổ   \n",
       "3193                                   Vu Ngoc Nha   \n",
       "3194                                 Hoang Ke Viem   \n",
       "\n",
       "                                               alphabet  word_length  \\\n",
       "0     [LATIN, LATIN, SPACE, LATIN, LATIN, LATIN, LAT...           14   \n",
       "1     [LATIN, LATIN, LATIN, LATIN, LATIN, LATIN, SPA...           22   \n",
       "2     [LATIN, LATIN, LATIN, LATIN, LATIN, LATIN, SPA...           44   \n",
       "3     [LATIN, LATIN, LATIN, LATIN, SPACE, LATIN, LATIN]            7   \n",
       "4     [LATIN, LATIN, LATIN, SPACE, LATIN, LATIN, LAT...           11   \n",
       "...                                                 ...          ...   \n",
       "3189  [LATIN, LATIN, LATIN, LATIN, LATIN, LATIN, SPA...           15   \n",
       "3190  [LATIN, LATIN, LATIN, LATIN, LATIN, LATIN, SPA...           16   \n",
       "3192         [LATIN, LATIN, SPACE, LATIN, LATIN, LATIN]            6   \n",
       "3193  [LATIN, LATIN, SPACE, LATIN, LATIN, LATIN, LAT...           11   \n",
       "3194  [LATIN, LATIN, LATIN, LATIN, LATIN, SPACE, LAT...           13   \n",
       "\n",
       "      num_tokens                                        char_ngrams  \\\n",
       "0              3  [(T,), (ừ,), ( ,), (H,), (o,), (à,), (n,), (g,...   \n",
       "1              4  [(N,), (g,), (u,), (y,), (ễ,), (n,), ( ,), (T,...   \n",
       "2              9  [(N,), (g,), (u,), (y,), (ễ,), (n,), ( ,), (M,...   \n",
       "3              2  [(N,), (i,), (c,), (k,), ( ,), (Ú,), (t,), (N,...   \n",
       "4              3  [(C,), (a,), (o,), ( ,), (V,), (ă,), (n,), ( ,...   \n",
       "...          ...                                                ...   \n",
       "3189           3  [(N,), (g,), (u,), (y,), (e,), (n,), ( ,), (D,...   \n",
       "3190           3  [(N,), (g,), (u,), (y,), (e,), (n,), ( ,), (P,...   \n",
       "3192           2  [(L,), (ê,), ( ,), (P,), (h,), (ổ,), (L, ê), (...   \n",
       "3193           3  [(V,), (u,), ( ,), (N,), (g,), (o,), (c,), ( ,...   \n",
       "3194           3  [(H,), (o,), (a,), (n,), (g,), ( ,), (K,), (e,...   \n",
       "\n",
       "                                               unigrams  \\\n",
       "0     [(T,), (ừ,), ( ,), (H,), (o,), (à,), (n,), (g,...   \n",
       "1     [(N,), (g,), (u,), (y,), (ễ,), (n,), ( ,), (T,...   \n",
       "2     [(N,), (g,), (u,), (y,), (ễ,), (n,), ( ,), (M,...   \n",
       "3            [(N,), (i,), (c,), (k,), ( ,), (Ú,), (t,)]   \n",
       "4     [(C,), (a,), (o,), ( ,), (V,), (ă,), (n,), ( ,...   \n",
       "...                                                 ...   \n",
       "3189  [(N,), (g,), (u,), (y,), (e,), (n,), ( ,), (D,...   \n",
       "3190  [(N,), (g,), (u,), (y,), (e,), (n,), ( ,), (P,...   \n",
       "3192               [(L,), (ê,), ( ,), (P,), (h,), (ổ,)]   \n",
       "3193  [(V,), (u,), ( ,), (N,), (g,), (o,), (c,), ( ,...   \n",
       "3194  [(H,), (o,), (a,), (n,), (g,), ( ,), (K,), (e,...   \n",
       "\n",
       "                                                bigrams  \\\n",
       "0     [(T, ừ), (ừ,  ), ( , H), (H, o), (o, à), (à, n...   \n",
       "1     [(N, g), (g, u), (u, y), (y, ễ), (ễ, n), (n,  ...   \n",
       "2     [(N, g), (g, u), (u, y), (y, ễ), (ễ, n), (n,  ...   \n",
       "3      [(N, i), (i, c), (c, k), (k,  ), ( , Ú), (Ú, t)]   \n",
       "4     [(C, a), (a, o), (o,  ), ( , V), (V, ă), (ă, n...   \n",
       "...                                                 ...   \n",
       "3189  [(N, g), (g, u), (u, y), (y, e), (e, n), (n,  ...   \n",
       "3190  [(N, g), (g, u), (u, y), (y, e), (e, n), (n,  ...   \n",
       "3192           [(L, ê), (ê,  ), ( , P), (P, h), (h, ổ)]   \n",
       "3193  [(V, u), (u,  ), ( , N), (N, g), (g, o), (o, c...   \n",
       "3194  [(H, o), (o, a), (a, n), (n, g), (g,  ), ( , K...   \n",
       "\n",
       "                                               trigrams  period_freq  \\\n",
       "0     [(T, ừ,  ), (ừ,  , H), ( , H, o), (H, o, à), (...            0   \n",
       "1     [(N, g, u), (g, u, y), (u, y, ễ), (y, ễ, n), (...            0   \n",
       "2     [(N, g, u), (g, u, y), (u, y, ễ), (y, ễ, n), (...            0   \n",
       "3     [(N, i, c), (i, c, k), (c, k,  ), (k,  , Ú), (...            0   \n",
       "4     [(C, a, o), (a, o,  ), (o,  , V), ( , V, ă), (...            0   \n",
       "...                                                 ...          ...   \n",
       "3189  [(N, g, u), (g, u, y), (u, y, e), (y, e, n), (...            0   \n",
       "3190  [(N, g, u), (g, u, y), (u, y, e), (y, e, n), (...            0   \n",
       "3192       [(L, ê,  ), (ê,  , P), ( , P, h), (P, h, ổ)]            0   \n",
       "3193  [(V, u,  ), (u,  , N), ( , N, g), (N, g, o), (...            0   \n",
       "3194  [(H, o, a), (o, a, n), (a, n, g), (n, g,  ), (...            0   \n",
       "\n",
       "      dash_freq  space_freq  apostrophe_freq  \n",
       "0             0           2                0  \n",
       "1             0           3                0  \n",
       "2             0           8                0  \n",
       "3             0           1                0  \n",
       "4             0           2                0  \n",
       "...         ...         ...              ...  \n",
       "3189          0           2                0  \n",
       "3190          0           2                0  \n",
       "3192          0           1                0  \n",
       "3193          0           2                0  \n",
       "3194          0           2                0  \n",
       "\n",
       "[2370 rows x 12 columns]"
      ]
     },
     "execution_count": 40,
     "metadata": {},
     "output_type": "execute_result"
    }
   ],
   "source": [
    "viet_df"
   ]
  },
  {
   "cell_type": "code",
   "execution_count": 41,
   "id": "42ad8024-b870-40d3-bde5-9e5c9305c5ad",
   "metadata": {},
   "outputs": [],
   "source": [
    "def create_character_frequency_hashmap(df, names_col):\n",
    "    char_freqs = {}\n",
    "    for name in df[names_col]:\n",
    "        for char in name:\n",
    "            if char not in char_freqs.keys():\n",
    "                char_freqs[char] = 1\n",
    "            else:\n",
    "                char_freqs[char] += 1\n",
    "    return char_freqs"
   ]
  },
  {
   "cell_type": "code",
   "execution_count": 42,
   "id": "3f058f53-1d1c-418d-a55e-0dea34a41df0",
   "metadata": {},
   "outputs": [
    {
     "name": "stdout",
     "output_type": "stream",
     "text": [
      "{('T',): 1466, ('ừ',): 14, (' ',): 4566, ('H',): 699, ('o',): 764, ('à',): 249, ('n',): 3868, ('g',): 1942, ('h',): 2285, ('ô',): 170, ('N',): 950, ('u',): 1804, ('y',): 873, ('ễ',): 409, ('ị',): 139, ('P',): 432, ('ư',): 272, ('ơ',): 196, ('ả',): 85, ('M',): 248, ('ạ',): 164, ('D',): 302, ('ũ',): 69, ('(',): 54, ('c',): 463, ('ầ',): 170, ('t',): 212, ('ủ',): 14, ('b',): 18, ('ó',): 10, ('đ',): 11, ('á',): 122, ('s',): 67, ('i',): 1126, ('1',): 8, ('9',): 11, ('8',): 2, (')',): 54, ('k',): 10, ('Ú',): 1, ('C',): 281, ('a',): 1340, ('V',): 563, ('ă',): 230, ('L',): 507, ('â',): 168, ('e',): 503, ('Đ',): 262, ('ọ',): 88, ('Q',): 207, ('B',): 196, ('í',): 54, ('r',): 518, ('m',): 339, ('S',): 109, ('ế',): 104, ('A',): 103, ('ỳ',): 40, ('G',): 63, ('ù',): 78, ('f',): 6, ('l',): 49, (',',): 3, ('7',): 3, ('w',): 6, ('p',): 55, ('ự',): 9, ('E',): 10, ('ệ',): 93, ('K',): 229, ('é',): 5, ('ờ',): 40, ('ề',): 37, ('ồ',): 60, ('ố',): 42, ('ỗ',): 26, ('ú',): 72, ('ỹ',): 17, ('ý',): 42, ('ã',): 10, ('I',): 11, ('d',): 32, ('v',): 34, ('ê',): 276, ('X',): 87, ('ặ',): 30, ('ứ',): 57, ('ổ',): 6, ('ằ',): 15, ('ể',): 12, ('ấ',): 60, ('ắ',): 29, ('ậ',): 51, ('ì',): 59, ('ò',): 17, ('ợ',): 20, ('Ð',): 5, ('Á',): 11, ('z',): 4, ('R',): 6, ('ĩ',): 39, ('J',): 18, ('ử',): 17, ('ữ',): 35, ('ộ',): 24, ('ỷ',): 2, ('ớ',): 17, ('ụ',): 27, ('Y',): 19, ('O',): 7, ('õ',): 21, ('x',): 11, ('ẩ',): 7, ('W',): 1, ('U',): 8, ('-',): 16, ('Í',): 2, ('ć',): 1, ('ỵ',): 3, ('Â',): 2, ('ở',): 4, ('ẫ',): 3, ('F',): 7, ('Ẩ',): 3, ('ỉ',): 3, ('Ý',): 2, (\"'\",): 2, ('.',): 7, ('ǹ',): 1, ('ỏ',): 1, ('ç',): 1, ('j',): 1, ('Ỷ',): 1, ('ñ',): 1, ('5',): 1, ('2',): 1}\n"
     ]
    }
   ],
   "source": [
    "viet_uni = create_character_frequency_hashmap(viet_df, 'unigrams')\n",
    "print(viet_uni)"
   ]
  },
  {
   "cell_type": "code",
   "execution_count": 43,
   "id": "133c757c-df9e-4ba1-935d-38dc9dcfd7c3",
   "metadata": {},
   "outputs": [
    {
     "name": "stdout",
     "output_type": "stream",
     "text": [
      "{('T', 'ừ'): 10, ('ừ', ' '): 4, (' ', 'H'): 490, ('H', 'o'): 201, ('o', 'à'): 134, ('à', 'n'): 154, ('n', 'g'): 1129, ('g', ' '): 616, (' ', 'T'): 1070, ('T', 'h'): 624, ('h', 'ô'): 11, ('ô', 'n'): 93, ('N', 'g'): 808, ('g', 'u'): 616, ('u', 'y'): 782, ('y', 'ễ'): 392, ('ễ', 'n'): 400, ('n', ' '): 1485, ('h', 'ị'): 113, ('ị', ' '): 101, (' ', 'P'): 207, ('P', 'h'): 414, ('h', 'ư'): 72, ('ư', 'ơ'): 150, ('ơ', 'n'): 184, ('h', 'ả'): 24, ('ả', 'o'): 33, (' ', 'M'): 177, ('M', 'ạ'): 29, ('ạ', 'n'): 22, ('n', 'h'): 753, ('h', ' '): 493, (' ', 'D'): 213, ('D', 'ũ'): 21, ('ũ', 'n'): 21, (' ', '('): 54, ('(', 'c'): 14, ('c', 'ầ'): 5, ('ầ', 'u'): 10, ('u', ' '): 181, (' ', 't'): 12, ('t', 'h'): 15, ('h', 'ủ'): 13, ('ủ', ' '): 7, (' ', 'b'): 8, ('b', 'ó'): 6, ('ó', 'n'): 7, (' ', 'đ'): 10, ('đ', 'á'): 6, ('á', ' '): 13, (' ', 's'): 18, ('s', 'i'): 5, ('i', 'n'): 271, (' ', '1'): 6, ('1', '9'): 6, ('9', '8'): 2, ('8', '1'): 2, ('1', ')'): 2, ('N', 'i'): 19, ('i', 'c'): 25, ('c', 'k'): 3, ('k', ' '): 2, (' ', 'Ú'): 1, ('Ú', 't'): 1, ('C', 'a'): 47, ('a', 'o'): 72, ('o', ' '): 121, (' ', 'V'): 446, ('V', 'ă'): 210, ('ă', 'n'): 228, (' ', 'L'): 234, ('L', 'ầ'): 1, ('T', 'ạ'): 5, ('ạ', ' '): 5, ('h', 'u'): 192, ('h', 'â'): 31, ('â', 'u'): 20, ('D', 'i'): 52, ('h', 'e'): 10, ('e', ' '): 100, ('H', 'u'): 148, ('y', 'n'): 23, ('Đ', 'ô'): 7, (' ', 'N'): 343, ('N', 'h'): 90, ('h', 'i'): 183, ('y', 'e'): 210, ('e', 'n'): 263, ('L', 'a'): 54, ('a', 'n'): 804, ('u', 'o'): 114, ('o', 'n'): 206, ('g', 'ọ'): 63, ('ọ', 'c'): 67, ('c', ' '): 246, (' ', 'Q'): 185, ('Q', 'u'): 205, ('u', 'a'): 139, (' ', 'B'): 124, ('B', 'í'): 11, ('í', 'c'): 24, ('c', 'h'): 63, ('T', 'r'): 436, ('r', 'ọ'): 15, ('ọ', 'n'): 15, ('N', 'a'): 23, ('a', 'm'): 94, ('m', ' '): 180, (' ', 'S'): 95, ('S', 'ơ'): 27, ('M', 'y'): 8, ('y', ' '): 90, ('L', 'i'): 52, ('C', 'h'): 134, ('h', 'ế'): 16, ('ế', ' '): 22, (' ', 'A'): 82, ('A', ' '): 4, ('N', 'ă'): 3, ('H', 'ọ'): 2, ('u', 'ỳ'): 37, ('ỳ', 'n'): 36, ('S', 'a'): 24, ('r', 'ầ'): 145, ('ầ', 'n'): 156, (' ', 'G'): 40, ('G', 'i'): 59, ('i', 'à'): 2, ('à', 'u'): 1, ('B', 'ù'): 32, ('ù', 'i'): 32, ('i', ' '): 200, ('T', 'i'): 47, ('i', 'ế'): 56, ('ế', 'n'): 43, ('(', 'f'): 1, ('f', 'o'): 1, ('o', 'o'): 2, ('o', 't'): 5, ('t', 'b'): 1, ('b', 'a'): 2, ('a', 'l'): 4, ('l', 'l'): 1, ('l', 'e'): 7, ('e', 'r'): 15, ('r', ','): 1, (',', ' '): 2, ('b', 'o'): 2, ('o', 'r'): 3, ('r', 'n'): 3, ('9', '9'): 2, ('9', '7'): 3, ('7', ')'): 2, ('M', 'a'): 65, ('D', 'u'): 100, ('u', 'n'): 100, ('u', 'ả'): 7, ('ả', 'n'): 17, ('T', 'u'): 80, ('u', 'â'): 64, ('â', 'n'): 114, ('h', 'o'): 58, ('o', 'ạ'): 5, ('ạ', 'i'): 11, ('H', 'ầ'): 2, ('a', 'h'): 3, ('h', 'a'): 344, ('a', ' '): 82, ('a', 'w'): 1, ('w', 'a'): 1, ('H', 'i'): 48, ('ế', 'u'): 13, ('H', 'ù'): 17, ('ù', 'm'): 1, ('a', 'u'): 18, ('V', 'a'): 117, ('i', 'e'): 113, ('e', 'p'): 9, ('r', 'u'): 52, ('r', 'ự'): 2, ('ự', 'c'): 3, ('T', 'à'): 9, ('à', 'i'): 24, (' ', 'E'): 5, ('E', 'm'): 9, ('G', 'r'): 1, ('r', 'i'): 47, ('i', 'f'): 3, ('f', 'f'): 1, ('f', 'i'): 1, ('i', 't'): 4, ('h', 's'): 1, ('h', 'ạ'): 85, ('ạ', 'm'): 79, ('V', 'i'): 74, ('i', 'ệ'): 63, ('ệ', 't'): 34, ('t', ' '): 81, ('A', 'n'): 89, (' ', 'K'): 193, ('K', 'h'): 134, ('o', 'a'): 113, ('ệ', 'p'): 10, ('p', ' '): 9, ('M', 'i'): 111, (' ', 'C'): 217, ('g', 'a'): 19, ('a', 'i'): 81, ('C', 'u'): 18, ('C', 'o'): 12, ('a', 'c'): 17, ('o', 'l'): 11, ('l', 'ô'): 8, ('ô', ' '): 62, ('L', 'ư'): 25, ('r', 'á'): 3, ('á', 'c'): 10, ('K', 'i'): 70, ('i', 'm'): 37, ('B', 'é'): 1, ('C', 'ư'): 16, ('ư', 'ờ'): 39, ('ờ', 'n'): 37, ('V', 'ũ'): 46, ('ạ', 'c'): 27, (' ', 'Đ'): 170, ('Đ', 'ă'): 7, ('i', 'ề'): 25, ('ề', 'u'): 11, ('B', 'ả'): 16, ('r', 'ị'): 21, ('L', 'o'): 40, ('o', 'i'): 10, ('H', 'ồ'): 54, ('ồ', 'n'): 32, ('r', 'a'): 97, ('H', 'à'): 43, ('r', 'ư'): 38, ('h', 'ơ'): 16, ('u', 'ố'): 28, ('ố', 'c'): 31, ('Đ', 'ỗ'): 25, ('ỗ', ' '): 25, ('o', 'c'): 53, ('h', 'á'): 60, ('á', 'n'): 44, ('h', 'ú'): 58, ('ú', 'c'): 44, ('h', 'ừ'): 3, ('ừ', 'a'): 4, ('M', 'ỹ'): 9, ('L', 'ý'): 25, ('ý', ' '): 27, ('h', 'ã'): 3, ('ã', ' '): 2, ('K', 'ỳ'): 3, ('g', 'â'): 9, ('D', 'a'): 33, ('I', 'n'): 3, ('n', 'd'): 12, ('d', 'r'): 9, ('a', 'v'): 17, ('v', 'a'): 10, ('a', 'r'): 27, ('r', 'm'): 10, ('m', 'a'): 13, ('V', 'I'): 2, ('V', 'ư'): 12, ('T', 'ù'): 10, ('ù', 'n'): 36, ('D', 'ư'): 37, ('L', 'ê'): 144, ('ê', ' '): 146, ('y', 'ề'): 12, ('ề', 'n'): 23, ('T', 'ô'): 58, ('X', 'u'): 72, ('u', 'ệ'): 8, ('B', 'ạ'): 5, (' ', 'X'): 76, ('y', 'ê'): 39, ('ê', 'n'): 83, ('T', 'â'): 14, ('â', 'm'): 32, ('Đ', 'ặ'): 28, ('ặ', 'n'): 28, ('ị', 'n'): 32, ('Đ', 'ứ'): 46, ('ứ', 'c'): 47, ('i', 'a'): 39, ('A', 'u'): 2, ('u', 'c'): 43, ('ủ', 'y'): 6, ('r', 'í'): 5, ('h', 'í'): 25, ('í', ' '): 10, ('H', 'ư'): 35, ('ư', 'n'): 19, ('ũ', ' '): 41, ('B', 'ã'): 1, ('ã', 'o'): 2, ('i', 'ê'): 71, ('ê', 'm'): 15, ('ú', ' '): 7, ('ệ', 'u'): 13, ('h', 'ổ'): 3, ('ổ', 'n'): 2, ('T', 'ú'): 11, ('h', 'ù'): 17, ('B', 'u'): 21, ('u', 'i'): 16, ('B', 'ằ'): 5, ('ằ', 'n'): 15, ('ù', 'y'): 6, ('D', 'o'): 33, ('Đ', 'ọ'): 2, ('C', 'ô'): 21, ('S', 'á'): 7, ('X', 'í'): 3, ('Đ', 'i'): 23, ('i', 'ể'): 10, ('ể', 'u'): 4, ('u', 'ấ'): 28, ('ấ', 'n'): 46, ('h', 'ắ'): 20, ('ắ', 'n'): 12, ('T', 'a'): 31, ('D', 'e'): 4, ('L', 'â'): 22, ('h', 'ậ'): 15, ('ậ', 't'): 18, ('e', 'v'): 1, ('M', 'u'): 3, ('B', 'ì'): 24, ('ì', 'n'): 59, ('ồ', ' '): 26, ('T', 'ấ'): 17, ('H', 'ò'): 12, ('ò', 'a'): 12, ('ư', 'ợ'): 15, ('ợ', 'n'): 11, ('ệ', 'n'): 13, ('H', 'â'): 2, ('P', 'i'): 3, ('r', 'r'): 2, ('r', 'e'): 10, ('h', 'ê'): 11, ('ê', 'r'): 7, ('r', 'ô'): 7, (' ', 'Ð'): 3, ('Ð', 'ệ'): 1, ('Á', 'i'): 3, ('V', 'â'): 15, ('g', 'o'): 38, ('e', 'u'): 23, ('ê', 'u'): 7, ('(', 'd'): 4, ('d', 'i'): 4, ('i', 'ễ'): 15, (' ', 'v'): 10, ('v', 'i'): 16, ('n', ')'): 6, ('B', 'i'): 16, ('g', 'à'): 1, ('D', 'z'): 4, ('z', 'u'): 3, (' ', 'R'): 5, ('R', 'o'): 2, ('o', 'b'): 2, ('b', 'e'): 4, ('r', 't'): 5, ('V', 'ĩ'): 11, ('ĩ', 'n'): 16, ('u', 'u'): 26, ('g', 'ô'): 36, ('Đ', 'ì'): 33, ('L', 'ệ'): 7, ('ệ', ' '): 15, ('a', 't'): 25, ('M', 'í'): 1, ('í', 't'): 1, ('r', 'ứ'): 1, ('h', 'à'): 29, ('J', 'o'): 6, ('o', 's'): 9, ('s', 'e'): 16, ('p', 'h'): 8, ('H', 'ả'): 23, ('ả', 'i'): 28, ('c', 'a'): 11, ('s', 'ĩ'): 14, ('ĩ', ')'): 13, ('C', 'ử'): 2, ('ử', 'u'): 10, ('Đ', 'à'): 18, ('à', 'm'): 4, ('à', ' '): 36, ('L', 'u'): 24, ('Á', 'n'): 8, ('y', 'ế'): 13, ('ế', 't'): 18, ('Đ', 'o'): 13, ('L', 'y'): 19, ('e', 't'): 28, ('H', 'á'): 3, ('T', 'ì'): 1, ('C', 'ả'): 6, ('Đ', 'ư'): 3, ('ợ', 'c'): 3, ('S', 'y'): 2, ('K', 'ý'): 3, ('T', 'o'): 41, ('h', 'h'): 1, ('H', 'a'): 41, ('ỹ', ' '): 11, ('H', 'ữ'): 29, ('ữ', 'u'): 29, ('à', 'o'): 12, ('n', 'e'): 4, ('e', 'e'): 1, ('u', 'r'): 2, ('n', 't'): 8, ('t', 'r'): 3, ('T', 'ư'): 17, ('Đ', 'ộ'): 4, ('u', 'á'): 6, ('á', 't'): 12, ('L', 'ữ'): 2, ('a', 'd'): 6, ('d', 'a'): 5, ('m', 'e'): 7, ('K', 'y'): 4, ('h', 'ấ'): 12, ('ấ', 't'): 12, ('C', 'ầ'): 3, ('ầ', 'm'): 4, ('T', 'ă'): 2, ('Đ', 'ạ'): 19, ('g', 'h'): 27, ('h', 'ĩ'): 4, ('ĩ', 'a'): 4, ('h', 'ứ'): 2, ('u', 'ỷ'): 1, ('P', 'a'): 6, ('u', 'l'): 6, ('l', ' '): 11, ('Đ', 'á'): 2, ('á', 'i'): 24, ('B', 'a'): 30, ('H', 'ớ'): 1, ('ớ', 'n'): 6, ('S', 'ế'): 1, ('ắ', 'c'): 15, ('S', 'ử'): 2, ('o', 'á'): 4, ('L', 'ị'): 1, ('ị', 'c'): 1, ('L', 'e'): 61, ('ạ', 'o'): 10, ('D', 'ụ'): 7, ('L', 'ạ'): 5, ('ạ', 'p'): 1, ('L', 'ợ'): 3, ('ợ', 'i'): 3, ('Y', ' '): 4, (' ', 'O'): 6, ('O', 'k'): 2, ('k', 'i'): 2, ('i', 'o'): 6, ('O', 'a'): 2, ('r', 'o'): 11, ('V', 'ô'): 1, ('S', 'ư'): 3, ('L', 'ộ'): 6, ('ộ', 'c'): 6, ('V', 'o'): 15, ('a', 'p'): 5, (' ', 'Y'): 13, ('Y', 'ế'): 5, ('C', 'á'): 3, ('B', 'ử'): 6, ('ú', 'y'): 7, ('V', 'õ'): 21, ('õ', ' '): 21, ('D', 'ừ'): 1, ('n', 'x'): 4, ('x', 'i'): 8, ('c', 'ô'): 8, ('X', 'a'): 6, ('u', 'ậ'): 16, ('ậ', 'n'): 15, ('T', 'ử'): 6, ('ử', ' '): 4, ('i', 'á'): 10, ('á', 'p'): 8, ('Đ', 'ồ'): 6, ('V', 'y'): 5, ('u', 'ẩ'): 1, ('ẩ', 'n'): 4, ('u', 't'): 2, ('m', 'p'): 3, ('p', 'r'): 3, ('e', 's'): 7, ('s', 's'): 3, ('s', ' '): 14, ('M', 'o'): 2, ('r', ' '): 8, ('Đ', 'ả'): 1, ('u', 'ý'): 13, ('A', 'l'): 4, ('e', 'x'): 3, ('x', 'a'): 2, ('e', 'm'): 16, ('y', 'ệ'): 8, ('N', 'ô'): 3, ('(', 't'): 6, ('t', 'ư'): 5, ('ư', 'ớ'): 13, ('g', ')'): 6, ('S', 'ổ'): 1, ('ữ', ' '): 2, ('M', 'ộ'): 4, ('ộ', 'n'): 7, ('W', 'a'): 1, ('n', 'b'): 1, ('b', 'i'): 2, ('á', ','): 1, (' ', 'n'): 4, ('n', 'ă'): 1, ('ă', 'm'): 2, ('â', 't'): 1, (' ', 'U'): 6, ('U', 'y'): 7, ('S', 'â'): 3, ('T', 'ự'): 3, ('ự', ' '): 3, ('ư', 'u'): 12, ('m', 's'): 2, ('s', 'o'): 2, ('K', 'a'): 4, ('a', 'y'): 9, ('y', 'o'): 2, ('o', 'd'): 2, ('d', 'e'): 4, ('O', 'l'): 1, ('l', 'a'): 5, ('e', 'y'): 2, ('S', 'ỹ'): 4, ('g', '-'): 3, ('-', 'A'): 1, ('L', 'ỷ'): 1, ('i', 'ũ'): 1, ('S', 'o'): 12, ('T', 'ý'): 1, ('S', 'ĩ'): 4, ('u', 'e'): 7, ('Đ', 'a'): 4, ('h', 'ố'): 6, ('ợ', 'm'): 1, ('h', 'ụ'): 14, ('ụ', 'n'): 7, ('D', 'ạ'): 1, ('u', 'ầ'): 4, ('H', 'ạ'): 8, ('Đ', 'ế'): 3, ('á', 'o'): 2, ('i', 'd'): 3, ('d', ' '): 2, ('A', 'r'): 2, ('n', 'o'): 3, ('l', 'd'): 2, (' ', 'Í'): 2, ('Í', 'c'): 2, ('T', 'ắ'): 1, ('h', 'ệ'): 5, ('T', 'ò'): 5, ('ò', 'n'): 5, ('B', 'á'): 13, ('d', 'y'): 3, ('P', 'o'): 2, ('a', 'g'): 1, ('S', 'i'): 9, ('i', 'u'): 13, ('B', 'l'): 1, ('i', 'l'): 4, ('l', 'i'): 5, ('i', 'p'): 3, ('p', 'p'): 3, ('p', 'e'): 2, ('n', '-'): 5, ('-', 'K'): 1, ('m', '-'): 2, ('-', 'D'): 1, ('K', 'e'): 3, ('s', 'l'): 2, ('l', 'v'): 1, ('v', 'e'): 2, ('H', 'ó'): 1, ('ó', 'a'): 1, ('r', 'â'): 6, ('V', 'u'): 23, ('ê', 't'): 1, ('ớ', 'c'): 10, ('h', 'ọ'): 6, ('a', 'e'): 3, ('H', 'y'): 3, ('Ð', 'ư'): 1, ('ư', 'ć'): 1, ('ć', ' '): 1, ('T', 'ó'): 1, ('ó', 'c'): 1, ('H', 'ằ'): 7, ('u', 'k'): 2, ('k', 'e'): 2, ('ố', 'n'): 9, ('đ', 'ố'): 1, ('c', ')'): 1, ('-', 'V'): 2, ('-', 'T'): 2, ('o', 'ằ'): 1, ('M', 'ư'): 2, ('a', 'x'): 1, ('z', 'ế'): 1, ('M', 'ụ'): 2, ('ụ', 'c'): 9, ('ạ', 't'): 6, ('T', 'ỵ'): 3, ('V', 'à'): 3, ('u', 'ớ'): 2, ('L', 'é'): 1, ('é', 'm'): 1, ('ễ', 'm'): 6, ('H', 'ậ'): 3, ('ậ', 'u'): 12, ('M', 'ậ'): 4, (' ', 'Á'): 8, ('í', 'n'): 9, ('P', 'e'): 3, ('t', 'e'): 8, ('ả', 'm'): 2, ('L', 'ậ'): 5, ('ậ', 'p'): 6, ('h', 'ầ'): 4, ('G', 'ấ'): 2, ('ấ', 'm'): 2, ('L', 'ễ'): 2, ('(', 'v'): 4, ('v', 'u'): 2, ('a', ')'): 4, ('K', 'ế'): 4, ('S', 'u'): 3, ('u', 'b'): 1, ('ụ', ' '): 3, ('o', 'ả'): 2, ('e', 'o'): 4, ('o', 'm'): 3, ('r', 'ắ'): 2, ('Ð', 'ạ'): 1, ('C', 'i'): 2, ('g', 'ư'): 3, ('T', 'ứ'): 5, ('r', 'c'): 1, ('c', 'e'): 2, ('e', 'l'): 4, ('ô', 'm'): 2, ('V', 'ỹ'): 4, ('ư', ' '): 13, ('Đ', 'ố'): 1, ('á', 'u'): 1, ('A', 'm'): 1, ('h', 'ă'): 1, ('Đ', 'ằ'): 2, ('(', 's'): 3, ('s', 'w'): 1, ('w', 'i'): 1, ('m', 'm'): 2, ('r', ')'): 1, ('T', 'í'): 4, ('r', 'ã'): 1, ('ã', 'i'): 1, ('Â', 'u'): 1, ('Đ', 'ị'): 4, ('r', 'à'): 7, ('H', 'ã'): 1, ('ã', 'n'): 3, ('ả', 'y'): 3, (' ', 'k'): 1, ('k', 'h'): 1, ('h', 'ở'): 2, ('ở', 'i'): 2, ('H', 'ợ'): 2, ('ợ', 'p'): 2, ('ụ', 'y'): 2, ('a', 'đ'): 1, ('đ', 'ê'): 1, ('ê', 'ô'): 2, ('B', 'ố'): 1, ('u', 's'): 13, ('S', 'e'): 3, ('B', 'ậ'): 1, ('ô', 'i'): 6, ('Đ', 'ể'): 1, ('J', 'e'): 4, ('e', 'a'): 2, ('-', 'B'): 3, ('p', 't'): 2, ('t', 'i'): 8, ('i', 's'): 5, ('s', 't'): 2, ('B', 'ộ'): 2, ('i', 'x'): 3, ('t', 'a'): 3, ('M', 'ẫ'): 2, ('ẫ', 'n'): 1, ('ể', 'n'): 4, ('l', 'o'): 3, ('e', 'w'): 4, ('w', ' '): 4, ('ĩ', ' '): 4, ('F', 'r'): 3, ('r', 'é'): 1, ('é', 'd'): 1, ('d', 'é'): 1, ('é', 'r'): 1, ('T', 'ớ'): 1, ('ớ', 'i'): 1, ('C', 'ụ'): 1, ('ụ', 't'): 1, (' ', 'Ẩ'): 3, ('Ẩ', 'n'): 3, ('ẫ', 'u'): 2, ('(', 'n'): 12, ('ờ', 'i'): 2, (' ', 'm'): 1, ('m', 'ẫ'): 1, ('u', ')'): 4, ('F', 'a'): 2, ('Y', 'a'): 2, ('d', 'u'): 1, ('Đ', 'ắ'): 3, ('a', 'b'): 1, (' ', 'd'): 1, ('d', 'o'): 1, ('t', 'o'): 2, ('B', 'à'): 3, (' ', 'c'): 6, ('c', 'ứ'): 1, ('ứ', 'u'): 1, ('T', 'ụ'): 2, ('Y', 'ê'): 2, ('T', 'ố'): 4, ('u', 'ô'): 2, ('(', 'h'): 5, (' ', 'l'): 2, ('l', 'u'): 2, ('á', ')'): 4, ('y', 's'): 1, ('h', 'ỉ'): 1, ('ỉ', 'n'): 3, ('S', 'í'): 1, ('o', 'ã'): 2, ('Y', 'e'): 4, ('C', 'ẩ'): 5, ('C', 'ủ'): 1, ('ủ', 'n'): 1, ('Y', 'i'): 1, ('h', 'ự'): 2, ('ự', 't'): 2, ('X', 'ư'): 2, ('u', 'ê'): 4, ('Đ', 'ậ'): 1, ('h', 'y'): 1, ('O', 'á'): 1, ('J', 'a'): 7, ('T', 'ầ'): 2, ('r', 'ă'): 1, ('n', 'n'): 3, ('n', 'i'): 2, ('f', 'e'): 2, ('X', 'ứ'): 1, ('ứ', 'n'): 1, ('M', '-'): 1, ('T', 'P'): 1, ('(', 'g'): 1, ('g', 'i'): 3, ('t', 'ô'): 3, ('S', 't'): 1, ('e', 'f'): 1, ('f', 'a'): 1, ('ô', 'l'): 2, ('m', 'ê'): 1, ('n', 'a'): 3, ('g', 'ạ'): 1, ('U', 't'): 1, ('L', 'ự'): 1, ('ự', 'u'): 1, ('u', 'ế'): 3, ('B', 'e'): 1, ('e', 'b'): 1, ('L', 'ụ'): 1, ('r', 'ú'): 3, ('Đ', 'í'): 1, ('K', 'í'): 2, ('(', 'p'): 1, ('A', 'i'): 1, ('ẩ', 'm'): 3, ('y', 'ể'): 1, ('h', '-'): 2, ('-', 'H'): 3, (' ', 'Ý'): 1, ('Ý', ' '): 2, ('y', 'a'): 5, ('r', 'l'): 3, ('N', 'o'): 2, ('P', 'u'): 1, ('ệ', 'm'): 1, ('H', \"'\"): 2, (\"'\", 'H'): 2, ('H', 'e'): 4, ('n', 'r'): 3, ('t', 't'): 1, ('ề', 'm'): 3, ('P', 'é'): 1, ('é', 't'): 1, ('r', 'ì'): 1, ('ơ', ')'): 4, ('ế', 'p'): 2, (' ', 'ả'): 1, (' ', 'g'): 2, ('M', 'ặ'): 1, ('ặ', 'c'): 2, ('T', 's'): 1, ('s', 'u'): 2, ('r', 'k'): 1, ('Q', '.'): 2, ('.', ' '): 7, ('R', 'y'): 2, ('i', 'ả'): 2, ('ả', ')'): 1, ('ư', 'ở'): 2, ('ở', 'n'): 2, ('C', 'ơ'): 2, ('ơ', ' '): 2, (' ', '9'): 2, ('K', 'ỉ'): 1, (' ', 'h'): 7, ('Đ', 'ệ'): 1, ('r', 'ấ'): 1, ('l', 'í'): 1, ('í', 'p'): 1, ('X', '.'): 2, ('T', 'á'): 3, ('H', '.'): 2, ('H', 'ộ'): 3, ('ộ', 'i'): 3, ('r', 'ù'): 1, ('J', 'u'): 1, ('t', 's'): 1, ('s', 'h'): 1, ('i', 'b'): 1, ('T', 'ộ'): 1, ('K', 'ô'): 1, ('H', 'ô'): 1, ('(', 'N'): 1, ('m', ')'): 1, ('D', 'h'): 1, ('M', 'á'): 1, ('c', 't'): 1, ('n', 'ô'): 1, ('c', '-'): 1, ('Ð', 'o'): 1, ('Ð', 'i'): 1, ('ể', 'm'): 3, ('â', 'ǹ'): 1, ('D', 'ậ'): 2, ('C', 'ậ'): 1, ('P', '.'): 1, ('n', 'c'): 2, ('c', 'i'): 1, ('Đ', 'ầ'): 1, ('X', 'i'): 1, ('T', 'y'): 1, ('ọ', 'a'): 1, ('Y', 'v'): 1, ('C', 'l'): 1, ('u', 'd'): 1, ('ộ', ' '): 1, ('L', 'ĩ'): 2, ('g', 'ũ'): 1, ('L', 'ã'): 2, ('m', 'h'): 3, (' ', 'I'): 5, ('I', 'I'): 2, ('v', 'ă'): 1, ('Đ', 'ĩ'): 2, ('o', 'p'): 1, ('O', 'r'): 1, ('g', 'e'): 2, ('B', 'ă'): 1, ('H', 'ắ'): 1, ('n', 'u'): 1, ('l', 's'): 1, ('o', 'k'): 1, ('k', 'y'): 1, ('T', 'ế'): 2, ('ô', 'b'): 1, ('b', 'ê'): 1, ('M', 'ầ'): 1, ('N', 'ữ'): 1, ('g', 'ữ'): 2, ('L', 'ắ'): 1, ('ắ', 'm'): 1, ('M', 'â'): 1, ('T', 'ả'): 3, ('D', 'ĩ'): 1, ('C', 'ố'): 1, ('T', 'ỏ'): 1, ('ú', 'a'): 2, ('-', 'L'): 2, ('D', 'ữ'): 1, ('h', 'ẩ'): 1, ('Đ', 'ổ'): 1, ('F', 'l'): 2, ('B', 'ặ'): 1, ('C', 'ă'): 3, ('l', 'b'): 1, ('S', 'ầ'): 1, ('G', 'a'): 1, ('v', 'ậ'): 3, ('đ', 'ộ'): 3, ('b', 'ơ'): 1, ('ơ', 'i'): 1, ('l', 'ộ'): 1, ('i', ')'): 1, ('y', '-'): 2, ('B', 'ỉ'): 1, ('I', 'V'): 2, ('a', 's'): 2, ('á', 'm'): 2, ('ỳ', ' '): 1, ('g', ','): 1, ('c', 'o'): 1, ('r', 'ê'): 1, ('h', 'ử'): 1, ('S', 'ắ'): 1, ('ắ', 't'): 1, ('ố', ' '): 1, ('-', 'M'): 1, ('c', 'ờ'): 1, ('ờ', ' '): 1, ('N', 'u'): 1, ('T', 'ổ'): 1, ('n', 'ç'): 1, ('ç', 'o'): 1, ('R', 'u'): 1, ('a', 'j'): 1, ('j', 'a'): 1, ('ả', ' '): 1, ('Ỷ', ' '): 1, ('B', 'h'): 1, ('C', 'ù'): 1, ('ù', ' '): 1, ('ễ', 'u'): 1, ('B', 'B'): 1, ('B', ' '): 1, ('D', 'â'): 1, ('D', 'ự'): 1, ('(', 'l'): 1, ('s', 'ư'): 1, ('ư', ')'): 1, ('7', '9'): 1, ('9', ')'): 1, ('C', 'ó'): 1, ('E', 'u'): 1, ('u', 'g'): 1, ('T', 'ĩ'): 1, ('D', 'ê'): 1, ('R', 'ứ'): 1, ('ứ', 'a'): 1, ('ứ', ' '): 1, ('ê', 'ñ'): 1, ('r', 'ỗ'): 1, ('ỗ', 'i'): 1, ('ã', 'm'): 1, (' ', 'Â'): 1, ('Â', 'n'): 1, ('9', '5'): 1, ('5', '2'): 1, ('2', ')'): 1, ('D', 'ầ'): 1, ('(', 'T'): 1, ('h', ')'): 1, ('h', 'ó'): 1}\n"
     ]
    }
   ],
   "source": [
    "viet_bi = create_character_frequency_hashmap(viet_df, 'bigrams')\n",
    "print(viet_bi)"
   ]
  },
  {
   "cell_type": "code",
   "execution_count": 44,
   "id": "9665e34d-f097-4229-b4cc-8a4e7e5ce195",
   "metadata": {},
   "outputs": [
    {
     "name": "stdout",
     "output_type": "stream",
     "text": [
      "{('T', 'ừ', ' '): 4, ('ừ', ' ', 'H'): 2, (' ', 'H', 'o'): 104, ('H', 'o', 'à'): 111, ('o', 'à', 'n'): 123, ('à', 'n', 'g'): 101, ('n', 'g', ' '): 616, ('g', ' ', 'T'): 149, (' ', 'T', 'h'): 556, ('T', 'h', 'ô'): 3, ('h', 'ô', 'n'): 5, ('ô', 'n', 'g'): 78, ('N', 'g', 'u'): 616, ('g', 'u', 'y'): 613, ('u', 'y', 'ễ'): 392, ('y', 'ễ', 'n'): 392, ('ễ', 'n', ' '): 392, ('n', ' ', 'T'): 355, ('T', 'h', 'ị'): 110, ('h', 'ị', ' '): 101, ('ị', ' ', 'P'): 5, (' ', 'P', 'h'): 204, ('P', 'h', 'ư'): 44, ('h', 'ư', 'ơ'): 42, ('ư', 'ơ', 'n'): 150, ('ơ', 'n', 'g'): 149, ('T', 'h', 'ả'): 16, ('h', 'ả', 'o'): 16, ('n', ' ', 'M'): 52, (' ', 'M', 'ạ'): 16, ('M', 'ạ', 'n'): 17, ('ạ', 'n', 'h'): 20, ('n', 'h', ' '): 444, ('h', ' ', 'D'): 29, (' ', 'D', 'ũ'): 21, ('D', 'ũ', 'n'): 21, ('ũ', 'n', 'g'): 21, ('g', ' ', '('): 18, (' ', '(', 'c'): 14, ('(', 'c', 'ầ'): 5, ('c', 'ầ', 'u'): 5, ('ầ', 'u', ' '): 5, ('u', ' ', 't'): 5, (' ', 't', 'h'): 10, ('t', 'h', 'ủ'): 6, ('h', 'ủ', ' '): 7, ('ủ', ' ', 'b'): 5, (' ', 'b', 'ó'): 6, ('b', 'ó', 'n'): 6, ('ó', 'n', 'g'): 7, ('g', ' ', 'đ'): 7, (' ', 'đ', 'á'): 6, ('đ', 'á', ' '): 1, ('á', ' ', 's'): 1, (' ', 's', 'i'): 3, ('s', 'i', 'n'): 5, ('i', 'n', 'h'): 259, ('h', ' ', '1'): 4, (' ', '1', '9'): 6, ('1', '9', '8'): 2, ('9', '8', '1'): 2, ('8', '1', ')'): 2, ('N', 'i', 'c'): 4, ('i', 'c', 'k'): 2, ('c', 'k', ' '): 2, ('k', ' ', 'Ú'): 1, (' ', 'Ú', 't'): 1, ('C', 'a', 'o'): 35, ('a', 'o', ' '): 40, ('o', ' ', 'V'): 16, (' ', 'V', 'ă'): 202, ('V', 'ă', 'n'): 210, ('ă', 'n', ' '): 205, ('n', ' ', 'L'): 63, (' ', 'L', 'ầ'): 1, ('L', 'ầ', 'u'): 1, ('T', 'ạ', ' '): 5, ('ạ', ' ', 'T'): 3, ('T', 'h', 'u'): 78, ('h', 'u', ' '): 41, ('u', ' ', 'T'): 39, ('T', 'h', 'â'): 5, ('h', 'â', 'u'): 19, ('D', 'i', 'n'): 29, ('h', ' ', 'T'): 132, ('T', 'h', 'e'): 4, ('h', 'e', ' '): 6, ('e', ' ', 'H'): 9, (' ', 'H', 'u'): 108, ('H', 'u', 'y'): 78, ('u', 'y', 'n'): 22, ('y', 'n', 'h'): 22, ('Đ', 'ô', 'n'): 7, ('g', ' ', 'N'): 41, (' ', 'N', 'h'): 81, ('N', 'h', 'i'): 8, ('u', 'y', 'e'): 207, ('y', 'e', 'n'): 203, ('e', 'n', ' '): 196, (' ', 'L', 'a'): 38, ('L', 'a', 'n'): 29, ('a', 'n', ' '): 313, ('n', ' ', 'P'): 79, ('P', 'h', 'u'): 57, ('h', 'u', 'o'): 29, ('u', 'o', 'n'): 90, ('o', 'n', 'g'): 184, ('n', ' ', 'N'): 93, (' ', 'N', 'g'): 232, ('N', 'g', 'ọ'): 63, ('g', 'ọ', 'c'): 62, ('ọ', 'c', ' '): 52, ('c', ' ', 'H'): 29, ('n', ' ', 'Q'): 58, (' ', 'Q', 'u'): 183, ('Q', 'u', 'a'): 90, ('u', 'a', 'n'): 128, ('a', 'n', 'g'): 207, ('g', ' ', 'B'): 11, (' ', 'B', 'í'): 10, ('B', 'í', 'c'): 9, ('í', 'c', 'h'): 24, (' ', 'T', 'r'): 166, ('T', 'r', 'ọ'): 15, ('r', 'ọ', 'n'): 15, ('ọ', 'n', 'g'): 15, ('g', ' ', 'H'): 47, ('N', 'a', 'm'): 21, ('a', 'm', ' '): 51, ('m', ' ', 'S'): 1, (' ', 'S', 'ơ'): 25, ('S', 'ơ', 'n'): 27, ('M', 'y', ' '): 3, ('y', ' ', 'L'): 11, (' ', 'L', 'i'): 47, ('L', 'i', 'n'): 31, ('C', 'h', 'ế'): 6, ('h', 'ế', ' '): 15, ('ế', ' ', 'A'): 3, (' ', 'A', ' '): 2, ('A', ' ', 'N'): 2, (' ', 'N', 'ă'): 2, ('N', 'ă', 'n'): 2, ('ă', 'n', 'g'): 13, ('H', 'ọ', 'c'): 2, ('c', ' ', 'P'): 12, ('P', 'h', 'i'): 14, ('H', 'u', 'ỳ'): 26, ('u', 'ỳ', 'n'): 36, ('ỳ', 'n', 'h'): 36, ('h', ' ', 'S'): 9, (' ', 'S', 'a'): 18, ('S', 'a', 'n'): 13, ('a', 'n', 'h'): 155, ('T', 'r', 'ầ'): 145, ('r', 'ầ', 'n'): 145, ('ầ', 'n', ' '): 147, ('n', ' ', 'V'): 194, ('n', ' ', 'G'): 9, (' ', 'G', 'i'): 37, ('G', 'i', 'à'): 2, ('i', 'à', 'u'): 1, ('B', 'ù', 'i'): 32, ('ù', 'i', ' '): 32, ('i', ' ', 'T'): 59, (' ', 'T', 'i'): 47, ('T', 'i', 'ế'): 24, ('i', 'ế', 'n'): 33, ('ế', 'n', ' '): 26, ('n', ' ', 'D'): 63, (' ', '(', 'f'): 1, ('(', 'f', 'o'): 1, ('f', 'o', 'o'): 1, ('o', 'o', 't'): 1, ('o', 't', 'b'): 1, ('t', 'b', 'a'): 1, ('b', 'a', 'l'): 1, ('a', 'l', 'l'): 1, ('l', 'l', 'e'): 1, ('l', 'e', 'r'): 1, ('e', 'r', ','): 1, ('r', ',', ' '): 1, (',', ' ', 'b'): 1, (' ', 'b', 'o'): 1, ('b', 'o', 'r'): 1, ('o', 'r', 'n'): 1, ('r', 'n', ' '): 1, ('n', ' ', '1'): 1, ('1', '9', '9'): 2, ('9', '9', '7'): 2, ('9', '7', ')'): 2, (' ', 'M', 'a'): 31, ('M', 'a', 'n'): 8, (' ', 'D', 'u'): 83, ('D', 'u', 'n'): 22, ('u', 'n', 'g'): 99, ('Q', 'u', 'ả'): 7, ('u', 'ả', 'n'): 7, ('ả', 'n', 'g'): 8, (' ', 'T', 'u'): 75, ('T', 'u', 'â'): 5, ('u', 'â', 'n'): 64, ('T', 'h', 'o'): 9, ('h', 'o', 'ạ'): 2, ('o', 'ạ', 'i'): 3, ('ạ', 'i', ' '): 8, ('i', ' ', 'N'): 13, (' ', 'H', 'ầ'): 2, ('H', 'ầ', 'u'): 2, ('M', 'a', 'h'): 2, ('a', 'h', 'a'): 2, ('h', 'a', ' '): 5, ('a', ' ', 'S'): 7, ('S', 'a', 'w'): 1, ('a', 'w', 'a'): 1, ('i', ' ', 'V'): 20, ('n', ' ', 'H'): 163, (' ', 'H', 'i'): 46, ('H', 'i', 'ế'): 16, ('i', 'ế', 'u'): 13, ('P', 'h', 'a'): 117, ('h', 'a', 'n'): 231, (' ', 'H', 'ù'): 16, ('H', 'ù', 'm'): 1, ('C', 'h', 'a'): 12, ('h', 'a', 'u'): 7, ('a', 'u', ' '): 2, ('u', ' ', 'V'): 13, (' ', 'V', 'a'): 108, ('V', 'a', 'n'): 117, ('T', 'i', 'e'): 13, ('i', 'e', 'p'): 3, ('T', 'r', 'u'): 50, ('r', 'u', 'n'): 28, ('T', 'r', 'ự'): 2, ('r', 'ự', 'c'): 2, (' ', 'T', 'à'): 9, ('T', 'à', 'i'): 9, ('à', 'i', ' '): 8, ('i', ' ', 'E'): 2, (' ', 'E', 'm'): 5, ('ả', 'o', ' '): 16, ('o', ' ', 'G'): 1, (' ', 'G', 'r'): 1, ('G', 'r', 'i'): 1, ('r', 'i', 'f'): 1, ('i', 'f', 'f'): 1, ('f', 'f', 'i'): 1, ('f', 'i', 't'): 1, ('i', 't', 'h'): 1, ('t', 'h', 's'): 1, ('P', 'h', 'ạ'): 77, ('h', 'ạ', 'm'): 77, ('ạ', 'm', ' '): 75, ('m', ' ', 'V'): 24, (' ', 'V', 'i'): 64, ('V', 'i', 'ệ'): 26, ('i', 'ệ', 't'): 29, ('ệ', 't', ' '): 19, ('t', ' ', 'A'): 8, (' ', 'A', 'n'): 75, ('A', 'n', 'h'): 65, ('h', ' ', 'K'): 21, (' ', 'K', 'h'): 115, ('K', 'h', 'o'): 20, ('h', 'o', 'a'): 13, ('D', 'i', 'ệ'): 8, ('i', 'ệ', 'p'): 10, ('ệ', 'p', ' '): 3, ('p', ' ', 'M'): 1, (' ', 'M', 'i'): 93, ('M', 'i', 'n'): 103, ('h', ' ', 'C'): 31, (' ', 'C', 'h'): 100, ('C', 'h', 'â'): 21, ('D', 'u', 'o'): 13, ('g', ' ', 'V'): 64, ('N', 'g', 'a'): 18, ('M', 'a', 'i'): 36, ('a', 'i', ' '): 43, ('n', ' ', 'C'): 82, (' ', 'C', 'u'): 12, ('C', 'u', 'o'): 9, (' ', 'C', 'o'): 12, ('C', 'o', ' '): 2, ('o', ' ', 'T'): 21, ('T', 'h', 'a'): 155, ('h', 'a', 'c'): 5, ('a', 'c', 'h'): 5, ('h', 'a', 'o'): 13, ('a', 'o', 'l'): 7, ('o', 'l', 'ô'): 7, ('l', 'ô', ' '): 7, ('ô', ' ', 'N'): 10, ('h', ' ', 'H'): 66, ('H', 'o', 'a'): 66, ('o', 'a', 'n'): 83, ('L', 'ư', 'ơ'): 13, ('c', ' ', 'T'): 68, ('T', 'r', 'á'): 3, ('r', 'á', 'c'): 2, ('ị', ' ', 'K'): 12, (' ', 'K', 'i'): 55, ('K', 'i', 'm'): 33, ('i', 'm', ' '): 26, ('m', ' ', 'B'): 3, (' ', 'B', 'é'): 1, ('C', 'ư', 'ờ'): 12, ('ư', 'ờ', 'n'): 37, ('ờ', 'n', 'g'): 37, (' ', 'V', 'ũ'): 10, ('M', 'ạ', 'c'): 12, ('ạ', 'c', ' '): 16, ('c', ' ', 'Đ'): 11, (' ', 'Đ', 'ă'): 7, ('Đ', 'ă', 'n'): 7, ('g', ' ', 'D'): 32, ('C', 'h', 'ư'): 2, ('K', 'i', 'ề'): 9, ('i', 'ề', 'u'): 11, ('n', ' ', 'B'): 44, (' ', 'B', 'ả'): 12, ('B', 'ả', 'o'): 13, ('T', 'r', 'ị'): 21, (' ', 'L', 'o'): 38, ('L', 'o', 'i'): 1, ('o', 'i', ' '): 2, ('i', ' ', 'H'): 22, (' ', 'H', 'ồ'): 30, ('H', 'ồ', 'n'): 26, ('ồ', 'n', 'g'): 32, ('g', ' ', 'S'): 29, ('T', 'r', 'a'): 87, ('r', 'a', 'n'): 85, (' ', 'H', 'à'): 25, ('D', 'u', 'y'): 30, ('u', 'y', ' '): 54, ('y', ' ', 'T'): 21, ('T', 'r', 'ư'): 38, ('r', 'ư', 'ờ'): 12, ('N', 'h', 'ơ'): 5, ('h', 'ơ', 'n'): 7, ('h', ' ', 'Q'): 18, ('Q', 'u', 'ố'): 28, ('u', 'ố', 'c'): 28, ('ố', 'c', ' '): 23, ('c', ' ', 'A'): 5, ('Đ', 'ỗ', ' '): 25, ('ỗ', ' ', 'D'): 1, ('y', ' ', 'M'): 2, ('Q', 'u', 'o'): 15, ('u', 'o', 'c'): 23, ('o', 'c', ' '): 36, ('c', ' ', 'C'): 17, ('C', 'h', 'á'): 6, ('h', 'á', 'n'): 30, ('á', 'n', 'h'): 32, ('T', 'h', 'i'): 92, ('K', 'h', 'ú'): 3, ('h', 'ú', 'c'): 40, ('ú', 'c', ' '): 35, ('T', 'h', 'ừ'): 3, ('h', 'ừ', 'a'): 3, ('ừ', 'a', ' '): 2, ('a', ' ', 'M'): 2, (' ', 'M', 'ỹ'): 7, ('L', 'ý', ' '): 18, ('ý', ' ', 'N'): 3, ('N', 'h', 'ã'): 3, ('h', 'ã', ' '): 2, ('ã', ' ', 'K'): 1, (' ', 'K', 'ỳ'): 2, ('A', ' ', 'H'): 1, ('m', ' ', 'N'): 13, ('N', 'g', 'â'): 9, ('g', 'â', 'n'): 9, ('D', 'a', 'n'): 22, ('C', 'h', 'u'): 24, ('h', 'u', 'n'): 23, ('I', 'n', 'd'): 3, ('n', 'd', 'r'): 8, ('d', 'r', 'a'): 6, ('r', 'a', 'v'): 4, ('a', 'v', 'a'): 9, ('v', 'a', 'r'): 9, ('a', 'r', 'm'): 10, ('r', 'm', 'a'): 10, ('m', 'a', 'n'): 10, (' ', 'V', 'I'): 2, ('h', ' ', 'V'): 22, (' ', 'V', 'ư'): 9, ('V', 'ư', 'ơ'): 10, ('T', 'r', 'i'): 35, ('r', 'i', ' '): 3, ('i', ' ', 'P'): 14, ('T', 'ù', 'n'): 10, ('ù', 'n', 'g'): 36, (' ', 'D', 'ư'): 12, ('D', 'ư', 'ơ'): 35, ('L', 'ê', ' '): 139, ('ê', ' ', 'H'): 18, ('u', 'y', 'ề'): 12, ('y', 'ề', 'n'): 12, ('ề', 'n', ' '): 9, (' ', 'T', 'ô'): 42, ('T', 'ô', 'n'): 49, ('X', 'u', 'â'): 48, ('â', 'n', ' '): 61, ('Q', 'u', 'ỳ'): 11, ('m', ' ', 'T'): 36, ('m', ' ', 'H'): 21, ('H', 'u', 'ệ'): 6, ('B', 'ạ', 'c'): 5, ('ạ', 'c', 'h'): 9, ('c', 'h', ' '): 44, ('h', ' ', 'X'): 6, (' ', 'X', 'u'): 62, ('u', 'y', 'ê'): 38, ('y', 'ê', 'n'): 37, ('ỗ', ' ', 'T'): 9, ('ị', ' ', 'H'): 13, (' ', 'T', 'â'): 14, ('T', 'â', 'm'): 6, ('C', 'h', 'i'): 41, ('h', 'i', 'ế'): 7, ('Đ', 'ặ', 'n'): 28, ('ặ', 'n', 'g'): 28, ('ị', ' ', 'N'): 10, ('h', 'ị', 'n'): 9, ('ị', 'n', 'h'): 32, ('n', ' ', 'Đ'): 57, (' ', 'Đ', 'ứ'): 46, ('Đ', 'ứ', 'c'): 46, ('ứ', 'c', ' '): 25, ('c', ' ', 'S'): 8, ('ê', ' ', 'M'): 6, ('G', 'i', 'a'): 31, ('i', 'a', ' '): 14, ('a', ' ', 'T'): 19, ('h', 'i', 'ề'): 1, ('A', 'u', ' '): 2, ('u', ' ', 'D'): 9, ('D', 'u', 'c'): 21, ('u', 'c', ' '): 27, ('c', ' ', 'M'): 7, ('T', 'h', 'ủ'): 7, ('h', 'ủ', 'y'): 6, ('n', ' ', 'K'): 67, ('o', 'a', ' '): 11, ('a', ' ', 'N'): 6, (' ', 'N', 'a'): 16, ('M', 'a', ' '): 1, ('a', ' ', 'V'): 2, ('K', 'h', 'á'): 22, ('á', 'n', 'g'): 8, ('T', 'r', 'í'): 5, ('T', 'h', 'í'): 9, ('h', 'í', 'c'): 10, ('r', 'í', ' '): 1, ('í', ' ', 'Q'): 1, (' ', 'H', 'ư'): 29, ('H', 'ư', 'n'): 16, ('ư', 'n', 'g'): 19, ('V', 'ũ', ' '): 39, ('ũ', ' ', 'B'): 2, (' ', 'B', 'ã'): 1, ('B', 'ã', 'o'): 1, ('ê', ' ', 'Q'): 10, ('g', ' ', 'L'): 31, ('L', 'i', 'ê'): 10, ('i', 'ê', 'm'): 15, ('m', ' ', 'P'): 13, ('P', 'h', 'ú'): 39, ('h', 'ú', ' '): 5, ('ú', ' ', 'Q'): 2, ('h', 'i', 'ệ'): 12, ('i', 'ệ', 'u'): 13, ('ệ', 'u', ' '): 7, ('K', 'h', 'ổ'): 1, ('h', 'ổ', 'n'): 1, ('ổ', 'n', 'g'): 2, (' ', 'T', 'ú'): 11, ('T', 'ú', ' '): 2, ('P', 'h', 'ù'): 10, ('h', 'ù', 'n'): 10, ('B', 'u', 'i'): 15, ('u', 'i', ' '): 16, ('T', 'u', 'o'): 4, ('g', ' ', 'P'): 16, ('P', 'h', 'o'): 22, ('h', 'o', 'n'): 25, ('i', ' ', 'B'): 8, (' ', 'B', 'ằ'): 4, ('B', 'ằ', 'n'): 5, ('ằ', 'n', 'g'): 15, ('g', ' ', 'Đ'): 26, ('T', 'h', 'ù'): 6, ('h', 'ù', 'y'): 6, ('ù', 'y', ' '): 6, (' ', 'D', 'a'): 14, ('D', 'o', ' '): 8, ('h', ' ', 'N'): 43, ('N', 'h', 'o'): 2, (' ', 'Đ', 'ọ'): 2, ('Đ', 'ọ', 'c'): 2, (' ', 'C', 'ô'): 20, ('C', 'ô', 'n'): 21, ('ị', ' ', 'X'): 2, ('ị', ' ', 'T'): 23, (' ', 'S', 'á'): 7, ('S', 'á', 'n'): 4, ('X', 'í', 'c'): 2, ('h', ' ', 'Đ'): 19, (' ', 'Đ', 'i'): 8, ('Đ', 'i', 'ể'): 4, ('i', 'ể', 'u'): 4, ('T', 'u', 'ấ'): 26, ('u', 'ấ', 'n'): 27, ('ấ', 'n', ' '): 28, ('n', ' ', 'A'): 24, ('T', 'h', 'ắ'): 11, ('h', 'ắ', 'n'): 11, ('ắ', 'n', 'g'): 12, (' ', 'T', 'a'): 26, ('T', 'a', 'm'): 8, ('m', ' ', 'D'): 7, (' ', 'D', 'e'): 3, ('r', 'ị', 'n'): 19, ('h', 'i', ' '): 53, ('i', ' ', 'S'): 3, ('L', 'â', 'm'): 18, ('â', 'm', ' '): 11, ('m', ' ', 'Q'): 9, ('N', 'h', 'ậ'): 11, ('h', 'ậ', 't'): 11, ('D', 'e', 'v'): 1, ('e', 'v', 'a'): 1, ('v', 'a', 'v'): 1, ('g', ' ', 'K'): 29, ('h', ' ', 'L'): 26, (' ', 'L', 'â'): 13, ('H', 'u', 'n'): 12, ('D', 'a', 'o'): 5, ('m', ' ', 'K'): 4, ('K', 'h', 'a'): 34, ('i', ' ', 'M'): 4, (' ', 'M', 'u'): 3, ('M', 'u', 'o'): 2, (' ', 'B', 'ì'): 23, ('B', 'ì', 'n'): 24, ('ì', 'n', 'h'): 59, ('H', 'ồ', ' '): 26, ('ồ', ' ', 'T'): 4, (' ', 'T', 'ấ'): 17, ('T', 'ấ', 'n'): 17, ('H', 'ò', 'a'): 12, ('ò', 'a', ' '): 3, ('a', ' ', 't'): 1, ('t', 'h', 'ư'): 1, ('h', 'ư', 'ợ'): 9, ('ư', 'ợ', 'n'): 11, ('ợ', 'n', 'g'): 11, ('C', 'h', 'ơ'): 2, ('ơ', 'n', ' '): 11, ('i', 'ệ', 'n'): 10, ('c', ' ', 'K'): 11, (' ', 'Đ', 'ỗ'): 2, ('ỗ', ' ', 'C'): 2, ('C', 'u', 'n'): 7, ('ê', ' ', 'N'): 13, (' ', 'H', 'â'): 2, ('H', 'â', 'n'): 2, ('P', 'i', 'e'): 2, ('i', 'e', 'r'): 4, ('e', 'r', 'r'): 2, ('r', 'r', 'e'): 2, ('r', 'e', ' '): 2, ('e', ' ', 'N'): 21, ('P', 'h', 'ê'): 7, ('h', 'ê', 'r'): 7, ('ê', 'r', 'ô'): 7, ('r', 'ô', ' '): 7, ('n', ' ', 'Ð'): 1, (' ', 'Ð', 'ệ'): 1, ('Á', 'i', ' '): 2, (' ', 'V', 'â'): 11, ('V', 'â', 'n'): 15, ('m', ' ', 'X'): 5, ('A', 'n', ' '): 7, ('h', 'a', 'm'): 35, ('N', 'g', 'o'): 37, ('g', 'o', ' '): 14, ('h', 'i', 'e'): 26, ('i', 'e', 'u'): 22, ('n', ' ', 'X'): 21, ('c', ' ', 'N'): 14, ('ý', ' ', 'C'): 3, ('h', 'i', 'ê'): 33, ('i', 'ê', 'u'): 7, ('ê', 'u', ' '): 3, ('u', ' ', 'H'): 28, ('ủ', 'y', ' '): 3, ('y', ' ', '('): 4, (' ', '(', 'd'): 4, ('(', 'd', 'i'): 4, ('d', 'i', 'ễ'): 4, ('i', 'ễ', 'n'): 8, ('n', ' ', 'v'): 5, (' ', 'v', 'i'): 8, ('v', 'i', 'ê'): 12, ('i', 'ê', 'n'): 44, ('ê', 'n', ')'): 5, ('r', 'u', 'o'): 20, ('g', ' ', 'G'): 11, ('a', ' ', 'B'): 6, (' ', 'B', 'i'): 16, ('B', 'i', 'n'): 10, ('ỗ', ' ', 'Q'): 1, ('g', ' ', 'E'): 1, ('ế', ' ', 'L'): 3, ('X', 'u', 'a'): 21, ('N', 'g', 'à'): 1, ('o', ' ', 'D'): 8, (' ', 'D', 'z'): 4, ('D', 'z', 'u'): 3, ('ũ', ' ', 'V'): 4, ('H', 'i', 'ề'): 8, ('i', 'ề', 'n'): 11, ('n', ' ', 'R'): 1, (' ', 'R', 'o'): 1, ('R', 'o', 'b'): 2, ('o', 'b', 'e'): 2, ('b', 'e', 'r'): 3, ('e', 'r', 't'): 3, ('r', 'ư', 'ơ'): 23, (' ', 'V', 'ĩ'): 11, ('V', 'ĩ', 'n'): 11, ('ĩ', 'n', 'h'): 16, ('ê', ' ', 'V'): 26, ('H', 'u', 'u'): 14, ('u', 'u', ' '): 18, ('u', ' ', 'C'): 9, ('N', 'g', 'ô'): 36, ('g', 'ô', ' '): 33, ('ô', ' ', 'Đ'): 6, (' ', 'Đ', 'ì'): 33, ('Đ', 'ì', 'n'): 33, (' ', 'L', 'ệ'): 4, ('L', 'ệ', ' '): 7, ('ệ', ' ', 'Q'): 3, ('Q', 'u', 'y'): 23, ('i', 'e', 'n'): 45, ('T', 'h', 'ế'): 9, ('T', 'h', 'ư'): 10, ('T', 'a', 'n'): 15, ('h', 'a', 't'): 16, ('t', ' ', 'K'): 2, ('A', ' ', 'M'): 1, (' ', 'M', 'í'): 1, ('M', 'í', 't'): 1, ('y', ' ', 'D'): 6, ('T', 'u', 'y'): 12, ('ê', 'n', ' '): 36, ('ê', ' ', 'G'): 1, ('m', ' ', 'C'): 7, ('T', 'r', 'ứ'): 1, ('T', 'h', 'à'): 22, ('h', 'à', 'n'): 23, ('à', 'n', 'h'): 25, ('J', 'o', 's'): 6, ('o', 's', 'e'): 6, ('s', 'e', 'p'): 6, ('e', 'p', 'h'): 6, ('p', 'h', ' '): 5, (' ', 'D', 'i'): 42, (' ', 'H', 'ả'): 21, ('H', 'ả', 'i'): 23, ('m', ' ', 'Đ'): 6, ('n', ' ', '('): 10, ('(', 'c', 'a'): 9, ('c', 'a', ' '): 9, ('a', ' ', 's'): 10, (' ', 's', 'ĩ'): 14, ('s', 'ĩ', ')'): 13, (' ', 'C', 'ử'): 2, ('C', 'ử', 'u'): 2, ('ử', 'u', ' '): 7, ('u', ' ', 'Đ'): 7, (' ', 'Đ', 'à'): 7, ('Đ', 'à', 'm'): 3, ('Đ', 'i', 'n'): 15, ('T', 'i', 'ê'): 3, ('H', 'à', ' '): 24, ('à', ' ', 'A'): 3, ('L', 'u', 'o'): 8, ('B', 'i', 'c'): 3, ('i', 'c', 'h'): 14, ('g', ' ', 'Q'): 20, ('C', 'h', 'í'): 14, ('g', ' ', 'M'): 27, (' ', 'L', 'ý'): 7, ('Á', 'n', 'h'): 8, ('u', 'y', 'ế'): 13, ('y', 'ế', 't'): 10, ('ồ', ' ', 'L'): 1, ('ệ', ' ', 'T'): 6, (' ', 'Đ', 'o'): 4, ('Đ', 'o', 'à'): 11, ('à', 'n', ' '): 13, ('ế', ' ', 'T'): 5, ('m', ' ', 'L'): 9, (' ', 'L', 'y'): 8, ('V', 'i', 'e'): 19, ('i', 'e', 't'): 18, ('e', 't', ' '): 12, ('t', ' ', 'N'): 6, ('T', 'u', 'a'): 9, ('P', 'h', 'á'): 9, ('h', 'á', 'c'): 2, ('á', 'c', 'h'): 5, ('à', ' ', 'C'): 1, ('H', 'á', 'n'): 2, ('á', 'n', ' '): 2, (' ', 'T', 'ì'): 1, ('T', 'ì', 'n'): 1, (' ', 'Đ', 'ô'): 5, ('t', ' ', 'H'): 11, ('T', 'ô', ' '): 7, ('c', ' ', 'V'): 10, (' ', 'C', 'ả'): 6, ('C', 'ả', 'n'): 3, ('ả', 'n', 'h'): 4, (' ', 'Đ', 'ư'): 3, ('Đ', 'ư', 'ợ'): 3, ('ư', 'ợ', 'c'): 3, ('D', 'o', 'n'): 10, (' ', 'S', 'y'): 2, ('S', 'y', ' '): 2, ('y', ' ', 'N'): 3, ('ế', ' ', 'S'): 1, (' ', 'K', 'ý'): 3, (' ', 'T', 'o'): 29, ('T', 'o', 'à'): 8, ('n', 'h', 'h'): 1, ('T', 'o', 'n'): 19, ('o', 'n', ' '): 9, ('a', 't', ' '): 15, (' ', 'H', 'a'): 34, ('H', 'a', 'i'): 15, ('r', 'a', 'i'): 1, ('M', 'ỹ', ' '): 7, ('ỹ', ' ', 'V'): 1, (' ', 'H', 'ữ'): 27, ('H', 'ữ', 'u'): 29, ('ữ', 'u', ' '): 26, ('T', 'i', ' '): 1, ('P', 'h', 'ô'): 1, ('ị', ' ', 'M'): 10, ('ị', ' ', 'D'): 4, ('Đ', 'à', 'o'): 9, ('à', 'o', ' '): 9, ('y', ' ', 'A'): 4, ('S', 'a', 'r'): 2, ('a', 'r', 'a'): 1, ('a', 'n', 'e'): 3, ('n', 'e', 'e'): 1, ('e', 'e', ' '): 1, ('e', ' ', 'B'): 4, (' ', 'B', 'u'): 6, ('B', 'u', 'r'): 2, ('u', 'r', 'i'): 2, ('r', 'i', 'n'): 23, ('i', 'n', 't'): 2, ('n', 't', 'r'): 2, (' ', 'T', 'ư'): 17, ('T', 'ư', 'ờ'): 9, ('L', 'â', 'n'): 3, ('ủ', ' ', 'Đ'): 1, (' ', 'Đ', 'ộ'): 4, (' ', 'N', 'i'): 10, ('N', 'i', 'n'): 12, ('Q', 'u', 'á'): 6, ('u', 'á', 't'): 3, (' ', 'L', 'ữ'): 1, ('M', 'a', 'd'): 3, ('a', 'd', 'a'): 3, ('d', 'a', 'm'): 3, ('a', 'm', 'e'): 3, ('m', 'e', ' '): 3, (' ', 'C', 'a'): 31, ('o', ' ', 'K'): 7, (' ', 'K', 'y'): 4, ('N', 'h', 'ấ'): 3, ('h', 'ấ', 't'): 11, ('g', ' ', 'C'): 20, (' ', 'C', 'ầ'): 3, ('C', 'ầ', 'm'): 3, ('c', ' ', 'L'): 19, (' ', 'T', 'ă'): 1, ('T', 'ă', 'n'): 2, ('i', ' ', 'D'): 9, (' ', 'D', 'o'): 16, ('D', 'o', 'a'): 9, (' ', 'Đ', 'ạ'): 17, ('Đ', 'ạ', 'i'): 7, ('N', 'g', 'h'): 22, ('g', 'h', 'ĩ'): 4, ('h', 'ĩ', 'a'): 4, ('u', ' ', 'A'): 3, ('y', ' ', 'P'): 3, ('T', 'h', 'ứ'): 2, ('h', 'ứ', 'c'): 1, ('p', ' ', 'Q'): 1, ('h', 'u', 'ỷ'): 1, ('P', 'a', 'u'): 6, ('a', 'u', 'l'): 6, ('u', 'l', ' '): 6, ('l', ' ', 'N'): 8, (' ', 'H', 'ò'): 11, ('ả', 'i', ' '): 8, ('h', ' ', 'M'): 12, ('t', ' ', 'T'): 20, ('Đ', 'á', 'i'): 1, ('á', 'i', ' '): 17, ('y', ' ', 'B'): 2, (' ', 'B', 'a'): 18, ('B', 'a', 'n'): 3, ('T', 'h', 'ú'): 11, (' ', 'H', 'ớ'): 1, ('H', 'ớ', 'n'): 1, (' ', 'S', 'ế'): 1, ('S', 'ế', 'n'): 1, ('ô', ' ', 'M'): 4, ('M', 'a', 'r'): 8, ('a', 'r', 'i'): 6, ('r', 'i', 'a'): 4, ('K', 'h', 'ắ'): 9, ('h', 'ắ', 'c'): 9, ('ắ', 'c', ' '): 11, (' ', 'S', 'ử'): 2, ('S', 'ử', 'u'): 2, ('à', ' ', 'H'): 4, ('y', ' ', 'K'): 4, ('h', 'o', 'á'): 3, ('o', 'á', 'i'): 1, ('ô', ' ', 'X'): 6, (' ', 'L', 'ị'): 1, ('L', 'ị', 'c'): 1, ('ị', 'c', 'h'): 1, ('H', 'ù', 'n'): 16, ('H', 'ư', 'ơ'): 17, ('u', ' ', 'L'): 14, ('H', 'i', 'n'): 3, ('L', 'e', ' '): 52, ('e', ' ', 'Q'): 6, ('o', 'a', 'i'): 5, ('i', ' ', 'L'): 6, ('L', 'a', 'm'): 13, ('N', 'h', 'ạ'): 3, ('h', 'ạ', 'c'): 6, ('ê', ' ', 'T'): 27, ('Đ', 'ạ', 'o'): 6, ('h', 'u', 'c'): 20, ('ô', ' ', 'V'): 8, (' ', 'D', 'ụ'): 7, (' ', 'L', 'ạ'): 3, ('L', 'ạ', 'p'): 1, (' ', 'L', 'ợ'): 3, ('L', 'ợ', 'i'): 3, ('ý', ' ', 'L'): 3, ('L', 'o', 'n'): 21, ('ỹ', ' ', 'C'): 2, ('g', ' ', 'A'): 9, ('Y', ' ', 'N'): 1, ('à', ' ', 'O'): 1, (' ', 'O', 'k'): 2, ('O', 'k', 'i'): 2, ('k', 'i', 'o'): 2, ('P', 'h', 'ấ'): 3, ('N', 'h', 'a'): 14, ('t', ' ', 'L'): 7, (' ', 'L', 'e'): 12, ('g', ' ', 'O'): 1, (' ', 'O', 'a'): 2, ('O', 'a', 'n'): 2, ('T', 'r', 'o'): 10, ('r', 'o', 'n'): 9, ('h', 'i', 'n'): 11, (' ', 'V', 'ô'): 1, ('V', 'ô', ' '): 1, ('ô', ' ', 'T'): 6, (' ', 'S', 'ư'): 3, (' ', 'L', 'ộ'): 6, ('L', 'ộ', 'c'): 6, ('ý', ' ', 'T'): 7, ('V', 'o', ' '): 12, ('o', ' ', 'N'): 8, ('i', 'a', 'p'): 1, ('ị', ' ', 'Y'): 1, (' ', 'Y', 'ế'): 5, ('Y', 'ế', 'n'): 5, ('ũ', ' ', 'C'): 1, (' ', 'C', 'á'): 3, ('C', 'á', 't'): 2, ('á', 't', ' '): 2, ('M', 'i', 'c'): 5, ('c', 'h', 'a'): 4, ('h', 'a', 'l'): 2, ('a', 'l', ' '): 2, ('L', 'ạ', 'c'): 3, ('Q', 'u', 'â'): 9, (' ', 'B', 'ử'): 6, ('B', 'ử', 'u'): 6, ('u', ' ', 'N'): 8, ('h', 'u', 'â'): 1, ('ê', ' ', 'B'): 2, ('h', ' ', 'P'): 22, ('h', 'ú', 'y'): 6, ('V', 'õ', ' '): 21, ('õ', ' ', 'N'): 3, ('ậ', 't', ' '): 11, ('T', 'â', 'n'): 8, ('ạ', 'o', ' '): 4, (' ', 'D', 'ừ'): 1, ('D', 'ừ', 'a'): 1, ('a', 'n', 'x'): 4, ('n', 'x', 'i'): 4, ('x', 'i', 'c'): 4, ('i', 'c', 'ô'): 5, ('c', 'ô', ' '): 4, (' ', 'X', 'a'): 6, ('X', 'a', 'v'): 6, ('a', 'v', 'i'): 8, ('i', 'ê', ' '): 4, ('h', 'u', 'ậ'): 12, ('u', 'ậ', 'n'): 11, ('t', ' ', 'C'): 4, (' ', 'C', 'ư'): 14, ('T', 'h', 'á'): 23, ('h', 'á', 'i'): 22, ('V', 'i', 'ê'): 5, (' ', 'T', 'ử'): 6, ('T', 'ử', ' '): 4, ('ử', ' ', 'D'): 1, ('T', 'o', 'a'): 6, ('K', 'i', 'e'): 13, ('à', ' ', 'M'): 1, ('i', 'a', 'n'): 17, ('G', 'i', 'á'): 9, ('i', 'á', 'p'): 5, ('á', 'p', ' '): 4, ('p', ' ', 'V'): 1, ('C', 'ư', 'ơ'): 4, (' ', 'Đ', 'ồ'): 5, ('Đ', 'ồ', 'n'): 6, ('T', 'i', 'ể'): 1, ('ể', 'u', ' '): 1, (' ', 'V', 'y'): 5, ('h', ' ', 'B'): 12, ('ê', ' ', 'D'): 10, ('D', 'u', 'ẩ'): 1, ('u', 'ẩ', 'n'): 1, ('H', 'o', ' '): 5, ('N', 'h', 'u'): 17, ('h', 'u', 't'): 1, ('m', ' ', 'A'): 3, ('E', 'm', 'p'): 3, ('m', 'p', 'r'): 3, ('p', 'r', 'e'): 3, ('r', 'e', 's'): 3, ('e', 's', 's'): 3, ('s', 's', ' '): 3, ('s', ' ', 'M'): 1, (' ', 'M', 'o'): 2, ('M', 'o', 't'): 1, ('o', 't', 'h'): 1, ('t', 'h', 'e'): 1, ('h', 'e', 'r'): 1, ('e', 'r', ' '): 8, ('r', ' ', 'T'): 2, ('o', ' ', 'B'): 3, ('B', 'a', ' '): 7, ('a', ' ', 'Q'): 1, ('u', 'a', 't'): 5, (' ', 'Đ', 'ả'): 1, ('Đ', 'ả', 'o'): 1, ('i', ' ', 'Q'): 10, ('Q', 'u', 'ý'): 12, ('t', ' ', 'V'): 4, ('V', 'ư', 'ợ'): 2, ('õ', ' ', 'D'): 1, ('D', 'i', ' '): 1, ('A', 'l', 'e'): 3, ('l', 'e', 'x'): 3, ('e', 'x', 'a'): 2, ('x', 'a', 'n'): 2, ('a', 'n', 'd'): 3, ('r', 'a', ' '): 3, ('a', ' ', 'A'): 3, ('T', 'ú', 'c'): 2, ('L', 'u', 'u'): 5, ('D', 'i', 'e'): 7, ('i', 'e', 'm'): 15, ('e', 'm', ' '): 2, ('H', 'u', 'o'): 9, ('u', 'y', 'ệ'): 8, ('y', 'ệ', 't'): 5, ('S', 'a', 'o'): 2, ('N', 'ô', 'n'): 3, (' ', '(', 't'): 6, ('(', 't', 'ư'): 4, ('t', 'ư', 'ớ'): 5, ('ư', 'ớ', 'n'): 5, ('ớ', 'n', 'g'): 5, ('n', 'g', ')'): 6, ('ú', ' ', 'S'): 1, (' ', 'S', 'ổ'): 1, ('g', ' ', 'X'): 11, ('L', 'ữ', ' '): 1, ('ữ', ' ', 'M'): 1, (' ', 'M', 'ộ'): 3, ('M', 'ộ', 'n'): 4, ('ộ', 'n', 'g'): 7, ('o', 'à', 'i'): 10, ('W', 'a', 'n'): 1, ('a', 'n', 'b'): 1, ('n', 'b', 'i'): 1, ('b', 'i', ' '): 1, ('đ', 'á', ','): 1, ('á', ',', ' '): 1, (',', ' ', 's'): 1, ('h', ' ', 'n'): 1, (' ', 'n', 'ă'): 1, ('n', 'ă', 'm'): 1, ('ă', 'm', ' '): 2, ('m', ' ', '1'): 1, ('l', ' ', 'M'): 1, ('r', 'i', 'e'): 6, ('i', 'e', ' '): 5, ('N', 'h', 'â'): 5, ('h', 'â', 't'): 1, ('ũ', ' ', 'Q'): 2, ('c', ' ', 'U'): 2, (' ', 'U', 'y'): 5, (' ', 'S', 'â'): 3, ('S', 'â', 'm'): 3, ('ê', 'n', 'g'): 1, ('H', 'i', 'ệ'): 7, ('p', ' ', 'H'): 2, ('u', ' ', 'B'): 5, ('B', 'a', 'i'): 1, ('T', 'ự', ' '): 3, ('ự', ' ', 'Đ'): 1, ('Đ', 'à', 'i'): 4, ('L', 'ư', 'u'): 10, ('ư', 'u', ' '): 8, (' ', 'T', 'ừ'): 7, ('S', 'a', 'm'): 5, ('a', 'm', 's'): 2, ('m', 's', 'o'): 2, ('s', 'o', 'n'): 2, (' ', 'K', 'a'): 3, ('K', 'a', 'y'): 2, ('a', 'y', 'o'): 2, ('y', 'o', 'd'): 2, ('o', 'd', 'e'): 2, ('d', 'e', ' '): 2, ('e', ' ', 'O'): 1, (' ', 'O', 'l'): 1, ('O', 'l', 'a'): 1, ('l', 'a', 'l'): 1, ('a', 'l', 'e'): 1, ('l', 'e', 'y'): 2, ('e', 'y', 'e'): 1, ('n', ' ', 'S'): 21, (' ', 'S', 'ỹ'): 4, ('S', 'ỹ', ' '): 4, ('ỹ', ' ', 'B'): 1, ('ỗ', ' ', 'M'): 5, ('ỹ', ' ', 'L'): 2, ('à', ' ', 'G'): 3, ('n', 'g', '-'): 3, ('g', '-', 'A'): 1, ('-', 'A', 'n'): 1, ('ị', ' ', 'L'): 6, (' ', 'L', 'ỷ'): 1, ('P', 'h', 'í'): 1, ('h', 'í', ' '): 9, ('í', ' ', 'M'): 1, ('L', 'y', ' '): 11, ('h', 'a', 'i'): 17, ('G', 'i', 'ũ'): 1, ('i', 'ũ', ' '): 1, ('ũ', ' ', 'N'): 6, ('S', 'o', 'n'): 9, ('H', 'à', 'o'): 3, ('ô', ' ', 'Q'): 5, ('g', ' ', 'Y'): 5, ('ạ', 'n', 'g'): 1, ('H', 'i', 'e'): 13, (' ', 'T', 'ý'): 1, ('T', 'u', 'ệ'): 1, ('u', 'ệ', ' '): 4, (' ', 'S', 'ĩ'): 4, ('K', 'h', 'i'): 10, ('a', 'r', 'o'): 1, ('r', 'o', 'c'): 1, ('o', 'c', 'h'): 1, ('T', 'u', 'e'): 1, ('u', 'e', ' '): 3, ('e', ' ', 'T'): 13, (' ', 'Đ', 'a'): 3, ('Đ', 'a', 'n'): 3, ('B', 'a', 'c'): 2, ('i', ' ', 'Y'): 2, ('â', 'u', ' '): 9, ('ệ', ' ', 'P'): 1, ('P', 'h', 'ố'): 1, (' ', 'L', 'ư'): 9, ('L', 'ư', 'ợ'): 1, ('ư', 'ợ', 'm'): 1, ('C', 'h', 'ú'): 3, ('e', ' ', 'K'): 3, ('P', 'h', 'ụ'): 6, ('h', 'ụ', 'n'): 5, ('ụ', 'n', 'g'): 7, ('ỹ', ' ', 'D'): 1, (' ', 'D', 'ạ'): 1, ('u', ' ', 'Q'): 10, ('Q', 'u', 'ầ'): 1, ('u', 'ầ', 'n'): 4, ('ừ', ' ', 'Đ'): 1, ('o', ' ', 'H'): 11, (' ', 'H', 'ạ'): 8, ('H', 'ạ', 'n'): 4, ('ế', 'u', ' '): 4, (' ', 'Đ', 'ế'): 3, (' ', 'H', 'á'): 2, ('H', 'á', 'o'): 1, ('á', 'o', ' '): 2, ('u', 'ý', ' '): 9, ('ý', ' ', 'Đ'): 2, ('r', 'á', 'n'): 1, ('D', 'a', 'v'): 2, ('v', 'i', 'd'): 2, ('i', 'd', ' '): 2, ('d', ' ', 'A'): 1, (' ', 'A', 'r'): 2, ('A', 'r', 'n'): 2, ('r', 'n', 'o'): 2, ('n', 'o', 'l'): 2, ('o', 'l', 'd'): 2, ('g', 'o', 'c'): 21, ('n', ' ', 'Í'): 1, (' ', 'Í', 'c'): 2, ('Í', 'c', 'h'): 2, (' ', 'T', 'ắ'): 1, ('T', 'ắ', 'c'): 1, ('g', 'h', 'ệ'): 5, ('h', 'ệ', ' '): 4, (' ', 'T', 'ò'): 4, ('T', 'ò', 'n'): 5, ('ò', 'n', 'g'): 5, (' ', 'B', 'á'): 13, ('h', 'u', 'y'): 20, ('y', 'e', 't'): 6, ('T', 'h', 'ơ'): 5, ('o', ' ', 'C'): 6, ('L', 'a', 'd'): 1, ('a', 'd', 'y'): 1, ('d', 'y', ' '): 3, (' ', 'P', 'o'): 1, ('P', 'o', ' '): 2, ('N', 'a', 'g'): 1, ('a', 'g', 'a'): 1, ('g', 'a', 'r'): 1, ('d', ' ', 'T'): 1, ('ý', ' ', 'S'): 1, ('e', ' ', 'C'): 2, ('C', 'o', 'n'): 8, ('S', 'i', 'u'): 1, ('i', 'u', ' '): 3, (' ', 'B', 'l'): 1, ('B', 'l', 'a'): 1, ('l', 'a', 'c'): 1, ('a', 'c', 'k'): 1, ('h', 'i', 'l'): 3, ('i', 'l', 'i'): 2, ('l', 'i', 'p'): 3, ('i', 'p', 'p'): 2, ('p', 'p', 'e'): 2, ('p', 'e', ' '): 2, ('ê', 'n', '-'): 1, ('n', '-', 'K'): 1, ('-', 'K', 'i'): 1, ('i', 'm', '-'): 1, ('m', '-', 'D'): 1, ('-', 'D', 'i'): 1, ('D', 'i', 'ê'): 1, ('H', 'a', 'n'): 12, (' ', 'L', 'ê'): 15, (' ', 'K', 'e'): 3, ('K', 'e', 's'): 1, ('e', 's', 'l'): 1, ('s', 'l', 'e'): 1, ('e', 'y', ' '): 1, (' ', 'A', 'l'): 1, ('A', 'l', 'v'): 1, ('l', 'v', 'e'): 1, ('v', 'e', 's'): 2, ('c', ' ', 'Q'): 7, ('h', 'á', 't'): 4, ('h', ' ', 'G'): 5, (' ', 'V', 'õ'): 2, ('õ', ' ', 'H'): 6, ('V', 'i', 'n'): 14, ('L', 'o', 'c'): 5, (' ', 'H', 'ó'): 1, ('H', 'ó', 'a'): 1, ('a', ' ', 'L'): 2, ('c', ' ', 'D'): 10, ('N', 'h', 'í'): 1, ('T', 'r', 'â'): 6, ('r', 'â', 'm'): 3, ('V', 'u', ' '): 13, (' ', 'M', 'y'): 5, ('i', ' ', 'X'): 5, ('y', 'ê', 't'): 1, ('ê', 't', ' '): 1, ('h', 'ư', 'ớ'): 6, ('ư', 'ớ', 'c'): 8, ('ớ', 'c', ' '): 5, ('T', 'h', 'ọ'): 4, ('P', 'h', 'ổ'): 2, ('ế', 't', ' '): 8, ('t', ' ', 'D'): 4, ('í', ' ', 'K'): 1, ('K', 'i', 'ê'): 5, ('i', ' ', 'C'): 3, ('i', 'c', 'a'): 2, ('c', 'a', 'e'): 2, ('a', 'e', ' '): 2, ('ồ', ' ', 'Đ'): 4, (' ', 'H', 'y'): 2, ('Ð', 'ư', 'ć'): 1, ('ư', 'ć', ' '): 1, ('ć', ' ', 'T'): 1, ('h', 'â', 'n'): 9, (' ', 'V', 'u'): 9, ('L', 'o', 'a'): 13, ('T', 'ó', 'c'): 1, ('ó', 'c', ' '): 1, ('ý', ' ', 'H'): 3, (' ', 'H', 'ằ'): 6, ('H', 'ằ', 'n'): 7, ('L', 'u', 'k'): 2, ('u', 'k', 'e'): 2, ('k', 'e', ' '): 2, ('h', ' ', '('): 8, ('(', 't', 'h'): 2, ('t', 'h', 'ố'): 1, ('h', 'ố', 'n'): 5, ('ố', 'n', 'g'): 9, (' ', 'đ', 'ố'): 1, ('đ', 'ố', 'c'): 1, ('ố', 'c', ')'): 1, ('e', 'n', '-'): 2, ('n', '-', 'V'): 1, ('-', 'V', 'o'): 1, ('g', '-', 'T'): 1, ('-', 'T', 'h'): 1, ('K', 'h', 'ả'): 8, ('h', 'ả', 'i'): 5, (' ', 'B', 'ạ'): 3, ('H', 'o', 'ằ'): 1, ('o', 'ằ', 'n'): 1, (' ', 'M', 'ư'): 2, ('M', 'ư', 'u'): 1, ('ồ', ' ', 'N'): 2, ('ô', ' ', 'C'): 1, ('M', 'a', 'x'): 1, ('ồ', ' ', 'D'): 1, ('D', 'z', 'ế'): 1, ('z', 'ế', 'n'): 1, ('ế', 'n', 'h'): 1, ('u', ' ', '('): 4, ('ỗ', ' ', 'B'): 1, ('ê', ' ', 'U'): 1, ('U', 'y', ' '): 1, (' ', 'M', 'ụ'): 2, ('M', 'ụ', 'c'): 2, ('H', 'o', 'n'): 11, ('g', 'a', 'n'): 6, ('U', 'y', 'e'): 2, ('Đ', 'ạ', 't'): 4, ('g', 'h', 'i'): 15, ('T', 'u', 'u'): 1, ('T', 'u', 'n'): 6, (' ', 'T', 'ỵ'): 3, (' ', 'V', 'à'): 3, ('V', 'à', 'n'): 3, ('h', 'u', 'ớ'): 2, ('u', 'ớ', 'c'): 2, ('H', 'ư', 'u'): 1, (' ', 'L', 'é'): 1, ('L', 'é', 'm'): 1, ('à', ' ', 'N'): 2, ('D', 'i', 'ễ'): 5, ('i', 'ễ', 'm'): 6, ('ị', ' ', 'V'): 2, (' ', 'H', 'ậ'): 3, ('H', 'ậ', 'u'): 3, (' ', 'M', 'ậ'): 4, ('M', 'ậ', 'u'): 4, ('ầ', 'm', ' '): 2, ('m', ' ', '('): 1, ('ê', ' ', 'Đ'): 6, ('õ', ' ', 'V'): 4, ('n', ' ', 'Á'): 4, (' ', 'Á', 'i'): 1, ('B', 'í', 'n'): 2, ('í', 'n', 'h'): 8, ('M', 'i', 'u'): 1, ('T', 'u', ' '): 7, ('L', 'a', 'p'): 2, ('P', 'e', 't'): 3, ('e', 't', 'e'): 3, ('t', 'e', 'r'): 3, ('r', ' ', 'N'): 3, ('h', 'ả', 'm'): 2, ('h', 'i', 'ể'): 1, ('K', 'i', 'ế'): 3, ('V', 'i', 'ế'): 5, ('i', 'ế', 't'): 8, ('t', ' ', 'P'): 2, ('ê', ' ', 'A'): 1, ('V', 'u', 'o'): 5, ('o', ' ', 'M'): 7, ('H', 'à', 'n'): 4, (' ', 'L', 'ậ'): 5, ('L', 'ậ', 'p'): 5, ('ú', ' ', 'C'): 1, ('T', 'h', 'ầ'): 4, ('h', 'ầ', 'n'): 4, (' ', 'G', 'ấ'): 2, ('G', 'ấ', 'm'): 2, ('e', ' ', 'D'): 5, ('D', 'u', 'a'): 2, (' ', 'S', 'o'): 11, ('y', ' ', 'Q'): 3, (' ', 'L', 'ễ'): 2, ('C', 'ả', 'o'): 3, ('o', ' ', '('): 4, (' ', '(', 'v'): 4, ('(', 'v', 'u'): 1, ('v', 'u', 'a'): 2, ('u', 'a', ')'): 2, (' ', 'K', 'ế'): 4, ('K', 'ế', ' '): 4, ('ế', ' ', 'B'): 1, ('i', ' ', 'K'): 8, ('K', 'h', 'ê'): 3, ('ồ', ' ', 'V'): 2, ('S', 'u', 'b'): 1, ('u', 'b', 'o'): 1, ('b', 'o', 'i'): 1, ('D', 'ụ', ' '): 2, ('ụ', ' ', 'T'): 3, ('T', 'o', 'ả'): 2, ('o', 'ả', 'n'): 2, ('y', ' ', 'C'): 6, (' ', 'L', 'u'): 13, ('ộ', 'c', ' '): 1, ('c', ' ', '('): 2, ('ủ', ' ', 't'): 1, (' ', 't', 'ư'): 1, ('ô', ' ', 'H'): 4, ('K', 'h', 'ô'): 7, ('S', 'o', 'á'): 1, ('o', 'á', 't'): 3, ('ê', ' ', 'C'): 6, ('K', 'h', 'u'): 13, ('H', 'a', 'o'): 3, ('m', 'e', 'o'): 2, ('e', 'o', 'm'): 1, ('o', 'm', 'e'): 2, ('M', 'a', 'u'): 3, ('T', 'r', 'ắ'): 2, ('r', 'ắ', 'n'): 1, ('T', 'h', 'ạ'): 4, ('y', 'ế', 'n'): 3, ('u', ' ', 'Ð'): 1, (' ', 'Ð', 'ạ'): 1, ('Ð', 'ạ', 't'): 1, ('C', 'i', 'n'): 2, ('i', 'n', 'd'): 2, ('n', 'd', 'y'): 2, ('N', 'g', 'ư'): 2, ('g', 'ư', 'n'): 1, ('t', ' ', 'Á'): 3, (' ', 'Á', 'n'): 7, (' ', 'T', 'ứ'): 5, ('L', 'u', ' '): 1, ('u', ' ', 'M'): 4, ('M', 'o', 'n'): 1, ('a', 'r', 'c'): 1, ('r', 'c', 'e'): 1, ('c', 'e', 'l'): 1, ('e', 'l', ' '): 3, ('T', 'ô', 'm'): 1, ('ô', 'm', 'a'): 1, ('m', 'a', ' '): 1, ('r', 'i', 'ệ'): 4, (' ', 'V', 'ỹ'): 4, ('D', 'ư', ' '): 1, ('ư', ' ', 'Q'): 3, (' ', 'Đ', 'ố'): 1, ('Đ', 'ố', 'n'): 1, ('ị', ' ', 'S'): 2, ('S', 'á', 'u'): 1, ('ũ', ' ', 'T'): 10, ('h', ' ', 'A'): 3, ('i', ' ', 'A'): 4, (' ', 'A', 'm'): 1, ('e', ' ', 'L'): 7, ('L', 'a', ' '): 4, ('T', 'h', 'ă'): 1, ('h', 'ă', 'n'): 1, (' ', 'Đ', 'ằ'): 2, ('Đ', 'ằ', 'n'): 2, ('ô', 'n', ' '): 10, ('T', 'h', 'ấ'): 6, ('ấ', 't', ' '): 10, (' ', 'T', 'ù'): 8, ('N', 'h', 'ư'): 13, ('h', 'ư', ' '): 10, ('ư', ' ', 'P'): 1, ('g', ' ', 'n'): 1, (' ', 'n', 'g'): 3, ('n', 'g', 'o'): 1, ('ư', ' ', 'T'): 4, ('a', 'c', ' '): 8, ('y', ' ', 'H'): 15, (' ', '(', 's'): 3, ('(', 's', 'w'): 1, ('s', 'w', 'i'): 1, ('w', 'i', 'm'): 1, ('i', 'm', 'm'): 1, ('m', 'm', 'e'): 1, ('m', 'e', 'r'): 1, ('e', 'r', ')'): 1, ('r', 'a', 'c'): 1, (' ', 'T', 'í'): 4, ('T', 'í', 'c'): 3, ('C', 'h', 'ù'): 1, ('c', ' ', 'B'): 8, ('T', 'r', 'ã'): 1, ('r', 'ã', 'i'): 1, ('H', 'ư', 'ờ'): 1, ('e', 'u', ' '): 10, ('ị', ' ', 'B'): 5, ('à', ' ', 'V'): 4, ('L', 'â', 'u'): 1, ('ô', ' ', 'P'): 1, ('Â', 'u', ' '): 1, (' ', 'Đ', 'ị'): 4, ('Đ', 'ị', 'n'): 4, ('e', ' ', 'V'): 18, ('o', ' ', 'S'): 4, ('a', ' ', 'C'): 3, ('C', 'a', 'n'): 7, ('T', 'r', 'à'): 7, ('r', 'à', ' '): 4, ('à', ' ', 'T'): 6, ('L', 'u', 'a'): 2, (' ', 'H', 'ã'): 1, ('H', 'ã', 'n'): 1, ('r', 't', ' '): 2, ('t', ' ', 'Đ'): 3, (' ', 'Đ', 'ặ'): 1, ('B', 'ả', 'y'): 3, ('g', ' ', 'k'): 1, (' ', 'k', 'h'): 1, ('k', 'h', 'ở'): 1, ('h', 'ở', 'i'): 2, ('ở', 'i', ' '): 1, ('i', ' ', 'n'): 1, ('n', 'g', 'h'): 5, ('ĩ', 'a', ')'): 1, (' ', 'V', 'o'): 3, ('T', 'h', 'ậ'): 1, ('h', 'ậ', 'p'): 1, ('a', ' ', 'H'): 3, ('H', 'o', 'c'): 1, ('ậ', 'u', ' '): 2, (' ', 'H', 'ợ'): 2, ('H', 'ợ', 'p'): 2, ('g', 'u', ' '): 1, ('L', 'a', 'o'): 1, ('h', 'â', 'm'): 2, ('ồ', ' ', 'Q'): 4, ('r', 'u', 'c'): 2, ('T', 'h', 'ụ'): 8, ('h', 'ụ', 'y'): 1, ('ụ', 'y', ' '): 1, ('B', 'a', 'o'): 10, ('o', ' ', 'Q'): 6, ('s', ' ', 'T'): 3, ('h', 'u', 'a'): 12, ('T', 'ú', 'y'): 1, ('B', 'a', 't'): 1, ('a', ' ', 'K'): 4, ('T', 'a', 'đ'): 1, ('a', 'đ', 'ê'): 1, ('đ', 'ê', 'ô'): 1, ('ê', 'ô', ' '): 2, ('ô', ' ', 'L'): 2, ('u', 'á', 'c'): 2, (' ', 'B', 'ố'): 1, ('B', 'ố', 'c'): 1, ('G', 'i', 'u'): 10, ('i', 'u', 's'): 10, ('u', 's', 'e'): 10, ('s', 'e', ' '): 10, ('K', 'i', 'ệ'): 3, (' ', 'S', 'e'): 3, ('S', 'e', 'o'): 2, ('e', 'o', ' '): 2, ('o', ' ', 'P'): 5, ('ê', ' ', 'K'): 6, ('ê', ' ', 'X'): 2, ('S', 'e', 'n'): 1, ('h', 'á', 'p'): 2, ('p', ' ', 'L'): 1, (' ', 'B', 'ậ'): 1, ('B', 'ậ', 't'): 1, ('K', 'i', 'n'): 3, ('ồ', ' ', 'X'): 1, ('h', 'ô', 'i'): 6, ('L', 'y', 'n'): 1, ('y', 'n', 'd'): 1, ('n', 'd', 'a'): 2, ('d', 'a', ' '): 1, ('ũ', ' ', 'Đ'): 3, ('Đ', 'a', 'm'): 1, ('r', 'à', 'm'): 1, ('õ', ' ', 'Q'): 1, ('D', 'a', 'i'): 1, (' ', 'Đ', 'ể'): 1, ('g', 'h', 'e'): 2, ('u', ' ', 'P'): 7, ('K', 'a', 't'): 1, ('a', 't', 'e'): 1, ('t', 'e', ' '): 4, ('J', 'e', 'a'): 2, ('e', 'a', 'n'): 2, ('a', 'n', '-'): 2, ('n', '-', 'B'): 2, ('-', 'B', 'a'): 3, ('B', 'a', 'p'): 2, ('a', 'p', 't'): 2, ('p', 't', 'i'): 2, ('t', 'i', 's'): 2, ('i', 's', 't'): 2, ('s', 't', 'e'): 2, (' ', 'B', 'ộ'): 2, ('G', 'i', 'o'): 3, ('i', 'o', 'a'): 3, ('a', 'o', 't'): 3, ('o', 't', 'i'): 3, ('t', 'i', 'x'): 3, ('i', 'x', 'i'): 3, ('x', 'i', 't'): 3, ('i', 't', 'a'): 3, ('t', 'a', ' '): 3, ('a', ' ', 'P'): 3, ('m', ' ', 'M'): 13, (' ', 'M', 'ẫ'): 2, ('M', 'ẫ', 'n'): 1, ('H', 'o', 'ạ'): 2, ('o', 'ạ', 'c'): 1, ('B', 'á', ' '): 12, ('á', ' ', 'Q'): 1, ('o', 'a', 'c'): 1, ('a', ' ', 'Đ'): 2, ('i', 'ể', 'n'): 3, ('B', 'a', 'r'): 2, ('a', 'r', 't'): 2, ('r', 't', 'h'): 1, ('t', 'h', 'o'): 1, ('h', 'o', 'l'): 1, ('o', 'l', 'o'): 1, ('l', 'o', 'm'): 1, ('m', 'e', 'w'): 1, ('e', 'w', ' '): 4, ('w', ' ', 'N'): 1, ('o', ' ', 'X'): 4, (' ', 'Đ', 'á'): 1, ('Đ', 'á', 'n'): 1, ('S', 'ĩ', ' '): 3, ('ĩ', ' ', 'N'): 1, ('F', 'r', 'é'): 1, ('r', 'é', 'd'): 1, ('é', 'd', 'é'): 1, ('d', 'é', 'r'): 1, ('é', 'r', 'i'): 1, ('r', 'i', 'c'): 1, ('i', 'c', ' '): 1, ('ũ', ' ', 'G'): 2, ('i', 'a', 'o'): 2, ('C', 'á', 'p'): 1, ('ề', 'u', ' '): 6, ('T', 'i', 'ễ'): 1, (' ', 'T', 'ớ'): 1, ('T', 'ớ', 'i'): 1, ('H', 'y', ' '): 2, ('D', 'a', 'm'): 2, ('ị', ' ', 'Đ'): 2, ('á', ' ', 'T'): 6, ('e', ' ', 'P'): 6, (' ', 'C', 'ụ'): 1, ('C', 'ụ', 't'): 1, ('u', ' ', 'Ẩ'): 1, (' ', 'Ẩ', 'n'): 3, ('y', ' ', 'Í'): 1, ('M', 'ẫ', 'u'): 1, ('Đ', 'o', 'a'): 2, ('h', 'i', 'c'): 6, ('D', 'u', 'ậ'): 1, ('u', 'ậ', 't'): 5, ('ỗ', ' ', 'H'): 2, ('h', 'ư', 'ờ'): 3, (' ', '(', 'n'): 12, ('(', 'n', 'g'): 4, ('n', 'g', 'ư'): 1, ('g', 'ư', 'ờ'): 1, ('ư', 'ờ', 'i'): 2, ('ờ', 'i', ' '): 1, ('i', ' ', 'm'): 1, (' ', 'm', 'ẫ'): 1, ('m', 'ẫ', 'u'): 1, ('ẫ', 'u', ')'): 1, ('ậ', 'p', ' '): 1, ('p', ' ', 'N'): 1, ('g', 'ô', 'n'): 1, ('L', 'i', 'e'): 7, ('F', 'a', 'n'): 1, ('n', ' ', 'Y'): 2, (' ', 'Y', 'a'): 1, ('Y', 'a', 'n'): 1, ('M', 'i', 'd'): 1, ('i', 'd', 'u'): 1, ('ỗ', ' ', 'A'): 1, ('V', 'i', ' '): 1, (' ', 'Đ', 'ắ'): 3, ('Đ', 'ắ', 'c'): 3, (' ', 'Y', ' '): 1, ('Y', ' ', 'A'): 1, ('F', 'a', 'b'): 1, ('a', 'b', 'i'): 1, ('b', 'i', 'o'): 1, ('i', 'o', ' '): 1, ('o', ' ', 'd'): 1, (' ', 'd', 'o'): 1, ('d', 'o', 's'): 1, ('o', 's', ' '): 1, ('s', ' ', 'S'): 1, ('a', 'n', 't'): 2, ('n', 't', 'o'): 2, ('t', 'o', 's'): 2, ('T', 'i', 'c'): 1, ('B', 'à', ' '): 2, ('y', 'ệ', 'n'): 3, ('ệ', 'n', ' '): 5, ('(', 'n', 'h'): 8, ('n', 'h', 'à'): 6, ('h', 'à', ' '): 6, ('à', ' ', 'n'): 1, ('n', ' ', 'c'): 2, (' ', 'c', 'ứ'): 1, ('c', 'ứ', 'u'): 1, ('ứ', 'u', ')'): 1, ('ô', ' ', 'G'): 2, (' ', 'T', 'ụ'): 2, ('T', 'ụ', 'n'): 1, ('ừ', ' ', 'K'): 1, ('i', 'á', 'n'): 2, ('ô', ' ', 'B'): 4, ('Y', 'ê', 'n'): 2, ('T', 'ố', 'n'): 3, ('h', 'ấ', 'n'): 1, ('M', 'u', 'ô'): 1, ('u', 'ô', 'n'): 2, ('r', 'ư', 'n'): 2, ('N', 'h', 'ị'): 2, (' ', '(', 'h'): 5, ('(', 'h', 'u'): 1, ('h', 'u', 'ấ'): 2, ('n', ' ', 'l'): 1, (' ', 'l', 'u'): 1, ('l', 'u', 'y'): 1, ('n', ' ', 'b'): 2, ('đ', 'á', ')'): 4, ('ô', ' ', 'S'): 1, ('ĩ', ' ', 'L'): 1, ('H', 'a', 'y'): 1, ('a', 'y', 's'): 1, ('y', 's', 'l'): 1, ('s', 'l', 'i'): 1, ('C', 'h', 'ỉ'): 1, ('h', 'ỉ', 'n'): 1, ('ỉ', 'n', 'h'): 3, (' ', 'S', 'í'): 1, ('S', 'í', 'n'): 1, ('K', 'h', 'ư'): 2, ('D', 'o', 'ã'): 2, ('o', 'ã', 'n'): 2, ('ã', 'n', ' '): 2, ('ỗ', ' ', 'Đ'): 1, ('D', 'ụ', 'c'): 2, (' ', 'Y', 'e'): 4, ('Y', 'e', 'n'): 4, ('o', ' ', 'A'): 2, ('a', 'r', 'u'): 1, ('ê', ' ', 'L'): 5, ('ỗ', ' ', 'N'): 1, ('i', 'á', 'c'): 1, ('á', 'c', ' '): 1, (' ', 'C', 'ẩ'): 3, ('C', 'ẩ', 'n'): 3, (' ', 'C', 'ủ'): 1, ('C', 'ủ', 'n'): 1, ('ủ', 'n', 'g'): 1, ('c', ' ', 'E'): 2, (' ', 'T', 'ố'): 1, ('ú', ' ', 'T'): 2, ('à', ' ', 'Đ'): 3, ('ũ', ' ', 'H'): 2, ('L', 'i', 'u'): 1, ('u', ' ', 'Y'): 2, (' ', 'Y', 'i'): 1, ('Y', 'i', 'n'): 1, ('N', 'h', 'ự'): 2, ('h', 'ự', 't'): 2, ('u', ' ', 'K'): 6, ('h', 'u', 'e'): 1, ('D', 'u', 'ệ'): 1, (' ', 'X', 'ư'): 2, ('X', 'ư', 'ơ'): 2, (' ', 'X', 'í'): 2, ('ỹ', ' ', 'N'): 1, ('K', 'h', 'ở'): 1, ('K', 'a', 'n'): 1, ('c', ' ', 'Ẩ'): 1, ('h', 'u', 'ê'): 4, ('H', 'ạ', 'o'): 4, ('p', ' ', 'Đ'): 1, (' ', 'Đ', 'ậ'): 1, ('Đ', 'ậ', 'u'): 1, ('T', 'h', 'y'): 1, ('e', 'x', 'i'): 1, ('x', 'i', 's'): 1, ('i', 's', ' '): 3, ('s', ' ', 'P'): 1, ('o', 'ạ', 't'): 1, ('e', ' ', 'S'): 1, ('Đ', 'ạ', 'm'): 2, ('á', ' ', 'C'): 1, (' ', 'S', 'i'): 7, ('S', 'i', ' '): 1, ('L', 'a', 'i'): 1, ('o', ' ', 'Đ'): 3, ('n', ' ', 'O'): 2, (' ', 'O', 'á'): 1, ('O', 'á', 'n'): 1, ('J', 'a', 'n'): 2, ('n', 'e', ' '): 3, ('ử', ' ', 'Q'): 1, ('ạ', ' ', 'P'): 1, (' ', 'T', 'ầ'): 2, ('T', 'ầ', 'n'): 2, ('h', 'ụ', 'c'): 4, ('C', 'h', 'e'): 1, ('T', 'r', 'ă'): 1, ('r', 'ă', 'n'): 1, ('J', 'e', 'n'): 2, ('e', 'n', 'n'): 2, ('n', 'n', 'i'): 2, ('n', 'i', 'f'): 2, ('i', 'f', 'e'): 2, ('f', 'e', 'r'): 2, ('r', ' ', 'P'): 2, ('t', ' ', 'X'): 2, (' ', 'X', 'ứ'): 1, ('X', 'ứ', 'n'): 1, ('ứ', 'n', 'g'): 1, (' ', 'M', '-'): 1, ('M', '-', 'T'): 1, ('-', 'T', 'P'): 1, ('r', 'ắ', 'c'): 1, ('T', 'a', 'i'): 4, ('L', 'e', 'm'): 1, (' ', '(', 'g'): 1, ('(', 'g', 'i'): 1, ('g', 'i', 'á'): 1, ('i', 'á', 'o'): 1, ('o', ' ', 't'): 1, (' ', 't', 'ô'): 1, ('t', 'ô', 'n'): 2, ('S', 't', 'e'): 1, ('t', 'e', 'f'): 1, ('e', 'f', 'a'): 1, ('f', 'a', 'n'): 1, ('r', 'i', 'ế'): 1, ('T', 'ư', 'ớ'): 2, ('r', 't', 'ô'): 1, ('t', 'ô', 'l'): 1, ('ô', 'l', 'ô'): 1, ('l', 'ô', 'm'): 1, ('ô', 'm', 'ê'): 1, ('m', 'ê', 'ô'): 1, ('t', ' ', 'G'): 1, ('a', 'n', 'o'): 1, ('n', 'o', 'i'): 1, ('a', 'n', 'n'): 1, ('n', 'n', 'a'): 1, ('n', 'a', 'h'): 1, ('T', 'h', 'ố'): 4, ('N', 'g', 'ạ'): 1, ('g', 'ạ', 'n'): 1, ('k', ' ', 'U'): 1, (' ', 'U', 't'): 1, (' ', 'L', 'ự'): 1, ('L', 'ự', 'u'): 1, ('Q', 'u', 'ế'): 3, ('ế', ' ', 'V'): 1, ('o', ' ', 'L'): 3, ('B', 'e', 'b'): 1, ('e', 'b', 'e'): 1, ('b', 'e', ' '): 1, ('L', 'ụ', 'c'): 1, ('ụ', 'c', ' '): 2, ('c', ' ', 'X'): 1, ('B', 'i', 'e'): 1, ('T', 'r', 'ú'): 3, ('S', 'i', 'n'): 4, ('u', 'a', ' '): 2, ('H', 'a', ' '): 5, (' ', 'Đ', 'í'): 1, ('Đ', 'í', 'n'): 1, (' ', 'K', 'í'): 2, ('K', 'í', 'n'): 2, (' ', '(', 'p'): 1, ('(', 'p', 'h'): 1, ('p', 'h', 'i'): 1, ('i', ' ', 'c'): 1, (' ', 'c', 'ô'): 2, ('c', 'ô', 'n'): 2, ('õ', ' ', 'P'): 1, ('L', 'u', 'â'): 1, (' ', 'A', 'i'): 1, ('C', 'ẩ', 'm'): 2, ('ẩ', 'm', ' '): 3, ('m', ' ', 'U'): 2, ('U', 'y', 'ể'): 1, ('y', 'ể', 'n'): 1, ('ể', 'n', ' '): 2, ('h', 'a', 'e'): 1, ('a', 'e', 'l'): 1, ('l', ' ', 'D'): 1, ('n', 'h', '-'): 1, ('h', '-', 'H'): 1, ('-', 'H', 'y'): 1, ('ê', ' ', 'Ý'): 1, (' ', 'Ý', ' '): 1, ('Ý', ' ', 'T'): 1, ('u', ' ', 'X'): 2, ('J', 'a', 'y'): 5, ('a', 'y', 'a'): 5, ('y', 'a', ' '): 5, ('A', 'n', 'a'): 1, ('n', 'a', 'n'): 1, ('a', ' ', 'D'): 2, ('a', ' ', 'O'): 1, ('r', 'â', 'n'): 2, ('T', 'o', 'c'): 1, ('h', 'a', 'r'): 4, ('a', 'r', 'l'): 3, ('r', 'l', 'e'): 1, ('l', 'e', 's'): 1, ('e', 's', ' '): 2, ('r', 'l', 'i'): 2, ('l', 'i', 'e'): 2, ('ư', ' ', 'K'): 2, ('u', ' ', 'S'): 3, ('N', 'o', 'o'): 1, ('o', 'o', ' '): 1, (' ', 'P', 'u'): 1, ('T', 'i', 'ệ'): 1, ('i', 'ệ', 'm'): 1, ('N', 'i', 'e'): 2, (' ', 'H', \"'\"): 1, ('H', \"'\", 'H'): 2, (\"'\", 'H', 'e'): 2, ('H', 'e', 'n'): 4, (' ', 'S', 'u'): 2, ('S', 'u', 'u'): 1, ('ử', ' ', 'G'): 1, ('e', 'n', 'r'): 2, ('n', 'r', 'i'): 2, ('e', 't', 't'): 1, ('t', 't', 'e'): 1, (' ', 'B', 'ù'): 3, ('Đ', 'i', 'ề'): 4, ('i', 'ề', 'm'): 3, ('P', 'é', 't'): 1, ('é', 't', 'r'): 1, ('t', 'r', 'u'): 1, ('r', 'u', 's'): 1, ('u', 's', ' '): 2, ('s', ' ', 'K'): 1, ('T', 'r', 'ì'): 1, ('r', 'ì', 'n'): 1, ('ả', 'y', ' '): 1, ('y', ' ', 'V'): 2, ('V', 'i', 'ễ'): 3, ('ũ', ' ', 'P'): 1, ('à', ' ', 't'): 4, ('t', 'h', 'ơ'): 4, ('h', 'ơ', ')'): 4, ('n', 'h', 'i'): 1, ('i', 'ế', 'p'): 2, ('ế', 'p', ' '): 1, ('p', ' ', 'ả'): 1, (' ', 'ả', 'n'): 1, ('h', ' ', 'g'): 1, (' ', 'g', 'i'): 2, ('g', 'i', 'a'): 1, ('i', 'a', ')'): 1, ('Y', ' ', 'L'): 1, ('ê', 'm', ' '): 2, ('n', ' ', 'Ẩ'): 1, ('T', 'ư', ' '): 2, ('ư', ' ', 'N'): 1, (' ', 'M', 'ặ'): 1, ('M', 'ặ', 'c'): 1, ('ặ', 'c', ' '): 1, ('T', 's', 'u'): 1, ('s', 'u', 'i'): 1, ('H', 'a', 'r'): 1, ('a', 'r', 'k'): 1, (' ', 'Q', '.'): 2, ('Q', '.', ' '): 2, ('.', ' ', 'T'): 2, ('C', 'a', 'm'): 4, ('a', ' ', 'R'): 2, (' ', 'R', 'y'): 2, ('(', 'h', 'ọ'): 2, ('h', 'ọ', 'c'): 1, ('c', ' ', 'g'): 1, ('g', 'i', 'ả'): 1, ('i', 'ả', ')'): 1, ('B', 'i', 'ề'): 1, ('T', 'ư', 'ở'): 1, ('ư', 'ở', 'n'): 2, ('ở', 'n', 'g'): 2, ('ồ', ' ', 'K'): 1, (' ', 'C', 'ơ'): 2, ('C', 'ơ', ' '): 2, ('ơ', ' ', 'M'): 1, ('h', ' ', '9'): 2, ('ồ', ' ', 'M'): 2, (' ', 'K', 'ỉ'): 1, ('K', 'ỉ', 'n'): 1, ('u', 'ế', ' '): 1, ('ế', ' ', 'N'): 2, ('i', ' ', 'h'): 1, (' ', 'h', 'u'): 2, ('h', 'u', 'u'): 1, ('u', ' ', 'h'): 1, ('ũ', ' ', 'M'): 3, ('M', 'i', 'ê'): 1, (' ', 'Đ', 'ệ'): 1, ('à', 'm', ' '): 2, ('ễ', 'm', ' '): 4, ('H', 'i', 'ể'): 1, ('ê', ' ', 'P'): 4, ('S', 'o', 'a'): 1, ('o', 'a', 't'): 1, ('T', 'r', 'ấ'): 1, ('r', 'ấ', 'n'): 1, ('L', 'u', 'y'): 2, ('ý', ' ', 'V'): 1, ('e', ' ', 'A'): 1, ('u', 'o', 'i'): 1, ('i', 'l', 'í'): 1, ('l', 'í', 'p'): 1, ('í', 'p', 'p'): 1, ('p', 'p', 'h'): 1, ('p', 'h', 'ê'): 1, ('h', 'ê', ' '): 1, ('A', 'n', 'd'): 3, ('d', 'r', 'e'): 3, ('r', 'e', 'w'): 3, ('w', ' ', 'X'): 2, (' ', 'X', '.'): 2, ('X', '.', ' '): 2, ('.', ' ', 'P'): 3, ('g', 'ư', 'ơ'): 1, (' ', 'T', 'á'): 3, ('T', 'á', 'n'): 2, ('ử', ' ', 'B'): 1, (' ', 'H', '.'): 2, ('H', '.', ' '): 2, ('.', ' ', 'V'): 1, ('g', ' ', 'h'): 3, (' ', 'h', 'o'): 2, ('h', 'o', 'à'): 3, (' ', 'h', 'ậ'): 3, ('h', 'ậ', 'u'): 3, (' ', 'H', 'ộ'): 3, ('H', 'ộ', 'i'): 2, ('õ', ' ', 'T'): 3, ('T', 'r', 'ù'): 1, ('ậ', 'n', ' '): 6, ('(', 'h', 'o'): 2, ('ậ', 'u', ')'): 2, ('J', 'u', 'n'): 1, ('u', 'n', ' '): 1, ('n', '-', 'H'): 1, ('-', 'H', 'a'): 1, ('H', 'a', 't'): 1, ('a', 't', 's'): 1, ('t', 's', 'u'): 1, ('s', 'u', 's'): 1, ('u', 's', 'h'): 1, ('s', 'h', 'i'): 1, ('h', 'i', 'b'): 1, ('i', 'b', 'a'): 1, ('s', 'ĩ', ' '): 1, ('ĩ', ' ', 's'): 1, ('t', ' ', 'M'): 3, (' ', 'T', 'ộ'): 1, (' ', 'K', 'ô'): 1, ('K', 'ô', 'n'): 1, ('a', 'm', '-'): 1, ('m', '-', 'H'): 1, ('-', 'H', 'o'): 1, (' ', 'H', 'ô'): 1, ('h', 'ụ', ' '): 1, ('ý', ' ', 'A'): 1, (' ', '(', 'N'): 1, ('(', 'N', 'a'): 1, ('a', 'm', ')'): 1, ('L', 'i', 'ệ'): 2, (' ', 'D', 'h'): 1, ('D', 'h', 'a'): 1, ('ồ', ' ', 'H'): 1, ('T', 'o', 'ạ'): 1, ('r', 'i', 'ề'): 1, (' ', 'M', 'á'): 1, ('M', 'á', 'c'): 1, ('á', 'c', 't'): 1, ('c', 't', 'i'): 1, ('t', 'i', 'n'): 3, ('i', 'n', 'ô'): 1, ('n', 'ô', ' '): 1, ('r', 'ú', 'c'): 2, ('e', ' ', 'M'): 3, ('o', 'c', '-'): 1, ('c', '-', 'B'): 1, ('L', 'u', 'ậ'): 2, ('Ð', 'o', 'à'): 1, ('ị', ' ', 'Ð'): 1, (' ', 'Ð', 'i'): 1, ('Ð', 'i', 'ể'): 1, ('i', 'ể', 'm'): 3, ('r', 'â', 'ǹ'): 1, (' ', 'D', 'ậ'): 2, ('D', 'ậ', 'u'): 1, ('ạ', ' ', 'C'): 1, ('í', ' ', 'Đ'): 1, ('r', 'o', 'i'): 1, ('ị', ' ', 'A'): 1, (' ', 'C', 'ậ'): 1, ('C', 'ậ', 'n'): 1, ('K', 'e', ' '): 2, ('P', '.', ' '): 1, ('.', ' ', 'Q'): 1, ('G', 'i', 'n'): 1, ('i', 'n', 'a'): 1, ('n', 'a', ' '): 1, ('F', 'r', 'a'): 2, ('a', 'n', 'c'): 1, ('n', 'c', 'i'): 1, ('c', 'i', 's'): 1, ('s', ' ', 'X'): 2, ('v', 'i', 'e'): 2, ('r', ' ', 'L'): 1, (' ', 'Đ', 'ầ'): 1, ('Đ', 'ầ', 'u'): 1, ('i', 'a', 'm'): 1, (' ', 'X', 'i'): 1, ('X', 'i', 'c'): 1, (' ', 'T', 'y'): 1, ('T', 'ụ', 'y'): 1, ('h', 'ọ', 'a'): 1, ('ọ', 'a', ' '): 1, ('Y', 'v', 'e'): 1, ('s', ' ', 'C'): 1, (' ', 'C', 'l'): 1, ('C', 'l', 'a'): 1, ('l', 'a', 'u'): 1, ('a', 'u', 'd'): 1, ('u', 'd', 'e'): 1, ('T', 'o', ' '): 3, ('B', 'ộ', ' '): 1, ('ộ', ' ', 'L'): 1, (' ', 'L', 'ĩ'): 2, ('L', 'ĩ', 'n'): 2, ('N', 'g', 'ũ'): 1, ('g', 'ũ', ' '): 1, ('ũ', ' ', 'L'): 1, (' ', 'L', 'ã'): 2, ('L', 'ã', 'o'): 1, ('ệ', ' ', 'X'): 1, ('S', 'i', 'm'): 3, ('i', 'm', 'h'): 3, ('m', 'h', 'a'): 3, ('h', 'a', 'v'): 4, ('n', ' ', 'I'): 4, (' ', 'I', 'I'): 1, ('I', 'I', 'I'): 1, ('à', ' ', 'v'): 1, (' ', 'v', 'ă'): 1, ('v', 'ă', 'n'): 1, ('ă', 'n', ')'): 1, ('N', 'h', 'à'): 1, ('h', 'u', 'ô'): 1, ('h', 'o', 'i'): 3, (' ', 'Đ', 'ĩ'): 2, ('Đ', 'ĩ', 'n'): 2, ('N', 'ă', 'm'): 1, ('ý', ' ', 'D'): 2, ('ồ', ' ', 'A'): 1, ('u', 'á', 'n'): 1, ('ị', ' ', 'Á'): 1, ('à', ' ', '('): 2, ('n', 'h', 'ạ'): 1, ('c', ' ', 's'): 1, ('h', 'u', 'ầ'): 2, ('ệ', ' ', 's'): 3, ('H', 'o', 'p'): 1, ('m', ' ', 'G'): 2, ('ơ', ' ', 'T'): 1, ('O', 'r', 'a'): 1, ('n', 'g', 'e'): 1, ('B', 'ă', 'n'): 1, ('i', ' ', 'Đ'): 2, ('T', 'i', 'ề'): 1, (' ', 'H', 'ắ'): 1, ('H', 'ắ', 'c'): 1, ('á', ' ', 'H'): 2, (' ', 'H', 'ọ'): 1, ('E', 'm', 'm'): 1, ('m', 'm', 'a'): 1, ('a', 'n', 'u'): 1, ('n', 'u', 'e'): 1, ('u', 'e', 'l'): 1, ('l', ' ', 'L'): 1, ('U', 'y', 'ê'): 1, ('a', ' ', 'G'): 1, ('y', ' ', 'Đ'): 1, ('h', 'i', 'a'): 2, ('i', 'e', 'l'): 1, ('e', 'l', 's'): 1, ('l', 's', ' '): 1, ('s', ' ', 'L'): 2, ('D', 'o', 'k'): 1, ('o', 'k', 'y'): 1, ('ý', ' ', 'P'): 1, ('M', 'a', 'c'): 3, (' ', 'T', 'ế'): 2, ('T', 'ế', ' '): 2, ('ế', ' ', 'X'): 2, ('X', 'u', 'y'): 2, ('ũ', ' ', 'X'): 1, ('H', 'u', 'e'): 3, ('ê', ' ', 'S'): 1, ('i', 'a', 'c'): 1, ('a', 'c', 'ô'): 1, ('c', 'ô', 'b'): 1, ('ô', 'b', 'ê'): 1, ('b', 'ê', ' '): 1, (' ', 'M', 'ầ'): 1, ('M', 'ầ', 'u'): 1, ('ú', ' ', 'N'): 1, (' ', 'N', 'ữ'): 1, ('N', 'ữ', ' '): 1, ('ữ', ' ', 'Y'): 1, (' ', 'Y', 'ê'): 1, ('ỗ', ' ', 'V'): 1, ('N', 'g', 'ữ'): 2, (' ', 'L', 'ắ'): 1, ('L', 'ắ', 'm'): 1, ('ế', ' ', 'M'): 1, (' ', 'M', 'â'): 1, ('M', 'â', 'n'): 1, (' ', 'T', 'ả'): 2, ('T', 'ả', 'n'): 3, (' ', 'D', 'ĩ'): 1, (' ', 'C', 'ố'): 1, ('C', 'ố', 'c'): 1, (' ', 'T', 'ỏ'): 1, ('ế', ' ', 'C'): 1, ('í', ' ', 'C'): 2, ('ư', ' ', 'C'): 1, ('g', ' ', 'c'): 3, (' ', 'c', 'h'): 2, ('c', 'h', 'ú'): 2, ('h', 'ú', 'a'): 2, ('í', ' ', 'T'): 2, ('D', 'u', ' '): 2, ('C', 'u', ' '): 1, ('T', 'a', ' '): 2, ('S', 'á', 'c'): 2, ('M', 'ư', 'ờ'): 1, ('r', 'a', 'm'): 1, ('w', ' ', 'D'): 1, ('g', '-', 'L'): 1, ('-', 'L', 'a'): 1, ('L', 'a', 'c'): 2, (' ', 'B', 'à'): 1, ('B', 'à', 'i'): 1, (' ', 'D', 'ữ'): 1, ('T', 'h', 'ẩ'): 1, ('h', 'ẩ', 'm'): 1, ('ú', 'y', ' '): 2, ('i', 'n', 'c'): 1, ('n', 'c', 'e'): 1, ('c', 'e', 'n'): 1, ('e', 'n', 't'): 3, ('n', 't', ' '): 1, ('Y', 'a', ' '): 1, ('S', 'u', 'y'): 1, ('á', ' ', 'V'): 1, ('ồ', ' ', 'P'): 1, ('ỹ', ' ', 'H'): 1, ('í', ' ', 'D'): 1, (' ', 'Đ', 'ổ'): 1, ('Đ', 'ổ', 'n'): 1, ('F', 'l', 'o'): 2, ('l', 'o', 'r'): 2, ('o', 'r', 'e'): 2, ('r', 'e', 'n'): 2, ('n', 't', 'i'): 2, ('i', 'n', ' '): 2, (' ', 'B', 'ặ'): 1, ('B', 'ặ', 'c'): 1, (' ', 'C', 'ă'): 3, ('C', 'ă', 'n'): 3, ('G', 'i', 'l'): 1, ('i', 'l', 'b'): 1, ('l', 'b', 'e'): 1, ('T', 'i', 'n'): 1, ('í', ' ', 'L'): 1, ('a', ' ', 'h'): 1, ('T', 'í', 'n'): 1, ('B', 'u', 'u'): 4, ('i', ' ', '('): 1, ('r', 'ư', 'ở'): 1, ('S', 'ầ', 'm'): 1, (' ', 'T', 'ự'): 2, ('ự', ' ', 'L'): 1, ('Y', ' ', 'B'): 1, ('i', 'n', 'g'): 1, ('ã', ' ', 'C'): 1, ('G', 'i', 'ả'): 1, ('i', 'ả', 'n'): 1, ('D', 'ụ', 'n'): 1, ('G', 'a', 'o'): 1, (' ', 'P', 'i'): 1, ('P', 'i', 'a'): 1, ('(', 'v', 'ậ'): 3, ('v', 'ậ', 'n'): 3, ('n', ' ', 'đ'): 3, (' ', 'đ', 'ộ'): 3, ('đ', 'ộ', 'n'): 3, ('g', ' ', 'v'): 3, (' ', 'b', 'ơ'): 1, ('b', 'ơ', 'i'): 1, ('ơ', 'i', ' '): 1, ('i', ' ', 'l'): 1, (' ', 'l', 'ộ'): 1, ('l', 'ộ', 'i'): 1, ('ộ', 'i', ')'): 1, ('L', 'ạ', 'i'): 1, ('u', 'y', '-'): 1, ('y', '-', 'L'): 1, ('-', 'L', 'o'): 1, (' ', 'B', 'ỉ'): 1, ('B', 'ỉ', 'n'): 1, ('a', ' ', 'I'): 1, (' ', 'I', 'n'): 1, (' ', 'I', 'V'): 2, ('h', 'o', 'm'): 1, ('o', 'm', 'a'): 1, ('m', 'a', 's'): 1, ('a', 's', ' '): 2, ('s', ' ', 'N'): 1, ('N', 'i', 'ê'): 1, ('ĩ', ' ', 'C'): 1, ('i', 'á', 'm'): 1, ('K', 'ỳ', ' '): 1, ('ỳ', ' ', 'P'): 1, ('n', 'g', ','): 1, ('i', 'c', 'o'): 1, ('c', 'o', 'l'): 1, ('o', 'l', 'a'): 1, ('l', 'a', 's'): 1, ('s', ' ', 'H'): 1, ('ự', ' ', 'K'): 1, ('A', 'n', 'r'): 1, ('n', 'r', 'ê'): 1, ('r', 'ê', ' '): 1, ('i', 'à', 'n'): 1, ('P', 'h', 'ử'): 1, (' ', 'S', 'ắ'): 1, ('S', 'ắ', 't'): 1, ('õ', ' ', 'M'): 1, ('u', 'e', 't'): 1, ('T', 'ố', ' '): 1, ('ố', ' ', 'H'): 1, ('n', 'h', 'a'): 1, ('p', 'h', '-'): 1, ('h', '-', 'M'): 1, ('-', 'M', 'a'): 1, ('õ', ' ', 'C'): 1, ('c', 'ô', 'l'): 1, ('ô', 'l', 'a'): 1, ('l', 'a', ' '): 1, ('N', 'o', 'n'): 1, (' ', 'c', 'ờ'): 1, ('c', 'ờ', ' '): 1, ('ờ', ' ', 'v'): 1, (' ', 'v', 'u'): 1, (' ', 'N', 'u'): 1, ('N', 'u', ' '): 1, ('K', 'h', 'e'): 1, (' ', 'T', 'ổ'): 1, ('a', 'n', 'ç'): 1, ('n', 'ç', 'o'): 1, ('ç', 'o', 'i'): 1, ('o', 'i', 's'): 1, ('C', 'u', 't'): 1, ('h', 'í', 'n'): 2, ('ỹ', ' ', 'T'): 1, ('M', 'y', '-'): 1, ('y', '-', 'V'): 1, ('-', 'V', 'a'): 1, ('y', ' ', 'R'): 2, (' ', 'R', 'u'): 1, ('R', 'u', 'a'): 1, ('u', 'ấ', 't'): 1, ('h', 'u', 'ý'): 1, ('S', 'a', 'j'): 1, ('a', 'j', 'a'): 1, ('j', 'a', 'n'): 1, ('h', 'ả', ' '): 1, ('ả', ' ', 'P'): 1, ('Ỷ', ' ', 'L'): 1, ('ả', 'n', ' '): 1, ('B', 'h', 'a'): 1, ('h', 'a', 'd'): 1, ('a', 'd', 'r'): 1, ('ị', ' ', 'Q'): 1, ('H', 'o', 'i'): 1, ('C', 'ù', ' '): 1, ('ù', ' ', 'H'): 1, ('L', 'i', 'ễ'): 1, ('i', 'ễ', 'u'): 1, ('X', 'u', 'n'): 1, ('B', 'B', ' '): 1, ('B', ' ', 'M'): 1, ('ệ', ' ', 'L'): 1, (' ', 'D', 'â'): 1, ('D', 'â', 'n'): 1, ('C', 'o', 'c'): 1, ('A', 'n', 't'): 1, ('n', 't', 'ô'): 1, ('T', 'ư', 'ơ'): 1, (' ', 'D', 'ự'): 1, ('D', 'ự', 'c'): 1, ('ũ', ' ', 'K'): 1, ('T', 'á', 'm'): 1, (' ', '(', 'l'): 1, ('(', 'l', 'u'): 1, ('l', 'u', 'ậ'): 1, ('t', ' ', 's'): 1, (' ', 's', 'ư'): 1, ('s', 'ư', ')'): 1, ('D', 'a', 'c'): 1, ('á', ' ', 'D'): 1, ('(', 's', 'i'): 2, ('1', '9', '7'): 1, ('9', '7', '9'): 1, ('7', '9', ')'): 1, ('D', 'u', 'e'): 1, ('ũ', ' ', 'D'): 2, (' ', 'C', 'ó'): 1, ('ô', ' ', 'h'): 1, ('E', 'u', 'g'): 1, ('u', 'g', 'e'): 1, ('g', 'e', 'n'): 1, ('e', 'n', 'e'): 1, ('ợ', 'c', ' '): 1, ('P', 'h', 'ế'): 1, ('ế', ' ', 'Đ'): 1, ('h', 'i', 'ễ'): 1, ('D', 'ậ', 't'): 1, (' ', 'T', 'ĩ'): 1, ('T', 'ĩ', 'n'): 1, (' ', 'D', 'ê'): 1, ('L', 'a', 'u'): 1, (' ', 'R', 'ứ'): 1, ('R', 'ứ', 'a'): 1, ('T', 'ứ', ' '): 1, ('ứ', ' ', 'D'): 1, ('ư', ' ', 'L'): 1, ('y', 'ê', 'ñ'): 1, ('ồ', ' ', 'S'): 1, ('ỹ', ' ', 'G'): 1, ('T', 'r', 'ỗ'): 1, ('r', 'ỗ', 'i'): 1, ('P', 'h', 'e'): 1, ('T', 'a', 'd'): 1, ('a', 'd', 'e'): 1, ('d', 'e', 'u'): 1, ('e', 'u', 's'): 1, ('g', 'h', 'ị'): 1, ('L', 'ã', 'm'): 1, ('K', 'i', 'ể'): 1, ('h', ' ', 'Â'): 1, (' ', 'Â', 'n'): 1, ('ô', ' ', 'D'): 1, ('B', 'a', 'y'): 1, ('Ý', ' ', 'N'): 1, ('B', 'i', 'ể'): 1, ('S', 'ư', 'ơ'): 2, ('1', '9', '5'): 1, ('9', '5', '2'): 1, ('5', '2', ')'): 1, (' ', 'D', 'ầ'): 1, ('D', 'ầ', 'n'): 1, ('T', 'u', 'ầ'): 1, (' ', '(', 'T'): 1, ('(', 'T', 'h'): 1, ('n', 'h', ')'): 1, ('P', 'h', 'ó'): 1, ('h', 'ó', 'n'): 1, ('ế', ' ', 'H'): 1}\n"
     ]
    }
   ],
   "source": [
    "viet_tri = create_character_frequency_hashmap(viet_df, 'trigrams')\n",
    "print(viet_tri)"
   ]
  },
  {
   "cell_type": "code",
   "execution_count": 45,
   "id": "9ae3bb7e-209b-4a2a-a6b3-473dc05dedf2",
   "metadata": {},
   "outputs": [
    {
     "data": {
      "text/plain": [
       "[((' ',), 4566),\n",
       " (('n',), 3868),\n",
       " (('h',), 2285),\n",
       " (('g',), 1942),\n",
       " (('u',), 1804),\n",
       " (('T',), 1466),\n",
       " (('a',), 1340),\n",
       " (('i',), 1126),\n",
       " (('N',), 950),\n",
       " (('y',), 873),\n",
       " (('o',), 764),\n",
       " (('H',), 699),\n",
       " (('V',), 563),\n",
       " (('r',), 518),\n",
       " (('L',), 507),\n",
       " (('e',), 503),\n",
       " (('c',), 463),\n",
       " (('P',), 432),\n",
       " (('ễ',), 409),\n",
       " (('m',), 339),\n",
       " (('D',), 302),\n",
       " (('C',), 281),\n",
       " (('ê',), 276),\n",
       " (('ư',), 272),\n",
       " (('Đ',), 262),\n",
       " (('à',), 249),\n",
       " (('M',), 248),\n",
       " (('ă',), 230),\n",
       " (('K',), 229),\n",
       " (('t',), 212)]"
      ]
     },
     "execution_count": 45,
     "metadata": {},
     "output_type": "execute_result"
    }
   ],
   "source": [
    "viet_unifreqdist = nltk.FreqDist(viet_uni).most_common(30)\n",
    "# viet_unifreqdist"
   ]
  },
  {
   "cell_type": "code",
   "execution_count": 46,
   "id": "1c4e5e1b-c3b9-4a65-ab95-391252319bf6",
   "metadata": {},
   "outputs": [
    {
     "data": {
      "text/plain": [
       "<Axes: xlabel='unigram'>"
      ]
     },
     "execution_count": 46,
     "metadata": {},
     "output_type": "execute_result"
    },
    {
     "data": {
      "image/png": "[encoded data removed]",
      "text/plain": [
       "<Figure size 640x480 with 1 Axes>"
      ]
     },
     "metadata": {},
     "output_type": "display_data"
    }
   ],
   "source": [
    "viet_unifd = pd.DataFrame.from_dict(viet_unifreqdist)\n",
    "viet_unifd.rename(columns={0: 'unigram', 1: 'count'}, inplace=True)\n",
    "viet_unifd.plot(x=\"unigram\", y=\"count\", kind=\"bar\") "
   ]
  },
  {
   "cell_type": "code",
   "execution_count": 50,
   "id": "f28a4787-3294-4e1a-b55e-1f2e08d20db4",
   "metadata": {},
   "outputs": [
    {
     "data": {
      "text/plain": [
       "<Axes: xlabel='bigram'>"
      ]
     },
     "execution_count": 50,
     "metadata": {},
     "output_type": "execute_result"
    },
    {
     "data": {
      "image/png": "[encoded data removed]",
      "text/plain": [
       "<Figure size 640x480 with 1 Axes>"
      ]
     },
     "metadata": {},
     "output_type": "display_data"
    }
   ],
   "source": [
    "viet_bifreqdist = nltk.FreqDist(viet_bi).most_common(30)\n",
    "viet_bifd = pd.DataFrame.from_dict(viet_bifreqdist)\n",
    "viet_bifd.rename(columns={0: 'bigram', 1: 'count'}, inplace=True)\n",
    "viet_bifd.plot(x=\"bigram\", y=\"count\", kind=\"bar\") "
   ]
  },
  {
   "cell_type": "code",
   "execution_count": 51,
   "id": "76bc694b-c0e1-4fc4-bc14-48926e824957",
   "metadata": {},
   "outputs": [
    {
     "data": {
      "text/plain": [
       "<Axes: xlabel='trigram'>"
      ]
     },
     "execution_count": 51,
     "metadata": {},
     "output_type": "execute_result"
    },
    {
     "data": {
      "image/png": "[encoded data removed]",
      "text/plain": [
       "<Figure size 640x480 with 1 Axes>"
      ]
     },
     "metadata": {},
     "output_type": "display_data"
    }
   ],
   "source": [
    "viet_trifreqdist = nltk.FreqDist(viet_tri).most_common(30)\n",
    "viet_trifd = pd.DataFrame.from_dict(viet_trifreqdist)\n",
    "viet_trifd.rename(columns={0: 'trigram', 1: 'count'}, inplace=True)\n",
    "viet_trifd.plot(x=\"trigram\", y=\"count\", kind=\"bar\") "
   ]
  },
  {
   "cell_type": "code",
   "execution_count": null,
   "id": "c26868fc-4251-4d86-b49b-70f83e97f84f",
   "metadata": {},
   "outputs": [],
   "source": [
    "#todo: do it with relative frequency out of the whole dataset"
   ]
  }
 ],
 "metadata": {
  "kernelspec": {
   "display_name": "Python 3 (ipykernel)",
   "language": "python",
   "name": "python3"
  },
  "language_info": {
   "codemirror_mode": {
    "name": "ipython",
    "version": 3
   },
   "file_extension": ".py",
   "mimetype": "text/x-python",
   "name": "python",
   "nbconvert_exporter": "python",
   "pygments_lexer": "ipython3",
   "version": "3.9.13"
  },
  "vscode": {
   "interpreter": {
    "hash": "aee8b7b246df8f9039afb4144a1f6fd8d2ca17a180786b69acc140d282b71a49"
   }
  }
 },
 "nbformat": 4,
 "nbformat_minor": 5
}
