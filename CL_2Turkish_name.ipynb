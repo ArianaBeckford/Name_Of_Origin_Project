{
 "cells": [
  {
   "cell_type": "code",
   "execution_count": 1,
   "metadata": {},
   "outputs": [],
   "source": [
    "import pandas as pd\n",
    "from nltk.util import ngrams\n",
    "\n",
    "import numpy as np\n",
    "import os \n",
    "import unicodedata"
   ]
  },
  {
   "cell_type": "code",
   "execution_count": 2,
   "metadata": {},
   "outputs": [
    {
     "name": "stdout",
     "output_type": "stream",
     "text": [
      "                                            id                      label_tr  \\\n",
      "0       http://www.wikidata.org/entity/Q282782                          Ceza   \n",
      "1       http://www.wikidata.org/entity/Q288019                        Gülşen   \n",
      "2       http://www.wikidata.org/entity/Q236047                        Hadise   \n",
      "3       http://www.wikidata.org/entity/Q236920                         Emrah   \n",
      "4       http://www.wikidata.org/entity/Q182948                        Göksel   \n",
      "...                                        ...                           ...   \n",
      "18769  http://www.wikidata.org/entity/Q6053953     Elif Nur Bozkurt Tandoğan   \n",
      "18770  http://www.wikidata.org/entity/Q6085044    Muhammed Ali Fatih Erbakan   \n",
      "18771  http://www.wikidata.org/entity/Q6041731      İsmail Hamit Özer Derbil   \n",
      "18772  http://www.wikidata.org/entity/Q6071196        Vedat Ali Özkan Kayacı   \n",
      "18773     http://www.wikidata.org/entity/Q5031  Elder Paisios of Mount Athos   \n",
      "\n",
      "      comment          Given name Middle Name Family name Maiden Name  \\\n",
      "0           x                 NaN         NaN         NaN         NaN   \n",
      "1           x                 NaN         NaN         NaN         NaN   \n",
      "2           x                 NaN         NaN         NaN         NaN   \n",
      "3           x                 NaN         NaN         NaN         NaN   \n",
      "4           x                 NaN         NaN         NaN         NaN   \n",
      "...       ...                 ...         ...         ...         ...   \n",
      "18769     NaN   Elif Nur Bozkurt          NaN    Tandoğan         NaN   \n",
      "18770     NaN  Muhammed Ali Fatih         NaN     Erbakan         NaN   \n",
      "18771       x                 NaN         NaN         NaN         NaN   \n",
      "18772     NaN     Vedat Ali Özkan         NaN      Kayacı         NaN   \n",
      "18773       x                 NaN         NaN         NaN         NaN   \n",
      "\n",
      "       Unnamed: 7  \n",
      "0               1  \n",
      "1               1  \n",
      "2               1  \n",
      "3               1  \n",
      "4               1  \n",
      "...           ...  \n",
      "18769           4  \n",
      "18770           4  \n",
      "18771           4  \n",
      "18772           4  \n",
      "18773           5  \n",
      "\n",
      "[18774 rows x 8 columns]\n"
     ]
    }
   ],
   "source": [
    "# Reading in the Turkish nams \n",
    "df_turk  =  pd.read_excel('name_data/exigerData/EXGR_Turkish names2.xlsx')\n",
    "print(df_turk)"
   ]
  },
  {
   "cell_type": "code",
   "execution_count": 3,
   "metadata": {},
   "outputs": [
    {
     "data": {
      "text/plain": [
       "(18774, 8)"
      ]
     },
     "execution_count": 3,
     "metadata": {},
     "output_type": "execute_result"
    }
   ],
   "source": [
    "#printing out the shape \n",
    "df_turk.shape"
   ]
  },
  {
   "cell_type": "code",
   "execution_count": 4,
   "metadata": {},
   "outputs": [
    {
     "data": {
      "text/html": [
       "<div>\n",
       "<style scoped>\n",
       "    .dataframe tbody tr th:only-of-type {\n",
       "        vertical-align: middle;\n",
       "    }\n",
       "\n",
       "    .dataframe tbody tr th {\n",
       "        vertical-align: top;\n",
       "    }\n",
       "\n",
       "    .dataframe thead th {\n",
       "        text-align: right;\n",
       "    }\n",
       "</style>\n",
       "<table border=\"1\" class=\"dataframe\">\n",
       "  <thead>\n",
       "    <tr style=\"text-align: right;\">\n",
       "      <th></th>\n",
       "      <th>id</th>\n",
       "      <th>label_tr</th>\n",
       "      <th>comment</th>\n",
       "      <th>Given name</th>\n",
       "      <th>Middle Name</th>\n",
       "      <th>Family name</th>\n",
       "      <th>Maiden Name</th>\n",
       "      <th>Unnamed: 7</th>\n",
       "    </tr>\n",
       "  </thead>\n",
       "  <tbody>\n",
       "    <tr>\n",
       "      <th>0</th>\n",
       "      <td>http://www.wikidata.org/entity/Q282782</td>\n",
       "      <td>Ceza</td>\n",
       "      <td>x</td>\n",
       "      <td>NaN</td>\n",
       "      <td>NaN</td>\n",
       "      <td>NaN</td>\n",
       "      <td>NaN</td>\n",
       "      <td>1</td>\n",
       "    </tr>\n",
       "    <tr>\n",
       "      <th>1</th>\n",
       "      <td>http://www.wikidata.org/entity/Q288019</td>\n",
       "      <td>Gülşen</td>\n",
       "      <td>x</td>\n",
       "      <td>NaN</td>\n",
       "      <td>NaN</td>\n",
       "      <td>NaN</td>\n",
       "      <td>NaN</td>\n",
       "      <td>1</td>\n",
       "    </tr>\n",
       "    <tr>\n",
       "      <th>2</th>\n",
       "      <td>http://www.wikidata.org/entity/Q236047</td>\n",
       "      <td>Hadise</td>\n",
       "      <td>x</td>\n",
       "      <td>NaN</td>\n",
       "      <td>NaN</td>\n",
       "      <td>NaN</td>\n",
       "      <td>NaN</td>\n",
       "      <td>1</td>\n",
       "    </tr>\n",
       "    <tr>\n",
       "      <th>3</th>\n",
       "      <td>http://www.wikidata.org/entity/Q236920</td>\n",
       "      <td>Emrah</td>\n",
       "      <td>x</td>\n",
       "      <td>NaN</td>\n",
       "      <td>NaN</td>\n",
       "      <td>NaN</td>\n",
       "      <td>NaN</td>\n",
       "      <td>1</td>\n",
       "    </tr>\n",
       "    <tr>\n",
       "      <th>4</th>\n",
       "      <td>http://www.wikidata.org/entity/Q182948</td>\n",
       "      <td>Göksel</td>\n",
       "      <td>x</td>\n",
       "      <td>NaN</td>\n",
       "      <td>NaN</td>\n",
       "      <td>NaN</td>\n",
       "      <td>NaN</td>\n",
       "      <td>1</td>\n",
       "    </tr>\n",
       "  </tbody>\n",
       "</table>\n",
       "</div>"
      ],
      "text/plain": [
       "                                       id label_tr comment Given name  \\\n",
       "0  http://www.wikidata.org/entity/Q282782     Ceza       x        NaN   \n",
       "1  http://www.wikidata.org/entity/Q288019   Gülşen       x        NaN   \n",
       "2  http://www.wikidata.org/entity/Q236047   Hadise       x        NaN   \n",
       "3  http://www.wikidata.org/entity/Q236920    Emrah       x        NaN   \n",
       "4  http://www.wikidata.org/entity/Q182948   Göksel       x        NaN   \n",
       "\n",
       "  Middle Name Family name Maiden Name  Unnamed: 7  \n",
       "0         NaN         NaN         NaN           1  \n",
       "1         NaN         NaN         NaN           1  \n",
       "2         NaN         NaN         NaN           1  \n",
       "3         NaN         NaN         NaN           1  \n",
       "4         NaN         NaN         NaN           1  "
      ]
     },
     "execution_count": 4,
     "metadata": {},
     "output_type": "execute_result"
    }
   ],
   "source": [
    "#Printing out the head\n",
    "df_turk.head()"
   ]
  },
  {
   "cell_type": "code",
   "execution_count": 5,
   "metadata": {},
   "outputs": [
    {
     "data": {
      "text/plain": [
       "True"
      ]
     },
     "execution_count": 5,
     "metadata": {},
     "output_type": "execute_result"
    }
   ],
   "source": [
    "#checking if there is any null entries in the datasets\n",
    "df_turk.isnull().values.any()"
   ]
  },
  {
   "cell_type": "code",
   "execution_count": 6,
   "metadata": {},
   "outputs": [
    {
     "data": {
      "text/plain": [
       "0          x\n",
       "1          x\n",
       "2          x\n",
       "3          x\n",
       "4          x\n",
       "        ... \n",
       "18769    NaN\n",
       "18770    NaN\n",
       "18771      x\n",
       "18772    NaN\n",
       "18773      x\n",
       "Name: comment, Length: 18774, dtype: object"
      ]
     },
     "execution_count": 6,
     "metadata": {},
     "output_type": "execute_result"
    }
   ],
   "source": [
    "# checking what's in the comment columns\n",
    "df_turk['comment']"
   ]
  },
  {
   "cell_type": "code",
   "execution_count": 7,
   "metadata": {},
   "outputs": [
    {
     "data": {
      "text/html": [
       "<div>\n",
       "<style scoped>\n",
       "    .dataframe tbody tr th:only-of-type {\n",
       "        vertical-align: middle;\n",
       "    }\n",
       "\n",
       "    .dataframe tbody tr th {\n",
       "        vertical-align: top;\n",
       "    }\n",
       "\n",
       "    .dataframe thead th {\n",
       "        text-align: right;\n",
       "    }\n",
       "</style>\n",
       "<table border=\"1\" class=\"dataframe\">\n",
       "  <thead>\n",
       "    <tr style=\"text-align: right;\">\n",
       "      <th></th>\n",
       "      <th>id</th>\n",
       "      <th>label_tr</th>\n",
       "      <th>comment</th>\n",
       "      <th>Given name</th>\n",
       "      <th>Middle Name</th>\n",
       "      <th>Family name</th>\n",
       "      <th>Maiden Name</th>\n",
       "      <th>Unnamed: 7</th>\n",
       "    </tr>\n",
       "  </thead>\n",
       "  <tbody>\n",
       "    <tr>\n",
       "      <th>0</th>\n",
       "      <td>False</td>\n",
       "      <td>False</td>\n",
       "      <td>False</td>\n",
       "      <td>True</td>\n",
       "      <td>True</td>\n",
       "      <td>True</td>\n",
       "      <td>True</td>\n",
       "      <td>False</td>\n",
       "    </tr>\n",
       "    <tr>\n",
       "      <th>1</th>\n",
       "      <td>False</td>\n",
       "      <td>False</td>\n",
       "      <td>False</td>\n",
       "      <td>True</td>\n",
       "      <td>True</td>\n",
       "      <td>True</td>\n",
       "      <td>True</td>\n",
       "      <td>False</td>\n",
       "    </tr>\n",
       "    <tr>\n",
       "      <th>2</th>\n",
       "      <td>False</td>\n",
       "      <td>False</td>\n",
       "      <td>False</td>\n",
       "      <td>True</td>\n",
       "      <td>True</td>\n",
       "      <td>True</td>\n",
       "      <td>True</td>\n",
       "      <td>False</td>\n",
       "    </tr>\n",
       "    <tr>\n",
       "      <th>3</th>\n",
       "      <td>False</td>\n",
       "      <td>False</td>\n",
       "      <td>False</td>\n",
       "      <td>True</td>\n",
       "      <td>True</td>\n",
       "      <td>True</td>\n",
       "      <td>True</td>\n",
       "      <td>False</td>\n",
       "    </tr>\n",
       "    <tr>\n",
       "      <th>4</th>\n",
       "      <td>False</td>\n",
       "      <td>False</td>\n",
       "      <td>False</td>\n",
       "      <td>True</td>\n",
       "      <td>True</td>\n",
       "      <td>True</td>\n",
       "      <td>True</td>\n",
       "      <td>False</td>\n",
       "    </tr>\n",
       "  </tbody>\n",
       "</table>\n",
       "</div>"
      ],
      "text/plain": [
       "      id  label_tr  comment  Given name  Middle Name  Family name  \\\n",
       "0  False     False    False        True         True         True   \n",
       "1  False     False    False        True         True         True   \n",
       "2  False     False    False        True         True         True   \n",
       "3  False     False    False        True         True         True   \n",
       "4  False     False    False        True         True         True   \n",
       "\n",
       "   Maiden Name  Unnamed: 7  \n",
       "0         True       False  \n",
       "1         True       False  \n",
       "2         True       False  \n",
       "3         True       False  \n",
       "4         True       False  "
      ]
     },
     "execution_count": 7,
     "metadata": {},
     "output_type": "execute_result"
    }
   ],
   "source": [
    "df_turk.isnull().head()"
   ]
  },
  {
   "cell_type": "code",
   "execution_count": 8,
   "metadata": {},
   "outputs": [
    {
     "data": {
      "text/plain": [
       "id                 0\n",
       "label_tr           0\n",
       "comment        18318\n",
       "Given name       455\n",
       "Middle Name    18772\n",
       "Family name      459\n",
       "Maiden Name    18763\n",
       "Unnamed: 7         0\n",
       "dtype: int64"
      ]
     },
     "execution_count": 8,
     "metadata": {},
     "output_type": "execute_result"
    }
   ],
   "source": [
    "#checking how many null entries each columns have \n",
    "nan_count = np.sum(df_turk.isnull(), axis = 0)\n",
    "nan_count"
   ]
  },
  {
   "cell_type": "code",
   "execution_count": 9,
   "metadata": {},
   "outputs": [
    {
     "data": {
      "text/plain": [
       "True"
      ]
     },
     "execution_count": 9,
     "metadata": {},
     "output_type": "execute_result"
    }
   ],
   "source": [
    "# checking if the datasets have any duplicates \n",
    "df_turk['label_tr'].duplicated().any()"
   ]
  },
  {
   "cell_type": "code",
   "execution_count": 10,
   "metadata": {},
   "outputs": [
    {
     "data": {
      "text/plain": [
       "False"
      ]
     },
     "execution_count": 10,
     "metadata": {},
     "output_type": "execute_result"
    }
   ],
   "source": [
    "#check if there is any null entries \n",
    "np.any(df_turk['label_tr'].isnull())"
   ]
  },
  {
   "cell_type": "code",
   "execution_count": 12,
   "metadata": {},
   "outputs": [
    {
     "data": {
      "text/plain": [
       "(18774, 8)"
      ]
     },
     "execution_count": 12,
     "metadata": {},
     "output_type": "execute_result"
    }
   ],
   "source": [
    "#just checking the shape before dropping dupliates (18774,8)\n",
    "df_turk.shape"
   ]
  },
  {
   "cell_type": "code",
   "execution_count": 13,
   "metadata": {},
   "outputs": [
    {
     "name": "stdout",
     "output_type": "stream",
     "text": [
      "                                            id                      label_tr  \\\n",
      "0       http://www.wikidata.org/entity/Q282782                          Ceza   \n",
      "1       http://www.wikidata.org/entity/Q288019                        Gülşen   \n",
      "2       http://www.wikidata.org/entity/Q236047                        Hadise   \n",
      "3       http://www.wikidata.org/entity/Q236920                         Emrah   \n",
      "4       http://www.wikidata.org/entity/Q182948                        Göksel   \n",
      "...                                        ...                           ...   \n",
      "18769  http://www.wikidata.org/entity/Q6053953     Elif Nur Bozkurt Tandoğan   \n",
      "18770  http://www.wikidata.org/entity/Q6085044    Muhammed Ali Fatih Erbakan   \n",
      "18771  http://www.wikidata.org/entity/Q6041731      İsmail Hamit Özer Derbil   \n",
      "18772  http://www.wikidata.org/entity/Q6071196        Vedat Ali Özkan Kayacı   \n",
      "18773     http://www.wikidata.org/entity/Q5031  Elder Paisios of Mount Athos   \n",
      "\n",
      "      comment          Given name Middle Name Family name Maiden Name  \\\n",
      "0           x                 NaN         NaN         NaN         NaN   \n",
      "1           x                 NaN         NaN         NaN         NaN   \n",
      "2           x                 NaN         NaN         NaN         NaN   \n",
      "3           x                 NaN         NaN         NaN         NaN   \n",
      "4           x                 NaN         NaN         NaN         NaN   \n",
      "...       ...                 ...         ...         ...         ...   \n",
      "18769     NaN   Elif Nur Bozkurt          NaN    Tandoğan         NaN   \n",
      "18770     NaN  Muhammed Ali Fatih         NaN     Erbakan         NaN   \n",
      "18771       x                 NaN         NaN         NaN         NaN   \n",
      "18772     NaN     Vedat Ali Özkan         NaN      Kayacı         NaN   \n",
      "18773       x                 NaN         NaN         NaN         NaN   \n",
      "\n",
      "       Unnamed: 7  \n",
      "0               1  \n",
      "1               1  \n",
      "2               1  \n",
      "3               1  \n",
      "4               1  \n",
      "...           ...  \n",
      "18769           4  \n",
      "18770           4  \n",
      "18771           4  \n",
      "18772           4  \n",
      "18773           5  \n",
      "\n",
      "[18491 rows x 8 columns]\n"
     ]
    }
   ],
   "source": [
    "#Dropping the duplicates(place in a new variable)\n",
    "df2_turk = df_turk.drop_duplicates(subset=['label_tr'])\n",
    "print(df2_turk)"
   ]
  },
  {
   "cell_type": "code",
   "execution_count": 14,
   "metadata": {},
   "outputs": [
    {
     "data": {
      "text/plain": [
       "False"
      ]
     },
     "execution_count": 14,
     "metadata": {},
     "output_type": "execute_result"
    }
   ],
   "source": [
    "#checking if there are still duplicates\n",
    "df2_turk['label_tr'].duplicated().any()\n"
   ]
  },
  {
   "cell_type": "code",
   "execution_count": 15,
   "metadata": {},
   "outputs": [
    {
     "data": {
      "text/plain": [
       "(18491, 8)"
      ]
     },
     "execution_count": 15,
     "metadata": {},
     "output_type": "execute_result"
    }
   ],
   "source": [
    "#Just checking if th shape went down(which it did (18774,8) to (18491,8))\n",
    "df2_turk.shape"
   ]
  },
  {
   "cell_type": "code",
   "execution_count": 16,
   "metadata": {},
   "outputs": [
    {
     "data": {
      "text/plain": [
       "id                 0\n",
       "label_tr           0\n",
       "comment        18037\n",
       "Given name       453\n",
       "Middle Name    18489\n",
       "Family name      457\n",
       "Maiden Name    18480\n",
       "Unnamed: 7         0\n",
       "dtype: int64"
      ]
     },
     "execution_count": 16,
     "metadata": {},
     "output_type": "execute_result"
    }
   ],
   "source": [
    "# checking if the null values went down (it did) \n",
    "nan_count = np.sum(df2_turk.isnull(), axis = 0)\n",
    "nan_count"
   ]
  },
  {
   "cell_type": "code",
   "execution_count": 17,
   "metadata": {},
   "outputs": [
    {
     "name": "stdout",
     "output_type": "stream",
     "text": [
      "['comment', 'Given name', 'Middle Name', 'Family name', 'Maiden Name']\n"
     ]
    }
   ],
   "source": [
    "#printing the col_names with null values\n",
    "condition = nan_count != 0\n",
    "col_names = nan_count[condition].index\n",
    "nan_cols = list(col_names)\n",
    "print(nan_cols)"
   ]
  },
  {
   "cell_type": "code",
   "execution_count": 18,
   "metadata": {},
   "outputs": [
    {
     "name": "stdout",
     "output_type": "stream",
     "text": [
      "['x' nan]\n",
      "[nan 'Melahat' 'Freddy' ... 'Elif Nur Bozkurt ' 'Muhammed Ali Fatih'\n",
      " 'Vedat Ali Özkan']\n",
      "[nan 'Sahin' 'Kemal']\n",
      "[nan 'Abbasova' 'Scholl' ... 'Kapıcıoğlu' 'Ali Marandi' 'Bektur']\n",
      "[nan 'Önder' 'Kafaoğlu' 'Türker' 'Doğan' 'Karahan' 'Sabancı' 'Ekşi' 'İnan'\n",
      " 'Tosun' 'Sayan']\n"
     ]
    }
   ],
   "source": [
    "print(df2_turk['comment'].unique())\n",
    "print(df2_turk['Given name'].unique())\n",
    "print(df2_turk['Middle Name'].unique())\n",
    "print(df2_turk['Family name'].unique())\n",
    "print(df2_turk['Maiden Name'].unique())"
   ]
  },
  {
   "cell_type": "code",
   "execution_count": 19,
   "metadata": {},
   "outputs": [
    {
     "name": "stdout",
     "output_type": "stream",
     "text": [
      "                                             id                    label_tr  \\\n",
      "125     http://www.wikidata.org/entity/Q3508136            Melahat Abbasova   \n",
      "126       http://www.wikidata.org/entity/Q96602         Freddy Sahin-Scholl   \n",
      "127      http://www.wikidata.org/entity/Q217097             Richard Kingson   \n",
      "129      http://www.wikidata.org/entity/Q110126                  Hrant Dink   \n",
      "130       http://www.wikidata.org/entity/Q42079               Ricky Winslow   \n",
      "...                                         ...                         ...   \n",
      "18764  http://www.wikidata.org/entity/Q49703809   Nil İpek Hülagü Öztürkmen   \n",
      "18765  http://www.wikidata.org/entity/Q24230049      Fatma Betül Sayan Kaya   \n",
      "18769   http://www.wikidata.org/entity/Q6053953   Elif Nur Bozkurt Tandoğan   \n",
      "18770   http://www.wikidata.org/entity/Q6085044  Muhammed Ali Fatih Erbakan   \n",
      "18772   http://www.wikidata.org/entity/Q6071196      Vedat Ali Özkan Kayacı   \n",
      "\n",
      "      comment          Given name Middle Name Family name Maiden Name  \\\n",
      "125       NaN             Melahat         NaN    Abbasova         NaN   \n",
      "126       NaN              Freddy       Sahin      Scholl         NaN   \n",
      "127       NaN             Richard         NaN     Kingson         NaN   \n",
      "129       NaN               Hrant         NaN        Dink         NaN   \n",
      "130       NaN               Ricky         NaN     Winslow         NaN   \n",
      "...       ...                 ...         ...         ...         ...   \n",
      "18764     NaN     Nil İpek Hülagü         NaN   Öztürkmen         NaN   \n",
      "18765     NaN         Fatma Betül         NaN        Kaya       Sayan   \n",
      "18769     NaN   Elif Nur Bozkurt          NaN    Tandoğan         NaN   \n",
      "18770     NaN  Muhammed Ali Fatih         NaN     Erbakan         NaN   \n",
      "18772     NaN     Vedat Ali Özkan         NaN      Kayacı         NaN   \n",
      "\n",
      "       Unnamed: 7  \n",
      "125             2  \n",
      "126             2  \n",
      "127             2  \n",
      "129             2  \n",
      "130             2  \n",
      "...           ...  \n",
      "18764           4  \n",
      "18765           4  \n",
      "18769           4  \n",
      "18770           4  \n",
      "18772           4  \n",
      "\n",
      "[18037 rows x 8 columns]\n"
     ]
    }
   ],
   "source": [
    "# drop comments row with x \n",
    "comments_drop_with_x =  df2_turk['comment'] == 'x'\n",
    "df2_turk = df2_turk.drop(df2_turk[df2_turk['comment'] == 'x'].index)\n",
    "print(df2_turk)\n",
    "#print(comments_drop)\n",
    "#df2_turk['comment']"
   ]
  },
  {
   "cell_type": "code",
   "execution_count": 20,
   "metadata": {},
   "outputs": [
    {
     "data": {
      "text/plain": [
       "(18037, 8)"
      ]
     },
     "execution_count": 20,
     "metadata": {},
     "output_type": "execute_result"
    }
   ],
   "source": [
    "#check the shape again( went form (18491,8) to (18037, 8))\n",
    "df2_turk.shape"
   ]
  },
  {
   "cell_type": "code",
   "execution_count": 21,
   "metadata": {},
   "outputs": [
    {
     "data": {
      "text/plain": [
       "id                 0\n",
       "label_tr           0\n",
       "comment        18037\n",
       "Given name         0\n",
       "Middle Name    18035\n",
       "Family name        4\n",
       "Maiden Name    18026\n",
       "Unnamed: 7         0\n",
       "dtype: int64"
      ]
     },
     "execution_count": 21,
     "metadata": {},
     "output_type": "execute_result"
    }
   ],
   "source": [
    "nan_count = np.sum(df2_turk.isnull(), axis = 0)\n",
    "nan_count"
   ]
  },
  {
   "cell_type": "code",
   "execution_count": 22,
   "metadata": {},
   "outputs": [
    {
     "name": "stdout",
     "output_type": "stream",
     "text": [
      "30\n"
     ]
    },
    {
     "data": {
      "text/plain": [
       "['Freddy Sahin-Scholl',\n",
       " 'Perihan Önder-Ridder',\n",
       " 'Erhan-Can Kartal',\n",
       " 'Ali-Özgür Özdil',\n",
       " 'Mehmet Aga-Oglu',\n",
       " 'Ahmed Agha-Oghlu',\n",
       " 'Hatice Aksoy-Woinek',\n",
       " 'Bugha al-Sharabi',\n",
       " 'Iffat Al-Thunayan',\n",
       " \"Nev'îzâde Atâyî\",\n",
       " 'Üstün Bilgen-Reinart',\n",
       " 'Mehpare Bozyigit-Kirchmann',\n",
       " 'Elif Çağlar-Muslu',\n",
       " \"Cem'i Demiroğlu\",\n",
       " \"Neş'e Erdok\",\n",
       " 'Asuman Kafaoğlu-Büke',\n",
       " 'Elçin Kürşat-Ahlers',\n",
       " 'Gönül Sen-Menzel',\n",
       " 'Tülay Sözbir-Seidel',\n",
       " \"Gaybi Sun'ullah\",\n",
       " 'Ayshe Talay-Ongan',\n",
       " 'Sevgi Türker-Terlemez',\n",
       " \"Mümtaz'er Türköne\",\n",
       " 'Sabiha Bânu Yalkut-Breddermann',\n",
       " \"Temel Nücûm'i Göksel\",\n",
       " 'Molla Ahmed-i Cezirî',\n",
       " \"Dipika O'Neill Joti\",\n",
       " \"Abdurrahman Necati Kara'a\",\n",
       " 'Kerimüddin Mahmud-i Aksarayî',\n",
       " 'Salah al-Din Zarkub']"
      ]
     },
     "execution_count": 22,
     "metadata": {},
     "output_type": "execute_result"
    }
   ],
   "source": [
    "non_alnum_names_turk = [name for name in df2_turk['label_tr'] if not str.isalnum(name.replace(' ', ''))]\n",
    "print(len(non_alnum_names_turk))\n",
    "non_alnum_names_turk"
   ]
  },
  {
   "cell_type": "code",
   "execution_count": 23,
   "metadata": {},
   "outputs": [],
   "source": [
    "#drop extra column we don't need \n",
    "df2_turk = df2_turk.drop(columns = ['Unnamed: 7'])"
   ]
  },
  {
   "cell_type": "code",
   "execution_count": 24,
   "metadata": {},
   "outputs": [
    {
     "data": {
      "text/plain": [
       "id                 0\n",
       "label_tr           0\n",
       "comment        18037\n",
       "Given name         0\n",
       "Middle Name    18035\n",
       "Family name        4\n",
       "Maiden Name    18026\n",
       "dtype: int64"
      ]
     },
     "execution_count": 24,
     "metadata": {},
     "output_type": "execute_result"
    }
   ],
   "source": [
    "nan_count = np.sum(df2_turk.isnull(), axis = 0)\n",
    "nan_count"
   ]
  },
  {
   "cell_type": "code",
   "execution_count": 26,
   "metadata": {},
   "outputs": [
    {
     "name": "stdout",
     "output_type": "stream",
     "text": [
      "Index(['id', 'label_tr', 'comment', 'Given name', 'Middle Name', 'Family name',\n",
      "       'Maiden Name'],\n",
      "      dtype='object')\n"
     ]
    }
   ],
   "source": [
    "#Drop columns that won't be used in df2\n",
    "print(df2_turk.columns)\n",
    "df2_turk = df2_turk.drop(columns= [ 'comment', 'Given name', 'Middle Name', 'Family name',\n",
    "       'Maiden Name'])\n"
   ]
  },
  {
   "attachments": {},
   "cell_type": "markdown",
   "metadata": {},
   "source": [
    "Now For Feature Engineering "
   ]
  },
  {
   "cell_type": "code",
   "execution_count": 30,
   "metadata": {},
   "outputs": [],
   "source": [
    "#creating features to determine the alphabet\n",
    "determine_alphabet = [unicodedata.name(name[0]).split(' ')[0] for name in df2_turk['label_tr']]\n",
    "#df2_turk['determine_alphabet'] = df2_turk['label_tr'].apply(lambda name: unicodedata.name(name[0]).split(' ')[0])\n",
    "df2_turk['determine_alphabet'] = determine_alphabet\n"
   ]
  },
  {
   "cell_type": "code",
   "execution_count": 31,
   "metadata": {},
   "outputs": [
    {
     "name": "stdout",
     "output_type": "stream",
     "text": [
      "125      LATIN\n",
      "126      LATIN\n",
      "127      LATIN\n",
      "129      LATIN\n",
      "130      LATIN\n",
      "         ...  \n",
      "18764    LATIN\n",
      "18765    LATIN\n",
      "18769    LATIN\n",
      "18770    LATIN\n",
      "18772    LATIN\n",
      "Name: determine_alphabet, Length: 18037, dtype: object\n"
     ]
    }
   ],
   "source": [
    "print(df2_turk['determine_alphabet'])"
   ]
  },
  {
   "cell_type": "code",
   "execution_count": 34,
   "metadata": {},
   "outputs": [],
   "source": [
    "#char grams\n",
    "def get_ngrams(text, n):\n",
    "    if isinstance(text,str):\n",
    "        name = list(text)\n",
    "    ngrams_list =  list(ngrams(list(text), n))\n",
    "    return ngrams_list\n",
    "\n",
    "df2_turk[\"unigrams\"] = df2_turk['label_tr'].apply(lambda name: list(name) if isinstance(name, str) else [])\n",
    "df2_turk[\"bigrams\"] = df2_turk['label_tr'].apply(lambda name: get_ngrams(name,2) if isinstance(name, str) else [])\n",
    "df2_turk[\"trigrams\"] = df2_turk['label_tr'].apply(lambda name: get_ngrams(name,3) if isinstance(name, str) else [])\n",
    "\n",
    "df2_turk['char_ngrams'] = df2_turk[\"unigrams\"] + df2_turk[\"bigrams\"] + df2_turk[\"trigrams\"]"
   ]
  },
  {
   "cell_type": "code",
   "execution_count": 35,
   "metadata": {},
   "outputs": [
    {
     "name": "stdout",
     "output_type": "stream",
     "text": [
      "125      [M, e, l, a, h, a, t,  , A, b, b, a, s, o, v, ...\n",
      "126      [F, r, e, d, d, y,  , S, a, h, i, n, -, S, c, ...\n",
      "127      [R, i, c, h, a, r, d,  , K, i, n, g, s, o, n, ...\n",
      "129      [H, r, a, n, t,  , D, i, n, k, (H, r), (r, a),...\n",
      "130      [R, i, c, k, y,  , W, i, n, s, l, o, w, (R, i)...\n",
      "                               ...                        \n",
      "18764    [N, i, l,  , İ, p, e, k,  , H, ü, l, a, g, ü, ...\n",
      "18765    [F, a, t, m, a,  , B, e, t, ü, l,  , S, a, y, ...\n",
      "18769    [E, l, i, f,  , N, u, r,  , B, o, z, k, u, r, ...\n",
      "18770    [M, u, h, a, m, m, e, d,  , A, l, i,  , F, a, ...\n",
      "18772    [V, e, d, a, t,  , A, l, i,  , Ö, z, k, a, n, ...\n",
      "Name: char_ngrams, Length: 18037, dtype: object\n"
     ]
    }
   ],
   "source": [
    "print(df2_turk['char_ngrams'])"
   ]
  },
  {
   "cell_type": "code",
   "execution_count": 36,
   "metadata": {},
   "outputs": [],
   "source": [
    "# feature to check the name length\n",
    "def name_length(name):\n",
    "    return len(name.replace(' ', ''))\n",
    "\n",
    "df2_turk['name_len'] = df2_turk['label_tr'].apply(name_length)"
   ]
  },
  {
   "cell_type": "code",
   "execution_count": 37,
   "metadata": {},
   "outputs": [
    {
     "name": "stdout",
     "output_type": "stream",
     "text": [
      "125      15\n",
      "126      18\n",
      "127      14\n",
      "129       9\n",
      "130      12\n",
      "         ..\n",
      "18764    22\n",
      "18765    19\n",
      "18769    22\n",
      "18770    23\n",
      "18772    19\n",
      "Name: name_len, Length: 18037, dtype: int64\n"
     ]
    }
   ],
   "source": [
    "print(df2_turk['name_len'])"
   ]
  },
  {
   "cell_type": "code",
   "execution_count": 38,
   "metadata": {},
   "outputs": [],
   "source": [
    "# feature to check the name length\n",
    "def token_length(name):\n",
    "    return len(name.split())\n",
    "\n",
    "df2_turk['token_len'] = df2_turk['label_tr'].apply(token_length)"
   ]
  },
  {
   "cell_type": "code",
   "execution_count": 39,
   "metadata": {},
   "outputs": [
    {
     "name": "stdout",
     "output_type": "stream",
     "text": [
      "125      2\n",
      "126      2\n",
      "127      2\n",
      "129      2\n",
      "130      2\n",
      "        ..\n",
      "18764    4\n",
      "18765    4\n",
      "18769    4\n",
      "18770    4\n",
      "18772    4\n",
      "Name: token_len, Length: 18037, dtype: int64\n"
     ]
    }
   ],
   "source": [
    "print(df2_turk['token_len'])\n"
   ]
  },
  {
   "cell_type": "code",
   "execution_count": 42,
   "metadata": {},
   "outputs": [],
   "source": [
    "df2_turk['period_freq'] = df2_turk['label_tr'].apply(lambda name: name.count('.'))\n",
    "df2_turk['dash_freq'] = df2_turk['label_tr'].apply(lambda name: name.count('-'))\n",
    "df2_turk['space_freq'] = df2_turk['label_tr'].apply(lambda name: name.count(' '))"
   ]
  },
  {
   "cell_type": "code",
   "execution_count": 43,
   "metadata": {},
   "outputs": [
    {
     "data": {
      "text/html": [
       "<div>\n",
       "<style scoped>\n",
       "    .dataframe tbody tr th:only-of-type {\n",
       "        vertical-align: middle;\n",
       "    }\n",
       "\n",
       "    .dataframe tbody tr th {\n",
       "        vertical-align: top;\n",
       "    }\n",
       "\n",
       "    .dataframe thead th {\n",
       "        text-align: right;\n",
       "    }\n",
       "</style>\n",
       "<table border=\"1\" class=\"dataframe\">\n",
       "  <thead>\n",
       "    <tr style=\"text-align: right;\">\n",
       "      <th></th>\n",
       "      <th>id</th>\n",
       "      <th>label_tr</th>\n",
       "      <th>determine_alphabet</th>\n",
       "      <th>unigrams</th>\n",
       "      <th>bigrams</th>\n",
       "      <th>trigrams</th>\n",
       "      <th>char_ngrams</th>\n",
       "      <th>name_len</th>\n",
       "      <th>token_len</th>\n",
       "      <th>period_freq</th>\n",
       "      <th>dash_freq</th>\n",
       "      <th>space_freq</th>\n",
       "    </tr>\n",
       "  </thead>\n",
       "  <tbody>\n",
       "    <tr>\n",
       "      <th>125</th>\n",
       "      <td>http://www.wikidata.org/entity/Q3508136</td>\n",
       "      <td>Melahat Abbasova</td>\n",
       "      <td>LATIN</td>\n",
       "      <td>[M, e, l, a, h, a, t,  , A, b, b, a, s, o, v, a]</td>\n",
       "      <td>[(M, e), (e, l), (l, a), (a, h), (h, a), (a, t...</td>\n",
       "      <td>[(M, e, l), (e, l, a), (l, a, h), (a, h, a), (...</td>\n",
       "      <td>[M, e, l, a, h, a, t,  , A, b, b, a, s, o, v, ...</td>\n",
       "      <td>15</td>\n",
       "      <td>2</td>\n",
       "      <td>0</td>\n",
       "      <td>0</td>\n",
       "      <td>1</td>\n",
       "    </tr>\n",
       "    <tr>\n",
       "      <th>126</th>\n",
       "      <td>http://www.wikidata.org/entity/Q96602</td>\n",
       "      <td>Freddy Sahin-Scholl</td>\n",
       "      <td>LATIN</td>\n",
       "      <td>[F, r, e, d, d, y,  , S, a, h, i, n, -, S, c, ...</td>\n",
       "      <td>[(F, r), (r, e), (e, d), (d, d), (d, y), (y,  ...</td>\n",
       "      <td>[(F, r, e), (r, e, d), (e, d, d), (d, d, y), (...</td>\n",
       "      <td>[F, r, e, d, d, y,  , S, a, h, i, n, -, S, c, ...</td>\n",
       "      <td>18</td>\n",
       "      <td>2</td>\n",
       "      <td>0</td>\n",
       "      <td>1</td>\n",
       "      <td>1</td>\n",
       "    </tr>\n",
       "    <tr>\n",
       "      <th>127</th>\n",
       "      <td>http://www.wikidata.org/entity/Q217097</td>\n",
       "      <td>Richard Kingson</td>\n",
       "      <td>LATIN</td>\n",
       "      <td>[R, i, c, h, a, r, d,  , K, i, n, g, s, o, n]</td>\n",
       "      <td>[(R, i), (i, c), (c, h), (h, a), (a, r), (r, d...</td>\n",
       "      <td>[(R, i, c), (i, c, h), (c, h, a), (h, a, r), (...</td>\n",
       "      <td>[R, i, c, h, a, r, d,  , K, i, n, g, s, o, n, ...</td>\n",
       "      <td>14</td>\n",
       "      <td>2</td>\n",
       "      <td>0</td>\n",
       "      <td>0</td>\n",
       "      <td>1</td>\n",
       "    </tr>\n",
       "    <tr>\n",
       "      <th>129</th>\n",
       "      <td>http://www.wikidata.org/entity/Q110126</td>\n",
       "      <td>Hrant Dink</td>\n",
       "      <td>LATIN</td>\n",
       "      <td>[H, r, a, n, t,  , D, i, n, k]</td>\n",
       "      <td>[(H, r), (r, a), (a, n), (n, t), (t,  ), ( , D...</td>\n",
       "      <td>[(H, r, a), (r, a, n), (a, n, t), (n, t,  ), (...</td>\n",
       "      <td>[H, r, a, n, t,  , D, i, n, k, (H, r), (r, a),...</td>\n",
       "      <td>9</td>\n",
       "      <td>2</td>\n",
       "      <td>0</td>\n",
       "      <td>0</td>\n",
       "      <td>1</td>\n",
       "    </tr>\n",
       "    <tr>\n",
       "      <th>130</th>\n",
       "      <td>http://www.wikidata.org/entity/Q42079</td>\n",
       "      <td>Ricky Winslow</td>\n",
       "      <td>LATIN</td>\n",
       "      <td>[R, i, c, k, y,  , W, i, n, s, l, o, w]</td>\n",
       "      <td>[(R, i), (i, c), (c, k), (k, y), (y,  ), ( , W...</td>\n",
       "      <td>[(R, i, c), (i, c, k), (c, k, y), (k, y,  ), (...</td>\n",
       "      <td>[R, i, c, k, y,  , W, i, n, s, l, o, w, (R, i)...</td>\n",
       "      <td>12</td>\n",
       "      <td>2</td>\n",
       "      <td>0</td>\n",
       "      <td>0</td>\n",
       "      <td>1</td>\n",
       "    </tr>\n",
       "    <tr>\n",
       "      <th>...</th>\n",
       "      <td>...</td>\n",
       "      <td>...</td>\n",
       "      <td>...</td>\n",
       "      <td>...</td>\n",
       "      <td>...</td>\n",
       "      <td>...</td>\n",
       "      <td>...</td>\n",
       "      <td>...</td>\n",
       "      <td>...</td>\n",
       "      <td>...</td>\n",
       "      <td>...</td>\n",
       "      <td>...</td>\n",
       "    </tr>\n",
       "    <tr>\n",
       "      <th>18764</th>\n",
       "      <td>http://www.wikidata.org/entity/Q49703809</td>\n",
       "      <td>Nil İpek Hülagü Öztürkmen</td>\n",
       "      <td>LATIN</td>\n",
       "      <td>[N, i, l,  , İ, p, e, k,  , H, ü, l, a, g, ü, ...</td>\n",
       "      <td>[(N, i), (i, l), (l,  ), ( , İ), (İ, p), (p, e...</td>\n",
       "      <td>[(N, i, l), (i, l,  ), (l,  , İ), ( , İ, p), (...</td>\n",
       "      <td>[N, i, l,  , İ, p, e, k,  , H, ü, l, a, g, ü, ...</td>\n",
       "      <td>22</td>\n",
       "      <td>4</td>\n",
       "      <td>0</td>\n",
       "      <td>0</td>\n",
       "      <td>3</td>\n",
       "    </tr>\n",
       "    <tr>\n",
       "      <th>18765</th>\n",
       "      <td>http://www.wikidata.org/entity/Q24230049</td>\n",
       "      <td>Fatma Betül Sayan Kaya</td>\n",
       "      <td>LATIN</td>\n",
       "      <td>[F, a, t, m, a,  , B, e, t, ü, l,  , S, a, y, ...</td>\n",
       "      <td>[(F, a), (a, t), (t, m), (m, a), (a,  ), ( , B...</td>\n",
       "      <td>[(F, a, t), (a, t, m), (t, m, a), (m, a,  ), (...</td>\n",
       "      <td>[F, a, t, m, a,  , B, e, t, ü, l,  , S, a, y, ...</td>\n",
       "      <td>19</td>\n",
       "      <td>4</td>\n",
       "      <td>0</td>\n",
       "      <td>0</td>\n",
       "      <td>3</td>\n",
       "    </tr>\n",
       "    <tr>\n",
       "      <th>18769</th>\n",
       "      <td>http://www.wikidata.org/entity/Q6053953</td>\n",
       "      <td>Elif Nur Bozkurt Tandoğan</td>\n",
       "      <td>LATIN</td>\n",
       "      <td>[E, l, i, f,  , N, u, r,  , B, o, z, k, u, r, ...</td>\n",
       "      <td>[(E, l), (l, i), (i, f), (f,  ), ( , N), (N, u...</td>\n",
       "      <td>[(E, l, i), (l, i, f), (i, f,  ), (f,  , N), (...</td>\n",
       "      <td>[E, l, i, f,  , N, u, r,  , B, o, z, k, u, r, ...</td>\n",
       "      <td>22</td>\n",
       "      <td>4</td>\n",
       "      <td>0</td>\n",
       "      <td>0</td>\n",
       "      <td>3</td>\n",
       "    </tr>\n",
       "    <tr>\n",
       "      <th>18770</th>\n",
       "      <td>http://www.wikidata.org/entity/Q6085044</td>\n",
       "      <td>Muhammed Ali Fatih Erbakan</td>\n",
       "      <td>LATIN</td>\n",
       "      <td>[M, u, h, a, m, m, e, d,  , A, l, i,  , F, a, ...</td>\n",
       "      <td>[(M, u), (u, h), (h, a), (a, m), (m, m), (m, e...</td>\n",
       "      <td>[(M, u, h), (u, h, a), (h, a, m), (a, m, m), (...</td>\n",
       "      <td>[M, u, h, a, m, m, e, d,  , A, l, i,  , F, a, ...</td>\n",
       "      <td>23</td>\n",
       "      <td>4</td>\n",
       "      <td>0</td>\n",
       "      <td>0</td>\n",
       "      <td>3</td>\n",
       "    </tr>\n",
       "    <tr>\n",
       "      <th>18772</th>\n",
       "      <td>http://www.wikidata.org/entity/Q6071196</td>\n",
       "      <td>Vedat Ali Özkan Kayacı</td>\n",
       "      <td>LATIN</td>\n",
       "      <td>[V, e, d, a, t,  , A, l, i,  , Ö, z, k, a, n, ...</td>\n",
       "      <td>[(V, e), (e, d), (d, a), (a, t), (t,  ), ( , A...</td>\n",
       "      <td>[(V, e, d), (e, d, a), (d, a, t), (a, t,  ), (...</td>\n",
       "      <td>[V, e, d, a, t,  , A, l, i,  , Ö, z, k, a, n, ...</td>\n",
       "      <td>19</td>\n",
       "      <td>4</td>\n",
       "      <td>0</td>\n",
       "      <td>0</td>\n",
       "      <td>3</td>\n",
       "    </tr>\n",
       "  </tbody>\n",
       "</table>\n",
       "<p>18037 rows × 12 columns</p>\n",
       "</div>"
      ],
      "text/plain": [
       "                                             id                    label_tr  \\\n",
       "125     http://www.wikidata.org/entity/Q3508136            Melahat Abbasova   \n",
       "126       http://www.wikidata.org/entity/Q96602         Freddy Sahin-Scholl   \n",
       "127      http://www.wikidata.org/entity/Q217097             Richard Kingson   \n",
       "129      http://www.wikidata.org/entity/Q110126                  Hrant Dink   \n",
       "130       http://www.wikidata.org/entity/Q42079               Ricky Winslow   \n",
       "...                                         ...                         ...   \n",
       "18764  http://www.wikidata.org/entity/Q49703809   Nil İpek Hülagü Öztürkmen   \n",
       "18765  http://www.wikidata.org/entity/Q24230049      Fatma Betül Sayan Kaya   \n",
       "18769   http://www.wikidata.org/entity/Q6053953   Elif Nur Bozkurt Tandoğan   \n",
       "18770   http://www.wikidata.org/entity/Q6085044  Muhammed Ali Fatih Erbakan   \n",
       "18772   http://www.wikidata.org/entity/Q6071196      Vedat Ali Özkan Kayacı   \n",
       "\n",
       "      determine_alphabet                                           unigrams  \\\n",
       "125                LATIN   [M, e, l, a, h, a, t,  , A, b, b, a, s, o, v, a]   \n",
       "126                LATIN  [F, r, e, d, d, y,  , S, a, h, i, n, -, S, c, ...   \n",
       "127                LATIN      [R, i, c, h, a, r, d,  , K, i, n, g, s, o, n]   \n",
       "129                LATIN                     [H, r, a, n, t,  , D, i, n, k]   \n",
       "130                LATIN            [R, i, c, k, y,  , W, i, n, s, l, o, w]   \n",
       "...                  ...                                                ...   \n",
       "18764              LATIN  [N, i, l,  , İ, p, e, k,  , H, ü, l, a, g, ü, ...   \n",
       "18765              LATIN  [F, a, t, m, a,  , B, e, t, ü, l,  , S, a, y, ...   \n",
       "18769              LATIN  [E, l, i, f,  , N, u, r,  , B, o, z, k, u, r, ...   \n",
       "18770              LATIN  [M, u, h, a, m, m, e, d,  , A, l, i,  , F, a, ...   \n",
       "18772              LATIN  [V, e, d, a, t,  , A, l, i,  , Ö, z, k, a, n, ...   \n",
       "\n",
       "                                                 bigrams  \\\n",
       "125    [(M, e), (e, l), (l, a), (a, h), (h, a), (a, t...   \n",
       "126    [(F, r), (r, e), (e, d), (d, d), (d, y), (y,  ...   \n",
       "127    [(R, i), (i, c), (c, h), (h, a), (a, r), (r, d...   \n",
       "129    [(H, r), (r, a), (a, n), (n, t), (t,  ), ( , D...   \n",
       "130    [(R, i), (i, c), (c, k), (k, y), (y,  ), ( , W...   \n",
       "...                                                  ...   \n",
       "18764  [(N, i), (i, l), (l,  ), ( , İ), (İ, p), (p, e...   \n",
       "18765  [(F, a), (a, t), (t, m), (m, a), (a,  ), ( , B...   \n",
       "18769  [(E, l), (l, i), (i, f), (f,  ), ( , N), (N, u...   \n",
       "18770  [(M, u), (u, h), (h, a), (a, m), (m, m), (m, e...   \n",
       "18772  [(V, e), (e, d), (d, a), (a, t), (t,  ), ( , A...   \n",
       "\n",
       "                                                trigrams  \\\n",
       "125    [(M, e, l), (e, l, a), (l, a, h), (a, h, a), (...   \n",
       "126    [(F, r, e), (r, e, d), (e, d, d), (d, d, y), (...   \n",
       "127    [(R, i, c), (i, c, h), (c, h, a), (h, a, r), (...   \n",
       "129    [(H, r, a), (r, a, n), (a, n, t), (n, t,  ), (...   \n",
       "130    [(R, i, c), (i, c, k), (c, k, y), (k, y,  ), (...   \n",
       "...                                                  ...   \n",
       "18764  [(N, i, l), (i, l,  ), (l,  , İ), ( , İ, p), (...   \n",
       "18765  [(F, a, t), (a, t, m), (t, m, a), (m, a,  ), (...   \n",
       "18769  [(E, l, i), (l, i, f), (i, f,  ), (f,  , N), (...   \n",
       "18770  [(M, u, h), (u, h, a), (h, a, m), (a, m, m), (...   \n",
       "18772  [(V, e, d), (e, d, a), (d, a, t), (a, t,  ), (...   \n",
       "\n",
       "                                             char_ngrams  name_len  token_len  \\\n",
       "125    [M, e, l, a, h, a, t,  , A, b, b, a, s, o, v, ...        15          2   \n",
       "126    [F, r, e, d, d, y,  , S, a, h, i, n, -, S, c, ...        18          2   \n",
       "127    [R, i, c, h, a, r, d,  , K, i, n, g, s, o, n, ...        14          2   \n",
       "129    [H, r, a, n, t,  , D, i, n, k, (H, r), (r, a),...         9          2   \n",
       "130    [R, i, c, k, y,  , W, i, n, s, l, o, w, (R, i)...        12          2   \n",
       "...                                                  ...       ...        ...   \n",
       "18764  [N, i, l,  , İ, p, e, k,  , H, ü, l, a, g, ü, ...        22          4   \n",
       "18765  [F, a, t, m, a,  , B, e, t, ü, l,  , S, a, y, ...        19          4   \n",
       "18769  [E, l, i, f,  , N, u, r,  , B, o, z, k, u, r, ...        22          4   \n",
       "18770  [M, u, h, a, m, m, e, d,  , A, l, i,  , F, a, ...        23          4   \n",
       "18772  [V, e, d, a, t,  , A, l, i,  , Ö, z, k, a, n, ...        19          4   \n",
       "\n",
       "       period_freq  dash_freq  space_freq  \n",
       "125              0          0           1  \n",
       "126              0          1           1  \n",
       "127              0          0           1  \n",
       "129              0          0           1  \n",
       "130              0          0           1  \n",
       "...            ...        ...         ...  \n",
       "18764            0          0           3  \n",
       "18765            0          0           3  \n",
       "18769            0          0           3  \n",
       "18770            0          0           3  \n",
       "18772            0          0           3  \n",
       "\n",
       "[18037 rows x 12 columns]"
      ]
     },
     "execution_count": 43,
     "metadata": {},
     "output_type": "execute_result"
    }
   ],
   "source": [
    "df2_turk"
   ]
  },
  {
   "cell_type": "markdown",
   "metadata": {},
   "source": []
  }
 ],
 "metadata": {
  "kernelspec": {
   "display_name": "Python 3",
   "language": "python",
   "name": "python3"
  },
  "language_info": {
   "codemirror_mode": {
    "name": "ipython",
    "version": 3
   },
   "file_extension": ".py",
   "mimetype": "text/x-python",
   "name": "python",
   "nbconvert_exporter": "python",
   "pygments_lexer": "ipython3",
   "version": "3.11.5"
  },
  "orig_nbformat": 4,
  "vscode": {
   "interpreter": {
    "hash": "aee8b7b246df8f9039afb4144a1f6fd8d2ca17a180786b69acc140d282b71a49"
   }
  }
 },
 "nbformat": 4,
 "nbformat_minor": 2
}
