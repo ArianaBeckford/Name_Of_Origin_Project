{
 "cells": [
  {
   "cell_type": "code",
   "execution_count": 1,
   "metadata": {},
   "outputs": [],
   "source": [
    "import pandas as pd\n",
    "from nltk.util import ngrams\n",
    "\n",
    "import numpy as np\n",
    "import os \n",
    "import unicodedata"
   ]
  },
  {
   "cell_type": "code",
   "execution_count": 2,
   "metadata": {},
   "outputs": [
    {
     "name": "stdout",
     "output_type": "stream",
     "text": [
      "                                            id                      label_tr  \\\n",
      "0       http://www.wikidata.org/entity/Q282782                          Ceza   \n",
      "1       http://www.wikidata.org/entity/Q288019                        Gülşen   \n",
      "2       http://www.wikidata.org/entity/Q236047                        Hadise   \n",
      "3       http://www.wikidata.org/entity/Q236920                         Emrah   \n",
      "4       http://www.wikidata.org/entity/Q182948                        Göksel   \n",
      "...                                        ...                           ...   \n",
      "18769  http://www.wikidata.org/entity/Q6053953     Elif Nur Bozkurt Tandoğan   \n",
      "18770  http://www.wikidata.org/entity/Q6085044    Muhammed Ali Fatih Erbakan   \n",
      "18771  http://www.wikidata.org/entity/Q6041731      İsmail Hamit Özer Derbil   \n",
      "18772  http://www.wikidata.org/entity/Q6071196        Vedat Ali Özkan Kayacı   \n",
      "18773     http://www.wikidata.org/entity/Q5031  Elder Paisios of Mount Athos   \n",
      "\n",
      "      comment          Given name Middle Name Family name Maiden Name  \\\n",
      "0           x                 NaN         NaN         NaN         NaN   \n",
      "1           x                 NaN         NaN         NaN         NaN   \n",
      "2           x                 NaN         NaN         NaN         NaN   \n",
      "3           x                 NaN         NaN         NaN         NaN   \n",
      "4           x                 NaN         NaN         NaN         NaN   \n",
      "...       ...                 ...         ...         ...         ...   \n",
      "18769     NaN   Elif Nur Bozkurt          NaN    Tandoğan         NaN   \n",
      "18770     NaN  Muhammed Ali Fatih         NaN     Erbakan         NaN   \n",
      "18771       x                 NaN         NaN         NaN         NaN   \n",
      "18772     NaN     Vedat Ali Özkan         NaN      Kayacı         NaN   \n",
      "18773       x                 NaN         NaN         NaN         NaN   \n",
      "\n",
      "       Unnamed: 7  \n",
      "0               1  \n",
      "1               1  \n",
      "2               1  \n",
      "3               1  \n",
      "4               1  \n",
      "...           ...  \n",
      "18769           4  \n",
      "18770           4  \n",
      "18771           4  \n",
      "18772           4  \n",
      "18773           5  \n",
      "\n",
      "[18774 rows x 8 columns]\n"
     ]
    }
   ],
   "source": [
    "# Reading in the Turkish nams \n",
    "df_turk  =  pd.read_excel('name_data/exigerData/EXGR_Turkish names2.xlsx')\n",
    "print(df_turk)"
   ]
  },
  {
   "cell_type": "code",
   "execution_count": 3,
   "metadata": {},
   "outputs": [
    {
     "data": {
      "text/plain": [
       "(18774, 8)"
      ]
     },
     "execution_count": 3,
     "metadata": {},
     "output_type": "execute_result"
    }
   ],
   "source": [
    "#printing out the shape \n",
    "df_turk.shape"
   ]
  },
  {
   "cell_type": "code",
   "execution_count": 4,
   "metadata": {},
   "outputs": [
    {
     "data": {
      "text/html": [
       "<div>\n",
       "<style scoped>\n",
       "    .dataframe tbody tr th:only-of-type {\n",
       "        vertical-align: middle;\n",
       "    }\n",
       "\n",
       "    .dataframe tbody tr th {\n",
       "        vertical-align: top;\n",
       "    }\n",
       "\n",
       "    .dataframe thead th {\n",
       "        text-align: right;\n",
       "    }\n",
       "</style>\n",
       "<table border=\"1\" class=\"dataframe\">\n",
       "  <thead>\n",
       "    <tr style=\"text-align: right;\">\n",
       "      <th></th>\n",
       "      <th>id</th>\n",
       "      <th>label_tr</th>\n",
       "      <th>comment</th>\n",
       "      <th>Given name</th>\n",
       "      <th>Middle Name</th>\n",
       "      <th>Family name</th>\n",
       "      <th>Maiden Name</th>\n",
       "      <th>Unnamed: 7</th>\n",
       "    </tr>\n",
       "  </thead>\n",
       "  <tbody>\n",
       "    <tr>\n",
       "      <th>0</th>\n",
       "      <td>http://www.wikidata.org/entity/Q282782</td>\n",
       "      <td>Ceza</td>\n",
       "      <td>x</td>\n",
       "      <td>NaN</td>\n",
       "      <td>NaN</td>\n",
       "      <td>NaN</td>\n",
       "      <td>NaN</td>\n",
       "      <td>1</td>\n",
       "    </tr>\n",
       "    <tr>\n",
       "      <th>1</th>\n",
       "      <td>http://www.wikidata.org/entity/Q288019</td>\n",
       "      <td>Gülşen</td>\n",
       "      <td>x</td>\n",
       "      <td>NaN</td>\n",
       "      <td>NaN</td>\n",
       "      <td>NaN</td>\n",
       "      <td>NaN</td>\n",
       "      <td>1</td>\n",
       "    </tr>\n",
       "    <tr>\n",
       "      <th>2</th>\n",
       "      <td>http://www.wikidata.org/entity/Q236047</td>\n",
       "      <td>Hadise</td>\n",
       "      <td>x</td>\n",
       "      <td>NaN</td>\n",
       "      <td>NaN</td>\n",
       "      <td>NaN</td>\n",
       "      <td>NaN</td>\n",
       "      <td>1</td>\n",
       "    </tr>\n",
       "    <tr>\n",
       "      <th>3</th>\n",
       "      <td>http://www.wikidata.org/entity/Q236920</td>\n",
       "      <td>Emrah</td>\n",
       "      <td>x</td>\n",
       "      <td>NaN</td>\n",
       "      <td>NaN</td>\n",
       "      <td>NaN</td>\n",
       "      <td>NaN</td>\n",
       "      <td>1</td>\n",
       "    </tr>\n",
       "    <tr>\n",
       "      <th>4</th>\n",
       "      <td>http://www.wikidata.org/entity/Q182948</td>\n",
       "      <td>Göksel</td>\n",
       "      <td>x</td>\n",
       "      <td>NaN</td>\n",
       "      <td>NaN</td>\n",
       "      <td>NaN</td>\n",
       "      <td>NaN</td>\n",
       "      <td>1</td>\n",
       "    </tr>\n",
       "  </tbody>\n",
       "</table>\n",
       "</div>"
      ],
      "text/plain": [
       "                                       id label_tr comment Given name  \\\n",
       "0  http://www.wikidata.org/entity/Q282782     Ceza       x        NaN   \n",
       "1  http://www.wikidata.org/entity/Q288019   Gülşen       x        NaN   \n",
       "2  http://www.wikidata.org/entity/Q236047   Hadise       x        NaN   \n",
       "3  http://www.wikidata.org/entity/Q236920    Emrah       x        NaN   \n",
       "4  http://www.wikidata.org/entity/Q182948   Göksel       x        NaN   \n",
       "\n",
       "  Middle Name Family name Maiden Name  Unnamed: 7  \n",
       "0         NaN         NaN         NaN           1  \n",
       "1         NaN         NaN         NaN           1  \n",
       "2         NaN         NaN         NaN           1  \n",
       "3         NaN         NaN         NaN           1  \n",
       "4         NaN         NaN         NaN           1  "
      ]
     },
     "execution_count": 4,
     "metadata": {},
     "output_type": "execute_result"
    }
   ],
   "source": [
    "#Printing out the head\n",
    "df_turk.head()"
   ]
  },
  {
   "cell_type": "code",
   "execution_count": 5,
   "metadata": {},
   "outputs": [
    {
     "data": {
      "text/plain": [
       "True"
      ]
     },
     "execution_count": 5,
     "metadata": {},
     "output_type": "execute_result"
    }
   ],
   "source": [
    "#checking if there is any null entries in the datasets\n",
    "df_turk.isnull().values.any()"
   ]
  },
  {
   "cell_type": "code",
   "execution_count": 6,
   "metadata": {},
   "outputs": [
    {
     "data": {
      "text/plain": [
       "0          x\n",
       "1          x\n",
       "2          x\n",
       "3          x\n",
       "4          x\n",
       "        ... \n",
       "18769    NaN\n",
       "18770    NaN\n",
       "18771      x\n",
       "18772    NaN\n",
       "18773      x\n",
       "Name: comment, Length: 18774, dtype: object"
      ]
     },
     "execution_count": 6,
     "metadata": {},
     "output_type": "execute_result"
    }
   ],
   "source": [
    "# checking what's in the comment columns\n",
    "df_turk['comment']"
   ]
  },
  {
   "cell_type": "code",
   "execution_count": 7,
   "metadata": {},
   "outputs": [
    {
     "data": {
      "text/html": [
       "<div>\n",
       "<style scoped>\n",
       "    .dataframe tbody tr th:only-of-type {\n",
       "        vertical-align: middle;\n",
       "    }\n",
       "\n",
       "    .dataframe tbody tr th {\n",
       "        vertical-align: top;\n",
       "    }\n",
       "\n",
       "    .dataframe thead th {\n",
       "        text-align: right;\n",
       "    }\n",
       "</style>\n",
       "<table border=\"1\" class=\"dataframe\">\n",
       "  <thead>\n",
       "    <tr style=\"text-align: right;\">\n",
       "      <th></th>\n",
       "      <th>id</th>\n",
       "      <th>label_tr</th>\n",
       "      <th>comment</th>\n",
       "      <th>Given name</th>\n",
       "      <th>Middle Name</th>\n",
       "      <th>Family name</th>\n",
       "      <th>Maiden Name</th>\n",
       "      <th>Unnamed: 7</th>\n",
       "    </tr>\n",
       "  </thead>\n",
       "  <tbody>\n",
       "    <tr>\n",
       "      <th>0</th>\n",
       "      <td>False</td>\n",
       "      <td>False</td>\n",
       "      <td>False</td>\n",
       "      <td>True</td>\n",
       "      <td>True</td>\n",
       "      <td>True</td>\n",
       "      <td>True</td>\n",
       "      <td>False</td>\n",
       "    </tr>\n",
       "    <tr>\n",
       "      <th>1</th>\n",
       "      <td>False</td>\n",
       "      <td>False</td>\n",
       "      <td>False</td>\n",
       "      <td>True</td>\n",
       "      <td>True</td>\n",
       "      <td>True</td>\n",
       "      <td>True</td>\n",
       "      <td>False</td>\n",
       "    </tr>\n",
       "    <tr>\n",
       "      <th>2</th>\n",
       "      <td>False</td>\n",
       "      <td>False</td>\n",
       "      <td>False</td>\n",
       "      <td>True</td>\n",
       "      <td>True</td>\n",
       "      <td>True</td>\n",
       "      <td>True</td>\n",
       "      <td>False</td>\n",
       "    </tr>\n",
       "    <tr>\n",
       "      <th>3</th>\n",
       "      <td>False</td>\n",
       "      <td>False</td>\n",
       "      <td>False</td>\n",
       "      <td>True</td>\n",
       "      <td>True</td>\n",
       "      <td>True</td>\n",
       "      <td>True</td>\n",
       "      <td>False</td>\n",
       "    </tr>\n",
       "    <tr>\n",
       "      <th>4</th>\n",
       "      <td>False</td>\n",
       "      <td>False</td>\n",
       "      <td>False</td>\n",
       "      <td>True</td>\n",
       "      <td>True</td>\n",
       "      <td>True</td>\n",
       "      <td>True</td>\n",
       "      <td>False</td>\n",
       "    </tr>\n",
       "  </tbody>\n",
       "</table>\n",
       "</div>"
      ],
      "text/plain": [
       "      id  label_tr  comment  Given name  Middle Name  Family name  \\\n",
       "0  False     False    False        True         True         True   \n",
       "1  False     False    False        True         True         True   \n",
       "2  False     False    False        True         True         True   \n",
       "3  False     False    False        True         True         True   \n",
       "4  False     False    False        True         True         True   \n",
       "\n",
       "   Maiden Name  Unnamed: 7  \n",
       "0         True       False  \n",
       "1         True       False  \n",
       "2         True       False  \n",
       "3         True       False  \n",
       "4         True       False  "
      ]
     },
     "execution_count": 7,
     "metadata": {},
     "output_type": "execute_result"
    }
   ],
   "source": [
    "df_turk.isnull().head()"
   ]
  },
  {
   "cell_type": "code",
   "execution_count": 7,
   "metadata": {},
   "outputs": [
    {
     "data": {
      "text/plain": [
       "id                 0\n",
       "label_tr           0\n",
       "comment        18318\n",
       "Given name       455\n",
       "Middle Name    18772\n",
       "Family name      459\n",
       "Maiden Name    18763\n",
       "Unnamed: 7         0\n",
       "dtype: int64"
      ]
     },
     "execution_count": 7,
     "metadata": {},
     "output_type": "execute_result"
    }
   ],
   "source": [
    "#checking how many null entries each columns have \n",
    "nan_count = np.sum(df_turk.isnull(), axis = 0)\n",
    "nan_count"
   ]
  },
  {
   "cell_type": "code",
   "execution_count": 8,
   "metadata": {},
   "outputs": [
    {
     "data": {
      "text/plain": [
       "True"
      ]
     },
     "execution_count": 8,
     "metadata": {},
     "output_type": "execute_result"
    }
   ],
   "source": [
    "# checking if the datasets have any duplicates \n",
    "df_turk['label_tr'].duplicated().any()"
   ]
  },
  {
   "cell_type": "code",
   "execution_count": 9,
   "metadata": {},
   "outputs": [
    {
     "data": {
      "text/plain": [
       "False"
      ]
     },
     "execution_count": 9,
     "metadata": {},
     "output_type": "execute_result"
    }
   ],
   "source": [
    "#check if there is any null entries \n",
    "np.any(df_turk['label_tr'].isnull())"
   ]
  },
  {
   "cell_type": "code",
   "execution_count": 11,
   "metadata": {},
   "outputs": [
    {
     "data": {
      "text/plain": [
       "(18774, 8)"
      ]
     },
     "execution_count": 11,
     "metadata": {},
     "output_type": "execute_result"
    }
   ],
   "source": [
    "#just checking the shape before dropping dupliates (18774,8)\n",
    "df_turk.shape"
   ]
  },
  {
   "cell_type": "code",
   "execution_count": 12,
   "metadata": {},
   "outputs": [
    {
     "name": "stdout",
     "output_type": "stream",
     "text": [
      "                                            id                      label_tr  \\\n",
      "0       http://www.wikidata.org/entity/Q282782                          Ceza   \n",
      "1       http://www.wikidata.org/entity/Q288019                        Gülşen   \n",
      "2       http://www.wikidata.org/entity/Q236047                        Hadise   \n",
      "3       http://www.wikidata.org/entity/Q236920                         Emrah   \n",
      "4       http://www.wikidata.org/entity/Q182948                        Göksel   \n",
      "...                                        ...                           ...   \n",
      "18769  http://www.wikidata.org/entity/Q6053953     Elif Nur Bozkurt Tandoğan   \n",
      "18770  http://www.wikidata.org/entity/Q6085044    Muhammed Ali Fatih Erbakan   \n",
      "18771  http://www.wikidata.org/entity/Q6041731      İsmail Hamit Özer Derbil   \n",
      "18772  http://www.wikidata.org/entity/Q6071196        Vedat Ali Özkan Kayacı   \n",
      "18773     http://www.wikidata.org/entity/Q5031  Elder Paisios of Mount Athos   \n",
      "\n",
      "      comment          Given name Middle Name Family name Maiden Name  \\\n",
      "0           x                 NaN         NaN         NaN         NaN   \n",
      "1           x                 NaN         NaN         NaN         NaN   \n",
      "2           x                 NaN         NaN         NaN         NaN   \n",
      "3           x                 NaN         NaN         NaN         NaN   \n",
      "4           x                 NaN         NaN         NaN         NaN   \n",
      "...       ...                 ...         ...         ...         ...   \n",
      "18769     NaN   Elif Nur Bozkurt          NaN    Tandoğan         NaN   \n",
      "18770     NaN  Muhammed Ali Fatih         NaN     Erbakan         NaN   \n",
      "18771       x                 NaN         NaN         NaN         NaN   \n",
      "18772     NaN     Vedat Ali Özkan         NaN      Kayacı         NaN   \n",
      "18773       x                 NaN         NaN         NaN         NaN   \n",
      "\n",
      "       Unnamed: 7  \n",
      "0               1  \n",
      "1               1  \n",
      "2               1  \n",
      "3               1  \n",
      "4               1  \n",
      "...           ...  \n",
      "18769           4  \n",
      "18770           4  \n",
      "18771           4  \n",
      "18772           4  \n",
      "18773           5  \n",
      "\n",
      "[18491 rows x 8 columns]\n"
     ]
    }
   ],
   "source": [
    "#Dropping the duplicates(place in a new variable)\n",
    "df2_turk = df_turk.drop_duplicates(subset=['label_tr'])\n",
    "print(df2_turk)"
   ]
  },
  {
   "cell_type": "code",
   "execution_count": 13,
   "metadata": {},
   "outputs": [
    {
     "data": {
      "text/plain": [
       "False"
      ]
     },
     "execution_count": 13,
     "metadata": {},
     "output_type": "execute_result"
    }
   ],
   "source": [
    "#checking if there are still duplicates\n",
    "df2_turk['label_tr'].duplicated().any()\n"
   ]
  },
  {
   "cell_type": "code",
   "execution_count": 17,
   "metadata": {},
   "outputs": [
    {
     "data": {
      "text/plain": [
       "(18491, 8)"
      ]
     },
     "execution_count": 17,
     "metadata": {},
     "output_type": "execute_result"
    }
   ],
   "source": [
    "#Just checking if th shape went down(which it did (18774,8) to (18491,8))\n",
    "df2_turk.shape"
   ]
  },
  {
   "cell_type": "code",
   "execution_count": 18,
   "metadata": {},
   "outputs": [
    {
     "data": {
      "text/plain": [
       "id                 0\n",
       "label_tr           0\n",
       "comment        18037\n",
       "Given name       453\n",
       "Middle Name    18489\n",
       "Family name      457\n",
       "Maiden Name    18480\n",
       "Unnamed: 7         0\n",
       "dtype: int64"
      ]
     },
     "execution_count": 18,
     "metadata": {},
     "output_type": "execute_result"
    }
   ],
   "source": [
    "# checking if the null values went down (it did) \n",
    "nan_count = np.sum(df2_turk.isnull(), axis = 0)\n",
    "nan_count"
   ]
  },
  {
   "cell_type": "code",
   "execution_count": 19,
   "metadata": {},
   "outputs": [
    {
     "name": "stdout",
     "output_type": "stream",
     "text": [
      "['comment', 'Given name', 'Middle Name', 'Family name', 'Maiden Name']\n"
     ]
    }
   ],
   "source": [
    "#printing the col_names with null values\n",
    "condition = nan_count != 0\n",
    "col_names = nan_count[condition].index\n",
    "nan_cols = list(col_names)\n",
    "print(nan_cols)"
   ]
  },
  {
   "cell_type": "code",
   "execution_count": 20,
   "metadata": {},
   "outputs": [
    {
     "name": "stdout",
     "output_type": "stream",
     "text": [
      "['x' nan]\n",
      "[nan 'Melahat' 'Freddy' ... 'Elif Nur Bozkurt ' 'Muhammed Ali Fatih'\n",
      " 'Vedat Ali Özkan']\n",
      "[nan 'Sahin' 'Kemal']\n",
      "[nan 'Abbasova' 'Scholl' ... 'Kapıcıoğlu' 'Ali Marandi' 'Bektur']\n",
      "[nan 'Önder' 'Kafaoğlu' 'Türker' 'Doğan' 'Karahan' 'Sabancı' 'Ekşi' 'İnan'\n",
      " 'Tosun' 'Sayan']\n"
     ]
    }
   ],
   "source": [
    "print(df2_turk['comment'].unique())\n",
    "print(df2_turk['Given name'].unique())\n",
    "print(df2_turk['Middle Name'].unique())\n",
    "print(df2_turk['Family name'].unique())\n",
    "print(df2_turk['Maiden Name'].unique())"
   ]
  },
  {
   "cell_type": "code",
   "execution_count": 21,
   "metadata": {},
   "outputs": [
    {
     "name": "stdout",
     "output_type": "stream",
     "text": [
      "                                             id                    label_tr  \\\n",
      "125     http://www.wikidata.org/entity/Q3508136            Melahat Abbasova   \n",
      "126       http://www.wikidata.org/entity/Q96602         Freddy Sahin-Scholl   \n",
      "127      http://www.wikidata.org/entity/Q217097             Richard Kingson   \n",
      "129      http://www.wikidata.org/entity/Q110126                  Hrant Dink   \n",
      "130       http://www.wikidata.org/entity/Q42079               Ricky Winslow   \n",
      "...                                         ...                         ...   \n",
      "18764  http://www.wikidata.org/entity/Q49703809   Nil İpek Hülagü Öztürkmen   \n",
      "18765  http://www.wikidata.org/entity/Q24230049      Fatma Betül Sayan Kaya   \n",
      "18769   http://www.wikidata.org/entity/Q6053953   Elif Nur Bozkurt Tandoğan   \n",
      "18770   http://www.wikidata.org/entity/Q6085044  Muhammed Ali Fatih Erbakan   \n",
      "18772   http://www.wikidata.org/entity/Q6071196      Vedat Ali Özkan Kayacı   \n",
      "\n",
      "      comment          Given name Middle Name Family name Maiden Name  \\\n",
      "125       NaN             Melahat         NaN    Abbasova         NaN   \n",
      "126       NaN              Freddy       Sahin      Scholl         NaN   \n",
      "127       NaN             Richard         NaN     Kingson         NaN   \n",
      "129       NaN               Hrant         NaN        Dink         NaN   \n",
      "130       NaN               Ricky         NaN     Winslow         NaN   \n",
      "...       ...                 ...         ...         ...         ...   \n",
      "18764     NaN     Nil İpek Hülagü         NaN   Öztürkmen         NaN   \n",
      "18765     NaN         Fatma Betül         NaN        Kaya       Sayan   \n",
      "18769     NaN   Elif Nur Bozkurt          NaN    Tandoğan         NaN   \n",
      "18770     NaN  Muhammed Ali Fatih         NaN     Erbakan         NaN   \n",
      "18772     NaN     Vedat Ali Özkan         NaN      Kayacı         NaN   \n",
      "\n",
      "       Unnamed: 7  \n",
      "125             2  \n",
      "126             2  \n",
      "127             2  \n",
      "129             2  \n",
      "130             2  \n",
      "...           ...  \n",
      "18764           4  \n",
      "18765           4  \n",
      "18769           4  \n",
      "18770           4  \n",
      "18772           4  \n",
      "\n",
      "[18037 rows x 8 columns]\n"
     ]
    }
   ],
   "source": [
    "# drop comments row with x \n",
    "comments_drop_with_x =  df2_turk['comment'] == 'x'\n",
    "df2_turk = df2_turk.drop(df2_turk[df2_turk['comment'] == 'x'].index)\n",
    "print(df2_turk)\n",
    "#print(comments_drop)\n",
    "#df2_turk['comment']"
   ]
  },
  {
   "cell_type": "code",
   "execution_count": 22,
   "metadata": {},
   "outputs": [
    {
     "data": {
      "text/plain": [
       "(18037, 8)"
      ]
     },
     "execution_count": 22,
     "metadata": {},
     "output_type": "execute_result"
    }
   ],
   "source": [
    "#check the shape again( went form (18491,8) to (18037, 8))\n",
    "df2_turk.shape"
   ]
  },
  {
   "cell_type": "code",
   "execution_count": 23,
   "metadata": {},
   "outputs": [
    {
     "data": {
      "text/plain": [
       "id                 0\n",
       "label_tr           0\n",
       "comment        18037\n",
       "Given name         0\n",
       "Middle Name    18035\n",
       "Family name        4\n",
       "Maiden Name    18026\n",
       "Unnamed: 7         0\n",
       "dtype: int64"
      ]
     },
     "execution_count": 23,
     "metadata": {},
     "output_type": "execute_result"
    }
   ],
   "source": [
    "nan_count = np.sum(df2_turk.isnull(), axis = 0)\n",
    "nan_count"
   ]
  },
  {
   "cell_type": "code",
   "execution_count": 24,
   "metadata": {},
   "outputs": [
    {
     "name": "stdout",
     "output_type": "stream",
     "text": [
      "30\n"
     ]
    },
    {
     "data": {
      "text/plain": [
       "['Freddy Sahin-Scholl',\n",
       " 'Perihan Önder-Ridder',\n",
       " 'Erhan-Can Kartal',\n",
       " 'Ali-Özgür Özdil',\n",
       " 'Mehmet Aga-Oglu',\n",
       " 'Ahmed Agha-Oghlu',\n",
       " 'Hatice Aksoy-Woinek',\n",
       " 'Bugha al-Sharabi',\n",
       " 'Iffat Al-Thunayan',\n",
       " \"Nev'îzâde Atâyî\",\n",
       " 'Üstün Bilgen-Reinart',\n",
       " 'Mehpare Bozyigit-Kirchmann',\n",
       " 'Elif Çağlar-Muslu',\n",
       " \"Cem'i Demiroğlu\",\n",
       " \"Neş'e Erdok\",\n",
       " 'Asuman Kafaoğlu-Büke',\n",
       " 'Elçin Kürşat-Ahlers',\n",
       " 'Gönül Sen-Menzel',\n",
       " 'Tülay Sözbir-Seidel',\n",
       " \"Gaybi Sun'ullah\",\n",
       " 'Ayshe Talay-Ongan',\n",
       " 'Sevgi Türker-Terlemez',\n",
       " \"Mümtaz'er Türköne\",\n",
       " 'Sabiha Bânu Yalkut-Breddermann',\n",
       " \"Temel Nücûm'i Göksel\",\n",
       " 'Molla Ahmed-i Cezirî',\n",
       " \"Dipika O'Neill Joti\",\n",
       " \"Abdurrahman Necati Kara'a\",\n",
       " 'Kerimüddin Mahmud-i Aksarayî',\n",
       " 'Salah al-Din Zarkub']"
      ]
     },
     "execution_count": 24,
     "metadata": {},
     "output_type": "execute_result"
    }
   ],
   "source": [
    "non_alnum_names_turk = [name for name in df2_turk['label_tr'] if not str.isalnum(name.replace(' ', ''))]\n",
    "print(len(non_alnum_names_turk))\n",
    "non_alnum_names_turk"
   ]
  },
  {
   "cell_type": "code",
   "execution_count": 29,
   "metadata": {},
   "outputs": [],
   "source": [
    "#drop extra column we don't need \n",
    "df2_turk = df2_turk.drop(columns = ['Unnamed: 7'])"
   ]
  },
  {
   "cell_type": "code",
   "execution_count": 30,
   "metadata": {},
   "outputs": [
    {
     "data": {
      "text/plain": [
       "id                 0\n",
       "label_tr           0\n",
       "comment        18037\n",
       "Given name         0\n",
       "Middle Name    18035\n",
       "Family name        4\n",
       "Maiden Name    18026\n",
       "dtype: int64"
      ]
     },
     "execution_count": 30,
     "metadata": {},
     "output_type": "execute_result"
    }
   ],
   "source": [
    "nan_count = np.sum(df2_turk.isnull(), axis = 0)\n",
    "nan_count"
   ]
  },
  {
   "cell_type": "code",
   "execution_count": 50,
   "metadata": {},
   "outputs": [],
   "source": [
    "#creating features to determine the alphabet\n",
    "determine_alphabet = [unicodedata.name(name[0]).split(' ')[0] for name in df2_turk['fullname']]\n",
    "#df2_turk['determine_alphabet'] = df2_turk['label_tr'].apply(lambda name: unicodedata.name(name[0]).split(' ')[0])\n",
    "\n"
   ]
  },
  {
   "cell_type": "code",
   "execution_count": 51,
   "metadata": {},
   "outputs": [
    {
     "name": "stdout",
     "output_type": "stream",
     "text": [
      "125      LATIN\n",
      "126      LATIN\n",
      "127      LATIN\n",
      "129      LATIN\n",
      "130      LATIN\n",
      "         ...  \n",
      "18764    LATIN\n",
      "18765    LATIN\n",
      "18769    LATIN\n",
      "18770    LATIN\n",
      "18772    LATIN\n",
      "Name: determine_alphabet, Length: 18037, dtype: object\n"
     ]
    }
   ],
   "source": [
    "print(df2_turk['determine_alphabet'])"
   ]
  },
  {
   "cell_type": "code",
   "execution_count": 38,
   "metadata": {},
   "outputs": [],
   "source": [
    "def turk_char_ngrams(names,n):\n",
    "    char_ngrams = ngrams(names, n)\n",
    "    return [''.join(gram) for gram in char_ngrams]\n",
    "\n",
    "n = 3\n",
    "df2_turk['char_ngrams'] = df2_turk['label_tr'].apply(lambda x: turk_char_ngrams(x, n))"
   ]
  },
  {
   "cell_type": "code",
   "execution_count": 39,
   "metadata": {},
   "outputs": [
    {
     "name": "stdout",
     "output_type": "stream",
     "text": [
      "125      [Mel, ela, lah, aha, hat, at , t A,  Ab, Abb, ...\n",
      "126      [Fre, red, edd, ddy, dy , y S,  Sa, Sah, ahi, ...\n",
      "127      [Ric, ich, cha, har, ard, rd , d K,  Ki, Kin, ...\n",
      "129               [Hra, ran, ant, nt , t D,  Di, Din, ink]\n",
      "130      [Ric, ick, cky, ky , y W,  Wi, Win, ins, nsl, ...\n",
      "                               ...                        \n",
      "18764    [Nil, il , l İ,  İp, İpe, pek, ek , k H,  Hü, ...\n",
      "18765    [Fat, atm, tma, ma , a B,  Be, Bet, etü, tül, ...\n",
      "18769    [Eli, lif, if , f N,  Nu, Nur, ur , r B,  Bo, ...\n",
      "18770    [Muh, uha, ham, amm, mme, med, ed , d A,  Al, ...\n",
      "18772    [Ved, eda, dat, at , t A,  Al, Ali, li , i Ö, ...\n",
      "Name: char_ngrams, Length: 18037, dtype: object\n"
     ]
    }
   ],
   "source": [
    "print(df2_turk['char_ngrams'])"
   ]
  },
  {
   "cell_type": "code",
   "execution_count": 43,
   "metadata": {},
   "outputs": [],
   "source": [
    "# feature to check the name length\n",
    "def name_length(name):\n",
    "    return len(name.replace(' ', ''))\n",
    "\n",
    "df2_turk['name_len'] = df2_turk['label_tr'].apply(name_length)"
   ]
  },
  {
   "cell_type": "code",
   "execution_count": 44,
   "metadata": {},
   "outputs": [
    {
     "name": "stdout",
     "output_type": "stream",
     "text": [
      "125      15\n",
      "126      18\n",
      "127      14\n",
      "129       9\n",
      "130      12\n",
      "         ..\n",
      "18764    22\n",
      "18765    19\n",
      "18769    22\n",
      "18770    23\n",
      "18772    19\n",
      "Name: name_len, Length: 18037, dtype: int64\n"
     ]
    }
   ],
   "source": [
    "print(df2_turk['name_len'])"
   ]
  },
  {
   "cell_type": "code",
   "execution_count": 46,
   "metadata": {},
   "outputs": [],
   "source": [
    "# feature to check the name length\n",
    "def token_length(name):\n",
    "    return len(name.split())\n",
    "\n",
    "df2_turk['token_len'] = df2_turk['label_tr'].apply(token_length)"
   ]
  },
  {
   "cell_type": "code",
   "execution_count": 47,
   "metadata": {},
   "outputs": [
    {
     "name": "stdout",
     "output_type": "stream",
     "text": [
      "125      2\n",
      "126      2\n",
      "127      2\n",
      "129      2\n",
      "130      2\n",
      "        ..\n",
      "18764    4\n",
      "18765    4\n",
      "18769    4\n",
      "18770    4\n",
      "18772    4\n",
      "Name: token_len, Length: 18037, dtype: int64\n"
     ]
    }
   ],
   "source": [
    "print(df2_turk['token_len'])\n"
   ]
  },
  {
   "cell_type": "code",
   "execution_count": null,
   "metadata": {},
   "outputs": [],
   "source": []
  },
  {
   "cell_type": "code",
   "execution_count": 23,
   "metadata": {},
   "outputs": [],
   "source": [
    "# no more spliting name \n",
    "\"\"\"\n",
    "split_names = df2_turk['label_tr'].str.split(expand=True)\n",
    "num_space = split_names.shape[0]\n",
    "\n",
    "\n",
    "if num_space == 0:\n",
    "    df2_turk.loc[:, 'Given name'] = split_names[0]\n",
    "    df2_turk.loc[:, 'Middle Name'] = None\n",
    "    df2_turk.loc[:, 'Family name'] = None\n",
    "elif num_space == 1:\n",
    "    df2_turk.loc[:, 'Given name'] = split_names[0]\n",
    "    df2_turk.loc[:, 'Middle Name'] = None\n",
    "    df2_turk.loc[:, 'Family name'] = None\n",
    "elif num_space == 2:\n",
    "    df2_turk.loc[:, 'Given name'] = split_names[0]\n",
    "    df2_turk.loc[:, 'Middle Name'] = None\n",
    "    df2_turk.loc[:, 'Family name'] = split_names[2]\n",
    "elif num_space == 3:\n",
    "    df2_turk.loc[:, 'Given name'] = split_names[0]\n",
    "    df2_turk.loc[:, 'Middle Name'] = split_names[1]\n",
    "    df2_turk.loc[:, 'Family name'] = split_names[2]  \n",
    "elif num_space == 4:\n",
    "    df2_turk.loc[:, 'Given name'] = split_names[0] + split_names[1]\n",
    "    df2_turk.loc[:, 'Middle Name'] = split_names[2]\n",
    "    df2_turk.loc[:, 'Family name'] = split_names[3]  \n",
    "else:\n",
    "    pass\n",
    "    \n",
    "    \"\"\""
   ]
  },
  {
   "cell_type": "code",
   "execution_count": 24,
   "metadata": {},
   "outputs": [
    {
     "name": "stdout",
     "output_type": "stream",
     "text": [
      "125                 Melahat\n",
      "126                  Freddy\n",
      "127                 Richard\n",
      "129                   Hrant\n",
      "130                   Ricky\n",
      "                ...        \n",
      "18764       Nil İpek Hülagü\n",
      "18765           Fatma Betül\n",
      "18769     Elif Nur Bozkurt \n",
      "18770    Muhammed Ali Fatih\n",
      "18772       Vedat Ali Özkan\n",
      "Name: Given name, Length: 18037, dtype: object\n"
     ]
    }
   ],
   "source": [
    "print(df2_turk['Given name'])"
   ]
  },
  {
   "cell_type": "code",
   "execution_count": 25,
   "metadata": {},
   "outputs": [
    {
     "name": "stdout",
     "output_type": "stream",
     "text": [
      "125        NaN\n",
      "126      Sahin\n",
      "127        NaN\n",
      "129        NaN\n",
      "130        NaN\n",
      "         ...  \n",
      "18764      NaN\n",
      "18765      NaN\n",
      "18769      NaN\n",
      "18770      NaN\n",
      "18772      NaN\n",
      "Name: Middle Name, Length: 18037, dtype: object\n"
     ]
    }
   ],
   "source": [
    "print(df2_turk['Middle Name'])"
   ]
  },
  {
   "cell_type": "code",
   "execution_count": 26,
   "metadata": {},
   "outputs": [
    {
     "name": "stdout",
     "output_type": "stream",
     "text": [
      "125       Abbasova\n",
      "126         Scholl\n",
      "127        Kingson\n",
      "129           Dink\n",
      "130        Winslow\n",
      "           ...    \n",
      "18764    Öztürkmen\n",
      "18765         Kaya\n",
      "18769     Tandoğan\n",
      "18770      Erbakan\n",
      "18772       Kayacı\n",
      "Name: Family name, Length: 18037, dtype: object\n"
     ]
    }
   ],
   "source": [
    "print(df2_turk['Family name'])"
   ]
  },
  {
   "cell_type": "code",
   "execution_count": 185,
   "metadata": {},
   "outputs": [
    {
     "name": "stdout",
     "output_type": "stream",
     "text": [
      "                                            id                      label_tr  \\\n",
      "0       http://www.wikidata.org/entity/Q282782                          Ceza   \n",
      "1       http://www.wikidata.org/entity/Q288019                        Gülşen   \n",
      "2       http://www.wikidata.org/entity/Q236047                        Hadise   \n",
      "3       http://www.wikidata.org/entity/Q236920                         Emrah   \n",
      "4       http://www.wikidata.org/entity/Q182948                        Göksel   \n",
      "...                                        ...                           ...   \n",
      "18769  http://www.wikidata.org/entity/Q6053953     Elif Nur Bozkurt Tandoğan   \n",
      "18770  http://www.wikidata.org/entity/Q6085044    Muhammed Ali Fatih Erbakan   \n",
      "18771  http://www.wikidata.org/entity/Q6041731      İsmail Hamit Özer Derbil   \n",
      "18772  http://www.wikidata.org/entity/Q6071196        Vedat Ali Özkan Kayacı   \n",
      "18773     http://www.wikidata.org/entity/Q5031  Elder Paisios of Mount Athos   \n",
      "\n",
      "      comment          Given name Middle Name Family name Maiden Name  \\\n",
      "0           x                 NaN         NaN         NaN         NaN   \n",
      "1           x                 NaN         NaN         NaN         NaN   \n",
      "2           x                 NaN         NaN         NaN         NaN   \n",
      "3           x                 NaN         NaN         NaN         NaN   \n",
      "4           x                 NaN         NaN         NaN         NaN   \n",
      "...       ...                 ...         ...         ...         ...   \n",
      "18769     NaN   Elif Nur Bozkurt          NaN    Tandoğan         NaN   \n",
      "18770     NaN  Muhammed Ali Fatih         NaN     Erbakan         NaN   \n",
      "18771       x                 NaN         NaN         NaN         NaN   \n",
      "18772     NaN     Vedat Ali Özkan         NaN      Kayacı         NaN   \n",
      "18773       x                 NaN         NaN         NaN         NaN   \n",
      "\n",
      "       Unnamed: 7  \n",
      "0               1  \n",
      "1               1  \n",
      "2               1  \n",
      "3               1  \n",
      "4               1  \n",
      "...           ...  \n",
      "18769           4  \n",
      "18770           4  \n",
      "18771           4  \n",
      "18772           4  \n",
      "18773           5  \n",
      "\n",
      "[18491 rows x 8 columns]\n"
     ]
    }
   ],
   "source": [
    "print(df2_turk)"
   ]
  },
  {
   "cell_type": "code",
   "execution_count": 186,
   "metadata": {},
   "outputs": [
    {
     "name": "stdout",
     "output_type": "stream",
     "text": [
      "Empty DataFrame\n",
      "Columns: [id, label_tr, comment, Given name, Middle Name, Family name, Maiden Name, Unnamed: 7]\n",
      "Index: []\n"
     ]
    }
   ],
   "source": [
    "print(df2_turk[df2_turk['label_tr'].isna()])"
   ]
  },
  {
   "cell_type": "markdown",
   "metadata": {},
   "source": []
  },
  {
   "cell_type": "code",
   "execution_count": 187,
   "metadata": {},
   "outputs": [
    {
     "data": {
      "text/html": [
       "<div>\n",
       "<style scoped>\n",
       "    .dataframe tbody tr th:only-of-type {\n",
       "        vertical-align: middle;\n",
       "    }\n",
       "\n",
       "    .dataframe tbody tr th {\n",
       "        vertical-align: top;\n",
       "    }\n",
       "\n",
       "    .dataframe thead th {\n",
       "        text-align: right;\n",
       "    }\n",
       "</style>\n",
       "<table border=\"1\" class=\"dataframe\">\n",
       "  <thead>\n",
       "    <tr style=\"text-align: right;\">\n",
       "      <th></th>\n",
       "      <th>id</th>\n",
       "      <th>label_tr</th>\n",
       "      <th>comment</th>\n",
       "      <th>Given name</th>\n",
       "      <th>Middle Name</th>\n",
       "      <th>Family name</th>\n",
       "      <th>Maiden Name</th>\n",
       "      <th>Unnamed: 7</th>\n",
       "    </tr>\n",
       "  </thead>\n",
       "  <tbody>\n",
       "    <tr>\n",
       "      <th>0</th>\n",
       "      <td>http://www.wikidata.org/entity/Q282782</td>\n",
       "      <td>Ceza</td>\n",
       "      <td>x</td>\n",
       "      <td>NaN</td>\n",
       "      <td>NaN</td>\n",
       "      <td>NaN</td>\n",
       "      <td>NaN</td>\n",
       "      <td>1</td>\n",
       "    </tr>\n",
       "    <tr>\n",
       "      <th>1</th>\n",
       "      <td>http://www.wikidata.org/entity/Q288019</td>\n",
       "      <td>Gülşen</td>\n",
       "      <td>x</td>\n",
       "      <td>NaN</td>\n",
       "      <td>NaN</td>\n",
       "      <td>NaN</td>\n",
       "      <td>NaN</td>\n",
       "      <td>1</td>\n",
       "    </tr>\n",
       "    <tr>\n",
       "      <th>2</th>\n",
       "      <td>http://www.wikidata.org/entity/Q236047</td>\n",
       "      <td>Hadise</td>\n",
       "      <td>x</td>\n",
       "      <td>NaN</td>\n",
       "      <td>NaN</td>\n",
       "      <td>NaN</td>\n",
       "      <td>NaN</td>\n",
       "      <td>1</td>\n",
       "    </tr>\n",
       "    <tr>\n",
       "      <th>3</th>\n",
       "      <td>http://www.wikidata.org/entity/Q236920</td>\n",
       "      <td>Emrah</td>\n",
       "      <td>x</td>\n",
       "      <td>NaN</td>\n",
       "      <td>NaN</td>\n",
       "      <td>NaN</td>\n",
       "      <td>NaN</td>\n",
       "      <td>1</td>\n",
       "    </tr>\n",
       "    <tr>\n",
       "      <th>4</th>\n",
       "      <td>http://www.wikidata.org/entity/Q182948</td>\n",
       "      <td>Göksel</td>\n",
       "      <td>x</td>\n",
       "      <td>NaN</td>\n",
       "      <td>NaN</td>\n",
       "      <td>NaN</td>\n",
       "      <td>NaN</td>\n",
       "      <td>1</td>\n",
       "    </tr>\n",
       "    <tr>\n",
       "      <th>...</th>\n",
       "      <td>...</td>\n",
       "      <td>...</td>\n",
       "      <td>...</td>\n",
       "      <td>...</td>\n",
       "      <td>...</td>\n",
       "      <td>...</td>\n",
       "      <td>...</td>\n",
       "      <td>...</td>\n",
       "    </tr>\n",
       "    <tr>\n",
       "      <th>18769</th>\n",
       "      <td>http://www.wikidata.org/entity/Q6053953</td>\n",
       "      <td>Elif Nur Bozkurt Tandoğan</td>\n",
       "      <td>NaN</td>\n",
       "      <td>Elif Nur Bozkurt</td>\n",
       "      <td>NaN</td>\n",
       "      <td>Tandoğan</td>\n",
       "      <td>NaN</td>\n",
       "      <td>4</td>\n",
       "    </tr>\n",
       "    <tr>\n",
       "      <th>18770</th>\n",
       "      <td>http://www.wikidata.org/entity/Q6085044</td>\n",
       "      <td>Muhammed Ali Fatih Erbakan</td>\n",
       "      <td>NaN</td>\n",
       "      <td>Muhammed Ali Fatih</td>\n",
       "      <td>NaN</td>\n",
       "      <td>Erbakan</td>\n",
       "      <td>NaN</td>\n",
       "      <td>4</td>\n",
       "    </tr>\n",
       "    <tr>\n",
       "      <th>18771</th>\n",
       "      <td>http://www.wikidata.org/entity/Q6041731</td>\n",
       "      <td>İsmail Hamit Özer Derbil</td>\n",
       "      <td>x</td>\n",
       "      <td>NaN</td>\n",
       "      <td>NaN</td>\n",
       "      <td>NaN</td>\n",
       "      <td>NaN</td>\n",
       "      <td>4</td>\n",
       "    </tr>\n",
       "    <tr>\n",
       "      <th>18772</th>\n",
       "      <td>http://www.wikidata.org/entity/Q6071196</td>\n",
       "      <td>Vedat Ali Özkan Kayacı</td>\n",
       "      <td>NaN</td>\n",
       "      <td>Vedat Ali Özkan</td>\n",
       "      <td>NaN</td>\n",
       "      <td>Kayacı</td>\n",
       "      <td>NaN</td>\n",
       "      <td>4</td>\n",
       "    </tr>\n",
       "    <tr>\n",
       "      <th>18773</th>\n",
       "      <td>http://www.wikidata.org/entity/Q5031</td>\n",
       "      <td>Elder Paisios of Mount Athos</td>\n",
       "      <td>x</td>\n",
       "      <td>NaN</td>\n",
       "      <td>NaN</td>\n",
       "      <td>NaN</td>\n",
       "      <td>NaN</td>\n",
       "      <td>5</td>\n",
       "    </tr>\n",
       "  </tbody>\n",
       "</table>\n",
       "<p>18491 rows × 8 columns</p>\n",
       "</div>"
      ],
      "text/plain": [
       "                                            id                      label_tr  \\\n",
       "0       http://www.wikidata.org/entity/Q282782                          Ceza   \n",
       "1       http://www.wikidata.org/entity/Q288019                        Gülşen   \n",
       "2       http://www.wikidata.org/entity/Q236047                        Hadise   \n",
       "3       http://www.wikidata.org/entity/Q236920                         Emrah   \n",
       "4       http://www.wikidata.org/entity/Q182948                        Göksel   \n",
       "...                                        ...                           ...   \n",
       "18769  http://www.wikidata.org/entity/Q6053953     Elif Nur Bozkurt Tandoğan   \n",
       "18770  http://www.wikidata.org/entity/Q6085044    Muhammed Ali Fatih Erbakan   \n",
       "18771  http://www.wikidata.org/entity/Q6041731      İsmail Hamit Özer Derbil   \n",
       "18772  http://www.wikidata.org/entity/Q6071196        Vedat Ali Özkan Kayacı   \n",
       "18773     http://www.wikidata.org/entity/Q5031  Elder Paisios of Mount Athos   \n",
       "\n",
       "      comment          Given name Middle Name Family name Maiden Name  \\\n",
       "0           x                 NaN         NaN         NaN         NaN   \n",
       "1           x                 NaN         NaN         NaN         NaN   \n",
       "2           x                 NaN         NaN         NaN         NaN   \n",
       "3           x                 NaN         NaN         NaN         NaN   \n",
       "4           x                 NaN         NaN         NaN         NaN   \n",
       "...       ...                 ...         ...         ...         ...   \n",
       "18769     NaN   Elif Nur Bozkurt          NaN    Tandoğan         NaN   \n",
       "18770     NaN  Muhammed Ali Fatih         NaN     Erbakan         NaN   \n",
       "18771       x                 NaN         NaN         NaN         NaN   \n",
       "18772     NaN     Vedat Ali Özkan         NaN      Kayacı         NaN   \n",
       "18773       x                 NaN         NaN         NaN         NaN   \n",
       "\n",
       "       Unnamed: 7  \n",
       "0               1  \n",
       "1               1  \n",
       "2               1  \n",
       "3               1  \n",
       "4               1  \n",
       "...           ...  \n",
       "18769           4  \n",
       "18770           4  \n",
       "18771           4  \n",
       "18772           4  \n",
       "18773           5  \n",
       "\n",
       "[18491 rows x 8 columns]"
      ]
     },
     "execution_count": 187,
     "metadata": {},
     "output_type": "execute_result"
    }
   ],
   "source": [
    "df2_turk.head(18750)"
   ]
  },
  {
   "cell_type": "code",
   "execution_count": 147,
   "metadata": {},
   "outputs": [
    {
     "data": {
      "text/plain": [
       "id                 0\n",
       "label_tr           0\n",
       "comment        18037\n",
       "Given name       453\n",
       "Middle Name    18489\n",
       "Family name      457\n",
       "Maiden Name    18480\n",
       "Unnamed: 7         0\n",
       "dtype: int64"
      ]
     },
     "execution_count": 147,
     "metadata": {},
     "output_type": "execute_result"
    }
   ],
   "source": [
    "nan_count = np.sum(df2_turk.isnull(), axis = 0)\n",
    "nan_count"
   ]
  },
  {
   "cell_type": "code",
   "execution_count": 22,
   "metadata": {},
   "outputs": [
    {
     "name": "stderr",
     "output_type": "stream",
     "text": [
      "/var/folders/4g/6d3mv01d7k7dpqlb46ckdk_00000gn/T/ipykernel_3525/3898517299.py:1: SettingWithCopyWarning: \n",
      "A value is trying to be set on a copy of a slice from a DataFrame\n",
      "\n",
      "See the caveats in the documentation: https://pandas.pydata.org/pandas-docs/stable/user_guide/indexing.html#returning-a-view-versus-a-copy\n",
      "  df2['comment'].fillna('No comment', inplace = True)\n",
      "/var/folders/4g/6d3mv01d7k7dpqlb46ckdk_00000gn/T/ipykernel_3525/3898517299.py:2: SettingWithCopyWarning: \n",
      "A value is trying to be set on a copy of a slice from a DataFrame\n",
      "\n",
      "See the caveats in the documentation: https://pandas.pydata.org/pandas-docs/stable/user_guide/indexing.html#returning-a-view-versus-a-copy\n",
      "  df2['Middle Name'].fillna('No Middle name', inplace = True)\n",
      "/var/folders/4g/6d3mv01d7k7dpqlb46ckdk_00000gn/T/ipykernel_3525/3898517299.py:3: SettingWithCopyWarning: \n",
      "A value is trying to be set on a copy of a slice from a DataFrame\n",
      "\n",
      "See the caveats in the documentation: https://pandas.pydata.org/pandas-docs/stable/user_guide/indexing.html#returning-a-view-versus-a-copy\n",
      "  df2['Maiden Name'].fillna('Unknown', inplace = True)\n",
      "/var/folders/4g/6d3mv01d7k7dpqlb46ckdk_00000gn/T/ipykernel_3525/3898517299.py:4: SettingWithCopyWarning: \n",
      "A value is trying to be set on a copy of a slice from a DataFrame\n",
      "\n",
      "See the caveats in the documentation: https://pandas.pydata.org/pandas-docs/stable/user_guide/indexing.html#returning-a-view-versus-a-copy\n",
      "  df2['Family name'].fillna('Unknown', inplace = True)\n"
     ]
    }
   ],
   "source": [
    "df2['comment'].fillna('No comment', inplace = True)\n",
    "df2['Middle Name'].fillna('No Middle name', inplace = True)\n",
    "df2['Maiden Name'].fillna('Unknown', inplace = True)\n",
    "df2['Family name'].fillna('Unknown', inplace = True)\n",
    "#df2['Given name'].fillna('Unknown', inplace = True)"
   ]
  },
  {
   "cell_type": "code",
   "execution_count": 23,
   "metadata": {},
   "outputs": [
    {
     "data": {
      "text/plain": [
       "id               0\n",
       "label_tr         0\n",
       "comment          0\n",
       "Given name     453\n",
       "Middle Name      0\n",
       "Family name      0\n",
       "Maiden Name      0\n",
       "Unnamed: 7       0\n",
       "dtype: int64"
      ]
     },
     "execution_count": 23,
     "metadata": {},
     "output_type": "execute_result"
    }
   ],
   "source": [
    "nan_count = np.sum(df2_turk.isnull(), axis = 0)\n",
    "nan_count"
   ]
  },
  {
   "cell_type": "code",
   "execution_count": null,
   "metadata": {},
   "outputs": [],
   "source": []
  }
 ],
 "metadata": {
  "kernelspec": {
   "display_name": "Python 3",
   "language": "python",
   "name": "python3"
  },
  "language_info": {
   "codemirror_mode": {
    "name": "ipython",
    "version": 3
   },
   "file_extension": ".py",
   "mimetype": "text/x-python",
   "name": "python",
   "nbconvert_exporter": "python",
   "pygments_lexer": "ipython3",
   "version": "3.11.5"
  },
  "orig_nbformat": 4,
  "vscode": {
   "interpreter": {
    "hash": "aee8b7b246df8f9039afb4144a1f6fd8d2ca17a180786b69acc140d282b71a49"
   }
  }
 },
 "nbformat": 4,
 "nbformat_minor": 2
}
