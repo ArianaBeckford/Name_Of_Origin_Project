{
 "cells": [
  {
   "cell_type": "code",
   "execution_count": 1,
   "metadata": {},
   "outputs": [],
   "source": [
    "import pandas as pd\n",
    "import numpy as np\n",
    "import os "
   ]
  },
  {
   "cell_type": "code",
   "execution_count": 2,
   "metadata": {},
   "outputs": [
    {
     "name": "stdout",
     "output_type": "stream",
     "text": [
      "                                            id                      label_tr  \\\n",
      "0       http://www.wikidata.org/entity/Q282782                          Ceza   \n",
      "1       http://www.wikidata.org/entity/Q288019                        Gülşen   \n",
      "2       http://www.wikidata.org/entity/Q236047                        Hadise   \n",
      "3       http://www.wikidata.org/entity/Q236920                         Emrah   \n",
      "4       http://www.wikidata.org/entity/Q182948                        Göksel   \n",
      "...                                        ...                           ...   \n",
      "18769  http://www.wikidata.org/entity/Q6053953     Elif Nur Bozkurt Tandoğan   \n",
      "18770  http://www.wikidata.org/entity/Q6085044    Muhammed Ali Fatih Erbakan   \n",
      "18771  http://www.wikidata.org/entity/Q6041731      İsmail Hamit Özer Derbil   \n",
      "18772  http://www.wikidata.org/entity/Q6071196        Vedat Ali Özkan Kayacı   \n",
      "18773     http://www.wikidata.org/entity/Q5031  Elder Paisios of Mount Athos   \n",
      "\n",
      "      comment          Given name Middle Name Family name Maiden Name  \\\n",
      "0           x                 NaN         NaN         NaN         NaN   \n",
      "1           x                 NaN         NaN         NaN         NaN   \n",
      "2           x                 NaN         NaN         NaN         NaN   \n",
      "3           x                 NaN         NaN         NaN         NaN   \n",
      "4           x                 NaN         NaN         NaN         NaN   \n",
      "...       ...                 ...         ...         ...         ...   \n",
      "18769     NaN   Elif Nur Bozkurt          NaN    Tandoğan         NaN   \n",
      "18770     NaN  Muhammed Ali Fatih         NaN     Erbakan         NaN   \n",
      "18771       x                 NaN         NaN         NaN         NaN   \n",
      "18772     NaN     Vedat Ali Özkan         NaN      Kayacı         NaN   \n",
      "18773       x                 NaN         NaN         NaN         NaN   \n",
      "\n",
      "       Unnamed: 7  \n",
      "0               1  \n",
      "1               1  \n",
      "2               1  \n",
      "3               1  \n",
      "4               1  \n",
      "...           ...  \n",
      "18769           4  \n",
      "18770           4  \n",
      "18771           4  \n",
      "18772           4  \n",
      "18773           5  \n",
      "\n",
      "[18774 rows x 8 columns]\n"
     ]
    }
   ],
   "source": [
    "df  =  pd.read_excel('EXGR_Turkish names2.xlsx')\n",
    "print(df)"
   ]
  },
  {
   "cell_type": "code",
   "execution_count": 3,
   "metadata": {},
   "outputs": [
    {
     "data": {
      "text/plain": [
       "(18774, 8)"
      ]
     },
     "execution_count": 3,
     "metadata": {},
     "output_type": "execute_result"
    }
   ],
   "source": [
    "df.shape"
   ]
  },
  {
   "cell_type": "code",
   "execution_count": 4,
   "metadata": {},
   "outputs": [
    {
     "data": {
      "text/html": [
       "<div>\n",
       "<style scoped>\n",
       "    .dataframe tbody tr th:only-of-type {\n",
       "        vertical-align: middle;\n",
       "    }\n",
       "\n",
       "    .dataframe tbody tr th {\n",
       "        vertical-align: top;\n",
       "    }\n",
       "\n",
       "    .dataframe thead th {\n",
       "        text-align: right;\n",
       "    }\n",
       "</style>\n",
       "<table border=\"1\" class=\"dataframe\">\n",
       "  <thead>\n",
       "    <tr style=\"text-align: right;\">\n",
       "      <th></th>\n",
       "      <th>id</th>\n",
       "      <th>label_tr</th>\n",
       "      <th>comment</th>\n",
       "      <th>Given name</th>\n",
       "      <th>Middle Name</th>\n",
       "      <th>Family name</th>\n",
       "      <th>Maiden Name</th>\n",
       "      <th>Unnamed: 7</th>\n",
       "    </tr>\n",
       "  </thead>\n",
       "  <tbody>\n",
       "    <tr>\n",
       "      <th>0</th>\n",
       "      <td>http://www.wikidata.org/entity/Q282782</td>\n",
       "      <td>Ceza</td>\n",
       "      <td>x</td>\n",
       "      <td>NaN</td>\n",
       "      <td>NaN</td>\n",
       "      <td>NaN</td>\n",
       "      <td>NaN</td>\n",
       "      <td>1</td>\n",
       "    </tr>\n",
       "    <tr>\n",
       "      <th>1</th>\n",
       "      <td>http://www.wikidata.org/entity/Q288019</td>\n",
       "      <td>Gülşen</td>\n",
       "      <td>x</td>\n",
       "      <td>NaN</td>\n",
       "      <td>NaN</td>\n",
       "      <td>NaN</td>\n",
       "      <td>NaN</td>\n",
       "      <td>1</td>\n",
       "    </tr>\n",
       "    <tr>\n",
       "      <th>2</th>\n",
       "      <td>http://www.wikidata.org/entity/Q236047</td>\n",
       "      <td>Hadise</td>\n",
       "      <td>x</td>\n",
       "      <td>NaN</td>\n",
       "      <td>NaN</td>\n",
       "      <td>NaN</td>\n",
       "      <td>NaN</td>\n",
       "      <td>1</td>\n",
       "    </tr>\n",
       "    <tr>\n",
       "      <th>3</th>\n",
       "      <td>http://www.wikidata.org/entity/Q236920</td>\n",
       "      <td>Emrah</td>\n",
       "      <td>x</td>\n",
       "      <td>NaN</td>\n",
       "      <td>NaN</td>\n",
       "      <td>NaN</td>\n",
       "      <td>NaN</td>\n",
       "      <td>1</td>\n",
       "    </tr>\n",
       "    <tr>\n",
       "      <th>4</th>\n",
       "      <td>http://www.wikidata.org/entity/Q182948</td>\n",
       "      <td>Göksel</td>\n",
       "      <td>x</td>\n",
       "      <td>NaN</td>\n",
       "      <td>NaN</td>\n",
       "      <td>NaN</td>\n",
       "      <td>NaN</td>\n",
       "      <td>1</td>\n",
       "    </tr>\n",
       "  </tbody>\n",
       "</table>\n",
       "</div>"
      ],
      "text/plain": [
       "                                       id label_tr comment Given name  \\\n",
       "0  http://www.wikidata.org/entity/Q282782     Ceza       x        NaN   \n",
       "1  http://www.wikidata.org/entity/Q288019   Gülşen       x        NaN   \n",
       "2  http://www.wikidata.org/entity/Q236047   Hadise       x        NaN   \n",
       "3  http://www.wikidata.org/entity/Q236920    Emrah       x        NaN   \n",
       "4  http://www.wikidata.org/entity/Q182948   Göksel       x        NaN   \n",
       "\n",
       "  Middle Name Family name Maiden Name  Unnamed: 7  \n",
       "0         NaN         NaN         NaN           1  \n",
       "1         NaN         NaN         NaN           1  \n",
       "2         NaN         NaN         NaN           1  \n",
       "3         NaN         NaN         NaN           1  \n",
       "4         NaN         NaN         NaN           1  "
      ]
     },
     "execution_count": 4,
     "metadata": {},
     "output_type": "execute_result"
    }
   ],
   "source": [
    "df.head()"
   ]
  },
  {
   "cell_type": "code",
   "execution_count": 5,
   "metadata": {},
   "outputs": [
    {
     "data": {
      "text/plain": [
       "True"
      ]
     },
     "execution_count": 5,
     "metadata": {},
     "output_type": "execute_result"
    }
   ],
   "source": [
    "df.isnull().values.any()"
   ]
  },
  {
   "cell_type": "code",
   "execution_count": 6,
   "metadata": {},
   "outputs": [
    {
     "data": {
      "text/html": [
       "<div>\n",
       "<style scoped>\n",
       "    .dataframe tbody tr th:only-of-type {\n",
       "        vertical-align: middle;\n",
       "    }\n",
       "\n",
       "    .dataframe tbody tr th {\n",
       "        vertical-align: top;\n",
       "    }\n",
       "\n",
       "    .dataframe thead th {\n",
       "        text-align: right;\n",
       "    }\n",
       "</style>\n",
       "<table border=\"1\" class=\"dataframe\">\n",
       "  <thead>\n",
       "    <tr style=\"text-align: right;\">\n",
       "      <th></th>\n",
       "      <th>id</th>\n",
       "      <th>label_tr</th>\n",
       "      <th>comment</th>\n",
       "      <th>Given name</th>\n",
       "      <th>Middle Name</th>\n",
       "      <th>Family name</th>\n",
       "      <th>Maiden Name</th>\n",
       "      <th>Unnamed: 7</th>\n",
       "    </tr>\n",
       "  </thead>\n",
       "  <tbody>\n",
       "    <tr>\n",
       "      <th>0</th>\n",
       "      <td>False</td>\n",
       "      <td>False</td>\n",
       "      <td>False</td>\n",
       "      <td>True</td>\n",
       "      <td>True</td>\n",
       "      <td>True</td>\n",
       "      <td>True</td>\n",
       "      <td>False</td>\n",
       "    </tr>\n",
       "    <tr>\n",
       "      <th>1</th>\n",
       "      <td>False</td>\n",
       "      <td>False</td>\n",
       "      <td>False</td>\n",
       "      <td>True</td>\n",
       "      <td>True</td>\n",
       "      <td>True</td>\n",
       "      <td>True</td>\n",
       "      <td>False</td>\n",
       "    </tr>\n",
       "    <tr>\n",
       "      <th>2</th>\n",
       "      <td>False</td>\n",
       "      <td>False</td>\n",
       "      <td>False</td>\n",
       "      <td>True</td>\n",
       "      <td>True</td>\n",
       "      <td>True</td>\n",
       "      <td>True</td>\n",
       "      <td>False</td>\n",
       "    </tr>\n",
       "    <tr>\n",
       "      <th>3</th>\n",
       "      <td>False</td>\n",
       "      <td>False</td>\n",
       "      <td>False</td>\n",
       "      <td>True</td>\n",
       "      <td>True</td>\n",
       "      <td>True</td>\n",
       "      <td>True</td>\n",
       "      <td>False</td>\n",
       "    </tr>\n",
       "    <tr>\n",
       "      <th>4</th>\n",
       "      <td>False</td>\n",
       "      <td>False</td>\n",
       "      <td>False</td>\n",
       "      <td>True</td>\n",
       "      <td>True</td>\n",
       "      <td>True</td>\n",
       "      <td>True</td>\n",
       "      <td>False</td>\n",
       "    </tr>\n",
       "  </tbody>\n",
       "</table>\n",
       "</div>"
      ],
      "text/plain": [
       "      id  label_tr  comment  Given name  Middle Name  Family name  \\\n",
       "0  False     False    False        True         True         True   \n",
       "1  False     False    False        True         True         True   \n",
       "2  False     False    False        True         True         True   \n",
       "3  False     False    False        True         True         True   \n",
       "4  False     False    False        True         True         True   \n",
       "\n",
       "   Maiden Name  Unnamed: 7  \n",
       "0         True       False  \n",
       "1         True       False  \n",
       "2         True       False  \n",
       "3         True       False  \n",
       "4         True       False  "
      ]
     },
     "execution_count": 6,
     "metadata": {},
     "output_type": "execute_result"
    }
   ],
   "source": [
    "df.isnull().head()"
   ]
  },
  {
   "cell_type": "code",
   "execution_count": 7,
   "metadata": {},
   "outputs": [
    {
     "data": {
      "text/plain": [
       "id                 0\n",
       "label_tr           0\n",
       "comment        18318\n",
       "Given name       455\n",
       "Middle Name    18772\n",
       "Family name      459\n",
       "Maiden Name    18763\n",
       "Unnamed: 7         0\n",
       "dtype: int64"
      ]
     },
     "execution_count": 7,
     "metadata": {},
     "output_type": "execute_result"
    }
   ],
   "source": [
    "nan_count = np.sum(df.isnull(), axis = 0)\n",
    "nan_count"
   ]
  },
  {
   "cell_type": "code",
   "execution_count": 8,
   "metadata": {},
   "outputs": [
    {
     "data": {
      "text/plain": [
       "True"
      ]
     },
     "execution_count": 8,
     "metadata": {},
     "output_type": "execute_result"
    }
   ],
   "source": [
    "df['label_tr'].duplicated().any()"
   ]
  },
  {
   "cell_type": "code",
   "execution_count": 9,
   "metadata": {},
   "outputs": [
    {
     "name": "stdout",
     "output_type": "stream",
     "text": [
      "                                            id                      label_tr  \\\n",
      "0       http://www.wikidata.org/entity/Q282782                          Ceza   \n",
      "1       http://www.wikidata.org/entity/Q288019                        Gülşen   \n",
      "2       http://www.wikidata.org/entity/Q236047                        Hadise   \n",
      "3       http://www.wikidata.org/entity/Q236920                         Emrah   \n",
      "4       http://www.wikidata.org/entity/Q182948                        Göksel   \n",
      "...                                        ...                           ...   \n",
      "18769  http://www.wikidata.org/entity/Q6053953     Elif Nur Bozkurt Tandoğan   \n",
      "18770  http://www.wikidata.org/entity/Q6085044    Muhammed Ali Fatih Erbakan   \n",
      "18771  http://www.wikidata.org/entity/Q6041731      İsmail Hamit Özer Derbil   \n",
      "18772  http://www.wikidata.org/entity/Q6071196        Vedat Ali Özkan Kayacı   \n",
      "18773     http://www.wikidata.org/entity/Q5031  Elder Paisios of Mount Athos   \n",
      "\n",
      "      comment          Given name Middle Name Family name Maiden Name  \\\n",
      "0           x                 NaN         NaN         NaN         NaN   \n",
      "1           x                 NaN         NaN         NaN         NaN   \n",
      "2           x                 NaN         NaN         NaN         NaN   \n",
      "3           x                 NaN         NaN         NaN         NaN   \n",
      "4           x                 NaN         NaN         NaN         NaN   \n",
      "...       ...                 ...         ...         ...         ...   \n",
      "18769     NaN   Elif Nur Bozkurt          NaN    Tandoğan         NaN   \n",
      "18770     NaN  Muhammed Ali Fatih         NaN     Erbakan         NaN   \n",
      "18771       x                 NaN         NaN         NaN         NaN   \n",
      "18772     NaN     Vedat Ali Özkan         NaN      Kayacı         NaN   \n",
      "18773       x                 NaN         NaN         NaN         NaN   \n",
      "\n",
      "       Unnamed: 7  \n",
      "0               1  \n",
      "1               1  \n",
      "2               1  \n",
      "3               1  \n",
      "4               1  \n",
      "...           ...  \n",
      "18769           4  \n",
      "18770           4  \n",
      "18771           4  \n",
      "18772           4  \n",
      "18773           5  \n",
      "\n",
      "[18491 rows x 8 columns]\n"
     ]
    }
   ],
   "source": [
    "df2 =df.drop_duplicates(subset=['label_tr'])\n",
    "print(df2)"
   ]
  },
  {
   "cell_type": "code",
   "execution_count": 10,
   "metadata": {},
   "outputs": [
    {
     "data": {
      "text/plain": [
       "False"
      ]
     },
     "execution_count": 10,
     "metadata": {},
     "output_type": "execute_result"
    }
   ],
   "source": [
    "df2['label_tr'].duplicated().any()\n"
   ]
  },
  {
   "cell_type": "code",
   "execution_count": 11,
   "metadata": {},
   "outputs": [
    {
     "data": {
      "text/plain": [
       "(18491, 8)"
      ]
     },
     "execution_count": 11,
     "metadata": {},
     "output_type": "execute_result"
    }
   ],
   "source": [
    "df2.shape"
   ]
  },
  {
   "cell_type": "code",
   "execution_count": 12,
   "metadata": {},
   "outputs": [
    {
     "data": {
      "text/plain": [
       "id                 0\n",
       "label_tr           0\n",
       "comment        18037\n",
       "Given name       453\n",
       "Middle Name    18489\n",
       "Family name      457\n",
       "Maiden Name    18480\n",
       "Unnamed: 7         0\n",
       "dtype: int64"
      ]
     },
     "execution_count": 12,
     "metadata": {},
     "output_type": "execute_result"
    }
   ],
   "source": [
    "nan_count = np.sum(df2.isnull(), axis = 0)\n",
    "nan_count"
   ]
  },
  {
   "cell_type": "code",
   "execution_count": 13,
   "metadata": {},
   "outputs": [
    {
     "name": "stdout",
     "output_type": "stream",
     "text": [
      "['comment', 'Given name', 'Middle Name', 'Family name', 'Maiden Name']\n"
     ]
    }
   ],
   "source": [
    "condition = nan_count != 0\n",
    "col_names = nan_count[condition].index\n",
    "nan_cols = list(col_names)\n",
    "print(nan_cols)"
   ]
  },
  {
   "cell_type": "code",
   "execution_count": 14,
   "metadata": {},
   "outputs": [
    {
     "name": "stdout",
     "output_type": "stream",
     "text": [
      "['x' nan]\n",
      "[nan 'Melahat' 'Freddy' ... 'Elif Nur Bozkurt ' 'Muhammed Ali Fatih'\n",
      " 'Vedat Ali Özkan']\n",
      "[nan 'Sahin' 'Kemal']\n",
      "[nan 'Abbasova' 'Scholl' ... 'Kapıcıoğlu' 'Ali Marandi' 'Bektur']\n",
      "[nan 'Önder' 'Kafaoğlu' 'Türker' 'Doğan' 'Karahan' 'Sabancı' 'Ekşi' 'İnan'\n",
      " 'Tosun' 'Sayan']\n"
     ]
    }
   ],
   "source": [
    "print(df2['comment'].unique())\n",
    "print(df2['Given name'].unique())\n",
    "print(df2['Middle Name'].unique())\n",
    "print(df2['Family name'].unique())\n",
    "print(df2['Maiden Name'].unique())"
   ]
  },
  {
   "cell_type": "code",
   "execution_count": 15,
   "metadata": {},
   "outputs": [],
   "source": [
    "split_names = df2['label_tr'].str.split(expand=True)\n",
    "num_space = split_names.shape[0]\n",
    "\n",
    "\n",
    "if num_space == 0:\n",
    "    df2.loc[:, 'Given name'] = split_names[0]\n",
    "    df2.loc[:, 'Middle Name'] = None\n",
    "    df2.loc[:, 'Family name'] = None\n",
    "elif num_space == 1:\n",
    "    df2.loc[:, 'Given name'] = split_names[0]\n",
    "    df2.loc[:, 'Middle Name'] = None\n",
    "    df2.loc[:, 'Family name'] = None\n",
    "elif num_space == 2:\n",
    "    df2.loc[:, 'Given name'] = split_names[0]\n",
    "    df2.loc[:, 'Middle Name'] = None\n",
    "    df2.loc[:, 'Family name'] = split_names[2]\n",
    "elif num_space == 3:\n",
    "    df2.loc[:, 'Given name'] = split_names[0]\n",
    "    df2.loc[:, 'Middle Name'] = split_names[1]\n",
    "    df2.loc[:, 'Family name'] = split_names[2]  \n",
    "else:\n",
    "    pass\n",
    "    \n",
    "    \n",
    "\n"
   ]
  },
  {
   "cell_type": "code",
   "execution_count": 16,
   "metadata": {},
   "outputs": [
    {
     "name": "stdout",
     "output_type": "stream",
     "text": [
      "0                       NaN\n",
      "1                       NaN\n",
      "2                       NaN\n",
      "3                       NaN\n",
      "4                       NaN\n",
      "                ...        \n",
      "18769     Elif Nur Bozkurt \n",
      "18770    Muhammed Ali Fatih\n",
      "18771                   NaN\n",
      "18772       Vedat Ali Özkan\n",
      "18773                   NaN\n",
      "Name: Given name, Length: 18491, dtype: object\n"
     ]
    }
   ],
   "source": [
    "print(df2['Given name'])"
   ]
  },
  {
   "cell_type": "code",
   "execution_count": 17,
   "metadata": {},
   "outputs": [
    {
     "name": "stdout",
     "output_type": "stream",
     "text": [
      "0        NaN\n",
      "1        NaN\n",
      "2        NaN\n",
      "3        NaN\n",
      "4        NaN\n",
      "        ... \n",
      "18769    NaN\n",
      "18770    NaN\n",
      "18771    NaN\n",
      "18772    NaN\n",
      "18773    NaN\n",
      "Name: Middle Name, Length: 18491, dtype: object\n"
     ]
    }
   ],
   "source": [
    "print(df2['Middle Name'])"
   ]
  },
  {
   "cell_type": "code",
   "execution_count": 18,
   "metadata": {},
   "outputs": [
    {
     "name": "stdout",
     "output_type": "stream",
     "text": [
      "0             NaN\n",
      "1             NaN\n",
      "2             NaN\n",
      "3             NaN\n",
      "4             NaN\n",
      "           ...   \n",
      "18769    Tandoğan\n",
      "18770     Erbakan\n",
      "18771         NaN\n",
      "18772      Kayacı\n",
      "18773         NaN\n",
      "Name: Family name, Length: 18491, dtype: object\n"
     ]
    }
   ],
   "source": [
    "print(df2['Family name'])"
   ]
  },
  {
   "cell_type": "code",
   "execution_count": 19,
   "metadata": {},
   "outputs": [
    {
     "name": "stdout",
     "output_type": "stream",
     "text": [
      "                                            id                      label_tr  \\\n",
      "0       http://www.wikidata.org/entity/Q282782                          Ceza   \n",
      "1       http://www.wikidata.org/entity/Q288019                        Gülşen   \n",
      "2       http://www.wikidata.org/entity/Q236047                        Hadise   \n",
      "3       http://www.wikidata.org/entity/Q236920                         Emrah   \n",
      "4       http://www.wikidata.org/entity/Q182948                        Göksel   \n",
      "...                                        ...                           ...   \n",
      "18769  http://www.wikidata.org/entity/Q6053953     Elif Nur Bozkurt Tandoğan   \n",
      "18770  http://www.wikidata.org/entity/Q6085044    Muhammed Ali Fatih Erbakan   \n",
      "18771  http://www.wikidata.org/entity/Q6041731      İsmail Hamit Özer Derbil   \n",
      "18772  http://www.wikidata.org/entity/Q6071196        Vedat Ali Özkan Kayacı   \n",
      "18773     http://www.wikidata.org/entity/Q5031  Elder Paisios of Mount Athos   \n",
      "\n",
      "      comment          Given name Middle Name Family name Maiden Name  \\\n",
      "0           x                 NaN         NaN         NaN         NaN   \n",
      "1           x                 NaN         NaN         NaN         NaN   \n",
      "2           x                 NaN         NaN         NaN         NaN   \n",
      "3           x                 NaN         NaN         NaN         NaN   \n",
      "4           x                 NaN         NaN         NaN         NaN   \n",
      "...       ...                 ...         ...         ...         ...   \n",
      "18769     NaN   Elif Nur Bozkurt          NaN    Tandoğan         NaN   \n",
      "18770     NaN  Muhammed Ali Fatih         NaN     Erbakan         NaN   \n",
      "18771       x                 NaN         NaN         NaN         NaN   \n",
      "18772     NaN     Vedat Ali Özkan         NaN      Kayacı         NaN   \n",
      "18773       x                 NaN         NaN         NaN         NaN   \n",
      "\n",
      "       Unnamed: 7  \n",
      "0               1  \n",
      "1               1  \n",
      "2               1  \n",
      "3               1  \n",
      "4               1  \n",
      "...           ...  \n",
      "18769           4  \n",
      "18770           4  \n",
      "18771           4  \n",
      "18772           4  \n",
      "18773           5  \n",
      "\n",
      "[18491 rows x 8 columns]\n"
     ]
    }
   ],
   "source": [
    "print(df2)"
   ]
  },
  {
   "cell_type": "code",
   "execution_count": 20,
   "metadata": {},
   "outputs": [
    {
     "data": {
      "text/html": [
       "<div>\n",
       "<style scoped>\n",
       "    .dataframe tbody tr th:only-of-type {\n",
       "        vertical-align: middle;\n",
       "    }\n",
       "\n",
       "    .dataframe tbody tr th {\n",
       "        vertical-align: top;\n",
       "    }\n",
       "\n",
       "    .dataframe thead th {\n",
       "        text-align: right;\n",
       "    }\n",
       "</style>\n",
       "<table border=\"1\" class=\"dataframe\">\n",
       "  <thead>\n",
       "    <tr style=\"text-align: right;\">\n",
       "      <th></th>\n",
       "      <th>id</th>\n",
       "      <th>label_tr</th>\n",
       "      <th>comment</th>\n",
       "      <th>Given name</th>\n",
       "      <th>Middle Name</th>\n",
       "      <th>Family name</th>\n",
       "      <th>Maiden Name</th>\n",
       "      <th>Unnamed: 7</th>\n",
       "    </tr>\n",
       "  </thead>\n",
       "  <tbody>\n",
       "    <tr>\n",
       "      <th>0</th>\n",
       "      <td>http://www.wikidata.org/entity/Q282782</td>\n",
       "      <td>Ceza</td>\n",
       "      <td>x</td>\n",
       "      <td>NaN</td>\n",
       "      <td>NaN</td>\n",
       "      <td>NaN</td>\n",
       "      <td>NaN</td>\n",
       "      <td>1</td>\n",
       "    </tr>\n",
       "    <tr>\n",
       "      <th>1</th>\n",
       "      <td>http://www.wikidata.org/entity/Q288019</td>\n",
       "      <td>Gülşen</td>\n",
       "      <td>x</td>\n",
       "      <td>NaN</td>\n",
       "      <td>NaN</td>\n",
       "      <td>NaN</td>\n",
       "      <td>NaN</td>\n",
       "      <td>1</td>\n",
       "    </tr>\n",
       "    <tr>\n",
       "      <th>2</th>\n",
       "      <td>http://www.wikidata.org/entity/Q236047</td>\n",
       "      <td>Hadise</td>\n",
       "      <td>x</td>\n",
       "      <td>NaN</td>\n",
       "      <td>NaN</td>\n",
       "      <td>NaN</td>\n",
       "      <td>NaN</td>\n",
       "      <td>1</td>\n",
       "    </tr>\n",
       "    <tr>\n",
       "      <th>3</th>\n",
       "      <td>http://www.wikidata.org/entity/Q236920</td>\n",
       "      <td>Emrah</td>\n",
       "      <td>x</td>\n",
       "      <td>NaN</td>\n",
       "      <td>NaN</td>\n",
       "      <td>NaN</td>\n",
       "      <td>NaN</td>\n",
       "      <td>1</td>\n",
       "    </tr>\n",
       "    <tr>\n",
       "      <th>4</th>\n",
       "      <td>http://www.wikidata.org/entity/Q182948</td>\n",
       "      <td>Göksel</td>\n",
       "      <td>x</td>\n",
       "      <td>NaN</td>\n",
       "      <td>NaN</td>\n",
       "      <td>NaN</td>\n",
       "      <td>NaN</td>\n",
       "      <td>1</td>\n",
       "    </tr>\n",
       "    <tr>\n",
       "      <th>...</th>\n",
       "      <td>...</td>\n",
       "      <td>...</td>\n",
       "      <td>...</td>\n",
       "      <td>...</td>\n",
       "      <td>...</td>\n",
       "      <td>...</td>\n",
       "      <td>...</td>\n",
       "      <td>...</td>\n",
       "    </tr>\n",
       "    <tr>\n",
       "      <th>135</th>\n",
       "      <td>http://www.wikidata.org/entity/Q260671</td>\n",
       "      <td>Kuanitra Holingsvorth</td>\n",
       "      <td>NaN</td>\n",
       "      <td>Kuanitra</td>\n",
       "      <td>NaN</td>\n",
       "      <td>Holingsvorth</td>\n",
       "      <td>NaN</td>\n",
       "      <td>2</td>\n",
       "    </tr>\n",
       "    <tr>\n",
       "      <th>136</th>\n",
       "      <td>http://www.wikidata.org/entity/Q88831</td>\n",
       "      <td>Emel Heinreich</td>\n",
       "      <td>NaN</td>\n",
       "      <td>Emel</td>\n",
       "      <td>NaN</td>\n",
       "      <td>Heinreich</td>\n",
       "      <td>NaN</td>\n",
       "      <td>2</td>\n",
       "    </tr>\n",
       "    <tr>\n",
       "      <th>137</th>\n",
       "      <td>http://www.wikidata.org/entity/Q1285501</td>\n",
       "      <td>Esther Benbassa</td>\n",
       "      <td>NaN</td>\n",
       "      <td>Esther</td>\n",
       "      <td>NaN</td>\n",
       "      <td>Benbassa</td>\n",
       "      <td>NaN</td>\n",
       "      <td>2</td>\n",
       "    </tr>\n",
       "    <tr>\n",
       "      <th>138</th>\n",
       "      <td>http://www.wikidata.org/entity/Q373402</td>\n",
       "      <td>Gustave Bebbe</td>\n",
       "      <td>NaN</td>\n",
       "      <td>Gustave</td>\n",
       "      <td>NaN</td>\n",
       "      <td>Bebbe</td>\n",
       "      <td>NaN</td>\n",
       "      <td>2</td>\n",
       "    </tr>\n",
       "    <tr>\n",
       "      <th>139</th>\n",
       "      <td>http://www.wikidata.org/entity/Q4661944</td>\n",
       "      <td>Aaron Cupino</td>\n",
       "      <td>NaN</td>\n",
       "      <td>Aaron</td>\n",
       "      <td>NaN</td>\n",
       "      <td>Cupino</td>\n",
       "      <td>NaN</td>\n",
       "      <td>2</td>\n",
       "    </tr>\n",
       "  </tbody>\n",
       "</table>\n",
       "<p>140 rows × 8 columns</p>\n",
       "</div>"
      ],
      "text/plain": [
       "                                          id               label_tr comment  \\\n",
       "0     http://www.wikidata.org/entity/Q282782                   Ceza       x   \n",
       "1     http://www.wikidata.org/entity/Q288019                 Gülşen       x   \n",
       "2     http://www.wikidata.org/entity/Q236047                 Hadise       x   \n",
       "3     http://www.wikidata.org/entity/Q236920                  Emrah       x   \n",
       "4     http://www.wikidata.org/entity/Q182948                 Göksel       x   \n",
       "..                                       ...                    ...     ...   \n",
       "135   http://www.wikidata.org/entity/Q260671  Kuanitra Holingsvorth     NaN   \n",
       "136    http://www.wikidata.org/entity/Q88831         Emel Heinreich     NaN   \n",
       "137  http://www.wikidata.org/entity/Q1285501        Esther Benbassa     NaN   \n",
       "138   http://www.wikidata.org/entity/Q373402          Gustave Bebbe     NaN   \n",
       "139  http://www.wikidata.org/entity/Q4661944           Aaron Cupino     NaN   \n",
       "\n",
       "    Given name Middle Name   Family name Maiden Name  Unnamed: 7  \n",
       "0          NaN         NaN           NaN         NaN           1  \n",
       "1          NaN         NaN           NaN         NaN           1  \n",
       "2          NaN         NaN           NaN         NaN           1  \n",
       "3          NaN         NaN           NaN         NaN           1  \n",
       "4          NaN         NaN           NaN         NaN           1  \n",
       "..         ...         ...           ...         ...         ...  \n",
       "135   Kuanitra         NaN  Holingsvorth         NaN           2  \n",
       "136       Emel         NaN     Heinreich         NaN           2  \n",
       "137     Esther         NaN      Benbassa         NaN           2  \n",
       "138    Gustave         NaN         Bebbe         NaN           2  \n",
       "139      Aaron         NaN        Cupino         NaN           2  \n",
       "\n",
       "[140 rows x 8 columns]"
      ]
     },
     "execution_count": 20,
     "metadata": {},
     "output_type": "execute_result"
    }
   ],
   "source": [
    "df2.head(140)"
   ]
  },
  {
   "cell_type": "code",
   "execution_count": 21,
   "metadata": {},
   "outputs": [
    {
     "data": {
      "text/plain": [
       "id                 0\n",
       "label_tr           0\n",
       "comment        18037\n",
       "Given name       453\n",
       "Middle Name    18489\n",
       "Family name      457\n",
       "Maiden Name    18480\n",
       "Unnamed: 7         0\n",
       "dtype: int64"
      ]
     },
     "execution_count": 21,
     "metadata": {},
     "output_type": "execute_result"
    }
   ],
   "source": [
    "nan_count = np.sum(df2.isnull(), axis = 0)\n",
    "nan_count"
   ]
  },
  {
   "cell_type": "code",
   "execution_count": 22,
   "metadata": {},
   "outputs": [
    {
     "name": "stderr",
     "output_type": "stream",
     "text": [
      "/var/folders/4g/6d3mv01d7k7dpqlb46ckdk_00000gn/T/ipykernel_3525/3898517299.py:1: SettingWithCopyWarning: \n",
      "A value is trying to be set on a copy of a slice from a DataFrame\n",
      "\n",
      "See the caveats in the documentation: https://pandas.pydata.org/pandas-docs/stable/user_guide/indexing.html#returning-a-view-versus-a-copy\n",
      "  df2['comment'].fillna('No comment', inplace = True)\n",
      "/var/folders/4g/6d3mv01d7k7dpqlb46ckdk_00000gn/T/ipykernel_3525/3898517299.py:2: SettingWithCopyWarning: \n",
      "A value is trying to be set on a copy of a slice from a DataFrame\n",
      "\n",
      "See the caveats in the documentation: https://pandas.pydata.org/pandas-docs/stable/user_guide/indexing.html#returning-a-view-versus-a-copy\n",
      "  df2['Middle Name'].fillna('No Middle name', inplace = True)\n",
      "/var/folders/4g/6d3mv01d7k7dpqlb46ckdk_00000gn/T/ipykernel_3525/3898517299.py:3: SettingWithCopyWarning: \n",
      "A value is trying to be set on a copy of a slice from a DataFrame\n",
      "\n",
      "See the caveats in the documentation: https://pandas.pydata.org/pandas-docs/stable/user_guide/indexing.html#returning-a-view-versus-a-copy\n",
      "  df2['Maiden Name'].fillna('Unknown', inplace = True)\n",
      "/var/folders/4g/6d3mv01d7k7dpqlb46ckdk_00000gn/T/ipykernel_3525/3898517299.py:4: SettingWithCopyWarning: \n",
      "A value is trying to be set on a copy of a slice from a DataFrame\n",
      "\n",
      "See the caveats in the documentation: https://pandas.pydata.org/pandas-docs/stable/user_guide/indexing.html#returning-a-view-versus-a-copy\n",
      "  df2['Family name'].fillna('Unknown', inplace = True)\n"
     ]
    }
   ],
   "source": [
    "df2['comment'].fillna('No comment', inplace = True)\n",
    "df2['Middle Name'].fillna('No Middle name', inplace = True)\n",
    "df2['Maiden Name'].fillna('Unknown', inplace = True)\n",
    "df2['Family name'].fillna('Unknown', inplace = True)\n",
    "#df2['Given name'].fillna('Unknown', inplace = True)"
   ]
  },
  {
   "cell_type": "code",
   "execution_count": 23,
   "metadata": {},
   "outputs": [
    {
     "data": {
      "text/plain": [
       "id               0\n",
       "label_tr         0\n",
       "comment          0\n",
       "Given name     453\n",
       "Middle Name      0\n",
       "Family name      0\n",
       "Maiden Name      0\n",
       "Unnamed: 7       0\n",
       "dtype: int64"
      ]
     },
     "execution_count": 23,
     "metadata": {},
     "output_type": "execute_result"
    }
   ],
   "source": [
    "nan_count = np.sum(df2.isnull(), axis = 0)\n",
    "nan_count"
   ]
  }
 ],
 "metadata": {
  "kernelspec": {
   "display_name": "Python 3",
   "language": "python",
   "name": "python3"
  },
  "language_info": {
   "codemirror_mode": {
    "name": "ipython",
    "version": 3
   },
   "file_extension": ".py",
   "mimetype": "text/x-python",
   "name": "python",
   "nbconvert_exporter": "python",
   "pygments_lexer": "ipython3",
   "version": "3.11.5"
  },
  "orig_nbformat": 4,
  "vscode": {
   "interpreter": {
    "hash": "aee8b7b246df8f9039afb4144a1f6fd8d2ca17a180786b69acc140d282b71a49"
   }
  }
 },
 "nbformat": 4,
 "nbformat_minor": 2
}
