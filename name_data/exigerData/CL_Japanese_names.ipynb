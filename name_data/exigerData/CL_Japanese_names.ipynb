{
 "cells": [
  {
   "cell_type": "code",
   "execution_count": 2,
   "metadata": {},
   "outputs": [],
   "source": [
    "import pandas as pd\n",
    "import numpy as np\n",
    "import os "
   ]
  },
  {
   "cell_type": "code",
   "execution_count": 3,
   "metadata": {},
   "outputs": [
    {
     "name": "stdout",
     "output_type": "stream",
     "text": [
      "        Unnamed: 0                                        id  \\\n",
      "0                0  http://www.wikidata.org/entity/Q17229484   \n",
      "1                1  http://www.wikidata.org/entity/Q19958115   \n",
      "2                2  http://www.wikidata.org/entity/Q11237697   \n",
      "3                3  http://www.wikidata.org/entity/Q11482333   \n",
      "4                4  http://www.wikidata.org/entity/Q11528757   \n",
      "...            ...                                       ...   \n",
      "202435      202435  http://www.wikidata.org/entity/Q11672225   \n",
      "202436      202436    http://www.wikidata.org/entity/Q495816   \n",
      "202437      202437  http://www.wikidata.org/entity/Q11640390   \n",
      "202438      202438   http://www.wikidata.org/entity/Q3984842   \n",
      "202439      202439  http://www.wikidata.org/entity/Q11362511   \n",
      "\n",
      "                  fullname  Family name  Given name  \n",
      "0       Hirotoshi Nakamura          NaN         NaN  \n",
      "1          Sachio Hosokawa          NaN         NaN  \n",
      "2                      OZA          NaN         NaN  \n",
      "3                     平塚利男          NaN         NaN  \n",
      "4                Jun Kochi          NaN         NaN  \n",
      "...                    ...          ...         ...  \n",
      "202435       Takada Makoto          NaN         NaN  \n",
      "202436    Masakiyo Maezono          NaN         NaN  \n",
      "202437          Ryō Yuzawa          NaN         NaN  \n",
      "202438                菅原照仁          NaN         NaN  \n",
      "202439                世羅りさ          NaN         NaN  \n",
      "\n",
      "[202440 rows x 5 columns]\n"
     ]
    }
   ],
   "source": [
    "df  =  pd.read_excel('EXGR_Japanese names.xlsx')\n",
    "print(df)"
   ]
  },
  {
   "cell_type": "code",
   "execution_count": 8,
   "metadata": {},
   "outputs": [
    {
     "data": {
      "text/plain": [
       "(202440, 5)"
      ]
     },
     "execution_count": 8,
     "metadata": {},
     "output_type": "execute_result"
    }
   ],
   "source": [
    "df.shape"
   ]
  },
  {
   "cell_type": "code",
   "execution_count": 9,
   "metadata": {},
   "outputs": [
    {
     "data": {
      "text/html": [
       "<div>\n",
       "<style scoped>\n",
       "    .dataframe tbody tr th:only-of-type {\n",
       "        vertical-align: middle;\n",
       "    }\n",
       "\n",
       "    .dataframe tbody tr th {\n",
       "        vertical-align: top;\n",
       "    }\n",
       "\n",
       "    .dataframe thead th {\n",
       "        text-align: right;\n",
       "    }\n",
       "</style>\n",
       "<table border=\"1\" class=\"dataframe\">\n",
       "  <thead>\n",
       "    <tr style=\"text-align: right;\">\n",
       "      <th></th>\n",
       "      <th>Unnamed: 0</th>\n",
       "      <th>id</th>\n",
       "      <th>fullname</th>\n",
       "      <th>Family name</th>\n",
       "      <th>Given name</th>\n",
       "    </tr>\n",
       "  </thead>\n",
       "  <tbody>\n",
       "    <tr>\n",
       "      <th>0</th>\n",
       "      <td>0</td>\n",
       "      <td>http://www.wikidata.org/entity/Q17229484</td>\n",
       "      <td>Hirotoshi Nakamura</td>\n",
       "      <td>NaN</td>\n",
       "      <td>NaN</td>\n",
       "    </tr>\n",
       "    <tr>\n",
       "      <th>1</th>\n",
       "      <td>1</td>\n",
       "      <td>http://www.wikidata.org/entity/Q19958115</td>\n",
       "      <td>Sachio Hosokawa</td>\n",
       "      <td>NaN</td>\n",
       "      <td>NaN</td>\n",
       "    </tr>\n",
       "    <tr>\n",
       "      <th>2</th>\n",
       "      <td>2</td>\n",
       "      <td>http://www.wikidata.org/entity/Q11237697</td>\n",
       "      <td>OZA</td>\n",
       "      <td>NaN</td>\n",
       "      <td>NaN</td>\n",
       "    </tr>\n",
       "    <tr>\n",
       "      <th>3</th>\n",
       "      <td>3</td>\n",
       "      <td>http://www.wikidata.org/entity/Q11482333</td>\n",
       "      <td>平塚利男</td>\n",
       "      <td>NaN</td>\n",
       "      <td>NaN</td>\n",
       "    </tr>\n",
       "    <tr>\n",
       "      <th>4</th>\n",
       "      <td>4</td>\n",
       "      <td>http://www.wikidata.org/entity/Q11528757</td>\n",
       "      <td>Jun Kochi</td>\n",
       "      <td>NaN</td>\n",
       "      <td>NaN</td>\n",
       "    </tr>\n",
       "  </tbody>\n",
       "</table>\n",
       "</div>"
      ],
      "text/plain": [
       "   Unnamed: 0                                        id            fullname  \\\n",
       "0           0  http://www.wikidata.org/entity/Q17229484  Hirotoshi Nakamura   \n",
       "1           1  http://www.wikidata.org/entity/Q19958115     Sachio Hosokawa   \n",
       "2           2  http://www.wikidata.org/entity/Q11237697                 OZA   \n",
       "3           3  http://www.wikidata.org/entity/Q11482333                平塚利男   \n",
       "4           4  http://www.wikidata.org/entity/Q11528757           Jun Kochi   \n",
       "\n",
       "   Family name  Given name  \n",
       "0          NaN         NaN  \n",
       "1          NaN         NaN  \n",
       "2          NaN         NaN  \n",
       "3          NaN         NaN  \n",
       "4          NaN         NaN  "
      ]
     },
     "execution_count": 9,
     "metadata": {},
     "output_type": "execute_result"
    }
   ],
   "source": [
    "df.head()"
   ]
  },
  {
   "cell_type": "code",
   "execution_count": 4,
   "metadata": {},
   "outputs": [
    {
     "data": {
      "text/plain": [
       "Unnamed: 0          0\n",
       "id                  0\n",
       "fullname            1\n",
       "Family name    202440\n",
       "Given name     202440\n",
       "dtype: int64"
      ]
     },
     "execution_count": 4,
     "metadata": {},
     "output_type": "execute_result"
    }
   ],
   "source": [
    "nan_count = np.sum(df.isnull(), axis = 0)\n",
    "nan_count"
   ]
  },
  {
   "cell_type": "code",
   "execution_count": 13,
   "metadata": {},
   "outputs": [
    {
     "data": {
      "text/plain": [
       "True"
      ]
     },
     "execution_count": 13,
     "metadata": {},
     "output_type": "execute_result"
    }
   ],
   "source": [
    "df['fullname'].duplicated().any()"
   ]
  },
  {
   "cell_type": "code",
   "execution_count": 5,
   "metadata": {},
   "outputs": [
    {
     "name": "stdout",
     "output_type": "stream",
     "text": [
      "        Unnamed: 0                                        id  \\\n",
      "0                0  http://www.wikidata.org/entity/Q17229484   \n",
      "1                1  http://www.wikidata.org/entity/Q19958115   \n",
      "2                2  http://www.wikidata.org/entity/Q11237697   \n",
      "3                3  http://www.wikidata.org/entity/Q11482333   \n",
      "4                4  http://www.wikidata.org/entity/Q11528757   \n",
      "...            ...                                       ...   \n",
      "202435      202435  http://www.wikidata.org/entity/Q11672225   \n",
      "202436      202436    http://www.wikidata.org/entity/Q495816   \n",
      "202437      202437  http://www.wikidata.org/entity/Q11640390   \n",
      "202438      202438   http://www.wikidata.org/entity/Q3984842   \n",
      "202439      202439  http://www.wikidata.org/entity/Q11362511   \n",
      "\n",
      "                  fullname  Family name  Given name  \n",
      "0       Hirotoshi Nakamura          NaN         NaN  \n",
      "1          Sachio Hosokawa          NaN         NaN  \n",
      "2                      OZA          NaN         NaN  \n",
      "3                     平塚利男          NaN         NaN  \n",
      "4                Jun Kochi          NaN         NaN  \n",
      "...                    ...          ...         ...  \n",
      "202435       Takada Makoto          NaN         NaN  \n",
      "202436    Masakiyo Maezono          NaN         NaN  \n",
      "202437          Ryō Yuzawa          NaN         NaN  \n",
      "202438                菅原照仁          NaN         NaN  \n",
      "202439                世羅りさ          NaN         NaN  \n",
      "\n",
      "[193534 rows x 5 columns]\n"
     ]
    }
   ],
   "source": [
    "df2 =df.drop_duplicates(subset=['fullname'])\n",
    "print(df2)"
   ]
  },
  {
   "cell_type": "code",
   "execution_count": 6,
   "metadata": {},
   "outputs": [
    {
     "data": {
      "text/plain": [
       "False"
      ]
     },
     "execution_count": 6,
     "metadata": {},
     "output_type": "execute_result"
    }
   ],
   "source": [
    "df2['fullname'].duplicated().any()"
   ]
  },
  {
   "cell_type": "code",
   "execution_count": 10,
   "metadata": {},
   "outputs": [],
   "source": [
    "#(name):\n",
    "    #if isinstance(name, str):\n",
    "        #return any(c.isalnum() for c in name)\n",
    "    #return False"
   ]
  },
  {
   "cell_type": "code",
   "execution_count": 11,
   "metadata": {},
   "outputs": [],
   "source": [
    "#alphanumeric_name = df2[df2['fullname'].apply(is_alphanumeric)]\n",
    "#character_name = df2[~df2['fullname'].apply(is_alphanumeric)]\n"
   ]
  },
  {
   "cell_type": "code",
   "execution_count": 15,
   "metadata": {},
   "outputs": [],
   "source": [
    "#alp_split_names = alphanumeric_name['fullname'].str.split(expand=True)\n",
    "\n",
    "#alphanumeric_name.loc[:, 'Family name'] = alp_split_names[0]\n",
    "#alphanumeric_name.loc[:, 'Given name'] = alp_split_names[1]"
   ]
  },
  {
   "cell_type": "code",
   "execution_count": 18,
   "metadata": {},
   "outputs": [],
   "source": [
    "#modified_df = pd.concat([alphanumeric_name, character_name])"
   ]
  },
  {
   "cell_type": "code",
   "execution_count": 21,
   "metadata": {},
   "outputs": [],
   "source": [
    "#modified_file_path = 'EXGR_Japanese names.xlsx'\n",
    "#modified_df.to_excel(modified_file_path, index=False)"
   ]
  },
  {
   "cell_type": "code",
   "execution_count": 23,
   "metadata": {},
   "outputs": [],
   "source": [
    "split_names = df2['fullname'].str.split(expand=True)\n",
    "\n",
    "df2.loc[:, 'Family name'] = split_names[0]\n",
    "df2.loc[:, 'Given name'] = split_names[1]"
   ]
  },
  {
   "cell_type": "code",
   "execution_count": 24,
   "metadata": {},
   "outputs": [
    {
     "name": "stdout",
     "output_type": "stream",
     "text": [
      "0         Hirotoshi\n",
      "1            Sachio\n",
      "2               OZA\n",
      "3              平塚利男\n",
      "4               Jun\n",
      "            ...    \n",
      "202435       Takada\n",
      "202436     Masakiyo\n",
      "202437          Ryō\n",
      "202438         菅原照仁\n",
      "202439         世羅りさ\n",
      "Name: Family name, Length: 193534, dtype: object\n"
     ]
    }
   ],
   "source": [
    "print(df2['Family name'])"
   ]
  },
  {
   "cell_type": "code",
   "execution_count": 26,
   "metadata": {},
   "outputs": [
    {
     "name": "stdout",
     "output_type": "stream",
     "text": [
      "0         Nakamura\n",
      "1         Hosokawa\n",
      "2             None\n",
      "3             None\n",
      "4            Kochi\n",
      "            ...   \n",
      "202435      Makoto\n",
      "202436     Maezono\n",
      "202437      Yuzawa\n",
      "202438        None\n",
      "202439        None\n",
      "Name: Given name, Length: 193534, dtype: object\n"
     ]
    }
   ],
   "source": [
    "print(df2['Given name'])"
   ]
  },
  {
   "cell_type": "code",
   "execution_count": 27,
   "metadata": {},
   "outputs": [
    {
     "data": {
      "text/html": [
       "<div>\n",
       "<style scoped>\n",
       "    .dataframe tbody tr th:only-of-type {\n",
       "        vertical-align: middle;\n",
       "    }\n",
       "\n",
       "    .dataframe tbody tr th {\n",
       "        vertical-align: top;\n",
       "    }\n",
       "\n",
       "    .dataframe thead th {\n",
       "        text-align: right;\n",
       "    }\n",
       "</style>\n",
       "<table border=\"1\" class=\"dataframe\">\n",
       "  <thead>\n",
       "    <tr style=\"text-align: right;\">\n",
       "      <th></th>\n",
       "      <th>Unnamed: 0</th>\n",
       "      <th>id</th>\n",
       "      <th>fullname</th>\n",
       "      <th>Family name</th>\n",
       "      <th>Given name</th>\n",
       "      <th>is_alphanumeric</th>\n",
       "    </tr>\n",
       "  </thead>\n",
       "  <tbody>\n",
       "    <tr>\n",
       "      <th>0</th>\n",
       "      <td>0</td>\n",
       "      <td>http://www.wikidata.org/entity/Q17229484</td>\n",
       "      <td>Hirotoshi Nakamura</td>\n",
       "      <td>Hirotoshi</td>\n",
       "      <td>Nakamura</td>\n",
       "      <td>False</td>\n",
       "    </tr>\n",
       "    <tr>\n",
       "      <th>1</th>\n",
       "      <td>1</td>\n",
       "      <td>http://www.wikidata.org/entity/Q19958115</td>\n",
       "      <td>Sachio Hosokawa</td>\n",
       "      <td>Sachio</td>\n",
       "      <td>Hosokawa</td>\n",
       "      <td>False</td>\n",
       "    </tr>\n",
       "    <tr>\n",
       "      <th>2</th>\n",
       "      <td>2</td>\n",
       "      <td>http://www.wikidata.org/entity/Q11237697</td>\n",
       "      <td>OZA</td>\n",
       "      <td>OZA</td>\n",
       "      <td>None</td>\n",
       "      <td>True</td>\n",
       "    </tr>\n",
       "    <tr>\n",
       "      <th>3</th>\n",
       "      <td>3</td>\n",
       "      <td>http://www.wikidata.org/entity/Q11482333</td>\n",
       "      <td>平塚利男</td>\n",
       "      <td>平塚利男</td>\n",
       "      <td>None</td>\n",
       "      <td>True</td>\n",
       "    </tr>\n",
       "    <tr>\n",
       "      <th>4</th>\n",
       "      <td>4</td>\n",
       "      <td>http://www.wikidata.org/entity/Q11528757</td>\n",
       "      <td>Jun Kochi</td>\n",
       "      <td>Jun</td>\n",
       "      <td>Kochi</td>\n",
       "      <td>False</td>\n",
       "    </tr>\n",
       "  </tbody>\n",
       "</table>\n",
       "</div>"
      ],
      "text/plain": [
       "   Unnamed: 0                                        id            fullname  \\\n",
       "0           0  http://www.wikidata.org/entity/Q17229484  Hirotoshi Nakamura   \n",
       "1           1  http://www.wikidata.org/entity/Q19958115     Sachio Hosokawa   \n",
       "2           2  http://www.wikidata.org/entity/Q11237697                 OZA   \n",
       "3           3  http://www.wikidata.org/entity/Q11482333                平塚利男   \n",
       "4           4  http://www.wikidata.org/entity/Q11528757           Jun Kochi   \n",
       "\n",
       "  Family name Given name is_alphanumeric  \n",
       "0   Hirotoshi   Nakamura           False  \n",
       "1      Sachio   Hosokawa           False  \n",
       "2         OZA       None            True  \n",
       "3        平塚利男       None            True  \n",
       "4         Jun      Kochi           False  "
      ]
     },
     "execution_count": 27,
     "metadata": {},
     "output_type": "execute_result"
    }
   ],
   "source": [
    "df2.head()"
   ]
  },
  {
   "cell_type": "code",
   "execution_count": 28,
   "metadata": {},
   "outputs": [
    {
     "data": {
      "text/plain": [
       "Unnamed: 0             0\n",
       "id                     0\n",
       "fullname               1\n",
       "Family name            3\n",
       "Given name         99260\n",
       "is_alphanumeric        3\n",
       "dtype: int64"
      ]
     },
     "execution_count": 28,
     "metadata": {},
     "output_type": "execute_result"
    }
   ],
   "source": [
    "nan_count = np.sum(df2.isnull(), axis = 0)\n",
    "nan_count"
   ]
  },
  {
   "cell_type": "code",
   "execution_count": 30,
   "metadata": {},
   "outputs": [
    {
     "name": "stdout",
     "output_type": "stream",
     "text": [
      "        Unnamed: 0                                        id fullname  \\\n",
      "2                2  http://www.wikidata.org/entity/Q11237697      OZA   \n",
      "3                3  http://www.wikidata.org/entity/Q11482333     平塚利男   \n",
      "7                7  http://www.wikidata.org/entity/Q15078693     中野正俊   \n",
      "10              10   http://www.wikidata.org/entity/Q6463792      尺振八   \n",
      "11              11  http://www.wikidata.org/entity/Q11413364    吉永みち子   \n",
      "...            ...                                       ...      ...   \n",
      "202431      202431  http://www.wikidata.org/entity/Q11462317    小池藤五郎   \n",
      "202433      202433  http://www.wikidata.org/entity/Q11578514     畔柳二美   \n",
      "202434      202434   http://www.wikidata.org/entity/Q4389702     小山修加   \n",
      "202438      202438   http://www.wikidata.org/entity/Q3984842     菅原照仁   \n",
      "202439      202439  http://www.wikidata.org/entity/Q11362511     世羅りさ   \n",
      "\n",
      "       Family name Given name is_alphanumeric  \n",
      "2              OZA       None            True  \n",
      "3             平塚利男       None            True  \n",
      "7             中野正俊       None            True  \n",
      "10             尺振八       None            True  \n",
      "11           吉永みち子       None            True  \n",
      "...            ...        ...             ...  \n",
      "202431       小池藤五郎       None            True  \n",
      "202433        畔柳二美       None            True  \n",
      "202434        小山修加       None            True  \n",
      "202438        菅原照仁       None            True  \n",
      "202439        世羅りさ       None            True  \n",
      "\n",
      "[99260 rows x 6 columns]\n"
     ]
    }
   ],
   "source": [
    "print(df2[df2.isna().any(axis=1)])"
   ]
  },
  {
   "cell_type": "code",
   "execution_count": 31,
   "metadata": {},
   "outputs": [
    {
     "name": "stdout",
     "output_type": "stream",
     "text": [
      "      Unnamed: 0                                        id fullname  \\\n",
      "9364        9364  http://www.wikidata.org/entity/Q24859852      NaN   \n",
      "\n",
      "     Family name Given name is_alphanumeric  \n",
      "9364         NaN        NaN             NaN  \n"
     ]
    }
   ],
   "source": [
    "print(df2[df2['fullname'].isna()])"
   ]
  },
  {
   "cell_type": "code",
   "execution_count": null,
   "metadata": {},
   "outputs": [],
   "source": []
  }
 ],
 "metadata": {
  "kernelspec": {
   "display_name": "Python 3",
   "language": "python",
   "name": "python3"
  },
  "language_info": {
   "codemirror_mode": {
    "name": "ipython",
    "version": 3
   },
   "file_extension": ".py",
   "mimetype": "text/x-python",
   "name": "python",
   "nbconvert_exporter": "python",
   "pygments_lexer": "ipython3",
   "version": "3.11.5 (v3.11.5:cce6ba91b3, Aug 24 2023, 10:50:31) [Clang 13.0.0 (clang-1300.0.29.30)]"
  },
  "orig_nbformat": 4,
  "vscode": {
   "interpreter": {
    "hash": "aee8b7b246df8f9039afb4144a1f6fd8d2ca17a180786b69acc140d282b71a49"
   }
  }
 },
 "nbformat": 4,
 "nbformat_minor": 2
}
