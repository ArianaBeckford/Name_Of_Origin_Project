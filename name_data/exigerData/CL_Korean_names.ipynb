{
 "cells": [
  {
   "cell_type": "code",
   "execution_count": 2,
   "metadata": {},
   "outputs": [],
   "source": [
    "import pandas as pd\n",
    "import numpy as np\n",
    "import os "
   ]
  },
  {
   "cell_type": "code",
   "execution_count": 3,
   "metadata": {},
   "outputs": [
    {
     "name": "stdout",
     "output_type": "stream",
     "text": [
      "       Unnamed: 0                                        id       fullname  \\\n",
      "0               0    http://www.wikidata.org/entity/Q484396  Park Joo-bong   \n",
      "1               1  http://www.wikidata.org/entity/Q55728351  KIM Jong hoon   \n",
      "2               2  http://www.wikidata.org/entity/Q11266766            이민혁   \n",
      "3               3  http://www.wikidata.org/entity/Q47492159         Lee Ho   \n",
      "4               4   http://www.wikidata.org/entity/Q1075756            최민호   \n",
      "...           ...                                       ...            ...   \n",
      "21197       21197  http://www.wikidata.org/entity/Q11267007     Lee Han-wi   \n",
      "21198       21198  http://www.wikidata.org/entity/Q12586843   Gil Jung-woo   \n",
      "21199       21199    http://www.wikidata.org/entity/Q224639            이정희   \n",
      "21200       21200  http://www.wikidata.org/entity/Q12586585            금태섭   \n",
      "21201       21201  http://www.wikidata.org/entity/Q18684836      Oh Ui-sik   \n",
      "\n",
      "       Family name  Given name  \n",
      "0              NaN         NaN  \n",
      "1              NaN         NaN  \n",
      "2              NaN         NaN  \n",
      "3              NaN         NaN  \n",
      "4              NaN         NaN  \n",
      "...            ...         ...  \n",
      "21197          NaN         NaN  \n",
      "21198          NaN         NaN  \n",
      "21199          NaN         NaN  \n",
      "21200          NaN         NaN  \n",
      "21201          NaN         NaN  \n",
      "\n",
      "[21202 rows x 5 columns]\n"
     ]
    }
   ],
   "source": [
    "df  =  pd.read_excel('EXGR_Korean names.xlsx')\n",
    "print(df)"
   ]
  },
  {
   "cell_type": "code",
   "execution_count": 4,
   "metadata": {},
   "outputs": [
    {
     "data": {
      "text/plain": [
       "(21202, 5)"
      ]
     },
     "execution_count": 4,
     "metadata": {},
     "output_type": "execute_result"
    }
   ],
   "source": [
    "df.shape"
   ]
  },
  {
   "cell_type": "code",
   "execution_count": 5,
   "metadata": {},
   "outputs": [
    {
     "data": {
      "text/html": [
       "<div>\n",
       "<style scoped>\n",
       "    .dataframe tbody tr th:only-of-type {\n",
       "        vertical-align: middle;\n",
       "    }\n",
       "\n",
       "    .dataframe tbody tr th {\n",
       "        vertical-align: top;\n",
       "    }\n",
       "\n",
       "    .dataframe thead th {\n",
       "        text-align: right;\n",
       "    }\n",
       "</style>\n",
       "<table border=\"1\" class=\"dataframe\">\n",
       "  <thead>\n",
       "    <tr style=\"text-align: right;\">\n",
       "      <th></th>\n",
       "      <th>Unnamed: 0</th>\n",
       "      <th>id</th>\n",
       "      <th>fullname</th>\n",
       "      <th>Family name</th>\n",
       "      <th>Given name</th>\n",
       "    </tr>\n",
       "  </thead>\n",
       "  <tbody>\n",
       "    <tr>\n",
       "      <th>0</th>\n",
       "      <td>0</td>\n",
       "      <td>http://www.wikidata.org/entity/Q484396</td>\n",
       "      <td>Park Joo-bong</td>\n",
       "      <td>NaN</td>\n",
       "      <td>NaN</td>\n",
       "    </tr>\n",
       "    <tr>\n",
       "      <th>1</th>\n",
       "      <td>1</td>\n",
       "      <td>http://www.wikidata.org/entity/Q55728351</td>\n",
       "      <td>KIM Jong hoon</td>\n",
       "      <td>NaN</td>\n",
       "      <td>NaN</td>\n",
       "    </tr>\n",
       "    <tr>\n",
       "      <th>2</th>\n",
       "      <td>2</td>\n",
       "      <td>http://www.wikidata.org/entity/Q11266766</td>\n",
       "      <td>이민혁</td>\n",
       "      <td>NaN</td>\n",
       "      <td>NaN</td>\n",
       "    </tr>\n",
       "    <tr>\n",
       "      <th>3</th>\n",
       "      <td>3</td>\n",
       "      <td>http://www.wikidata.org/entity/Q47492159</td>\n",
       "      <td>Lee Ho</td>\n",
       "      <td>NaN</td>\n",
       "      <td>NaN</td>\n",
       "    </tr>\n",
       "    <tr>\n",
       "      <th>4</th>\n",
       "      <td>4</td>\n",
       "      <td>http://www.wikidata.org/entity/Q1075756</td>\n",
       "      <td>최민호</td>\n",
       "      <td>NaN</td>\n",
       "      <td>NaN</td>\n",
       "    </tr>\n",
       "  </tbody>\n",
       "</table>\n",
       "</div>"
      ],
      "text/plain": [
       "   Unnamed: 0                                        id       fullname  \\\n",
       "0           0    http://www.wikidata.org/entity/Q484396  Park Joo-bong   \n",
       "1           1  http://www.wikidata.org/entity/Q55728351  KIM Jong hoon   \n",
       "2           2  http://www.wikidata.org/entity/Q11266766            이민혁   \n",
       "3           3  http://www.wikidata.org/entity/Q47492159         Lee Ho   \n",
       "4           4   http://www.wikidata.org/entity/Q1075756            최민호   \n",
       "\n",
       "   Family name  Given name  \n",
       "0          NaN         NaN  \n",
       "1          NaN         NaN  \n",
       "2          NaN         NaN  \n",
       "3          NaN         NaN  \n",
       "4          NaN         NaN  "
      ]
     },
     "execution_count": 5,
     "metadata": {},
     "output_type": "execute_result"
    }
   ],
   "source": [
    "df.head()"
   ]
  },
  {
   "cell_type": "code",
   "execution_count": 6,
   "metadata": {},
   "outputs": [
    {
     "data": {
      "text/html": [
       "<div>\n",
       "<style scoped>\n",
       "    .dataframe tbody tr th:only-of-type {\n",
       "        vertical-align: middle;\n",
       "    }\n",
       "\n",
       "    .dataframe tbody tr th {\n",
       "        vertical-align: top;\n",
       "    }\n",
       "\n",
       "    .dataframe thead th {\n",
       "        text-align: right;\n",
       "    }\n",
       "</style>\n",
       "<table border=\"1\" class=\"dataframe\">\n",
       "  <thead>\n",
       "    <tr style=\"text-align: right;\">\n",
       "      <th></th>\n",
       "      <th>Unnamed: 0</th>\n",
       "      <th>id</th>\n",
       "      <th>fullname</th>\n",
       "      <th>Family name</th>\n",
       "      <th>Given name</th>\n",
       "    </tr>\n",
       "  </thead>\n",
       "  <tbody>\n",
       "    <tr>\n",
       "      <th>0</th>\n",
       "      <td>False</td>\n",
       "      <td>False</td>\n",
       "      <td>False</td>\n",
       "      <td>True</td>\n",
       "      <td>True</td>\n",
       "    </tr>\n",
       "    <tr>\n",
       "      <th>1</th>\n",
       "      <td>False</td>\n",
       "      <td>False</td>\n",
       "      <td>False</td>\n",
       "      <td>True</td>\n",
       "      <td>True</td>\n",
       "    </tr>\n",
       "    <tr>\n",
       "      <th>2</th>\n",
       "      <td>False</td>\n",
       "      <td>False</td>\n",
       "      <td>False</td>\n",
       "      <td>True</td>\n",
       "      <td>True</td>\n",
       "    </tr>\n",
       "    <tr>\n",
       "      <th>3</th>\n",
       "      <td>False</td>\n",
       "      <td>False</td>\n",
       "      <td>False</td>\n",
       "      <td>True</td>\n",
       "      <td>True</td>\n",
       "    </tr>\n",
       "    <tr>\n",
       "      <th>4</th>\n",
       "      <td>False</td>\n",
       "      <td>False</td>\n",
       "      <td>False</td>\n",
       "      <td>True</td>\n",
       "      <td>True</td>\n",
       "    </tr>\n",
       "  </tbody>\n",
       "</table>\n",
       "</div>"
      ],
      "text/plain": [
       "   Unnamed: 0     id  fullname  Family name  Given name\n",
       "0       False  False     False         True        True\n",
       "1       False  False     False         True        True\n",
       "2       False  False     False         True        True\n",
       "3       False  False     False         True        True\n",
       "4       False  False     False         True        True"
      ]
     },
     "execution_count": 6,
     "metadata": {},
     "output_type": "execute_result"
    }
   ],
   "source": [
    "df.isnull().head()"
   ]
  },
  {
   "cell_type": "code",
   "execution_count": 7,
   "metadata": {},
   "outputs": [
    {
     "data": {
      "text/plain": [
       "Unnamed: 0         0\n",
       "id                 0\n",
       "fullname           0\n",
       "Family name    21202\n",
       "Given name     21202\n",
       "dtype: int64"
      ]
     },
     "execution_count": 7,
     "metadata": {},
     "output_type": "execute_result"
    }
   ],
   "source": [
    "nan_count = np.sum(df.isnull(), axis = 0)\n",
    "nan_count"
   ]
  },
  {
   "cell_type": "code",
   "execution_count": 8,
   "metadata": {},
   "outputs": [
    {
     "data": {
      "text/plain": [
       "True"
      ]
     },
     "execution_count": 8,
     "metadata": {},
     "output_type": "execute_result"
    }
   ],
   "source": [
    "df['id'].duplicated().any()"
   ]
  },
  {
   "cell_type": "code",
   "execution_count": 9,
   "metadata": {},
   "outputs": [
    {
     "data": {
      "text/plain": [
       "True"
      ]
     },
     "execution_count": 9,
     "metadata": {},
     "output_type": "execute_result"
    }
   ],
   "source": [
    "df['fullname'].duplicated().any()"
   ]
  },
  {
   "cell_type": "code",
   "execution_count": 10,
   "metadata": {},
   "outputs": [
    {
     "name": "stdout",
     "output_type": "stream",
     "text": [
      "       Unnamed: 0                                        id       fullname  \\\n",
      "0               0    http://www.wikidata.org/entity/Q484396  Park Joo-bong   \n",
      "1               1  http://www.wikidata.org/entity/Q55728351  KIM Jong hoon   \n",
      "2               2  http://www.wikidata.org/entity/Q11266766            이민혁   \n",
      "3               3  http://www.wikidata.org/entity/Q47492159         Lee Ho   \n",
      "4               4   http://www.wikidata.org/entity/Q1075756            최민호   \n",
      "...           ...                                       ...            ...   \n",
      "21197       21197  http://www.wikidata.org/entity/Q11267007     Lee Han-wi   \n",
      "21198       21198  http://www.wikidata.org/entity/Q12586843   Gil Jung-woo   \n",
      "21199       21199    http://www.wikidata.org/entity/Q224639            이정희   \n",
      "21200       21200  http://www.wikidata.org/entity/Q12586585            금태섭   \n",
      "21201       21201  http://www.wikidata.org/entity/Q18684836      Oh Ui-sik   \n",
      "\n",
      "       Family name  Given name  \n",
      "0              NaN         NaN  \n",
      "1              NaN         NaN  \n",
      "2              NaN         NaN  \n",
      "3              NaN         NaN  \n",
      "4              NaN         NaN  \n",
      "...            ...         ...  \n",
      "21197          NaN         NaN  \n",
      "21198          NaN         NaN  \n",
      "21199          NaN         NaN  \n",
      "21200          NaN         NaN  \n",
      "21201          NaN         NaN  \n",
      "\n",
      "[19520 rows x 5 columns]\n"
     ]
    }
   ],
   "source": [
    "df2 =df.drop_duplicates(subset=['fullname'])\n",
    "print(df2)"
   ]
  },
  {
   "cell_type": "code",
   "execution_count": null,
   "metadata": {},
   "outputs": [],
   "source": []
  },
  {
   "cell_type": "code",
   "execution_count": 11,
   "metadata": {},
   "outputs": [
    {
     "data": {
      "text/plain": [
       "False"
      ]
     },
     "execution_count": 11,
     "metadata": {},
     "output_type": "execute_result"
    }
   ],
   "source": [
    "df2['fullname'].duplicated().any()"
   ]
  },
  {
   "cell_type": "code",
   "execution_count": 12,
   "metadata": {},
   "outputs": [],
   "source": [
    "#df2 =df.drop_duplicates(subset=[''])"
   ]
  },
  {
   "cell_type": "code",
   "execution_count": 13,
   "metadata": {},
   "outputs": [
    {
     "data": {
      "text/plain": [
       "True"
      ]
     },
     "execution_count": 13,
     "metadata": {},
     "output_type": "execute_result"
    }
   ],
   "source": [
    "df2['id'].duplicated().any()"
   ]
  },
  {
   "cell_type": "code",
   "execution_count": 14,
   "metadata": {},
   "outputs": [],
   "source": [
    "split_names = df2['fullname'].str.split(expand=True)\n",
    "\n",
    "df2.loc[:, 'Family name'] = split_names[0]\n",
    "df2.loc[:, 'Given name'] = split_names[1]"
   ]
  },
  {
   "cell_type": "code",
   "execution_count": 15,
   "metadata": {},
   "outputs": [
    {
     "name": "stdout",
     "output_type": "stream",
     "text": [
      "0        Park\n",
      "1         KIM\n",
      "2         이민혁\n",
      "3         Lee\n",
      "4         최민호\n",
      "         ... \n",
      "21197     Lee\n",
      "21198     Gil\n",
      "21199     이정희\n",
      "21200     금태섭\n",
      "21201      Oh\n",
      "Name: Family name, Length: 19520, dtype: object\n"
     ]
    }
   ],
   "source": [
    "print(df2['Family name'])"
   ]
  },
  {
   "cell_type": "code",
   "execution_count": 16,
   "metadata": {},
   "outputs": [
    {
     "name": "stdout",
     "output_type": "stream",
     "text": [
      "0        Joo-bong\n",
      "1            Jong\n",
      "2            None\n",
      "3              Ho\n",
      "4            None\n",
      "           ...   \n",
      "21197      Han-wi\n",
      "21198    Jung-woo\n",
      "21199        None\n",
      "21200        None\n",
      "21201      Ui-sik\n",
      "Name: Given name, Length: 19520, dtype: object\n"
     ]
    }
   ],
   "source": [
    "print(df2['Given name'])"
   ]
  },
  {
   "cell_type": "code",
   "execution_count": 18,
   "metadata": {},
   "outputs": [
    {
     "data": {
      "text/plain": [
       "Unnamed: 0        0\n",
       "id                0\n",
       "fullname          0\n",
       "Family name       2\n",
       "Given name     8986\n",
       "dtype: int64"
      ]
     },
     "execution_count": 18,
     "metadata": {},
     "output_type": "execute_result"
    }
   ],
   "source": [
    "nan_count = np.sum(df2.isnull(), axis = 0)\n",
    "nan_count"
   ]
  },
  {
   "cell_type": "code",
   "execution_count": 19,
   "metadata": {},
   "outputs": [
    {
     "name": "stdout",
     "output_type": "stream",
     "text": [
      "       Unnamed: 0                                        id       fullname  \\\n",
      "0               0    http://www.wikidata.org/entity/Q484396  Park Joo-bong   \n",
      "1               1  http://www.wikidata.org/entity/Q55728351  KIM Jong hoon   \n",
      "2               2  http://www.wikidata.org/entity/Q11266766            이민혁   \n",
      "3               3  http://www.wikidata.org/entity/Q47492159         Lee Ho   \n",
      "4               4   http://www.wikidata.org/entity/Q1075756            최민호   \n",
      "...           ...                                       ...            ...   \n",
      "21197       21197  http://www.wikidata.org/entity/Q11267007     Lee Han-wi   \n",
      "21198       21198  http://www.wikidata.org/entity/Q12586843   Gil Jung-woo   \n",
      "21199       21199    http://www.wikidata.org/entity/Q224639            이정희   \n",
      "21200       21200  http://www.wikidata.org/entity/Q12586585            금태섭   \n",
      "21201       21201  http://www.wikidata.org/entity/Q18684836      Oh Ui-sik   \n",
      "\n",
      "      Family name Given name  \n",
      "0            Park   Joo-bong  \n",
      "1             KIM       Jong  \n",
      "2             이민혁       None  \n",
      "3             Lee         Ho  \n",
      "4             최민호       None  \n",
      "...           ...        ...  \n",
      "21197         Lee     Han-wi  \n",
      "21198         Gil   Jung-woo  \n",
      "21199         이정희       None  \n",
      "21200         금태섭       None  \n",
      "21201          Oh     Ui-sik  \n",
      "\n",
      "[19520 rows x 5 columns]\n"
     ]
    }
   ],
   "source": [
    "print(df2)"
   ]
  },
  {
   "cell_type": "code",
   "execution_count": 22,
   "metadata": {},
   "outputs": [
    {
     "data": {
      "text/plain": [
       "<bound method Series.unique of 0        Park\n",
       "1         KIM\n",
       "2         이민혁\n",
       "3         Lee\n",
       "4         최민호\n",
       "         ... \n",
       "21197     Lee\n",
       "21198     Gil\n",
       "21199     이정희\n",
       "21200     금태섭\n",
       "21201      Oh\n",
       "Name: Family name, Length: 19520, dtype: object>"
      ]
     },
     "execution_count": 22,
     "metadata": {},
     "output_type": "execute_result"
    }
   ],
   "source": [
    "df2['Family name'].unique"
   ]
  }
 ],
 "metadata": {
  "kernelspec": {
   "display_name": "Python 3",
   "language": "python",
   "name": "python3"
  },
  "language_info": {
   "codemirror_mode": {
    "name": "ipython",
    "version": 3
   },
   "file_extension": ".py",
   "mimetype": "text/x-python",
   "name": "python",
   "nbconvert_exporter": "python",
   "pygments_lexer": "ipython3",
   "version": "3.11.3"
  },
  "orig_nbformat": 4,
  "vscode": {
   "interpreter": {
    "hash": "aee8b7b246df8f9039afb4144a1f6fd8d2ca17a180786b69acc140d282b71a49"
   }
  }
 },
 "nbformat": 4,
 "nbformat_minor": 2
}
