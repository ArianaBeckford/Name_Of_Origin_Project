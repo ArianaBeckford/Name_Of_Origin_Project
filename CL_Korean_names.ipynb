{
 "cells": [
  {
   "cell_type": "code",
   "execution_count": 1,
   "metadata": {},
   "outputs": [],
   "source": [
    "import pandas as pd\n",
    "import numpy as np\n",
    "import unicodedata\n",
    "import nltk\n",
    "from nltk.util import ngrams"
   ]
  },
  {
   "cell_type": "code",
   "execution_count": 2,
   "metadata": {},
   "outputs": [
    {
     "name": "stdout",
     "output_type": "stream",
     "text": [
      "       Unnamed: 0                                        id       fullname  \\\n",
      "0               0    http://www.wikidata.org/entity/Q484396  Park Joo-bong   \n",
      "1               1  http://www.wikidata.org/entity/Q55728351  KIM Jong hoon   \n",
      "2               2  http://www.wikidata.org/entity/Q11266766            이민혁   \n",
      "3               3  http://www.wikidata.org/entity/Q47492159         Lee Ho   \n",
      "4               4   http://www.wikidata.org/entity/Q1075756            최민호   \n",
      "...           ...                                       ...            ...   \n",
      "21197       21197  http://www.wikidata.org/entity/Q11267007     Lee Han-wi   \n",
      "21198       21198  http://www.wikidata.org/entity/Q12586843   Gil Jung-woo   \n",
      "21199       21199    http://www.wikidata.org/entity/Q224639            이정희   \n",
      "21200       21200  http://www.wikidata.org/entity/Q12586585            금태섭   \n",
      "21201       21201  http://www.wikidata.org/entity/Q18684836      Oh Ui-sik   \n",
      "\n",
      "       Family name  Given name  \n",
      "0              NaN         NaN  \n",
      "1              NaN         NaN  \n",
      "2              NaN         NaN  \n",
      "3              NaN         NaN  \n",
      "4              NaN         NaN  \n",
      "...            ...         ...  \n",
      "21197          NaN         NaN  \n",
      "21198          NaN         NaN  \n",
      "21199          NaN         NaN  \n",
      "21200          NaN         NaN  \n",
      "21201          NaN         NaN  \n",
      "\n",
      "[21202 rows x 5 columns]\n"
     ]
    }
   ],
   "source": [
    "df  =  pd.read_excel('name_data/exigerData/EXGR_Korean names.xlsx')\n",
    "print(df)"
   ]
  },
  {
   "cell_type": "code",
   "execution_count": 3,
   "metadata": {},
   "outputs": [
    {
     "data": {
      "text/plain": [
       "(21202, 5)"
      ]
     },
     "execution_count": 3,
     "metadata": {},
     "output_type": "execute_result"
    }
   ],
   "source": [
    "#checking the shape(21202, 5)\n",
    "df.shape"
   ]
  },
  {
   "cell_type": "code",
   "execution_count": 4,
   "metadata": {},
   "outputs": [
    {
     "data": {
      "text/html": [
       "<div>\n",
       "<style scoped>\n",
       "    .dataframe tbody tr th:only-of-type {\n",
       "        vertical-align: middle;\n",
       "    }\n",
       "\n",
       "    .dataframe tbody tr th {\n",
       "        vertical-align: top;\n",
       "    }\n",
       "\n",
       "    .dataframe thead th {\n",
       "        text-align: right;\n",
       "    }\n",
       "</style>\n",
       "<table border=\"1\" class=\"dataframe\">\n",
       "  <thead>\n",
       "    <tr style=\"text-align: right;\">\n",
       "      <th></th>\n",
       "      <th>Unnamed: 0</th>\n",
       "      <th>id</th>\n",
       "      <th>fullname</th>\n",
       "      <th>Family name</th>\n",
       "      <th>Given name</th>\n",
       "    </tr>\n",
       "  </thead>\n",
       "  <tbody>\n",
       "    <tr>\n",
       "      <th>0</th>\n",
       "      <td>0</td>\n",
       "      <td>http://www.wikidata.org/entity/Q484396</td>\n",
       "      <td>Park Joo-bong</td>\n",
       "      <td>NaN</td>\n",
       "      <td>NaN</td>\n",
       "    </tr>\n",
       "    <tr>\n",
       "      <th>1</th>\n",
       "      <td>1</td>\n",
       "      <td>http://www.wikidata.org/entity/Q55728351</td>\n",
       "      <td>KIM Jong hoon</td>\n",
       "      <td>NaN</td>\n",
       "      <td>NaN</td>\n",
       "    </tr>\n",
       "    <tr>\n",
       "      <th>2</th>\n",
       "      <td>2</td>\n",
       "      <td>http://www.wikidata.org/entity/Q11266766</td>\n",
       "      <td>이민혁</td>\n",
       "      <td>NaN</td>\n",
       "      <td>NaN</td>\n",
       "    </tr>\n",
       "    <tr>\n",
       "      <th>3</th>\n",
       "      <td>3</td>\n",
       "      <td>http://www.wikidata.org/entity/Q47492159</td>\n",
       "      <td>Lee Ho</td>\n",
       "      <td>NaN</td>\n",
       "      <td>NaN</td>\n",
       "    </tr>\n",
       "    <tr>\n",
       "      <th>4</th>\n",
       "      <td>4</td>\n",
       "      <td>http://www.wikidata.org/entity/Q1075756</td>\n",
       "      <td>최민호</td>\n",
       "      <td>NaN</td>\n",
       "      <td>NaN</td>\n",
       "    </tr>\n",
       "  </tbody>\n",
       "</table>\n",
       "</div>"
      ],
      "text/plain": [
       "   Unnamed: 0                                        id       fullname  \\\n",
       "0           0    http://www.wikidata.org/entity/Q484396  Park Joo-bong   \n",
       "1           1  http://www.wikidata.org/entity/Q55728351  KIM Jong hoon   \n",
       "2           2  http://www.wikidata.org/entity/Q11266766            이민혁   \n",
       "3           3  http://www.wikidata.org/entity/Q47492159         Lee Ho   \n",
       "4           4   http://www.wikidata.org/entity/Q1075756            최민호   \n",
       "\n",
       "   Family name  Given name  \n",
       "0          NaN         NaN  \n",
       "1          NaN         NaN  \n",
       "2          NaN         NaN  \n",
       "3          NaN         NaN  \n",
       "4          NaN         NaN  "
      ]
     },
     "execution_count": 4,
     "metadata": {},
     "output_type": "execute_result"
    }
   ],
   "source": [
    "#checking the head \n",
    "df.head()"
   ]
  },
  {
   "cell_type": "code",
   "execution_count": 5,
   "metadata": {},
   "outputs": [
    {
     "data": {
      "text/plain": [
       "Unnamed: 0         0\n",
       "id                 0\n",
       "fullname           0\n",
       "Family name    21202\n",
       "Given name     21202\n",
       "dtype: int64"
      ]
     },
     "execution_count": 5,
     "metadata": {},
     "output_type": "execute_result"
    }
   ],
   "source": [
    "#checking how many null entries each columns have( 21202 for family and given name)\n",
    "nan_count = np.sum(df.isnull(), axis = 0)\n",
    "nan_count"
   ]
  },
  {
   "cell_type": "code",
   "execution_count": 6,
   "metadata": {},
   "outputs": [
    {
     "data": {
      "text/plain": [
       "True"
      ]
     },
     "execution_count": 6,
     "metadata": {},
     "output_type": "execute_result"
    }
   ],
   "source": [
    "#checking if there's any duplicates(yes)\n",
    "df['fullname'].duplicated().any()"
   ]
  },
  {
   "cell_type": "code",
   "execution_count": 7,
   "metadata": {},
   "outputs": [
    {
     "data": {
      "text/plain": [
       "Unnamed: 0         0\n",
       "id                 0\n",
       "fullname           0\n",
       "Family name    19520\n",
       "Given name     19520\n",
       "dtype: int64"
      ]
     },
     "execution_count": 7,
     "metadata": {},
     "output_type": "execute_result"
    }
   ],
   "source": [
    "#drop them from the fullname  and checking if nullentries went down(form 21202 to 19520)\n",
    "df2 =df.drop_duplicates(subset=['fullname'])\n",
    "\n",
    "nan_count = np.sum(df2.isnull(), axis = 0)\n",
    "nan_count"
   ]
  },
  {
   "cell_type": "code",
   "execution_count": 8,
   "metadata": {},
   "outputs": [
    {
     "data": {
      "text/plain": [
       "False"
      ]
     },
     "execution_count": 8,
     "metadata": {},
     "output_type": "execute_result"
    }
   ],
   "source": [
    "#now the duplicates are gone\n",
    "df2['fullname'].duplicated().any()"
   ]
  },
  {
   "cell_type": "code",
   "execution_count": 14,
   "metadata": {},
   "outputs": [
    {
     "name": "stdout",
     "output_type": "stream",
     "text": [
      "Index(['Unnamed: 0', 'id', 'fullname', 'Family name', 'Given name'], dtype='object')\n"
     ]
    }
   ],
   "source": [
    "#Drop columns that won't be used in df2\n",
    "print(df2.columns)\n",
    "df2 = df2.drop(columns=['Unnamed: 0', 'id', 'Family name', 'Given name'])\n"
   ]
  },
  {
   "cell_type": "code",
   "execution_count": 15,
   "metadata": {},
   "outputs": [
    {
     "name": "stdout",
     "output_type": "stream",
     "text": [
      "            fullname\n",
      "0      Park Joo-bong\n",
      "1      KIM Jong hoon\n",
      "2                이민혁\n",
      "3             Lee Ho\n",
      "4                최민호\n",
      "...              ...\n",
      "21197     Lee Han-wi\n",
      "21198   Gil Jung-woo\n",
      "21199            이정희\n",
      "21200            금태섭\n",
      "21201      Oh Ui-sik\n",
      "\n",
      "[19520 rows x 1 columns]\n"
     ]
    }
   ],
   "source": [
    "print(df2)"
   ]
  },
  {
   "attachments": {},
   "cell_type": "markdown",
   "metadata": {},
   "source": [
    "Now For Feature Engineering "
   ]
  },
  {
   "cell_type": "code",
   "execution_count": 22,
   "metadata": {},
   "outputs": [
    {
     "name": "stdout",
     "output_type": "stream",
     "text": [
      "0        [LATIN, LATIN, LATIN, LATIN, SPACE, LATIN, LAT...\n",
      "1        [LATIN, LATIN, LATIN, SPACE, LATIN, LATIN, LAT...\n",
      "2                                 [HANGUL, HANGUL, HANGUL]\n",
      "3               [LATIN, LATIN, LATIN, SPACE, LATIN, LATIN]\n",
      "4                                 [HANGUL, HANGUL, HANGUL]\n",
      "                               ...                        \n",
      "21197    [LATIN, LATIN, LATIN, SPACE, LATIN, LATIN, LAT...\n",
      "21198    [LATIN, LATIN, LATIN, SPACE, LATIN, LATIN, LAT...\n",
      "21199                             [HANGUL, HANGUL, HANGUL]\n",
      "21200                             [HANGUL, HANGUL, HANGUL]\n",
      "21201    [LATIN, LATIN, SPACE, LATIN, LATIN, HYPHEN-MIN...\n",
      "Name: determine_alphabet, Length: 19520, dtype: object\n"
     ]
    },
    {
     "name": "stderr",
     "output_type": "stream",
     "text": [
      "/var/folders/4g/6d3mv01d7k7dpqlb46ckdk_00000gn/T/ipykernel_63757/1593449575.py:9: SettingWithCopyWarning: \n",
      "A value is trying to be set on a copy of a slice from a DataFrame.\n",
      "Try using .loc[row_indexer,col_indexer] = value instead\n",
      "\n",
      "See the caveats in the documentation: https://pandas.pydata.org/pandas-docs/stable/user_guide/indexing.html#returning-a-view-versus-a-copy\n",
      "  df2['determine_alphabet'] = df2['fullname'].apply(Korean_lan)\n"
     ]
    }
   ],
   "source": [
    "#determining the lan\n",
    "def Korean_lan(name):\n",
    "    if isinstance(name, str):\n",
    "        return [unicodedata.name(char).split(' ')[0] for char in name]\n",
    "    else:\n",
    "        return None\n",
    "\n",
    "# Apply the function only to rows where 'fullname' is a string\n",
    "df2['determine_alphabet'] = df2['fullname'].apply(Korean_lan)\n",
    "print(df2['determine_alphabet'])"
   ]
  },
  {
   "cell_type": "code",
   "execution_count": 23,
   "metadata": {},
   "outputs": [],
   "source": [
    "#featuring the char_ngrams. un\n",
    "def get_ngrams(text, n):\n",
    "    if isinstance(text,str):\n",
    "        name = list(text)\n",
    "    ngrams_list =  list(ngrams(list(text), n))\n",
    "    return ngrams_list\n",
    "\n",
    "df2[\"unigrams\"] = df2['fullname'].apply(lambda name: list(name) if isinstance(name, str) else [])\n",
    "df2[\"bigrams\"] = df2['fullname'].apply(lambda name: get_ngrams(name,2) if isinstance(name, str) else [])\n",
    "df2[\"trigrams\"] = df2['fullname'].apply(lambda name: get_ngrams(name,3) if isinstance(name, str) else [])\n",
    "\n",
    "df2['char_ngrams'] = df2[\"unigrams\"] + df2[\"bigrams\"] + df2[\"trigrams\"]"
   ]
  },
  {
   "cell_type": "code",
   "execution_count": 26,
   "metadata": {},
   "outputs": [
    {
     "name": "stdout",
     "output_type": "stream",
     "text": [
      "0        [(P, a), (a, r), (r, k), (k,  ), ( , J), (J, o...\n",
      "1        [(K, I), (I, M), (M,  ), ( , J), (J, o), (o, n...\n",
      "2                                         [(이, 민), (민, 혁)]\n",
      "3                 [(L, e), (e, e), (e,  ), ( , H), (H, o)]\n",
      "4                                         [(최, 민), (민, 호)]\n",
      "                               ...                        \n",
      "21197    [(L, e), (e, e), (e,  ), ( , H), (H, a), (a, n...\n",
      "21198    [(G, i), (i, l), (l,  ), ( , J), (J, u), (u, n...\n",
      "21199                                     [(이, 정), (정, 희)]\n",
      "21200                                     [(금, 태), (태, 섭)]\n",
      "21201    [(O, h), (h,  ), ( , U), (U, i), (i, -), (-, s...\n",
      "Name: bigrams, Length: 19520, dtype: object\n"
     ]
    },
    {
     "data": {
      "text/plain": [
       "0        [(P, a, r), (a, r, k), (r, k,  ), (k,  , J), (...\n",
       "1        [(K, I, M), (I, M,  ), (M,  , J), ( , J, o), (...\n",
       "2                                              [(이, 민, 혁)]\n",
       "3             [(L, e, e), (e, e,  ), (e,  , H), ( , H, o)]\n",
       "4                                              [(최, 민, 호)]\n",
       "                               ...                        \n",
       "21197    [(L, e, e), (e, e,  ), (e,  , H), ( , H, a), (...\n",
       "21198    [(G, i, l), (i, l,  ), (l,  , J), ( , J, u), (...\n",
       "21199                                          [(이, 정, 희)]\n",
       "21200                                          [(금, 태, 섭)]\n",
       "21201    [(O, h,  ), (h,  , U), ( , U, i), (U, i, -), (...\n",
       "Name: trigrams, Length: 19520, dtype: object"
      ]
     },
     "execution_count": 26,
     "metadata": {},
     "output_type": "execute_result"
    }
   ],
   "source": [
    "#print(df2[\"unigrams\"])\n",
    "print(df2[\"bigrams\"])\n",
    "df2[\"trigrams\"]\n",
    "print{}"
   ]
  },
  {
   "cell_type": "code",
   "execution_count": 27,
   "metadata": {},
   "outputs": [
    {
     "name": "stdout",
     "output_type": "stream",
     "text": [
      "0        2.0\n",
      "1        3.0\n",
      "2        1.0\n",
      "3        2.0\n",
      "4        1.0\n",
      "        ... \n",
      "21197    2.0\n",
      "21198    2.0\n",
      "21199    1.0\n",
      "21200    1.0\n",
      "21201    2.0\n",
      "Name: token_len, Length: 19520, dtype: float64\n"
     ]
    }
   ],
   "source": [
    "#feature for token length \n",
    "def token_length(name):\n",
    "    if isinstance(name,str):\n",
    "       return len(name.split())\n",
    "    else:\n",
    "       return None\n",
    "\n",
    "df2['token_len'] = df2['fullname'].apply(token_length)\n",
    "print(df2['token_len'])"
   ]
  },
  {
   "cell_type": "code",
   "execution_count": 30,
   "metadata": {},
   "outputs": [],
   "source": [
    "df2['period_freq'] = df2['fullname'].apply(lambda name: name.count('.') if isinstance(name, str) else [])\n",
    "df2['dash_freq'] = df2['fullname'].apply(lambda name: name.count('-') if isinstance(name, str) else [])\n",
    "df2['space_freq'] = df2['fullname'].apply(lambda name: name.count(' ' )if isinstance(name, str) else [])"
   ]
  },
  {
   "cell_type": "code",
   "execution_count": 31,
   "metadata": {},
   "outputs": [
    {
     "data": {
      "text/html": [
       "<div>\n",
       "<style scoped>\n",
       "    .dataframe tbody tr th:only-of-type {\n",
       "        vertical-align: middle;\n",
       "    }\n",
       "\n",
       "    .dataframe tbody tr th {\n",
       "        vertical-align: top;\n",
       "    }\n",
       "\n",
       "    .dataframe thead th {\n",
       "        text-align: right;\n",
       "    }\n",
       "</style>\n",
       "<table border=\"1\" class=\"dataframe\">\n",
       "  <thead>\n",
       "    <tr style=\"text-align: right;\">\n",
       "      <th></th>\n",
       "      <th>fullname</th>\n",
       "      <th>unigrams</th>\n",
       "      <th>bigrams</th>\n",
       "      <th>trigrams</th>\n",
       "      <th>char_ngrams</th>\n",
       "      <th>token_len</th>\n",
       "      <th>period_freq</th>\n",
       "      <th>dash_freq</th>\n",
       "      <th>space_freq</th>\n",
       "    </tr>\n",
       "  </thead>\n",
       "  <tbody>\n",
       "    <tr>\n",
       "      <th>0</th>\n",
       "      <td>Park Joo-bong</td>\n",
       "      <td>[P, a, r, k,  , J, o, o, -, b, o, n, g]</td>\n",
       "      <td>[(P, a), (a, r), (r, k), (k,  ), ( , J), (J, o...</td>\n",
       "      <td>[(P, a, r), (a, r, k), (r, k,  ), (k,  , J), (...</td>\n",
       "      <td>[P, a, r, k,  , J, o, o, -, b, o, n, g, (P, a)...</td>\n",
       "      <td>2.0</td>\n",
       "      <td>0</td>\n",
       "      <td>1</td>\n",
       "      <td>1</td>\n",
       "    </tr>\n",
       "    <tr>\n",
       "      <th>1</th>\n",
       "      <td>KIM Jong hoon</td>\n",
       "      <td>[K, I, M,  , J, o, n, g,  , h, o, o, n]</td>\n",
       "      <td>[(K, I), (I, M), (M,  ), ( , J), (J, o), (o, n...</td>\n",
       "      <td>[(K, I, M), (I, M,  ), (M,  , J), ( , J, o), (...</td>\n",
       "      <td>[K, I, M,  , J, o, n, g,  , h, o, o, n, (K, I)...</td>\n",
       "      <td>3.0</td>\n",
       "      <td>0</td>\n",
       "      <td>0</td>\n",
       "      <td>2</td>\n",
       "    </tr>\n",
       "    <tr>\n",
       "      <th>2</th>\n",
       "      <td>이민혁</td>\n",
       "      <td>[이, 민, 혁]</td>\n",
       "      <td>[(이, 민), (민, 혁)]</td>\n",
       "      <td>[(이, 민, 혁)]</td>\n",
       "      <td>[이, 민, 혁, (이, 민), (민, 혁), (이, 민, 혁)]</td>\n",
       "      <td>1.0</td>\n",
       "      <td>0</td>\n",
       "      <td>0</td>\n",
       "      <td>0</td>\n",
       "    </tr>\n",
       "    <tr>\n",
       "      <th>3</th>\n",
       "      <td>Lee Ho</td>\n",
       "      <td>[L, e, e,  , H, o]</td>\n",
       "      <td>[(L, e), (e, e), (e,  ), ( , H), (H, o)]</td>\n",
       "      <td>[(L, e, e), (e, e,  ), (e,  , H), ( , H, o)]</td>\n",
       "      <td>[L, e, e,  , H, o, (L, e), (e, e), (e,  ), ( ,...</td>\n",
       "      <td>2.0</td>\n",
       "      <td>0</td>\n",
       "      <td>0</td>\n",
       "      <td>1</td>\n",
       "    </tr>\n",
       "    <tr>\n",
       "      <th>4</th>\n",
       "      <td>최민호</td>\n",
       "      <td>[최, 민, 호]</td>\n",
       "      <td>[(최, 민), (민, 호)]</td>\n",
       "      <td>[(최, 민, 호)]</td>\n",
       "      <td>[최, 민, 호, (최, 민), (민, 호), (최, 민, 호)]</td>\n",
       "      <td>1.0</td>\n",
       "      <td>0</td>\n",
       "      <td>0</td>\n",
       "      <td>0</td>\n",
       "    </tr>\n",
       "    <tr>\n",
       "      <th>...</th>\n",
       "      <td>...</td>\n",
       "      <td>...</td>\n",
       "      <td>...</td>\n",
       "      <td>...</td>\n",
       "      <td>...</td>\n",
       "      <td>...</td>\n",
       "      <td>...</td>\n",
       "      <td>...</td>\n",
       "      <td>...</td>\n",
       "    </tr>\n",
       "    <tr>\n",
       "      <th>21197</th>\n",
       "      <td>Lee Han-wi</td>\n",
       "      <td>[L, e, e,  , H, a, n, -, w, i]</td>\n",
       "      <td>[(L, e), (e, e), (e,  ), ( , H), (H, a), (a, n...</td>\n",
       "      <td>[(L, e, e), (e, e,  ), (e,  , H), ( , H, a), (...</td>\n",
       "      <td>[L, e, e,  , H, a, n, -, w, i, (L, e), (e, e),...</td>\n",
       "      <td>2.0</td>\n",
       "      <td>0</td>\n",
       "      <td>1</td>\n",
       "      <td>1</td>\n",
       "    </tr>\n",
       "    <tr>\n",
       "      <th>21198</th>\n",
       "      <td>Gil Jung-woo</td>\n",
       "      <td>[G, i, l,  , J, u, n, g, -, w, o, o]</td>\n",
       "      <td>[(G, i), (i, l), (l,  ), ( , J), (J, u), (u, n...</td>\n",
       "      <td>[(G, i, l), (i, l,  ), (l,  , J), ( , J, u), (...</td>\n",
       "      <td>[G, i, l,  , J, u, n, g, -, w, o, o, (G, i), (...</td>\n",
       "      <td>2.0</td>\n",
       "      <td>0</td>\n",
       "      <td>1</td>\n",
       "      <td>1</td>\n",
       "    </tr>\n",
       "    <tr>\n",
       "      <th>21199</th>\n",
       "      <td>이정희</td>\n",
       "      <td>[이, 정, 희]</td>\n",
       "      <td>[(이, 정), (정, 희)]</td>\n",
       "      <td>[(이, 정, 희)]</td>\n",
       "      <td>[이, 정, 희, (이, 정), (정, 희), (이, 정, 희)]</td>\n",
       "      <td>1.0</td>\n",
       "      <td>0</td>\n",
       "      <td>0</td>\n",
       "      <td>0</td>\n",
       "    </tr>\n",
       "    <tr>\n",
       "      <th>21200</th>\n",
       "      <td>금태섭</td>\n",
       "      <td>[금, 태, 섭]</td>\n",
       "      <td>[(금, 태), (태, 섭)]</td>\n",
       "      <td>[(금, 태, 섭)]</td>\n",
       "      <td>[금, 태, 섭, (금, 태), (태, 섭), (금, 태, 섭)]</td>\n",
       "      <td>1.0</td>\n",
       "      <td>0</td>\n",
       "      <td>0</td>\n",
       "      <td>0</td>\n",
       "    </tr>\n",
       "    <tr>\n",
       "      <th>21201</th>\n",
       "      <td>Oh Ui-sik</td>\n",
       "      <td>[O, h,  , U, i, -, s, i, k]</td>\n",
       "      <td>[(O, h), (h,  ), ( , U), (U, i), (i, -), (-, s...</td>\n",
       "      <td>[(O, h,  ), (h,  , U), ( , U, i), (U, i, -), (...</td>\n",
       "      <td>[O, h,  , U, i, -, s, i, k, (O, h), (h,  ), ( ...</td>\n",
       "      <td>2.0</td>\n",
       "      <td>0</td>\n",
       "      <td>1</td>\n",
       "      <td>1</td>\n",
       "    </tr>\n",
       "  </tbody>\n",
       "</table>\n",
       "<p>19520 rows × 9 columns</p>\n",
       "</div>"
      ],
      "text/plain": [
       "            fullname                                 unigrams  \\\n",
       "0      Park Joo-bong  [P, a, r, k,  , J, o, o, -, b, o, n, g]   \n",
       "1      KIM Jong hoon  [K, I, M,  , J, o, n, g,  , h, o, o, n]   \n",
       "2                이민혁                                [이, 민, 혁]   \n",
       "3             Lee Ho                       [L, e, e,  , H, o]   \n",
       "4                최민호                                [최, 민, 호]   \n",
       "...              ...                                      ...   \n",
       "21197     Lee Han-wi           [L, e, e,  , H, a, n, -, w, i]   \n",
       "21198   Gil Jung-woo     [G, i, l,  , J, u, n, g, -, w, o, o]   \n",
       "21199            이정희                                [이, 정, 희]   \n",
       "21200            금태섭                                [금, 태, 섭]   \n",
       "21201      Oh Ui-sik              [O, h,  , U, i, -, s, i, k]   \n",
       "\n",
       "                                                 bigrams  \\\n",
       "0      [(P, a), (a, r), (r, k), (k,  ), ( , J), (J, o...   \n",
       "1      [(K, I), (I, M), (M,  ), ( , J), (J, o), (o, n...   \n",
       "2                                       [(이, 민), (민, 혁)]   \n",
       "3               [(L, e), (e, e), (e,  ), ( , H), (H, o)]   \n",
       "4                                       [(최, 민), (민, 호)]   \n",
       "...                                                  ...   \n",
       "21197  [(L, e), (e, e), (e,  ), ( , H), (H, a), (a, n...   \n",
       "21198  [(G, i), (i, l), (l,  ), ( , J), (J, u), (u, n...   \n",
       "21199                                   [(이, 정), (정, 희)]   \n",
       "21200                                   [(금, 태), (태, 섭)]   \n",
       "21201  [(O, h), (h,  ), ( , U), (U, i), (i, -), (-, s...   \n",
       "\n",
       "                                                trigrams  \\\n",
       "0      [(P, a, r), (a, r, k), (r, k,  ), (k,  , J), (...   \n",
       "1      [(K, I, M), (I, M,  ), (M,  , J), ( , J, o), (...   \n",
       "2                                            [(이, 민, 혁)]   \n",
       "3           [(L, e, e), (e, e,  ), (e,  , H), ( , H, o)]   \n",
       "4                                            [(최, 민, 호)]   \n",
       "...                                                  ...   \n",
       "21197  [(L, e, e), (e, e,  ), (e,  , H), ( , H, a), (...   \n",
       "21198  [(G, i, l), (i, l,  ), (l,  , J), ( , J, u), (...   \n",
       "21199                                        [(이, 정, 희)]   \n",
       "21200                                        [(금, 태, 섭)]   \n",
       "21201  [(O, h,  ), (h,  , U), ( , U, i), (U, i, -), (...   \n",
       "\n",
       "                                             char_ngrams  token_len  \\\n",
       "0      [P, a, r, k,  , J, o, o, -, b, o, n, g, (P, a)...        2.0   \n",
       "1      [K, I, M,  , J, o, n, g,  , h, o, o, n, (K, I)...        3.0   \n",
       "2                   [이, 민, 혁, (이, 민), (민, 혁), (이, 민, 혁)]        1.0   \n",
       "3      [L, e, e,  , H, o, (L, e), (e, e), (e,  ), ( ,...        2.0   \n",
       "4                   [최, 민, 호, (최, 민), (민, 호), (최, 민, 호)]        1.0   \n",
       "...                                                  ...        ...   \n",
       "21197  [L, e, e,  , H, a, n, -, w, i, (L, e), (e, e),...        2.0   \n",
       "21198  [G, i, l,  , J, u, n, g, -, w, o, o, (G, i), (...        2.0   \n",
       "21199               [이, 정, 희, (이, 정), (정, 희), (이, 정, 희)]        1.0   \n",
       "21200               [금, 태, 섭, (금, 태), (태, 섭), (금, 태, 섭)]        1.0   \n",
       "21201  [O, h,  , U, i, -, s, i, k, (O, h), (h,  ), ( ...        2.0   \n",
       "\n",
       "      period_freq dash_freq space_freq  \n",
       "0               0         1          1  \n",
       "1               0         0          2  \n",
       "2               0         0          0  \n",
       "3               0         0          1  \n",
       "4               0         0          0  \n",
       "...           ...       ...        ...  \n",
       "21197           0         1          1  \n",
       "21198           0         1          1  \n",
       "21199           0         0          0  \n",
       "21200           0         0          0  \n",
       "21201           0         1          1  \n",
       "\n",
       "[19520 rows x 9 columns]"
      ]
     },
     "execution_count": 31,
     "metadata": {},
     "output_type": "execute_result"
    }
   ],
   "source": [
    "df2\n"
   ]
  }
 ],
 "metadata": {
  "kernelspec": {
   "display_name": "Python 3",
   "language": "python",
   "name": "python3"
  },
  "language_info": {
   "codemirror_mode": {
    "name": "ipython",
    "version": 3
   },
   "file_extension": ".py",
   "mimetype": "text/x-python",
   "name": "python",
   "nbconvert_exporter": "python",
   "pygments_lexer": "ipython3",
   "version": "3.11.5"
  },
  "orig_nbformat": 4,
  "vscode": {
   "interpreter": {
    "hash": "aee8b7b246df8f9039afb4144a1f6fd8d2ca17a180786b69acc140d282b71a49"
   }
  }
 },
 "nbformat": 4,
 "nbformat_minor": 2
}
