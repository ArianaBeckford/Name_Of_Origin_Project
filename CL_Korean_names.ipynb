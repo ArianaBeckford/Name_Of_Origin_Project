{
 "cells": [
  {
   "cell_type": "code",
   "execution_count": 1,
   "metadata": {},
   "outputs": [],
   "source": [
    "import pandas as pd\n",
    "from nltk.util import ngrams\n",
    "import numpy as np\n",
    "import os \n",
    "import unicodedata\n",
    "import nltk"
   ]
  },
  {
   "cell_type": "code",
   "execution_count": 2,
   "metadata": {},
   "outputs": [
    {
     "name": "stdout",
     "output_type": "stream",
     "text": [
      "       Unnamed: 0                                        id       fullname  \\\n",
      "0               0    http://www.wikidata.org/entity/Q484396  Park Joo-bong   \n",
      "1               1  http://www.wikidata.org/entity/Q55728351  KIM Jong hoon   \n",
      "2               2  http://www.wikidata.org/entity/Q11266766            이민혁   \n",
      "3               3  http://www.wikidata.org/entity/Q47492159         Lee Ho   \n",
      "4               4   http://www.wikidata.org/entity/Q1075756            최민호   \n",
      "...           ...                                       ...            ...   \n",
      "21197       21197  http://www.wikidata.org/entity/Q11267007     Lee Han-wi   \n",
      "21198       21198  http://www.wikidata.org/entity/Q12586843   Gil Jung-woo   \n",
      "21199       21199    http://www.wikidata.org/entity/Q224639            이정희   \n",
      "21200       21200  http://www.wikidata.org/entity/Q12586585            금태섭   \n",
      "21201       21201  http://www.wikidata.org/entity/Q18684836      Oh Ui-sik   \n",
      "\n",
      "       Family name  Given name  \n",
      "0              NaN         NaN  \n",
      "1              NaN         NaN  \n",
      "2              NaN         NaN  \n",
      "3              NaN         NaN  \n",
      "4              NaN         NaN  \n",
      "...            ...         ...  \n",
      "21197          NaN         NaN  \n",
      "21198          NaN         NaN  \n",
      "21199          NaN         NaN  \n",
      "21200          NaN         NaN  \n",
      "21201          NaN         NaN  \n",
      "\n",
      "[21202 rows x 5 columns]\n"
     ]
    }
   ],
   "source": [
    "df  =  pd.read_excel('name_data/exigerData/EXGR_Korean names.xlsx')\n",
    "print(df)"
   ]
  },
  {
   "cell_type": "code",
   "execution_count": 13,
   "metadata": {},
   "outputs": [
    {
     "data": {
      "text/plain": [
       "(21202, 5)"
      ]
     },
     "execution_count": 13,
     "metadata": {},
     "output_type": "execute_result"
    }
   ],
   "source": [
    "#checking the shape(21202, 5)\n",
    "df.shape"
   ]
  },
  {
   "cell_type": "code",
   "execution_count": 14,
   "metadata": {},
   "outputs": [
    {
     "data": {
      "text/html": [
       "<div>\n",
       "<style scoped>\n",
       "    .dataframe tbody tr th:only-of-type {\n",
       "        vertical-align: middle;\n",
       "    }\n",
       "\n",
       "    .dataframe tbody tr th {\n",
       "        vertical-align: top;\n",
       "    }\n",
       "\n",
       "    .dataframe thead th {\n",
       "        text-align: right;\n",
       "    }\n",
       "</style>\n",
       "<table border=\"1\" class=\"dataframe\">\n",
       "  <thead>\n",
       "    <tr style=\"text-align: right;\">\n",
       "      <th></th>\n",
       "      <th>Unnamed: 0</th>\n",
       "      <th>id</th>\n",
       "      <th>fullname</th>\n",
       "      <th>Family name</th>\n",
       "      <th>Given name</th>\n",
       "    </tr>\n",
       "  </thead>\n",
       "  <tbody>\n",
       "    <tr>\n",
       "      <th>0</th>\n",
       "      <td>0</td>\n",
       "      <td>http://www.wikidata.org/entity/Q484396</td>\n",
       "      <td>Park Joo-bong</td>\n",
       "      <td>NaN</td>\n",
       "      <td>NaN</td>\n",
       "    </tr>\n",
       "    <tr>\n",
       "      <th>1</th>\n",
       "      <td>1</td>\n",
       "      <td>http://www.wikidata.org/entity/Q55728351</td>\n",
       "      <td>KIM Jong hoon</td>\n",
       "      <td>NaN</td>\n",
       "      <td>NaN</td>\n",
       "    </tr>\n",
       "    <tr>\n",
       "      <th>2</th>\n",
       "      <td>2</td>\n",
       "      <td>http://www.wikidata.org/entity/Q11266766</td>\n",
       "      <td>이민혁</td>\n",
       "      <td>NaN</td>\n",
       "      <td>NaN</td>\n",
       "    </tr>\n",
       "    <tr>\n",
       "      <th>3</th>\n",
       "      <td>3</td>\n",
       "      <td>http://www.wikidata.org/entity/Q47492159</td>\n",
       "      <td>Lee Ho</td>\n",
       "      <td>NaN</td>\n",
       "      <td>NaN</td>\n",
       "    </tr>\n",
       "    <tr>\n",
       "      <th>4</th>\n",
       "      <td>4</td>\n",
       "      <td>http://www.wikidata.org/entity/Q1075756</td>\n",
       "      <td>최민호</td>\n",
       "      <td>NaN</td>\n",
       "      <td>NaN</td>\n",
       "    </tr>\n",
       "  </tbody>\n",
       "</table>\n",
       "</div>"
      ],
      "text/plain": [
       "   Unnamed: 0                                        id       fullname  \\\n",
       "0           0    http://www.wikidata.org/entity/Q484396  Park Joo-bong   \n",
       "1           1  http://www.wikidata.org/entity/Q55728351  KIM Jong hoon   \n",
       "2           2  http://www.wikidata.org/entity/Q11266766            이민혁   \n",
       "3           3  http://www.wikidata.org/entity/Q47492159         Lee Ho   \n",
       "4           4   http://www.wikidata.org/entity/Q1075756            최민호   \n",
       "\n",
       "   Family name  Given name  \n",
       "0          NaN         NaN  \n",
       "1          NaN         NaN  \n",
       "2          NaN         NaN  \n",
       "3          NaN         NaN  \n",
       "4          NaN         NaN  "
      ]
     },
     "execution_count": 14,
     "metadata": {},
     "output_type": "execute_result"
    }
   ],
   "source": [
    "#checking the head \n",
    "df.head()"
   ]
  },
  {
   "cell_type": "code",
   "execution_count": 15,
   "metadata": {},
   "outputs": [
    {
     "data": {
      "text/plain": [
       "Unnamed: 0         0\n",
       "id                 0\n",
       "fullname           0\n",
       "Family name    21202\n",
       "Given name     21202\n",
       "dtype: int64"
      ]
     },
     "execution_count": 15,
     "metadata": {},
     "output_type": "execute_result"
    }
   ],
   "source": [
    "#checking how many null entries each columns have( 21202 for family and given name)\n",
    "nan_count = np.sum(df.isnull(), axis = 0)\n",
    "nan_count"
   ]
  },
  {
   "cell_type": "code",
   "execution_count": 16,
   "metadata": {},
   "outputs": [
    {
     "data": {
      "text/plain": [
       "True"
      ]
     },
     "execution_count": 16,
     "metadata": {},
     "output_type": "execute_result"
    }
   ],
   "source": [
    "#checking if there's any duplicates(yes)\n",
    "df['fullname'].duplicated().any()"
   ]
  },
  {
   "cell_type": "code",
   "execution_count": 17,
   "metadata": {},
   "outputs": [
    {
     "data": {
      "text/plain": [
       "Unnamed: 0         0\n",
       "id                 0\n",
       "fullname           0\n",
       "Family name    19520\n",
       "Given name     19520\n",
       "dtype: int64"
      ]
     },
     "execution_count": 17,
     "metadata": {},
     "output_type": "execute_result"
    }
   ],
   "source": [
    "#drop them from the fullname  and checking if nullentries went down(form 21202 to 19520)\n",
    "df2 =df.drop_duplicates(subset=['fullname'])\n",
    "\n",
    "nan_count = np.sum(df2.isnull(), axis = 0)\n",
    "nan_count"
   ]
  },
  {
   "cell_type": "code",
   "execution_count": 19,
   "metadata": {},
   "outputs": [
    {
     "data": {
      "text/plain": [
       "False"
      ]
     },
     "execution_count": 19,
     "metadata": {},
     "output_type": "execute_result"
    }
   ],
   "source": [
    "#now the duplicates are gone\n",
    "df2['fullname'].duplicated().any()"
   ]
  },
  {
   "attachments": {},
   "cell_type": "markdown",
   "metadata": {},
   "source": [
    "Now For Feature Engineering "
   ]
  },
  {
   "cell_type": "code",
   "execution_count": 22,
   "metadata": {},
   "outputs": [
    {
     "name": "stdout",
     "output_type": "stream",
     "text": [
      "0        [LATIN, LATIN, LATIN, LATIN, SPACE, LATIN, LAT...\n",
      "1        [LATIN, LATIN, LATIN, SPACE, LATIN, LATIN, LAT...\n",
      "2                                 [HANGUL, HANGUL, HANGUL]\n",
      "3               [LATIN, LATIN, LATIN, SPACE, LATIN, LATIN]\n",
      "4                                 [HANGUL, HANGUL, HANGUL]\n",
      "                               ...                        \n",
      "21197    [LATIN, LATIN, LATIN, SPACE, LATIN, LATIN, LAT...\n",
      "21198    [LATIN, LATIN, LATIN, SPACE, LATIN, LATIN, LAT...\n",
      "21199                             [HANGUL, HANGUL, HANGUL]\n",
      "21200                             [HANGUL, HANGUL, HANGUL]\n",
      "21201    [LATIN, LATIN, SPACE, LATIN, LATIN, HYPHEN-MIN...\n",
      "Name: determine_alphabet, Length: 19520, dtype: object\n"
     ]
    },
    {
     "name": "stderr",
     "output_type": "stream",
     "text": [
      "/var/folders/4g/6d3mv01d7k7dpqlb46ckdk_00000gn/T/ipykernel_63757/1593449575.py:9: SettingWithCopyWarning: \n",
      "A value is trying to be set on a copy of a slice from a DataFrame.\n",
      "Try using .loc[row_indexer,col_indexer] = value instead\n",
      "\n",
      "See the caveats in the documentation: https://pandas.pydata.org/pandas-docs/stable/user_guide/indexing.html#returning-a-view-versus-a-copy\n",
      "  df2['determine_alphabet'] = df2['fullname'].apply(Korean_lan)\n"
     ]
    }
   ],
   "source": [
    "#determining the lan\n",
    "def Korean_lan(name):\n",
    "    if isinstance(name, str):\n",
    "        return [unicodedata.name(char).split(' ')[0] for char in name]\n",
    "    else:\n",
    "        return None\n",
    "\n",
    "# Apply the function only to rows where 'fullname' is a string\n",
    "df2['determine_alphabet'] = df2['fullname'].apply(Korean_lan)\n",
    "print(df2['determine_alphabet'])"
   ]
  },
  {
   "cell_type": "code",
   "execution_count": 27,
   "metadata": {},
   "outputs": [
    {
     "name": "stdout",
     "output_type": "stream",
     "text": [
      "0        [Par, ark, rk , k J,  Jo, Joo, oo-, o-b, -bo, ...\n",
      "1        [KIM, IM , M J,  Jo, Jon, ong, ng , g h,  ho, ...\n",
      "2                                                    [이민혁]\n",
      "3                                     [Lee, ee , e H,  Ho]\n",
      "4                                                    [최민호]\n",
      "                               ...                        \n",
      "21197             [Lee, ee , e H,  Ha, Han, an-, n-w, -wi]\n",
      "21198    [Gil, il , l J,  Ju, Jun, ung, ng-, g-w, -wo, ...\n",
      "21199                                                [이정희]\n",
      "21200                                                [금태섭]\n",
      "21201                  [Oh , h U,  Ui, Ui-, i-s, -si, sik]\n",
      "Name: char_ngrams, Length: 19520, dtype: object\n"
     ]
    }
   ],
   "source": [
    "#featuring the char_ngrams (Jolie way)\n",
    "\"\"\"\n",
    "my way don't work correctly \n",
    "def korean_char_ngrams(names,n):\n",
    "    if not isinstance(names,str):\n",
    "        return []\n",
    "    \n",
    "    char_ngrams = [names[i:i+n] for i in range(len(names)-n +1)]\n",
    "    return char_ngrams\n",
    "\n",
    "n = 3\n",
    "df2['char_ngrams'] = df2['fullname'].apply(lambda x: korean_char_ngrams(x, n))\n",
    "\"\"\"\n",
    "def korean_char_ngrams(names,n):\n",
    "    if not isinstance(names,str):\n",
    "        return []\n",
    "    \n",
    "    words = text.split()\n",
    "    \n",
    "    unigrams = list(ngrams(text,1))\n",
    "    bigrams = list(ngrams(text, 2))\n",
    "    trigrams = list(ngrams(text, 3))\n",
    "    \n",
    "\n",
    "print(df2['char_ngrams'])"
   ]
  },
  {
   "cell_type": "code",
   "execution_count": 26,
   "metadata": {},
   "outputs": [
    {
     "name": "stdout",
     "output_type": "stream",
     "text": [
      "0        2.0\n",
      "1        3.0\n",
      "2        1.0\n",
      "3        2.0\n",
      "4        1.0\n",
      "        ... \n",
      "21197    2.0\n",
      "21198    2.0\n",
      "21199    1.0\n",
      "21200    1.0\n",
      "21201    2.0\n",
      "Name: token_len, Length: 19520, dtype: float64\n"
     ]
    },
    {
     "name": "stderr",
     "output_type": "stream",
     "text": [
      "/var/folders/4g/6d3mv01d7k7dpqlb46ckdk_00000gn/T/ipykernel_63757/4027173506.py:7: SettingWithCopyWarning: \n",
      "A value is trying to be set on a copy of a slice from a DataFrame.\n",
      "Try using .loc[row_indexer,col_indexer] = value instead\n",
      "\n",
      "See the caveats in the documentation: https://pandas.pydata.org/pandas-docs/stable/user_guide/indexing.html#returning-a-view-versus-a-copy\n",
      "  df2['token_len'] = df2['fullname'].apply(token_length)\n"
     ]
    }
   ],
   "source": [
    "#feature for token length \n",
    "def token_length(name):\n",
    "    if isinstance(name,str):\n",
    "       return len(name.split())\n",
    "    else:\n",
    "       return None\n",
    "\n",
    "df2['token_len'] = df2['fullname'].apply(token_length)\n",
    "print(df2['token_len'])"
   ]
  }
 ],
 "metadata": {
  "kernelspec": {
   "display_name": "Python 3",
   "language": "python",
   "name": "python3"
  },
  "language_info": {
   "codemirror_mode": {
    "name": "ipython",
    "version": 3
   },
   "file_extension": ".py",
   "mimetype": "text/x-python",
   "name": "python",
   "nbconvert_exporter": "python",
   "pygments_lexer": "ipython3",
   "version": "3.11.5"
  },
  "orig_nbformat": 4,
  "vscode": {
   "interpreter": {
    "hash": "aee8b7b246df8f9039afb4144a1f6fd8d2ca17a180786b69acc140d282b71a49"
   }
  }
 },
 "nbformat": 4,
 "nbformat_minor": 2
}
