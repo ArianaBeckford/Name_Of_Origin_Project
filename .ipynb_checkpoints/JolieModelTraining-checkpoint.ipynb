{
 "cells": [
  {
   "cell_type": "code",
   "execution_count": 1,
   "id": "9ae9843c-3d9b-4f57-9b02-f89008ed982f",
   "metadata": {},
   "outputs": [],
   "source": [
    "# import szys\n",
    "# print(sys.version)"
   ]
  },
  {
   "cell_type": "code",
   "execution_count": 2,
   "id": "2ad34f43",
   "metadata": {},
   "outputs": [
    {
     "name": "stderr",
     "output_type": "stream",
     "text": [
      "/Users/joliehuang/opt/anaconda3/lib/python3.9/site-packages/scipy/__init__.py:155: UserWarning: A NumPy version >=1.18.5 and <1.25.0 is required for this version of SciPy (detected version 1.26.2\n",
      "  warnings.warn(f\"A NumPy version >={np_minversion} and <{np_maxversion}\"\n"
     ]
    }
   ],
   "source": [
    "import pandas as pd\n",
    "import numpy as np\n",
    "\n",
    "# from sklearn.utils import shuffle\n",
    "\n",
    "# Model training\n",
    "#from sklearn.model_selection import train_test_split, GridSearchCV\n",
    "\n",
    "import numpy as np\n",
    "from sklearn.model_selection import train_test_split\n",
    "from sklearn.neighbors import KNeighborsClassifier\n",
    "from sklearn.metrics import accuracy_score, classification_report\n"
   ]
  },
  {
   "cell_type": "code",
   "execution_count": 3,
   "id": "aec5c3d4",
   "metadata": {},
   "outputs": [
    {
     "data": {
      "text/html": [
       "<div>\n",
       "<style scoped>\n",
       "    .dataframe tbody tr th:only-of-type {\n",
       "        vertical-align: middle;\n",
       "    }\n",
       "\n",
       "    .dataframe tbody tr th {\n",
       "        vertical-align: top;\n",
       "    }\n",
       "\n",
       "    .dataframe thead th {\n",
       "        text-align: right;\n",
       "    }\n",
       "</style>\n",
       "<table border=\"1\" class=\"dataframe\">\n",
       "  <thead>\n",
       "    <tr style=\"text-align: right;\">\n",
       "      <th></th>\n",
       "      <th>name_length</th>\n",
       "      <th>avg_token_length</th>\n",
       "      <th>num_tokens</th>\n",
       "      <th>period_freq</th>\n",
       "      <th>dash_freq</th>\n",
       "      <th>apostrophe_freq</th>\n",
       "      <th>space_freq</th>\n",
       "      <th>unigrams_cosine_sim</th>\n",
       "      <th>bigrams_cosine_sim</th>\n",
       "      <th>accent_count</th>\n",
       "      <th>language</th>\n",
       "    </tr>\n",
       "  </thead>\n",
       "  <tbody>\n",
       "    <tr>\n",
       "      <th>0</th>\n",
       "      <td>9</td>\n",
       "      <td>9.0</td>\n",
       "      <td>1</td>\n",
       "      <td>0</td>\n",
       "      <td>0</td>\n",
       "      <td>0</td>\n",
       "      <td>0</td>\n",
       "      <td>0.664809</td>\n",
       "      <td>0.250640</td>\n",
       "      <td>0</td>\n",
       "      <td>Indonesian</td>\n",
       "    </tr>\n",
       "    <tr>\n",
       "      <th>1</th>\n",
       "      <td>12</td>\n",
       "      <td>12.0</td>\n",
       "      <td>1</td>\n",
       "      <td>0</td>\n",
       "      <td>0</td>\n",
       "      <td>0</td>\n",
       "      <td>0</td>\n",
       "      <td>0.686625</td>\n",
       "      <td>0.353292</td>\n",
       "      <td>0</td>\n",
       "      <td>Indonesian</td>\n",
       "    </tr>\n",
       "    <tr>\n",
       "      <th>2</th>\n",
       "      <td>8</td>\n",
       "      <td>8.0</td>\n",
       "      <td>1</td>\n",
       "      <td>0</td>\n",
       "      <td>0</td>\n",
       "      <td>0</td>\n",
       "      <td>0</td>\n",
       "      <td>0.688312</td>\n",
       "      <td>0.197139</td>\n",
       "      <td>0</td>\n",
       "      <td>Indonesian</td>\n",
       "    </tr>\n",
       "    <tr>\n",
       "      <th>3</th>\n",
       "      <td>9</td>\n",
       "      <td>9.0</td>\n",
       "      <td>1</td>\n",
       "      <td>0</td>\n",
       "      <td>0</td>\n",
       "      <td>0</td>\n",
       "      <td>0</td>\n",
       "      <td>0.581396</td>\n",
       "      <td>0.155386</td>\n",
       "      <td>0</td>\n",
       "      <td>Indonesian</td>\n",
       "    </tr>\n",
       "    <tr>\n",
       "      <th>4</th>\n",
       "      <td>8</td>\n",
       "      <td>8.0</td>\n",
       "      <td>1</td>\n",
       "      <td>0</td>\n",
       "      <td>0</td>\n",
       "      <td>0</td>\n",
       "      <td>0</td>\n",
       "      <td>0.463215</td>\n",
       "      <td>0.176917</td>\n",
       "      <td>0</td>\n",
       "      <td>Indonesian</td>\n",
       "    </tr>\n",
       "  </tbody>\n",
       "</table>\n",
       "</div>"
      ],
      "text/plain": [
       "   name_length  avg_token_length  num_tokens  period_freq  dash_freq  \\\n",
       "0            9               9.0           1            0          0   \n",
       "1           12              12.0           1            0          0   \n",
       "2            8               8.0           1            0          0   \n",
       "3            9               9.0           1            0          0   \n",
       "4            8               8.0           1            0          0   \n",
       "\n",
       "   apostrophe_freq  space_freq  unigrams_cosine_sim  bigrams_cosine_sim  \\\n",
       "0                0           0             0.664809            0.250640   \n",
       "1                0           0             0.686625            0.353292   \n",
       "2                0           0             0.688312            0.197139   \n",
       "3                0           0             0.581396            0.155386   \n",
       "4                0           0             0.463215            0.176917   \n",
       "\n",
       "   accent_count    language  \n",
       "0             0  Indonesian  \n",
       "1             0  Indonesian  \n",
       "2             0  Indonesian  \n",
       "3             0  Indonesian  \n",
       "4             0  Indonesian  "
      ]
     },
     "execution_count": 3,
     "metadata": {},
     "output_type": "execute_result"
    }
   ],
   "source": [
    "df = pd.read_pickle('merged_df.pkl.gz', compression='gzip')\n",
    "df.head()"
   ]
  },
  {
   "cell_type": "code",
   "execution_count": 4,
   "id": "8e99eceb",
   "metadata": {},
   "outputs": [
    {
     "name": "stdout",
     "output_type": "stream",
     "text": [
      "Starting\n",
      "Done\n"
     ]
    }
   ],
   "source": [
    "print('Starting')\n",
    "X = df.drop(columns = 'language', axis = 1)\n",
    "y = df['language']\n",
    "# Split data for training and validation\n",
    "print(\"Done\")"
   ]
  },
  {
   "cell_type": "code",
   "execution_count": 5,
   "id": "938c945e-cf6a-4d7b-9868-f53f8ea2b578",
   "metadata": {},
   "outputs": [
    {
     "name": "stdout",
     "output_type": "stream",
     "text": [
      "Starting\n",
      "Done\n"
     ]
    }
   ],
   "source": [
    "print('Starting')\n",
    "# Split the data into training and testing sets\n",
    "X_train, X_test, y_train, y_test = train_test_split(X, y, test_size=0.2, random_state=42)\n",
    "print(\"Done\")"
   ]
  },
  {
   "cell_type": "code",
   "execution_count": 6,
   "id": "27108fdf-bdaf-405b-8f8d-e62300bc1c46",
   "metadata": {},
   "outputs": [
    {
     "name": "stdout",
     "output_type": "stream",
     "text": [
      "Starting\n",
      "Done\n"
     ]
    }
   ],
   "source": [
    "print('Starting')\n",
    "# Initialize k-NN classifier\n",
    "k = 35  # You can adjust this hyperparameter\n",
    "knn_classifier = KNeighborsClassifier(n_neighbors=k)\n",
    "print(\"Done\")"
   ]
  },
  {
   "cell_type": "code",
   "execution_count": 7,
   "id": "efa8e9d4-0de8-455a-a4c4-00122d9d9f19",
   "metadata": {},
   "outputs": [
    {
     "name": "stdout",
     "output_type": "stream",
     "text": [
      "Starting\n",
      "Done\n"
     ]
    }
   ],
   "source": [
    "print('Starting')\n",
    "# Train the k-NN classifier\n",
    "knn_classifier.fit(X_train, y_train)\n",
    "print(\"Done\")"
   ]
  },
  {
   "cell_type": "code",
   "execution_count": 8,
   "id": "b8f67593-5893-4f1c-a316-f5b898fc7c24",
   "metadata": {},
   "outputs": [
    {
     "name": "stdout",
     "output_type": "stream",
     "text": [
      "Starting\n",
      "Done\n"
     ]
    }
   ],
   "source": [
    "print('Starting')\n",
    "# Make predictions on the test set\n",
    "y_pred = knn_classifier.predict(X_test)\n",
    "\n",
    "print(\"Done\")"
   ]
  },
  {
   "cell_type": "code",
   "execution_count": 9,
   "id": "24a6dd25-c11a-430c-b990-7fd22061f976",
   "metadata": {},
   "outputs": [
    {
     "name": "stdout",
     "output_type": "stream",
     "text": [
      "Starting\n",
      "Accuracy: 82.01%\n",
      "Done\n"
     ]
    }
   ],
   "source": [
    "print('Starting')\n",
    "# Evaluate the model\n",
    "accuracy = accuracy_score(y_test, y_pred)\n",
    "print(f'Accuracy: {accuracy * 100:.2f}%')\n",
    "print(\"Done\")\n"
   ]
  },
  {
   "cell_type": "code",
   "execution_count": 10,
   "id": "30dc364b-94a0-44c0-bec4-fd42b8a869f8",
   "metadata": {},
   "outputs": [
    {
     "name": "stdout",
     "output_type": "stream",
     "text": [
      "Starting\n",
      "                       precision    recall  f1-score   support\n",
      "\n",
      "   Arabic (Romanized)       0.09      0.00      0.01       217\n",
      " Chinese (Characters)       0.79      0.85      0.82      2157\n",
      "  Chinese (Romanized)       0.60      0.63      0.61      2003\n",
      "             Croatian       0.38      0.19      0.25       111\n",
      "                Dutch       0.33      0.05      0.08       127\n",
      "              English       0.56      0.85      0.67      4592\n",
      "               French       0.30      0.05      0.09       244\n",
      "               German       0.00      0.00      1.00       219\n",
      "    Hindi (Romanized)       1.00      0.00      0.00       143\n",
      "           Indonesian       0.39      0.27      0.32      2206\n",
      "              Italian       0.00      0.00      1.00       239\n",
      "Japanese (Characters)       0.96      0.95      0.95     18433\n",
      " Japanese (Romanized)       0.85      0.96      0.91     18499\n",
      "  Korean (Characters)       0.97      0.94      0.96      1862\n",
      "   Korean (Romanized)       0.95      0.76      0.85      1993\n",
      "                Malay       0.36      0.16      0.22       596\n",
      "               Polish       1.00      0.00      0.00       108\n",
      "           Portuguese       0.26      0.05      0.08       211\n",
      "  Russian (Romanized)       0.53      0.33      0.40       189\n",
      "              Spanish       0.41      0.34      0.37       435\n",
      "              Turkish       0.67      0.34      0.45      3573\n",
      "           Vietnamese       0.85      0.64      0.73       469\n",
      "\n",
      "             accuracy                           0.82     58626\n",
      "            macro avg       0.56      0.38      0.49     58626\n",
      "         weighted avg       0.81      0.82      0.81     58626\n",
      "\n",
      "Done\n"
     ]
    }
   ],
   "source": [
    "print('Starting')\n",
    "# Display classification report\n",
    "\n",
    "# Assuming y_true and y_pred are your true and predicted labels\n",
    "report = classification_report(y_test, y_pred, zero_division=1)\n",
    "print(report)\n",
    "\n",
    "print(\"Done\")"
   ]
  },
  {
   "cell_type": "markdown",
   "id": "d20a687d-9bbc-47b6-bd21-5bb5d6da1801",
   "metadata": {},
   "source": [
    "### EXPLANATION of results (k = 35, the best value of k)\n",
    "\n",
    "Arabic (Romanized):\n",
    "Precision: 0.09 (Low precision indicates many false positives.)\n",
    "Recall: 0.00 (Low recall indicates missing a significant number of actual positives.)\n",
    "F1-Score: 0.01\n",
    "Support: 217\n",
    "\n",
    "Chinese (Characters):\n",
    "High precision and recall suggest good performance for this class.\n",
    "\n",
    "English:\n",
    "High precision and recall indicate effective predictions for the English class.\n",
    "\n",
    "Japanese (Characters) and Japanese (Romanized):\n",
    "High precision, recall, and F1-scores suggest excellent performance for these classes.\n",
    "\n",
    "Korean (Romanized):\n",
    "A relatively high F1-score suggests good balance between precision and recall.\n",
    "\n",
    "Russian (Romanized) and Spanish:\n",
    "Moderate precision and recall indicate decent performance for these classes.\n",
    "\n",
    "Polish:\n",
    "High precision but low recall; the model might be overly conservative in predicting this class.\n",
    "\n",
    "Portuguese:\n",
    "Similar to Polish, high precision but low recall.\n",
    "\n",
    "Turkish:\n",
    "Relatively high precision and recall suggest good overall performance for this class.\n",
    "\n",
    "Vietnamese:\n",
    "High precision and recall suggest good performance for this class.\n",
    "\n",
    "Important Notes:\n",
    "Model appears to perform well on classes like Chinese, English, Japanese, and Korean, as indicated by high precision, recall, and F1-scores.\n",
    "\n",
    "Some classes, such as Arabic (Romanized), Portuguese, Polish, and Russian (Romanized), have lower precision and recall, indicating challenges in predicting these classes accurately.\n",
    "\n",
    "For classes with low support (Croatian, Dutch, German, etc), there's a small number of instances -> interpret the performance metrics with caution\n",
    "\n",
    "The macro average and weighted average provide a summary of the overall model performance. Here, the macro average shows lower values, indicating challenges in handling multiple classes.\n",
    "\n",
    "(Consider the specific characteristics of each class and whether precision or recall is more critical based on the application. It might be necessary to adjust the model or explore different features to improve performance on specific classes.)"
   ]
  },
  {
   "cell_type": "code",
   "execution_count": null,
   "id": "289b5df0",
   "metadata": {},
   "outputs": [],
   "source": []
  },
  {
   "cell_type": "code",
   "execution_count": null,
   "id": "a82926df",
   "metadata": {},
   "outputs": [],
   "source": []
  },
  {
   "cell_type": "code",
   "execution_count": null,
   "id": "402f45b6",
   "metadata": {},
   "outputs": [],
   "source": []
  },
  {
   "cell_type": "code",
   "execution_count": null,
   "id": "706f7254",
   "metadata": {},
   "outputs": [],
   "source": []
  },
  {
   "cell_type": "code",
   "execution_count": null,
   "id": "86dd0fa2",
   "metadata": {},
   "outputs": [],
   "source": []
  },
  {
   "cell_type": "code",
   "execution_count": null,
   "id": "7c76fda1",
   "metadata": {},
   "outputs": [],
   "source": []
  },
  {
   "cell_type": "code",
   "execution_count": null,
   "id": "00ad1c63",
   "metadata": {},
   "outputs": [],
   "source": []
  },
  {
   "cell_type": "code",
   "execution_count": null,
   "id": "e156c8e2",
   "metadata": {},
   "outputs": [],
   "source": []
  },
  {
   "cell_type": "code",
   "execution_count": null,
   "id": "e9b833df",
   "metadata": {},
   "outputs": [],
   "source": []
  },
  {
   "cell_type": "code",
   "execution_count": null,
   "id": "03f48872",
   "metadata": {},
   "outputs": [],
   "source": []
  },
  {
   "cell_type": "code",
   "execution_count": null,
   "id": "4c08cd02",
   "metadata": {},
   "outputs": [],
   "source": []
  },
  {
   "cell_type": "code",
   "execution_count": null,
   "id": "09c0e1e4",
   "metadata": {},
   "outputs": [],
   "source": []
  },
  {
   "cell_type": "code",
   "execution_count": null,
   "id": "8e9e1dfc",
   "metadata": {},
   "outputs": [],
   "source": []
  }
 ],
 "metadata": {
  "kernelspec": {
   "display_name": "venv",
   "language": "python",
   "name": "venv"
  },
  "language_info": {
   "codemirror_mode": {
    "name": "ipython",
    "version": 3
   },
   "file_extension": ".py",
   "mimetype": "text/x-python",
   "name": "python",
   "nbconvert_exporter": "python",
   "pygments_lexer": "ipython3",
   "version": "3.9.13"
  }
 },
 "nbformat": 4,
 "nbformat_minor": 5
}
