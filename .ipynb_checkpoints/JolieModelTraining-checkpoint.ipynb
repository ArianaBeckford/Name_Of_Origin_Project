{
 "cells": [
  {
   "cell_type": "code",
   "execution_count": 2,
   "id": "9ae9843c-3d9b-4f57-9b02-f89008ed982f",
   "metadata": {},
   "outputs": [],
   "source": [
    "# import szys\n",
    "# print(sys.version)"
   ]
  },
  {
   "cell_type": "code",
   "execution_count": 3,
   "id": "2ad34f43",
   "metadata": {},
   "outputs": [
    {
     "name": "stderr",
     "output_type": "stream",
     "text": [
      "/Users/joliehuang/opt/anaconda3/lib/python3.9/site-packages/scipy/__init__.py:155: UserWarning: A NumPy version >=1.18.5 and <1.25.0 is required for this version of SciPy (detected version 1.26.2\n",
      "  warnings.warn(f\"A NumPy version >={np_minversion} and <{np_maxversion}\"\n"
     ]
    }
   ],
   "source": [
    "import pandas as pd\n",
    "import numpy as np\n",
    "\n",
    "# from sklearn.utils import shuffle\n",
    "\n",
    "# Model training\n",
    "#from sklearn.model_selection import train_test_split, GridSearchCV\n",
    "\n",
    "import numpy as np\n",
    "from sklearn.model_selection import train_test_split\n",
    "from sklearn.neighbors import KNeighborsClassifier\n",
    "from sklearn.metrics import accuracy_score, classification_report\n"
   ]
  },
  {
   "cell_type": "code",
   "execution_count": null,
   "id": "f6e18c06-e089-4146-a0ac-a89e8dd9fc8e",
   "metadata": {},
   "outputs": [],
   "source": []
  },
  {
   "cell_type": "code",
   "execution_count": null,
   "id": "5d870a08-54f0-478a-9993-7ad2ab0aa484",
   "metadata": {},
   "outputs": [],
   "source": []
  },
  {
   "cell_type": "code",
   "execution_count": 4,
   "id": "aec5c3d4",
   "metadata": {},
   "outputs": [
    {
     "data": {
      "text/html": [
       "<div>\n",
       "<style scoped>\n",
       "    .dataframe tbody tr th:only-of-type {\n",
       "        vertical-align: middle;\n",
       "    }\n",
       "\n",
       "    .dataframe tbody tr th {\n",
       "        vertical-align: top;\n",
       "    }\n",
       "\n",
       "    .dataframe thead th {\n",
       "        text-align: right;\n",
       "    }\n",
       "</style>\n",
       "<table border=\"1\" class=\"dataframe\">\n",
       "  <thead>\n",
       "    <tr style=\"text-align: right;\">\n",
       "      <th></th>\n",
       "      <th>name_length</th>\n",
       "      <th>avg_token_length</th>\n",
       "      <th>num_tokens</th>\n",
       "      <th>period_freq</th>\n",
       "      <th>dash_freq</th>\n",
       "      <th>apostrophe_freq</th>\n",
       "      <th>space_freq</th>\n",
       "      <th>unigrams_cosine_sim</th>\n",
       "      <th>bigrams_cosine_sim</th>\n",
       "      <th>language</th>\n",
       "    </tr>\n",
       "  </thead>\n",
       "  <tbody>\n",
       "    <tr>\n",
       "      <th>0</th>\n",
       "      <td>9</td>\n",
       "      <td>9.0</td>\n",
       "      <td>1</td>\n",
       "      <td>0</td>\n",
       "      <td>0</td>\n",
       "      <td>0</td>\n",
       "      <td>0</td>\n",
       "      <td>0.664809</td>\n",
       "      <td>0.250640</td>\n",
       "      <td>Indonesian</td>\n",
       "    </tr>\n",
       "    <tr>\n",
       "      <th>1</th>\n",
       "      <td>12</td>\n",
       "      <td>12.0</td>\n",
       "      <td>1</td>\n",
       "      <td>0</td>\n",
       "      <td>0</td>\n",
       "      <td>0</td>\n",
       "      <td>0</td>\n",
       "      <td>0.686625</td>\n",
       "      <td>0.353292</td>\n",
       "      <td>Indonesian</td>\n",
       "    </tr>\n",
       "    <tr>\n",
       "      <th>2</th>\n",
       "      <td>8</td>\n",
       "      <td>8.0</td>\n",
       "      <td>1</td>\n",
       "      <td>0</td>\n",
       "      <td>0</td>\n",
       "      <td>0</td>\n",
       "      <td>0</td>\n",
       "      <td>0.688312</td>\n",
       "      <td>0.197139</td>\n",
       "      <td>Indonesian</td>\n",
       "    </tr>\n",
       "    <tr>\n",
       "      <th>3</th>\n",
       "      <td>9</td>\n",
       "      <td>9.0</td>\n",
       "      <td>1</td>\n",
       "      <td>0</td>\n",
       "      <td>0</td>\n",
       "      <td>0</td>\n",
       "      <td>0</td>\n",
       "      <td>0.581396</td>\n",
       "      <td>0.155386</td>\n",
       "      <td>Indonesian</td>\n",
       "    </tr>\n",
       "    <tr>\n",
       "      <th>4</th>\n",
       "      <td>8</td>\n",
       "      <td>8.0</td>\n",
       "      <td>1</td>\n",
       "      <td>0</td>\n",
       "      <td>0</td>\n",
       "      <td>0</td>\n",
       "      <td>0</td>\n",
       "      <td>0.463215</td>\n",
       "      <td>0.176917</td>\n",
       "      <td>Indonesian</td>\n",
       "    </tr>\n",
       "  </tbody>\n",
       "</table>\n",
       "</div>"
      ],
      "text/plain": [
       "   name_length  avg_token_length  num_tokens  period_freq  dash_freq  \\\n",
       "0            9               9.0           1            0          0   \n",
       "1           12              12.0           1            0          0   \n",
       "2            8               8.0           1            0          0   \n",
       "3            9               9.0           1            0          0   \n",
       "4            8               8.0           1            0          0   \n",
       "\n",
       "   apostrophe_freq  space_freq  unigrams_cosine_sim  bigrams_cosine_sim  \\\n",
       "0                0           0             0.664809            0.250640   \n",
       "1                0           0             0.686625            0.353292   \n",
       "2                0           0             0.688312            0.197139   \n",
       "3                0           0             0.581396            0.155386   \n",
       "4                0           0             0.463215            0.176917   \n",
       "\n",
       "     language  \n",
       "0  Indonesian  \n",
       "1  Indonesian  \n",
       "2  Indonesian  \n",
       "3  Indonesian  \n",
       "4  Indonesian  "
      ]
     },
     "execution_count": 4,
     "metadata": {},
     "output_type": "execute_result"
    }
   ],
   "source": [
    "df = pd.read_pickle('merged_df.pkl.gz', compression='gzip')\n",
    "df.head()"
   ]
  },
  {
   "cell_type": "code",
   "execution_count": 5,
   "id": "8e99eceb",
   "metadata": {},
   "outputs": [
    {
     "name": "stdout",
     "output_type": "stream",
     "text": [
      "Starting\n",
      "Done\n"
     ]
    }
   ],
   "source": [
    "print('Starting')\n",
    "X = df.drop(columns = 'language', axis = 1)\n",
    "y = df['language']\n",
    "# Split data for training and validation\n",
    "print(\"Done\")"
   ]
  },
  {
   "cell_type": "code",
   "execution_count": 6,
   "id": "938c945e-cf6a-4d7b-9868-f53f8ea2b578",
   "metadata": {},
   "outputs": [
    {
     "name": "stdout",
     "output_type": "stream",
     "text": [
      "Starting\n",
      "Done\n"
     ]
    }
   ],
   "source": [
    "print('Starting')\n",
    "# Split the data into training and testing sets\n",
    "X_train, X_test, y_train, y_test = train_test_split(X, y, test_size=0.2, random_state=42)\n",
    "print(\"Done\")\n"
   ]
  },
  {
   "cell_type": "code",
   "execution_count": 7,
   "id": "27108fdf-bdaf-405b-8f8d-e62300bc1c46",
   "metadata": {},
   "outputs": [
    {
     "name": "stdout",
     "output_type": "stream",
     "text": [
      "Starting\n",
      "Done\n"
     ]
    }
   ],
   "source": [
    "print('Starting')\n",
    "\n",
    "# Initialize k-NN classifier\n",
    "k = 3  # You can adjust this hyperparameter\n",
    "knn_classifier = KNeighborsClassifier(n_neighbors=k)\n",
    "\n",
    "print(\"Done\")"
   ]
  },
  {
   "cell_type": "code",
   "execution_count": 8,
   "id": "efa8e9d4-0de8-455a-a4c4-00122d9d9f19",
   "metadata": {},
   "outputs": [
    {
     "name": "stdout",
     "output_type": "stream",
     "text": [
      "Starting\n",
      "Done\n"
     ]
    }
   ],
   "source": [
    "print('Starting')\n",
    "# Train the k-NN classifier\n",
    "knn_classifier.fit(X_train, y_train)\n",
    "\n",
    "print(\"Done\")"
   ]
  },
  {
   "cell_type": "code",
   "execution_count": 9,
   "id": "b8f67593-5893-4f1c-a316-f5b898fc7c24",
   "metadata": {},
   "outputs": [
    {
     "name": "stdout",
     "output_type": "stream",
     "text": [
      "Starting\n",
      "Done\n"
     ]
    }
   ],
   "source": [
    "print('Starting')\n",
    "# Make predictions on the test set\n",
    "y_pred = knn_classifier.predict(X_test)\n",
    "\n",
    "print(\"Done\")"
   ]
  },
  {
   "cell_type": "code",
   "execution_count": 10,
   "id": "24a6dd25-c11a-430c-b990-7fd22061f976",
   "metadata": {},
   "outputs": [
    {
     "name": "stdout",
     "output_type": "stream",
     "text": [
      "Starting\n",
      "Accuracy: 81.78%\n",
      "Done\n"
     ]
    }
   ],
   "source": [
    "print('Starting')\n",
    "# Evaluate the model\n",
    "accuracy = accuracy_score(y_test, y_pred)\n",
    "print(f'Accuracy: {accuracy * 100:.2f}%')\n",
    "print(\"Done\")\n"
   ]
  },
  {
   "cell_type": "code",
   "execution_count": 12,
   "id": "30dc364b-94a0-44c0-bec4-fd42b8a869f8",
   "metadata": {},
   "outputs": [
    {
     "name": "stdout",
     "output_type": "stream",
     "text": [
      "Starting\n",
      "                      precision    recall  f1-score   support\n",
      "\n",
      "Chinese (Characters)       0.77      0.87      0.82      2292\n",
      " Chinese (Romanized)       0.63      0.71      0.67      2052\n",
      "          Indonesian       0.69      0.72      0.71      2229\n",
      "              Korean       0.93      0.89      0.91      3780\n",
      "               Malay       0.40      0.21      0.28       602\n",
      "             Turkish       1.00      1.00      1.00      3625\n",
      "          Vietnamese       0.54      0.31      0.40       467\n",
      "\n",
      "            accuracy                           0.82     15047\n",
      "           macro avg       0.71      0.67      0.68     15047\n",
      "        weighted avg       0.81      0.82      0.81     15047\n",
      "\n",
      "Done\n"
     ]
    }
   ],
   "source": [
    "print('Starting')\n",
    "# Display classification report\n",
    "print(classification_report(y_test, y_pred, ))\n",
    "print(\"Done\")"
   ]
  },
  {
   "cell_type": "code",
   "execution_count": null,
   "id": "951f2211-c486-4abe-b3cc-8adc0828558c",
   "metadata": {},
   "outputs": [],
   "source": []
  },
  {
   "cell_type": "code",
   "execution_count": null,
   "id": "9035bce0-6e4d-4249-81b9-e2e46e8f80d7",
   "metadata": {},
   "outputs": [],
   "source": []
  },
  {
   "cell_type": "code",
   "execution_count": null,
   "id": "6b380a84-ab31-4a08-89eb-8a6bff3c53c7",
   "metadata": {},
   "outputs": [],
   "source": []
  },
  {
   "cell_type": "code",
   "execution_count": null,
   "id": "84478c4d-09d7-4b22-bd4c-e9f2c084e142",
   "metadata": {},
   "outputs": [],
   "source": []
  },
  {
   "cell_type": "code",
   "execution_count": null,
   "id": "f6c5a907-bc7e-4d89-ba44-19a723a7a383",
   "metadata": {},
   "outputs": [],
   "source": []
  },
  {
   "cell_type": "code",
   "execution_count": null,
   "id": "f98a7080-9d7d-47e3-a83c-4c3ecc4699e1",
   "metadata": {},
   "outputs": [],
   "source": []
  },
  {
   "cell_type": "code",
   "execution_count": null,
   "id": "48a5f267-187a-4b78-980c-8e51232ec113",
   "metadata": {},
   "outputs": [],
   "source": []
  },
  {
   "cell_type": "code",
   "execution_count": null,
   "id": "deba74b3-f4b6-4dcf-b8b2-a9510d0484e9",
   "metadata": {},
   "outputs": [],
   "source": []
  },
  {
   "cell_type": "code",
   "execution_count": null,
   "id": "7bdd9d54-dc23-4190-b6e3-3e69f67a05fe",
   "metadata": {},
   "outputs": [],
   "source": []
  },
  {
   "cell_type": "code",
   "execution_count": null,
   "id": "74ef0550-cf46-471b-8a47-e6ca33cfd88b",
   "metadata": {},
   "outputs": [],
   "source": []
  },
  {
   "cell_type": "code",
   "execution_count": null,
   "id": "08ed8055-08af-4cac-bff7-a89e255da8b4",
   "metadata": {},
   "outputs": [],
   "source": []
  },
  {
   "cell_type": "code",
   "execution_count": null,
   "id": "0a7fc18e-4c5d-4656-96f7-09fbbd5a8b9c",
   "metadata": {},
   "outputs": [],
   "source": []
  },
  {
   "cell_type": "code",
   "execution_count": null,
   "id": "b25f2621-2599-4ec8-90b6-6cd25a551bb4",
   "metadata": {},
   "outputs": [],
   "source": []
  },
  {
   "cell_type": "code",
   "execution_count": null,
   "id": "f3829e94-1832-49b8-b30f-de8119624c83",
   "metadata": {},
   "outputs": [],
   "source": [
    "# ============================================================"
   ]
  },
  {
   "cell_type": "code",
   "execution_count": null,
   "id": "6877a82a",
   "metadata": {},
   "outputs": [],
   "source": [
    "# print('Starting')\n",
    "# X_train, X_test, y_train, y_test = train_test_split(X, y, test_size = 0.2, random_state = 42)\n",
    "\n",
    "# # Creating the model\n",
    "# rf_model = RandomForestClassifier()\n",
    "\n",
    "# # Hyperparameter tuning\n",
    "# param_dist = {\n",
    "#     'n_estimators': np.arange(50, 300, 50), # replaced [50, 100, 200, 300]\n",
    "#     'max_depth': [None, 10, 20, 30],\n",
    "#     'min_samples_split': [2, 5, 10],\n",
    "#     'min_samples_leaf': [1, 2, 4],\n",
    "#     'bootstrap': [True, False]\n",
    "# }\n",
    "# print(\"Done\")"
   ]
  },
  {
   "cell_type": "code",
   "execution_count": null,
   "id": "d69b6909",
   "metadata": {},
   "outputs": [],
   "source": [
    "# print('Starting')\n",
    "# # Initialize RandomizedSearchCV\n",
    "# random_search = RandomizedSearchCV(rf_model, param_distributions = param_dist, n_iter = 10, cv = 3, random_state = 224)\n",
    "\n",
    "# # Fit the model on the training data\n",
    "# random_search.fit(X_train, y_train)\n",
    "# print(\"Done\")"
   ]
  },
  {
   "cell_type": "code",
   "execution_count": null,
   "id": "da6f5260",
   "metadata": {},
   "outputs": [],
   "source": [
    "# print('Starting')\n",
    "# # Print the best hyperparameters found\n",
    "# print(\"Best Hyperparameters:\", random_search.best_params_)\n",
    "\n",
    "# # Step 9: Evaluate on Validation Set\n",
    "# # Predict on the validation set\n",
    "# y_val_pred = random_search.predict(X_test)\n",
    "\n",
    "# # Evaluate performance\n",
    "# val_accuracy = accuracy_score(y_test, y_val_pred)\n",
    "# print(\"Validation Accuracy:\", val_accuracy)\n",
    "\n",
    "# # Step 10: Adjust Model or Hyperparameters (if necessary)\n",
    "# # You can inspect the validation results and make adjustments if needed\n",
    "# print(\"Done\")"
   ]
  },
  {
   "cell_type": "code",
   "execution_count": null,
   "id": "6946d623",
   "metadata": {},
   "outputs": [],
   "source": [
    "# print('Starting')\n",
    "# # Step 11: Final Evaluation on Test Set (assuming you have X_test, y_test)\n",
    "# # Predict on the test set\n",
    "# y_test_pred = random_search.predict(X_test)\n",
    "\n",
    "# # Evaluate performance on the test set\n",
    "# test_accuracy = accuracy_score(y_test, y_test_pred)\n",
    "# print(\"Test Accuracy:\", test_accuracy)\n",
    "\n",
    "# # Step 12: Deploy the Model (if satisfied with performance)\n",
    "# # Once satisfied with the model's performance, you can deploy it for predictions on new data\n",
    "\n",
    "# print(\"Done\")"
   ]
  },
  {
   "cell_type": "code",
   "execution_count": null,
   "id": "47ec57fa",
   "metadata": {},
   "outputs": [],
   "source": [
    "# print(classification_report(y_test, y_val_pred))"
   ]
  },
  {
   "cell_type": "markdown",
   "id": "a07aa701",
   "metadata": {},
   "source": [
    "### RF GRIDSEARCHCV (HAVENT RAN YET)"
   ]
  },
  {
   "cell_type": "code",
   "execution_count": null,
   "id": "e0981a3b",
   "metadata": {},
   "outputs": [],
   "source": [
    "# print('Starting')\n",
    "# rf_param_grid = {\n",
    "#     'n_estimators': [260, 270, 280],\n",
    "#     'max_depth': [None, 10, 20],\n",
    "#     'min_samples_split': [2,5,10],\n",
    "#     'min_samples_leaf': [1, 2, 3],\n",
    "#     'bootstrap': [True, False],\n",
    "#     'max_features': ['sqrt', 'log2']\n",
    "# }\n",
    "\n",
    "# rf_model = RandomForestClassifier()\n",
    "\n",
    "# # Create a GridSearchCV object\n",
    "# grid_search = GridSearchCV(rf_model, param_grid = rf_param_grid, scoring = 'accuracy', cv = 5)\n",
    "\n",
    "# # Fit the GridSearchCV object to the data\n",
    "# grid_search.fit(X_train, y_train)\n",
    "# print(\"Done\")"
   ]
  },
  {
   "cell_type": "code",
   "execution_count": null,
   "id": "52e147ea",
   "metadata": {},
   "outputs": [],
   "source": [
    "# print('Starting')\n",
    "# # Get the best hyperparameters\n",
    "# best_params = grid_search.best_params_\n",
    "\n",
    "# # Get the best model\n",
    "# best_model = grid_search.best_estimator_\n",
    "\n",
    "# # Print the best hyperparameters\n",
    "# print(\"Best Hyperparameters:\", best_params)\n",
    "# print(\"Done\")"
   ]
  },
  {
   "cell_type": "markdown",
   "id": "5cb20391",
   "metadata": {},
   "source": [
    "### Logistic regression"
   ]
  },
  {
   "cell_type": "code",
   "execution_count": null,
   "id": "ab4ef983",
   "metadata": {},
   "outputs": [],
   "source": [
    "# X = df.drop(columns = 'language', axis = 1)\n",
    "# y = df['language']\n",
    "\n",
    "# # Split data for training and validation\n",
    "# X_train, X_test, y_train, y_test = train_test_split(X, y, test_size = 0.2, random_state = 42)"
   ]
  },
  {
   "cell_type": "code",
   "execution_count": null,
   "id": "a6949f39",
   "metadata": {},
   "outputs": [],
   "source": [
    "# lr_model = LogisticRegression()\n",
    "\n",
    "# # Define the hyperparameter search space\n",
    "# param_dist = {\n",
    "#     'C': loguniform(1e-3, 1e3),\n",
    "#     'penalty': ['l1', 'l2'],\n",
    "# }\n",
    "\n",
    "# # Create a RandomizedSearchCV object\n",
    "# random_search = RandomizedSearchCV(lr_model, param_distributions=param_dist, n_iter = 10, scoring='accuracy', cv = 5, random_state = 42)\n",
    "\n",
    "# # Fit the RandomizedSearchCV object to the training data\n",
    "# random_search.fit(X_train, y_train)"
   ]
  },
  {
   "cell_type": "code",
   "execution_count": null,
   "id": "f45f6ac0",
   "metadata": {},
   "outputs": [],
   "source": [
    "# # Get the best hyperparameters\n",
    "# best_params = random_search.best_params_\n",
    "\n",
    "# # Get the best model\n",
    "# best_model = random_search.best_estimator_\n",
    "\n",
    "# # Evaluate the best model on the test set\n",
    "# accuracy = best_model.score(X_test, y_test)\n",
    "\n",
    "# # Print the results\n",
    "# print(\"Best Hyperparameters:\", best_params)\n",
    "# print(\"Test Accuracy of Best Model:\", accuracy)"
   ]
  },
  {
   "cell_type": "code",
   "execution_count": null,
   "id": "c7654b27",
   "metadata": {},
   "outputs": [],
   "source": [
    "# y_pred = best_model.predict(X_test)\n",
    "# print(\"Classification Report:\\n\", classification_report(y_test, y_pred))"
   ]
  },
  {
   "cell_type": "code",
   "execution_count": null,
   "id": "7c0eb7cd",
   "metadata": {},
   "outputs": [],
   "source": []
  },
  {
   "cell_type": "code",
   "execution_count": null,
   "id": "633946e1",
   "metadata": {},
   "outputs": [],
   "source": []
  },
  {
   "cell_type": "code",
   "execution_count": null,
   "id": "08ec2aa3",
   "metadata": {},
   "outputs": [],
   "source": []
  },
  {
   "cell_type": "code",
   "execution_count": null,
   "id": "53f5bee7",
   "metadata": {},
   "outputs": [],
   "source": []
  },
  {
   "cell_type": "code",
   "execution_count": null,
   "id": "c67a34a0",
   "metadata": {},
   "outputs": [],
   "source": []
  },
  {
   "cell_type": "code",
   "execution_count": null,
   "id": "b4a7258d",
   "metadata": {},
   "outputs": [],
   "source": []
  },
  {
   "cell_type": "code",
   "execution_count": null,
   "id": "55d71651",
   "metadata": {},
   "outputs": [],
   "source": []
  },
  {
   "cell_type": "code",
   "execution_count": null,
   "id": "be1fa4e8",
   "metadata": {},
   "outputs": [],
   "source": []
  },
  {
   "cell_type": "code",
   "execution_count": null,
   "id": "289b5df0",
   "metadata": {},
   "outputs": [],
   "source": []
  },
  {
   "cell_type": "code",
   "execution_count": null,
   "id": "a82926df",
   "metadata": {},
   "outputs": [],
   "source": []
  },
  {
   "cell_type": "code",
   "execution_count": null,
   "id": "402f45b6",
   "metadata": {},
   "outputs": [],
   "source": []
  },
  {
   "cell_type": "code",
   "execution_count": null,
   "id": "706f7254",
   "metadata": {},
   "outputs": [],
   "source": []
  },
  {
   "cell_type": "code",
   "execution_count": null,
   "id": "86dd0fa2",
   "metadata": {},
   "outputs": [],
   "source": []
  },
  {
   "cell_type": "code",
   "execution_count": null,
   "id": "7c76fda1",
   "metadata": {},
   "outputs": [],
   "source": []
  },
  {
   "cell_type": "code",
   "execution_count": null,
   "id": "00ad1c63",
   "metadata": {},
   "outputs": [],
   "source": []
  },
  {
   "cell_type": "code",
   "execution_count": null,
   "id": "e156c8e2",
   "metadata": {},
   "outputs": [],
   "source": []
  },
  {
   "cell_type": "code",
   "execution_count": null,
   "id": "e9b833df",
   "metadata": {},
   "outputs": [],
   "source": []
  },
  {
   "cell_type": "code",
   "execution_count": null,
   "id": "03f48872",
   "metadata": {},
   "outputs": [],
   "source": []
  },
  {
   "cell_type": "code",
   "execution_count": null,
   "id": "4c08cd02",
   "metadata": {},
   "outputs": [],
   "source": []
  },
  {
   "cell_type": "code",
   "execution_count": null,
   "id": "09c0e1e4",
   "metadata": {},
   "outputs": [],
   "source": []
  },
  {
   "cell_type": "code",
   "execution_count": null,
   "id": "8e9e1dfc",
   "metadata": {},
   "outputs": [],
   "source": []
  }
 ],
 "metadata": {
  "kernelspec": {
   "display_name": "venv",
   "language": "python",
   "name": "venv"
  },
  "language_info": {
   "codemirror_mode": {
    "name": "ipython",
    "version": 3
   },
   "file_extension": ".py",
   "mimetype": "text/x-python",
   "name": "python",
   "nbconvert_exporter": "python",
   "pygments_lexer": "ipython3",
   "version": "3.9.13"
  }
 },
 "nbformat": 4,
 "nbformat_minor": 5
}
